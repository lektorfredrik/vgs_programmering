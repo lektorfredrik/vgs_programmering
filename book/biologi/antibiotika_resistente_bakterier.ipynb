{
 "cells": [
  {
   "attachments": {},
   "cell_type": "markdown",
   "metadata": {},
   "source": [
    "# Prosjekt: Simulering av Antibiotikaresistente Bakterier"
   ]
  },
  {
   "attachments": {},
   "cell_type": "markdown",
   "metadata": {},
   "source": [
    "Målet med dette prosjektet er å simulere evolusjon av antibiotika resistente bakterier og gjenskape et eksperiment gjort ved *Harvard Medical School*. Forklaringen av eksperimentet er utgangspunktet for modellen som skal brukes i dette prosjektet, så det er nødvendig å se videoen under før du går videre:"
   ]
  },
  {
   "attachments": {},
   "cell_type": "markdown",
   "metadata": {},
   "source": [
    "<iframe width=\"560\" height=\"315\" src=\"https://www.youtube.com/embed/plVk4NVIUh8\" title=\"YouTube video player\" frameborder=\"0\" allow=\"accelerometer; autoplay; clipboard-write; encrypted-media; gyroscope; picture-in-picture; web-share\" allowfullscreen></iframe>"
   ]
  },
  {
   "attachments": {},
   "cell_type": "markdown",
   "metadata": {},
   "source": [
    "Når du har løst prosjektet, vil du ha produsert simuleringer som gir resultater som i {numref}`fig-bacteria`.\n",
    "\n",
    "\n",
    "```{figure} ../../codes/biology/antibiotic_resistant_bacteria/animations/animation_grid_500X250_iterations_5000.gif\n",
    "---\n",
    "name: fig-bacteria\n",
    "---\n",
    "\n",
    "Animasjon av evolusjon av bakterier. Den rektangulære platen er delt opp i 5 soner med økende konsentrasjonsgrad med antibiotika. \n",
    "```"
   ]
  },
  {
   "attachments": {},
   "cell_type": "markdown",
   "metadata": {},
   "source": [
    "## Prosjektbeskrivelse\n",
    "\n",
    "Du skal utvikle en Python-kode som simulerer bakterier i en petriskål der det er økende konsentrasjonsgrad av antibiotika i ulike soner, slik som i eksperimentet ved Harvard Medical School. Numeriske simuleringer har i stor grad fått stor plass som en form for eksperiment der man tester ut modeller med simuleringer for å studere egenskapene til modellen og sjekke om de samsvarer med observasjoner i naturen. Relatert til evolusjonsteorien, er det spesielt to betingelser som må være tilstede for at genforrådet til en art skal endre seg slik at vi observerer evolusjon:\n",
    "\n",
    "1. **Genetisk variasjon**. Vi trenger et genforråd som har eller kan skape gener som gir forskjellige egenskaper hos arten. Mutasjon er en viktig komponent her, siden genforrådet kan endres ved at DNA til individer i en populasjon muterer og dermed endres.\n",
    "2. **Variasjon i miljø**. Vi trenger et miljø som arten lever i der noen gener gir individer egenskaper som gir de en fordel med tanke på å overleve og reprodusere seg over andre individer i arten. \n",
    "\n",
    "Som mål skal du blant lage en animasjon og en figur som kartlegger populasjonsveksten over tid."
   ]
  },
  {
   "attachments": {},
   "cell_type": "markdown",
   "metadata": {},
   "source": [
    "## Modell for bakterien"
   ]
  },
  {
   "attachments": {},
   "cell_type": "markdown",
   "metadata": {},
   "source": [
    "Her skal du sette opp modellen for bakterien og legge grunnlaget for simulering ved å skrive mindre funksjoner som løser deler av problemet. Til slutt skal du sy det sammen og simulere et system av mange bakterier. "
   ]
  },
  {
   "attachments": {},
   "cell_type": "markdown",
   "metadata": {},
   "source": [
    "### En modell for bakterien og kode for modellen"
   ]
  },
  {
   "attachments": {},
   "cell_type": "markdown",
   "metadata": {},
   "source": [
    "Tenk deg at bakteriene levere i på en rektangulær plate. Tenk deg at vi deler opp langsiden i $L$ deler og kortsiden i $K$ deler. Tilsammen kan vi da tenke oss at det finnes $L \\times K$ ruter som vi kan plassere en bakterie på. \n",
    "\n",
    "Når man skal sette lage en modell for et fysisk system, er første steg å forenkle og velge ut relevante variabler som vi tror har en effekt på hvordan systemet fungerer. I dette tilfellet er det fysiske systemet en bakterie. Hvis vi tenker oss om, bør vi i det minste passe på å ha en modell som fanger opp vanlige egenskaper hos en bakterie:\n",
    "\n",
    "1. **Bevegelse**: Modellen for bakteriene må sørge for at bakteriene kan flytte seg rundt på en måte som replikerer bevegelsesmønstre til bakterier.\n",
    "2. **Antibiotikaresistens**: Modellen for bakterien må ha en måte å representere antibiotikaresistens på.\n",
    "3. **Dødsfall**: Bakteriene er nødt til å kunne dø i populasjonen.\n",
    "4. **Reproduksjon**: Modellen for bakteriene må ta hensyn til at bakteriene kan reprodusere gjennom ukjønnet formering.\n",
    "5. **Mutasjon**: Bakteriene må kunne undergå genetiske mutasjoner slik at genetisk variasjon kan forekomme i populasjonen av bakterier."
   ]
  },
  {
   "attachments": {},
   "cell_type": "markdown",
   "metadata": {},
   "source": [
    "### Bevegelse"
   ]
  },
  {
   "attachments": {},
   "cell_type": "markdown",
   "metadata": {},
   "source": [
    "Modellen for bakteriene må sørge for at forflytningen til bakteriene reflekterer hvordan **ekte** bakterier beveger seg. I praksis, vil bevegelsesmønsteret til bakterier opptre som svært tilfeldig. En enkel modell for bevegelsen til bakterien er derfor å generere hvilken retningen den går som **helt tilfeldig**. Det viser seg at dette garanterer at bakterien vil besøke alle mulige posisjoner på den rektangulære platen, et resultat som følger fra den matematisk teorien for **virrevandring**. Du kan derfor flytte bakteriene rundt helt tilfeldig. \n",
    "\n",
    "Siden bakterien lever på en rektangulær plate med $n_x$ posisjoner langs langsiden og $n_y$ posisjoner langs kortsiden, vil bakterien kunne leve på $n_x \\times n_y$ ruter/celler i \"Universet\" til bakteriene. La oss kalle langsiden for $x$-retning og kortsiden for $y$-retning. Da kan bakterien ha posisjoner langs $x$-aksen med verdiene \n",
    "\n",
    "$$\n",
    "x = 0, 1, 2, 3, \\ldots, n_x - 1,\n",
    "$$\n",
    "\n",
    "og langs $y$-aksen \n",
    "\n",
    "$$\n",
    "y = 0, 1, 2, 3, \\ldots, n_y - 1.\n",
    "$$\n",
    "\n",
    "Vi kan derfor assosiere et koordinat $(x, y)$ som en beskrivelse av posisjonen til en bakterie på den rektangulære platen. \n",
    "\n",
    "Det er naturlig å benytte seg av et objekt i Python som heter *dictionary*, med datatype `dict`, som kan lagre denne informasjonen på følgende måte:"
   ]
  },
  {
   "cell_type": "code",
   "execution_count": 2,
   "metadata": {},
   "outputs": [],
   "source": [
    "bakterie = {\n",
    "    \"x\": 2,\n",
    "    \"y\": 3,\n",
    "}"
   ]
  },
  {
   "attachments": {},
   "cell_type": "markdown",
   "metadata": {},
   "source": [
    "I eksemplet her er `bakerie` plassert i koordinatet $(2, 3)$. Med andre ord er $x = 2$ og $y = 3$.\n",
    "Hvis vi antar at bakterien **kun** kan flytte seg én plass av gangen i $x$- og $y$-retning, vil vi kunne flytte bakterien på følgende måte:"
   ]
  },
  {
   "cell_type": "code",
   "execution_count": 3,
   "metadata": {},
   "outputs": [
    {
     "name": "stdout",
     "output_type": "stream",
     "text": [
      "{'x': 2, 'y': 3}\n"
     ]
    }
   ],
   "source": [
    "import numpy as np # bibliotek for numerisk matte\n",
    "bakterie[\"x\"] += np.random.randint(-1, 2) # Trekker tilfeldig en av tallene -1, 0 eller 1.\n",
    "bakterie[\"y\"] += np.random.randint(-1, 2)\n",
    "print(bakterie)"
   ]
  },
  {
   "attachments": {},
   "cell_type": "markdown",
   "metadata": {},
   "source": [
    "Vi kan også hente ut dataen som er lagret i `bakterie` slik:"
   ]
  },
  {
   "cell_type": "code",
   "execution_count": 4,
   "metadata": {},
   "outputs": [
    {
     "name": "stdout",
     "output_type": "stream",
     "text": [
      "x = 2\n",
      "y = 3\n"
     ]
    }
   ],
   "source": [
    "x = bakterie.get(\"x\")\n",
    "y = bakterie.get(\"y\")\n",
    "\n",
    "print(f\"{x = }\")\n",
    "print(f\"{y = }\")"
   ]
  },
  {
   "attachments": {},
   "cell_type": "markdown",
   "metadata": {},
   "source": [
    "#### Modell for antibiotikaresistens\n",
    "\n",
    "Vi må ha en måte å inkludere antibiotikaresistens i modellen for bakteriene. Vi skal gå for en enkel løsning der vi modellerer en bakterie sin grad av antibiotikaresistens som et tall mellom 0 og 1, der 0 representerer *ingen* antibiotikaresistens og 1 representerer 100% antibiotikaresistens.\n",
    "\n",
    "Vi kan derfor utvide måten vi lagrer informasjon om bakterien. En bakterie med ingen antibiotikaresistens kan for eksempel lages slik:\n"
   ]
  },
  {
   "cell_type": "code",
   "execution_count": 5,
   "metadata": {},
   "outputs": [],
   "source": [
    "bakterie = {\n",
    "    \"x\": 2,\n",
    "    \"y\": 3,\n",
    "    \"resistens\": 0,\n",
    "}"
   ]
  },
  {
   "attachments": {},
   "cell_type": "markdown",
   "metadata": {},
   "source": [
    "På samme måte som før, kan vi både endre og hente ut antibiotikaresistensen fra `bakterie`:"
   ]
  },
  {
   "cell_type": "code",
   "execution_count": 6,
   "metadata": {},
   "outputs": [
    {
     "name": "stdout",
     "output_type": "stream",
     "text": [
      "resistens = 0.1\n"
     ]
    }
   ],
   "source": [
    "bakterie[\"resistens\"] += 0.1 # Øker antibiotikaresistens med 0.1\n",
    "resistens = bakterie.get(\"resistens\") # Henter ut antibiotikaresistens fra bakterien \n",
    "print(f\"{resistens = }\")"
   ]
  },
  {
   "attachments": {},
   "cell_type": "markdown",
   "metadata": {},
   "source": [
    "#### Konsentrasjonsgrad av antibiotika og effekten på bakterien\n",
    "\n",
    "Vi kan modellere konsentrasjonsgrad av antibiotika på akkurat samme måte som vi modellerer antibiotikaresistens hos bakterien. Lar vi konsentrasjonen være et tall mellom 0 og 1 på ulike områder på den rektangulære platen, akkurat som i eksperimentet ved Harvard Medical School, så får vi gjenskapt miljøvariasjonen de hadde. Vi trenger i praksis da en funksjon som har såkalt *delt forskrift*. La konsentrasjon være en funksjon $K(x)$. Da kan den være på formen\n",
    "\n",
    "$$\n",
    "K(x) = \n",
    "\\begin{cases}\n",
    "    0, \\qquad 0 \\leq x < 0.2 n_x, \\\\\n",
    "    0.25, \\qquad 0.2 n_x \\leq x < 0.4 n_x, \\\\\n",
    "    0.5, \\qquad 0.4 n_x \\leq x < 0.6 n_x, \\\\\n",
    "    0.75, \\qquad 0.6 n_x \\leq x < 0.8 n_x, \\\\\n",
    "    0.99, \\qquad 0.8 n_x \\leq x < n_x, \\\\\n",
    "\\end{cases}\n",
    "$$\n",
    "der $x$ er $x$-koordinaten til bakterien.\n",
    "Da vil vi ha **fem soner** med økende grad av antibiotikakonsentasjon. For å sjekke hvilken konsentrasjon en gitt bakterie lever i, kan du bruke en Pythonfunksjon som tar inn bakterien sin $x$-koordinat og returnerer antibiotikakonsentrasjonen.\n",
    "\n",
    "*For å lage en slik funksjon, kan du ta utgangspunkt i kodeskallet under. Du må fylle inn der det står `NotImplemented`*"
   ]
  },
  {
   "cell_type": "code",
   "execution_count": null,
   "metadata": {},
   "outputs": [],
   "source": [
    "def antibiotika_konsentrasjon(x, nx):\n",
    "    if 0 <= x < 0.2 * nx:\n",
    "        return 0\n",
    "    elif 0.2 * nx <= x < 0.4 * nx:\n",
    "        return 0.25\n",
    "    elif NotImplemented:\n",
    "        return NotImplemented\n",
    "    elif NotImplemented:\n",
    "        return NotImplemented\n",
    "    else:\n",
    "        return NotImplemented"
   ]
  },
  {
   "attachments": {},
   "cell_type": "markdown",
   "metadata": {},
   "source": [
    "````{dropdown} Løsningsforslag\n",
    "\n",
    "```python\n",
    "def antibiotika_konsentrasjon(x, nx):\n",
    "    if 0 <= x < 0.2 * nx:\n",
    "        return 0\n",
    "    elif 0.2 * nx <= x < 0.4 * nx:\n",
    "        return 0.25\n",
    "    elif 0.4 * nx <= x < 0.6 * nx:\n",
    "        return 0.5\n",
    "    elif 0.6 * nx <= x < 0.8 * nx:\n",
    "        return 0.75\n",
    "    else:\n",
    "        return 0.99\n",
    "```\n",
    "\n",
    "````"
   ]
  },
  {
   "attachments": {},
   "cell_type": "markdown",
   "metadata": {},
   "source": [
    "### Hvordan dør bakteriene?"
   ]
  },
  {
   "attachments": {},
   "cell_type": "markdown",
   "metadata": {},
   "source": [
    "Bakterier har ingen form for alderdom, så i en modell for bakterien, holder at vi sjekker om antibiotikaresistensen tar livet av bakterien eller ikke. \n",
    "La $r$ være antibiotikaresistensen til en bakterie og $x$ være den posisjon, og $K(x)$ være konsentrasjon av antibiotika i $x$. En logisk måte å modellere hvorvidt en bakterie skal dø er slik:\n",
    "\n",
    "1. Dersom konsentrasjonen er mindre enn eller lik resistensen, så overlever bakterien uansett.\n",
    "2. Dersom konsentrasjonen er større enn resistensen, så har bakterien en viss sjanse for å overleve og en viss sjanse for å dø. Jo større forskjellen er mellom resistensen og konsentrasjonen, jo høyere er sjansen for å dø. \n",
    "\n",
    "Punkt nr. 2 kan oppnås ved å benytte seg av noe som kalles for **slice sampling**. \n",
    "\n",
    "```{prf:algorithm} Bakteriedrap\n",
    ":label: algo-bakteriedrap\n",
    "\n",
    "**Input** Antibitiokaresistens $r$, posisjon $x$\n",
    "\n",
    "\n",
    "1. Regn ut konsentrasjon av antibiotika i $x$ med $K(x)$.\n",
    "2. Hvis $r \\geq K(x)$, så overlever bakterien.\n",
    "3. Hvis $r < K(x)$:\n",
    "    - Trekk et tilfeldig tall $u$ mellom 0 og 1.\n",
    "    - Dersom $u \\geq K(x) - r$, så overlever bakterien. Hvis ikke dør den.\n",
    "```\n",
    "\n",
    "*Du ta utgangspunkt i kodeskallet for en funksjon `bakteriedrap` som implementerer denne algoritmen. Du må fylle inn der det står `NotImplemented`.*"
   ]
  },
  {
   "cell_type": "code",
   "execution_count": 9,
   "metadata": {},
   "outputs": [],
   "source": [
    "import numpy as np # må importeres for å kunne bruke funksjonen.\n",
    "def bakteriedrap(bakterie):\n",
    "    \"\"\"Tar inn en bakterie sjekker om den skal dø. \n",
    "    Returnerer `False` hvis bakterien skal overleve, og `True` hvis den skal dø.\n",
    "    \"\"\"\n",
    "    x = bakterie.get(\"x\")\n",
    "    resistens = bakterie.get(\"resistens\")\n",
    "    if resistens >= antibiotika_konsentrasjon(x):\n",
    "        return False # Returner false, ikke drep bakterien!\n",
    "    else:\n",
    "        u = np.random.uniform() # tilfeldig tall mellom 0 og 1.\n",
    "        if NotImplemented:\n",
    "            return NotImplemented\n",
    "        else:\n",
    "            return NotImplemented"
   ]
  },
  {
   "attachments": {},
   "cell_type": "markdown",
   "metadata": {},
   "source": [
    "````{dropdown} Løsningsforslag\n",
    "\n",
    "```python\n",
    "import numpy as np # må importeres for å kunne bruke funksjonen.\n",
    "def bakteriedrap(bakterie):\n",
    "    \"\"\"Tar inn en bakterie sjekker om den skal dø. \n",
    "    Returnerer `False` hvis bakterien skal overleve, og `True` hvis den skal dø.\n",
    "    \"\"\"\n",
    "    x = bakterie.get(\"x\")\n",
    "    resistens = bakterie.get(\"resistens\")\n",
    "    if resistens >= antibiotika_konsentrasjon(x):\n",
    "        return False # Returner false, ikke drep bakterien!\n",
    "    else:\n",
    "        u = np.random.uniform() # tilfeldig tall mellom 0 og 1.\n",
    "        if u >= antibiotika_konsentrasjon(x) - resistens:\n",
    "            return False # Ikke drep bakterien\n",
    "        else:\n",
    "            return True # Drep bakterien\n",
    "```\n",
    "\n",
    "````"
   ]
  },
  {
   "attachments": {},
   "cell_type": "markdown",
   "metadata": {},
   "source": [
    "### Hvordan lagre flere bakterier av gangen? \n",
    "\n",
    "Hvis vi skal få simulert tidsutviklingen til en populasjon av bakterier som kan variere i størrelse, er vi nødt til å ha en måte å lagre flere bakterier på én gang. Vi trenger en **beholder** vi kan plassere mange `bakterie`-objekter inn i. Vi har allerede benyttet én type beholder så langt for å lagre informasjon om én bakterie med en `dict`, men når vi ikke bryr oss om å navngi inneholdet i beholderen, er det mer naturlig å bruke en liste som i Python har datatypen `list`. \n",
    "\n",
    "For eksempel kan vi lagre to bakterier slik:"
   ]
  },
  {
   "cell_type": "code",
   "execution_count": 10,
   "metadata": {},
   "outputs": [],
   "source": [
    "bakterier = [\n",
    "    {\n",
    "        \"x\": 2, \n",
    "        \"y\": 3, \n",
    "        \"resistens\": 0,\n",
    "    },\n",
    "    {\n",
    "        \"x\": 3,\n",
    "        \"y\": 5,\n",
    "        \"resistens\": 0.1,\n",
    "    }\n",
    "]"
   ]
  },
  {
   "attachments": {},
   "cell_type": "markdown",
   "metadata": {},
   "source": [
    "Vi kan da printe ut alle informasjonen om bakteriene slik:"
   ]
  },
  {
   "cell_type": "code",
   "execution_count": 16,
   "metadata": {},
   "outputs": [
    {
     "name": "stdout",
     "output_type": "stream",
     "text": [
      "{'x': 2, 'y': 3, 'resistens': 0}\n",
      "{'x': 3, 'y': 5, 'resistens': 0.1}\n"
     ]
    }
   ],
   "source": [
    "print(*bakterier, sep=\"\\n\")"
   ]
  },
  {
   "attachments": {},
   "cell_type": "markdown",
   "metadata": {},
   "source": [
    "Men hvis vi skal ha svært mange bakterier, er det greit om vi kan benytte oss av en bedre løsning for å skrive inn bakteriene. Det er naturlig å tilfeldig generere posisjonene til bakteriene (men passe på at de starter i sonen uten antibiotika, dvs. sone 0) og sette `resistens=0` i starten av simuleringen. \n",
    "\n",
    "Under ser du et eksempel på hvordan dette kan gjøres ved å sette inn 5 bakterier på tilfeldig posisjoner i sone 0 ($0 \\leq x < 0.2n_x$), der $n_x = 200$ og $n_y = 100$."
   ]
  },
  {
   "cell_type": "code",
   "execution_count": 19,
   "metadata": {},
   "outputs": [
    {
     "name": "stdout",
     "output_type": "stream",
     "text": [
      "{'x': 29, 'y': 60, 'resistens': 0}\n",
      "{'x': 10, 'y': 25, 'resistens': 0}\n",
      "{'x': 12, 'y': 19, 'resistens': 0}\n",
      "{'x': 3, 'y': 92, 'resistens': 0}\n",
      "{'x': 2, 'y': 27, 'resistens': 0}\n"
     ]
    }
   ],
   "source": [
    "import numpy as np # nødvendig python bibliotek for å trekke tilfeldige tall. Plasseres på toppen av koden din\n",
    "antall_bakterier = 5\n",
    "nx = 200 # Antall celler i x-retning\n",
    "ny = 100 # Antall celler i y-retning\n",
    "bakterier = [\n",
    "    {\"x\": np.random.randint(0, 0.2*nx), \"y\": np.random.randint(0, ny), \"resistens\": 0} for _ in range(antall_bakterier)\n",
    "]\n",
    "print(*bakterier, sep=\"\\n\")"
   ]
  },
  {
   "attachments": {},
   "cell_type": "markdown",
   "metadata": {},
   "source": [
    "### Reproduksjon\n",
    "\n",
    "En egenskap vi må ta hensyn til i en populasjon av bakterier er at når antall bakterier i populasjonen blir svært høy (og nærmer seg det maksimale antallet individer som kan overleve i økosystemet), så vil sannsynligheten for at en bakterie i populasjon får reprodusere bli svært lav. Dersom det er få individerer i populasjonen, derimot, vil sannsynligheten for reproduksjon av en tilfeldig bakterie være høy. Vi forventer at populasjonen følger en logistisk vekst, og vi kan sørge for at populasjonsveksten tilfredstiller en slik modell ved å benytte en sannsynlighetsfordeling for at en tilfeldig bakterie reproduserer, som følger:\n",
    "\n",
    "$$\n",
    "p(n) = 2\\left( 1 - \\frac{1}{1 + e^{-b\\cdot n}} \\right), \\qquad n \\geq 0,\n",
    "$$\n",
    "\n",
    "der $n$ er antall individerer i bakteriepopulasjonen og $b$ er en parameter som bestemmer bæreevnene til populasjonen.\n",
    "\n",
    "Vi kan ta en titt på hvordan denne fordelingen ser ut:"
   ]
  },
  {
   "cell_type": "code",
   "execution_count": 1,
   "metadata": {},
   "outputs": [
    {
     "data": {
      "image/png": "[encoded data removed]",
      "text/plain": [
       "<Figure size 640x480 with 1 Axes>"
      ]
     },
     "metadata": {},
     "output_type": "display_data"
    }
   ],
   "source": [
    "import matplotlib.pyplot as plt\n",
    "import numpy as np\n",
    "def p(n, b):\n",
    "    return 2 * (1 - 1/(1 + np.exp(-b*n)))\n",
    "\n",
    "n = np.linspace(0, 1000, 1000)\n",
    "plt.plot(n, p(n, b=0.01))\n",
    "plt.xlabel(\"$n$\")\n",
    "plt.ylabel(\"$p(n, b=0.01)$\")\n",
    "plt.grid(True)\n",
    "plt.show()"
   ]
  },
  {
   "attachments": {},
   "cell_type": "markdown",
   "metadata": {},
   "source": [
    "#### Hvordan sjekke om en bakterie kan reprodusere?\n",
    "\n",
    "For å sjekke om en bakterie kan reprodusere, må du hente ut hvor mange bakterier som er i populasjonen. Vi skal se på hvordan vi gjør det senere. For nå, la oss bare anta at antall bakterier i populasjonen er $n$. For å sjekke om en bakterie for reprodusere, trekker vi da et tilfeldig tall $u$ mellom $0$ og $1$ (som vi kan gjøre med `u = np.random.uniform()`). Da gjelder følgende:\n",
    "\n",
    "1. Hvis $p(n) > u$ så får bakterien reprodusert.\n",
    "2. Hvis ikke er det for vanskelig for bakterien å reprodusere, og ingen reproduksjon vil skje."
   ]
  },
  {
   "attachments": {},
   "cell_type": "markdown",
   "metadata": {},
   "source": [
    "### En algoritme for tidsutviklingen av bakteriene\n",
    "\n",
    "Nå har vi satt sammen modellen som gir oss grunnlaget for å lage en algoritme for tidsutviklingen til bakteriene. Tidsutviklingen av bakteriepopulasjonen kan simuleres med {prf:ref}`algo-bakteriepopulasjon`. Den inneholder alle de grunnleggende stegene vi må gjennom. Hvert tidssteg $t$ kan tenkes på som hvilken generasjon vi er på i bakteriepopulasjonen. \n",
    "\n",
    "```{prf:algorithm} Tidsutvikling av bakteriepopulasjon\n",
    ":label: algo-bakteriepopulasjon\n",
    "\n",
    "**Input**: Antall bakterier $N$, antall tidssteg $T$.\n",
    "\n",
    "1. Lag $N$ bakterier.\n",
    "2. for $t = 0, 1, 2, ..., T$:\n",
    "    - for hver bakterie $b$:\n",
    "        - Flytt $b$ én plass i en tilfeldig retning.\n",
    "        - Oppdater posisjonen til alle bakteriene.\n",
    "        - Hvis $b$ kan reprodusere:\n",
    "            - Lag en ny bakterie $b'$ med samme posisjon som $b$.\n",
    "            - Legg $b'$ til i bakteriepopulasjonen.\n",
    "        - Hvis $b$ skal dø:\n",
    "            - Fjern $b$ fra bakteriepopulasjonen.\n",
    "```"
   ]
  },
  {
   "attachments": {},
   "cell_type": "markdown",
   "metadata": {},
   "source": [
    "## Prosjektmål\n",
    "\n",
    "Når man skriver en kode for større prosjekter, er det god kodepraksis å skrive funksjoner som gjør én spesifikk bit av algoritmen. Deretter vil hovedkoden bestå av kall til funksjonene i riktig rekkefølge for å gjennomføre algoritmen. En fordel med dette er at du kan teste hver funksjon for seg, og du kan gjenbruke funksjonene i andre prosjekter. Hvis noe går galt i koden, er det også lettere å finne ut hvor feilen ligger.\n",
    "\n",
    "Fra {prf:ref}`algo-bakteriepopulasjon` kan vi se at vi trenger funksjoner for å:\n",
    "\n",
    "1. Lage $N$ bakterier til å starte med.\n",
    "    - Trengs underliggende funksjon som lager én bakterie. \n",
    "2. Flytte en bakterie én plass.\n",
    "3. Sjekke om en bakterie kan reprodusere.\n",
    "4. Sjekke om en bakterie skal dø.\n",
    "5. Fjerne en bakterie fra populasjonen.\n",
    "\n",
    "\n",
    "*Under finner du et kodeskall for å løse prosjektet. Du kan bruke det som utgangspunkt for å løse prosjektet, eller du kan lage din egen kode fra bunnen av. I kodeskallet må du fylle inn alle plasser det står `NotImplemented` eller `pass`* "
   ]
  },
  {
   "cell_type": "code",
   "execution_count": 8,
   "metadata": {},
   "outputs": [],
   "source": [
    "def lag_bakterie(x: int, y: int, resistens: float) -> dict:\n",
    "    \"\"\"Lager en bakterie med gitt x- og y-koordinat og resistens.\n",
    "\n",
    "    Args:\n",
    "        x (int): x-koordinatet til bakterien\n",
    "        y (int): y-koordinatet til bakterien\n",
    "        resistens (float): antibiotikaresistens til bakterien\n",
    "\n",
    "    Returns:\n",
    "        dict: En bakterie\n",
    "    \"\"\"\n",
    "    return NotImplemented"
   ]
  },
  {
   "cell_type": "code",
   "execution_count": 3,
   "metadata": {},
   "outputs": [],
   "source": [
    "def lag_populasjon(antall_bakterier: int, nx: int, ny: int) -> list:\n",
    "    \"\"\"Lager en liste med bakterier med tilfeldige x- og y-koordinater og resistens.\n",
    "    \n",
    "    Parametere\n",
    "    ----------\n",
    "    antall_bakterier : int\n",
    "        Antall bakterier som skal lages.\n",
    "\n",
    "    nx : int\n",
    "        Antall celler i x-retning.\n",
    "\n",
    "    ny : int\n",
    "        Antall celler i y-retning.\n",
    "\n",
    "    Returverdi\n",
    "    ----------\n",
    "    list\n",
    "        Liste med bakterier.\n",
    "    \"\"\"\n",
    "    return NotImplemented"
   ]
  },
  {
   "cell_type": "code",
   "execution_count": 10,
   "metadata": {},
   "outputs": [],
   "source": [
    "import numpy as np # nødvendig python bibliotek for å trekke tilfeldige tall. Plasseres på toppen av koden din\n",
    "\n",
    "def flytt(bakterie: dict, nx: int, ny: int) -> dict:\n",
    "    \"\"\"Flytter en bakterie til en tilfeldig celle i nærheten.\n",
    "    \n",
    "    Parametere\n",
    "    ----------\n",
    "    bakterie : dict\n",
    "        Bakterien som skal flyttes.\n",
    "    \n",
    "    nx : int\n",
    "        Antall celler i x-retning.\n",
    "\n",
    "    ny : int\n",
    "        Antall celler i y-retning.\n",
    "    \n",
    "    Returverdi\n",
    "    ----------\n",
    "    dict\n",
    "        Bakterien som er flyttet.\n",
    "    \n",
    "    \"\"\"\n",
    "    return NotImplemented"
   ]
  },
  {
   "cell_type": "code",
   "execution_count": 13,
   "metadata": {},
   "outputs": [],
   "source": [
    "import numpy as np # må importeres for å kunne bruke funksjonen. Plasseres på toppen av koden din.\n",
    "\n",
    "def bakteriedrap(bakterie: dict) -> bool:\n",
    "    \"\"\"Tar inn en bakterie sjekker om den skal dø. \n",
    "    Returnerer `False` hvis bakterien skal overleve, og `True` hvis den skal dø.\n",
    "\n",
    "    Args:\n",
    "        bakterie (dict): Bakterien som skal sjekkes.\n",
    "\n",
    "    Returns:\n",
    "        bool: `False` hvis bakterien skal overleve, og `True` hvis den skal dø.\n",
    "\n",
    "    \"\"\"\n",
    "    x = bakterie.get(\"x\")\n",
    "    resistens = bakterie.get(\"resistens\")\n",
    "    if resistens >= antibiotika_konsentrasjon(x):\n",
    "        return False # Returner false, ikke drep bakterien!\n",
    "    else:\n",
    "        u = np.random.uniform() # tilfeldig tall mellom 0 og 1.\n",
    "        if NotImplemented:\n",
    "            return NotImplemented\n",
    "        else:\n",
    "            return NotImplemented"
   ]
  },
  {
   "cell_type": "code",
   "execution_count": 14,
   "metadata": {},
   "outputs": [],
   "source": [
    "import numpy as np # Plasser import statement på toppen av koden din.\n",
    "\n",
    "def p(n: int, b: float) -> float:\n",
    "    \"\"\"Sannsynligheten for at en bakterie kan reprodusere.\n",
    "\n",
    "    Args:\n",
    "        n (int): Antall bakterier i populasjonen.\n",
    "        b (float): Bakterienes bæreevne.\n",
    "\n",
    "    Returns:\n",
    "        float: Sannsynligheten for at en bakterie kan reprodusere.\n",
    "    \"\"\"\n",
    "    return NotImplemented"
   ]
  }
 ],
 "metadata": {
  "kernelspec": {
   "display_name": "Python 3",
   "language": "python",
   "name": "python3"
  },
  "language_info": {
   "codemirror_mode": {
    "name": "ipython",
    "version": 3
   },
   "file_extension": ".py",
   "mimetype": "text/x-python",
   "name": "python",
   "nbconvert_exporter": "python",
   "pygments_lexer": "ipython3",
   "version": "3.11.4"
  },
  "orig_nbformat": 4
 },
 "nbformat": 4,
 "nbformat_minor": 2
}
