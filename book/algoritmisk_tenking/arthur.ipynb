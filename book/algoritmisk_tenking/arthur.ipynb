{
 "cells": [
  {
   "cell_type": "markdown",
   "metadata": {},
   "source": [
    "# Hvordan løse problemer med programmering\n",
    "\n",
    "**Hjernen bak: Fredrik Wold** <br>\n",
    "For å få en bedre forståelse av dataprogrammer tar vi for oss et selvskrevet program som vi kaller for *Arthur*. <br>\n",
    "Arthuer kan verken \"forstå\" eller \"analysere\" et problem, men er veldig rask på gjennomføring av tydelige instrukser. <br>\n",
    "For at Arthur skal kunne hjelpe oss med å løse et problem, må vi spesifisere \n",
    "\n",
    "1. Hvor Arthur skal starte. Dette er gjerne kalt for **startbetingelser** eller **initialbetingelser**. \n",
    "2. Deretter må vi beskrive hvordan Arthuer skal jobbe diere for å lete etter et ønsket resultatet. Dette kalles gjerne for **algoritmen**. \n",
    "\n",
    "## Problemet\n",
    "Vi ser for oss det matematiske problemet under.\n",
    "\n",
    "````{admonition} Det matematiske problemet\n",
    ":class: tip\n",
    "Løs ligningssystemet\n",
    "\n",
    "\\begin{align*}\n",
    "    x + y & = 10 \\\\\n",
    "    2x - y & = 8\n",
    "\\end{align*}\n",
    "\n",
    "```{figure} ./ligningssystem1.pdf\n",
    "---\n",
    "name: ligningssystem1\n",
    "width: 600px\n",
    "---\n",
    "Figuren viser hvordan ligningssystemet kan tolkes grafisk som skjæringspunktet mellom linjene $x + y = 10$ og $2x - y = 8$.\n",
    "```\n",
    "\n",
    "````"
   ]
  },
  {
   "cell_type": "markdown",
   "metadata": {},
   "source": [
    "Hvis vi skal få Arthur til å løse dette problemet for oss, så kan vi lage en såkalt *brute-force*-løsning som krever svært lite forståelse av problemet.\n",
    "\n",
    "En brute-force-løsningsmetode her kan være å prøve alle mulige verdier for $x$ og $y$, og undersøke hvilke verdier som oppfyller de to ligningene samtidig.\n",
    "\n",
    "En algoritme for denne tilnærmingen kan da se slik ut:\n",
    "\n",
    "```{mermaid}\n",
    "flowchart LR\n",
    "\n",
    "A[Start] --> B[Sett startbetingelser x =-100 og y=-100]\n",
    "B --> C{Er ligningene oppfylt?}\n",
    "C --> |Ja| D[Skriv ut verdiene til x og y] --> J\n",
    "C --> |Nei| E{Er y < 101?}\n",
    "E --> |Nei| J[Slutt]\n",
    "\n",
    "\n",
    "E --> |Ja| F[Øk y med 1]\n",
    "F --> G{Er x < 101?}\n",
    "G --> |Ja| H[Øk x med 1]\n",
    "G --> |Nei| E\n",
    "H --> I{Er ligningene oppfylt?}\n",
    "I --> |Ja| D\n",
    "I --> |Nei| G\n",
    "\n",
    "\n",
    "\n",
    "```"
   ]
  },
  {
   "cell_type": "markdown",
   "metadata": {},
   "source": [
    "Et program som skriver den koden akkurat om den står ser slik ut:\n"
   ]
  },
  {
   "cell_type": "code",
   "execution_count": 1,
   "metadata": {},
   "outputs": [
    {
     "name": "stdout",
     "output_type": "stream",
     "text": [
      "Ligningssystemet er oppfylt når x = 6 og y = 4\n"
     ]
    }
   ],
   "source": [
    "x_start = -100\n",
    "x_slutt = 100\n",
    "\n",
    "y_start = -100\n",
    "y_slutt = 100\n",
    "\n",
    "funnet_løsning = False # Holder styr på om vi har funnet en løsning \n",
    "\n",
    "# Velger å teste ut alle heltall y fra og med -100 til og med 100\n",
    "for y in range(y_start, y_slutt + 1):\n",
    "\n",
    "    # For hver y-verdi, tester vi alle heltallige x-verdier fra og med -100 til og med 100\n",
    "    for x in range(x_start, x_slutt + 1):\n",
    "\n",
    "        # Dersom begge ligninger er oppfylt:\n",
    "        if x + y == 10 and 2*x - y == 8:\n",
    "            funnet_løsning = True\n",
    "            print(f\"Ligningssystemet er oppfylt når {x = } og {y = }\")\n",
    "            break\n",
    "    \n",
    "    # Hvis løsningen er funnet, så er `funnet_løsning = True`\n",
    "    # Da vil den avbryte programmet her.\n",
    "    if funnet_løsning:\n",
    "        break\n",
    "\n"
   ]
  },
  {
   "cell_type": "markdown",
   "metadata": {},
   "source": [
    "````{admonition} Svakheter med programmet\n",
    ":class: tip\n",
    "Programmet har flere svakheter.\n",
    "* Det er ingen analyse for å avgjøre hvilket område Arthur bør lete etter løsningene. Hva tror du ville skjedd hvis skjæringspunktet mellom de to linjene var i $(101, 5)$? \n",
    "* Programmet sjekker kun heltallsverdier for $x$ og $y$. Dette vil fungerere med noen få ligningssystemer, men svært ofte er det slik at en eller flere av løsningene ikke er heltall.\n",
    "* Programmet utnytter ikke at begge ligninger må oppfylles samtidig. \n",
    "````"
   ]
  },
  {
   "cell_type": "markdown",
   "metadata": {},
   "source": [
    "## Utfordring 1\n",
    "\n",
    "Ta for deg én av svakhetene og forbedre koden."
   ]
  },
  {
   "cell_type": "markdown",
   "metadata": {},
   "source": [
    "## Utfordring 2\n",
    "\n",
    "Ta for deg problemet under.\n",
    "\n",
    "````{admonition} Problemet\n",
    ":class: warning\n",
    "\n",
    "Løs ligningssystemet\n",
    "\n",
    "\\begin{align*}\n",
    "    y & = x**2 - 4x + 4\n",
    "    2y + x & = 8\n",
    "\\end{align*}\n",
    "\n",
    "```{figure} ./ligningssystem2.pdf\n",
    "---\n",
    "name: ligningssystem2\n",
    "width: 600px\n",
    "---\n",
    "Figuren viser hvordan ligningssystemet kan tolkes grafisk som skjæringspunktet mellom kurvene $y = x^2 - 4x + 4$ og $2y + x = 8$.\n",
    "```\n",
    "\n",
    "````"
   ]
  }
 ],
 "metadata": {
  "kernelspec": {
   "display_name": "Python 3",
   "language": "python",
   "name": "python3"
  },
  "language_info": {
   "codemirror_mode": {
    "name": "ipython",
    "version": 3
   },
   "file_extension": ".py",
   "mimetype": "text/x-python",
   "name": "python",
   "nbconvert_exporter": "python",
   "pygments_lexer": "ipython3",
   "version": "3.11.6"
  }
 },
 "nbformat": 4,
 "nbformat_minor": 2
}
