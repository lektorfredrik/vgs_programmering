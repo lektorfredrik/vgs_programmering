{
 "cells": [
  {
   "attachments": {},
   "cell_type": "markdown",
   "metadata": {},
   "source": [
    "# Praktiske Anvendelser av Rekker med Python"
   ]
  },
  {
   "attachments": {},
   "cell_type": "markdown",
   "metadata": {},
   "source": [
    "Når du lærer om teorien om rekker i matematikk R2 og S2, er praktiske anvendelser en sentral del av teorien. I denne seksjonen skal vi se på hvordan vi kan løse praktiske problemer ved hjelp av programmering av rekkene.\n",
    "\n",
    "Vi skal se på:\n",
    "1. Medikamenter i blodet\n",
    "2. Annuitetslån\n",
    "\n"
   ]
  },
  {
   "attachments": {},
   "cell_type": "markdown",
   "metadata": {},
   "source": [
    "## Medikamenter i blodet\n",
    "\n",
    "En typisk problemstilling handler om at man regelmessig tar en dose $M_0$ av et medikament som brytes ned i kroppen med en fast nedbrytningsrate. Vi kan i praksis finne en formel for dette å evaluere denne formelen for å finne ut hvor mye medikament som er i blodet til enhver tid."
   ]
  },
  {
   "attachments": {},
   "cell_type": "markdown",
   "metadata": {},
   "source": [
    "### Eksempel 1\n",
    "\n",
    "Tenk deg at du tar en dose $M_0 = 400 \\ \\text{mg}$ med Paracet én gang i døgnet. Per time brytes det ned 29 % av virkestoffet i blodplasma. Hva er den største mengden virkestoff du har i kroppen over lang tid? \n",
    "\n",
    "Virkestoffet brytes ned med 29 % per time, som gir en vekstfaktor $V = 1 - 0.29 = 0.71$ per time. En dose vil da ha en vekstfaktor på $V^24$ per døgn (fordi det 24 timer i døgnet). En strategi for å regne ut virkestoffet i kroppen over tid vises i {prf:ref}`algo-paracet-daglig-dose`.\n",
    "\n",
    "```{prf:algorithm} Nedbrytning av virkestoff per døgn\n",
    ":label: algo-paracet-daglig-dose\n",
    "\n",
    "__Input__: Daglig dose $M_0$, nedbrytning i prosent per time $r$, antall døgn $n$.\n",
    "\n",
    "__Output__: Mengde virkestoff i kroppen $M$ etter $n$ døgn.\n",
    "\n",
    "\n",
    "- Sett $M = M_0$\n",
    "- Sett $V = 1 - r/100$ \n",
    "- Sett $k = V^{24}$ \n",
    "- For $i = 1, 2, \\ldots, n$:\n",
    "    - Sett $M = k \\cdot M$ *(Nedbrytning av virkestoff)*\n",
    "    - Sett $M = M + M_0$  *(Ny dose)*    \n",
    "- Returner $M$\n",
    "\n",
    "```\n",
    "\n",
    "Vi kan implementere algoritmen med en Pythonkode slik:"
   ]
  },
  {
   "cell_type": "code",
   "execution_count": 7,
   "metadata": {},
   "outputs": [
    {
     "name": "stdout",
     "output_type": "stream",
     "text": [
      "M = 400.11 mg.\n"
     ]
    }
   ],
   "source": [
    "M_0 = 400 # daglig dose i mg.\n",
    "r = 29 # Nedbrytning i prosent per time.\n",
    "vekstfaktor = 1 - r/100 # vekstfaktor per time\n",
    "k = vekstfaktor**24 # vekstfaktor per døgn\n",
    "n = 100 # Antall døgn\n",
    "\n",
    "M = M_0 # startdose ved første døgn\n",
    "for _ in range(n):\n",
    "    M = M * k # nedbrytning av stoffet over ett døgn\n",
    "    M = M + M_0 # Ny dose legges til virkestoffet i kroppen\n",
    "\n",
    "print(f\"{M = :.2f} mg.\") # skriver ut med 2 desimaler"
   ]
  },
  {
   "attachments": {},
   "cell_type": "markdown",
   "metadata": {},
   "source": [
    "### Eksempel 2: En dose av paracet hver 6.time\n",
    "\n",
    "Et mer realistisk eksempel er at man tar to tabletter med paracet hver 6.time som tilsvarer 1000 mg. Nedbrytningen per time er på 29% av dosen. \n",
    "Hva er den største mengden virkestoff du har i kroppen over lang tid?\n",
    "\n",
    "Vi kan modifisere algoritmen litt for å løse dette problemet, som vises i {prf:ref}`algo-paracet-two`.\n",
    "\n",
    "```{prf:algorithm} Nedbrytning av Paracet ved inntak hver 6.time.\n",
    ":label: algo-paracet-two\n",
    "\n",
    "__Input__: Dose $M_0$ hver 6.time, nedbrytning i prosent per time $r$, antall døgn $n$.\n",
    "\n",
    "__Output__: Mengde virkestoff i kroppen $M$ etter $n$ døgn.\n",
    "\n",
    "\n",
    "- Sett $M = M_0$\n",
    "- Sett $V = 1 - r/100$ \n",
    "- Sett $k = V^6$ *(Vekstfaktor for nedbrytning per 6.time)* \n",
    "- Sett $M = M_0$ *(Første dose)*\n",
    "- Sett $M_\\text{max} = M$ *(Høyeste dose så langt)*. \n",
    "- For $i = 1, 2, \\ldots, n$:\n",
    "    - Sett $M = k \\cdot M$ *(Nedbrytning av virkestoff)*\n",
    "    - Sett $M = M + M_0$  *(Ny dose)*    \n",
    "    - If $M > M_\\text{max}$: *(Hvis dosen er nå høyere enn forrige maksdose)*\n",
    "        - Sett $M_\\text{max} = M$ *(Sett ny maksdose)*\n",
    "- Returner $M_\\text{max}$\n",
    "```\n",
    "\n",
    "Vi kan regne ut dette med følgende kode:"
   ]
  },
  {
   "cell_type": "code",
   "execution_count": 8,
   "metadata": {},
   "outputs": [
    {
     "name": "stdout",
     "output_type": "stream",
     "text": [
      "M_max = 1146.92 mg.\n"
     ]
    }
   ],
   "source": [
    "M0 = 1000 # mg dose per 6.time\n",
    "r = 29 # Nedbrytning i prosent per time.\n",
    "vekstfaktor = 1 - r/100 # vekstfaktor per time\n",
    "k = vekstfaktor**6 # vekstfaktor per 6.time\n",
    "n = 100 # Antall 6.timer\n",
    "\n",
    "M = M0 # startdose ved første 6.time\n",
    "M_max = M \n",
    "for _ in range(n):\n",
    "    M = M * k # nedbrytning av stoffet over ett 6.time\n",
    "    M = M + M0 # Ny dose legges til virkestoffet i kroppen\n",
    "    M_max = max(M, M_max) # henter ut den største verdien av `M` og `M_max`.\n",
    "\n",
    "print(f\"{M_max = :.2f} mg.\") # skriver ut med 2 desimaler"
   ]
  },
  {
   "attachments": {},
   "cell_type": "markdown",
   "metadata": {},
   "source": [
    "## Nedbetaling av lån\n",
    "\n",
    "En annen typisk anvendelse av rekker er nedbetaling av lån. Vi kan formulere en algoritme for dette som vises i {prf:ref}`algo-annuitetslaan`.\n",
    "\n",
    "```{prf:algorithm} Nedbetaling av lån\n",
    ":label: algo-annuitetslaan\n",
    "\n",
    "__Input__: Lånebeløp $L_0$, rente $r$, antall terminer $n$, terminbeløp $x$.\n",
    "\n",
    "__Output__: Gjenstående lån $L_0$ etter $n$ terminer.\n",
    "\n",
    "\n",
    "- Sett $L = L_0$\n",
    "- Sett $V = 1 + r/100$\n",
    "- `for` $i = 1, 2, \\ldots, n$:\n",
    "    - Sett $L = L\\cdot V$ *(Lånet øker med renten)*\n",
    "    - Sett $L = L - x$ *(Lånet reduseres med terminbeløpet)*\n",
    "- `return` $L$ *(Gjenstående lån)*\n",
    "\n",
    "```\n",
    "\n",
    "Målet vårt er å se på hvordan vi kan bestemme hvilket terminbeløp vi skal betale ved å bruke {prf:ref}`algo-annuitetslaan`. Vi kan gjøre dette ved å løse likningen $L = 0$ for $x$. Og selv om vi har sett på effektive metoder for å gjøre dette i [Finne nullpunkter numerisk](../nullpunkter/intro.md), så skal vi først se på et eksempel der vi har en *naiv* implementasjon av algoritmen.\n"
   ]
  },
  {
   "attachments": {},
   "cell_type": "markdown",
   "metadata": {},
   "source": [
    "```{admonition} En naiv algoritme, hva er det?\n",
    ":class: tip, dropdown\n",
    "\n",
    "En *naiv* algoritme er en løser problemet med *brute force*, og vil løse problemet, men er ikke spesielt effektiv og vil ofte være ganske treig.\n",
    "\n",
    "```"
   ]
  },
  {
   "attachments": {},
   "cell_type": "markdown",
   "metadata": {},
   "source": [
    "````{admonition} Sammenheng mellom algoritmen og summeformler for rekker anvendt på annuitetslån\n",
    ":class: tip, dropdown\n",
    "\n",
    "Hvis vi følger algoritmen her og antar av vi skal betale ned lånet på $n$ terminer, så vil vi få følgende sammenhenger:\n",
    "\n",
    "\\begin{align*}\n",
    "L_1 & = L_0V - x, \\\\\n",
    "L_2 & = L_1V - x = L_0V^2 - xV - x, \\\\\n",
    "L_3 & = L_2V - x = L_0V^3 - xV^2 - xV - x, \\\\\n",
    "\\vdots & \\qquad \\qquad \\qquad \\vdots \\qquad \\qquad \\qquad  \\vdots & \\\\\n",
    "L_n & = L_0V^n - xV^{n-1} - xV^{n-2} - \\ldots - xV^2 - xV - x.\n",
    "\\end{align*}\n",
    "\n",
    "Typisk er målet etter $n$ terminer at restlånet skal være null slik at $L_n = 0$. Vi kan da løse ut for $x$ og få følgende formel for terminbeløpet:\n",
    "\n",
    "$$\n",
    "0 = L_0V^n - xV^{n-1} - xV^{n-2} - \\ldots - xV^2 - xV - x,\n",
    "$$\n",
    "\n",
    "som gir\n",
    "\n",
    "$$\n",
    "x + xV + xV^2 + \\ldots + xV^{n-2} + xV^{n-1} = L_0V^n.\n",
    "$$\n",
    "\n",
    "som er det man ofte kaller for å bruke *sluttverdier*. Og hvis vi deler med $V^n$ i alle ledd får vi\n",
    "\n",
    "$$\n",
    "\\frac{x}{V} + \\frac{x}{V^2} + \\frac{x}{V^3} + \\ldots + \\frac{x}{V^{n-1}} + \\frac{x}{V^n} = L_0,\n",
    "$$\n",
    "\n",
    "som er da vi bruker *nåverdier*. \n",
    "\n",
    "Konklusjonen er at algoritmen i {prf:ref}`algo-annuitetslaan` er mer generell og gir oss restlån etter $n$ terminer med et vilkårlig terminbeløp $x$.\n",
    "\n",
    "````"
   ]
  },
  {
   "attachments": {},
   "cell_type": "markdown",
   "metadata": {},
   "source": [
    "### Eksempel 1: Finne restlån etter $n$ terminer\n",
    "\n",
    "Anta vi tar et lån på 1 million kroner med en rente på 3% per år. Vi velger å betale ned lånet med et terminbeløp på 70 000 kr over 10 år. Hva er da restlånet etter 10 år? \n",
    "\n",
    "Først kan vi systematisere informasjonen litt, sånn at det er i tråd med notasjonen i {prf:ref}`algo-annuitetslaan`. Vi har\n",
    "\n",
    "- Lånetbeløpet $L_0 = 1 000 000 \\text{ kr}$.\n",
    "- Renten $r = 3\\%$.\n",
    "- Antall terminer $n = 10$.\n",
    "- Terminbeløp $x = 70 000 \\text{ kr}$.\n",
    "\n",
    "Vi kan da bruke algoritmen i {prf:ref}`algo-annuitetslaan` til å finne restlånet etter 10 år:"
   ]
  },
  {
   "cell_type": "code",
   "execution_count": 1,
   "metadata": {},
   "outputs": [
    {
     "name": "stdout",
     "output_type": "stream",
     "text": [
      "lån = 541444.83 kr gjenstår etter 10 år.\n"
     ]
    }
   ],
   "source": [
    "lån = 1_000_000 # kroner\n",
    "rente = 3 # 3 prosent rente per år\n",
    "vekstfaktor = 1 + rente / 100 # vekstfaktor per år\n",
    "terminbeløp = 70_000 # Terminbeløp per år\n",
    "n_terminer = 10 # antall terminer (her: antall år)\n",
    "\n",
    "for _ in range(n_terminer):\n",
    "    lån = lån * vekstfaktor\n",
    "    lån = lån - terminbeløp\n",
    "\n",
    "print(f\"{lån = :.2f} kr gjenstår etter {n_terminer} år.\")"
   ]
  },
  {
   "attachments": {},
   "cell_type": "markdown",
   "metadata": {},
   "source": [
    "Så det gjenstår altså et lån ca. 541 445 kr etter 10 år med et terminbeløp på 70 000 kr."
   ]
  },
  {
   "attachments": {},
   "cell_type": "markdown",
   "metadata": {},
   "source": [
    "### Eksempel 2: Finne terminbeløp for å betale ned lånet på 10 år\n",
    "\n",
    "La oss ta utgangspunkt i samme lånesituasjon, men nå skal vi finne hvilket terminbeløp $x$ vi må betale for å betale ned lånet på 10 år. Vi kan da bruke algoritmen i {prf:ref}`algo-annuitetslaan` til å finne terminbeløpet. \n",
    "\n",
    "Men denne gangen, så justerer vi algoritmen litt for å finne terminbeløpet $x$:\n",
    "\n",
    "````{prf:algorithm} Finne terminbeløp for å betale ned lånet på $n$ terminer\n",
    ":label: algo-annuitetslaan-belop\n",
    "\n",
    "__Input__: Lånebeløp $L_0$, rente $r$, antall terminer $n$, endring av terminbeløp $\\Delta x$ mellom forsøk.\n",
    "\n",
    "__Output__: Terminbeløpet $x$ som gjør at lånet er nedbetalt etter $n$ terminer.\n",
    "\n",
    "\n",
    "- Sett $V = 1 + r/100$ *(Vekstfaktoren til renten)*\n",
    "- Sett $x = 0$ *(Vi starter med å sette terminbeløpet til 0)*\n",
    "- `while` $L > 0$: *(Så lenge restlånet er større enn 0 etter et nedbetalingforsøk)*\n",
    "    - Sett $L = L_0$ *(Setter restlånet lik opprinnelig ved hvert forsøk)*\n",
    "    - Sett $x = x + \\Delta x$ *(Øker terminbeløpet med $\\Delta x$)*\n",
    "    - Sett $V = 1 + r/100$\n",
    "    - `for` $i = 1, 2, \\ldots, n$:\n",
    "        - Sett $L = L\\cdot V$ *(Lånet øker med renten)*\n",
    "        - Sett $L = L - x$ *(Lånet reduseres med terminbeløpet)*\n",
    "- `return` $x$ *(Returnerer terminbeløpet som betaler ned hele lånet)*\n",
    "````\n",
    "\n",
    "Følger vi {prf:ref}`algo-annuitetslaan-belop`, kan vi skrive koden slik:"
   ]
  },
  {
   "cell_type": "code",
   "execution_count": 8,
   "metadata": {},
   "outputs": [
    {
     "name": "stdout",
     "output_type": "stream",
     "text": [
      "terminbeløp = 117230.60 kr per år.\n"
     ]
    }
   ],
   "source": [
    "lån = 1e6 # 1 000 000 kroner\n",
    "rente = 3 # 3 prosent rente per år\n",
    "vekstfaktor = 1 + rente / 100 # vekstfaktor per år\n",
    "\n",
    "terminbeløp = 0\n",
    "dx = 0.1 # 100 kroner økning i terminbeløp per år\n",
    "n_terminer = 10\n",
    "restlån = lån\n",
    "\n",
    "while restlån > 0:\n",
    "    terminbeløp += dx\n",
    "    restlån = lån\n",
    "    for _ in range(n_terminer):\n",
    "        restlån = restlån * vekstfaktor\n",
    "        restlån = restlån - terminbeløp\n",
    "    \n",
    "print(f\"{terminbeløp = :.2f} kr per år.\")"
   ]
  },
  {
   "attachments": {},
   "cell_type": "markdown",
   "metadata": {},
   "source": [
    "som gir at hvis vi setter terminbeløpet $x = 117230.60 \\text{ kr}$, så vil lånet være nedbetalt etter 10 år. Dette er bare en tilnærming til det *sanne* terminbeløpet siden vi har brukt $\\Delta x = 0.01 \\ \\text{kr}$ mellom hvert forsøk. Men det er en god nok tilnærming med tanke på størrelsen på terminbeløpet. En endring på 0.01 kr er ikke merkbar i forhold til et terminbeløp på $117 230.60$ kr."
   ]
  },
  {
   "attachments": {},
   "cell_type": "markdown",
   "metadata": {},
   "source": [
    "## Oppgaver"
   ]
  },
  {
   "attachments": {},
   "cell_type": "markdown",
   "metadata": {},
   "source": [
    "### Oppgave 1\n",
    "\n",
    "Du tar opp et lån på 3 millioner kroner. Renten på lånet er på 2.5 % per år. Terminbeløpet du skal betale per termin (per år) er 130 000 kroner. Bruk Python til å finne ut hvor mange år det tar før du har betalt ned hele lånet.\n",
    "\n",
    "*Du kan ta utgangspunkt i kodeskallet under. Du må fylle inn der det står `NotImplemented`.*"
   ]
  },
  {
   "cell_type": "code",
   "execution_count": null,
   "metadata": {},
   "outputs": [],
   "source": [
    "lån = NotImplemented\n",
    "rente = NotImplemented\n",
    "vekstfaktor = NotImplemented\n",
    "terminbeløp = NotImplemented\n",
    "\n",
    "år = 0\n",
    "while NotImplemented: # Sett en betingelse for når løkken skal stoppe\n",
    "    lån = NotImplemented\n",
    "    år = NotImplemented\n",
    "\n",
    "print(f\"{år = }\")"
   ]
  },
  {
   "attachments": {},
   "cell_type": "markdown",
   "metadata": {},
   "source": [
    "````{dropdown} Løsningsforslag\n",
    "\n",
    "```python\n",
    "lån = 3_000_000\n",
    "rente = 2.5\n",
    "vekstfaktor = 1 - rente / 100\n",
    "terminbeløp = 130_000\n",
    "\n",
    "år = 0\n",
    "while lån > 0: # Sett en betingelse for når løkken skal stoppe\n",
    "    lån = lån * vekstfaktor - terminbeløp\n",
    "    år = år + 1\n",
    "\n",
    "print(f\"{år = }\")\n",
    "print(f\"gjenstående {lån = :.2f} kr\")\n",
    "```\n",
    "\n",
    "som gir utskriften\n",
    "\n",
    "```console\n",
    "år = 18\n",
    "gjenstående lån = -1273.92 kr\n",
    "```\n",
    "\n",
    "````"
   ]
  }
 ],
 "metadata": {
  "kernelspec": {
   "display_name": "Python 3",
   "language": "python",
   "name": "python3"
  },
  "language_info": {
   "codemirror_mode": {
    "name": "ipython",
    "version": 3
   },
   "file_extension": ".py",
   "mimetype": "text/x-python",
   "name": "python",
   "nbconvert_exporter": "python",
   "pygments_lexer": "ipython3",
   "version": "3.11.4"
  },
  "orig_nbformat": 4
 },
 "nbformat": 4,
 "nbformat_minor": 2
}
