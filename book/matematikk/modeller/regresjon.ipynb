{
 "cells": [
  {
   "cell_type": "markdown",
   "metadata": {},
   "source": [
    "## Regresjon i Python"
   ]
  },
  {
   "cell_type": "markdown",
   "metadata": {},
   "source": [
    "Her skal du lære hvordan man kan gjøre regresjon i Python ved å bruke biblioteket funksjonen `curve_fit` fra `scipy.optimize`.\n",
    "\n",
    "For å gjøre regresjon i Python, må vi\n",
    "1. Definere datapunktene våre som lister eller numpy-arrays.\n",
    "2. Definere en funksjon for modellen vår med frie parametere som skal bestemmes med regresjon.\n",
    "\n",
    "\n",
    "````{admonition} Teori: Regresjon\n",
    ":class: tip, dropdown\n",
    "\n",
    "Regresjon er et systematisk måte å bestemme en funksjonsmodell som passer til datapunkter vi kjenner til. \n",
    "Vi har gjerne $N$ datapunkter $(x_1, y_1), (x_2, y_2), \\ldots, (x_N, y_N)$ som vi ønsker å finne en funksjon $f(x)$ som passer til.\n",
    "Vi antar at det finnes en funksjon slik at\n",
    "\n",
    "$$\n",
    "y_i = f(x_i) + \\epsilon_i,\n",
    "$$\n",
    "\n",
    "der $\\epsilon_i$ er en tilfeldig feil som vi ikke kan forutsi. Målet vårt å bestemme $f(x)$. For å oppnå dette, velger vi oss gjerne en funksjonsmodell med frie parametere, og så bruker vi regresjon som en teknikk for å bestemme hva de frie parameterne må være for at funksjonsmodellen vår skal passe *best mulig*. \n",
    "\n",
    "\n",
    "\n",
    "\n",
    "````\n"
   ]
  },
  {
   "cell_type": "markdown",
   "metadata": {},
   "source": [
    "### Eksempel: Regresjon av en rett linje\n",
    "\n",
    "La oss se på et eksempel der vi har $N = 5$ datapunkter og skal tilpasse en rett linje $f(x) = ax + b$ til disse datapunktene. Vi starter med å importere bibliotekene vi trenger:\n"
   ]
  },
  {
   "cell_type": "code",
   "execution_count": 9,
   "metadata": {},
   "outputs": [
    {
     "name": "stdout",
     "output_type": "stream",
     "text": [
      "a = 2.0\n",
      "b = 1.0\n"
     ]
    }
   ],
   "source": [
    "from scipy.optimize import curve_fit \n",
    "\n",
    "# Definer modellen vår\n",
    "def f(x, a, b):\n",
    "    return a * x + b\n",
    "\n",
    "# Definerer dataene våre\n",
    "x = [1, 2, 3, 4, 5]\n",
    "y = [3, 5, 7, 9, 11]\n",
    "\n",
    "# Finner parametrene som passer best\n",
    "parametere, usikkerheter = curve_fit(f, x, y)\n",
    "\n",
    "# henter ut parameterne fra lista og gir dem navn\n",
    "# Rekkefølgen til parameterne er den samme som i funksjonsdefinisjonen f(x, a, b)\n",
    "a, b = parametere \n",
    "\n",
    "print(f\"{a = }\")\n",
    "print(f\"{b = }\")"
   ]
  },
  {
   "cell_type": "markdown",
   "metadata": {},
   "source": [
    "For å bruke funksjonsmodellen, kan vi nå sende inn parameterne slik:"
   ]
  },
  {
   "cell_type": "code",
   "execution_count": 7,
   "metadata": {},
   "outputs": [
    {
     "data": {
      "text/plain": [
       "1.0"
      ]
     },
     "execution_count": 7,
     "metadata": {},
     "output_type": "execute_result"
    }
   ],
   "source": [
    "f(0, *parametere)"
   ]
  },
  {
   "cell_type": "markdown",
   "metadata": {},
   "source": [
    "## Eksempel 2: Regresjon med en andregradsfunksjon\n",
    "\n",
    "Noen ganger kan vi bruke regresjon til å bestemme parametere til en funksjon som skal beskrive en følge av tall (for eksempel figurtall). La oss se på et eksempel der vi skal bruke regresjon til å finne en formel for summen av de $N$ første heltallene\n",
    "\n",
    "$$\n",
    "S_N = 1 + 2 + \\ldots + N\n",
    "$$\n",
    "\n",
    "Vi kan ta lage oss en tabell med datapunkter først:\n",
    "\n",
    "| $N$ | 1 | 2 | 3 | 4 | 5 |\n",
    "|-----|-------| ----- | ----- | ----- | ----- |\n",
    "| $S_N$  | 1   | 3     | 6     | 10    | 15    |\n",
    "\n",
    "Vi lar $N$ være den uavhengige variabelen, og $S_N$ være den avhengige variabelen, slik at $x = N$ og $y = S_N$. Vi kan prøve oss med en andregradsfunksjon, som gir modellklassen\n",
    "\n",
    "$$\n",
    "f(x) = ax^2 + bx + c\n",
    "$$\n",
    "\n",
    "og vi kan bruke Python til å bestemme hva $a$, $b$ og $c$ må være for at modellen skal passe *best mulig* til datapunktene."
   ]
  },
  {
   "cell_type": "code",
   "execution_count": 11,
   "metadata": {},
   "outputs": [
    {
     "name": "stdout",
     "output_type": "stream",
     "text": [
      "a = 0.5000\n",
      "b = 0.5000\n",
      "c = -0.0000\n"
     ]
    }
   ],
   "source": [
    "from scipy.optimize import curve_fit\n",
    "\n",
    "def f(x, a, b, c):\n",
    "    return a * x**2 + b * x + c\n",
    "\n",
    "x = [1, 2, 3, 4, 5]\n",
    "y = [1, 3, 6, 10, 15]\n",
    "\n",
    "parametere, usikkerheter = curve_fit(f, x, y)\n",
    "\n",
    "a, b, c = parametere\n",
    "\n",
    "print(f\"{a = :.4f}\")\n",
    "print(f\"{b = :.4f}\")\n",
    "print(f\"{c = :.4f}\")"
   ]
  },
  {
   "cell_type": "markdown",
   "metadata": {},
   "source": [
    "Som betyr at $a = 1/2$, $b = 1/2$ og $c = 0$, som gir funksjonsmodellen\n",
    "\n",
    "$$\n",
    "f(N) = \\frac{1}{2}N^2 + \\frac{1}{2}N = \\frac{N(N+1)}{2},\n",
    "$$\n",
    "\n",
    "som viser seg å være den eksakte formelen for summen av de $N$ første heltallene."
   ]
  },
  {
   "cell_type": "code",
   "execution_count": null,
   "metadata": {},
   "outputs": [],
   "source": []
  }
 ],
 "metadata": {
  "kernelspec": {
   "display_name": "Python 3",
   "language": "python",
   "name": "python3"
  },
  "language_info": {
   "codemirror_mode": {
    "name": "ipython",
    "version": 3
   },
   "file_extension": ".py",
   "mimetype": "text/x-python",
   "name": "python",
   "nbconvert_exporter": "python",
   "pygments_lexer": "ipython3",
   "version": "3.11.6"
  }
 },
 "nbformat": 4,
 "nbformat_minor": 2
}
