{
 "cells": [
  {
   "attachments": {},
   "cell_type": "markdown",
   "metadata": {},
   "source": [
    "# Simulere sannsynligheter og sannsynlighetsfordelinger (Matematikk S2)\n",
    "\n",
    "Spesielt relevant kompetansemål:\n",
    "\n",
    "- Simulere utfall i, utforske og tolke ulike statistiske fordelinger, og gi eksempler på reelle anvendelser av disse fordelingene."
   ]
  },
  {
   "attachments": {},
   "cell_type": "markdown",
   "metadata": {},
   "source": [
    "Å simulere utfall i ulike situasjoner er en effektiv måte å utforske sannsynlighetsfordelinger på, og å regne ut sannsynligheter, forvetningsverdier, varians og standardavvik i mer kompliserte situasjoner der det ikke er like lett å regne ut disse verdiene for hånd - hvis mulig i det hele tatt.\n",
    "\n",
    "Et viktig bibliotek her er `numpy.random`, som lar oss trekke tilfeldig tall fra ulike sannsynlighetsfordelinger. "
   ]
  },
  {
   "attachments": {},
   "cell_type": "markdown",
   "metadata": {},
   "source": []
  },
  {
   "cell_type": "code",
   "execution_count": null,
   "metadata": {},
   "outputs": [],
   "source": []
  }
 ],
 "metadata": {
  "language_info": {
   "name": "python"
  },
  "orig_nbformat": 4
 },
 "nbformat": 4,
 "nbformat_minor": 2
}
