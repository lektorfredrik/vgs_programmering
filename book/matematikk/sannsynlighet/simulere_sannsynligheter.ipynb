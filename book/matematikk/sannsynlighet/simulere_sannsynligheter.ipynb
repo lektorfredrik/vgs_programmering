{
 "cells": [
  {
   "attachments": {},
   "cell_type": "markdown",
   "metadata": {},
   "source": [
    "# Simulere sannsynligheter\n",
    "\n",
    "**Spesielt relevant kompetansemål**:\n",
    "\n",
    "- Simulere utfall i, utforske og tolke ulike statistiske fordelinger, og gi eksempler på reelle anvendelser av disse fordelingene."
   ]
  },
  {
   "attachments": {},
   "cell_type": "markdown",
   "metadata": {},
   "source": [
    "Å simulere utfall i ulike situasjoner er en effektiv måte å utforske sannsynlighetsfordelinger på, og å regne ut sannsynligheter, forvetningsverdier, varians og standardavvik i mer kompliserte situasjoner der det ikke er like lett å regne ut disse verdiene for hånd - hvis mulig i det hele tatt.\n",
    "\n",
    "Et viktig bibliotek her er `numpy.random`, som lar oss trekke tilfeldig tall fra ulike sannsynlighetsfordelinger. "
   ]
  },
  {
   "attachments": {},
   "cell_type": "markdown",
   "metadata": {},
   "source": [
    "## Hva vil det si å simulere utfall?\n",
    "\n",
    "Å simulere utfall vil si å gjennomføre et eksperiment eller forsøk mange ganger, og telle opp hvor mange ganger de ulike utfallene inntreffer.\n",
    "Som en tilnærming til sannsynligheten til et utfall, tar vi forholdet mellom antall ganger utfallet inntreffer og antall ganger vi gjennomfører eksperimentet.\n",
    "\n",
    "Mer formelt, la $X$ være en *stokastisk* variabel (tilfeldig variabel), la $n_A$ være antall ganger et utfall $A$ skjedde, og $n$ være antall ganger vi gjennomførte eksperimentet. Da kan vi tilnærme sannsynligheten for at utfall $A$ skjer med\n",
    "\n",
    "$$\n",
    "P(X = A) \\approx \\frac{n_A}{n}.\n",
    "$$ (eq:tilnarmet_sannsynlighet)\n",
    "\n",
    "Da kan vi garantere at når $n$ blir veldig stor, så vil tilnærmingen bli veldig god."
   ]
  },
  {
   "attachments": {},
   "cell_type": "markdown",
   "metadata": {},
   "source": [
    "```{prf:algorithm} Tilnærme sannsynligheter for utfall\n",
    ":label: algo-tilnarmet-sannsynlighet\n",
    "__Input__:\n",
    "- $n$: Antall ganger vi gjennomfører eksperimentet\n",
    "- $P(X=x)$ (diskret) eller $f(x)$ (kontinuerlig): Sannsynlighetsfordeling\n",
    "- $A$: Et utfall\n",
    "\n",
    "__Output__:\n",
    "- $P(X = A)$: Tilnærmet sannsynlighet for utfall $A$\n",
    "\n",
    "__Metode__:\n",
    "\n",
    "- Sett $n_A = 0$\n",
    "- For $i$ fra $1, 2, 3, \\ldots, n$:\n",
    "    - Trekk et tilfeldig tall $x$ fra sannsynlighetsfordelingen\n",
    "    - Hvis $x = A$:\n",
    "        - $n_A = n_A + 1$\n",
    "- Returner $P(X = A) \\approx \\frac{n_A}{n}$\n",
    "```"
   ]
  },
  {
   "attachments": {},
   "cell_type": "markdown",
   "metadata": {},
   "source": [
    "## Oversikt over sannsynlighetsfordelinger i `numpy.random`\n",
    "\n",
    "Vi skal se på noen av de vanligste sannsynlighetsfordelingene, og hvordan vi kan simulere utfall fra dem.\n",
    "\n",
    "\n",
    "| Sannsynlighetsfordeling | Matematisk funksjon | `numpy.random`-funksjon | Parametre | Forklaring | \n",
    "|-------------------------|---------------------|-------------------------|-----------|------------|\n",
    "| Binomisk                | $B(n, p)$           | `binomial`              | `n`, `p`  | `n` angir antall forsøk og `p` angir sannsynligheten for å oppnå suksess |\n",
    "| Geometrisk              | $G(p)$              | `geometric`             | `p`       | `p` angir sannsynligheten for å oppnå suksess. Er det samme som binomisk fordeling med `n = 1` |\n",
    "| Normal                  | $N(\\mu, \\sigma) = \\frac{1}{\\sqrt{2\\pi}\\sigma} e^{-\\frac{1}{2}\\left((x-\\mu)/\\sigma\\right)^2} $  | `normal`                | `loc`, `scale` | `loc` angir forventningsverdien og `scale` angir standardavviket |\n",
    "| Eksponential            | $E(\\lambda) = \\lambda e^{-\\lambda X}$        | `exponential`           | `scale`   | `scale` angir gjennomsnittlig tid mellom suksesser |\n",
    "| Uniform (heltall) | $U(a, b)$ | `randint` | `low`, `high` | `low` angir minimum og `high` angir maksimum. Henter ut et heltall på intervallet `[low, high)`.  |\n",
    "| Uniform (flyttall) | $U(a, b)$ | `uniform` | `low`, `high` | `low` angir minimum og `high` angir maksimum. Henter ut et flyttall på intervallet `[low, high)`.  |\n"
   ]
  },
  {
   "attachments": {},
   "cell_type": "markdown",
   "metadata": {},
   "source": [
    "---"
   ]
  },
  {
   "attachments": {},
   "cell_type": "markdown",
   "metadata": {},
   "source": [
    "## Eksempler på å regne ut sannsynlighet med simulering"
   ]
  },
  {
   "attachments": {},
   "cell_type": "markdown",
   "metadata": {},
   "source": [
    "### Eksempel 1: Terningkast med én terning\n",
    "\n",
    "Se for deg at vi ønsker å finne sannsynligheten for å få en sekser når vi kaster en terning. Vi kan simulere dette ved å gjennomføre mange terningkast, og telle opp hvor mange ganger vi får en sekser. Så bruker vi likning {eq}`eq:tilnarmet_sannsynlighet` til å regne ut en tilnærmet verdi for terningkastet. \n",
    "\n",
    "I et terningkast er det 6 mulige utfall, og alle er like sannsynlige. Dermed er sannsynligheten for å få en sekser $1/6$. Lar vi $X$ være antall øyne på en terning i et tilfeldig terningkast, så er $X$ en stokastisk variabel med sannsynlighetsfordeling\n",
    "\n",
    "|$x$|$1$|$2$|$3$|$4$|$5$|$6$|\n",
    "|---|-|-|-|-|-|-|\n",
    "|$P(X = x)$|$1/6$|$1/6$|$1/6$|$1/6$|$1/6$|$1/6$|\n",
    "\n",
    "Vi kan simulere et terningkast ved å trekke ut et tilfeldig tall fra en uniform heltallsfordeling med `low=0` og `high=7`. Da kan vi få tallene 0, 1, 2, 3, 4, 5 eller 6, og vi kan tolke disse som antall øyne på terningen. Vi kan simulere et terningkast med `np.random.randint(0, 7)`, som følger:"
   ]
  },
  {
   "cell_type": "code",
   "execution_count": 1,
   "metadata": {},
   "outputs": [
    {
     "name": "stdout",
     "output_type": "stream",
     "text": [
      "\n",
      "    Sannsynlighet for å få en sekser: 0.168. \n",
      "    Det eksakte svaret er 0.167 til tre desimaler.\n",
      "    \n"
     ]
    }
   ],
   "source": [
    "import numpy as np \n",
    "\n",
    "n_forsøk = 100_000 # 10 000 terningkast\n",
    "n_seksere = 0 # Antall seksere\n",
    "for _ in range(n_forsøk):\n",
    "    kast = np.random.randint(1, 7) # Kaster en terning\n",
    "    if kast == 6: # Hvis vi får en sekser\n",
    "        n_seksere += 1 # Legg til enda en sekser\n",
    "\n",
    "sannsynlighet_sekser = n_seksere / n_forsøk\n",
    "\n",
    "print(\n",
    "    f\"\"\"\n",
    "    Sannsynlighet for å få en sekser: {sannsynlighet_sekser:.3f}. \n",
    "    Det eksakte svaret er {1/6 :.3f} til tre desimaler.\n",
    "    \"\"\"\n",
    ")"
   ]
  },
  {
   "attachments": {},
   "cell_type": "markdown",
   "metadata": {},
   "source": [
    "Med andre ord er $P(X = 6) \\approx 0.167$."
   ]
  },
  {
   "attachments": {},
   "cell_type": "markdown",
   "metadata": {},
   "source": [
    "Siden vi trekker tilfeldige tall, og vi har begrenset oss til 100 000 forsøk, vil vi få noe varierte resultater fra gang til gang når vi kjører programmet. Med store verdier for `n_forsøk` vil resultatet bli nærmere den eksakte verdien, og det vil være lite variasjon fra gang til gang."
   ]
  },
  {
   "attachments": {},
   "cell_type": "markdown",
   "metadata": {},
   "source": [
    "### Eksempel 2: Terningkast med to terninger\n",
    "\n",
    "Vi kan også simulere et terningkast med to terninger. Da er det 36 mulige utfall, og alle er like sannsynlige. Men summen av øynene har ulike sannsynligheter. Lar vi $X$ være antall øyne vi får på to terninger i et tilfeldig terningkast, så er $X$ en stokastisk variabel med sannsynlighetsfordeling\n",
    "\n",
    "|$x$|$2$|$3$|$4$|$5$|$6$|$7$|$8$|$9$|$10$|$11$|$12$|\n",
    "|---|-|-|-|-|-|-|-|-|-|-|-|\n",
    "|$P(X = x)$|$1/36$|$2/36$|$3/36$|$4/36$|$5/36$|$6/36$|$5/36$|$4/36$|$3/36$|$2/36$|$1/36$|\n",
    "\n",
    "\n",
    "Tenk deg at vi ønsker å finne sannsynligheten for å få 7 øyne. Vi kan simulere dette ved å gjennomføre mange terningkast, og telle opp hvor mange ganger vi får 7 øyne. Så bruker vi likning {eq}`eq:tilnarmet_sannsynlighet` til å regne ut en tilnærmet verdi for terningkastet.\n",
    "\n",
    "Igjen bruker vi `numpy.random.randint(1, 7)` for å kaste en terning, men nå må vi kaste to ganger per forsøk. En Pythonkode som løser dette er:"
   ]
  },
  {
   "cell_type": "code",
   "execution_count": 2,
   "metadata": {},
   "outputs": [
    {
     "name": "stdout",
     "output_type": "stream",
     "text": [
      "\n",
      "    Sannsynlighet for å få 7 som summen av øyne på to terninger: 0.166. \n",
      "    Det eksakte svaret er 0.167 til tre desimaler.\n",
      "    \n"
     ]
    }
   ],
   "source": [
    "import numpy as np\n",
    "\n",
    "n_forsøk = 100_000 # 100 000 terningkast med to terninger\n",
    "n_suksess = 0 # Antall ganger vi får 7 som summen av øyne på terningene\n",
    "for _ in range(n_forsøk):\n",
    "    kast = np.random.randint(1, 7, size=2) # Kaster to terninger, derfor `size=2`\n",
    "    sum_av_terninger = np.sum(kast) # Summerer terningene\n",
    "    if sum_av_terninger == 7:\n",
    "        n_suksess += 1\n",
    "    \n",
    "sannsynlighet_7 = n_suksess / n_forsøk\n",
    "\n",
    "print(\n",
    "    f\"\"\"\n",
    "    Sannsynlighet for å få 7 som summen av øyne på to terninger: {sannsynlighet_7:.3f}. \n",
    "    Det eksakte svaret er {6/36 :.3f} til tre desimaler.\n",
    "    \"\"\"\n",
    ")"
   ]
  },
  {
   "attachments": {},
   "cell_type": "markdown",
   "metadata": {},
   "source": [
    "så vi kan konkludere at $P(X = 7) \\approx 0.167$."
   ]
  },
  {
   "attachments": {},
   "cell_type": "markdown",
   "metadata": {},
   "source": [
    "### Eksempel 3: Normalfordelte høyder i en populasjon\n",
    "\n",
    "Tenk deg at høydene $X$ til jenter i en populasjon er normalfordelte med forventningsverdi $\\mu = 175 \\ \\text{cm}$ og standardavvik $\\sigma = 5 \\ \\text{cm}$. Vi kan simulere dette ved å trekke ut tilfeldige tall fra en normalfordeling med `loc=175` og `scale=5` som parametere i `numpy.random.normal(loc=175, scale=5)`. Da vil vi få tall som er normalfordelt med forventningsverdi 175 og standardavvik 5. \n",
    "\n",
    "Tenk deg at vi ønsker å regne ut sannsynligheten for at en høyden til en tilfeldig jente er større enn $180 \\ \\text{cm}$. Dette kan vi gjøre ved å trekke ut høyder fra normalfordelingen og telle opp antaller ganger $X \\geq 180 \\ \\text{cm}$.\n",
    "\n",
    "En pythonkode som simulerer dette kan se slik ut:"
   ]
  },
  {
   "cell_type": "code",
   "execution_count": 4,
   "metadata": {},
   "outputs": [
    {
     "name": "stdout",
     "output_type": "stream",
     "text": [
      "Sannsynlighet for å få en høyde over 180 cm: 0.159.\n"
     ]
    }
   ],
   "source": [
    "import numpy as np\n",
    "\n",
    "n_forsøk = 100_000 # Måler 100 000 høyder \n",
    "n_suksess = 0 # Antall ganger vi får en høyde er større enn 180 cm\n",
    "\n",
    "for _ in range(n_forsøk):\n",
    "    # Trekker en høyde fra normalfordeling med gjennomsnitt 175 cm og standardavvik 5 cm\n",
    "    høyde = np.random.normal(loc=175, scale=5) \n",
    "\n",
    "    # Hvis høyden er større enn eller lik 180 cm, så legger vi til en suksess\n",
    "    if høyde >= 180: \n",
    "        n_suksess += 1\n",
    "\n",
    "sannsynlighet_høyde_over_180 = n_suksess / n_forsøk\n",
    "\n",
    "print(f\"Sannsynlighet for å få en høyde over 180 cm: {sannsynlighet_høyde_over_180:.3f}.\")"
   ]
  },
  {
   "attachments": {},
   "cell_type": "markdown",
   "metadata": {},
   "source": [
    "som vi tolker som at $P(X \\geq 180 \\ \\text{cm}) \\approx 0.16$. "
   ]
  },
  {
   "attachments": {},
   "cell_type": "markdown",
   "metadata": {},
   "source": [
    "### Eksempel 4: Normalfordelte høyder i en populasjon (igjen)\n",
    "\n",
    "La oss fortsette med eksempel 3, men vi ønsker nå i stedet å regne ut sannsynligheten for at en høyde er mellom 170 cm og 180 cm. Fra teorien om normalfordelinger vet vi at dette er ca. 68 % siden det er sannsynligheten for å ligge ett standardavvik over eller under forventningsverdien. \n",
    "\n",
    "Vi kan simulere dette ved å trekke ut høyder fra normalfordelingen og telle opp antaller ganger $170 \\ \\text{cm} \\leq X \\leq 180 \\ \\text{cm}$:"
   ]
  },
  {
   "cell_type": "code",
   "execution_count": 16,
   "metadata": {},
   "outputs": [
    {
     "name": "stdout",
     "output_type": "stream",
     "text": [
      "P(170 cm <= x <= 180 cm) = 0.682.\n"
     ]
    }
   ],
   "source": [
    "import numpy as np\n",
    "\n",
    "n_forsøk = 100_000 # Måler 100 000 høyder\n",
    "n_suksess = 0 # Antall ganger vi får en høyde er større enn 180 cm\n",
    "\n",
    "for _ in range(n_forsøk):\n",
    "    # Trekker en høyde fra normalfordeling med gjennomsnitt 175 cm og standardavvik 5 cm\n",
    "    høyde = np.random.normal(loc=175, scale=5) \n",
    "\n",
    "    # Hvis høyden ligger mellom 170 og 180 cm, så legger vi til en suksess\n",
    "    if 170 <= høyde <= 180: \n",
    "        n_suksess += 1\n",
    "\n",
    "sannsynlighet_høyde_mellom_170_og_180 = n_suksess / n_forsøk\n",
    "\n",
    "print(f\"P(170 cm <= x <= 180 cm) = {sannsynlighet_høyde_mellom_170_og_180:.3f}.\")"
   ]
  },
  {
   "attachments": {},
   "cell_type": "markdown",
   "metadata": {},
   "source": [
    "som vi tolker som at $P(170 \\ \\text{cm} \\leq X \\leq 180 \\ \\text{cm}) \\approx 0.68$."
   ]
  },
  {
   "attachments": {},
   "cell_type": "markdown",
   "metadata": {},
   "source": [
    "### Eksempel 5: Normalfordelte høyder fra to populasjoner\n",
    "\n",
    "Tenk deg at det på en skole går 200 jenter og 300 gutter. Jentene er normalfordelt med forventningsverdi $\\mu = 168 \\ \\text{cm}$ og standardavvik $\\sigma = 5 \\ \\text{cm}$, mens guttene er normalfordelt med forventningsverdi $\\mu = 180 \\ \\text{cm}$ og standardavvik $\\sigma = 6 \\ \\text{cm}$. \n",
    "\n",
    "Tenk deg at vi ønsker å regne ut sannsynligheten for at en tilfeldig trukket person har en høyde som er lavere enn 160 cm. Vi lar $X$ være høyden til en tilfeldig utvalgt elev fra skolen. Vi ønsker derfor å regne ut $P(X \\leq 160 \\ \\text{cm})$.\n",
    "\n",
    "Det som er vrient her, er at det ikke er så lett å sette opp en sannsynlighetsfordeling fordi vi har en normalfordeling for den ene delen av populasjon (guttene), og en annen normalfordeling for den andre delen (jentene). \n",
    "\n",
    "Vi skal bryte ned problemet i to biter. \n",
    "\n",
    "1. Hvordan velge om vi har trukket ut en jente eller en gutt.\n",
    "2. Deretter trekke et tilfeldig høyde avhengig om det var en gutt eller jente som ble trukket ut.\n",
    "\n"
   ]
  },
  {
   "attachments": {},
   "cell_type": "markdown",
   "metadata": {},
   "source": [
    "#### Hvordan velge ut en gutt eller en jente fra elevene på skolen"
   ]
  },
  {
   "attachments": {},
   "cell_type": "markdown",
   "metadata": {},
   "source": [
    "La $N_\\text{jenter} = 200$ og $N_\\text{gutter} = 300$. Det totale antallet elever er $N_\\text{elever} = N_\\text{jenter} + N_\\text{gutter} = 500$. Sannsynligheten for at vi en tilfeldig utvalgt elev er en jente er da\n",
    "\n",
    "$$\n",
    "p_\\text{jente} = \\frac{N_\\text{jenter}}{N_\\text{elever}} = \\frac{200}{500} = \\frac{2}{5} = 0.4. \n",
    "$$\n",
    "\n",
    "Vi kan betrakte dette som en binomisk fordeling med $n = 1$ og $p = p_\\text{jente}$.\n",
    "\n",
    "La $X$ være antall jenter vi trekker ut. Da er $X$ binomisk fordelt med $n = 1$ og $p = p_\\text{jente}$. Da vil $X = 1$ dersom vi trekker ut en jente, og $X = 0$ dersom vi ikke gjør det (og dermed trekker en gutt i stedet). \n",
    "Vi kan simulere dette ved å bruke `numpy.random.binomial(n=1, p=p_jente)`.\n",
    "\n",
    "La oss sjekke at dette gir mening:"
   ]
  },
  {
   "cell_type": "code",
   "execution_count": 15,
   "metadata": {},
   "outputs": [
    {
     "name": "stdout",
     "output_type": "stream",
     "text": [
      "\n",
      "    Sannsynlighet for å trekke ut en jente: 0.401. \n",
      "    Det eksakte svaret er 0.400 til tre desimaler.\n",
      "    \n"
     ]
    }
   ],
   "source": [
    "n_forsøk = 100_000 # Antall elever vi trekker ut\n",
    "n_suksess = 0 # Antall ganger vi trekker ut en jente\n",
    "n_jenter = 200\n",
    "n_gutter = 300\n",
    "n_elever = n_jenter + n_gutter\n",
    "p_jente = n_jenter / n_elever # Sannsynlighet for å trekke ut en jente\n",
    "\n",
    "for _ in range(n_forsøk):\n",
    "    # Trekker en elev, der 1 er jente og 0 er gutt\n",
    "    elev = np.random.binomial(n=1, p=p_jente) \n",
    "\n",
    "    # Hvis vi trekker ut en jente\n",
    "    if elev == 1: \n",
    "        n_suksess += 1 # Legg til en suksess\n",
    "    \n",
    "sannsynlighet_jente = n_suksess / n_forsøk\n",
    "\n",
    "print(\n",
    "    f\"\"\"\n",
    "    Sannsynlighet for å trekke ut en jente: {sannsynlighet_jente:.3f}. \n",
    "    Det eksakte svaret er {n_jenter / n_elever :.3f} til tre desimaler.\n",
    "    \"\"\"\n",
    ")\n"
   ]
  },
  {
   "attachments": {},
   "cell_type": "markdown",
   "metadata": {},
   "source": [
    "Så vi får bekreftet at $P(X = \\text{jente}) = p_\\text{jente} = 0.4$."
   ]
  },
  {
   "attachments": {},
   "cell_type": "markdown",
   "metadata": {},
   "source": [
    "#### Hvordan trekke en høyde avhengig av om det er en gutt eller jente\n",
    "\n",
    "Nå har vi funnet ut hvordan vi kan velge om vi har trukket ut en jente eller en gutt. Nå skal vi finne ut hvordan vi kan trekke en høyde avhengig av om det er en jente eller gutt.\n",
    "\n",
    "1. Hvis vi har en jente, trekker vi en høyde fra en normalfordeling med forventningsverdi $\\mu_\\text{jente} = 168 \\ \\text{cm}$ og standardavvik $\\sigma_\\text{jente} = 6 \\ \\text{cm}$.\n",
    "2. Hvis det er en gutt trekker vi en høyde fra en normalfordeling med forventningsverdi $\\mu_\\text{gutt} = 180 \\ \\text{cm}$ og standardavvik $\\sigma_\\text{gutt} = 8 \\ \\text{cm}$."
   ]
  },
  {
   "attachments": {},
   "cell_type": "markdown",
   "metadata": {},
   "source": [
    "#### Simulering\n",
    "\n",
    "Vi er nå klare til å sette det hele sammen. Algoritmen vi skal bruke går som følger:\n",
    "\n",
    "1. Velg om vi har trukket ut en jente eller en gutt.\n",
    "    - Hvis vi har trukket ut en jente, trekker vi en høyde fra en normalfordeling med forventningsverdi $\\mu_\\text{jente} = 168 \\ \\text{cm}$ og standardavvik $\\sigma_\\text{jente} = 6 \\ \\text{cm}$.\n",
    "    - Hvis det er en gutt trekker vi en høyde fra en normalfordeling med forventningsverdi $\\mu_\\text{gutt} = 180 \\ \\text{cm}$ og standardavvik $\\sigma_\\text{gutt} = 8 \\ \\text{cm}$.\n",
    "2. Dersom høyden er under 160 cm, legger vi til 1 på $n_\\text{suksess}$. \n",
    "3. Gjenta 1 og 2 $n_\\text{forsøk}$ ganger.\n",
    "\n",
    "Til slutt regner vi ut sannsynligheten med likning {eq}`eq:tilnarmet_sannsynlighet` som \n",
    "\n",
    "$$\n",
    "P(X \\leq 160 \\ \\text{cm}) \\approx \\frac{n_\\text{suksess}}{n_\\text{forsøk}}.\n",
    "$$\n",
    "\n",
    "Pythonkoden kan da se slik ut:"
   ]
  },
  {
   "cell_type": "code",
   "execution_count": 17,
   "metadata": {},
   "outputs": [
    {
     "name": "stdout",
     "output_type": "stream",
     "text": [
      "sannsynlighet_høyde_under_160 = 0.04057\n"
     ]
    }
   ],
   "source": [
    "import numpy as np\n",
    "\n",
    "n_forsøk = 1000_000 # Antall elever vi trekker ut\n",
    "n_suksess = 0 # Antall ganger vi får en høyde <= 160 cm.\n",
    "n_jenter = 200\n",
    "n_gutter = 300\n",
    "n_elever = n_jenter + n_gutter\n",
    "p_jente = n_jenter / n_elever # Sannsynlighet for å trekke ut en jente\n",
    "\n",
    "for _ in range(n_forsøk):\n",
    "    # Trekker en elev, der 1 er jente og 0 er gutt\n",
    "    elev = np.random.binomial(n=1, p=p_jente) \n",
    "    if elev == 1: # Hvis vi trekker ut en jente\n",
    "        # Trekker en høyde fra normalfordeling med gjennomsnitt 175 cm og standardavvik 5 cm\n",
    "        høyde = np.random.normal(loc=168, scale=6) \n",
    "    else:\n",
    "        # Trekker en høyde fra normalfordeling med gjennomsnitt 180 cm og standardavvik 6 cm\n",
    "        høyde = np.random.normal(loc=180, scale=8) \n",
    "    \n",
    "    if høyde <= 160: # Hvis høyden er mindre eller lik 160 cm, så legger vi til en suksess\n",
    "        n_suksess += 1\n",
    "\n",
    "sannsynlighet_høyde_under_160 = n_suksess / n_forsøk\n",
    "\n",
    "print(f\"{sannsynlighet_høyde_under_160 = }\")\n"
   ]
  },
  {
   "attachments": {},
   "cell_type": "markdown",
   "metadata": {},
   "source": [
    "Så sannsynligheten for at en tilfeldig utvalgt elev har en høyde som er lavere enn 160cm er \n",
    "\n",
    "$$\n",
    "P(X \\leq 160 \\ \\text{cm}) \\approx 0.04 = 4 \\%.\n",
    "$$"
   ]
  },
  {
   "attachments": {},
   "cell_type": "markdown",
   "metadata": {},
   "source": [
    "---"
   ]
  },
  {
   "attachments": {},
   "cell_type": "markdown",
   "metadata": {},
   "source": [
    "## Øvingsoppgaver"
   ]
  },
  {
   "attachments": {},
   "cell_type": "markdown",
   "metadata": {},
   "source": [
    "### Oppgave 1\n",
    "\n",
    "Du skal kaste to terninger. Skriv en Pythonkode for å regne ut sannsynligheten for at man får 9 eller flere øyne.\n",
    "\n",
    "Gjør 100 000 forsøk i simuleringen din.\n",
    "\n",
    "*Du kan ta utgangspunkt i kodeskallet under. Du må fylle inn der det står `NotImplemented`.*"
   ]
  },
  {
   "cell_type": "code",
   "execution_count": null,
   "metadata": {},
   "outputs": [],
   "source": [
    "import numpy as np\n",
    "\n",
    "n_forsøk = NotImplemented # Sett antall terningkast\n",
    "n_suksess = 0\n",
    "\n",
    "for _ in range(n_forsøk):\n",
    "    kast = NotImplemented\n",
    "    sum_av_terninger = NotImplemented\n",
    "    if NotImplemented: # Sett betingelse for når du skal øke antall suksesser\n",
    "        n_suksess += 1\n",
    "\n",
    "p = NotImplemented # Regn ut sannsynligheten \n",
    "\n",
    "print(f\"{p = }\")"
   ]
  },
  {
   "attachments": {},
   "cell_type": "markdown",
   "metadata": {},
   "source": [
    "`````{dropdown} Løsningsforslag \n",
    "````{tab} For-løkke\n",
    "```python\n",
    "import numpy as np\n",
    "\n",
    "n_forsøk = 100_000\n",
    "n_suksess = 0\n",
    "\n",
    "for _ in range(n_forsøk):\n",
    "    kast = np.random.randint(1, 7, size=2)\n",
    "    sum_av_terninger = np.sum(kast)\n",
    "    if sum_av_terninger >= 9:\n",
    "        n_suksess += 1\n",
    "\n",
    "p = n_suksess / n_forsøk\n",
    "\n",
    "print(f\"{p = }\")\n",
    "```\n",
    "````\n",
    "````{tab} Vektorisert med Numpy\n",
    "```python\n",
    "import numpy as np\n",
    "\n",
    "n_forsøk = 100_000\n",
    "kast = np.random.randint(1, 7, size=(n_forsøk, 2)) # Kaster to terninger, derfor `size=(n_forsøk, 2)`\n",
    "sum_av_terninger = np.sum(kast, axis=1)\n",
    "n_suksess = np.sum(sum_av_terninger >= 9) \n",
    "\n",
    "p = n_suksess / n_forsøk\n",
    "\n",
    "print(f\"{p = }\")\n",
    "```\n",
    "````\n",
    "\n",
    "som gir utskriften\n",
    "\n",
    "```console\n",
    "p = 0.2757\n",
    "```\n",
    "\n",
    "Altså er $P(X \\geq 9) \\approx 0.2757$.\n",
    "\n",
    "*Merk at siden vi trekker tilfeldige tall her, vil svaret man får variere litt fra gang til gang.\n",
    "\n",
    "`````"
   ]
  },
  {
   "attachments": {},
   "cell_type": "markdown",
   "metadata": {},
   "source": [
    "### Oppgave 2\n",
    "\n",
    "Levetiden til en tilfeldig valgt lyspære er normalfordelt med forventning på 400 timer og et standardavvik på 10 timer. \n",
    "Skriv en Pythonkode for å regne ut sannsynligheten for at en tilfeldig valgt lyspære har en levetid på mer enn 420 timer.\n",
    "\n",
    "\n",
    "*Du kan ta utgangspunkt i kodeskallet under. Du må fylle inn der det står `NotImplemented`.*"
   ]
  },
  {
   "cell_type": "code",
   "execution_count": null,
   "metadata": {},
   "outputs": [],
   "source": [
    "import numpy as np\n",
    "\n",
    "n_forsøk = NotImplemented # Antall pærer vi sjekker levetiden til\n",
    "n_suksess = NotImplemented # Antall ganger vi får en levetid på minst 420 timer.\n",
    "\n",
    "for _ in range(n_forsøk):\n",
    "    levetid = NotImplemented\n",
    "    if NotImplemented: # Sett betingelse for når du skal øke antall suksesser\n",
    "        n_suksess = NotImplemented\n",
    "    \n",
    "sannsynlighet_levetid_over_420 = NotImplemented # Regn ut sannsynligheten\n",
    "\n",
    "print(f\"{sannsynlighet_levetid_over_420 = :.3f}\")"
   ]
  },
  {
   "cell_type": "code",
   "execution_count": 4,
   "metadata": {},
   "outputs": [
    {
     "name": "stdout",
     "output_type": "stream",
     "text": [
      "sannsynlighet_levetid_over_420 = 0.023\n"
     ]
    }
   ],
   "source": [
    "import numpy as np\n",
    "\n",
    "n_forsøk = 100_000 # Antall pærer vi sjekker levetiden til\n",
    "\n",
    "# Trekker ut 100 000 levetider fra normalfordeling med gjennomsnitt 400 timer og standardavvik 10 timer\n",
    "levetider = np.random.normal(loc=400, scale=10, size=n_forsøk) \n",
    "\n",
    "# Sjekker hvor mange av levetidene som er over 420 timer\n",
    "n_suksess = np.sum(levetider > 420)\n",
    "\n",
    "sannsynlighet_levetid_over_420 = n_suksess / n_forsøk\n",
    "\n",
    "print(f\"{sannsynlighet_levetid_over_420 = :.3f}\")"
   ]
  },
  {
   "attachments": {},
   "cell_type": "markdown",
   "metadata": {},
   "source": [
    "`````{dropdown} Løsningsforslag\n",
    "\n",
    "````{tab} For-løkke\n",
    "```python\n",
    "import numpy as np\n",
    "\n",
    "n_forsøk = 100_000 # Antall pærer vi sjekker levetiden til\n",
    "n_suksess = 0 # Antall ganger vi får en levetid på minst 420 timer.\n",
    "\n",
    "for _ in range(n_forsøk):\n",
    "    levetid = np.random.normal(loc=400, scale=10)\n",
    "    if levetid >= 420:\n",
    "        n_suksess += 1\n",
    "    \n",
    "sannsynlighet_levetid_over_420 = n_suksess / n_forsøk\n",
    "\n",
    "print(f\"{sannsynlighet_levetid_over_420 = :.3f}\")\n",
    "```\n",
    "````\n",
    "\n",
    "````{tab} Vektorisert med Numpy\n",
    "```python\n",
    "import numpy as np\n",
    "\n",
    "n_forsøk = 100_000 # Antall pærer vi sjekker levetiden til\n",
    "\n",
    "# Trekker ut 100 000 levetider fra normalfordeling med gjennomsnitt 400 timer og standardavvik 10 timer\n",
    "levetider = np.random.normal(loc=400, scale=10, size=n_forsøk) \n",
    "\n",
    "# Sjekker hvor mange av levetidene som er over 420 timer\n",
    "n_suksess = np.sum(levetider > 420)\n",
    "\n",
    "sannsynlighet_levetid_over_420 = n_suksess / n_forsøk\n",
    "\n",
    "print(f\"{sannsynlighet_levetid_over_420 = :.3f}\")\n",
    "```\n",
    "````\n",
    "\n",
    "som gir utskriften\n",
    "\n",
    "```console\n",
    "sannsynlighet_levetid_over_420 = 0.022\n",
    "```\n",
    "\n",
    "som betyr at det $P(X \\geq 420 \\ \\text{timer}) \\approx 0.02 = 2 \\%.$ \n",
    "\n",
    "`````"
   ]
  },
  {
   "attachments": {},
   "cell_type": "markdown",
   "metadata": {},
   "source": [
    "### Oppgave 3\n",
    "\n",
    "En kjede med pærer er koblet i serie hengt opp rundt et juletre midt i Karl Johan. Hver lyspære har individuelt en levetid som er normalfordelt med en forventning på 900 timer og et standardavvik på 50 timer. \n",
    "\n",
    "Dersom én lyspære slutter å lyse, vil alle lyspærene i kjeden slutte å lyse. Oslo Kommune er interessert i å vite hvor lenge det er sannsynlig at juletreet vil lyse. De estimerer at de setter opp juletreet i midten av desember og at de tar det ned i midten av januar. Juletreet består av 2000 lyspærer.\n",
    "\n",
    "Målet her er å finne ut av hvor sannsynlig det er at juletreet vil lyse i hele perioden det er satt opp. Vi kan anta at alle lyspærene lyser samtidig."
   ]
  },
  {
   "attachments": {},
   "cell_type": "markdown",
   "metadata": {},
   "source": [
    "#### Oppgave 3a \n",
    "\n",
    "Skriv en Pythonkode som regner ut sannsynlighet for at én tilfeldig valgt lyspære vil fungere minst like lenge som juletreet er satt opp.\n",
    "\n",
    "*Du kan ta utgangspunkt i kodeskallet under. Du må fylle inn der det står `NotImplemented`.*"
   ]
  },
  {
   "cell_type": "code",
   "execution_count": null,
   "metadata": {},
   "outputs": [],
   "source": [
    "import numpy as np\n",
    "\n",
    "n_forsøk = NotImplemented \n",
    "n_suksess = NotImplemented\n",
    "minst_levetid = NotImplemented # Perioden vi ønsker at pærene minst skal vare.\n",
    "\n",
    "for _ in range(n_forsøk):\n",
    "    levetid = NotImplemented\n",
    "    if NotImplemented: \n",
    "        n_suksess = NotImplemented\n",
    "    \n",
    "p = NotImplemented\n",
    "\n",
    "print(f\"{p = }\")"
   ]
  },
  {
   "attachments": {},
   "cell_type": "markdown",
   "metadata": {},
   "source": [
    "`````{dropdown} Løsningsforslag\n",
    "\n",
    "````{tab} For-løkke\n",
    "```python\n",
    "import numpy as np\n",
    "\n",
    "n_forsøk = 100_000\n",
    "n_suksess = 0\n",
    "minst_levetid = 30 * 24 # 30 dager * 24 timer per dag \n",
    "\n",
    "for _ in range(n_forsøk):\n",
    "    levetid = np.random.normal(loc=900, scale=50)\n",
    "    if levetid >= minst_levetid: \n",
    "        n_suksess += 1\n",
    "    \n",
    "p = n_suksess / n_forsøk\n",
    "\n",
    "print(f\"{p = }\")\n",
    "```\n",
    "````\n",
    "\n",
    "````{tab} Vektorisert med Numpy\n",
    "```python\n",
    "import numpy as np\n",
    "\n",
    "n_forsøk = 100_000\n",
    "minst_levetid = 24 * 30 # Perioden vi ønsker at pærene minst skal vare.\n",
    "\n",
    "# Trekker ut 100 000 levetider fra normalfordeling med gjennomsnitt 900 timer og standardavvik 50 timer\n",
    "levetider = np.random.normal(loc=900, scale=50, size=n_forsøk)\n",
    "\n",
    "# Sjekker hvor mange av levetiden som varer minst hele perioden\n",
    "n_suksess = np.sum(levetider >= minst_levetid)\n",
    "\n",
    "# Regner ut sannsynligheten \n",
    "p = n_suksess / n_forsøk\n",
    "\n",
    "print(f\"{p = }\")\n",
    "```\n",
    "````\n",
    "\n",
    "som gir utskriften\n",
    "\n",
    "```console\n",
    "p = 0.99989\n",
    "```\n",
    "\n",
    "så vi kan være rimelig sikre på at én enkelt pære vil vare hele perioden.\n",
    "\n",
    "`````"
   ]
  },
  {
   "attachments": {},
   "cell_type": "markdown",
   "metadata": {},
   "source": [
    "#### Oppgave 3b"
   ]
  },
  {
   "attachments": {},
   "cell_type": "markdown",
   "metadata": {},
   "source": [
    "Bruk Python til å regne ut sannsynligheten for at alle 2000 lyspærer varer minst hele perioden treet er satt opp.\n",
    "\n",
    "*Du kan ta utgangspunkt i kodeskallet under. Du må fylle inn der det står `NotImplemented`.*\n",
    "\n",
    "\n",
    "\n",
    "````{dropdown} Kodehint\n",
    "\n",
    "Du kan trekke 2000 tilfeldige tall fra en normalfordeling ved å bruke \n",
    "```python\n",
    "levetider = np.random.normal(loc=900, scale=50, size=2000)\n",
    "``` \n",
    "Hvis du ønsker å sjekke om alle sammen oppfyller en betingelse samtidig, kan du bruke \n",
    "\n",
    "```python\n",
    "if np.all(betingelse):\n",
    "    # Kodeblokk her.\n",
    "```\n",
    "\n",
    "````\n"
   ]
  },
  {
   "attachments": {},
   "cell_type": "markdown",
   "metadata": {},
   "source": [
    "`````{dropdown} Løsningsforslag\n",
    "\n",
    "*Merk at koden som kjører \"ren Python\" er veldig treg. De to vektoriserte versjonene er omtrent like raske.*\n",
    "\n",
    "````{tab} Ren Python\n",
    "```python\n",
    "import numpy as np \n",
    "\n",
    "antall_pærer = 2000\n",
    "n_forsøk = 100_000\n",
    "n_fail = 0\n",
    "minst_levetid = 30 * 24 # 30 dager * 24 timer per dag\n",
    "\n",
    "for _ in range(n_forsøk):\n",
    "    for j in range(antall_pærer):\n",
    "        levetid = np.random.normal(loc=900, scale=50)\n",
    "        if levetid < minst_levetid:\n",
    "            n_fail += 1\n",
    "            break\n",
    "\n",
    "n_suksess = n_forsøk - n_fail\n",
    "    \n",
    "p = n_suksess / n_forsøk\n",
    "\n",
    "print(f\"{p = }\")\n",
    "```\n",
    "\n",
    "````\n",
    "\n",
    "````{tab} Delvis vektorisert med Numpy\n",
    "\n",
    "```python\n",
    "import numpy as np \n",
    "\n",
    "antall_pærer = 2000\n",
    "n_forsøk = 100_000\n",
    "n_suksess = 0\n",
    "minst_levetid = 30 * 24 # 30 dager * 24 timer per dag\n",
    "\n",
    "for _ in range(n_forsøk):\n",
    "    levetid = np.random.normal(loc=900, scale=50, size=antall_pærer)\n",
    "    if np.all(levetid >= minst_levetid): \n",
    "        n_suksess += 1\n",
    "    \n",
    "p = n_suksess / n_forsøk\n",
    "\n",
    "print(f\"{p = }\")\n",
    "```\n",
    "````\n",
    "\n",
    "````{tab} Vektorisert med Numpy\n",
    "```python\n",
    "import numpy as np \n",
    "\n",
    "antall_pærer = 2000\n",
    "n_forsøk = 100_000\n",
    "n_suksess = 0\n",
    "minst_levetid = 30 * 24 # antall timer vi ønsker at pærene skal vare\n",
    "\n",
    "levetider = np.random.normal(loc=900, scale=50, size=(n_forsøk, antall_pærer))\n",
    "\n",
    "n_suksess = np.sum(np.all(levetider >= minst_levetid, axis=1))\n",
    "\n",
    "p = n_suksess / n_forsøk\n",
    "\n",
    "print(f\"{p = }\")\n",
    "```\n",
    "````\n",
    "\n",
    "som gir utskriften\n",
    "\n",
    "```console\n",
    "p = 0.72904\n",
    "```\n",
    "\n",
    "som betyr at sannsynligheten for at juletreet vil lyse gjennom hele perioden er ca. 73 %.\n",
    "\n",
    "`````"
   ]
  }
 ],
 "metadata": {
  "kernelspec": {
   "display_name": "Python 3",
   "language": "python",
   "name": "python3"
  },
  "language_info": {
   "codemirror_mode": {
    "name": "ipython",
    "version": 3
   },
   "file_extension": ".py",
   "mimetype": "text/x-python",
   "name": "python",
   "nbconvert_exporter": "python",
   "pygments_lexer": "ipython3",
   "version": "3.11.4"
  },
  "orig_nbformat": 4
 },
 "nbformat": 4,
 "nbformat_minor": 2
}
