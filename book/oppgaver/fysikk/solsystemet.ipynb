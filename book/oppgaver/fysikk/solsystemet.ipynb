{
 "cells": [
  {
   "attachments": {},
   "cell_type": "markdown",
   "metadata": {},
   "source": [
    "# Prosjekt: Simulering av Solsystemet\n",
    "\n",
    "I dette prosjektet skal du skrive en Pythonkode som regner ut banene til planetene i solsystemet vårt basert på data hentet ut fra [NASA JPL Horizons System](https://ssd.jpl.nasa.gov/horizons/app.html#/). \n"
   ]
  },
  {
   "attachments": {},
   "cell_type": "markdown",
   "metadata": {},
   "source": [
    "## Datasettet\n",
    "\n",
    "### Hvordan laste ned datasettet?\n",
    "```python\n",
    "import os\n",
    "url = \"https://raw.githubusercontent.com/reneaas/vgs_programmering/main/datasets/solar_system/solsystem_data.json\"\n",
    "os.system(\" \".join([\"curl\", \"-o\", url, \"solsystem_data.json\"]))\n",
    "```\n",
    "\n",
    "### Hvordan loade datasettet?\n",
    "\n",
    "```python\n",
    "import json\n",
    "with open(\"solsystem_data.json\", \"r\") as infile:\n",
    "    data = json.load(infile)\n",
    "```\n"
   ]
  },
  {
   "cell_type": "code",
   "execution_count": null,
   "metadata": {},
   "outputs": [],
   "source": []
  }
 ],
 "metadata": {
  "language_info": {
   "name": "python"
  },
  "orig_nbformat": 4
 },
 "nbformat": 4,
 "nbformat_minor": 2
}
