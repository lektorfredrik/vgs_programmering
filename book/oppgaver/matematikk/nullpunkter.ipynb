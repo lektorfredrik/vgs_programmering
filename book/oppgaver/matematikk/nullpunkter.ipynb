{
 "cells": [
  {
   "attachments": {},
   "cell_type": "markdown",
   "metadata": {},
   "source": [
    "# Finne nullpunkter\n"
   ]
  },
  {
   "attachments": {},
   "cell_type": "markdown",
   "metadata": {},
   "source": [
    "## Oppgave 1\n",
    "\n",
    "Finn nullpunktene til funksjonen \n",
    "\n",
    "$$\n",
    "f(x) = x^2 - 4\n",
    "$$ \n",
    "\n",
    "ved å bruke [halveringsmetoden](../../numeriske_metoder/nullpunkter/halveringsmetoden.md).\n",
    "\n",
    "*Du kan ta utgangspunkt i kodeskallet under til å løse oppgaven. Du må fylle inn delene der det står `NotImplemented`.*"
   ]
  },
  {
   "cell_type": "code",
   "execution_count": null,
   "metadata": {},
   "outputs": [],
   "source": [
    "def f(x):\n",
    "    return NotImplemented\n",
    "\n",
    "def nullpunkt(f, a, b, tol=1e-8):\n",
    "    m = NotImplemented\n",
    "    while abs(f(m)) > tol:\n",
    "        if NotImplemented:\n",
    "            a = m\n",
    "        else:\n",
    "            b = m\n",
    "        m = NotImplemented\n",
    "    return m\n",
    "\n",
    "x1 = nullpunkt(f=f, a=-4, b=0)\n",
    "x2 = nullpunkt(f=f, a=0, b=4)"
   ]
  },
  {
   "attachments": {},
   "cell_type": "markdown",
   "metadata": {},
   "source": [
    "````{dropdown} Løsningsforslag\n",
    "\n",
    "```python \n",
    "def f(x):\n",
    "    return x**2 - 4\n",
    "\n",
    "def nullpunkt(f, a, b, tol=1e-8):\n",
    "    m = 0.5 * (a + b)\n",
    "    while abs(f(m)) > tol:\n",
    "        if f(m) * (b) < 0:\n",
    "            a = m\n",
    "        else:\n",
    "            b = m\n",
    "        m = 0.5 * (a + b)\n",
    "    return m\n",
    "\n",
    "x1 = nullpunkt(f=f, a=-4, b=0)\n",
    "x2 = nullpunkt(f=f, a=0, b=4)\n",
    "\n",
    "print(x1, x2)\n",
    "```\n",
    "som gir utskriften\n",
    "\n",
    "```console\n",
    "-2.0 2.0\n",
    "```\n",
    "\n",
    "Altså er nullpunktene $x \\pm 2$.\n",
    "\n",
    "````\n"
   ]
  }
 ],
 "metadata": {
  "kernelspec": {
   "display_name": "Python 3",
   "language": "python",
   "name": "python3"
  },
  "language_info": {
   "codemirror_mode": {
    "name": "ipython",
    "version": 3
   },
   "file_extension": ".py",
   "mimetype": "text/x-python",
   "name": "python",
   "nbconvert_exporter": "python",
   "pygments_lexer": "ipython3",
   "version": "3.11.3"
  },
  "orig_nbformat": 4
 },
 "nbformat": 4,
 "nbformat_minor": 2
}
