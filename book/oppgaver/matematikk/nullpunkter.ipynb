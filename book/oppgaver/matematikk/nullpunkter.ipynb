{
 "cells": [
  {
   "attachments": {},
   "cell_type": "markdown",
   "metadata": {},
   "source": [
    "# Finne nullpunkter\n"
   ]
  },
  {
   "attachments": {},
   "cell_type": "markdown",
   "metadata": {},
   "source": [
    "## Oppgave 1\n",
    "\n",
    "Finn nullpunktene til funksjonen \n",
    "\n",
    "$$\n",
    "f(x) = x^2 - 4\n",
    "$$ \n",
    "\n",
    "ved å bruke [halveringsmetoden](../../numeriske_metoder/nullpunkter/halveringsmetoden.md).\n",
    "\n",
    "*Du kan ta utgangspunkt i kodeskallet under til å løse oppgaven. Du må fylle inn delene der det står `NotImplemented`.*"
   ]
  },
  {
   "cell_type": "code",
   "execution_count": null,
   "metadata": {},
   "outputs": [],
   "source": [
    "def f(x):\n",
    "    return NotImplemented\n",
    "\n",
    "def nullpunkt(f, a, b, tol=1e-8):\n",
    "    m = NotImplemented\n",
    "    while abs(f(m)) > tol:\n",
    "        if NotImplemented:\n",
    "            a = m\n",
    "        else:\n",
    "            b = m\n",
    "        m = NotImplemented\n",
    "    return m\n",
    "\n",
    "x1 = nullpunkt(f=f, a=-4, b=0)\n",
    "x2 = nullpunkt(f=f, a=0, b=4)"
   ]
  },
  {
   "attachments": {},
   "cell_type": "markdown",
   "metadata": {},
   "source": [
    "````{dropdown} Løsningsforslag\n",
    "\n",
    "```python \n",
    "def f(x):\n",
    "    return x**2 - 4\n",
    "\n",
    "def nullpunkt(f, a, b, tol=1e-8):\n",
    "    m = 0.5 * (a + b)\n",
    "    while abs(f(m)) > tol:\n",
    "        if f(m) * (b) < 0:\n",
    "            a = m\n",
    "        else:\n",
    "            b = m\n",
    "        m = 0.5 * (a + b)\n",
    "    return m\n",
    "\n",
    "x1 = nullpunkt(f=f, a=-4, b=0)\n",
    "x2 = nullpunkt(f=f, a=0, b=4)\n",
    "\n",
    "print(x1, x2)\n",
    "```\n",
    "som gir utskriften\n",
    "\n",
    "```console\n",
    "-2.0 2.0\n",
    "```\n",
    "\n",
    "Altså er nullpunktene $x = \\pm 2$.\n",
    "\n",
    "````\n"
   ]
  },
  {
   "attachments": {},
   "cell_type": "markdown",
   "metadata": {},
   "source": [
    "## Oppgave 2\n",
    "\n",
    "Finn ett av nullpunktene til funksjonen\n",
    "\n",
    "$$\n",
    "f(x) = x^3 - 2x^2 - 5x + 6,\n",
    "$$\n",
    "\n",
    "ved å bruke [Newtons metode](../../numeriske_metoder/nullpunkter/newtons_metode.md).\n",
    "\n",
    "*Du kan ta utgangspunkt i kodeskallet under til å løse oppgaven. Du må fylle inn delene der det står `NotImplemented`.*\n"
   ]
  },
  {
   "cell_type": "code",
   "execution_count": null,
   "metadata": {},
   "outputs": [],
   "source": [
    "def f(x):\n",
    "    return NotImplemented\n",
    "\n",
    "def dfdx(f, x, h=1e-8):\n",
    "    return NotImplemented\n",
    "\n",
    "x = NotImplemented # Startverdi \n",
    "while abs(f(x)) > 1e-8:\n",
    "    x = NotImplemented\n",
    "\n",
    "print(f\"{x = }\")"
   ]
  },
  {
   "attachments": {},
   "cell_type": "markdown",
   "metadata": {},
   "source": [
    "````{dropdown} Løsningsforslag\n",
    "\n",
    "```python\n",
    "def f(x):\n",
    "    return x**3 - 2 * x**2 - 5*x + 6\n",
    "\n",
    "def dfdx(f, x, h=1e-8):\n",
    "    return (f(x+h) - f(x)) / h\n",
    "\n",
    "x = 0 # Startverdi \n",
    "while abs(f(x)) > 1e-8:\n",
    "    x = x - f(x) / dfdx(f, x)\n",
    "\n",
    "print(f\"{x = :-.2f}\")\n",
    "```\n",
    "\n",
    "````"
   ]
  },
  {
   "attachments": {},
   "cell_type": "markdown",
   "metadata": {},
   "source": [
    "### Oppgave 3: Sekantmetoden\n",
    "\n",
    "En annen metode for å estimere nullpunkter kalles for **sekantmetoden**. Sekantmetoden likner på Newtons metode. Den store forskjellen er at sekantmetoden bruker en *sekant* i stedet for en *tangent* for å estimere nullpunktet. En sekant er en rett linje som går gjennom to punkter. I sekantmetoden bruker vi to punkter på grafen til funksjonen $f(x)$ for å estimere nullpunktet. Algoritmen er som følger:\n",
    "\n",
    "```{prf:algorithm} Sekantmetoden\n",
    "**Input** Funksjon $f(x)$, startverdier $x_0$ og $x_1$ og toleranse $\\epsilon$.\n",
    "\n",
    "**Output** Et estimat på et nullpunkt til $f(x)$.\n",
    "\n",
    "1. Sett $x = x_1$. \n",
    "2. While $|f(x)| > \\epsilon$\n",
    "    1. Sett $x = x_1 - f(x_1) (x_1 - x_0) / (f(x_1) - f(x_0))$.\n",
    "    2. Sett $x_0 = x_1$.\n",
    "    3. Sett $x_1 = x$.\n",
    "3. Returner $x$.\n",
    "```\n",
    "\n",
    "Skriv en Pythonkode som bruker algoritmen til å regne ut et nullpunkt til funksjonen\n",
    "\n",
    "$$\n",
    "f(x) = e^x - x^2.\n",
    "$$\n",
    "\n",
    "*Du kan ta utgangspunkt i kodeskallet under. Du må fylle inn der det står `NotImplemented`.* "
   ]
  },
  {
   "cell_type": "code",
   "execution_count": null,
   "metadata": {},
   "outputs": [],
   "source": [
    "import math # Importerer matematikk-biblioteket\n",
    "def f(x):\n",
    "    return NotImplemented\n",
    "\n",
    "# Startverdien for x0 og x1. Kan velges litt tilfeldig.\n",
    "x0 = 5\n",
    "x1 = 7\n",
    "\n",
    "while NotImplemented:\n",
    "    x = NotImplemented # Estimat på nullpunktet\n",
    "\n",
    "    x0, x1 = x1, x0 # x0 får verdien til x1, x1 får verdien til x0.\n",
    "    x, x1 = x1, x # x får verdien til x1, x1 får verdien til x"
   ]
  },
  {
   "attachments": {},
   "cell_type": "markdown",
   "metadata": {},
   "source": [
    "````{dropdown} Løsningsforslag\n",
    "\n",
    "```python\n",
    "import math\n",
    "def f(x):\n",
    "    return math.exp(x) - x**2 \n",
    "\n",
    "# Startverdien for x0 og x1. Kan velges litt tilfeldig.\n",
    "x0 = 5\n",
    "x1 = 10\n",
    "\n",
    "x = x1\n",
    "while abs(f(x)) > 1e-8:\n",
    "    x = x1 - f(x1) * (x1 - x0) / (f(x1) - f(x0)) # Estimat på nullpunktet\n",
    "    x0, x1 = x1, x0 # x0 vår verdien til x1 og motsatt.\n",
    "    x, x1 = x1, x # x1 får verdien til x, x får verdien til x1\n",
    "\n",
    "print(f\"{x1 = }\") # x1 har den siste estimerte verdien til nullpunktet fordi vi swapper x og x1 i løkka!\n",
    "```\n",
    "\n",
    "````"
   ]
  }
 ],
 "metadata": {
  "kernelspec": {
   "display_name": "Python 3",
   "language": "python",
   "name": "python3"
  },
  "language_info": {
   "codemirror_mode": {
    "name": "ipython",
    "version": 3
   },
   "file_extension": ".py",
   "mimetype": "text/x-python",
   "name": "python",
   "nbconvert_exporter": "python",
   "pygments_lexer": "ipython3",
   "version": "3.11.4"
  },
  "orig_nbformat": 4
 },
 "nbformat": 4,
 "nbformat_minor": 2
}
