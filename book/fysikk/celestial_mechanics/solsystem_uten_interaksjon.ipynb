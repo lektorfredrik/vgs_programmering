{
 "cells": [
  {
   "cell_type": "markdown",
   "metadata": {},
   "source": [
    "# Simulering av Solsystemet (uten interaksjoner) \n",
    "\n",
    "Planetbanene kan bestemmes med Newtons 2.lov med gravitasjonsloven. Målet her er at du skal skrive en simulering som regner ut planetbanene til solsystemet vårt, og lage en animasjon av dette for visualisering av banene. Her skal du ignorere interaksjonene mellom planetene, og kun se på solens gravitasjonsfelt. Solen har en såpass stor masse at dens effekt på planetbanene er mye større enn effekten fra de andre planetene."
   ]
  }
 ],
 "metadata": {
  "language_info": {
   "name": "python"
  },
  "orig_nbformat": 4
 },
 "nbformat": 4,
 "nbformat_minor": 2
}
