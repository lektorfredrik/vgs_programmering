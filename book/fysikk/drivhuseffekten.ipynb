{
 "cells": [
  {
   "attachments": {},
   "cell_type": "markdown",
   "metadata": {},
   "source": [
    "# En klimamodell for drivhuseffekten\n",
    "\n",
    "Energien jorden mottar fra sola kommer i hovedsak fra elektromagnetisk stråling. All energien jorda mottar, blir til slutt sendt tilbake ut i verdensrommet. Siden energien er bevart, kan vi sette opp det som kalles for en **energi-balanse modell** for jordsystemet. Her skal vi bygge opp en klimamodell som tar hensyn til drivhuseffekten samt noen andre effekter, og bruke disse til å regne ut likevektstemperaturen til jorda. Denne temperaturen blir effektivt sett gjennomsnittstemperaturen på overflaten av jorda. \n",
    "\n"
   ]
  },
  {
   "attachments": {},
   "cell_type": "markdown",
   "metadata": {},
   "source": [
    "## Bakgrunnsteori"
   ]
  },
  {
   "attachments": {},
   "cell_type": "markdown",
   "metadata": {},
   "source": [
    "### Energien som sendes ut fra sola\n",
    "\n",
    "\n",
    "Fra [Stefan-Boltzmanns lov](https://snl.no/Stefan-Boltzmanns_lov), har vi at energifluksen sendt ut fra et sort legemet er gitt ved\n",
    "\n",
    "$$\n",
    "F = \\sigma T^4,\n",
    "$$ (eq:stefan-boltzmann)\n",
    "\n",
    "der\n",
    "\n",
    "- $T$ er (den effektive) temperaturen til det sorte legemet målt i kelvin, K.\n",
    "- $F$ er den utsendte energifluksen målt i enheten $\\text{J} \\text{m}^{-2} \\text{s}^{-1} = \\text{W} \\text{m}^{-2}$ (energi per areal per tidsenhet eller effekt per areal).\n",
    "- $\\sigma$ er en proporsjonalitetskonstant med gitt ved $\\sigma = 5.6703\\cdot 10^{-8} \\, \\text{W}\\text{m}^{-2}\\text{K}^{-4} $"
   ]
  },
  {
   "attachments": {},
   "cell_type": "markdown",
   "metadata": {},
   "source": [
    "Den totale energien som sendes ut fra overflaten til sola, kalt **luminositeten** til sola, er gitt ved å gange energifluksen dens med overflatearealet til sola. Da får vi \n",
    "\n",
    "$$\n",
    "L_\\odot = F_\\odot \\cdot A_\\odot = 4\\pi R_\\odot^2 \\sigma T_\\odot^4,\n",
    "$$\n",
    "\n",
    "der $R_\\odot$ er radiusen til sola og vi har brukt at overflatearealet til en kule er gitt ved $A = 4\\pi R^2$.\n",
    "\n",
    "```{admonition} Symboler for sola og jorda\n",
    ":class: tip\n",
    "\n",
    "I astronomien, har man innført symboler for de ulike legemene for å gjøre det enklere å skrive ned likninger. Her er symbolene vi kommer til å bruke\n",
    "\n",
    "| Legeme | Symbol |\n",
    "|--------|--------|\n",
    "| Sola   | $\\odot$ |\n",
    "| Jorda  | $\\oplus$ |\n",
    "\n",
    "\n",
    "```"
   ]
  },
  {
   "attachments": {},
   "cell_type": "markdown",
   "metadata": {},
   "source": [
    "#### Data for solen\n",
    "\n",
    "Vi kan finne data for sola på [NASA sin nettside](https://nssdc.gsfc.nasa.gov/planetary/factsheet/sunfact.html). Den relevante dataen er listet opp i tabellen under\n",
    "\n",
    "| Størrelse | Verdi |\n",
    "|-----------|-------|\n",
    "| Radius    | $696 340 \\ \\text{km}$ |\n",
    "| Effektiv Temperatur | $5772 \\text{ K}$ |\n",
    "| Luminositet | $382.8 \\cdot 10^{24} \\, \\text{W}$ |"
   ]
  },
  {
   "attachments": {},
   "cell_type": "markdown",
   "metadata": {},
   "source": [
    "#### Underveisoppgave 1\n",
    "\n",
    "Regn ut luminositeten til sola ved å bruke Stefan-Boltzmanns lov. Sammenlign med verdien i tabellen over.\n",
    "\n",
    "**Bruk gjerne kodeskallet under. Du må fylle inn der det står `NotImplemented`.*"
   ]
  },
  {
   "cell_type": "code",
   "execution_count": null,
   "metadata": {},
   "outputs": [],
   "source": [
    "radius = NotImplemented\n",
    "temperatur = NotImplemented\n",
    "stefan_boltzmann_const = NotImplemented\n",
    "luminositet = NotImplemented"
   ]
  },
  {
   "cell_type": "code",
   "execution_count": 11,
   "metadata": {},
   "outputs": [
    {
     "name": "stdout",
     "output_type": "stream",
     "text": [
      "luminositet = 3.835e+26 W\n"
     ]
    }
   ],
   "source": [
    "import numpy as np\n",
    "\n",
    "radius_sola = 696_340e3\n",
    "temperatur = 5772\n",
    "stefan_boltzmann_const = 5.670_374_419e-8\n",
    "areal_sola = 4 * np.pi * radius_sola**2\n",
    "luminositet = stefan_boltzmann_const * temperatur**4 * areal_sola\n",
    "\n",
    "print(f\"{luminositet = :.3e} W\")"
   ]
  },
  {
   "attachments": {},
   "cell_type": "markdown",
   "metadata": {},
   "source": [
    "````{dropdown} Løsningsforslag\n",
    "\n",
    "```python\n",
    "import numpy as np\n",
    "\n",
    "radius_sola = 696_340e3\n",
    "temperatur = 5772\n",
    "stefan_boltzmann_const = 5.670_374_419e-8\n",
    "areal_sola = 4 * np.pi * radius_sola**2\n",
    "luminositet = stefan_boltzmann_const * temperatur**4 * areal_sola\n",
    "\n",
    "print(f\"{luminositet = :.3e} W\")\n",
    "```\n",
    "\n",
    "som betyr at\n",
    "\n",
    "$$\n",
    "L_\\odot \\approx 383.5 \\cdot 10^{24} \\, \\text{W},\n",
    "$$\n",
    "\n",
    "som er ganske likt verdien i tabellen over.\n",
    "\n",
    "\n",
    "````"
   ]
  },
  {
   "attachments": {},
   "cell_type": "markdown",
   "metadata": {},
   "source": [
    "### Energien som mottas av jorda\n",
    "\n",
    "Energien som sendes ut fra sola hvert sekund, som vi kan regne ut fra luminositeten til sola, sprer seg jevnt ut i alle retninger. Vi kan tenke oss at denne energien danner en kuleflate med radius lik avstanden fra sola til jorda. Siden energien sprer seg jevnt utover denne kuleflaten, vil energifluksen som treffer jorda være gitt ved\n",
    "\n",
    "$$\n",
    "F_{\\oplus \\gets \\odot} = \\frac{L_\\odot}{4\\pi d^2}, = \\frac{4\\pi R_\\odot^2 \\sigma T_\\odot^4}{4\\pi d^2} = \\sigma \\frac{R_\\odot^2}{d^2} T_\\odot^4.\n",
    "$$\n",
    "\n",
    "Verdien for denne størrelsen kalles for **solkonstanten** på jorda, og er ca. $F_{\\oplus \\gets \\odot} \\approx 1370 \\, \\text{W} \\text{m}^{-2}$.\n",
    "\n",
    "Den totale effekten som treffer jorda, finner vi vet å gange energifluksen som mottas på jorda med overflatearealet til et tverrsnitt gjennom jorda, som dette:\n",
    "\n",
    "$$\n",
    "P_\\oplus = \\pi R_{\\oplus}^2 F_{\\oplus \\gets \\odot}.\n",
    "$$\n",
    "\n",
    "#### Albedo: refleksjon av stråling tilbake til verdensrommet\n",
    "\n",
    "Jorden har en egenskap kalt for **albedo** (tenk på det som et mål på \"hvithet\"). Albedo er andelen av strålingen som kommer fra sola som reflekteres tilbake igjen til verdensrommet på grunn av skylag, snø og is, og andre reflekterende overflater. Albedo er gitt ved en verdi mellom 0 og 1, der 0 betyr at all strålingen som treffer jorda absorberes, og 1 betyr at all strålingen som treffer jorda reflekteres tilbake til verdensrommet. Jorden har en albedo $A \\approx 0.28$, som betyr at $28\\%$ av strålingen som treffer jorda reflekteres tilbake til verdensrommet.\n",
    "\n",
    "Den **absorberte effekten** på jorden er derfor\n",
    "\n",
    "$$\n",
    "P_{\\oplus, \\text{absorbert}} = (1 - A)P_{\\oplus \\gets \\odot}.\n",
    "$$\n",
    "\n",
    "\n",
    "Og siden energien vil spre seg jevnt over hele overflaten til jorda, kan vi finne den absorterte energifluksen ved å dele på overflatearealet til jorda\n",
    "\n",
    "$$\n",
    "F_{\\oplus, \\text{absorbert}} = \\frac{P_{\\oplus, \\text{absorbert}}}{4\\pi R_\\oplus^2} = \\frac{(1-A) \\pi R_\\oplus^2}{4 \\pi R_\\oplus^2} F_{\\oplus \\gets \\} = \\frac{1-A}{4} F_\\text{jorda}.\n",
    "$$\n",
    "\n",
    "\n"
   ]
  },
  {
   "attachments": {},
   "cell_type": "markdown",
   "metadata": {},
   "source": [
    "### Atmosfærens effekt på strålingen\n",
    "\n",
    "Vi har allerede inkludert at en del av strålingen (typisk det synlige lyset) reflekteres rett tilbake til verdensrommet på grunn av jordens albedo. Den resterende stråling absorberes av jorden og bidrar til å øke jorda temperatur. Jorda vil så sende ut stråling som et sort legeme, men strålingen jorden sender ut er primært infrarød stråling. "
   ]
  },
  {
   "attachments": {},
   "cell_type": "markdown",
   "metadata": {},
   "source": [
    "Vi tenker oss at jorda har en overflatetemperatur $T_\\text{overflate}$. Fra denne overflaten, sendes det ut en energifluks\n",
    "\n",
    "$$\n",
    "F_\\text{overflate} = \\sigma T_\\text{overflate}^4,\n",
    "$$\n",
    "\n",
    "etter Stefan-Boltzmanns lov, likning {eq}`eq:stefan-boltzmann`.\n",
    "\n",
    "En andel $f$ av denne energien blir absorbert av atmosfæren rundt jorda, "
   ]
  },
  {
   "attachments": {},
   "cell_type": "markdown",
   "metadata": {},
   "source": []
  },
  {
   "attachments": {},
   "cell_type": "markdown",
   "metadata": {},
   "source": [
    "## Oppgaver"
   ]
  },
  {
   "attachments": {},
   "cell_type": "markdown",
   "metadata": {},
   "source": [
    "### Oppgave 1: Regn ut de nødvendige fysiske størrelsene\n",
    "\n",
    "I denne oppgaven skal du regne ut de ulike fysiske størrelsene vi trenger i modellen vår. Du skal regne ut\n",
    "\n",
    "- Luminositeten $L$ til sola\n",
    "- Solkonstanten $F_\\text{jorda}$\n",
    "- Den absorberte effekten $P_\\text{absorbert}$\n",
    "- Den absorberte energifluksen $F_\\text{absorbert}$\n",
    "\n",
    "*Du kan bruke kodeskallet under. Du må fylle inn der det står `NotImplemented`.*"
   ]
  },
  {
   "attachments": {},
   "cell_type": "markdown",
   "metadata": {},
   "source": []
  }
 ],
 "metadata": {
  "kernelspec": {
   "display_name": "Python 3",
   "language": "python",
   "name": "python3"
  },
  "language_info": {
   "codemirror_mode": {
    "name": "ipython",
    "version": 3
   },
   "file_extension": ".py",
   "mimetype": "text/x-python",
   "name": "python",
   "nbconvert_exporter": "python",
   "pygments_lexer": "ipython3",
   "version": "3.11.4"
  },
  "orig_nbformat": 4
 },
 "nbformat": 4,
 "nbformat_minor": 2
}
