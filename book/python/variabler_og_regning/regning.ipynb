{
 "cells": [
  {
   "attachments": {},
   "cell_type": "markdown",
   "metadata": {},
   "source": [
    "# Å regne med Python\n",
    "\n",
    "## Læringsmål\n",
    "\n",
    "- Å kunne bruke Python som en kalkulator ved å gjøre enkle og sammensatte regneoperasjoner med pluss, minus, gange, dele, potensregning, heltallsdivisjon og restdivisjon. \n",
    "\n",
    "## Introduksjon\n",
    "\n",
    "Python kode kan gjøre vanlige regneoperasjoner som vi lærer om i matematikken, og siden vi skal bruke Python i de regnetunge realfagene, er det naturlig at vi må lære om dette.\n",
    "\n",
    "```{admonition} Hvilke datatyper kan man regne med?\n",
    ":class: tip\n",
    "Vi kan regne med to datatyper:\n",
    "\n",
    "1. **int** (heltall).\n",
    "2. **float** (flyttall/desimaltall). \n",
    "\n",
    "\n",
    "Det er vanligst å regne med `float`. Man kan regne med `int` på samme måte som man regner med `float`, men resultatet blir ofte omgjort til en `float` selv om du opprinnelig hadde en eller flere `int` i regnestykket.\n",
    "```"
   ]
  },
  {
   "attachments": {},
   "cell_type": "markdown",
   "metadata": {},
   "source": [
    "## Regneoperasjoner i Python\n",
    "\n",
    "Alle de vanlige regneoperasjonene (regneartene) er mulig å bruke når man skriver Python kode. \n",
    "I tabell 1 vises alle regneoperasjoner du kan gjøre med Python og hvilket operasjonstegn du må bruke.\n",
    "\n",
    "**Tabell 1**: Regneoperasjoner i Python.\n",
    "\n",
    "| Regneart | Operasjonstegn | Eksempel  | Python kode | Resultat | \n",
    "|---|---|---|---| --- |\n",
    "| Addisjon (pluss) | `+` | $2 + 3$ |`2 + 3` | `5` |\n",
    "| Subtraksjon (minus) | `-` | $2 - 3$ | `2 - 3` | `-1` |\n",
    "| Multiplikasjon (ganging) | `*` | $2\\cdot 3$ | `2 * 3` |  `6` |\n",
    "| Divisjon (deling) | `/` | $2 / 3$ | `2 / 3` | `0.6666666666666666` |\n",
    "| Potens | `**` | $2^3$ | `2**3` | `8` |\n",
    "\n",
    "\n",
    "<!-- | Heltallsdivisjon | `//` | - | `2 // 3` | `0` |\n",
    "| Modulo (restdivisjon) | `%` | - | `2 % 3` | `2` |\n",
    "\n",
    "```{admonition} Hva betyr heltallsdivisjon og modulo?\n",
    ":class: tip, dropdown\n",
    "\n",
    "**Heltallsdivisjon** er antallet *hele* ganger et tall går opp i et annet. For eksempel går `3` opp i `10` tre ganger, og derfor er `10 // 3 = 3`.\n",
    "\n",
    "**Modulo** eller **restdivisjon** er resten av en heltallsdivisjon. Når vi gjør heltalls divisjon har vi brukt opp tallet 3 tre ganger, som gir $3\\cdot 3 = 9$. Da gjenstår det 1 som rest siden $10 - 9 = 1$.\n",
    "``` -->"
   ]
  },
  {
   "attachments": {},
   "cell_type": "markdown",
   "metadata": {},
   "source": [
    "### Øvelser: Regneoperasjoner i Python\n",
    "\n",
    "La oss ta se på noen eksempler på kode med de ulike regneartene."
   ]
  },
  {
   "attachments": {},
   "cell_type": "markdown",
   "metadata": {},
   "source": [
    "#### Øvelse 1: Addisjon og subtraksjon\n",
    "\n",
    "Under vises en liten kodesnutt.\n",
    "\n",
    "```python\n",
    "a = 3 + 2 - 1\n",
    "```\n",
    "\n",
    "Hva blir tallet som lagres i `a`? \n",
    "\n",
    "*Når du har tenkt ut et svar, kan du kjøre kodelinjen og printe ut verdien til `a` for å sjekke om du har rett!*\n",
    "\n",
    "```{admonition} Løsningsforslag\n",
    ":class: dropdown\n",
    "Regnestykket som gjøres er \n",
    "$$\n",
    "a = 3 + 2 - 1 = 5 - 1 = 4\n",
    "$$\n",
    "```"
   ]
  },
  {
   "attachments": {},
   "cell_type": "markdown",
   "metadata": {},
   "source": [
    "#### Øvelse 2: Multiplikasjon og divisjon\n",
    "\n",
    "Under vises en liten kodesnutt.\n",
    "\n",
    "```python\n",
    "b = 4 / 2 \n",
    "c = 2 * b\n",
    "```\n",
    "\n",
    "Hvilken verdi lagres av `c`?\n",
    "\n",
    "*Når du har tenkt ut et svar, kan du kjøre koden og printe ut verdien til `c` for å sjekke om du har rett!*\n",
    "\n",
    "```````{admonition} Løsningsforslag\n",
    ":class: dropdown\n",
    "``````{admonition} Sikker på at du vil ha løsningen altså? Kanskje du skal tenke litt til?\n",
    ":class: warning, dropdown\n",
    "`````{admonition} Du kan få et hint...\n",
    ":class: tip, dropdown\n",
    "Hint: Python regner først ut verdien til `b`, deretter brukes den verdien når `c` regnes ut.\n",
    "````{admonition} Men hvis du absolutt ønsker å se en løsning...\n",
    ":class: warning, dropdown\n",
    "```\n",
    "$$\n",
    "b = 4 / 2 = 2\n",
    "$$\n",
    "Så brukes denne verdien til å regne ut `c` som gir \n",
    "$$\n",
    "c = 2\\cdot b = 2 \\cdot 2 = 4\n",
    "$$\n",
    "```\n",
    "````\n",
    "`````\n",
    "``````\n",
    "```````"
   ]
  },
  {
   "attachments": {},
   "cell_type": "markdown",
   "metadata": {},
   "source": [
    "#### Øvelse 3: Potensregning\n",
    "Hva blir verdien til `res` etter koden under er kjørt?\n",
    "\n",
    "```python\n",
    "res = 4**2\n",
    "```\n",
    "\n",
    "```{admonition} Løsningsforslag\n",
    ":class: dropdown\n",
    "`res = 4**2` er det samme som $4^2 = 16$, dermed er `res = 16`.\n",
    "```"
   ]
  },
  {
   "attachments": {},
   "cell_type": "markdown",
   "metadata": {},
   "source": [
    "## Regnerekkefølgen i Python\n",
    "\n",
    "Regnerekkefølgen i Python er\n",
    "\n",
    "1. Parenteser\n",
    "2. Potenser.\n",
    "3. Divisjon\n",
    "4. Multiplikasjon\n",
    "5. Addisjon og substraksjon\n",
    "\n",
    "Dette er omtrent den samme rekkefølgen som man lærer om i matematikken. Den store forskjellen er at divisjon og multiplikasjon *ikke* stilles på lik linje. Man utfører divisjon *før* man utfører multiplikasjon.\n",
    "\n",
    "```{admonition} Eksempel på regnerekkefølge\n",
    ":class: tip, dropdown\n",
    "Vi skal regne ut `2 + 4 / 2 * 2`.\n",
    "\n",
    "1. Først utfører vi divisjonen `4 / 2 = 2`.\n",
    "2. Deretter utfører vi multiplikasjonen `2 * 2 = 4`.\n",
    "3. Til slutt plusser vi `2 + 4 = 6`.\n",
    "\n",
    "Her kan vi se hvorfor divisjon og multiplikasjon ikke kan være likestilt. \n",
    "Hadde vi i stedet multiplisert nevneren med `2` først, hadde vi fått:\n",
    "\n",
    "`2 + 4 / 2 * 2 = 2 + 4 / 4 = 2 + 1 = 3`.\n",
    "\n",
    "som er et helt annet tall. Én av dem må derfor prioriteres, og det er divisjon som er den prioriterte regnearten.\n",
    "```"
   ]
  },
  {
   "attachments": {},
   "cell_type": "markdown",
   "metadata": {},
   "source": [
    "## Eksempler \n",
    "\n",
    "### Eksempel 1\n",
    "\n",
    "Tenk deg at vi ønsker regne ut følgende regnestykke med Pythonkode:\n",
    "\n",
    "$$\n",
    "2\\cdot 8 - \\frac{1}{2} \\cdot 2 \n",
    "$$\n",
    "\n",
    "Dette kan vi gjøre med følgende kode:"
   ]
  },
  {
   "cell_type": "code",
   "execution_count": 9,
   "metadata": {},
   "outputs": [
    {
     "name": "stdout",
     "output_type": "stream",
     "text": [
      "14.0\n"
     ]
    }
   ],
   "source": [
    "res = 2 * 8 - (1/2) * 4\n",
    "\n",
    "print(res)"
   ]
  },
  {
   "attachments": {},
   "cell_type": "markdown",
   "metadata": {},
   "source": [
    "Vi trenger strengt tatt ikke sette en parentes rundt `1 / 2` (det er bare gjort for å øke leseligheten), vi kan faktisk også bare skrive koden slik:"
   ]
  },
  {
   "cell_type": "code",
   "execution_count": 8,
   "metadata": {},
   "outputs": [
    {
     "name": "stdout",
     "output_type": "stream",
     "text": [
      "14.0\n"
     ]
    }
   ],
   "source": [
    "res = 2 * 8 - 1/2 * 4 \n",
    "\n",
    "print(res)"
   ]
  },
  {
   "attachments": {},
   "cell_type": "markdown",
   "metadata": {},
   "source": [
    "Grunnen til dette var at divisjon uansett var det høyeste prioriterte regnearten her. Å legge til en parentes rundt divisjonen endret ikke på rekkefølgen."
   ]
  },
  {
   "attachments": {},
   "cell_type": "markdown",
   "metadata": {},
   "source": [
    "### Eksempel 2: Regne med potenser\n",
    "\n",
    "Tenk deg at vi skal regne ut \n",
    "\n",
    "$$\n",
    "3^3 \\cdot 4^{-2} = \n",
    "$$\n",
    "\n",
    "Bruker vi tabell 1 over regneartene i Python, vet vi at \n",
    "- $3^3$ = `3**3` \n",
    "- $4^{-2}$ = `4**(-2)`  (man må faktisk ikke bruke parentes rundt `-2` for å få det til å fungere, men det er litt lettere å lese med parentesen). \n",
    "\n",
    "Til slutt ganges de to sammen med `*`, som dette:"
   ]
  },
  {
   "cell_type": "code",
   "execution_count": null,
   "metadata": {},
   "outputs": [
    {
     "name": "stdout",
     "output_type": "stream",
     "text": [
      "res = 1.6875\n"
     ]
    }
   ],
   "source": [
    "res = 3**3 * 4**(-2) \n",
    "\n",
    "# Ny fancy måte å printe på som tar med navnet på variabelen når vi skriver ut\n",
    "print(f\"{res = }\")"
   ]
  },
  {
   "attachments": {},
   "cell_type": "markdown",
   "metadata": {},
   "source": [
    "Eller uten bruk av parentesen:"
   ]
  },
  {
   "cell_type": "code",
   "execution_count": 22,
   "metadata": {},
   "outputs": [
    {
     "name": "stdout",
     "output_type": "stream",
     "text": [
      "res = 1.6875\n"
     ]
    }
   ],
   "source": [
    "res = 3**3 * 4**-2\n",
    "\n",
    "print(f\"{res = }\")"
   ]
  },
  {
   "cell_type": "markdown",
   "metadata": {},
   "source": [
    "````{admonition} Når symbolet \"#\" dukker opp i kode = kommentar\n",
    ":class: tip\n",
    "Ofte vil du se at det står `#` på starten av en linje, eller på slutten av en kodelinje, etterfult av litt tekst. <br>\n",
    "Dette forteller Python at du skriver en *kommentar* til koden. Python ignorerer dette. <br>\n",
    "Kommentaren er ment for *deg* som leser koden så *du* skal forstå hva som skjer!\n",
    "````"
   ]
  },
  {
   "attachments": {},
   "cell_type": "markdown",
   "metadata": {},
   "source": [
    "### Eksempel 3\n",
    "\n",
    "Tenk deg at vi skal regne ut uttrykket\n",
    "\n",
    "$$\n",
    "\\frac{2^3\\cdot 2^5}{2^4} + \\frac{2(2^2 + 3)}{7} = \n",
    "$$\n",
    "\n",
    "Her får vi to ledd.\n",
    "- $2^3 \\cdot 2^5 / 2^4 = $  `2**3 * 2**5 / 2**4`\n",
    "- $2(2^2 + 3) / 7 = $ `2 * (2**2 + 3) / 7`.\n",
    "\n",
    "Til slutt legger vi de to sammen med `+`-operatoren. Vi får de følgende kode:"
   ]
  },
  {
   "cell_type": "code",
   "execution_count": 23,
   "metadata": {},
   "outputs": [
    {
     "name": "stdout",
     "output_type": "stream",
     "text": [
      "res = 18.0\n"
     ]
    }
   ],
   "source": [
    "res = 2**3 * 2**5 / 2**4 + 2 * (2**2 + 3) / 7\n",
    "\n",
    "print(f\"{res = }\")"
   ]
  },
  {
   "attachments": {},
   "cell_type": "markdown",
   "metadata": {},
   "source": [
    "## Øvelser: regning med sammensatte talluttrykk"
   ]
  },
  {
   "attachments": {},
   "cell_type": "markdown",
   "metadata": {},
   "source": [
    "### Øvelse 1\n",
    "\n",
    "Skriv et program i Python som regner ut \n",
    "\n",
    "$$\n",
    "2 \\cdot 3 + 5 = \n",
    "$$\n",
    "\n",
    "Sjekk at svaret ditt stemmer! "
   ]
  },
  {
   "attachments": {},
   "cell_type": "markdown",
   "metadata": {},
   "source": [
    "````{admonition} Løsningsforslag\n",
    ":class: dropdown\n",
    "\n",
    "```python\n",
    "res = 2 * 3 + 5 \n",
    "\n",
    "print(res)\n",
    "```\n",
    "som gir utskriften\n",
    "```console\n",
    "res = 11\n",
    "```\n",
    "\n",
    "````"
   ]
  },
  {
   "attachments": {},
   "cell_type": "markdown",
   "metadata": {},
   "source": [
    "### Øvelse 2\n",
    "\n",
    "Skriv et program i Python som regner ut \n",
    "\n",
    "$$\n",
    "\\frac{2^3 \\cdot 8^2}{4^4} = \n",
    "$$\n",
    "\n",
    "Gir svaret mening?"
   ]
  },
  {
   "cell_type": "markdown",
   "metadata": {},
   "source": [
    "````{admonition} Løsningsforslag\n",
    ":class: dropdown\n",
    "```python\n",
    "res = 2**3 * 8**2 / 4**4\n",
    "\n",
    "print(f\"{res = }\")\n",
    "```\n",
    "som gir utskriften\n",
    "\n",
    "```console\n",
    "res = 2.0\n",
    "```\n",
    "````"
   ]
  },
  {
   "attachments": {},
   "cell_type": "markdown",
   "metadata": {},
   "source": [
    "#### Øvelse 3\n",
    "\n",
    "Skriv et program i Python som regner ut\n",
    "\n",
    "$$\n",
    "\\frac{2^3\\cdot (2^2 + 2^3)^4}{2^6} + \\frac{1}{3^{-2}} = \n",
    "$$\n",
    "\n"
   ]
  },
  {
   "attachments": {},
   "cell_type": "markdown",
   "metadata": {},
   "source": [
    "`````{admonition} Løsningsforslag\n",
    ":class: dropdown\n",
    "```python\n",
    "res = 2**3 * (2**2 + 2**3) ** 4 / 2**6 + 1 / 3**(-2)\n",
    "\n",
    "print(res)\n",
    "```\n",
    "som gir utskriften\n",
    "```console\n",
    "2601.0\n",
    "```\n",
    "`````"
   ]
  },
  {
   "cell_type": "markdown",
   "metadata": {},
   "source": [
    "#### Øvelse 4\n",
    "\n",
    "Skriv et program i Python som regner ut\n",
    "\n",
    "$$\n",
    "5\\cdot(2-6)^2 + \\frac{81}{27 - 3^2} + 2^{-1 + 4} = \n",
    "$$"
   ]
  },
  {
   "cell_type": "markdown",
   "metadata": {},
   "source": [
    "````{admonition} Løsningsforslag\n",
    ":class: dropdown\n",
    "\n",
    "```python\n",
    "res = 5 * (2 - 6)**2 + 81/(27 - 3**2) + 2**(-1 + 4)\n",
    "\n",
    "print(f\"{res = }\")\n",
    "```\n",
    "som gir utskriften\n",
    "```console\n",
    "res = 92.5\n",
    "```\n",
    "````"
   ]
  }
 ],
 "metadata": {
  "kernelspec": {
   "display_name": "Python 3",
   "language": "python",
   "name": "python3"
  },
  "language_info": {
   "codemirror_mode": {
    "name": "ipython",
    "version": 3
   },
   "file_extension": ".py",
   "mimetype": "text/x-python",
   "name": "python",
   "nbconvert_exporter": "python",
   "pygments_lexer": "ipython3",
   "version": "3.11.6"
  },
  "orig_nbformat": 4
 },
 "nbformat": 4,
 "nbformat_minor": 2
}
