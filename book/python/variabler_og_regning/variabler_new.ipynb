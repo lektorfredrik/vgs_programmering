{
 "cells": [
  {
   "cell_type": "markdown",
   "metadata": {},
   "source": [
    "# Variabler\n",
    "\n",
    "## Læringsmål\n",
    "\n",
    "Etter du har lest gjennom denne siden skal du:\n",
    "* Vite hva en variabel er.\n",
    "* Kunne lage en variabel med et variabelnavn og en verdi.\n",
    "* Ha grov kjennskap til noen viktige datatyper.\n",
    "\n",
    "## Hva er variabler for no'æ?\n",
    "\n",
    "I Python, er den grunnleggende *tingen* vi jobber kalt for en **variabel**. En slik ting er det *du* som lager. <br>\n",
    "En variabel har følgende egenskaper:\n",
    "\n",
    "* Et *variabelnavn*.\n",
    "* En *verdi*.\n",
    "* En *datatype*.\n",
    "\n",
    "I tabell 1 ser du noen eksempler på variabler.\n",
    "\n",
    "**Tabell 1**: Eksempler på variabler og deres variabelnavn, verdi og datatype.\n",
    "| Variabelnavn | Verdi | Datatype |\n",
    "|---|---|---|\n",
    "| `i` | `1` | `int` |\n",
    "| `a` | `1.0` | `float` |\n",
    "| `s` | `\"1.0\"` | `str` |\n",
    "| `res1` | `-5.0` | `float`\n",
    "| `melding` | `\"Dette er en liten melding\"` | `str` |\n",
    "\n",
    "Det er flere spørsmål som det kan være lurt å stille nå:\n",
    "- Hvordan *lager* jeg en variabel i Python?\n",
    "- Hvordan gir *jeg* den en verdi? \n",
    "- Hva er egentlig en datatype? (*Denne skal vi utsette litt*). \n",
    "\n",
    "Dette skal vi utforske nå!"
   ]
  },
  {
   "cell_type": "markdown",
   "metadata": {},
   "source": [
    "## Hvordan lage en variabel med variabelnavn og verdi"
   ]
  },
  {
   "cell_type": "markdown",
   "metadata": {},
   "source": [
    "For å lage en variabel, tvinger Python deg til å gi den\n",
    "* Et variabelnavn\n",
    "* En verdi\n",
    "\n",
    "For eksempel, kan vi lage en variabel med navn `mitt_heltall` som har verdi `2` ved å skrive kodelinjen\n",
    "\n",
    "```python\n",
    "mitt_heltall = 2\n",
    "```\n",
    "\n",
    "Hvis vi ønsker å spørre Python hvilken verdi variabelen har, kan vi bruke `print`-funksjonen til å skrive ut verdien til variabelen. <br>\n",
    "Dette kan vi oppnå med kodelinjen\n",
    "\n",
    "```python\n",
    "print(mitt_heltall)\n",
    "```\n",
    "som ville gitt utskriften `2` til skjermen. **PRØV DET!**\n",
    "\n",
    "Mer generelt, så definerer vi variabler med kodelinjen\n",
    "\n",
    "```python\n",
    "variabelnavn = verdi\n",
    "```\n",
    "Vi leser denne linja som at `verdi` skal `tilordnes` til variabelen kalt `variabelnavn`. <br>\n",
    "Vi kan for eksempel definere alle variablene i tabell 1 med kodelinjene\n",
    "\n",
    "```python\n",
    "i = 1\n",
    "a = 1.0\n",
    "s = \"1.0\"\n",
    "res1 = -5.0\n",
    "melding = \"Dette er en melding\"\n",
    "```\n",
    "\n",
    "*Før du går videre, er det lurt å gjøre noen øvelser for å sjekke at du har forstått!*"
   ]
  },
  {
   "cell_type": "markdown",
   "metadata": {},
   "source": [
    "### Øvelse 1\n",
    "\n",
    "Lag en variabel med navn `mitt_lykketall` og gi variabelen en passende verdi. <br>\n",
    "Skriv ut verdien til variabelen til skjermen ved å bruke `print`-funksjonen.\n",
    "\n",
    "````{admonition} Løsningsforslag\n",
    ":class: dropdown\n",
    "La oss si lykketallet ditt er $7$. Da kunne koden vært\n",
    "\n",
    "```python\n",
    "mitt_lykketall = 7 \n",
    "print(lykketall)\n",
    "```\n",
    "\n",
    "som gir utskriften\n",
    "\n",
    "```console\n",
    "7\n",
    "```\n",
    "\n",
    "````"
   ]
  },
  {
   "cell_type": "markdown",
   "metadata": {},
   "source": [
    "### Øvelse 2\n",
    "\n",
    "Lag deg to nye variabler med Pythonkode:\n",
    "* En med navn `min_alder` som lagrer aldreren din i år\n",
    "* En med navn `min_høyde` som lagrer høyden din i cm\n",
    "\n",
    "Skriv ut verdiene til variablene til skjermen ved å bruke `print`-funksjonen.\n",
    "\n",
    "\n",
    "````{admonition} Løsningsforslag\n",
    ":class: dropdown\n",
    "Forfatteren her begynner å *dra på åra*, så han kunne skrevet\n",
    "Et eksempel er\n",
    "```python\n",
    "min_alder = 29\n",
    "min_høyde = 180\n",
    "\n",
    "print(min_alder)\n",
    "print(min_høyde)\n",
    "```\n",
    "som gir utskriften\n",
    "\n",
    "```console\n",
    "29\n",
    "180\n",
    "```\n",
    "Verdiene skrives altså ut i samme rekkefølge som du plasserer de i `print`-funksjonen.\n",
    "````"
   ]
  },
  {
   "cell_type": "markdown",
   "metadata": {},
   "source": [
    "### Øvelse 3\n",
    "Lag deg en variabel som lagrer meldingen \"Hei, verden. Dette er mine første steg mot å bli pro i Python!\". <br>\n",
    "Skriv ut verdien til variabelen med `print`-funksjonen.\n",
    "\n",
    "*kodehint: for å lagre tekst i en variabel, må du plassere teksten mellom anførselstegn. Se tabell 1 for eksempel* <br>\n",
    "\n",
    "\n",
    "````{admonition} Løsningsforslag\n",
    ":class: dropdown\n",
    "\n",
    "```python\n",
    "fremtidsspådom = \"Hei, verden. Dette er mine første steg mot å bli pro i Python!\"\n",
    "\n",
    "print(fremtidsspådom)\n",
    "```\n",
    "\n",
    "````"
   ]
  },
  {
   "cell_type": "markdown",
   "metadata": {},
   "source": [
    "## En siste ting: datatyper"
   ]
  },
  {
   "cell_type": "markdown",
   "metadata": {},
   "source": [
    "### De viktigste datatypene i Python\n",
    "Vi nevnte i starten at variabler har en **datatype**. <br>\n",
    "Datatypen til en variabel bestemmer hva vi kan gjøre med variabelen når vi først har lagret en variabel i den. <br>\n",
    "\n",
    "For nå holder det å vite om tre datatyper:\n",
    "\n",
    "\n",
    "**Tabell 2**: De viktigste datatypene i Python\n",
    "| Datatype | Betydning | Eksempel |\n",
    "|---|---|---|\n",
    "| `int` | Heltall | `1`, `2`, `3`, `4`, `5`, ... |\n",
    "| `float` | Desimaltall | `1.0`, `2.0`, `3.0`, `4.0`, `5.0`, ... |\n",
    "| `str` | Tekst | `\"Hei, verden!\"`, `\"Dette er en tekst\"`, `\"1.0\"`, `\"2.0\"`, `\"3.0\"`, ... |\n",
    "\n",
    "Merk at hvis vi bruker anførselstegn rundt et tall, så blir dette også tekst. <br>\n",
    "\n",
    "### Hvordan sjekke datatypen til en variabel?\n",
    "Vi kan bruke `type`-funksjonen til å finne ut hvilken datatypen en variabel har. <br>\n",
    "\n",
    "For eksempel, hvis vi har en variabel `a` som har verdien `1`, så kan vi skrive"
   ]
  },
  {
   "cell_type": "code",
   "execution_count": 2,
   "metadata": {},
   "outputs": [
    {
     "name": "stdout",
     "output_type": "stream",
     "text": [
      "<class 'int'>\n"
     ]
    }
   ],
   "source": [
    "a = 1\n",
    "print(type(a))"
   ]
  },
  {
   "cell_type": "markdown",
   "metadata": {},
   "source": [
    "som forteller oss at datatypen til variabelen er `int` (heltall). <br>"
   ]
  },
  {
   "cell_type": "markdown",
   "metadata": {},
   "source": [
    "### Øvelse 4\n",
    "Lag en variabel som har datatypen `float`.<br>\n",
    "Sjekk at variabelen har datatypen `float` ved å skrive ut datatypen med `type(min_variabel)` (du må bytte ut `min_variabel` med *din* variabel!)"
   ]
  },
  {
   "cell_type": "markdown",
   "metadata": {},
   "source": [
    "````{admonition} Løsningsforslag\n",
    ":class: dropdown\n",
    "La oss ta det bokstavelig:\n",
    "\n",
    "```python\n",
    "din_variabel = -2.0\n",
    "print(type(din_variabel))\n",
    "```\n",
    "som gir utskriften\n",
    "```console\n",
    "<class 'float'>\n",
    "```\n",
    "som betyr at variabelen har datatypen `float`!\n",
    "````"
   ]
  }
 ],
 "metadata": {
  "kernelspec": {
   "display_name": "Python 3",
   "language": "python",
   "name": "python3"
  },
  "language_info": {
   "codemirror_mode": {
    "name": "ipython",
    "version": 3
   },
   "file_extension": ".py",
   "mimetype": "text/x-python",
   "name": "python",
   "nbconvert_exporter": "python",
   "pygments_lexer": "ipython3",
   "version": "3.11.6"
  }
 },
 "nbformat": 4,
 "nbformat_minor": 2
}
