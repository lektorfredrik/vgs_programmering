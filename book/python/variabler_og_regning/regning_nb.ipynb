{
 "cells": [
  {
   "attachments": {},
   "cell_type": "markdown",
   "metadata": {},
   "source": [
    "# Å regne med Python\n",
    "\n",
    "Python kode kan gjøre vanlige regneoperasjoner som vi lærer om i matematikken, og siden vi skal bruke Python i de regnetunge realfagene, er det naturlig at vi må lære om dette.\n",
    "\n",
    "```{admonition} Hvilke datatyper kan man regne med?\n",
    ":class: tip\n",
    "Vi kan regne med to datatyper:\n",
    "\n",
    "1. **int** (heltall).\n",
    "2. **float** (flyttall/desimaltall). \n",
    "\n",
    "\n",
    "Det er vanligst å regne med `float`. Man kan regne med `int` på samme måte som man regner med `float`, men resultatet blir ofte omgjort til en `float` selv om du opprinnelig hadde en eller flere `int` i regnestykket. Mer om dette senere.\n",
    "```"
   ]
  },
  {
   "attachments": {},
   "cell_type": "markdown",
   "metadata": {},
   "source": [
    "## Regneoperasjoner i Python\n",
    "\n",
    "Alle de vanlige regneartene er mulig å bruke når man skriver Python kode. \n",
    "I tabell 1 vises alle regneoperasjonene du kan gjøre med Python og hvilket operasjonstegn du må bruke.\n",
    "\n",
    "**Tabell 1**: Regneoperasjoner i Python.\n",
    "\n",
    "| Regneart | Operasjonstegn | Eksempel | Resultat | \n",
    "|---|---|---| --- |\n",
    "| Addisjon | `+` | `2 + 3` | `5` |\n",
    "| Subtraksjon | `-` | `2 - 3` | `-1` |\n",
    "| Multiplikasjon | `*` | `2 * 3` |  `6` |\n",
    "| Divisjon | `/` | `2 / 3` | `0.6666666666666666` |\n",
    "| Potens | `**` | `2 ** 3` | `8` |\n",
    "| Heltallsdivisjon | `//` | `2 // 3` | `0` |\n",
    "| Modulo (restdivisjon) | `%` | `2 % 3` | `2` |\n",
    "\n",
    "```{admonition} Hva betyr heltallsdivisjon og modulo?\n",
    ":class: tip, dropdown\n",
    "\n",
    "**Heltallsdivisjon** er antallet *hele* ganger et tall går opp i et annet. For eksempel går `3` opp i `10` tre ganger, og derfor er `10 // 3 = 3`.\n",
    "\n",
    "**Modulo** eller **restdivisjon** er resten av en heltallsdivisjon. For eksempel er `10 % 3 = 1` siden `3` går opp i `10` tre ganger med rest `1`. \n",
    "```"
   ]
  },
  {
   "attachments": {},
   "cell_type": "markdown",
   "metadata": {},
   "source": [
    "### Øvelser: Regneoperasjoner i Python\n",
    "\n",
    "La oss ta se på noen eksempler på kode med de ulike regneartene."
   ]
  },
  {
   "attachments": {},
   "cell_type": "markdown",
   "metadata": {},
   "source": [
    "#### Øvelse 1: Addisjon og subtraksjon\n",
    "\n",
    "I følgende kode gjøres det addisjon og subtraksjon:\n",
    "\n",
    "```python\n",
    "a = 3 + 2 - 1\n",
    "```\n",
    "\n",
    "Hva blir tallet som lagres i `a`? \n",
    "\n",
    "```{dropdown} Løsningsforslag\n",
    "Variabelen `a` vil lagre tallet `4` fordi `3 + 2` er `5` og `5 - 1` er `4`.\n",
    "```"
   ]
  },
  {
   "attachments": {},
   "cell_type": "markdown",
   "metadata": {},
   "source": [
    "#### Øvelse 2: Multiplikasjon og divisjon\n",
    "\n",
    "En kode er gitt ved\n",
    "\n",
    "```python\n",
    "b = 4 / 2 \n",
    "c = 2 * b\n",
    "```\n",
    "\n",
    "Hvilken verdi lagres av `c`?\n",
    "\n",
    "```{dropdown} Løsningsforslag\n",
    "Først vil `b = 4 / 2 = 2`, deretter vil regnes `c` ut ved `c = 2 * b = 2 * 2 = 4`.\n",
    "```"
   ]
  },
  {
   "attachments": {},
   "cell_type": "markdown",
   "metadata": {},
   "source": [
    "#### Øvelse 3: Potensregning\n",
    "\n",
    "Hva blir verdien til `res` etter følgende kode:\n",
    "\n",
    "```python\n",
    "res = 4**2\n",
    "```\n",
    "\n",
    "```{dropdown} Løsningsforslag\n",
    "`res = 4**2` er det samme som $4^2 = 16$, dermed er `res = 16`.\n",
    "```"
   ]
  },
  {
   "attachments": {},
   "cell_type": "markdown",
   "metadata": {},
   "source": [
    "## Regnerekkefølgen i Python\n",
    "\n",
    "Regnerekkefølgen i Python er\n",
    "\n",
    "1. Parenteser\n",
    "2. Potenser.\n",
    "3. Divisjon\n",
    "4. Multiplikasjon\n",
    "5. Addisjon og substraksjon\n",
    "\n",
    "Dette er omtrent den samme rekkefølgen som man lærer om i matematikken. Den store forskjellen er at divisjon og multiplikasjon *ikke* stilles på lik linje. Man utfører divisjon *før* man utfører multiplikasjon.\n",
    "\n",
    "```{admonition} Eksempel på regnerekkefølge\n",
    ":class: tip, dropdown\n",
    "Vi skal regne ut `2 + 4 / 2 * 2`.\n",
    "\n",
    "1. Først utfører vi divisjonen `4 / 2 = 2`.\n",
    "2. Deretter utfører vi multiplikasjonen `2 * 2 = 4`.\n",
    "3. Til slutt plusser vi `2 + 4 = 6`.\n",
    "\n",
    "Her kan vi se hvorfor divisjon og multiplikasjon ikke kan være likestilt. \n",
    "Hadde vi i stedet multiplisert nevneren med `2` først, hadde vi fått:\n",
    "\n",
    "`2 + 4 / 2 * 2 = 2 + 4 / 4 = 2 + 1 = 3`.\n",
    "\n",
    "som er et helt annet tall. Én av dem må derfor prioriteres, og det er divisjon som er den prioriterte regnearten.\n",
    "```"
   ]
  },
  {
   "attachments": {},
   "cell_type": "markdown",
   "metadata": {},
   "source": []
  },
  {
   "cell_type": "code",
   "execution_count": null,
   "metadata": {},
   "outputs": [],
   "source": []
  }
 ],
 "metadata": {
  "kernelspec": {
   "display_name": "Python 3",
   "language": "python",
   "name": "python3"
  },
  "language_info": {
   "codemirror_mode": {
    "name": "ipython",
    "version": 3
   },
   "file_extension": ".py",
   "mimetype": "text/x-python",
   "name": "python",
   "nbconvert_exporter": "python",
   "pygments_lexer": "ipython3",
   "version": "3.11.3"
  },
  "orig_nbformat": 4
 },
 "nbformat": 4,
 "nbformat_minor": 2
}
