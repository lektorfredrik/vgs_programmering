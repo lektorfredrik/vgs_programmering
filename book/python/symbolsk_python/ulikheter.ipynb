{
 "cells": [
  {
   "cell_type": "markdown",
   "metadata": {},
   "source": [
    "# Løse Ulikheter med `sympy`"
   ]
  },
  {
   "cell_type": "markdown",
   "metadata": {},
   "source": [
    "Vi kan løse ulikheter med `sympy.solve` på liknende måte som vi løste [likninger med `sympy`](likninger.ipynb).\n",
    "\n",
    "## Skrivemåte (syntaks)\n",
    "\n",
    "Den generelle skrivemåten blir typisk som dette:\n",
    "\n",
    "```python\n",
    "import sympy\n",
    "from sympy.abc import x # importerer `x` som en symbolsk variabel\n",
    "\n",
    "løsninger = sympy.solve(ulikheter)\n",
    "```"
   ]
  },
  {
   "cell_type": "markdown",
   "metadata": {},
   "source": [
    "Her kan vi tillate at det er flere ulikheter som $x$ må oppfylle samtidig. La oss se på noen eksempler."
   ]
  },
  {
   "cell_type": "markdown",
   "metadata": {},
   "source": [
    "## Eksempler"
   ]
  },
  {
   "cell_type": "markdown",
   "metadata": {},
   "source": [
    "### Eksempel 1: Lineær ulikhet\n",
    "\n",
    "Tenk deg at vi ønsker å løse ulikheten\n",
    "\n",
    "$$\n",
    "2x - 3 > 5. \n",
    "$$\n",
    "\n",
    "Det kan vi gjøre slik med `sympy.solve`:"
   ]
  },
  {
   "cell_type": "code",
   "execution_count": 6,
   "metadata": {},
   "outputs": [
    {
     "name": "stdout",
     "output_type": "stream",
     "text": [
      "4 < x ∧ x < ∞\n"
     ]
    }
   ],
   "source": [
    "import sympy\n",
    "from sympy.abc import x\n",
    "\n",
    "ulikhet = (2 * x - 3 > 5)\n",
    "løsninger = sympy.solve(ulikhet)\n",
    "\n",
    "sympy.pprint(løsninger)"
   ]
  },
  {
   "cell_type": "markdown",
   "metadata": {},
   "source": [
    "som forteller oss at $x > 4$ og at $x < \\infty$. Det er sjelden vi er interessert i å legge ved $x < \\infty$ som en del av løsningen, men det er strengt tatt riktig."
   ]
  },
  {
   "cell_type": "markdown",
   "metadata": {},
   "source": [
    "### Eksempel 2: Kvadratisk ulikhet\n",
    "\n",
    "Tenk deg at vi skal løse ulikheten\n",
    "\n",
    "$$\n",
    "x^2 - 2x + 1 > 4. \n",
    "$$\n",
    "\n",
    "Det kan vi gjøre slik med `sympy.solve`:\n"
   ]
  },
  {
   "cell_type": "code",
   "execution_count": 5,
   "metadata": {},
   "outputs": [
    {
     "name": "stdout",
     "output_type": "stream",
     "text": [
      "(-∞ < x ∧ x < -1) ∨ (3 < x ∧ x < ∞)\n"
     ]
    }
   ],
   "source": [
    "import sympy\n",
    "from sympy.abc import x\n",
    "\n",
    "ulikhet = (x**2 - 2 *x + 1 > 4)\n",
    "\n",
    "løsninger = sympy.solve(ulikhet)\n",
    "\n",
    "sympy.pprint(løsninger)"
   ]
  },
  {
   "cell_type": "markdown",
   "metadata": {},
   "source": [
    "Her får vi altså to løsninger: \n",
    "\n",
    "1. $-\\infty < x < -1$\n",
    "2. $3 < x < \\infty$"
   ]
  },
  {
   "cell_type": "markdown",
   "metadata": {},
   "source": [
    "### Eksempel 3: Flere ulikheter\n",
    "\n",
    "Tenk deg at vi har en sett med ulikheter, som dette:\n",
    "\n",
    "$$\n",
    "x^2 - 2x + 1 > 4, \\quad x > -10,  \\qquad x \\leq 10.\n",
    "$$\n",
    "\n",
    "Et sånt sett med ulikheter kan vi også håndtere med `sympy.solve`, ved å legge de inn i en liste (*egentlig* en `tuple` som er en slags liste som ikke kan endres etter den er laget) med ulikheter:\n",
    "\n"
   ]
  },
  {
   "cell_type": "code",
   "execution_count": 18,
   "metadata": {},
   "outputs": [
    {
     "name": "stdout",
     "output_type": "stream",
     "text": [
      "(x ≤ 10 ∧ 3 < x) ∨ (-10 < x ∧ x < -1)\n"
     ]
    }
   ],
   "source": [
    "import sympy\n",
    "from sympy.abc import x\n",
    "\n",
    "ulikheter = (\n",
    "    x**2 - 2 * x + 1 > 4,\n",
    "    x > -10,\n",
    "    x <= 10,\n",
    ")\n",
    "\n",
    "løsninger = sympy.solve(ulikheter)\n",
    "\n",
    "sympy.pprint(løsninger)"
   ]
  },
  {
   "cell_type": "markdown",
   "metadata": {},
   "source": [
    "Altså er løsningen\n",
    "\n",
    "$$\n",
    "3 < x \\leq 4 \\quad \\vee \\quad  -1 < x < 10.\n",
    "$$"
   ]
  },
  {
   "cell_type": "markdown",
   "metadata": {},
   "source": [
    "```{admonition} Funksjoner med begrenset definisjonsmengde\n",
    ":class: tip, dropdown\n",
    "\n",
    "Eksempel 3 kan også tenkes på som et eksempel på en funksjon $f(x)$ med en begrenset definisjonsmengde. Da hadde vi formulert problemet at vi lurte på når funksjonen\n",
    "\n",
    "$$\n",
    "f(x) = x^2 - 2x + 1, \\quad x \\in (-10, 10],\n",
    "$$\n",
    "\n",
    "oppfylte at $f(x) > 4$. \n",
    "```"
   ]
  },
  {
   "cell_type": "markdown",
   "metadata": {},
   "source": [
    "## Oppgaver"
   ]
  },
  {
   "cell_type": "markdown",
   "metadata": {},
   "source": [
    "### Oppgave 1\n",
    "\n",
    "Bruk `sympy` til å løse ulikheten\n",
    "\n",
    "$$\n",
    "4x - 3 > -5. \n",
    "$$\n",
    "\n",
    "*Du kan ta utgangspunkt i kodeskallet under. Du må fylle inn der det står `NotImplemented`.*"
   ]
  },
  {
   "cell_type": "code",
   "execution_count": null,
   "metadata": {},
   "outputs": [],
   "source": [
    "import sympy\n",
    "from sympy.abc import NotImplemented # Hva henter vi fra `sympy.abc` igjen?\n",
    "\n",
    "ulikhet = NotImplemented\n",
    "\n",
    "løsninger = NotImplemented # Løs ulikheten med sympy.solve\n",
    "\n",
    "sympy.pprint(løsninger) # Skriver ut løsningen med pen formattering. "
   ]
  },
  {
   "cell_type": "markdown",
   "metadata": {},
   "source": [
    "````{dropdown} Løsningsforslag\n",
    "\n",
    "```python\n",
    "import sympy\n",
    "from sympy.abc import x\n",
    "\n",
    "ulikhet = (4 * x - 3 > -5)\n",
    "\n",
    "løsninger = sympy.solve(ulikhet)\n",
    "\n",
    "sympy.pprint(løsninger)\n",
    "```\n",
    "som gir utskriften\n",
    "\n",
    "```console\n",
    "-1/2 < x ∧ x < ∞\n",
    "```\n",
    "\n",
    "som betyr at $x > -1/2 \\wedge x < \\infty$. Dette kan vi gjerne bare uttrykke med $x > -1/2$, eller litt overflødig med\n",
    "\n",
    "$$\n",
    "-\\frac{1}{2} < x < \\infty.\n",
    "$$\n",
    "\n",
    "````"
   ]
  },
  {
   "cell_type": "markdown",
   "metadata": {},
   "source": [
    "### Oppgave 2 \n",
    "\n",
    "Bruk `sympy` til å løse ulikheten\n",
    "\n",
    "$$\n",
    "x^2 + 3x - 4 < 0.\n",
    "$$\n",
    "\n",
    "*Du kan ta utgangspunkt i kodeskallet under. Du må fylle inn der det står `NotImplemented`.*"
   ]
  },
  {
   "cell_type": "code",
   "execution_count": null,
   "metadata": {},
   "outputs": [],
   "source": [
    "import sympy\n",
    "from NotImplemented import x # Hva het biblioteket man importerer `x` fra?\n",
    "\n",
    "ulikhet = NotImplemented # Skriv inn ulikheten\n",
    "løsning = NotImplemented # Løs ulikheten. Hva brukte man igjen da?\n",
    "\n",
    "sympy.pprint(løsning)"
   ]
  },
  {
   "cell_type": "markdown",
   "metadata": {},
   "source": [
    "````{dropdown} Løsningsforslag\n",
    "\n",
    "```python\n",
    "import sympy\n",
    "from sympy.abc import x \n",
    "\n",
    "ulikhet = (x**2 + 3 * x - 4 < 0) \n",
    "løsning = sympy.solve(ulikhet)\n",
    "\n",
    "sympy.pprint(løsning)\n",
    "```\n",
    "\n",
    "som gir utskriften\n",
    "\n",
    "```console\n",
    "-4 < x ∧ x < 1\n",
    "```\n",
    "\n",
    "som betyr at løsningen av ulikheten er\n",
    "\n",
    "$$\n",
    "-4 < x \\wedge x < 1,\n",
    "$$\n",
    "\n",
    "eller skrevet på en annen måte\n",
    "\n",
    "$$\n",
    "-4 < x < 1.\n",
    "$$\n",
    "\n",
    "\n",
    "\n",
    "````"
   ]
  },
  {
   "cell_type": "markdown",
   "metadata": {},
   "source": [
    "### Oppgave 3\n",
    "\n",
    "Bruk `sympy` til å løse systemet av ulikheter \n",
    "\n",
    "$$\n",
    "x^3 - 2x^2 + 3x - 6 > 0, \\quad x > 0, \\quad x < 10.\n",
    "$$\n",
    "\n",
    "*Du kan ta utgangspunkt i kodeskallet under. Du må fylle inn der det står `NotImplemented`. Det kan også være noen mindre feil i koden.*"
   ]
  },
  {
   "cell_type": "code",
   "execution_count": null,
   "metadata": {},
   "outputs": [],
   "source": [
    "import NotImplemented # Hvilket bibliotek trenger vi?\n",
    "totally import x # Hmm, dette ser ikke helt riktig ut, gjør det vel?\n",
    "\n",
    "\n",
    "\n",
    "ulikheter = (\n",
    "    NotImplemented, # Skriv inn ulikhet 1\n",
    "    NotImplemented, # Skriv inn ulikhet 2\n",
    "    NotImplemented, # Skriv inn ulikhet 3\n",
    ")\n",
    "\n",
    "løsninger = NotImplemented # Løs ulikhetene\n",
    "\n",
    "sympy.pprint(løsninger)"
   ]
  },
  {
   "cell_type": "markdown",
   "metadata": {},
   "source": [
    "````{dropdown} Løsningsforslag\n",
    "\n",
    "```python\n",
    "import sympy\n",
    "from sympy.abc import x\n",
    "\n",
    "\n",
    "ulikheter = (\n",
    "    x**3 - 2 * x**2 + 3 * x - 6 > 0, \n",
    "    x > 0, \n",
    "    x < 10, \n",
    ")\n",
    "\n",
    "løsninger = sympy.solve(ulikheter)\n",
    "\n",
    "sympy.pprint(løsninger)\n",
    "```\n",
    "\n",
    "som gir utskriften\n",
    "\n",
    "```console\n",
    "2 < x ∧ x < 10\n",
    "```\n",
    "\n",
    "som betyr at løsningen av systemet av ulikheter er\n",
    "\n",
    "$$\n",
    "2 < x < 10.\n",
    "$$\n",
    "\n",
    "````\n",
    "\n"
   ]
  },
  {
   "cell_type": "markdown",
   "metadata": {},
   "source": [
    "### Oppgave 4\n",
    "\n",
    "Bruk `sympy` til å finne ut når $f(x) < 0$ for funksjonen\n",
    "\n",
    "$$\n",
    "f(x) = x^2 - x - 6, \\quad x \\in [-10, 10].\n",
    "$$\n",
    "\n",
    "*Du kan ta utgangspunkt i kodeskallet under. Du må fylle inn der det står `NotImplemented`. Her må du også fikse `import` selv.*"
   ]
  },
  {
   "cell_type": "code",
   "execution_count": null,
   "metadata": {},
   "outputs": [],
   "source": [
    "# Importerer det du trenger her \n",
    "\n",
    "# Hvor mange ulikheter trenger du?\n",
    "ulikheter = (\n",
    "    NotImplemented,\n",
    ")\n",
    "\n",
    "løsninger = NotImplemented # Løs ulikhetene\n",
    "\n",
    "sympy.pprint(løsninger)"
   ]
  },
  {
   "cell_type": "markdown",
   "metadata": {},
   "source": [
    "````{dropdown} Løsningsforslag\n",
    "\n",
    "```python\n",
    "import sympy\n",
    "from sympy.abc import x\n",
    "\n",
    "# Hvor mange ulikheter trenger du?\n",
    "ulikheter = (\n",
    "    x**2 - x - 6 < 0,\n",
    "    x >= -10,\n",
    "    x <= 10,\n",
    ")\n",
    "\n",
    "løsninger = sympy.solve(ulikheter)\n",
    "\n",
    "sympy.pprint(løsninger)\n",
    "```\n",
    "\n",
    "som gir utskriften\n",
    "\n",
    "```console\n",
    "-2 < x ∧ x < 3\n",
    "```\n",
    "\n",
    "som betyr at $f(x) < 0$ for \n",
    "\n",
    "$$\n",
    "-2 < x < 3.\n",
    "$$\n",
    "\n",
    "````\n",
    "\n"
   ]
  }
 ],
 "metadata": {
  "kernelspec": {
   "display_name": "Python 3",
   "language": "python",
   "name": "python3"
  },
  "language_info": {
   "codemirror_mode": {
    "name": "ipython",
    "version": 3
   },
   "file_extension": ".py",
   "mimetype": "text/x-python",
   "name": "python",
   "nbconvert_exporter": "python",
   "pygments_lexer": "ipython3",
   "version": "3.11.4"
  },
  "orig_nbformat": 4
 },
 "nbformat": 4,
 "nbformat_minor": 2
}
