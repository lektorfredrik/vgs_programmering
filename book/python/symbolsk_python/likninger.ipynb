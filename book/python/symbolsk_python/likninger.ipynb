{
 "cells": [
  {
   "attachments": {},
   "cell_type": "markdown",
   "metadata": {},
   "source": [
    "# Løse ligninger med `sympy`"
   ]
  },
  {
   "attachments": {},
   "cell_type": "markdown",
   "metadata": {},
   "source": [
    "Her skal du lære hvordan man kan løse ligninger med `sympy`. Da bruker man en funksjon som kalles for `sympy.solve`. \n",
    "\n",
    "````{admonition} sympy.solve\n",
    ":class: tip\n",
    "Denne funksjonen antar at ligningen er på formen\n",
    "\n",
    "$$\n",
    "f(x) = 0\n",
    "$$\n",
    "\n",
    "som betyr at vi må omforme ligningen slik at høyresiden av ligningen er null når vi bruker `sympy.solve`. <br>\n",
    "\n",
    "Den generelle skrivemåten er\n",
    "\n",
    "```python\n",
    "import sympy\n",
    "from sympy.abc import x\n",
    "\n",
    "løsninger = sympy.solve(funksjonsuttrykk, x) \n",
    "```\n",
    "\n",
    "Når det bare er én ukjent i funksjonsuttrykket, for eksempel bare $x$, så trenger vi ikke fortelle `sympy` hvilken variabel vi skal løse ligningen med hensyn på, og da holder å skrive\n",
    "\n",
    "```python\n",
    "løsninger = sympy.solve(funksjonsuttrykk)\n",
    "```\n",
    "````"
   ]
  },
  {
   "attachments": {},
   "cell_type": "markdown",
   "metadata": {},
   "source": [
    "### Eksempel 1: Løse en lineær ligning\n",
    "\n",
    "La oss se på hvordan vi kan løse ligningen\n",
    "\n",
    "$$\n",
    "2x - 1 = 0.\n",
    "$$\n",
    "\n",
    "Dette kan vi selvfølgelig gjøre for hånd, og da finner vi at $x = 1/2$. \n",
    "\n",
    "For å bruke `sympy` må vi identifisere hva $f(x)$ er for noe, og i dette tilfellet er det $f(x) = 2x - 1$. Vi kan derfor skrive"
   ]
  },
  {
   "cell_type": "code",
   "execution_count": 1,
   "metadata": {},
   "outputs": [
    {
     "name": "stdout",
     "output_type": "stream",
     "text": [
      "[1/2]\n"
     ]
    }
   ],
   "source": [
    "import sympy\n",
    "from sympy.abc import x # Lager en symbolsk variabel for x\n",
    "\n",
    "f = 2 * x - 1 # Lager en symbolsk funksjon f(x) = 2*x - 1\n",
    "løsninger = sympy.solve(f, x) # Løser likningen 2*x - 1 = 0.\n",
    "\n",
    "print(løsninger)"
   ]
  },
  {
   "cell_type": "markdown",
   "metadata": {},
   "source": [
    "som betyr at løsningen av ligningen er $x = 1/2$."
   ]
  },
  {
   "cell_type": "markdown",
   "metadata": {},
   "source": [
    "````{admonition} Kommentar til koden\n",
    ":class: tip, dropdown\n",
    "\n",
    "I eksempelet her, og i de neste eksemplene som følger, har definert en symbolsk uttrykk for funksjonen `f` i likningen $f(x) = 0$.\n",
    "Man trenger strengt tatt ikke å gjøre dette, men kan i stedet bare skrive venstresiden av ligningen direkte inn i `sympy.solve`:\n",
    "\n",
    "```python\n",
    "løsninger = sympy.solve(2 * x - 1)\n",
    "```\n",
    "\n",
    "Dette vil gi akkurat samme resultat.\n",
    "\n",
    "````"
   ]
  },
  {
   "attachments": {},
   "cell_type": "markdown",
   "metadata": {},
   "source": [
    "### Eksempel 2: Løse en andregradsligning\n",
    "\n",
    "La oss se på hvordan vi kan løse ligningen\n",
    "\n",
    "$$\n",
    "x^2 + x - 2 = 0,\n",
    "$$\n",
    "\n",
    "ved å bruke `sympy`. Vi kan løse denne ligningen for hånd ved å faktorisere venstresiden av ligningen, og da finner vi at $x = -2$ eller $x = 1$.\n",
    "\n",
    "For å bruke `sympy.solve`, må vi identifiere hva $f(x)$ er her, og det er $f(x) = x^2 + x - 2$. Vi kan derfor skrive\n"
   ]
  },
  {
   "cell_type": "code",
   "execution_count": 2,
   "metadata": {},
   "outputs": [
    {
     "name": "stdout",
     "output_type": "stream",
     "text": [
      "[-2, 1]\n"
     ]
    }
   ],
   "source": [
    "import sympy\n",
    "from sympy.abc import x\n",
    "\n",
    "f = x**2 + x - 2 # Lager en symbolsk funksjon f(x) = x**2 + x - 2\n",
    "løsninger = sympy.solve(f, x) # Løser ligningen x**2 + x - 2 = 0.\n",
    "\n",
    "print(løsninger)"
   ]
  },
  {
   "cell_type": "markdown",
   "metadata": {},
   "source": [
    "som betyr at løsningen av ligningen er $x = -2 \\, \\vee \\,  x = 1$.\n"
   ]
  },
  {
   "attachments": {},
   "cell_type": "markdown",
   "metadata": {},
   "source": [
    "### Eksempel 3: Løse en tredjegradsligning\n",
    "\n",
    "La oss se på et eksempel der vi skal løse en tredjegradsligning. Vi skal løse ligningen\n",
    "\n",
    "$$\n",
    "x^3 + 2x^2 = x - 2.\n",
    "$$\n",
    "\n",
    "Første steg er å flytte alt over på venstresiden, slik at vi får en ligning på formen $f(x) = 0$. Da får vi\n",
    "\n",
    "$$\n",
    "x^3 - 2x^2 - x + 2 = 0,\n",
    "$$\n",
    "\n",
    "så vi kan sette $f(x) = x^3 - 2x^2 - x + 2$ i tråd med det vi har gjort tidligere. For å løse ligningen skriver vi derfor koden:"
   ]
  },
  {
   "cell_type": "code",
   "execution_count": 3,
   "metadata": {},
   "outputs": [
    {
     "name": "stdout",
     "output_type": "stream",
     "text": [
      "[-1, 1, 2]\n"
     ]
    }
   ],
   "source": [
    "import sympy\n",
    "from sympy.abc import x # Importerer symbolet for `x`\n",
    "\n",
    "f = x**3 - 2 * x**2 - x + 2 # Lager en symbolsk funksjon f(x) = x**3 - 2*x**2 - x + 2\n",
    "løsninger = sympy.solve(f, x) # Løser ligningen x**3 - 2*x**2 - x + 2 = 0.\n",
    "\n",
    "print(løsninger)"
   ]
  },
  {
   "cell_type": "markdown",
   "metadata": {},
   "source": [
    "som betyr at løsningen av ligningen er $x = -1 \\, \\vee \\, x = 1 \\, \\vee \\, x = 2$."
   ]
  },
  {
   "cell_type": "markdown",
   "metadata": {},
   "source": [
    "#### Eksempel 4: En rasjonal ligning\n",
    "\n",
    "La oss se på et eksempel der vi skal løse en likning med brøk. Vi skal løse likningen\n",
    "\n",
    "$$\n",
    "\\frac{x^2 - x - 6}{x + 2} = 0.\n",
    "$$"
   ]
  },
  {
   "cell_type": "markdown",
   "metadata": {},
   "source": [
    "Vi kan løse likningen med `sympy` slik:"
   ]
  },
  {
   "cell_type": "code",
   "execution_count": 4,
   "metadata": {},
   "outputs": [
    {
     "name": "stdout",
     "output_type": "stream",
     "text": [
      "[3]\n"
     ]
    }
   ],
   "source": [
    "import sympy\n",
    "from sympy.abc import x\n",
    "\n",
    "f = (x**2 - x - 6) / (x + 2)\n",
    "løsninger = sympy.solve(f, x) # Løser likningen (x**2 - x - 6) / (x + 2) = 0\n",
    "\n",
    "print(løsninger)"
   ]
  },
  {
   "cell_type": "markdown",
   "metadata": {},
   "source": [
    "som betyr at den eneste gyldige løsningen av ligningen er $x = 3$."
   ]
  },
  {
   "cell_type": "markdown",
   "metadata": {},
   "source": [
    "```{admonition} Hva mener du med den *eneste gyldige* løsningen her?\n",
    ":class: tip, dropdown\n",
    "\n",
    "Her viser det seg at $x^2 - x - 6 = (x - 3)(x + 2)$, som betyr at $x = -2$ er en rot i uttrykket i telleren. Men dette er også en rot i nevneren. Dette er derfor ikke en gyldig løsning av ligningen, fordi vi da deler på null. \n",
    "\n",
    "Heldigvis, trenger vi ikke bekymre oss for dette. `sympy` sjekker løsningene for oss og fjerner alle som leder til at vi deler på 0. \n",
    "\n",
    "```"
   ]
  },
  {
   "attachments": {},
   "cell_type": "markdown",
   "metadata": {},
   "source": [
    "## Øvingsoppgaver\n",
    "Det er på tide å prøve seg på egenhånd. Det ligger *kodeskall* til hjelp som du kan ta utgangspunkt i, men det er lurt å prøve å skrive all koden selv. I tillegg er det løsningsforslag til alle som oppgavene som du kan ta en titt på etter du har prøvd deg på oppgavene. "
   ]
  },
  {
   "attachments": {},
   "cell_type": "markdown",
   "metadata": {},
   "source": [
    "### Oppgave 1\n",
    "\n",
    "\n",
    "Bruk `sympy` til å løse ligningen\n",
    "\n",
    "$$\n",
    "3x - 2 = 0.\n",
    "$$\n"
   ]
  },
  {
   "cell_type": "markdown",
   "metadata": {},
   "source": [
    "````{admonition} Kodeskall\n",
    ":class: dropdown\n",
    "Du kan ta utgangspunkt i kodeskallet under. Du må endre der det står `NotImplemented`.\n",
    "```python\n",
    "import sympy\n",
    "from sympy.abc import x\n",
    "\n",
    "f = NotImplemented # Skriv venstre side av likningen f(x) = 0\n",
    "løsninger = NotImplemented # Løs ligningen med sympy.solve\n",
    "\n",
    "print(løsninger)\n",
    "```\n",
    "````"
   ]
  },
  {
   "attachments": {},
   "cell_type": "markdown",
   "metadata": {},
   "source": [
    "````{admonition} Løsning\n",
    ":class: dropdown\n",
    "```python\n",
    "import sympy\n",
    "from sympy.abc import x\n",
    "\n",
    "f = 3 * x - 2\n",
    "løsninger = sympy.solve(3 * x - 2)\n",
    "\n",
    "print(løsninger)\n",
    "```\n",
    "\n",
    "som gir utskriften\n",
    "\n",
    "```console\n",
    "[2/3]\n",
    "```\n",
    "\n",
    "Det betyr at løsningen av ligningen er $x = 2/3$\n",
    "\n",
    "````"
   ]
  },
  {
   "attachments": {},
   "cell_type": "markdown",
   "metadata": {},
   "source": [
    "### Oppgave 2\n",
    "\n",
    "Bruk `sympy` til å løse ligningen\n",
    "\n",
    "$$\n",
    "x^2 - 3x + 2 = 0.\n",
    "$$\n"
   ]
  },
  {
   "cell_type": "markdown",
   "metadata": {},
   "source": [
    "````{admonition} Kodeskall\n",
    ":class: dropdown\n",
    "Du kan ta utgangspunkt i kodeskallet under. Du må endre der det står `NotImplemented`.\n",
    "```python\n",
    "import sympy\n",
    "from sympy.abc import x\n",
    "\n",
    "f = NotImplemented # Skriv venstre side av ligningen f(x) = 0\n",
    "løsninger = NotImplemented # Løs ligningen med sympy.solve\n",
    "\n",
    "print(løsninger)\n",
    "```\n",
    "````"
   ]
  },
  {
   "attachments": {},
   "cell_type": "markdown",
   "metadata": {},
   "source": [
    "````{admonition} Løsning\n",
    ":class: dropdown\n",
    "```python\n",
    "import sympy\n",
    "from sympy.abc import x\n",
    "\n",
    "f = x**2 - 3 * x + 2 \n",
    "løsninger = sympy.solve(f)\n",
    "\n",
    "print(løsninger)\n",
    "```\n",
    "\n",
    "som gir utskriften\n",
    "\n",
    "```console\n",
    "[1, 2]\n",
    "```\n",
    "\n",
    "som betyr at løsningene er $x = 1 \\, \\vee \\, x = 2$.\n",
    "\n",
    "````"
   ]
  },
  {
   "attachments": {},
   "cell_type": "markdown",
   "metadata": {},
   "source": [
    "### Oppgave 3 \n",
    "\n",
    "Bruk `sympy` til å løse ligningen\n",
    "\n",
    "$$\n",
    "x^3 - 13x^2 + 52x - 60 = 0.\n",
    "$$\n"
   ]
  },
  {
   "cell_type": "markdown",
   "metadata": {},
   "source": [
    "````{admonition} Kodeskall\n",
    ":class: dropdown\n",
    "Du kan ta utgangspunkt i kodeskallet under. Du må endre der det står `NotImplemented`.\n",
    "```python\n",
    "import sympy\n",
    "from sympy.abc import x\n",
    "\n",
    "f = NotImplemented # Skriv venstre side av likningen f(x) = 0\n",
    "løsninger = NotImplemented # Løs likningen med sympy.solve\n",
    "\n",
    "print(løsninger)\n",
    "```\n",
    "````"
   ]
  },
  {
   "attachments": {},
   "cell_type": "markdown",
   "metadata": {},
   "source": [
    "````{admonition} Løsning\n",
    ":class: dropdown\n",
    "```python\n",
    "import sympy\n",
    "from sympy.abc import x\n",
    "\n",
    "f = x**3 - 13 * x**2 + 52 * x - 60\n",
    "løsninger = sympy.solve(f)\n",
    "\n",
    "print(løsninger)\n",
    "```\n",
    "\n",
    "som gir utskriften\n",
    "\n",
    "```console\n",
    "[2, 5, 6]\n",
    "```\n",
    "\n",
    "som betyr at løsningene er $x = 2 \\, \\vee \\, x = 5 \\, \\vee \\, x = 6$.\n",
    "\n",
    "\n",
    "````"
   ]
  },
  {
   "cell_type": "markdown",
   "metadata": {},
   "source": [
    "### Oppgave 4\n",
    "\n",
    "Bruk `sympy` til å løse ligningen\n",
    "\n",
    "$$\n",
    "\\frac{x^2 + 2x - 3}{x - 1} = 0.\n",
    "$$ \n"
   ]
  },
  {
   "cell_type": "markdown",
   "metadata": {},
   "source": [
    "````{admonition} Kodeskall\n",
    ":class: dropdown\n",
    "Du kan ta utgangspunkt i kodeskallet under. Du må endre der det står `NotImplemented`.\n",
    "```python\n",
    "import sympy\n",
    "from sympy.abc import x\n",
    "\n",
    "f = NotImplemented # Skriv venstre side av ligningen f(x) = 0\n",
    "løsninger = NotImplemented # Løs ligningen med sympy.solve\n",
    "\n",
    "print(løsninger)\n",
    "```\n",
    "````"
   ]
  },
  {
   "cell_type": "markdown",
   "metadata": {},
   "source": [
    "\n",
    "````{admonition} Løsning\n",
    ":class: dropdown\n",
    "```python\n",
    "import sympy\n",
    "from sympy.abc import x\n",
    "\n",
    "f = (x**2 + 2 * x - 3) / (x - 1)\n",
    "løsninger = sympy.solve(f)\n",
    "\n",
    "print(løsninger)\n",
    "```\n",
    "\n",
    "som gir utskriften\n",
    "\n",
    "```console\n",
    "[-3]\n",
    "```\n",
    "\n",
    "som betyr at løsningen av ligningen er $x = -3$. Her er $x = 1$ en rot i telleren og nevneren, som gjør at det ikke er en gyldig del av løsningen fordi vi ikke kan dele på null. `sympy` passer på å sjekke dette for oss slik at vi ikke trenger å tenke oss om!\n",
    "\n",
    "````"
   ]
  }
 ],
 "metadata": {
  "kernelspec": {
   "display_name": "Python 3",
   "language": "python",
   "name": "python3"
  },
  "language_info": {
   "codemirror_mode": {
    "name": "ipython",
    "version": 3
   },
   "file_extension": ".py",
   "mimetype": "text/x-python",
   "name": "python",
   "nbconvert_exporter": "python",
   "pygments_lexer": "ipython3",
   "version": "3.11.6"
  },
  "orig_nbformat": 4
 },
 "nbformat": 4,
 "nbformat_minor": 2
}
