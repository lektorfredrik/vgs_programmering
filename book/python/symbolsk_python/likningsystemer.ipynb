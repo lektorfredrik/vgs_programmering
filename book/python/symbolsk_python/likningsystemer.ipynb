{
 "cells": [
  {
   "attachments": {},
   "cell_type": "markdown",
   "metadata": {},
   "source": [
    "# Løse ligningssystemer med `sympy`\n",
    "\n",
    "Ligningssystemer er et system av ligninger med flere ukjente. Dette betyr at alle ligningene må være oppfylt samtidig. \n",
    "\n",
    "## Læringsmål\n",
    "* Kunne løse ulike ligningssystemer ved hjelp av `sympy`."
   ]
  },
  {
   "attachments": {},
   "cell_type": "markdown",
   "metadata": {},
   "source": [
    "## Ligningssystemer med to likninger og to ukjente\n",
    "\n",
    "Vi skal se på ligningssystemer med to ligningssystemer og to ukjente, både lineære og ikke-lineære.\n",
    "\n",
    "### Lineære ligningssystemer med to likninger og to ukjente\n",
    "\n",
    "Et lineært likningsystem med to likninger og to ukjente kan skrives på formen\n",
    "\n",
    "\\begin{align}\n",
    "    ax + by & = r, \\\\\n",
    "    cx + dy & = s. \\\\\n",
    "\\end{align}\n",
    "\n",
    "For å løse slike likninger, kan vi benytte oss av `sympy.solve` akkurat som med vanlig likninger, men da er vi nødt til å omforme begge to slik at vi får 0 på høyre side av likningene, som dette:\n",
    "\n",
    "\\begin{align}\n",
    "    ax + by - r & = 0, \\\\\n",
    "    cx + dy - s & = 0. \\\\\n",
    "\\end{align}\n",
    "\n",
    "Det vi skal sende inn som likninger til `sympy.solve` er venstre side av de to likningene. Vi kan gjøre dette på følgende måte:\n",
    "\n",
    "```python\n",
    "import sympy\n",
    "from sympy.abc import x, y\n",
    "\n",
    "likning1 = a * x + b * y - r\n",
    "likning2 = c * x + d * y - s\n",
    "likningssystem = (likning1, likning2) \n",
    "løsninger = sympy.solve(likningssystem)\n",
    "```\n",
    "\n",
    "*Merk at koden over ikke ville kjørt, fordi vi har ikke spesifisert hva `a`, `b`, `c`, `d`, `r` og `s` er. Her har vi bare antatt at de er tall som vi har spesifisert.*\n",
    "\n",
    "```{admonition} Viktig egenskap ved lineære likningsystemer\n",
    ":class: tip\n",
    "\n",
    "Lineære likningssystemer kan *kun* komme i tre varianter:\n",
    "1. Nøyaktig én løsning\n",
    "2. Uendelig mange løsninger\n",
    "3. Ingen løsninger\n",
    "\n",
    "Vi skal derfor ta for disse tre eksemplene for å se hvordan disse håndteres av `sympy`\n",
    "```"
   ]
  },
  {
   "attachments": {},
   "cell_type": "markdown",
   "metadata": {},
   "source": [
    "#### Eksempel 1: Lineært likningsystem med nøyaktig én løsning\n",
    "\n",
    "Vi skal løse likningsystemet\n",
    "\n",
    "\\begin{align}\n",
    "    2x + 3y & = 5, \\\\\n",
    "    4x + 5y & = 6. \\\\\n",
    "\\end{align}\n",
    "\n",
    "Først må vi omforme likningene slik at vi får 0 på høyre side\n",
    "\n",
    "\\begin{align}\n",
    "    2x + 3y - 5 & = 0, \\\\\n",
    "    4x + 5y - 6 & = 0. \\\\\n",
    "\\end{align}\n",
    "\n",
    "Da kan vi løse likningsystemet med `sympy.solve`:\n"
   ]
  },
  {
   "cell_type": "code",
   "execution_count": 6,
   "metadata": {},
   "outputs": [
    {
     "name": "stdout",
     "output_type": "stream",
     "text": [
      "{x: -7/2, y: 4}\n"
     ]
    }
   ],
   "source": [
    "import sympy\n",
    "from sympy.abc import x, y\n",
    "\n",
    "likning1 = 2 * x + 3 * y - 5\n",
    "likning2 = 4 * x + 5 * y - 6\n",
    "likningssystem = (likning1, likning2)\n",
    "løsninger = sympy.solve(likningssystem)\n",
    "\n",
    "print(løsninger)"
   ]
  },
  {
   "attachments": {},
   "cell_type": "markdown",
   "metadata": {},
   "source": [
    "Så vi finner at løsningen av likningen er \n",
    "\n",
    "$$\n",
    "x = -\\frac{7}{2} \\quad \\wedge \\quad y = 4.\n",
    "$$"
   ]
  },
  {
   "attachments": {},
   "cell_type": "markdown",
   "metadata": {},
   "source": [
    "#### Eksempel 2: Lineært likningsystem med uendelig mange løsninger\n",
    "\n",
    "Et lineært likningssystem med uendelig mange løsninger med to likninger og to ukjente, vil være likninger der to av dem er et multippel av hverandre. For eksempel \n",
    "\n",
    "\\begin{align}\n",
    "    2x + 3y & = 5, \\\\\n",
    "    4x + 6y & = 10. \\\\\n",
    "\\end{align}\n",
    "\n",
    "Her er likning 2 bare 2 ganget med likning 1. Vi kan omforme likningene slik at vi får 0 på høyre side\n",
    "\n",
    "\\begin{align}\n",
    "    2x + 3y - 5 & = 0, \\\\\n",
    "    4x + 6y - 10 & = 0. \\\\\n",
    "\\end{align}\n",
    "\n",
    "Da kan vi løse likningsystemet med `sympy.solve`:"
   ]
  },
  {
   "cell_type": "code",
   "execution_count": 7,
   "metadata": {},
   "outputs": [
    {
     "name": "stdout",
     "output_type": "stream",
     "text": [
      "{x: 5/2 - 3*y/2}\n"
     ]
    }
   ],
   "source": [
    "import sympy as sp\n",
    "from sympy.abc import x, y\n",
    "\n",
    "likning1 = 2 * x + 3 * y - 5\n",
    "likning2 = 4 * x + 6 * y - 10\n",
    "likningssystem = (likning1, likning2)\n",
    "\n",
    "løsninger = sp.solve(likningssystem)\n",
    "\n",
    "print(løsninger)"
   ]
  },
  {
   "attachments": {},
   "cell_type": "markdown",
   "metadata": {},
   "source": [
    "Her får vi at løsningen er\n",
    "\n",
    "$$\n",
    "x = \\frac{5}{2} - \\frac{3y}{2},\n",
    "$$\n",
    "men det er ingen krav satt på verdien til $y$, så den kan være hva som helst. Vi kan derfor skrive løsningen som\n",
    "\n",
    "$$\n",
    "x = \\frac{5}{2} - \\frac{3y}{2} \\quad \\wedge \\quad y \\in \\mathbb{R}.\n",
    "$$"
   ]
  },
  {
   "attachments": {},
   "cell_type": "markdown",
   "metadata": {},
   "source": [
    "#### Eksempel 3: Lineært likningsystem uten løsning\n",
    "\n",
    "Et eksempel på en likning som ikke har noen løsning er\n",
    "\n",
    "\\begin{align}\n",
    "    x + y & = 3, \\\\\n",
    "    x + y & = 5. \\\\\n",
    "\\end{align}\n",
    "\n",
    "Vi kan omforme likningene slik at vi får 0 på høyre side\n",
    "\n",
    "\\begin{align}\n",
    "    x + y - 3 & = 0, \\\\\n",
    "    x + y - 5 & = 0. \\\\\n",
    "\\end{align}\n",
    "\n",
    "Da kan vi *forsøke* å løse likningsystemet med `sympy.solve`:"
   ]
  },
  {
   "cell_type": "code",
   "execution_count": 8,
   "metadata": {},
   "outputs": [
    {
     "name": "stdout",
     "output_type": "stream",
     "text": [
      "[]\n"
     ]
    }
   ],
   "source": [
    "import sympy as sp\n",
    "from sympy.abc import x, y\n",
    "\n",
    "likning1 = x + y - 3\n",
    "likning2 = x + y - 5\n",
    "likningssystem = (likning1, likning2)\n",
    "løsninger = sp.solve(likningssystem)\n",
    "\n",
    "print(løsninger)"
   ]
  },
  {
   "attachments": {},
   "cell_type": "markdown",
   "metadata": {},
   "source": [
    "Det skrives ut en tom liste `[]`, som betyr at det ikke finnes noen løsning."
   ]
  },
  {
   "cell_type": "markdown",
   "metadata": {},
   "source": [
    "### Eksempel 4: Den helt generelle løsningen\n",
    "\n",
    "I introduksjonen skrev vi opp de helt generelle likningene for et lineært likningssystem med to likninger og to ukjente:\n",
    "\n",
    "\\begin{align}\n",
    "    ax + by & = r, \\\\\n",
    "    cx + dy & = s. \\\\\n",
    "\\end{align}\n",
    "\n",
    "Vi kan faktisk løse denne likningen helt generelt med `sympy.solve` ved å importere `a`, `b`, `c`, `d`, `r` og `s` som symboler. Den ekstra tingen vi må gjøre her, er å spesifisere hvilke symboler som er variabler ($x$ og $y$) slik at `sympy` vet hvilke symboler som skal behandles som variabler og hvilke som skal behandles som konstanter/tall. \n",
    "\n",
    "Følgende kode løser likningen helt generelt:"
   ]
  },
  {
   "cell_type": "code",
   "execution_count": 11,
   "metadata": {},
   "outputs": [
    {
     "name": "stdout",
     "output_type": "stream",
     "text": [
      "{x: (-b*s + d*r)/(a*d - b*c), y: (a*s - c*r)/(a*d - b*c)}\n"
     ]
    }
   ],
   "source": [
    "import sympy\n",
    "from sympy.abc import x, y\n",
    "from sympy.abc import a, b, c, d, r, s\n",
    "\n",
    "likning1 = a * x + b * y - r\n",
    "likning2 = c * x + d * y - s\n",
    "likningssystem = (likning1, likning2)\n",
    "variabler = (x, y)\n",
    "\n",
    "løsninger = sympy.solve(likningssystem, variabler)\n",
    "\n",
    "print(løsninger)"
   ]
  },
  {
   "cell_type": "markdown",
   "metadata": {},
   "source": [
    "som betyr at de helt generelle løsningene er\n",
    "\n",
    "$$\n",
    "x = \\frac{rd - bs}{ad - bc} \\quad \\wedge \\quad y = \\frac{as - cr}{ad - bc}.\n",
    "$$"
   ]
  },
  {
   "cell_type": "markdown",
   "metadata": {},
   "source": [
    "Kravet vi må sette er bare at $ad - bc \\neq 0$, fordi da vil vi dele på 0."
   ]
  },
  {
   "attachments": {},
   "cell_type": "markdown",
   "metadata": {},
   "source": [
    "### Ikke-lineære likningsystemer med to likninger og to ukjente"
   ]
  },
  {
   "attachments": {},
   "cell_type": "markdown",
   "metadata": {},
   "source": [
    "Ikke-lineære likningsystemer involverer likninger der minst én av de ukjente variabelene er opphøyd i en potens som er større enn 1, eller der de ukjente variabelene er multiplisert med hverandre, eller der hvor transcendentale funksjoner inngår. Eksempler på slike likninger er\n",
    "\n",
    "$$\n",
    "x^2 + 2y + 3 = 0,\n",
    "$$\n",
    "\n",
    "eller \n",
    "\n",
    "$$\n",
    "xy + 2x + 3y = 0,\n",
    "$$\n",
    "\n",
    "eller \n",
    "\n",
    "$$\n",
    "e^x + \\sin(y) = 0.\n",
    "$$\n",
    "\n",
    "Når vi har to likninger der minst én av likningene har en ikke-lineær form, kan det være vanskelig å finne en løsning på hva de to ukjente må være for å oppfylle begge likninger. I videregående skole er det typisk bare to de første som dukker opp, ofte sammen med en lineær likning. Vi skal se på hvordan vi kan løse slike likninger med `sympy`.\n"
   ]
  },
  {
   "attachments": {},
   "cell_type": "markdown",
   "metadata": {},
   "source": [
    "#### Eksempel 1: Ikke-lineært likningssystem med én av variablene opphøyd i en potens\n",
    "\n",
    "Vi skal løse likningsystemet\n",
    "\n",
    "\\begin{align}\n",
    "    x^2 - 2y & = -3, \\\\\n",
    "    x + y & = 1. \\\\\n",
    "\\end{align}\n",
    "\n",
    "Akkurat som med de lineære likningene, må vi få 0 på høyre side av likningene. Skriver vi om likningene i likningsystemet får vi\n",
    "\n",
    "\\begin{align}\n",
    "    x^2 - 2y + 3 & = 0, \\\\\n",
    "    x + y - 1 & = 0. \\\\\n",
    "\\end{align}\n",
    "\n",
    "Da kan vi løse likningsystemet med `sympy.solve`:"
   ]
  },
  {
   "cell_type": "code",
   "execution_count": 12,
   "metadata": {},
   "outputs": [
    {
     "name": "stdout",
     "output_type": "stream",
     "text": [
      "[{x: -1, y: 2}]\n"
     ]
    }
   ],
   "source": [
    "import sympy as sp\n",
    "from sympy.abc import x, y\n",
    "\n",
    "likning1 = x**2 - 2 * y + 3\n",
    "likning2 = x + y - 1\n",
    "likningssystem = (likning1, likning2)\n",
    "\n",
    "løsninger = sp.solve(likningssystem)\n",
    "\n",
    "print(løsninger)"
   ]
  },
  {
   "attachments": {},
   "cell_type": "markdown",
   "metadata": {},
   "source": [
    "Som gir oss nøyaktig én løsning med \n",
    "\n",
    "$$\n",
    "x = -1 \\quad \\wedge \\quad y = 2.\n",
    "$$"
   ]
  },
  {
   "cell_type": "markdown",
   "metadata": {},
   "source": [
    "## Oppgaver "
   ]
  },
  {
   "cell_type": "markdown",
   "metadata": {},
   "source": [
    "### Oppgave 1 \n",
    "\n",
    "Bruk `sympy` til å løse likningssystemet\n",
    "\n",
    "\\begin{align}\n",
    "    2x - 3y & = -1, \\\\\n",
    "    4x + 5y & = 2. \\\\\n",
    "\\end{align}\n",
    "\n",
    "*Du kan ta utgangspunkt i kodeskallet under. Du må fylle inn der det står `NotImplemented`*"
   ]
  },
  {
   "cell_type": "code",
   "execution_count": null,
   "metadata": {},
   "outputs": [],
   "source": [
    "import sympy\n",
    "from sympy.abc import x, y\n",
    "\n",
    "likning1 = NotImplemented\n",
    "likning2 = NotImplemented\n",
    "\n",
    "likningssystem = NotImplemented\n",
    "\n",
    "løsninger = NotImplemented\n",
    "\n",
    "sympy.pprint(løsninger)\n"
   ]
  },
  {
   "cell_type": "markdown",
   "metadata": {},
   "source": [
    "````{dropdown} Løsningsforslag\n",
    "Først må vi skrive om likningssystemet slik at høyresiden er 0 i begge likningene. Det vil si:\n",
    "\n",
    "\\begin{align}\n",
    "    2x - 3y + 1 & = 0, \\\\\n",
    "    4x + 5y - 2 & = 0. \\\\\n",
    "\\end{align}\n",
    "\n",
    "Deretter kan vi løse likningssystemet med `sympy.solve` slik:\n",
    "\n",
    "```python\n",
    "import sympy\n",
    "from sympy.abc import x, y\n",
    "\n",
    "likning1 = 2 * x - 3 * y + 1\n",
    "likning2 = 4 * x + 5 * y - 2\n",
    "\n",
    "likningssystem = (likning1, likning2)\n",
    "\n",
    "løsninger = sympy.solve(likningssystem)\n",
    "\n",
    "sympy.pprint(løsninger)\n",
    "```\n",
    "som gir utskriften\n",
    "\n",
    "```python\n",
    "{x: 1/22, y: 4/11}\n",
    "```\n",
    "som betyr at løsningen av likningssystemet er\n",
    "\n",
    "$$\n",
    "x = \\frac{1}{22} \\quad \\wedge \\quad y = \\frac{4}{11}.\n",
    "$$\n",
    "````"
   ]
  },
  {
   "cell_type": "markdown",
   "metadata": {},
   "source": [
    "### Oppgave 2\n",
    "\n",
    "Bruk `sympy` til å løse likningssystemet\n",
    "\n",
    "\\begin{align}\n",
    "    x + 2y & = 3, \\\\\n",
    "    x + y & = 1. \\\\\n",
    "\\end{align}\n",
    "\n",
    "*Du kan ta utgangspunkt i kodeskallet under. Du må fylle inn der det står `NotImplemented`*"
   ]
  },
  {
   "cell_type": "code",
   "execution_count": null,
   "metadata": {},
   "outputs": [],
   "source": [
    "import sympy \n",
    "from sympy.abc import NotImplemented\n",
    "\n",
    "likning1 = NotImplemented\n",
    "likning2 = NotImplemented\n",
    "\n",
    "likningssystem = NotImplemented\n",
    "\n",
    "løsninger = sympy.solve(likningssystem)\n",
    "\n",
    "sympy.pprint(løsninger)"
   ]
  },
  {
   "cell_type": "markdown",
   "metadata": {},
   "source": [
    "```{dropdown} Fasit\n",
    "Løsningen av likningssystemet er\n",
    "\n",
    "$$\n",
    "x = -1 \\quad \\wedge \\quad y = 2.\n",
    "$$\n",
    "```"
   ]
  },
  {
   "cell_type": "markdown",
   "metadata": {},
   "source": [
    "### Oppgave 3\n",
    "\n",
    "Bruk `sympy` til å løse likningssystemet\n",
    "\n",
    "\\begin{align}\n",
    "    x^2 + 2y & = 3, \\\\\n",
    "    x + y & = 1. \\\\\n",
    "\\end{align}\n",
    "\n",
    "*Du kan ta utgangspunkt i kodeskallet under. Du må fylle inn der det står `NotImplemented`*"
   ]
  },
  {
   "cell_type": "code",
   "execution_count": null,
   "metadata": {},
   "outputs": [],
   "source": [
    "import NotImplemented # Importerer riktig bibliotek\n",
    "from sympy.abc import NotImplemented # Importerer riktige symboler her \n",
    "\n",
    "likning1 = NotImplemented\n",
    "likning2 = NotImplemented\n",
    "\n",
    "likningssystem = NotImplemented\n",
    "\n",
    "løsninger = NotImplemented\n",
    "\n",
    "sympy.pprint(løsninger)"
   ]
  },
  {
   "cell_type": "markdown",
   "metadata": {},
   "source": [
    "````{dropdown} Løsningsforslag\n",
    "Først må vi skrive om likningssystemet slik at det er 0 på høyre side av begge likningene. Da får vi\n",
    "\n",
    "\\begin{align}\n",
    "    x^2 + 2y - 3 & = 0, \\\\\n",
    "    x + y - 1 & = 0. \\\\\n",
    "\\end{align}\n",
    "\n",
    "Deretter plugger vi dette inn som `likning1` og `likning2` i kodeskallet under, og får følgende kode til slutt:\n",
    "```python\n",
    "import sympy # Importerer riktig bibliotek\n",
    "from sympy.abc import x, y # Importerer riktige symboler her \n",
    "\n",
    "likning1 = x**2 + 2 * y - 3\n",
    "likning2 = x + y - 1\n",
    "\n",
    "likningssystem = (likning1, likning2)\n",
    "\n",
    "løsninger = sympy.solve(likningssystem)\n",
    "\n",
    "sympy.pprint(løsninger)\n",
    "```\n",
    "som gir utskriften\n",
    "\n",
    "```console\n",
    "[{x: 1 - √2, y: √2}, {x: 1 + √2, y: -√2}]\n",
    "```\n",
    "som betyr at løsningene er\n",
    "\n",
    "$$\n",
    "x = 1 - \\sqrt{2} \\quad \\text{og} \\quad y = \\sqrt{2} \\quad \\text{eller} \\quad x = 1 + \\sqrt{2} \\quad \\text{og} \\quad y = -\\sqrt{2}.\n",
    "$$\n",
    "````"
   ]
  },
  {
   "cell_type": "markdown",
   "metadata": {},
   "source": [
    "### Oppgave 4\n",
    "\n",
    "Bruk `sympy` til å løse likningssystemet \n",
    "\n",
    "\\begin{align*}\n",
    "    x^2 - 2y + 1 & = 5, \\\\\n",
    "    2y^2 - 5x + 1 & = -1, \\\\\n",
    "\\end{align*}\n",
    "\n",
    "*Du kan ta utgangspunkt i kodeskallet under. Du må fylle inn der det står `NotImplemented`*"
   ]
  },
  {
   "cell_type": "code",
   "execution_count": null,
   "metadata": {},
   "outputs": [],
   "source": [
    "import NotImplemented\n",
    "from sympy.abc import NotImplemented\n",
    "\n",
    "likningssystem = (\n",
    "    NotImplemented,\n",
    "    NotImplemented,\n",
    ")\n",
    "\n",
    "løsninger = NotImplemented\n",
    "\n",
    "sympy.pprint(løsninger)"
   ]
  },
  {
   "cell_type": "markdown",
   "metadata": {},
   "source": [
    "```{dropdown} Fasit\n",
    "Løsningene av likningssystemet er\n",
    "\n",
    "$$\n",
    "x = -2\\sqrt{2} \\quad \\wedge \\quad y = 2 \\quad \\vee \\quad \n",
    "x = 2\\sqrt{2} \\quad \\wedge \\quad y = 2 \\quad \\vee \\quad \n",
    "x = -\\sqrt{5} \\quad \\wedge \\quad y = 1 / 2 \\quad \\vee \\quad\n",
    "x = \\sqrt{5} \\quad \\wedge \\quad y = 1 / 2. \n",
    "$$\n",
    "```"
   ]
  }
 ],
 "metadata": {
  "kernelspec": {
   "display_name": "Python 3",
   "language": "python",
   "name": "python3"
  },
  "language_info": {
   "codemirror_mode": {
    "name": "ipython",
    "version": 3
   },
   "file_extension": ".py",
   "mimetype": "text/x-python",
   "name": "python",
   "nbconvert_exporter": "python",
   "pygments_lexer": "ipython3",
   "version": "3.11.6"
  },
  "orig_nbformat": 4
 },
 "nbformat": 4,
 "nbformat_minor": 2
}
