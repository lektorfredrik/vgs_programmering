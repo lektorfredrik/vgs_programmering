{
 "cells": [
  {
   "attachments": {},
   "cell_type": "markdown",
   "metadata": {},
   "source": [
    "# Løse ligninger med `sympy`"
   ]
  },
  {
   "attachments": {},
   "cell_type": "markdown",
   "metadata": {},
   "source": [
    "\n",
    "## Læringsmål\n",
    "* Kunne lage ligninger med `sympy.Eq` og løse disse med `sympy.solve`\n",
    "\n",
    "\n",
    "## Generell skrivemåte\n",
    "\n",
    "````{admonition} sympy.solve\n",
    ":class: tip\n",
    "Vi trenger to ting fra `sympy` for å løse en ligning. \n",
    "\n",
    "1. Vi må bruke `sympy.Eq(venstre_side, høyre_side)` for å lage en ligning.\n",
    "2. Vi må bruke `sympy.solve(ligning, ukjent)` for å løse ligningen.\n",
    "\n",
    "**Eksempel på `sympy`-kode for å løse en ligning**:\n",
    "Vi kan løse ligningen $x^2 = 4$ ved å skrive\n",
    "```python\n",
    "import sympy\n",
    "x = sympy.symbols(\"x\")              # Vi må definere `x` som et sympy-symbol\n",
    "\n",
    "ligning = sympy.Eq(x**2, 4)         # Vi lager en ligning for x^2 = 4\n",
    "løsning = sympy.solve(ligning, x)   # Vi løser ligningen for x\n",
    "\n",
    "print(løsning) # Skriver ut svaret\n",
    "```\n",
    "som gir utskriften\n",
    "```\n",
    "[-2, 2]\n",
    "```\n",
    "som betyr at løsningene av ligningen er $x = \\pm 2$. \n",
    "\n",
    "Her er `venstre_side = x**2` og `høyre_side = 4`. Vi løser ligningen for `x`.\n",
    "\n",
    "Vi kunne faktisk definert variabler for `venstre_side` og `høyre_side` og brukke disse:\n",
    "```python\n",
    "import sympy\n",
    "x = sympy.symbols(\"x\")              # Vi må definere `x` som et sympy-symbol\n",
    "venstre_side = x**2\n",
    "høyre_side = 4\n",
    "\n",
    "ligning = sympy.Eq(venstre_side, høyre_side)         # Vi lager en ligning for x^2 = 4\n",
    "løsning = sympy.solve(ligning, x)   # Vi løser ligningen for x\n",
    "\n",
    "print(løsning)\n",
    "```\n",
    "som ville gitt det samme resultatet.\n",
    "````\n",
    "\n",
    "La oss angripe noe flere eksempler."
   ]
  },
  {
   "cell_type": "markdown",
   "metadata": {},
   "source": [
    "## Eksempler"
   ]
  },
  {
   "attachments": {},
   "cell_type": "markdown",
   "metadata": {},
   "source": [
    "### Eksempel 1: Løse en lineær ligning\n",
    "\n",
    "La oss se på hvordan vi kan løse ligningen\n",
    "\n",
    "$$\n",
    "2x - 1 = 0.\n",
    "$$\n",
    "\n",
    "Dette kan vi selvfølgelig gjøre for hånd, og da finner vi at $x = 1/2$. \n",
    "\n",
    "Vi kan bruke `sympy` til å løse ligningen for oss."
   ]
  },
  {
   "cell_type": "code",
   "execution_count": 2,
   "metadata": {},
   "outputs": [
    {
     "name": "stdout",
     "output_type": "stream",
     "text": [
      "[1/2]\n"
     ]
    }
   ],
   "source": [
    "import sympy\n",
    "x = sympy.symbols(\"x\")\n",
    "\n",
    "ligning = sympy.Eq(2*x - 1, 0)          # lager likningen 2*x - 1 = 0\n",
    "løsninger = sympy.solve(ligning, x)     # løser likningen for `x`\n",
    "\n",
    "print(løsninger)"
   ]
  },
  {
   "cell_type": "markdown",
   "metadata": {},
   "source": [
    "som betyr at løsningen av ligningen er $x = 1/2$."
   ]
  },
  {
   "cell_type": "markdown",
   "metadata": {},
   "source": [
    "````{admonition} Kommentar til koden\n",
    ":class: tip, dropdown\n",
    "\n",
    "I eksemplene vi ser på her lager vi ligninger men en venstre side og høyre side med `sympy.Eq`.\n",
    "Men hvis høyresiden er null, kan man også bruke `sympy.solve` direkte på venstresiden:\n",
    "\n",
    "```python\n",
    "løsninger = sympy.solve(2 * x - 1)\n",
    "```\n",
    "\n",
    "Dette vil gi akkurat samme resultat.\n",
    "\n",
    "````"
   ]
  },
  {
   "attachments": {},
   "cell_type": "markdown",
   "metadata": {},
   "source": [
    "### Eksempel 2: Løse en andregradsligning\n",
    "\n",
    "La oss se på hvordan vi kan løse ligningen\n",
    "\n",
    "$$\n",
    "x^2 - x + 1 = -2x + 3\n",
    "$$\n",
    "\n",
    "ved å bruke `sympy`. \n",
    "\n",
    "En kode for dette kan se slik ut:"
   ]
  },
  {
   "cell_type": "code",
   "execution_count": 7,
   "metadata": {},
   "outputs": [
    {
     "name": "stdout",
     "output_type": "stream",
     "text": [
      "[-2, 1]\n"
     ]
    }
   ],
   "source": [
    "import sympy\n",
    "x = sympy.symbols(\"x\")\n",
    "\n",
    "ligning = sympy.Eq(x**2 - x + 1, -2*x + 3)      # lager ligningen x**2 - x + 1 = -2*x + 3\n",
    "løsninger = sympy.solve(ligning, x)             # løser ligningen for `x`\n",
    "\n",
    "print(løsninger)"
   ]
  },
  {
   "cell_type": "markdown",
   "metadata": {},
   "source": [
    "som betyr at løsningen av ligningen er $x = -2 \\, \\vee \\,  x = 1$.\n"
   ]
  },
  {
   "attachments": {},
   "cell_type": "markdown",
   "metadata": {},
   "source": [
    "### Eksempel 3: Løse en tredjegradsligning\n",
    "\n",
    "La oss se på et eksempel der vi skal løse en tredjegradsligning. Vi skal løse ligningen\n",
    "\n",
    "$$\n",
    "x^3 - 2x^2 = x - 2.\n",
    "$$\n",
    "\n",
    "Med `sympy` kan dette se slik ut:"
   ]
  },
  {
   "cell_type": "code",
   "execution_count": 9,
   "metadata": {},
   "outputs": [
    {
     "name": "stdout",
     "output_type": "stream",
     "text": [
      "[-1, 1, 2]\n"
     ]
    }
   ],
   "source": [
    "import sympy\n",
    "x = sympy.symbols(\"x\")\n",
    "\n",
    "ligning = sympy.Eq(x**3 - 2 * x**2, x - 2)    # lager ligningen x**3 - 2 * x**2 = x - 2\n",
    "løsninger = sympy.solve(ligning, x)           # løser ligningen for `x`\n",
    "\n",
    "print(løsninger)"
   ]
  },
  {
   "cell_type": "markdown",
   "metadata": {},
   "source": [
    "som betyr at løsningen av ligningen er $x = -1 \\, \\vee \\, x = 1 \\, \\vee \\, x = 2$."
   ]
  },
  {
   "cell_type": "markdown",
   "metadata": {},
   "source": [
    "#### Eksempel 4: En rasjonal ligning\n",
    "\n",
    "La oss se på et eksempel der vi skal løse en likning med brøk. Vi skal løse likningen\n",
    "\n",
    "$$\n",
    "\\frac{x^2 - x - 6}{x + 2} = 0.\n",
    "$$"
   ]
  },
  {
   "cell_type": "markdown",
   "metadata": {},
   "source": [
    "Vi kan løse likningen med `sympy` slik:"
   ]
  },
  {
   "cell_type": "code",
   "execution_count": 10,
   "metadata": {},
   "outputs": [
    {
     "name": "stdout",
     "output_type": "stream",
     "text": [
      "[3]\n"
     ]
    }
   ],
   "source": [
    "import sympy\n",
    "x = sympy.symbols(\"x\")\n",
    "\n",
    "ligning = sympy.Eq((x**2 - x - 6) / (x + 2), 0)         # lager likningen (x**2 - x - 6) / (x + 2) = 0 \n",
    "\n",
    "løsninger = sympy.solve(ligning, x)                     # løser likningen for `x`\n",
    "\n",
    "print(løsninger)"
   ]
  },
  {
   "cell_type": "markdown",
   "metadata": {},
   "source": [
    "som betyr at den eneste gyldige løsningen av ligningen er $x = 3$."
   ]
  },
  {
   "cell_type": "markdown",
   "metadata": {},
   "source": [
    "```{admonition} Hva mener du med den *eneste gyldige* løsningen her?\n",
    ":class: tip, dropdown\n",
    "\n",
    "Her viser det seg at $x^2 - x - 6 = (x - 3)(x + 2)$, som betyr at $x = -2$ er en rot i uttrykket i telleren. Men dette er også en rot i nevneren. Dette er derfor ikke en gyldig løsning av ligningen, fordi vi da deler på null. \n",
    "\n",
    "Heldigvis, trenger vi ikke bekymre oss for dette. `sympy` sjekker løsningene for oss og fjerner alle som leder til at vi deler på 0. \n",
    "\n",
    "```"
   ]
  },
  {
   "attachments": {},
   "cell_type": "markdown",
   "metadata": {},
   "source": [
    "## Øvingsoppgaver\n",
    "Det er på tide å prøve seg på egenhånd. Det ligger *kodeskall* til hjelp som du kan ta utgangspunkt i, men det er lurt å prøve å skrive all koden selv. I tillegg er det løsningsforslag til alle som oppgavene som du kan ta en titt på etter du har prøvd deg på oppgavene. "
   ]
  },
  {
   "attachments": {},
   "cell_type": "markdown",
   "metadata": {},
   "source": [
    "### Oppgave 1\n",
    "\n",
    "\n",
    "Bruk `sympy` til å løse ligningen\n",
    "\n",
    "$$\n",
    "3x - 2 = 0.\n",
    "$$\n"
   ]
  },
  {
   "cell_type": "markdown",
   "metadata": {},
   "source": [
    "````{admonition} Løsningsforslag\n",
    ":class: dropdown\n",
    "\n",
    "```python\n",
    "import sympy\n",
    "\n",
    "x = sympy.symbols(\"x\")\n",
    "ligning = sympy.Eq(3 * x - 2, 0)            # 3x - 2 = 0\n",
    "løsninger = sympy.solve(ligning)            # Løser ligningen\n",
    "\n",
    "print(f\"{løsninger = }\")\n",
    "```\n",
    "som gir utskriften\n",
    "```console\n",
    "løsninger = [2/3]\n",
    "```\n",
    "som betyr at løsningen av ligningen er $x = 3/2$. \n",
    "````"
   ]
  },
  {
   "attachments": {},
   "cell_type": "markdown",
   "metadata": {},
   "source": [
    "### Oppgave 2\n",
    "\n",
    "Bruk `sympy` til å løse ligningen\n",
    "\n",
    "$$\n",
    "x^2 - 3x + 2 = 0.\n",
    "$$\n"
   ]
  },
  {
   "cell_type": "markdown",
   "metadata": {},
   "source": [
    "````{admonition} Løsningsforslag\n",
    ":class: dropdown\n",
    "\n",
    "```python\n",
    "import sympy\n",
    "\n",
    "x = sympy.symbols(\"x\")\n",
    "ligning = sympy.Eq(x**2 - 3*x + 2, 0)            # lager likningen x**2 - 3*x + 2 = 0\n",
    "løsninger = sympy.solve(ligning, x)              # løser likningen for `x`\n",
    "\n",
    "print(løsninger)\n",
    "```\n",
    "som gir utskriften\n",
    "```console\n",
    "[1, 2]\n",
    "```\n",
    "som betyr at løsningene av ligningen er $x = 1 \\, \\vee \\, x = 2$. \n",
    "````"
   ]
  },
  {
   "attachments": {},
   "cell_type": "markdown",
   "metadata": {},
   "source": [
    "### Oppgave 3 \n",
    "\n",
    "Bruk `sympy` til å løse ligningen\n",
    "\n",
    "$$\n",
    "x^3 - 5x^2 + 8x - 4 = 8x^2 - 44x + 56\n",
    "$$\n"
   ]
  },
  {
   "cell_type": "markdown",
   "metadata": {},
   "source": [
    "````{admonition} Løsningsforslag\n",
    "\n",
    ":class: dropdown\n",
    "\n",
    "```python\n",
    "import sympy\n",
    "\n",
    "x = sympy.symbols(\"x\")\n",
    "\n",
    "# lager likningen x**3 - 5 * x**2 + 8*x - 4 = 8 * x**2 - 44*x + 56\n",
    "ligning = sympy.Eq(x**3 - 5 * x**2 + 8*x - 4, 8 * x**2 - 44*x + 56)\n",
    "\n",
    "# løser likningen for `x`\n",
    "løsninger = sympy.solve(ligning, x)                     \n",
    "\n",
    "print(løsninger)\n",
    "```\n",
    "som gir utskriften\n",
    "```console\n",
    "[2, 5, 6]\n",
    "```\n",
    "som betyr at løsningene av ligningen er $x = 2 \\, \\vee \\, x = 5 \\, \\vee \\, x = 6$. \n",
    "````"
   ]
  },
  {
   "cell_type": "markdown",
   "metadata": {},
   "source": [
    "### Oppgave 4\n",
    "\n",
    "Bruk `sympy` til å løse ligningen\n",
    "\n",
    "$$\n",
    "\\frac{x^2 + 2x - 3}{x - 1} = 0.\n",
    "$$ \n"
   ]
  },
  {
   "cell_type": "markdown",
   "metadata": {},
   "source": [
    "````{admonition} Løsningsforslag\n",
    "\n",
    ":class: dropdown\n",
    "\n",
    "```python\n",
    "import sympy\n",
    "\n",
    "x = sympy.symbols(\"x\")\n",
    "\n",
    "teller = x**2 + 2*x - 3\n",
    "nevner = x - 1\n",
    "venstre_side = teller / nevner\n",
    "høyre_side = 0\n",
    "ligning = sympy.Eq(venstre_side, høyre_side)\n",
    "\n",
    "løsninger = sympy.solve(ligning, x)\n",
    "\n",
    "print(løsninger)\n",
    "```\n",
    "som gir utskriften\n",
    "```console\n",
    "[-3]\n",
    "```\n",
    "som betyr at løsningen av ligningen er $x = -3$. \n",
    "````"
   ]
  }
 ],
 "metadata": {
  "kernelspec": {
   "display_name": "Python 3",
   "language": "python",
   "name": "python3"
  },
  "language_info": {
   "codemirror_mode": {
    "name": "ipython",
    "version": 3
   },
   "file_extension": ".py",
   "mimetype": "text/x-python",
   "name": "python",
   "nbconvert_exporter": "python",
   "pygments_lexer": "ipython3",
   "version": "3.11.6"
  },
  "orig_nbformat": 4
 },
 "nbformat": 4,
 "nbformat_minor": 2
}
