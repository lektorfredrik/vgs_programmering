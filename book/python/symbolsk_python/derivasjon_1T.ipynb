{
 "cells": [
  {
   "cell_type": "markdown",
   "metadata": {},
   "source": [
    "# Derivasjon med `sympy`\n",
    "\n",
    "`sympy` lar oss derivere funksjoner helt generelt ved å bruke funksjonen `sympy.diff`. Dette står for **diff**erentiation som er derivasjon på engelsk.\n",
    "I eksemplene under skal vi fokusere på derivasjon av polynomer, men `sympy.diff` kan brukes på alle funksjoner.\n",
    "\n",
    "````{admonition} Generelt om sympy.diff\n",
    ":class: tip\n",
    "\n",
    "`sympy.diff` er en funksjon som tar inn et funksjonsuttrykk `f` og en variabel `x` som du ønsker å deriverte med hensyn på, så returneres den deriverte av `f` med hensyn på `x`. <br>\n",
    "Den generelle skrivemåten er\n",
    "\n",
    "```python\n",
    "f_derivert = sympy.diff(f, x)\n",
    "```\n",
    "\n",
    "Men ofte så er `x` den *eneste* variabelen i funksjonen `f`, og da holder det å bare skrive\n",
    "\n",
    "```python\n",
    "f_derivert = sympy.diff(f)\n",
    "```\n",
    "````\n",
    "\n"
   ]
  },
  {
   "cell_type": "markdown",
   "metadata": {},
   "source": [
    "````{admonition} Påminnelse: derivasjonsregler for polynomer\n",
    ":class: tip, dropdown\n",
    "\n",
    "Reglene for derivasjon av polynomer er som følger:\n",
    "\n",
    "1. $(x^r)' = rx^{r-1}$\n",
    "\n",
    "2. $(f(x) + g(x))' = f'(x) + g'(x)$\n",
    "\n",
    "3. $(kf(x))' = kf'(x)$\n",
    "\n",
    "der $f(x)$ og $g(x)$ er polynomer og $k$ er en konstant.\n",
    "\n",
    "````"
   ]
  },
  {
   "cell_type": "markdown",
   "metadata": {},
   "source": [
    "## Eksempler"
   ]
  },
  {
   "cell_type": "markdown",
   "metadata": {},
   "source": [
    "### Eksempel 1\n",
    "La oss derivere $f(x) = x^2 + 2x + 1$. Med derivasjonsreglene for polynomer, får vi da\n",
    "\n",
    "$$\n",
    "f'(x) = (x^2 + 2x + 1)' = (x^2)' + (2x)' + (1)' = 2x + 2 + 0 = 2x + 2\n",
    "$$\n",
    "\n",
    "Vi kan bruke `sympy.diff` til å regne ut den deriverte av $f$ slik:"
   ]
  },
  {
   "cell_type": "code",
   "execution_count": 1,
   "metadata": {},
   "outputs": [
    {
     "name": "stdout",
     "output_type": "stream",
     "text": [
      "f_derivert = 2*x + 2\n"
     ]
    }
   ],
   "source": [
    "import sympy\n",
    "from sympy.abc import x \n",
    "\n",
    "f = x**2 + 2 * x + 1 # f(x) = x^2 + 2x + 1\n",
    "f_derivert = sympy.diff(f) # Regner ut f'(x)\n",
    "\n",
    "print(f\"{f_derivert = }\")"
   ]
  },
  {
   "cell_type": "markdown",
   "metadata": {},
   "source": [
    "Så vi får altså akkurat det samme svaret med `sympy.diff`."
   ]
  },
  {
   "cell_type": "markdown",
   "metadata": {},
   "source": [
    "### Eksempel 2 \n",
    "La oss finne den deriverte til\n",
    "\n",
    "$$\n",
    "g(x) = \\frac{2}{3}x^3 - 4x^2 + 5x - 1\n",
    "$$\n",
    "\n",
    "med `sympy`. Vi kan bruke `sympy.diff` til å regne ut den deriverte av $g$ slik:"
   ]
  },
  {
   "cell_type": "code",
   "execution_count": 2,
   "metadata": {},
   "outputs": [
    {
     "name": "stdout",
     "output_type": "stream",
     "text": [
      "g_derivert = 2.0*x**2 - 8*x + 5\n"
     ]
    }
   ],
   "source": [
    "import sympy\n",
    "from sympy.abc import x \n",
    "\n",
    "g = (2 / 3) * x**3 - 4 * x**2 + 5 * x - 1\n",
    "g_derivert = sympy.diff(g)\n",
    "\n",
    "print(f\"{g_derivert = }\")\n"
   ]
  },
  {
   "cell_type": "markdown",
   "metadata": {},
   "source": [
    "som forteller oss at \n",
    "\n",
    "$$\n",
    "g'(x) = 2x^2 - 8x + 5\n",
    "$$"
   ]
  },
  {
   "cell_type": "markdown",
   "metadata": {},
   "source": [
    "## Øvingsoppgaver \n",
    "Det er på tide å prøve seg på egenhånd. Det ligger *kodeskall* til hjelp som du kan ta utgangspunkt i, men det er lurt å prøve å skrive all koden selv. I tillegg er det løsningsforslag til alle som oppgavene som du kan ta en titt på etter du har prøvd deg på oppgavene. "
   ]
  },
  {
   "cell_type": "markdown",
   "metadata": {},
   "source": [
    "### Oppgave 1\n",
    "\n",
    "Bruk `sympy` til å finne den deriverte av \n",
    "\n",
    "$$\n",
    "f(x) = 3x^3 - x + 1\n",
    "$$\n",
    "\n"
   ]
  },
  {
   "cell_type": "markdown",
   "metadata": {},
   "source": [
    "````{admonition} Kodeskall\n",
    ":class: dropdown\n",
    "Under finner du et kodeskall der du må endre alle steder det står `NotImplemented`.\n",
    "```python\n",
    "import sympy\n",
    "from sympy.abc import x \n",
    "\n",
    "f = NotImplemented # skriv inn funksjonsuttrykket til f(x)\n",
    "f_derivert = NotImplemented # regn ut den f'(x) med sympy.diff\n",
    "\n",
    "print(f\"{f_derivert = }\")\n",
    "```\n",
    "````"
   ]
  },
  {
   "cell_type": "markdown",
   "metadata": {},
   "source": [
    "````{admonition} Løsning\n",
    ":class: dropdown\n",
    "```python\n",
    "import sympy\n",
    "from sympy.abc import x \n",
    "\n",
    "f = 3 * x**3 - x + 1 \n",
    "f_derivert = sympy.diff(f)\n",
    "\n",
    "print(f\"{f_derivert = }\")\n",
    "```\n",
    "som gir utskriften\n",
    "```console\n",
    "f_derivert = 9*x**2 - 1\n",
    "```\n",
    "som betyr at\n",
    "\n",
    "$$\n",
    "f'(x) = 9x^2 - 1\n",
    "$$\n",
    "````"
   ]
  },
  {
   "cell_type": "markdown",
   "metadata": {},
   "source": [
    "### Oppgave 2\n",
    "Bruk `sympy` til å regne ut den deriverte av\n",
    "\n",
    "$$\n",
    "g(x) = 2x^4 - 3x^3 + 4x^2 - 5x + 6\n",
    "$$"
   ]
  },
  {
   "cell_type": "markdown",
   "metadata": {},
   "source": [
    "````{admonition} Kodeskall \n",
    ":class: dropdown\n",
    "Under finner du et kodeskall der du må endre alle steder det står `NotImplemented`.\n",
    "```python\n",
    "import sympy\n",
    "from sympy.abc import x\n",
    "\n",
    "g = NotImplemented # skriv inn funksjonsuttrykket til g(x)\n",
    "g_derivert = NotImplemented # regn ut den g'(x) med sympy.diff\n",
    "\n",
    "print(f\"{g_derivert = }\")\n",
    "```\n",
    "````\n",
    "\n",
    "````{admonition} Løsning\n",
    ":class: dropdown\n",
    "```python\n",
    "import sympy\n",
    "from sympy.abc import x\n",
    "\n",
    "g = 2 * x**4 - 3 * x**3 + 4 * x**2 - 5 * x + 6\n",
    "g_derivert = sympy.diff(g)\n",
    "\n",
    "print(f\"{g_derivert = }\")\n",
    "```\n",
    "som gir utskriften\n",
    "```console\n",
    "g_derivert = 8*x**3 - 9*x**2 + 8*x - 5\n",
    "```\n",
    "som betyr at\n",
    "\n",
    "$$\n",
    "g'(x) = 8x^3 - 9x^2 + 8x - 5\n",
    "$$\n",
    "````"
   ]
  },
  {
   "cell_type": "markdown",
   "metadata": {},
   "source": [
    "### Oppgave 3\n",
    "\n",
    "Bruk `sympy` til å regne ut den deriverte av\n",
    "\n",
    "$$\n",
    "h(x) = 3x^5 - 2x^4 + 5x^3 - 4x^2 + 7x - 6\n",
    "$$\n",
    "\n",
    "````{admonition} Kodeskall\n",
    ":class: dropdown\n",
    "Under finner du et kodeskall der du må endre alle steder det står `NotImplemented`.\n",
    "```python\n",
    "import sympy\n",
    "from sympy.abc import x\n",
    "\n",
    "h = NotImplemented # skriv inn funksjonsuttrykket til h(x)\n",
    "h_derivert = NotImplemented # regn ut den h'(x) med sympy.diff\n",
    "\n",
    "print(f\"{h_derivert = }\")\n",
    "```\n",
    "````\n",
    "\n",
    "````{admonition} Løsning\n",
    ":class: dropdown\n",
    "```python\n",
    "import sympy\n",
    "from sympy.abc import x\n",
    "\n",
    "h = 3 * x**5 - 2 * x**4 + 5 * x**3 - 4 * x**2 + 7 * x - 6\n",
    "h_derivert = sympy.diff(h)\n",
    "\n",
    "print(f\"{h_derivert = }\")\n",
    "```\n",
    "som gir utskriften\n",
    "```console\n",
    "h_derivert = 15*x**4 - 8*x**3 + 15*x**2 - 8*x + 7\n",
    "```\n",
    "som betyr at\n",
    "\n",
    "$$\n",
    "h'(x) = 15x^4 - 8x^3 + 15x^2 - 8x + 7\n",
    "$$\n",
    "````"
   ]
  },
  {
   "cell_type": "markdown",
   "metadata": {},
   "source": [
    "### Oppgave 4\n",
    "\n",
    "Bruk `sympy` til å regne ut den deriverte av\n",
    "\n",
    "$$\n",
    "k(x) = \\frac{4}{5}x^5 - \\frac{3}{4}x^4 + \\frac{2}{3}x^3 - \\frac{1}{2}x^2 + x - 1\n",
    "$$\n",
    "\n",
    "````{admonition} Kodeskall\n",
    ":class: dropdown\n",
    "Under finner du et kodeskall der du må endre alle steder det står `NotImplemented`.\n",
    "```python\n",
    "import sympy\n",
    "from sympy.abc import x\n",
    "\n",
    "k = NotImplemented # skriv inn funksjonsuttrykket til k(x)\n",
    "k_derivert = NotImplemented # regn ut den k'(x) med sympy.diff\n",
    "\n",
    "print(f\"{k_derivert = }\")\n",
    "```\n",
    "````\n",
    "\n",
    "````{admonition} Løsning\n",
    ":class: dropdown\n",
    "```python\n",
    "import sympy\n",
    "from sympy.abc import x\n",
    "\n",
    "k = 4/5 * x**5 - 3/4 * x**4 + 2/3 * x**3 - 1/2 * x**2 + x - 1\n",
    "k_derivert = sympy.diff(k)\n",
    "\n",
    "print(f\"{k_derivert = }\")\n",
    "```\n",
    "som gir utskriften\n",
    "```console\n",
    "k_derivert = 4.0*x**4 - 3.0*x**3 + 2.0*x**2 - 1.0*x + 1\n",
    "```\n",
    "som betyr at\n",
    "\n",
    "$$\n",
    "k'(x) = 4x^4 - 3x^3 + 2x^2 - x + 1\n",
    "$$\n",
    "````"
   ]
  },
  {
   "cell_type": "markdown",
   "metadata": {},
   "source": [
    "### Oppgave 5\n",
    "Vi kan også finne de deriverte til andre type funksjoner, for eksempel rasjonale funksjoner. \n",
    "\n",
    "Bruk `sympy` til å finne den deriverte til\n",
    "\n",
    "$$\n",
    "f(x) = \\frac{x - 2}{x + 3}\n",
    "$$"
   ]
  },
  {
   "cell_type": "markdown",
   "metadata": {},
   "source": [
    "````{admonition} Kodeskall\n",
    ":class: dropdown\n",
    "Under finner du et kodeskall der du må endre alle steder det står `NotImplemented`.\n",
    "```python\n",
    "import sympy\n",
    "from sympy.abc import x\n",
    "\n",
    "f = NotImplemented # skriv inn funksjonsuttrykket til k(x)\n",
    "f_derivert = NotImplemented # regn ut den k'(x) med sympy.diff\n",
    "\n",
    "print(f\"{f_derivert = }\")\n",
    "```\n",
    "````"
   ]
  },
  {
   "cell_type": "markdown",
   "metadata": {},
   "source": [
    "````{admonition} Løsning\n",
    ":class: dropdown\n",
    "\n",
    "```python\n",
    "import sympy\n",
    "from sympy.abc import x\n",
    "\n",
    "f = (x - 2) / (x + 3)\n",
    "f_derivert = sympy.diff(f, x)\n",
    "\n",
    "# Skriver uttrykket så enkelt som mulig\n",
    "f_derivert = f_derivert.factor()\n",
    "\n",
    "print(f\"{f_derivert = }\")\n",
    "```\n",
    "som gir utskriften\n",
    "```console\n",
    "f_derivert = 5/(x + 3)**2\n",
    "```\n",
    "som betyr at\n",
    "\n",
    "$$\n",
    "f'(x) = \\frac{5}{(x + 3)^2}\n",
    "$$\n",
    "````"
   ]
  }
 ],
 "metadata": {
  "kernelspec": {
   "display_name": "Python 3",
   "language": "python",
   "name": "python3"
  },
  "language_info": {
   "codemirror_mode": {
    "name": "ipython",
    "version": 3
   },
   "file_extension": ".py",
   "mimetype": "text/x-python",
   "name": "python",
   "nbconvert_exporter": "python",
   "pygments_lexer": "ipython3",
   "version": "3.11.6"
  }
 },
 "nbformat": 4,
 "nbformat_minor": 2
}
