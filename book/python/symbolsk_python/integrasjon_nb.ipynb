{
 "cells": [
  {
   "attachments": {},
   "cell_type": "markdown",
   "metadata": {},
   "source": [
    "# Symbolsk Integrasjon med `sympy`\n",
    "\n",
    "```{epigraph}\n",
    "Derivasjon er et håndverk, integrasjon er en kunst! \n",
    "\n",
    "-- Viggo Brun\n",
    "```\n",
    "<!-- > Derivasjon er et håndverk, integrasjon er en kunst! - Viggo Brun -->\n",
    "\n",
    "Når man lærer å derivere funksjoner, så lærer man regneregler som kan anvendes direkte på vilkårlige funksjonsuttrykk uansett hvor kompliserte de måtte se ut. Man trenger bare holde tunga rett i munn, avlyse alle andre planer for kvelden og slavisk følge derivasjonsreglene. Da kan man regne seg frem til hva den deriverte er.\n",
    "\n",
    "Integraler, på en annen side, er sjelden rett frem å løse. Prøving og feiling er nødvendig for å bygge opp intuisjon for hvilke integrasjonsteknikker så må anvendes. For å gjøre ting vondt verre, finnes det også integraler som ikke har noen antiderivert i det hele tatt, så å løse integralet for hånd er håpløst. Andre integraler kan løses for hånd, men kan være svært tidkrevende eller kreve avanserte teknikker som ikke undervises i videregående skole. Da er det greit å ha en datamaskin tilgjengelig som kan gjøre jobben for deg. Og det er her `sympy` kommer inn i bildet. \n"
   ]
  },
  {
   "attachments": {},
   "cell_type": "markdown",
   "metadata": {},
   "source": [
    "## Ubestemte integraler\n",
    "\n",
    "### Eksempel 1: Ubestemt integral av en polynomfunksjon\n",
    "\n",
    "Vi kan starte med et konkret eksempel der skal finne løsningen på det ubestemte integralet\n",
    "\n",
    "$$\n",
    "I = \\int x^2 \\, dx = \\frac{x^3}{3} + C.\n",
    "$$\n",
    "\n",
    "Med `sympy` kan vi oppnå det med følgende kode:"
   ]
  },
  {
   "cell_type": "code",
   "execution_count": 4,
   "metadata": {},
   "outputs": [
    {
     "name": "stdout",
     "output_type": "stream",
     "text": [
      " 3\n",
      "x \n",
      "──\n",
      "3 \n"
     ]
    }
   ],
   "source": [
    "import sympy as sp\n",
    "x = sp.symbols(\"x\")\n",
    "f = x**2 # Funksjonen vi skal integrere.\n",
    "I = sp.integrate(f, x)\n",
    "sp.pprint(I) # pprint skriver ut løsningen med mattenotasjon."
   ]
  },
  {
   "attachments": {},
   "cell_type": "markdown",
   "metadata": {},
   "source": [
    "```{admonition} Ubestemte integraler, men ingen integrasjonskonstant?\n",
    ":class: tip \n",
    "Når man bruker `sympy.integrate` til å løse ubestemte integraler, vil ikke integrasjonskonstanten $C$ vises. Dette er fordi `sympy` ikke vet hva $C$ er, og derfor ikke kan skrive den ut. Det er derfor viktig å huske på at alle ubestemte integraler har en integrasjonskonstant, selv om den ikke vises.\n",
    "```"
   ]
  },
  {
   "attachments": {},
   "cell_type": "markdown",
   "metadata": {},
   "source": [
    "### Eksempel 2: Ubestemt integral av en transcendental funksjon\n",
    "\n",
    "Vi kan også løse integraler av transcendente funksjoner. La oss finne løsningen på det ubestemte integralet\n",
    "\n",
    "$$\n",
    "I = \\int x^2 e^{-x} \\, dx = -(x^2 + 2x  + 2 )e^{-x} + C.\n",
    "$$\n",
    "\n",
    "Dette integralet kan man løse med delvis integrasjon, men er ganske tidkrevende. Med `sympy`, er det som følger alt vi trenger å skrive for å løse samme integral analytisk (altså med en eksakt løsning):"
   ]
  },
  {
   "cell_type": "code",
   "execution_count": 18,
   "metadata": {},
   "outputs": [
    {
     "name": "stdout",
     "output_type": "stream",
     "text": [
      "⎛   2          ⎞  -x\n",
      "⎝- x  - 2⋅x - 2⎠⋅ℯ  \n"
     ]
    }
   ],
   "source": [
    "import sympy as sp\n",
    "x = sp.symbols(\"x\")\n",
    "f = x**2 * sp.exp(-x) # Funksjonen vi skal integrere\n",
    "I = sp.integrate(f, x)\n",
    "sp.pprint(I)"
   ]
  },
  {
   "attachments": {},
   "cell_type": "markdown",
   "metadata": {},
   "source": [
    "som gir akkurat samme løsning siden\n",
    "\n",
    "$$\n",
    "I = (-x^2 - 2x - 2)e^{-x} + C = -(x^2 + 2x  + 2 )e^{-x} + C.\n",
    "$$\n",
    "\n",
    "Vi får altså samme svar, men på brøkdelen av tiden det ville tatt å løse integralet for hånd."
   ]
  },
  {
   "attachments": {},
   "cell_type": "markdown",
   "metadata": {},
   "source": [
    "```{admonition} Generell syntaks for ubestemte integraler\n",
    ":class: tip\n",
    "\n",
    "Når man integrerer en funksjon analytisk må man\n",
    "\n",
    "1. Importere `sympy` med `import sympy as sp`\n",
    "2. Definere en symbolsk variabel med `x = sp.symbols(\"x\")`\n",
    "3. Du må definere funksjonsuttrykket `f`, for eksempel med `f = x**2 * sp.exp(-x)`.\n",
    "4. Bruke `I = sp.integrate(funksjonsuttrykk, x)` til å løse integralet. \n",
    "5. Skrive ut løsningen med `sp.pprint(I)`.\n",
    "\n",
    "```"
   ]
  },
  {
   "attachments": {},
   "cell_type": "markdown",
   "metadata": {},
   "source": [
    "## Bestemte integraler\n",
    "\n",
    "### Eksempel 3: Bestemt integral av en polynomfunksjon\n",
    "\n",
    "Vi kan også løse bestemte integraler med `sympy`. La oss finne løsningen på det bestemte integralet\n",
    "\n",
    "$$\n",
    "I = \\int_0^2 x^2 \\, dx = \\frac{8}{3}.\n",
    "$$\n",
    "\n",
    "Vi kan løse det samme integralet med `sympy` slik:"
   ]
  },
  {
   "cell_type": "code",
   "execution_count": 2,
   "metadata": {},
   "outputs": [
    {
     "name": "stdout",
     "output_type": "stream",
     "text": [
      "8/3\n"
     ]
    }
   ],
   "source": [
    "import sympy as sp\n",
    "x = sp.symbols(\"x\")\n",
    "f = x**2 # Funksjonen vi skal integrere\n",
    "I = sp.integrate(f, (x, 0, 2))\n",
    "sp.pprint(I)"
   ]
  },
  {
   "attachments": {},
   "cell_type": "markdown",
   "metadata": {},
   "source": [
    "Vi får altså akkurat samme svar!"
   ]
  },
  {
   "attachments": {},
   "cell_type": "markdown",
   "metadata": {},
   "source": [
    "### Eksempel 4: Bestemte *uegentlige* integraler\n",
    "\n",
    "Vi kan også løse bestemte *uegentlige* integraler med `sympy`. Disse dukker spesielt opp i sannsynlighetsteori i S2, for eksempel. \n",
    "La oss finne løsningen på det bestemte integralet\n",
    "\n",
    "$$\n",
    "\\int_0^\\infty e^{-x} \\, dx = 1.\n",
    "$$\n",
    "\n",
    "Vi kan løse det samme integralet med `sympy` slik:"
   ]
  },
  {
   "cell_type": "code",
   "execution_count": 21,
   "metadata": {},
   "outputs": [
    {
     "name": "stdout",
     "output_type": "stream",
     "text": [
      "1\n"
     ]
    }
   ],
   "source": [
    "import sympy as sp\n",
    "x = sp.symbols(\"x\")\n",
    "f = sp.exp(-x) # Funksjonen vi skal integrere\n",
    "I = sp.integrate(f, (x, 0, sp.oo))\n",
    "sp.pprint(I)"
   ]
  },
  {
   "attachments": {},
   "cell_type": "markdown",
   "metadata": {},
   "source": [
    "så det fungerer også når vi har grenser som strekker som mot uendelig.\n",
    "\n",
    "```{note}\n",
    "Legg merke til i eksempel 4 at vi bruker `sp.oo` for å angi uendelig. Dette er fordi `sympy` ikke kjenner til symbolet $\\infty$, så vi må bruke `sp.oo` i stedet.\n",
    "```"
   ]
  },
  {
   "attachments": {},
   "cell_type": "markdown",
   "metadata": {},
   "source": [
    "```{admonition} Generell syntaks for bestemte integraler\n",
    ":class: tip\n",
    "\n",
    "1. Du må importere `sympy` med `import sympy as sp`\n",
    "2. Du må definere en symbolsk variabel med `x = sp.symbols(\"x\")`\n",
    "3. Du må definere funksjonen `f`, for eksempel med `f = x**2`.\n",
    "3. Du må bruke `I = sp.integrate(funksjonsuttrykk, (x, nedre grense, øvre grense))` til å løse integralet.\n",
    "4. Du må skrive ut løsningen med `sp.pprint(I)`.\n",
    "```"
   ]
  },
  {
   "attachments": {},
   "cell_type": "markdown",
   "metadata": {},
   "source": [
    "## Integraler med flere symboler\n",
    "\n",
    "Noen ganger kan det være aktuelt å integrere en funksjon med flere symboler. \n",
    "\n",
    "### Eksempel 5: Ubestemt integral av en polynomfunksjon med flere symboler\n",
    "\n",
    "La oss se på et eksempel der vi skal finne løsningen på det bestemte integralet\n",
    "\n",
    "$$\n",
    "\\int_0^1 (ax^2 + bx + c) \\, dx = \\frac{a}{3} + \\frac{b}{2} + c.\n",
    "$$\n",
    "\n",
    "For å finne dette kan vi skrive en kode som inkluderer flere symboler, et for hver koeffisient $a$, $b$ og $c$:"
   ]
  },
  {
   "cell_type": "code",
   "execution_count": 22,
   "metadata": {},
   "outputs": [
    {
     "name": "stdout",
     "output_type": "stream",
     "text": [
      "a   b    \n",
      "─ + ─ + c\n",
      "3   2    \n"
     ]
    }
   ],
   "source": [
    "import sympy as sp\n",
    "x, a, b, c = sp.symbols(\"x a b c\")\n",
    "f = a*x**2 + b*x + c # Funksjonen vi skal integrere\n",
    "I = sp.integrate(f, (x, 0, 1)) # Integrerer med hensyn på x fra 0 til 1.\n",
    "sp.pprint(I)"
   ]
  },
  {
   "attachments": {},
   "cell_type": "markdown",
   "metadata": {},
   "source": [
    "som gir oss svaret vi forventer!"
   ]
  },
  {
   "attachments": {},
   "cell_type": "markdown",
   "metadata": {},
   "source": [
    "### Eksempel 6: Bestemt integral av transcendent funksjon med flere symboler\n",
    "\n",
    "La oss se på et eksempel der vi skal løse integralet\n",
    "\n",
    "$$\n",
    "I = \\int_0^\\infty e^{-ax} \\, dx = \\frac{1}{a}.\n",
    "$$\n",
    "\n",
    "Dette kan vi oppnå med `sympy` med koden"
   ]
  },
  {
   "cell_type": "code",
   "execution_count": 23,
   "metadata": {},
   "outputs": [
    {
     "name": "stdout",
     "output_type": "stream",
     "text": [
      "⎧    1                      π\n",
      "⎪    ─       for │arg(a)│ < ─\n",
      "⎪    a                      2\n",
      "⎪                            \n",
      "⎪∞                           \n",
      "⎨⌠                           \n",
      "⎪⎮  -a⋅x                     \n",
      "⎪⎮ ℯ     dx     otherwise    \n",
      "⎪⌡                           \n",
      "⎪0                           \n",
      "⎩                            \n"
     ]
    }
   ],
   "source": [
    "import sympy as sp\n",
    "x, a = sp.symbols(\"x a\")\n",
    "f = sp.exp(-a * x) # Funksjonen vi skal integrere\n",
    "I = sp.integrate(f, (x, 0, sp.oo))\n",
    "sp.pprint(I)"
   ]
  },
  {
   "attachments": {},
   "cell_type": "markdown",
   "metadata": {},
   "source": [
    "Her får vi en litt rar utskrift. Den delte forskriften tar bare hensyn til at konstanten $a$ kan gjøre integralet udefinert. Det er bare den første delen av den delte forskriften som er relevant. Vi kan se på den første delen av svaret ved å skrive `sp.pprint(I.args[0])`. Da får vi svaret vi forventer. \n",
    "\n",
    "```{admonition} Generell syntaks for integraler med flere symboler\n",
    "\n",
    "1. Du må importere `sympy` med `import sympy as sp`\n",
    "2. Du må definere symbolske variabler, for eksempel: `x, a, b, c = sp.symbols(\"x a b c\")`\n",
    "3. Definere funksjonen, for eksempel med $f = a * x**2 + b * x + c$\n",
    "4. Du må bruke:\n",
    "    - `I = sp.integrate(funksjonsuttrykk, (x, nedre grense, øvre grense))` for bestemte integraler. \n",
    "    - `I = sp.integrate(funksjonsuttrykk, x)` for ubestemte integraler.\n",
    "5. Du må skrive ut løsningen med `sp.pprint(I)`.\n",
    "```"
   ]
  },
  {
   "attachments": {},
   "cell_type": "markdown",
   "metadata": {},
   "source": []
  }
 ],
 "metadata": {
  "kernelspec": {
   "display_name": "Python 3",
   "language": "python",
   "name": "python3"
  },
  "language_info": {
   "codemirror_mode": {
    "name": "ipython",
    "version": 3
   },
   "file_extension": ".py",
   "mimetype": "text/x-python",
   "name": "python",
   "nbconvert_exporter": "python",
   "pygments_lexer": "ipython3",
   "version": "3.11.3"
  },
  "orig_nbformat": 4
 },
 "nbformat": 4,
 "nbformat_minor": 2
}
