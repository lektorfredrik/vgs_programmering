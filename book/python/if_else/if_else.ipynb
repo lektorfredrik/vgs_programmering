{
 "cells": [
  {
   "attachments": {},
   "cell_type": "markdown",
   "metadata": {},
   "source": [
    "# `if`-`else` tester"
   ]
  },
  {
   "attachments": {},
   "cell_type": "markdown",
   "metadata": {},
   "source": [
    "Et sentralt verktøy i programmering er `if`-`else` tester. De lar oss kjøre deler av programmet hvis en betingelse er oppfylt, og kjøre en annen hvis den ikke er det. "
   ]
  },
  {
   "attachments": {},
   "cell_type": "markdown",
   "metadata": {},
   "source": [
    "## Enkle `if`-`else` tester\n",
    "\n",
    "En *enkel* `if`-`else` test vil har formen\n",
    "\n",
    "```python\n",
    "if betingelse:\n",
    "    # Kjør denne koden hvis betingelse er True\n",
    "else:\n",
    "    # Kjør denne koden hvis betingelse er False\n",
    "```\n",
    "\n",
    "Vi kaller den første delen for `if`-*blokken* og den andre for `else`-*blokken*.\n",
    "\n",
    "La oss se på et eksempel:"
   ]
  },
  {
   "cell_type": "code",
   "execution_count": 2,
   "metadata": {},
   "outputs": [
    {
     "name": "stdout",
     "output_type": "stream",
     "text": [
      "a er større enn eller lik null.\n"
     ]
    }
   ],
   "source": [
    "a = 1\n",
    "if a >= 0:\n",
    "    print(\"a er større enn eller lik null.\")\n",
    "else:\n",
    "    print(\"a er negativ eller null.\")"
   ]
  },
  {
   "attachments": {},
   "cell_type": "markdown",
   "metadata": {},
   "source": [
    "Det vi kan lære av dette er at `a >= 0` er en *betingelse* som kan være `True` eller `False`. Hvis den er `True` kjører vi koden i den første blokken, hvis den er `False` kjører vi koden i den andre blokken. Her er `a = 1`, så `a >= 0` er `True`, og vi får utskriften `a er større enn eller lik null`.\n",
    "\n",
    "Vi kan printe ut betingelsen `a >= 0` for å se at den faktisk evalueres til `True`:"
   ]
  },
  {
   "cell_type": "code",
   "execution_count": 3,
   "metadata": {},
   "outputs": [
    {
     "name": "stdout",
     "output_type": "stream",
     "text": [
      "True\n"
     ]
    }
   ],
   "source": [
    "print(a >= 0)"
   ]
  },
  {
   "attachments": {},
   "cell_type": "markdown",
   "metadata": {},
   "source": [
    "### Underveisoppgave 1\n",
    "\n",
    "La oss si vi setter `a = -1`. Hva blir da utskriften? Hvorfor? \n",
    "\n",
    "````{dropdown} Løsningsforslag\n",
    "\n",
    "Når `a = -1`, vil betingelsen `a >= 0` være `False`. Dermed vil `else`-blokken av koden kjøres, og vi får utskriften `a er mindre enn null`.\n",
    "\n",
    "````"
   ]
  },
  {
   "attachments": {},
   "cell_type": "markdown",
   "metadata": {},
   "source": [
    "### Underveisoppgave 2\n",
    "\n",
    "Tenk deg at vi har koden\n",
    "\n",
    "```python\n",
    "bruttolønn = 4000\n",
    "skatt = 15 # Skatt i prosent\n",
    "vekstfaktor = 1 - skatt/100\n",
    "nettolønn = bruttolønn * vekstfaktor\n",
    "\n",
    "if nettolønn > 3000:\n",
    "    print(\"Du tjener mer enn 3000 kr i måneden\")\n",
    "else:\n",
    "    print(\"Du tjener mindre enn 3000 kr i måneden\")\n",
    "```\n",
    "\n",
    "Hva blir utskriften av denne koden?"
   ]
  },
  {
   "attachments": {},
   "cell_type": "markdown",
   "metadata": {},
   "source": [
    "````{dropdown} Løsningsforslag\n",
    "\n",
    "`nettolønn` vil være lik `3400`, som er større enn `3000`. Derfor vil utskriften være\n",
    "\n",
    "```console\n",
    "Du tjener mer enn 3000 kr i måneden\n",
    "```\n",
    "\n",
    "````"
   ]
  },
  {
   "attachments": {},
   "cell_type": "markdown",
   "metadata": {},
   "source": [
    "## Mer sammensatte `if`-`else` tester\n",
    "\n"
   ]
  }
 ],
 "metadata": {
  "kernelspec": {
   "display_name": "Python 3",
   "language": "python",
   "name": "python3"
  },
  "language_info": {
   "codemirror_mode": {
    "name": "ipython",
    "version": 3
   },
   "file_extension": ".py",
   "mimetype": "text/x-python",
   "name": "python",
   "nbconvert_exporter": "python",
   "pygments_lexer": "ipython3",
   "version": "3.11.4"
  },
  "orig_nbformat": 4
 },
 "nbformat": 4,
 "nbformat_minor": 2
}
