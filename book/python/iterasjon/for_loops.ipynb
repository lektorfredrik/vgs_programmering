{
 "cells": [
  {
   "attachments": {},
   "cell_type": "markdown",
   "metadata": {},
   "source": [
    "# `for`-løkker"
   ]
  },
  {
   "attachments": {},
   "cell_type": "markdown",
   "metadata": {},
   "source": [
    "`for`-løkker er en annen type løkke som kan brukes til å gjenta en eller flere handlinger flere ganger. Vi bruker oftest `for`-løkker når vi vet hvor mange ganger vi skal gjenta en handling på forhånd, men `while`-løkker oftere brukes når vi ikke vet hvor mange ganger vi skal gjenta en handling. Det skal sant sies at man fortsatt kan bruke `while`-løkker uansett, men at `for`-løkker ofte er litt lettere å skrive og lese.\n",
    "\n",
    "## Syntaks\n",
    "\n",
    "Vi skal typisk bruke `for`-løkker med `range`-funksjonen til Python. Skrivemåten til en `for`-løkke er da\n",
    "\n",
    "```python\n",
    "for i in range(n):\n",
    "    # Gjør noe\n",
    "```\n",
    "\n",
    "`for`-løkken vil gjenta koden `n` ganger. Samtidig vil den tildele verdiene `i = 0, 1, 2, ..., n - 1` til variabelen `i` for hver gang den gjentar koden. Den første runden er `i = 0`, den andre runden er `i = 1`, osv. Den siste runden er `i = n - 1`.\n",
    "\n"
   ]
  },
  {
   "attachments": {},
   "cell_type": "markdown",
   "metadata": {},
   "source": [
    "### Eksempel 1: Telle til 5\n",
    "\n",
    "Som et eksempel på hvordan verdiene til `i` endrer seg, kan vi skrive ut verdiene til `i` i hver runde. Vi kan for eksempel skrive ut verdiene til `i` i hver runde ved å skrive"
   ]
  },
  {
   "cell_type": "code",
   "execution_count": 1,
   "metadata": {},
   "outputs": [
    {
     "name": "stdout",
     "output_type": "stream",
     "text": [
      "0\n",
      "1\n",
      "2\n",
      "3\n",
      "4\n",
      "5\n"
     ]
    }
   ],
   "source": [
    "for i in range(6):\n",
    "    print(i)"
   ]
  },
  {
   "attachments": {},
   "cell_type": "markdown",
   "metadata": {},
   "source": [
    "```{admonition} Verdiene i range.\n",
    ":class: tip\n",
    "\n",
    "Legg spesielt merke til at `i` går fra 0 til 4, og ikke 1 til 5. Dette er fordi `range(n)` gir tallene fra 0 til `n - 1`.\n",
    "Vi er vant til å telle fra 1 til $n$ i matematikk, men i programmering starter man på 0 og man får derfor tallene fra 0 til $n - 1$ i stedet!\n",
    "```"
   ]
  },
  {
   "attachments": {},
   "cell_type": "markdown",
   "metadata": {},
   "source": [
    "Vi kan også velge om vi ønsker å starte på noe annet enn 0. For eksempel kan vi telle fra 1 til 5 med å skrive"
   ]
  },
  {
   "cell_type": "code",
   "execution_count": 2,
   "metadata": {},
   "outputs": [
    {
     "name": "stdout",
     "output_type": "stream",
     "text": [
      "1\n",
      "2\n",
      "3\n",
      "4\n",
      "5\n"
     ]
    }
   ],
   "source": [
    "for i in range(1, 6):\n",
    "    print(i)"
   ]
  },
  {
   "attachments": {},
   "cell_type": "markdown",
   "metadata": {},
   "source": [
    "Vi kan til og med spesifisere om vi kan gå i lengre steg enn 1 mellom hvert tall, dersom vi ønsker det. For eksempel kan vi telle fra 1 til 10, men gå i steg på 3 ved å skrive"
   ]
  },
  {
   "cell_type": "code",
   "execution_count": 3,
   "metadata": {},
   "outputs": [
    {
     "name": "stdout",
     "output_type": "stream",
     "text": [
      "1\n",
      "4\n",
      "7\n",
      "10\n"
     ]
    }
   ],
   "source": [
    "for i in range(1, 11, 3):\n",
    "    print(i)"
   ]
  },
  {
   "attachments": {},
   "cell_type": "markdown",
   "metadata": {},
   "source": [
    "```{admonition} Flere måter å bruke range-funksjonen \n",
    ":class: tip\n",
    "\n",
    "Vi kan altså bruke `range`-funksjonen på tre forskjellige måter:\n",
    "1. `for i in range(n):` gir `i` verdiene fra 0 til `n - 1` i steg på 1.\n",
    "2. `for i in range(startverdi, n):` gir `i` verdiene fra `startverdi` til `n - 1` i steg på 1.\n",
    "3. `for i in range(startverdi, n, steglengde):` gir `i` verdiene fra `startverdi` til `n - 1` med en `steglengde` mellom hvert fall.\n",
    "\n",
    "```"
   ]
  },
  {
   "attachments": {},
   "cell_type": "markdown",
   "metadata": {},
   "source": [
    "## Eksempler"
   ]
  },
  {
   "attachments": {},
   "cell_type": "markdown",
   "metadata": {},
   "source": [
    "### Eksempel 1: Summen av de 10 første heltallene\n",
    "\n",
    "Vi kan regne ut summen av de 10 første heltallene med en `for`-løkke. Dette kan oppnås med koden"
   ]
  },
  {
   "cell_type": "code",
   "execution_count": 1,
   "metadata": {},
   "outputs": [
    {
     "name": "stdout",
     "output_type": "stream",
     "text": [
      "s = 55\n"
     ]
    }
   ],
   "source": [
    "s = 0 # Variabel som lagrer summen av alle tallene\n",
    "for i in range(1, 11): # i = 1, 2, 3, ..., 10\n",
    "    s = s + i # Legger til heltallet til summen.\n",
    "print(f\"{s = }\")"
   ]
  },
  {
   "attachments": {},
   "cell_type": "markdown",
   "metadata": {},
   "source": [
    "### Eksempel 2: Summen av alle partall under 500 \n",
    "\n",
    "Vi kan regne ut summen alle partall under 500 med en `for`-løkke. Dette kan oppnås ved å bruke `range`-funksjonen ved å gå i steg på 2. Da må vi bruke `range(2, 500, 2)`. Her har vi satt `startverdi = 2`, `n = 500` og `steglengde = 2`. Da får vi tallene $2, 4, 6, \\ldots, 598$.\n",
    "\n",
    "Pythonkoden kan da se slik ut:"
   ]
  },
  {
   "cell_type": "code",
   "execution_count": 3,
   "metadata": {},
   "outputs": [
    {
     "name": "stdout",
     "output_type": "stream",
     "text": [
      "s = 62250\n"
     ]
    }
   ],
   "source": [
    "s = 0\n",
    "for i in range(2, 500, 2):\n",
    "    s += i # Samme som s = s + i\n",
    "    \n",
    "print(f\"{s = }\")"
   ]
  },
  {
   "attachments": {},
   "cell_type": "markdown",
   "metadata": {},
   "source": [
    "## Øvingsoppgaver"
   ]
  },
  {
   "attachments": {},
   "cell_type": "markdown",
   "metadata": {},
   "source": [
    "### Øvingsoppgave 1: Regn ut summen av de 1000 første heltallene\n",
    "\n",
    "Skriv en Pythonkode som regner ut summen av de 1000 første heltallene.\n",
    "\n",
    "*Du kan bruke kodeskallet under til å løse oppgaven. Du må fylle inn der det står `NotImplemented`.*"
   ]
  },
  {
   "cell_type": "code",
   "execution_count": null,
   "metadata": {},
   "outputs": [],
   "source": [
    "s = NotImplemented\n",
    "for i in NotImplemented:\n",
    "    s = NotImplemented\n",
    "\n",
    "print(f\"{s = }\")"
   ]
  },
  {
   "attachments": {},
   "cell_type": "markdown",
   "metadata": {},
   "source": [
    "````{dropdown} Løsningsforslag\n",
    "\n",
    "```python\n",
    "s = 0\n",
    "for i in range(1, 1001):\n",
    "    s = s + i\n",
    "\n",
    "print(f\"{s = }\")\n",
    "```\n",
    "\n",
    "````"
   ]
  },
  {
   "attachments": {},
   "cell_type": "markdown",
   "metadata": {},
   "source": [
    "### Øvingsoppgave 2: Regn ut summen av alle oddetall under 500\n",
    "\n",
    "Skriv en Pythonkode som regner ut summen av alle oddetall under 500.\n",
    "\n",
    "*Du kan bruke kodeskallet under til å løse oppgaven. Du må fylle inn der det står `NotImplemented`.*"
   ]
  },
  {
   "cell_type": "code",
   "execution_count": null,
   "metadata": {},
   "outputs": [],
   "source": [
    "s = NotImplemented\n",
    "for i in NotImplemented:\n",
    "    s = NotImplemented\n",
    "\n",
    "print(f\"{s = }\")"
   ]
  },
  {
   "attachments": {},
   "cell_type": "markdown",
   "metadata": {},
   "source": [
    "````{dropdown} Løsningsforslag\n",
    "\n",
    "```python\n",
    "s = 0\n",
    "for i in range(1, 500, 2):\n",
    "    s = s + i\n",
    "\n",
    "print(f\"{s = }\")\n",
    "```\n",
    "\n",
    "````"
   ]
  },
  {
   "attachments": {},
   "cell_type": "markdown",
   "metadata": {},
   "source": [
    "### Øvingsoppgave 3: Regn ut $n!$\n",
    "\n",
    "I matematikk er størrelsen $n!$ (leses som *$n$-fakultet*) er definert produktet av alle heltallene opp til og med $n$. Det vil si\n",
    "\n",
    "$$\n",
    "n! = 1 \\cdot 2 \\cdot 3 \\cdot \\ldots \\cdot (n - 1) \\cdot n.\n",
    "$$\n",
    "\n",
    "For eksempel, så er $5! = 1 \\cdot 2 \\cdot 3 \\cdot 4 \\cdot 5 = 120$.\n",
    "\n",
    "Skriv en Pythonkode som regner ut $50!$\n",
    "\n",
    "*Du kan ta utgangspunkt i kodeskallet under. Du må fylle inn der det står `NotImplemented`.*\n"
   ]
  },
  {
   "cell_type": "code",
   "execution_count": null,
   "metadata": {},
   "outputs": [],
   "source": [
    "n_fakultet = NotImplemented\n",
    "for i in NotImplemented:\n",
    "    n_fakultet = NotImplemented\n",
    "\n",
    "print(f\"{n_fakultet = }\")"
   ]
  },
  {
   "attachments": {},
   "cell_type": "markdown",
   "metadata": {},
   "source": [
    "````{dropdown} Løsningsforslag\n",
    "\n",
    "```python\n",
    "n_fakultet = 1\n",
    "for i in range(1, 51):\n",
    "    n_fakultet = n_fakultet * i\n",
    "\n",
    "print(f\"{n_fakultet = }\")\n",
    "```\n",
    "\n",
    "````"
   ]
  },
  {
   "attachments": {},
   "cell_type": "markdown",
   "metadata": {},
   "source": [
    "### Øvingsoppgave 4: Regn ut summen av de 100 første kvadrattallene\n",
    "\n",
    "Kvadrattallene er et kjent eksempel på spesielle figurtall. Starten av tallfølgen er $1, 4, 9, 16, 25, \\ldots$. Det $n$-te kvadrattallet er $n^2$. For eksempel er det tiende kvadrattallet $10^2 = 100$.\n",
    "\n",
    "Skriv en Pythonkode som regner ut summen av de 100 første kvadrattallene.\n",
    "\n",
    "*Du kan ta utgangspunkt i kodeskallet under. Du må fylle inn der det står `NotImplemented`.*"
   ]
  },
  {
   "cell_type": "code",
   "execution_count": null,
   "metadata": {},
   "outputs": [],
   "source": [
    "s = NotImplemented\n",
    "for i in NotImplemented:\n",
    "    s = NotImplemented\n",
    "\n",
    "print(f\"{s = }\")"
   ]
  },
  {
   "attachments": {},
   "cell_type": "markdown",
   "metadata": {},
   "source": [
    "````{dropdown} Løsningsforslag\n",
    "\n",
    "```python\n",
    "s = 0\n",
    "for i in range(1, 101):\n",
    "    s = s + i**2\n",
    "\n",
    "print(f\"{s = }\")\n",
    "```\n",
    "\n",
    "````"
   ]
  }
 ],
 "metadata": {
  "kernelspec": {
   "display_name": "Python 3",
   "language": "python",
   "name": "python3"
  },
  "language_info": {
   "codemirror_mode": {
    "name": "ipython",
    "version": 3
   },
   "file_extension": ".py",
   "mimetype": "text/x-python",
   "name": "python",
   "nbconvert_exporter": "python",
   "pygments_lexer": "ipython3",
   "version": "3.11.3"
  },
  "orig_nbformat": 4
 },
 "nbformat": 4,
 "nbformat_minor": 2
}
