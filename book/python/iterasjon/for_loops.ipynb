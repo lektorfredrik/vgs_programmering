{
 "cells": [
  {
   "attachments": {},
   "cell_type": "markdown",
   "metadata": {},
   "source": [
    "# `for`-løkker"
   ]
  },
  {
   "attachments": {},
   "cell_type": "markdown",
   "metadata": {},
   "source": [
    "`for`-løkker er en annen type løkke som kan brukes til å gjenta en eller flere handlinger flere ganger. Vi bruker oftest `for`-løkker når vi vet hvor mange ganger vi skal gjenta en handling på forhånd, men `while`-løkker oftere brukes når vi ikke vet hvor mange ganger vi skal gjenta en handling. Det skal sant sies at man fortsatt kan bruke `while`-løkker uansett, men at `for`-løkker ofte er litt lettere å skrive og lese.\n",
    "\n",
    "## Syntaks\n",
    "\n",
    "Vi skal typisk bruke `for`-løkker med `range`-funksjonen til Python. Skrivemåten til en `for`-løkke er da\n",
    "\n",
    "```python\n",
    "for i in range(n):\n",
    "    # Gjør noe\n",
    "```\n",
    "\n",
    "`for`-løkken vil gjenta koden `n` ganger. Samtidig vil den tildele verdiene `i = 0, 1, 2, ..., n - 1` til variabelen `i` for hver gang den gjentar koden. Den første runden er `i = 0`, den andre runden er `i = 1`, osv. Den siste runden er `i = n - 1`.\n",
    "\n"
   ]
  },
  {
   "attachments": {},
   "cell_type": "markdown",
   "metadata": {},
   "source": [
    "### Eksempel 1: Telle til 5\n",
    "\n",
    "Som et eksempel på hvordan verdiene til `i` endrer seg, kan vi skrive ut verdiene til `i` i hver runde. Vi kan for eksempel skrive ut verdiene til `i` i hver runde ved å skrive"
   ]
  },
  {
   "cell_type": "code",
   "execution_count": 1,
   "metadata": {},
   "outputs": [
    {
     "name": "stdout",
     "output_type": "stream",
     "text": [
      "0\n",
      "1\n",
      "2\n",
      "3\n",
      "4\n",
      "5\n"
     ]
    }
   ],
   "source": [
    "for i in range(6):\n",
    "    print(i)"
   ]
  },
  {
   "attachments": {},
   "cell_type": "markdown",
   "metadata": {},
   "source": [
    "```{admonition} Verdiene i range.\n",
    ":class: tip\n",
    "\n",
    "Legg spesielt merke til at `i` går fra 0 til 4, og ikke 1 til 5. Dette er fordi `range(n)` gir tallene fra 0 til `n - 1`.\n",
    "Vi er vant til å telle fra 1 til $n$ i matematikk, men i programmering starter man på 0 og man får derfor tallene fra 0 til $n - 1$ i stedet!\n",
    "```"
   ]
  },
  {
   "attachments": {},
   "cell_type": "markdown",
   "metadata": {},
   "source": [
    "Vi kan også velge om vi ønsker å starte på noe annet enn 0. For eksempel kan vi telle fra 1 til 5 med å skrive"
   ]
  },
  {
   "cell_type": "code",
   "execution_count": 2,
   "metadata": {},
   "outputs": [
    {
     "name": "stdout",
     "output_type": "stream",
     "text": [
      "1\n",
      "2\n",
      "3\n",
      "4\n",
      "5\n"
     ]
    }
   ],
   "source": [
    "for i in range(1, 6):\n",
    "    print(i)"
   ]
  },
  {
   "attachments": {},
   "cell_type": "markdown",
   "metadata": {},
   "source": [
    "Vi kan til og med spesifisere om vi kan gå i lengre steg enn 1 mellom hvert tall, dersom vi ønsker det. For eksempel kan vi telle fra 1 til 10, men gå i steg på 3 ved å skrive"
   ]
  },
  {
   "cell_type": "code",
   "execution_count": 3,
   "metadata": {},
   "outputs": [
    {
     "name": "stdout",
     "output_type": "stream",
     "text": [
      "1\n",
      "4\n",
      "7\n",
      "10\n"
     ]
    }
   ],
   "source": [
    "for i in range(1, 11, 3):\n",
    "    print(i)"
   ]
  },
  {
   "attachments": {},
   "cell_type": "markdown",
   "metadata": {},
   "source": [
    "```{admonition} Flere måter å bruke range-funksjonen \n",
    ":class: tip\n",
    "\n",
    "Vi kan altså bruke `range`-funksjonen på tre forskjellige måter:\n",
    "1. `for i in range(n):` gir `i` verdiene fra 0 til `n - 1` i steg på 1.\n",
    "2. `for i in range(startverdi, n):` gir `i` verdiene fra `startverdi` til `n - 1` i steg på 1.\n",
    "3. `for i in range(startverdi, n, steglengde):` gir `i` verdiene fra `startverdi` til `n - 1` med en `steglengde` mellom hvert fall.\n",
    "\n",
    "```"
   ]
  },
  {
   "cell_type": "code",
   "execution_count": null,
   "metadata": {},
   "outputs": [],
   "source": []
  }
 ],
 "metadata": {
  "kernelspec": {
   "display_name": "Python 3",
   "language": "python",
   "name": "python3"
  },
  "language_info": {
   "codemirror_mode": {
    "name": "ipython",
    "version": 3
   },
   "file_extension": ".py",
   "mimetype": "text/x-python",
   "name": "python",
   "nbconvert_exporter": "python",
   "pygments_lexer": "ipython3",
   "version": "3.11.3"
  },
  "orig_nbformat": 4
 },
 "nbformat": 4,
 "nbformat_minor": 2
}
