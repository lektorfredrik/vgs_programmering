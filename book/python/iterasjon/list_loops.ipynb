{
 "cells": [
  {
   "cell_type": "markdown",
   "metadata": {},
   "source": [
    "# Løkker med lister"
   ]
  },
  {
   "cell_type": "markdown",
   "metadata": {},
   "source": [
    "I mange anvendelser, trenger vi å gjøre en regneoperasjon eller andre operasjoner på hvert element i en liste. Dette kan gjøres med en løkke. Vi kan bruke en for-løkke til å gå gjennom alle elementene i en liste. \n",
    "\n",
    "## Læringsmål\n",
    "- Lære å bruke `for`-løkker til å gå gjennom alle elementene i en liste.\n",
    "- Lære å bruke *list comprehension* for å *loope* over lister."
   ]
  },
  {
   "cell_type": "markdown",
   "metadata": {},
   "source": [
    "## `for`-løkker med lister\n",
    "\n"
   ]
  },
  {
   "cell_type": "markdown",
   "metadata": {},
   "source": [
    "### Skrivemåte (syntaks)\n",
    "\n",
    "Den generelle måten å skrive en `for`-løkke der man looper over elementene i en liste `min_liste` er:\n",
    "\n",
    "```python\n",
    "for element in min_liste:\n",
    "    # Gjøre noe med `element`\n",
    "\n",
    "```"
   ]
  },
  {
   "cell_type": "markdown",
   "metadata": {},
   "source": [
    "### Eksempel 1: Skrive ut verdiene i en liste\n",
    "\n",
    "La oss se på et litt grunnleggende eksempel for å forstå gangen i det hele. Vi har en liste med navn på måneder, og vi ønsker å skrive ut alle navnene i listen. Vi kan gjøre dette med en `for`-løkke:"
   ]
  },
  {
   "cell_type": "code",
   "execution_count": 8,
   "metadata": {},
   "outputs": [
    {
     "name": "stdout",
     "output_type": "stream",
     "text": [
      "januar\n",
      "februar\n",
      "mars\n",
      "april\n",
      "mai\n",
      "juni\n"
     ]
    }
   ],
   "source": [
    "måneder = [\"januar\", \"februar\", \"mars\", \"april\", \"mai\", \"juni\"]\n",
    "\n",
    "for måned in måneder:\n",
    "    print(måned)"
   ]
  },
  {
   "cell_type": "markdown",
   "metadata": {},
   "source": [
    "### Eksempel 2: Konvertere en liste med temperaturer fra Fahrenheit til Celsius\n",
    "La oss se på et mer nyttig eksempel. \n",
    "\n",
    "Tenk deg at vi har en liste med temperaturer i Fahrenheit. Vi ønsker å konvertere disse til Celsius. Vi kan bruke en `for`-løkke til å gå gjennom alle elementene i listen og konvertere dem til Celsius.\n",
    "\n",
    "Temperaturen i Celsius $C$ gitt en temperatur i Fahrenheit $F$ er gitt ved formelen\n",
    "\n",
    "$$\n",
    "C = \\frac{5}{9}(F - 32).\n",
    "$$\n",
    "\n",
    "\n",
    "La oss se på hvordan vi kan bruke en `for`-løkke til å konvertere en liste med temperaturer fra Fahrenheit til Celsius:"
   ]
  },
  {
   "cell_type": "code",
   "execution_count": 9,
   "metadata": {},
   "outputs": [
    {
     "name": "stdout",
     "output_type": "stream",
     "text": [
      "0.0\n",
      "30.0\n",
      "50.0\n",
      "70.0\n",
      "80.0\n",
      "90.0\n",
      "100.0\n"
     ]
    }
   ],
   "source": [
    "temperatur_fahrenheit = [32, 86, 122, 158, 176, 194, 212]\n",
    "temperatur_celsius = []\n",
    "\n",
    "for F in temperatur_fahrenheit:\n",
    "    C = (F - 32) * 5 / 9\n",
    "    temperatur_celsius.append(C)\n",
    "\n",
    "print(*temperatur_celsius, sep=\"\\n\")"
   ]
  },
  {
   "cell_type": "markdown",
   "metadata": {},
   "source": [
    "### Eksempel 3: Regne ut funksjonsverdier\n",
    "\n",
    "La oss se på et litt annet eksempel. Tenk deg at ønsker å regne ut funksjonsverdiene til \n",
    "\n",
    "$$\n",
    "f(x) = x^2,\n",
    "$$\n",
    "\n",
    "i flere punkter $x$. Vi kan lage en liste med $x$-verdier, og så bruke en `for`-løkke til å regne ut funksjonsverdiene i hvert punkt."
   ]
  },
  {
   "cell_type": "code",
   "execution_count": 14,
   "metadata": {},
   "outputs": [
    {
     "name": "stdout",
     "output_type": "stream",
     "text": [
      "y_verdier = [0, 1, 4, 9, 16, 25, 36]\n"
     ]
    }
   ],
   "source": [
    "x_verdier = [0, 1, 2, 3, 4, 5, 6]\n",
    "y_verdier = []\n",
    "\n",
    "for x in x_verdier:\n",
    "    y = x**2 \n",
    "    y_verdier.append(y)\n",
    "\n",
    "print(f\"{y_verdier = }\")"
   ]
  },
  {
   "cell_type": "markdown",
   "metadata": {},
   "source": [
    "## List Comprehension\n",
    "\n",
    "*List comprehension* (ingen gode norske begreper finnes for konseptet) er en oversiktlig måte å lage og bruke lister på som erstatter `for`-løkken vi så på i forrige seksjon med en enkel linje med kode. \n",
    "\n",
    "### Skrivemåte (syntaks)\n",
    "\n",
    "Den generelle måten å skrive en liste med *list comprehension* er:\n",
    "\n",
    "```python\n",
    "ny_liste = [uttrykk for element in gammel_liste]\n",
    "```\n",
    "\n",
    "Dette ser ikke så forståelig ut i seg selv, men når vi har sett på noen eksempler vil det gi mening."
   ]
  },
  {
   "cell_type": "markdown",
   "metadata": {},
   "source": [
    "### Eksempel 4: Konvertere en liste med temperaturer fra Fahrenheit til Celsius\n",
    "\n",
    "Vi tar opp eksemplet om å konvertere en liste med temperaturer fra Fahrenheit til Celsius. Vi kan gjøre dette med *list comprehension* på følgende vis:"
   ]
  },
  {
   "cell_type": "code",
   "execution_count": 15,
   "metadata": {},
   "outputs": [
    {
     "name": "stdout",
     "output_type": "stream",
     "text": [
      "0.0\n",
      "30.0\n",
      "50.0\n",
      "70.0\n",
      "80.0\n",
      "90.0\n",
      "100.0\n"
     ]
    }
   ],
   "source": [
    "temperatur_fahrenheit = [32, 86, 122, 158, 176, 194, 212]\n",
    "\n",
    "temperatur_celsius = [(5 / 9) * (F - 32) for F in temperatur_fahrenheit]\n",
    "\n",
    "print(*temperatur_celsius, sep=\"\\n\")"
   ]
  },
  {
   "cell_type": "markdown",
   "metadata": {},
   "source": [
    "Det om foregår her er at vi gjør samme operasjon med hvert element `F` i lista og lagrer det i en ny liste `temperatur_celsius`. Den operasjonen er å regne ut $C$ gitt $F$ ved formelen. Du kan tenke på det som at det står \"for hvert element `F` som er lagret i lista `temperatur_fahrenheit`, regn ut `(5 / 9) * (F - 32)` og legg det i lista `temperatur_celsius`\"."
   ]
  },
  {
   "cell_type": "markdown",
   "metadata": {},
   "source": [
    "### Eksempel 5: Regne ut funksjonsverdier\n",
    "\n",
    "La oss se på eksemplet der vi ønsker å regne ut funksjonsverdiene til $f(x) = x^2$ en gang til. Vi kan gjøre dette med *list comprehension* på følgende vis:"
   ]
  },
  {
   "cell_type": "code",
   "execution_count": 16,
   "metadata": {},
   "outputs": [
    {
     "name": "stdout",
     "output_type": "stream",
     "text": [
      "y_verdier = [0, 1, 4, 9, 16, 25, 36]\n"
     ]
    }
   ],
   "source": [
    "x_verdier = [0, 1, 2, 3, 4, 5, 6]\n",
    "\n",
    "y_verdier = [x**2 for x in x_verdier]\n",
    "\n",
    "print(f\"{y_verdier = }\")"
   ]
  },
  {
   "cell_type": "markdown",
   "metadata": {},
   "source": [
    "### Eksempel 6: Lage en liste fra scratch med `range`\n",
    "\n",
    "Med list comprehension, kan vi lage lister med tall med `range`-funksjonen. Tenk deg at vi skal fylle en liste med tallene 0 til 9.\n",
    "\n",
    "Med en `for`-løkke hadde vi gjort det slik:"
   ]
  },
  {
   "cell_type": "code",
   "execution_count": 17,
   "metadata": {},
   "outputs": [
    {
     "name": "stdout",
     "output_type": "stream",
     "text": [
      "tall = [0, 1, 2, 3, 4, 5, 6, 7, 8, 9]\n"
     ]
    }
   ],
   "source": [
    "tall = []\n",
    "for i in range(10):\n",
    "    tall.append(i)\n",
    "\n",
    "print(f\"{tall = }\")"
   ]
  },
  {
   "cell_type": "markdown",
   "metadata": {},
   "source": [
    "Mens med list comprehension, kan vi gjøre det på én linje slik:"
   ]
  },
  {
   "cell_type": "code",
   "execution_count": 18,
   "metadata": {},
   "outputs": [
    {
     "name": "stdout",
     "output_type": "stream",
     "text": [
      "tall = [0, 1, 2, 3, 4, 5, 6, 7, 8, 9]\n"
     ]
    }
   ],
   "source": [
    "tall = [i for i in range(10)]\n",
    "\n",
    "print(f\"{tall = }\")"
   ]
  },
  {
   "cell_type": "markdown",
   "metadata": {},
   "source": [
    "### Eksempel 7: Lage en liste med kvadrattallene med `range`\n",
    "\n",
    "Vi kan også gjøre regneoperasjoner direkte på tallene vi får fra `range`-funksjonen når vi bruker list comprehension. \n",
    "\n",
    "Tenk deg at vi ønsker å lage en liste med kvadrattallene fra 1 til 10. Vi kan gjøre det slik:"
   ]
  },
  {
   "cell_type": "code",
   "execution_count": 22,
   "metadata": {},
   "outputs": [
    {
     "name": "stdout",
     "output_type": "stream",
     "text": [
      "kvadrattall = [1, 4, 9, 16, 25, 36, 49, 64, 81, 100]\n"
     ]
    }
   ],
   "source": [
    "kvadrattall = [i**2 for i in range(1, 11)]\n",
    "print(f\"{kvadrattall = }\")"
   ]
  },
  {
   "cell_type": "markdown",
   "metadata": {},
   "source": [
    "## `for`-løkker med flere lister samtidig"
   ]
  },
  {
   "cell_type": "markdown",
   "metadata": {},
   "source": [
    "I en del sammenhenger er det nyttig å kunne hente ut elementer *parvis* fra to eller flere lister. Dette gjøres med `zip`-funksjonen til Python.\n",
    "\n",
    "### Skrivemåte (syntaks)\n",
    "\n",
    "For to lister `liste1` og `liste2` er den generelle skrivemåten:\n",
    "\n",
    "```python\n",
    "\n",
    "for element1, element2 in zip(liste1, liste2):\n",
    "    # Gjøre noe med `element1` og `element2`\n",
    "\n",
    "```"
   ]
  },
  {
   "cell_type": "markdown",
   "metadata": {},
   "source": [
    "### Eksempel 7: Skrive ut en verditabell\n",
    "\n",
    "Tenk deg at vi skal skrive ut en verditabell for funksjonen\n",
    "\n",
    "$$\n",
    "f(x) = x^2 - 2x + 1.\n",
    "$$\n",
    "\n",
    "Først kan vi lage en liste med $x$-verdier og en liste med funksjonsverdiene. Så kan vi bruke `zip`-funksjonen til å hente ut elementer parvis fra de to listene og skrive dem ut.\n",
    "\n",
    "#### Underveisoppgave 1\n",
    "\n",
    "Lag en liste med $x$-verdier fra 1 til 5 og en liste med funksjonsverdiene til $f(x) = x^2 - 2x + 1$ for de samme $x$-verdiene. Bruk en vanlig `for`-løkke til å lage listene.\n",
    "\n",
    "*Ta utgangspunkt i kodeskallet under. Du må fylle inn der det står `NotImplemented`.*"
   ]
  },
  {
   "cell_type": "code",
   "execution_count": null,
   "metadata": {},
   "outputs": [],
   "source": [
    "x_verdier = NotImplemented\n",
    "funksjonsverdier = NotImplemented\n",
    "\n",
    "for x in range(1, 6):\n",
    "    NotImplemented"
   ]
  },
  {
   "cell_type": "markdown",
   "metadata": {},
   "source": [
    "````{dropdown} Løsningsforslag \n",
    "\n",
    "```python\n",
    "x_verdier = []\n",
    "funksjonsverdier = []\n",
    "\n",
    "for x in range(1, 6):\n",
    "    x_verdier.append(i)\n",
    "    y = x**2 - 2 * x + 1\n",
    "    funksjonsverdier.append(y)\n",
    "\n",
    "```\n",
    "\n",
    "\n",
    "````"
   ]
  },
  {
   "cell_type": "markdown",
   "metadata": {},
   "source": [
    "#### Underveisoppgave 2\n",
    "\n",
    "Lag de samme listene, men gjør det med list comprehension.\n",
    "\n",
    "*Ta utgangspunkt i kodeskallet under. Du må fylle inn der det står `NotImplemented`.*"
   ]
  },
  {
   "cell_type": "code",
   "execution_count": null,
   "metadata": {},
   "outputs": [],
   "source": [
    "x_verdier = NotImplemented\n",
    "funksjonsverdier = NotImplemented"
   ]
  },
  {
   "cell_type": "markdown",
   "metadata": {},
   "source": [
    "````{dropdown} Løsningsforslag \n",
    "\n",
    "```python\n",
    "x_verdier = [x for x in range(1, 6)]\n",
    "funksjonsverdier = [x**2 - 2 * x + 1 for x in x_verdier]\n",
    "```\n",
    "````"
   ]
  },
  {
   "cell_type": "markdown",
   "metadata": {},
   "source": [
    "#### `zip`-funksjonen for å skrive ut en verditabell"
   ]
  },
  {
   "cell_type": "markdown",
   "metadata": {},
   "source": [
    "Nå som vi har laget listene kan vi bruke `zip`-funksjonen til å hente ut verdiene i listene *parvis*. Her skal vi bare skrive dem ut for å illustrere hvordan `zip`-funksjonen fungerer.\n"
   ]
  },
  {
   "cell_type": "code",
   "execution_count": 24,
   "metadata": {},
   "outputs": [
    {
     "name": "stdout",
     "output_type": "stream",
     "text": [
      "x = 1 ; y = 0\n",
      "x = 2 ; y = 1\n",
      "x = 3 ; y = 4\n",
      "x = 4 ; y = 9\n",
      "x = 5 ; y = 16\n"
     ]
    }
   ],
   "source": [
    "for x, y in zip(x_verdier, funksjonsverdier):\n",
    "    print(f\"{x = } ; {y = }\")"
   ]
  },
  {
   "cell_type": "markdown",
   "metadata": {},
   "source": []
  }
 ],
 "metadata": {
  "kernelspec": {
   "display_name": "Python 3",
   "language": "python",
   "name": "python3"
  },
  "language_info": {
   "codemirror_mode": {
    "name": "ipython",
    "version": 3
   },
   "file_extension": ".py",
   "mimetype": "text/x-python",
   "name": "python",
   "nbconvert_exporter": "python",
   "pygments_lexer": "ipython3",
   "version": "3.11.4"
  },
  "orig_nbformat": 4
 },
 "nbformat": 4,
 "nbformat_minor": 2
}
