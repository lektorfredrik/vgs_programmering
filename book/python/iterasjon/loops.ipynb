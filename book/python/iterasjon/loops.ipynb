{
 "cells": [
  {
   "cell_type": "markdown",
   "metadata": {},
   "source": [
    "# Løkker\n",
    "\n",
    "## Læringsmål\n",
    "\n",
    "* Kunne lese (tolke) og skrive `while`-løkker til å skrive enkle koder som regner ut noe.\n",
    "* Kunne lese (tolke) og skrive `for`-løkker til å skrive enkle koder som regner ut noe.\n",
    "\n",
    "## Hva er løkker?\n",
    "\n",
    "\n",
    "\n",
    "**Løkker** er det noe vi bruker når vi ønsker å gjenta en liten del av koden vår flere ganger. <br>\n",
    "Det er to forskjellige type løkker vi kan bruke:\n",
    "1. **`while`-løkker**. Denne typen løkke er godt egnet både for når vi på forhånd vet hvor mange ganger vi skal kjøre en kodesnutt, og når vi ønsker å kjøre en kode så lenge en betingelse er oppfylt.\n",
    "2. **`for`-løkker**. Dette er en type løkke som er best egnet når vi vet på forhånd hvor mange ganger vi skal kjøre en kodesnutt.\n",
    "\n",
    "Vi skal først se på `while`-løkker, da `for`-løkker er et spesialtilfelle av en helt spesiell `while`-løkke.\n",
    "\n",
    "\n",
    "## `while`-løkker\n",
    "\n",
    "\n",
    "En `while`-løkke, er en løkke der vi gjentar en handling så lenge en betingelse er sann. Vi kan tenke på det som at vi gjentar en handling *så lenge* noe er sant. <br>\n",
    "\n",
    "En `while`-løkke ser slik ut:\n",
    "\n",
    "```python\n",
    "while betingelse:\n",
    "    # Kode som skal gjentas kommer her!\n",
    "    # gjør en eller flere handlinger -- Minner om at dette er slik en kommentar ser ut!\n",
    "    # Eller en eller flere utregninger\n",
    "```\n",
    "\n",
    "````{admonition} *Hol' up a minute!* Hva er en betingelse? Og hvordan lager jeg en??\n",
    ":class: tip\n",
    "Når vi skriver kode for matematiske problemer, setter vi betingelser som typisk er *ulikheter*. <br>\n",
    "For eksempel kan det være vi skal øke en variabel `x` med en så lenge `x` er mindre enn 100. Da hadde betingelsen være `x < 100`. <br> \n",
    "Med en gang `x` er større eller lik 100, vil betingelsen være usann, og vi vil ikke lenger kjøre koden i `while`-løkken dersom `x < 100` var betingelsen vår. <br>\n",
    "\n",
    "Under følger en liste med de vanligste måtene å skrive betingelser når vi programmerer `while`-løkker.\n",
    "\n",
    "**Tabell 1**: Vanlige betingelser for `while`-løkker\n",
    "| Betingelse | Hva betyr det? | Eksempel |\n",
    "|------------|----------------|----------|\n",
    "| `x < a` | `x` er mindre enn `a` | `x < 100` |\n",
    "| `x > a` | `x` er større enn `a` | `x > 100` |\n",
    "| `x <= a` | `x` er mindre enn eller lik `a` | `x <= 100` |\n",
    "| `x >= a` | `x` er større enn eller lik `a` | `x >= 100` |\n",
    "\n",
    "````\n",
    "\n",
    "### Flytskjema for `while`-løkker\n",
    "Vi kan visualisere hvordan en `while`-løkke fungerer med følgende flytdiagram:\n",
    "\n",
    "\n",
    "```{mermaid}\n",
    "flowchart TD\n",
    "\n",
    "A[start] --> B[While-løkke] --> C(Sjekk om betingelse er sann)\n",
    "C -- Sann --> D[Utfør handling]\n",
    "D -- Gjenta ---> B\n",
    "C -- Usann ---> E[ferdig]\n",
    "\n",
    "```\n",
    "\n",
    "Dette er fortsatt litt abstrakt, så la oss se på et helt konkret eksempel. <br>\n",
    "\n",
    "### Eksempel 1: `while`-løkke for å printe ut de fem første heltallene\n",
    "La oss se på et enkelt eksempel som illustrer ideen. <br>\n",
    "Vi ønsker å skrive ut de fem første heltallene, fra og med 1 til 5. <br>\n",
    "\n",
    "Dette kan vi gjøre med en `while`-løkke slik:\n"
   ]
  },
  {
   "cell_type": "code",
   "execution_count": 2,
   "metadata": {},
   "outputs": [
    {
     "name": "stdout",
     "output_type": "stream",
     "text": [
      "1\n",
      "2\n",
      "3\n",
      "4\n",
      "5\n"
     ]
    }
   ],
   "source": [
    "heltall = 1 # starter med det først heltallet\n",
    "while heltall <= 5: # Så lenge heltallet er mindre enn eller lik 5, så gjør vi:\n",
    "    print(heltall) # Denne linja skriver ut verdien til `heltall`\n",
    "    heltall = heltall + 1 # Denne linja øker verdien til `heltall` med 1 "
   ]
  },
  {
   "cell_type": "markdown",
   "metadata": {},
   "source": [
    "Som vi ser, så får vi skrevet ut de fem første heltallene. Med en gang `heltall = 5`, så er ikke lenger `heltall <= 5` en sann betingelse, så `while`-løkken stopper! "
   ]
  },
  {
   "cell_type": "markdown",
   "metadata": {},
   "source": [
    "````{admonition} Overskriving av variabler\n",
    ":class: tip\n",
    "\n",
    "Når vi jobber med løkker, så er det veldig vanlig å skrive over en variabel med en ny verdi ettersom vi ikke lenger trenger den gamle verdien. <br>\n",
    "I eksempel 1, har vi en variabel `heltall` som starter med verdien `1`. <br>\n",
    "I løkken har vi skrevet kodelinjen\n",
    "```python\n",
    "heltall = heltall + 1\n",
    "```\n",
    "som betyr at vi overskriver verdien til `heltall` med hva verdien `heltall + 1`. <br>\n",
    "Etter én runde i løkka, vil da verdien til `heltall` bli `2` siden `heltall + 1 = 1 + 1 = 2`. <br>\n",
    "Husk at `=`-tegnet i Python betyr å **tilordne** og er ikke et matematisk likhetstegn. Det sier bare at vi skal tilordne **verdien** av det som står på høyre siden av `=` til variabelen som står på venstre side av `=`. <br>\n",
    "\n",
    "En *naiv* måte å løse det samme på ville vært å skrive\n",
    "```python\n",
    "heltall = 1\n",
    "print(heltall)\n",
    "heltall = 2\n",
    "print(heltall)\n",
    "...\n",
    "heltall = 5\n",
    "print(heltall)\n",
    "```\n",
    "Dette er på sett og vis det vi gjør i `while`-løkka, men vi løser det ved å automatisere hvordan variabelen skrives over. <br>\n",
    "\n",
    "````"
   ]
  },
  {
   "cell_type": "code",
   "execution_count": null,
   "metadata": {},
   "outputs": [],
   "source": []
  },
  {
   "cell_type": "markdown",
   "metadata": {},
   "source": []
  }
 ],
 "metadata": {
  "kernelspec": {
   "display_name": "Python 3",
   "language": "python",
   "name": "python3"
  },
  "language_info": {
   "codemirror_mode": {
    "name": "ipython",
    "version": 3
   },
   "file_extension": ".py",
   "mimetype": "text/x-python",
   "name": "python",
   "nbconvert_exporter": "python",
   "pygments_lexer": "ipython3",
   "version": "3.11.6"
  }
 },
 "nbformat": 4,
 "nbformat_minor": 2
}
