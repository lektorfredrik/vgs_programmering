{
 "cells": [
  {
   "attachments": {},
   "cell_type": "markdown",
   "metadata": {},
   "source": [
    "# `while`-løkker"
   ]
  },
  {
   "attachments": {},
   "cell_type": "markdown",
   "metadata": {},
   "source": [
    "En `while`-løkke, er en løkke der vi gjentar en handling så lenge en betingelse er sann. Vi kan tenke på det som at vi gjentar en handling *så lenge* noe er sant. Generisk ser en `while`-løkke slik ut:\n",
    "\n",
    "```python\n",
    "while betingelse:\n",
    "    # gjør noe\n",
    "```\n"
   ]
  },
  {
   "attachments": {},
   "cell_type": "markdown",
   "metadata": {},
   "source": [
    "## Eksempel 1: Telle til 5\n",
    "\n",
    "La oss se på et enkelt eksempel der vi ønsker å la Python telle til 5 for oss. \n",
    "\n",
    "Hvis vi har en variabel `n`, kan vi øke verdien dens med å skrive `n = n + 1`. Dette kan vi gjøre så mange ganger vi vil. \n",
    "Siden vi skal telle til 5, kan vi bruke en `while`-løkke som gjentar denne handlingen så lenge `n < 5` (altså så lenge `n` er mindre enn 5). \n",
    "Deretter, når `n = 5`, avbrytes `while`-løkka. Koden vil da se slik ut:"
   ]
  },
  {
   "cell_type": "code",
   "execution_count": 26,
   "metadata": {},
   "outputs": [
    {
     "name": "stdout",
     "output_type": "stream",
     "text": [
      "1\n",
      "2\n",
      "3\n",
      "4\n",
      "5\n"
     ]
    }
   ],
   "source": [
    "n = 0 # Starter med 0\n",
    "while n < 5:\n",
    "    n = n + 1 # øker n med 1\n",
    "    print(n) # printer ut verdien til n"
   ]
  },
  {
   "attachments": {},
   "cell_type": "markdown",
   "metadata": {},
   "source": [
    "## Eksempel 2: Summere alle heltall fra 1 til 5\n",
    "\n",
    "La oss si vi skal summe opp alle heltall fra 1 til 5. Litt naivt kunne vi gjort dette ved å skrive ut alle tallene i summen\n",
    "\n",
    "```python\n",
    "s = 1 + 2 + 3 + 4 + 5\n",
    "```\n",
    "\n",
    "Eller vi kunne skrevet de linje for linje\n",
    "\n",
    "```python\n",
    "s = 1\n",
    "s = s + 2\n",
    "s = s + 3\n",
    "s = s + 4\n",
    "s = s + 5\n",
    "```\n",
    "\n",
    "Dette fungerer så lenge vi skal gjenta en handling få ganger (handlingen her er å plusse på tall). Med `while` løkke kan vi løse det slik:"
   ]
  },
  {
   "cell_type": "code",
   "execution_count": 24,
   "metadata": {},
   "outputs": [
    {
     "name": "stdout",
     "output_type": "stream",
     "text": [
      "s = 15\n"
     ]
    }
   ],
   "source": [
    "s = 0 # summen starter på 0, for vi har ikke lagt til noe enda.\n",
    "n = 1 # Heltall som skal legges på s\n",
    "while n <= 5: # så lenge heltallet er mindre enn 5\n",
    "    s = s + n # legg på heltallet på s\n",
    "    n = n + 1 # øk heltallet med 1\n",
    "print(f\"{s = }\")"
   ]
  },
  {
   "attachments": {},
   "cell_type": "markdown",
   "metadata": {},
   "source": [
    "Her lar vi betingelsen være at så lenge `n <= 5` (heltallet er mindre enn eller lik 5), så skal vi gjenta handlingene:\n",
    "\n",
    "1. `s = s + n` (legge til `n` i summen)\n",
    "2. `n = n + 1` (øke heltallet med 1)\n",
    "\n",
    "Når vi er ferdig, så skriver vi ut hva verdien til summen `s` er. Nå skal du får prøve å løse et problem med `while`-løkke selv.\n"
   ]
  },
  {
   "attachments": {},
   "cell_type": "markdown",
   "metadata": {},
   "source": [
    "## Øvingsoppgave 1: Legenden om Gauss og summen av de første 100 heltallene\n",
    "\n",
    "Carl Friedrich Gauss gikk i en klasse der en lærer ga i en oppgave der de måtte summere alle heltall fra 1 til 100. Læreren håpte på å få litt ro og stillhet i klasserommet, men Gauss løste denne oppgaven overraskende raskt for hånd. Du kan på en annen side løse det enda raskere enn Gauss i dag ved å bruke en `while`-løkke. \n",
    "\n",
    "Skriv en `while`-løkke der du regner summen av de 100 første heltallene. \n",
    "\n",
    "*Du kan bruke kodeskallet under. Du må fylle ut der det står `NotImplemented`*."
   ]
  },
  {
   "cell_type": "code",
   "execution_count": null,
   "metadata": {},
   "outputs": [],
   "source": [
    "s = NotImplemented\n",
    "n = NotImplemented\n",
    "while NotImplemented:\n",
    "    s = NotImplemented\n",
    "    n = NotImplemented\n",
    "print(f\"{s = }\")"
   ]
  },
  {
   "attachments": {},
   "cell_type": "markdown",
   "metadata": {},
   "source": [
    "````{dropdown} Løsningsforslag\n",
    "\n",
    "```python\n",
    "s = 0 # Summen starter på 0\n",
    "n = 1 # Det første heltallet som skal legges på s\n",
    "while n <= 100:\n",
    "    s = s + n # Øke summen med n\n",
    "    n = n + 1 # Øker heltallet med 1\n",
    "print(f\"{s = }\") # Skriver ut verdien av s\n",
    "```\n",
    "\n",
    "````"
   ]
  },
  {
   "attachments": {},
   "cell_type": "markdown",
   "metadata": {},
   "source": [
    "## Eksempel 3: Regne ut boligpris etter 10 år\n",
    "\n",
    "La oss si at du har kjøpt en bolig til 2 millioner kroner. Hvert år øker boligprisene med 3%. Hvor mye er boligen verdt etter 10 år?\n",
    "Fra prosentregningen i matematikken, kan vi regne ut at boligen er verdt etter 10 år ved å bruke vekstfaktoren 1,03 (fordi 3% er det samme som 0,03) slik:\n",
    "\n",
    "$$\n",
    "2000000 \\cdot 1.03^{10} \\approx 2687833 \\, \\text{kr}\n",
    "$$\n",
    "\n",
    "Men dette problemet kan også løses algoritmisk ved at vi øker boligpris vært år med 3% i 10 år. Algoritmen blir da\n",
    "\n",
    "1. Sett `boligpris = 2000000`\n",
    "2. Sett `år = 1`\n",
    "3. Så lenge `år` er mindre enn 10:\n",
    "    - Øk boligprisen med 3 %\n",
    "    - Øk året med 1.\n",
    "\n",
    "Med Pythonkode blir dette"
   ]
  },
  {
   "cell_type": "code",
   "execution_count": 25,
   "metadata": {},
   "outputs": [
    {
     "name": "stdout",
     "output_type": "stream",
     "text": [
      "boligpris = 2687833 kr\n"
     ]
    }
   ],
   "source": [
    "boligpris = 2_000_000 # Man kan bruke _ for å gjøre store tall mer lesbare det står bare 2 millioner\n",
    "rente = 3 # 3% rente\n",
    "vekstfaktor = 1 + rente/100 # 1.03\n",
    "år = 0 # starter på 0 år\n",
    "\n",
    "while år < 10:\n",
    "    boligpris = boligpris * vekstfaktor\n",
    "    år = år + 1\n",
    "print(f\"{boligpris = :.0f} kr\") # .0f skriver ut tallet uten desimaler, rundet av til nærmeste heltall"
   ]
  },
  {
   "attachments": {},
   "cell_type": "markdown",
   "metadata": {},
   "source": [
    "## Øvingsoppgave 2: Regne ut boligpris etter 20 år\n",
    "\n",
    "Tenk deg at du skal kjøpe en bolig til 4 millioner kroner. Hvert år øker boligprisene med 2%. \n",
    "\n",
    "Skriv en kode som finner ut hvor mye boligen er verdt etter 20 år.\n",
    "\n",
    "*Du kan bruke kodeskallet under til å løse oppgaven. Du må fylle ut der det står `NotImplemented`*."
   ]
  },
  {
   "cell_type": "code",
   "execution_count": null,
   "metadata": {},
   "outputs": [],
   "source": [
    "boligpris = NotImplemented\n",
    "rente = NotImplemented\n",
    "vekstfaktor = NotImplemented\n",
    "år = 0\n",
    "\n",
    "while NotImplemented:\n",
    "    boligpris = NotImplemented\n",
    "    år = NotImplemented\n",
    "\n",
    "print(f\"{boligpris = :.0f} kr\")"
   ]
  },
  {
   "attachments": {},
   "cell_type": "markdown",
   "metadata": {},
   "source": [
    "````{dropdown} Løsningsforslag\n",
    "\n",
    "```python\n",
    "boligpris = 4_000_000\n",
    "rente = 2\n",
    "vekstfaktor = 1 + rente/100\n",
    "år = 0\n",
    "\n",
    "while år < 20:\n",
    "    boligpris = boligpris * vekstfaktor\n",
    "    år = år + 1\n",
    "\n",
    "print(f\"{boligpris = :.0f} kr\")\n",
    "```\n",
    "\n",
    "````"
   ]
  },
  {
   "attachments": {},
   "cell_type": "markdown",
   "metadata": {},
   "source": [
    "## Øvingsoppgave 3: Finne ut når verdien til en bil er halvert\n",
    "\n",
    "Tenk deg at du kjøper en bil til 100 000 kr, og at verdien til bilen synker med 10% hvert år. \n",
    "\n",
    "Skriv en Pythonkode og regn ut hvor mange år det tar før verdien til bilen er halvert.\n",
    "\n",
    "*Du kan ta utgangspunkt i kodeskallet under. Du må fylle ut der det står `NotImplemented`*."
   ]
  },
  {
   "cell_type": "code",
   "execution_count": null,
   "metadata": {},
   "outputs": [],
   "source": [
    "verdi = 100_000 # Den opprinnelige verdien til bilen\n",
    "vekstfaktor = NotImplemented\n",
    "år = 0\n",
    "\n",
    "while NotImplemented:\n",
    "    verdi = NotImplemented\n",
    "    år = NotImplemented\n",
    "\n",
    "\n",
    "print(f\"{år = }\")"
   ]
  },
  {
   "attachments": {},
   "cell_type": "markdown",
   "metadata": {},
   "source": [
    "````{dropdown} Løsningsforslag\n",
    "\n",
    "```python\n",
    "verdi = 100_000 # Den opprinnelige verdien til bilen\n",
    "vekstfaktor = 1 - 10/100 # 10 % nedgang hvert år.\n",
    "år = 0\n",
    "\n",
    "while verdi >= 0.5 * 100_000: # Så lenge verdien er større enn halvparten av den opprinnelige verdien\n",
    "    verdi = verdi * vekstfaktor\n",
    "    år = år + 1\n",
    "\n",
    "print(f\"{år = }\")\n",
    "```\n",
    "\n",
    "````"
   ]
  },
  {
   "attachments": {},
   "cell_type": "markdown",
   "metadata": {},
   "source": [
    "## Eksempel 4: Sparing med fast innskudd\n",
    " \n",
    "\n",
    "Tenk deg at du sparer hver måned og du setter inn 1000 kr hver måned med en månedlig rente på 0.3%. Hvor mye har vi da spart etter 2 år? \n",
    "\n",
    "Vi kan tenke oss at vi på slutten av hver legger på renten på det vi har spart. Deretter setter vi inn et nytt innskudd på 1000 kr. \n",
    "\n",
    "En mulig løsning på dette problemet ved å bruke en `while`-løkke blir da:"
   ]
  },
  {
   "cell_type": "code",
   "execution_count": null,
   "metadata": {},
   "outputs": [],
   "source": [
    "sparebeløp = 0 # Vi har ikke spart noe enda\n",
    "innskudd = 1000 # Vi setter inn 1000 kr i måneden. Fast innskudd\n",
    "rente = 0.3 # 0.3% rente\n",
    "vekstfaktor = 1 + rente/100\n",
    "måned = 0 # Vi starter på måned 0\n",
    "while måned < 12 * 2: # 12 måneder per år, og vi sparer i 2 år --> 2 år * 12 måneder/år = 24 måneder. \n",
    "    sparebeløp = sparebeløp * vekstfaktor # Renten løper på sparebeløpet som har vokst siden forrige måned\n",
    "    sparebeløp = sparebeløp + innskudd # Vi setter inn et nytt innskudd på sparebeløpet\n",
    "    måned = måned + 1 # Vi øker måneden med 1\n",
    "print(f\"{sparebeløp = :.0f} kr\")"
   ]
  },
  {
   "attachments": {},
   "cell_type": "markdown",
   "metadata": {},
   "source": [
    "## Øvingsoppgave 4: Sparing med fast innskudd\n",
    "\n",
    "Tenk deg at du skal spare 1000 kr hver måned med en årlig rente på 3% (så renten løper bare hvert år i dette tilfellet).\n",
    "\n",
    "Skriv en Pythonkode til å regne ut hvor mye du har spart etter 10 år.\n",
    "\n",
    "*Du kan ta utgangspunkt i kodeskallet under. Du må fylle ut der det står `NotImplemented`. Det kan tenkes du kan eller må legge til flere linjer med kode*. \n"
   ]
  },
  {
   "cell_type": "code",
   "execution_count": null,
   "metadata": {},
   "outputs": [],
   "source": [
    "sparebeløp = NotImplemented\n",
    "innskudd = NotImplemented\n",
    "rente = NotImplemented\n",
    "vekstfaktor = NotImplemented\n",
    "år = NotImplemented\n",
    "while NotImplemented:\n",
    "    sparebeløp = NotImplemented\n",
    "    år = NotImplemented\n",
    "print(f\"{sparebeløp = :.0f} kr\")"
   ]
  },
  {
   "attachments": {},
   "cell_type": "markdown",
   "metadata": {},
   "source": [
    "````{dropdown} Løsningsforslag\n",
    "\n",
    "```python\n",
    "sparebeløp = 0\n",
    "innskudd = 1000 * 12 # 1000 kr * 12 måneder per år = 12 000 kr per år\n",
    "rente = 3 # 3% rente\n",
    "vekstfaktor = 1 + rente/100\n",
    "år = 0\n",
    "while år < 10: # Sparer i 10 år\n",
    "    sparebeløp = sparebeløp * vekstfaktor + innskudd # Legger på rente på sparebeløpet og setter inn innskuddet\n",
    "    år = år + 1\n",
    "print(f\"{sparebeløp = :.0f} kr\")\n",
    "```\n",
    "\n",
    "````"
   ]
  },
  {
   "cell_type": "code",
   "execution_count": null,
   "metadata": {},
   "outputs": [],
   "source": []
  }
 ],
 "metadata": {
  "kernelspec": {
   "display_name": "Python 3",
   "language": "python",
   "name": "python3"
  },
  "language_info": {
   "codemirror_mode": {
    "name": "ipython",
    "version": 3
   },
   "file_extension": ".py",
   "mimetype": "text/x-python",
   "name": "python",
   "nbconvert_exporter": "python",
   "pygments_lexer": "ipython3",
   "version": "3.11.3"
  },
  "orig_nbformat": 4
 },
 "nbformat": 4,
 "nbformat_minor": 2
}
