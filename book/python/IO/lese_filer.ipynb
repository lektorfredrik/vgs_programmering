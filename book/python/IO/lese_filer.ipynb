{
 "cells": [
  {
   "attachments": {},
   "cell_type": "markdown",
   "metadata": {},
   "source": [
    "# Lese data fra filer"
   ]
  },
  {
   "attachments": {},
   "cell_type": "markdown",
   "metadata": {},
   "source": [
    "Programmering med Python er et viktig verktøy når det kommer til å analysere datasett. Dette medfører at vi må være i stand til å lese data fra filer slik at vi kan bruke dataen til å lage grafer eller regne på dataen får å hente ut mer informasjon."
   ]
  },
  {
   "attachments": {},
   "cell_type": "markdown",
   "metadata": {},
   "source": [
    "## Hvordan lese data fra en fil?\n",
    "\n",
    "Det er vanskelig å gi en *helt* generell beskrivelse av hvordan man skal lese inn datafiler. Men typisk vil en datafil lagres på en måte slik at den likner en tabell. Dette betyr at vi har en overskrift for hver kolonne, og at hver rad representerer en ny måling.\n",
    "\n",
    "Den typiske kodesyntaksen er\n",
    "\n",
    "```python\n",
    "with open(filnavn, \"r\") as infile:\n",
    "    for linje in infile:\n",
    "        # Gjør noe med linjen\n",
    "```\n",
    "\n",
    "```{admonition} Forklaring av syntaksen\n",
    "\n",
    "Her er sannsynligvis noen nye ting for deg. La oss gå gjennom dem en etter en.\n",
    "\n",
    "- `with` åpner en slags kodeblokk som automatisk rydder opp når vi er ferdig med delen. Da slipper vi å åpne og lukke filen manuelt.\n",
    "- `open` åpner filen.\n",
    "- `r` indikerer at vi skal *lese* filen. `r` står for *read*.\n",
    "- `infile` er standardnavn for en fil vi leser fra (det er fra engelsk og er en forkortelse for *input file*).\n",
    "- `for`-løkka går gjennom alle linjene i fila, slik at vi kan gjøre noe med hver linje.\n",
    "\n",
    "```"
   ]
  },
  {
   "cell_type": "code",
   "execution_count": null,
   "metadata": {},
   "outputs": [],
   "source": []
  }
 ],
 "metadata": {
  "language_info": {
   "name": "python"
  },
  "orig_nbformat": 4
 },
 "nbformat": 4,
 "nbformat_minor": 2
}
