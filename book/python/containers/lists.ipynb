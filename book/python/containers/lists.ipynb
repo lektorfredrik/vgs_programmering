{
 "cells": [
  {
   "attachments": {},
   "cell_type": "markdown",
   "metadata": {},
   "source": [
    "# Lister\n",
    "\n",
    "En **liste** er en beholder med datatype `list` som kan inneholde én eller flere elementer av vilkårlige datatyper. Den kan inneholde mange elementer av bare én datatype eller den kan inneholde mange elementer med forskjellige datatyper. En liste trenger faktisk ikke å inneholde elementer i det hele tall heller, men kan være en helt tom liste. I tabell 1 kan du se noen eksempler på lister og hva slags skrivemåte de har.\n",
    "\n",
    "**Tabell 1: Eksempler på lister**\n",
    "| Liste | Beskrivelse |\n",
    "|:---|:---|\n",
    "| `[]` | En tom liste |\n",
    "| `[1, 2, 3]` | En liste med tre heltall |\n",
    "| `[\"a\", \"ålø\", \"lættis\"]` | En liste med tre strenger |\n",
    "| `[1, 'a', 2, \"b\"]` | En liste med fire elementer av to forskjellige datatyper |\n",
    "| `[[1, 2], [3, 4]]` | En liste med to lister. Kalles for *nøstede* lister. |\n",
    "| `[0.8567, 0.4299, 0.2697, 0.0037, 0.3074]`| Liste med seks desimaltall |\n"
   ]
  },
  {
   "attachments": {},
   "cell_type": "markdown",
   "metadata": {},
   "source": [
    "## Hvordan lage en liste\n",
    "\n",
    "### Eksempel 1: Lage en liste med heltall\n",
    "La oss starte smått å se på hvordan vi kan lage en liste med bare heltall. Vi kan lage en liste ved å skrive elementene i en liste innenfor firkantede parenteser `[]` og separere elementene med komma `,`. "
   ]
  },
  {
   "cell_type": "code",
   "execution_count": 40,
   "metadata": {},
   "outputs": [],
   "source": [
    "l = [1, 3, 6, 20, 5] # Eksempel på en liste med bare heltall"
   ]
  },
  {
   "attachments": {},
   "cell_type": "markdown",
   "metadata": {},
   "source": [
    "Vi kan printe ut listen hvis vi har lyst til å se på listen i sin helhet:"
   ]
  },
  {
   "cell_type": "code",
   "execution_count": 41,
   "metadata": {},
   "outputs": [
    {
     "name": "stdout",
     "output_type": "stream",
     "text": [
      "[1, 3, 6, 20, 5]\n"
     ]
    }
   ],
   "source": [
    "print(l)"
   ]
  },
  {
   "attachments": {},
   "cell_type": "markdown",
   "metadata": {},
   "source": [
    "### Eksempel 2: Lage en liste med tekststrenger\n",
    "\n",
    "La oss se på et annet eksempel der vi lager en liste med tekststrenger. Vi kan lage en liste med tekststrenger ved å skrive tekststrengene innenfor firkantede parenteser `[]` og separere tekststrengene med komma `,`. Som eksempel kan vi lage en liste med navnene til planetene i solsystemet vårt:"
   ]
  },
  {
   "cell_type": "code",
   "execution_count": 42,
   "metadata": {},
   "outputs": [],
   "source": [
    "planeter = [\"merkur\", \"venus\", \"jorda\", \"mars\", \"jupiter\", \"saturn\", \"uranus\", \"neptun\"] # Pluto er dessverre bare en dvergplanet"
   ]
  },
  {
   "attachments": {},
   "cell_type": "markdown",
   "metadata": {},
   "source": [
    "Igjen kan vi printe ut listen i sin helhet hvis vi har lyst til å se hva listen inneholder i sin helhet:"
   ]
  },
  {
   "cell_type": "code",
   "execution_count": 43,
   "metadata": {},
   "outputs": [
    {
     "name": "stdout",
     "output_type": "stream",
     "text": [
      "['merkur', 'venus', 'jorda', 'mars', 'jupiter', 'saturn', 'uranus', 'neptun']\n"
     ]
    }
   ],
   "source": [
    "print(planeter)"
   ]
  },
  {
   "attachments": {},
   "cell_type": "markdown",
   "metadata": {},
   "source": [
    "Men vi kan også printe ut listen på en mer oversiktlig måte ved å *pakke ut* lista med `*`-operatoren foran listen `*planter` og separere elementene med ny linje ved å bruke `\\n` i print:"
   ]
  },
  {
   "cell_type": "code",
   "execution_count": 6,
   "metadata": {},
   "outputs": [
    {
     "name": "stdout",
     "output_type": "stream",
     "text": [
      "merkur\n",
      "venus\n",
      "jorda\n",
      "mars\n",
      "jupiter\n",
      "saturn\n",
      "uranus\n",
      "neptun\n"
     ]
    }
   ],
   "source": [
    "print(*planeter, sep=\"\\n\") # stjerna (*) pakker ut lista og sep=\"\\n\" setter linjeskift mellom hvert element"
   ]
  },
  {
   "attachments": {},
   "cell_type": "markdown",
   "metadata": {},
   "source": [
    "````{admonition} Flere skrivemåter for å definere lister\n",
    ":class: tip\n",
    "\n",
    "La oss se på noen flere skrivemåter for å definere lister med utgangspunkt i planetene. \n",
    "\n",
    "1. Definert på én linje:\n",
    "\n",
    "    ```python\n",
    "    planeter = [\"merkur\", \"venus\", \"jorda\", \"mars\", \"jupiter\", \"saturn\", \"uranus\", \"neptun\"]\n",
    "    ```\n",
    "\n",
    "2. Definert over flere linjer:\n",
    "\n",
    "    ```python\n",
    "    planeter = [\n",
    "        \"merkur\", \n",
    "        \"venus\", \n",
    "        \"jorda\", \n",
    "        \"mars\", \n",
    "        \"jupiter\", \n",
    "        \"saturn\", \n",
    "        \"uranus\", \n",
    "        \"neptun\",\n",
    "    ]\n",
    "    ```\n",
    "\n",
    "3. Definert over flere linjer, men flere elementer per linje:\n",
    "\n",
    "    ```python\n",
    "    planeter = [\n",
    "        \"merkur\", \"venus\", \"jorda\", \"mars\", \n",
    "        \"jupiter\", \"saturn\", \"uranus\", \"neptun\",\n",
    "    ]\n",
    "    ```\n",
    "\n",
    "Ofte er alternativ 2 eller 3 bedre fordi det er lettere å lese koden. Det er anbefalt å bruke alternativ 2 eller 3 når du har mange elementer i listen.\n",
    "\n",
    "````\n",
    "\n"
   ]
  },
  {
   "attachments": {},
   "cell_type": "markdown",
   "metadata": {},
   "source": [
    "### Underveisoppgave 1: Lag en liste med flyttall\n",
    "\n",
    "Lag en liste som inneholder flyttallene 1.0, 2.0, 3.0, 4.0 og 5.0. Print ut listen og sjekk at du får\n",
    "\n",
    "```console\n",
    "[1.0, 2.0, 3.0, 4.0, 5.0]\n",
    "```\n",
    "\n",
    "*Du kan da utgangspunkt i kodeskallet under. Du må fylle inn der det står `NotImplemented`.*"
   ]
  },
  {
   "cell_type": "code",
   "execution_count": 45,
   "metadata": {},
   "outputs": [
    {
     "name": "stdout",
     "output_type": "stream",
     "text": [
      "l = NotImplemented\n"
     ]
    }
   ],
   "source": [
    "l = NotImplemented\n",
    "print(f\"{l = }\")"
   ]
  },
  {
   "attachments": {},
   "cell_type": "markdown",
   "metadata": {},
   "source": [
    "````{dropdown} Løsningsforslag\n",
    "\n",
    "```python\n",
    "l = [1.0, 2.0, 3.0, 4.0, 5.0]\n",
    "print(f\"{l = }\")\n",
    "```\n",
    "\n",
    "````"
   ]
  },
  {
   "attachments": {},
   "cell_type": "markdown",
   "metadata": {},
   "source": [
    "### Underveisoppgave 2: Lag en liste 2\n",
    "\n",
    "Lag en liste som inneholder både flyttall `2.0`, `-0.5` og tekststrengen `\"hei\"`. Print ut listen og sjekk at du får\n",
    "\n",
    "```console\n",
    "[2.0, -0.5, 'hei']\n",
    "```\n",
    "\n",
    "\n",
    "*Du kan ta utgangspunkt i kodeskallet under. Du må fylle inn der det står `NotImplemented`.*"
   ]
  },
  {
   "cell_type": "code",
   "execution_count": 46,
   "metadata": {},
   "outputs": [
    {
     "name": "stdout",
     "output_type": "stream",
     "text": [
      "blanda_liste = NotImplemented\n"
     ]
    }
   ],
   "source": [
    "blanda_liste = NotImplemented\n",
    "print(f\"{blanda_liste = }\")"
   ]
  },
  {
   "attachments": {},
   "cell_type": "markdown",
   "metadata": {},
   "source": [
    "````{dropdown} Løsningsforslag\n",
    "\n",
    "```python\n",
    "blanda_liste = [2.0, -0.5, \"hei\"]\n",
    "print(f\"{blanda_liste = }\")\n",
    "```\n",
    "\n",
    "````"
   ]
  },
  {
   "attachments": {},
   "cell_type": "markdown",
   "metadata": {},
   "source": [
    "## Hvordan endre på elementer i en liste\n",
    "\n",
    "Det er naturlig å lure på om man kan endre på elementene som er lagret i en liste. Spesielt i matematiske anvendelser kan det være nyttig å ha muligheten til å legge til, trekke fra, gange eller dele elementene i en liste med andre tall. Det kan vi heldigvis gjøre.\n",
    "\n",
    "```{admonition} Indekser i Python \n",
    ":class: tip\n",
    "\n",
    "I Python starter vi å telle på `0`. Det betyr at hvis en liste har 5 elementer, så vil indeksene som brukes for å nummerere elementene være `0`, `1`, `2`, `3` og `4`. Dette kan være litt uvant i starten, men det er en god vane å jobbe med å tenke at vi alltid starter å telle fra `0`, i stedet fra `1`\n",
    "```\n",
    "\n"
   ]
  },
  {
   "attachments": {},
   "cell_type": "markdown",
   "metadata": {},
   "source": [
    "### Eksempel 1: Plusse på et tall til ett element i en liste\n",
    "\n",
    "Tenk deg at vi har listen "
   ]
  },
  {
   "cell_type": "code",
   "execution_count": 47,
   "metadata": {},
   "outputs": [],
   "source": [
    "l = [1, 2, 3, 4, 5]"
   ]
  },
  {
   "attachments": {},
   "cell_type": "markdown",
   "metadata": {},
   "source": [
    "Tenk deg at vi ønsker å legge til tallet `2` til element med indeks `3` i lista. Dette kan vi gjøre ved å skrive"
   ]
  },
  {
   "cell_type": "code",
   "execution_count": 48,
   "metadata": {},
   "outputs": [],
   "source": [
    "l[3] += 2 # Legger til 2 på indeks 3. Koden gjøre det samme som som l[3] = l[3] + 2"
   ]
  },
  {
   "attachments": {},
   "cell_type": "markdown",
   "metadata": {},
   "source": [
    "Hvis vi så printer ut listen ser vi at elementet med indeks `3` har blitt endret til `6`:"
   ]
  },
  {
   "cell_type": "code",
   "execution_count": 49,
   "metadata": {},
   "outputs": [
    {
     "name": "stdout",
     "output_type": "stream",
     "text": [
      "l = [1, 2, 3, 6, 5]\n"
     ]
    }
   ],
   "source": [
    "print(f\"{l = }\")"
   ]
  },
  {
   "attachments": {},
   "cell_type": "markdown",
   "metadata": {},
   "source": [
    "### Eksempel 2: Gange et tall i listen med et annet tall\n",
    "\n",
    "Tenk deg at vi ønsker å multiplisere elementet med indeks `2` i lista med tallet `3`. Dette kan vi gjøre ved å skrive"
   ]
  },
  {
   "cell_type": "code",
   "execution_count": 50,
   "metadata": {},
   "outputs": [],
   "source": [
    "l[2] *= 3 # Ganger med 3 på indeks 2. Koden gjøre det samme som som l[2] = l[2] * 3"
   ]
  },
  {
   "attachments": {},
   "cell_type": "markdown",
   "metadata": {},
   "source": [
    "Vi kan sjekke at elementet med indeks 2 faktisk har blitt endret:"
   ]
  },
  {
   "cell_type": "code",
   "execution_count": 51,
   "metadata": {},
   "outputs": [
    {
     "name": "stdout",
     "output_type": "stream",
     "text": [
      "l = [1, 2, 9, 6, 5]\n"
     ]
    }
   ],
   "source": [
    "print(f\"{l = }\")"
   ]
  },
  {
   "attachments": {},
   "cell_type": "markdown",
   "metadata": {},
   "source": [
    "## Hvordan hente ut elementer fra en liste\n",
    "\n",
    "Det er nokså naturlig å lure på om hvordan man kan hente ut et eller flere elementer fra en liste. Det er sjeldent noen vits å lagre elementer i en liste hvis de ikke har noe formål de skal brukes til i koden. Vi kan dele opp i to måter å hente ut elementer på:\n",
    "\n",
    "1. Hente ut ett og ett element med en *indeks*. \n",
    "2. Hente ut flere elementer med *slicing*.\n",
    "\n",
    "Vi skal se på begge to i detalj.\n",
    "\n",
    "### Hente ut ett og ett element med en indeks\n",
    "\n",
    "Vi kan hente ut ett og ett element fra en liste ved å bruke en *indeks*. En indeks er et heltall som forteller oss hvilken plass i listen elementet vi ønsker å hente ut befinner seg på. Vi kan tenke på en liste som en lang kø med elementer. Det første elementet i køen har indeks `0`, det andre elementet har indeks `1`, det tredje elementet har indeks `2` og så videre. Det siste elementet i køen har indeks `n-1` der `n` er antall elementer i listen.\n",
    "\n",
    "Vi fortsetter med listen `l` fra de forrige eksemplene:"
   ]
  },
  {
   "cell_type": "code",
   "execution_count": 52,
   "metadata": {},
   "outputs": [],
   "source": [
    "element_0 = l[0]\n",
    "element_1 = l[1]\n",
    "element_2 = l[2]"
   ]
  },
  {
   "attachments": {},
   "cell_type": "markdown",
   "metadata": {},
   "source": [
    "Vi kan skrive ut hva elementene er for å sjekke at blir som forventet:"
   ]
  },
  {
   "cell_type": "code",
   "execution_count": 53,
   "metadata": {},
   "outputs": [
    {
     "name": "stdout",
     "output_type": "stream",
     "text": [
      "element_0 = 1\n",
      "element_1 = 2\n",
      "element_2 = 9\n"
     ]
    }
   ],
   "source": [
    "print(f\"{element_0 = }\")\n",
    "print(f\"{element_1 = }\")\n",
    "print(f\"{element_2 = }\")"
   ]
  },
  {
   "attachments": {},
   "cell_type": "markdown",
   "metadata": {},
   "source": [
    "Listen `l` har 5 elementer, som vi kan hente ut med funksjonen `len(l)`:"
   ]
  },
  {
   "cell_type": "code",
   "execution_count": 54,
   "metadata": {},
   "outputs": [
    {
     "name": "stdout",
     "output_type": "stream",
     "text": [
      "len(l) = 5\n"
     ]
    }
   ],
   "source": [
    "print(f\"{len(l) = }\")"
   ]
  },
  {
   "attachments": {},
   "cell_type": "markdown",
   "metadata": {},
   "source": [
    "Hva skjer hvis vi prøver å hente ut et element med indeks som er større enn `n-1 = 4`? Vi får en `IndexError` som forteller oss at vi prøver å hente ut et element som ikke finnes. Som eksempel:\n"
   ]
  },
  {
   "cell_type": "code",
   "execution_count": 55,
   "metadata": {},
   "outputs": [
    {
     "ename": "IndexError",
     "evalue": "list index out of range",
     "output_type": "error",
     "traceback": [
      "\u001b[0;31m---------------------------------------------------------------------------\u001b[0m",
      "\u001b[0;31mIndexError\u001b[0m                                Traceback (most recent call last)",
      "Cell \u001b[0;32mIn[55], line 1\u001b[0m\n\u001b[0;32m----> 1\u001b[0m l[\u001b[39m5\u001b[39;49m]\n",
      "\u001b[0;31mIndexError\u001b[0m: list index out of range"
     ]
    }
   ],
   "source": [
    "l[5]"
   ]
  },
  {
   "attachments": {},
   "cell_type": "markdown",
   "metadata": {},
   "source": [
    "#### Underveisoppgave 3\n",
    "\n",
    "Skriv en Pythonkode som henter ut det *tredje* elementet i lista "
   ]
  },
  {
   "cell_type": "code",
   "execution_count": 9,
   "metadata": {},
   "outputs": [],
   "source": [
    "planter = [\n",
    "    \"epletre\", \"pæretrær\", \"plommetre\", \n",
    "    \"kirsebærtre\", \"fikentre\", \"appelsintre\", \n",
    "    \"sitrontrær\", \"avokadotre\", \"bananplante\",\n",
    "]"
   ]
  },
  {
   "attachments": {},
   "cell_type": "markdown",
   "metadata": {},
   "source": [
    "*Du kan bruke kodeskallet under. Du må fylle inn der det står `NotImplemented`.*"
   ]
  },
  {
   "cell_type": "code",
   "execution_count": null,
   "metadata": {},
   "outputs": [],
   "source": [
    "tredje_plante = NotImplemented\n",
    "print(f\"{tredje_plante = }\")"
   ]
  },
  {
   "attachments": {},
   "cell_type": "markdown",
   "metadata": {},
   "source": [
    "````{dropdown} Løsningsforslag\n",
    "Vi må huske på at i Python så begynner vi å telle på 0. Dermed vil det tredje elementet ha indeks `2` \n",
    "fordi de tre første indeksene er `0`, `1` og `2`. Dermed kan vi hente ut det tredje elementet slik:\n",
    "\n",
    "```python\n",
    "tredje_plante = planter[2] \n",
    "```\n",
    "\n",
    "````"
   ]
  },
  {
   "cell_type": "markdown",
   "metadata": {},
   "source": [
    "### Hente ut indeksen til et element i en liste\n",
    "\n",
    "Noen ganger er ønskelig å finne ut hvor i en liste et element befinner seg. Da kan vi bruke funksjonen `index` som tar inn et element som argument og returnerer indeksen til elementet. Hvis elementet ikke finnes i listen får vi en `ValueError` som forteller oss at elementet ikke finnes i listen.\n",
    "\n",
    "La oss se på et eksempel der vi finner indeksen til elementet `\"jorda\"` i listen `planeter`:"
   ]
  },
  {
   "cell_type": "code",
   "execution_count": 14,
   "metadata": {},
   "outputs": [
    {
     "name": "stdout",
     "output_type": "stream",
     "text": [
      "index_jorda = 2\n"
     ]
    }
   ],
   "source": [
    "planeter = [\n",
    "    \"merkur\", \"venus\", \"jorda\", \"mars\", \n",
    "    \"jupiter\", \"saturn\", \"uranus\", \"neptun\",\n",
    "]\n",
    "\n",
    "index_jorda = planeter.index(\"jorda\")\n",
    "print(f\"{index_jorda = }\")"
   ]
  },
  {
   "cell_type": "markdown",
   "metadata": {},
   "source": [
    "Vi får altså at indeksen som `\"jorda\"` befinner seg på er `2`. Vi kan sjekke at dette stemmer ved å skrive ut elementet med indeks `2` (selv om vi også kan se at det stemmer ved å se på lista. Vi kan se at jorda er element nummer 3 i lista som stemmer med at indeksen er `2` siden vi teller fra 0.):"
   ]
  },
  {
   "cell_type": "code",
   "execution_count": 15,
   "metadata": {},
   "outputs": [
    {
     "name": "stdout",
     "output_type": "stream",
     "text": [
      "planeter[index_jorda] = 'jorda'\n"
     ]
    }
   ],
   "source": [
    "print(f\"{planeter[index_jorda] = }\")"
   ]
  },
  {
   "attachments": {},
   "cell_type": "markdown",
   "metadata": {},
   "source": [
    "### Hente ut flere elementer med slicing\n",
    "\n",
    "Noen ganger ønsker vi å hente ut flere elementer fra en liste samtidig. Dette kan oppnås ved å benytte en metode som kalles for *slicing*. Slicing lar oss hente ut flere elementer fra en liste samtidig ved å spesifisere en **startindeks** og en **sluttindeks**. Vi kan også spesifisere en **steglengde** som forteller oss hvor mange elementer vi skal hoppe over. Det vi ender opp med en ny liste som inneholder alle elemendrene fra og startindeksen opp til sluttindeksen (men inkluderer ikke elementet på sluttindeksen), og som hopper over elementer med en viss steglengde. Den generelle syntaksen er\n",
    "\n",
    "```python\n",
    "ny_liste = liste[startindeks:sluttindeks:steglengde]\n",
    "```\n",
    "\n",
    "Noen eksempler vil gjøre hvordan det fungerer klarere. Vi tar utgangspunkt i lista\n"
   ]
  },
  {
   "cell_type": "code",
   "execution_count": 56,
   "metadata": {},
   "outputs": [],
   "source": [
    "l = [1, 2, 3, 4, 5]"
   ]
  },
  {
   "attachments": {},
   "cell_type": "markdown",
   "metadata": {},
   "source": [
    "#### Eksempel 1: Hente ut *alle* elementene fra en liste\n",
    "\n",
    "La oss først ta et banalt eksempel der vi bruker slicing til å hente ut alle elementene fra lista. Dette kan gjøres slik:"
   ]
  },
  {
   "cell_type": "code",
   "execution_count": 57,
   "metadata": {},
   "outputs": [
    {
     "name": "stdout",
     "output_type": "stream",
     "text": [
      "ny_liste = [1, 2, 3, 4, 5]\n"
     ]
    }
   ],
   "source": [
    "ny_liste = l[:]\n",
    "print(f\"{ny_liste = }\")"
   ]
  },
  {
   "attachments": {},
   "cell_type": "markdown",
   "metadata": {},
   "source": [
    "Her har vi ikke spesifisert noen `startindeks` eller noen `sluttindeks`. Da henter Python ut alle elementene fra lista. "
   ]
  },
  {
   "attachments": {},
   "cell_type": "markdown",
   "metadata": {},
   "source": [
    "#### Eksempel 2: Hente ut de tre første elementene fra en liste\n",
    "\n",
    "La oss nå se på et eksempel der vi ønsker å hente ut de tre første elementene fra lista. Dette kan gjøres slik:"
   ]
  },
  {
   "cell_type": "code",
   "execution_count": 58,
   "metadata": {},
   "outputs": [
    {
     "name": "stdout",
     "output_type": "stream",
     "text": [
      "ny_liste = [1, 2, 3]\n"
     ]
    }
   ],
   "source": [
    "ny_liste = l[0:3]\n",
    "print(f\"{ny_liste = }\")"
   ]
  },
  {
   "attachments": {},
   "cell_type": "markdown",
   "metadata": {},
   "source": [
    "Her satt vi `startindeks=0` og `sluttindeks=3`. Det viser seg at hvis vi *ikke* spesifiserer `startindeks`, er den automatisk satt til `0`. Vi kan derfor også hente ut de tre første elementene uten å oppgi noen `startindeks`, som dette:"
   ]
  },
  {
   "cell_type": "code",
   "execution_count": 59,
   "metadata": {},
   "outputs": [
    {
     "name": "stdout",
     "output_type": "stream",
     "text": [
      "ny_liste = [1, 2, 3]\n"
     ]
    }
   ],
   "source": [
    "ny_liste = l[:3]\n",
    "print(f\"{ny_liste = }\")"
   ]
  },
  {
   "attachments": {},
   "cell_type": "markdown",
   "metadata": {},
   "source": [
    "#### Eksempel 3: Hente ut hvert andre element fra en liste\n",
    "\n",
    "La oss nå se på et eksempel der vi ønsker å hente ut hvert andre element fra lista. Dette kan gjøres slik:"
   ]
  },
  {
   "cell_type": "code",
   "execution_count": 60,
   "metadata": {},
   "outputs": [
    {
     "name": "stdout",
     "output_type": "stream",
     "text": [
      "ny_liste = [1, 3, 5]\n"
     ]
    }
   ],
   "source": [
    "ny_liste = l[::2] # Hopper over hvert andre element, men starter på første element (indeks 0) og går til siste element\n",
    "print(f\"{ny_liste = }\")"
   ]
  },
  {
   "attachments": {},
   "cell_type": "markdown",
   "metadata": {},
   "source": [
    "#### Underveisoppgave 4\n",
    "\n",
    "Hent ut alle oddetallene i listen"
   ]
  },
  {
   "cell_type": "code",
   "execution_count": 1,
   "metadata": {},
   "outputs": [],
   "source": [
    "heltall_liste = [1, 2, 3, 4, 5, 6, 7, 8, 9, 10]"
   ]
  },
  {
   "attachments": {},
   "cell_type": "markdown",
   "metadata": {},
   "source": [
    "ved å bruke *slicing*.\n",
    "\n",
    "*Du kan ta utgangspunkt i kodeskallet under. Du må fylle inn der det står `NotImplemented`.*"
   ]
  },
  {
   "cell_type": "code",
   "execution_count": null,
   "metadata": {},
   "outputs": [],
   "source": [
    "oddetall_liste = NotImplemented\n",
    "\n",
    "print(f\"{oddetall_liste = }\")"
   ]
  },
  {
   "attachments": {},
   "cell_type": "markdown",
   "metadata": {},
   "source": [
    "````{dropdown} Løsningsforslag\n",
    "\n",
    "Oddetallene er 1, 3, 5, 7 og 9. Vi kan hente ut alle oddetallene ved å starte på indeks 0 og gå gjennom lista med steglengde på 2. Da hopper vi over alle partallene. Vi kan gjøre dette slik:\n",
    "\n",
    "```python\n",
    "oddetall_liste = heltall_liste[0::2]\n",
    "```\n",
    "\n",
    "Vi trenger strengt tatt ikke ta med `0` i `0::2` fordi det er standardverdien til `startindeks`. Vi kan derfor skrive det slik:\n",
    "\n",
    "```python\n",
    "oddetall_liste = heltall_liste[::2]\n",
    "```\n",
    "\n",
    "\n",
    "````"
   ]
  },
  {
   "attachments": {},
   "cell_type": "markdown",
   "metadata": {},
   "source": [
    "#### Underveisoppgave 5\n",
    "\n",
    "Hent ut de tre siste elementene i listen"
   ]
  },
  {
   "cell_type": "code",
   "execution_count": 8,
   "metadata": {},
   "outputs": [],
   "source": [
    "matvarer = [\n",
    "    \"melk\", \"brød\", \"ost\", \"egg\",\n",
    "    \"yoghurt\", \"smør\", \"syltetøy\", \n",
    "    \"knekkebrød\", \"makrell i tomat\",\n",
    "]"
   ]
  },
  {
   "attachments": {},
   "cell_type": "markdown",
   "metadata": {},
   "source": [
    "ved å bruke *slicing*. \n",
    "\n",
    "*Du kan ta utgangspunkt i kodeskallet under. Du må fylle inn der det står `NotImplemented`*.\n"
   ]
  },
  {
   "cell_type": "code",
   "execution_count": null,
   "metadata": {},
   "outputs": [],
   "source": [
    "tre_siste_matvarer = NotImplemented\n",
    "\n",
    "print(f\"{tre_siste_matvarer = }\")"
   ]
  },
  {
   "attachments": {},
   "cell_type": "markdown",
   "metadata": {},
   "source": [
    "````{dropdown} Løsningsforslag\n",
    "\n",
    "Vi kan hente ut de tre siste elementene ved å sette `startindeks` lik `-3`. Python tolker dette som at vi ønsker å starte på de tredje *siste* elementet i lista. Så, konklusjon, vi kan hente ut de tre siste elementene slik:\n",
    "\n",
    "```python\n",
    "tre_siste_matvarer = matvarer[-3:]\n",
    "```\n",
    "\n",
    "Det er også mulig å sette `startindeks=len(matvarer) - 3`, slik at koden blir \n",
    "\n",
    "```python\n",
    "tre_siste_matvarer = matvarer[len(matvarer) - 3:]\n",
    "```\n",
    "\n",
    "Men dette er mer tungvint og gjør ikke koden noe mer lesbar. Derfor er det bedre å bruke `-3` som vi gjorde i første eksempel.\n",
    "\n",
    "\n",
    "````"
   ]
  },
  {
   "attachments": {},
   "cell_type": "markdown",
   "metadata": {},
   "source": [
    "## Hvordan legge til elementer i en liste\n",
    "\n",
    "Vi kan legge til elementer i en liste på tre forskjellige måter:\n",
    "\n",
    "1. Legge til et element på slutten av lista med `append()`.\n",
    "2. Legge til et element på en spesifikk indeks med `insert()`.\n",
    "3. Legge til flere elementer på slutten av lista med `extend()`."
   ]
  },
  {
   "attachments": {},
   "cell_type": "markdown",
   "metadata": {},
   "source": [
    "### Metode 1: `append`\n",
    "\n",
    "Metoden `append()` legger til et element på slutten av lista. Vi kan bruke den slik:"
   ]
  },
  {
   "cell_type": "code",
   "execution_count": 61,
   "metadata": {},
   "outputs": [
    {
     "name": "stdout",
     "output_type": "stream",
     "text": [
      "l = [1, 2, 3, 4, 5, 10]\n"
     ]
    }
   ],
   "source": [
    "l.append(10) # legger til elementet `10`` på slutten av lista\n",
    "print(f\"{l = }\")"
   ]
  },
  {
   "attachments": {},
   "cell_type": "markdown",
   "metadata": {},
   "source": [
    "#### Underveisoppgave 6\n",
    "\n",
    "Legg til elementet `\"eple\"` på slutten av lista"
   ]
  },
  {
   "cell_type": "code",
   "execution_count": 1,
   "metadata": {},
   "outputs": [],
   "source": [
    "handleliste = [\"melk\", \"brød\", \"ost\", \"såpe\"]"
   ]
  },
  {
   "attachments": {},
   "cell_type": "markdown",
   "metadata": {},
   "source": [
    "*Du kan ta utgangspunkt i kodeskallet under. Du må fylle inn der det står `NotImplemented`.*"
   ]
  },
  {
   "cell_type": "code",
   "execution_count": 2,
   "metadata": {},
   "outputs": [
    {
     "name": "stdout",
     "output_type": "stream",
     "text": [
      "handleliste = ['melk', 'brød', 'ost', 'såpe', NotImplemented]\n"
     ]
    }
   ],
   "source": [
    "handleliste.append(NotImplemented)\n",
    "print(f\"{handleliste = }\")"
   ]
  },
  {
   "attachments": {},
   "cell_type": "markdown",
   "metadata": {},
   "source": [
    "### Metode 2: `insert`\n",
    "\n",
    "Metoden `insert()` lar oss legge til et element på en spesifikk indeks. Vi kan bruke den slik:"
   ]
  },
  {
   "cell_type": "code",
   "execution_count": 62,
   "metadata": {},
   "outputs": [
    {
     "name": "stdout",
     "output_type": "stream",
     "text": [
      "l = [1, 2, -100, 3, 4, 5, 10]\n"
     ]
    }
   ],
   "source": [
    "l.insert(2, -100) # legger til elementet `-100` på indeks 2\n",
    "print(f\"{l = }\")"
   ]
  },
  {
   "attachments": {},
   "cell_type": "markdown",
   "metadata": {},
   "source": [
    "Merk at vi ikke erstattet elementet som opprinnelig var på indeks 2. I stedet skviset vi inn det nye elementet mellom elementet på indeks 2 og elementet på indeks 3, slik at elementet som hadde indeks 2 før, nå har indeks 3."
   ]
  },
  {
   "attachments": {},
   "cell_type": "markdown",
   "metadata": {},
   "source": [
    "### Metode 3: `extend`\n",
    "\n",
    "Metoden `extend()` lar oss legge til flere elementer på slutten av lista. Vi kan bruke den slik:"
   ]
  },
  {
   "cell_type": "code",
   "execution_count": 63,
   "metadata": {},
   "outputs": [
    {
     "name": "stdout",
     "output_type": "stream",
     "text": [
      "l = [1, 2, -100, 3, 4, 5, 10, 100, 200, 300]\n"
     ]
    }
   ],
   "source": [
    "l.extend([100, 200, 300]) # legger til elementene `100`, `200` og `300` på slutten av lista\n",
    "print(f\"{l = }\")"
   ]
  },
  {
   "attachments": {},
   "cell_type": "markdown",
   "metadata": {},
   "source": [
    "## Hvordan fjerne elementer fra en liste\n",
    "\n",
    "\n",
    "Vi kan fjerne elementer fra en liste på to forskjellige måter:\n",
    "\n",
    "1. Fjerne et element med en spesifikk indeks med `pop()`.\n",
    "2. Fjerne et element med en spesifikk verdi med `remove()`.\n",
    "\n"
   ]
  },
  {
   "attachments": {},
   "cell_type": "markdown",
   "metadata": {},
   "source": [
    "### Metode 1: `pop`"
   ]
  },
  {
   "attachments": {},
   "cell_type": "markdown",
   "metadata": {},
   "source": [
    "Hvis du vet *hvor* i listen et element du ønsker å fjerne befinner seg, kan du bruke `pop` til å fjerne elementet. Du må da spesifisere indeksen til elementet du ønsker å fjerne. Vi kan bruke `pop` slik:"
   ]
  },
  {
   "cell_type": "code",
   "execution_count": 64,
   "metadata": {},
   "outputs": [
    {
     "name": "stdout",
     "output_type": "stream",
     "text": [
      "l = [1, 2, -100, 3, 4, 5, 10, 100, 200, 300]\n",
      "l = [1, 2, -100, 3, 4, 5, 10, 100, 200]\n"
     ]
    }
   ],
   "source": [
    "print(f\"{l = }\") # lista før vi fjerner elementet\n",
    "l.pop(-1) # -1 er siste element i lista!\n",
    "print(f\"{l = }\") # lista etter vi fjerner elementet"
   ]
  },
  {
   "attachments": {},
   "cell_type": "markdown",
   "metadata": {},
   "source": [
    "```{admonition} Indeksering med negative tall\n",
    ":class: tip, dropdown\n",
    "\n",
    "Vi kan bruke *negative* indekser når vi henter ut elementer fra en liste. Dette betyr at vi kan hente ut elementer fra slutten av lista. Det siste elementet i lista har indeks `-1`, det nest siste elementet har indeks `-2`, det tredje siste elementet har indeks `-3` og så videre. Det første elementet i lista har indeks `-n`, der `n` er antall elementer i lista.\n",
    "\n",
    "Vi kan også hente ut disse elementene ved å indeksere med `~0` for `-1`, `~1` for `-2` osv. Symbolet `~` indikerer at vi skal starte på slutten lista i stedet for på starten. Med andre ord, vil `l[-1]` og `l[~0]` gi samme resultat.\n",
    "\n",
    "Men hver varsom på hvilken versjon av Python du bruker. Det er ikke sikkert den siste måten å indeksere på her fungerer med gamle versjoner av Python. Det kan være en egenskap som ble introdusert i senere tid. \n",
    "\n",
    "```"
   ]
  },
  {
   "attachments": {},
   "cell_type": "markdown",
   "metadata": {},
   "source": [
    "### Metode 2: `remove`\n",
    "\n",
    "Hvis du ikke vet *hvor* i listen et element du ønsker å fjerne befinner seg, kan du bruke `remove` til å fjerne elementet. Du må da spesifisere verdien til elementet du ønsker å fjerne. Vi kan bruke `remove` slik:"
   ]
  },
  {
   "cell_type": "code",
   "execution_count": 65,
   "metadata": {},
   "outputs": [
    {
     "name": "stdout",
     "output_type": "stream",
     "text": [
      "l = [1, 2, -100, 3, 4, 5, 10, 100, 200] før vi fjerner element med verdi 1\n",
      "l = [2, -100, 3, 4, 5, 10, 100, 200] etter vi fjerne element med verdi 1\n"
     ]
    }
   ],
   "source": [
    "print(f\"{l = } før vi fjerner element med verdi 1\") # lista før vi fjerner elementet\n",
    "l.remove(1)\n",
    "print(f\"{l = } etter vi fjerne element med verdi 1\") # lista etter vi fjerner elementet"
   ]
  },
  {
   "cell_type": "markdown",
   "metadata": {},
   "source": [
    "## Oppgaver"
   ]
  },
  {
   "cell_type": "markdown",
   "metadata": {},
   "source": [
    "### Oppgave 1\n",
    "\n",
    "Lag en liste `l` som inneholder de ti første primtallene på følgende vis:\n",
    "- Start med å lage en liste som inneholder de fem første primtallene ved å skrive lista inn for hånd. De fem første primtallene er 2, 3, 5, 7 og 11.\n",
    "- Legg så til de neste fem primtallene ved å fylle en ny `nye_tall` med `append`-funksjonen.\n",
    "- Utvid så lista `l` ved å bruke `extend`-funksjonen med den nye lista `nye_tall`.\n",
    "- Legg så til tallet `1` på starten av lista ved å bruke `insert`-funksjonen (`1` er ikke et primtall, forresten).\n",
    "\n",
    "\n",
    "*Du kan ta utgangspunkt i kodeskallet under. Du må fylle inn der det står `NotImplemented` eller `pass`.*"
   ]
  },
  {
   "cell_type": "code",
   "execution_count": null,
   "metadata": {},
   "outputs": [],
   "source": [
    "\n",
    "# Hjelpefunksjon for å sjekke om et tall er et primtall\n",
    "def er_primtall(n):\n",
    "    for i in range(2, n):\n",
    "        if n % i == 0:\n",
    "            return False\n",
    "    return True\n",
    "\n",
    "\n",
    "l = NotImplemented # Lag en liste med 2, 3, 5, 7 og 11\n",
    "\n",
    "nye_tall = []\n",
    "tall = 12 # Start med 12\n",
    "while len(nye_tall) < 5:\n",
    "    if er_primtall(tall):\n",
    "        pass # Legg til tallet i lista hvis det er et primtall\n",
    "\n",
    "    tall += 1\n",
    "\n",
    "l.extend(NotImplemented) # Utvid lista med de nye tallene\n",
    "l.insert(NotImplemented, NotImplemented) # Sett inn tallet 1 på indeks 0\n",
    "\n",
    "\n"
   ]
  },
  {
   "cell_type": "markdown",
   "metadata": {},
   "source": [
    "````{dropdown} Løsningsforslag\n",
    "```python\n",
    "\n",
    "# Hjelpefunksjon for å sjekke om et tall er et primtall\n",
    "def er_primtall(n):\n",
    "    for i in range(2, n):\n",
    "        if n % i == 0:\n",
    "            return False\n",
    "    return True\n",
    "\n",
    "\n",
    "l = [2, 3, 5, 7, 11] # Lag en liste med 2, 3, 5, 7 og 11\n",
    "\n",
    "# Utvid lista med de fem neste primtallene. Enten med `extend` eller `append`\n",
    "nye_tall = []\n",
    "\n",
    "tall = 12 # Start med 12\n",
    "while len(nye_tall) < 5:\n",
    "    if er_primtall(tall):\n",
    "        nye_tall.append(tall)\n",
    "        \n",
    "    tall += 1\n",
    "\n",
    "l.extend(nye_tall) # Utvid lista med de nye tallene\n",
    "l.insert(0, 1) # Setter inn tallet 1 på indeks 0\n",
    "\n",
    "print(f\"{l = }\")\n",
    "```\n",
    "som gir utskriften\n",
    "```console\n",
    "l = [1, 2, 3, 5, 7, 11, 13, 17, 19, 23, 29]\n",
    "```\n",
    "````"
   ]
  },
  {
   "cell_type": "markdown",
   "metadata": {},
   "source": [
    "### Oppgave 2\n",
    "\n",
    "Under er en liste `l` definert med heltallene fra 1 til 10. Bruk en valgfri metode til å fjerne alle partallene fra lista. \n",
    "Forslag til metoder.\n",
    "* Slicing.\n",
    "* `pop`.\n",
    "* `remove`.\n",
    "\n",
    "*Du kan ta utgangspunkt i kodeskallet under. Du må fylle inn der det står `NotImplemented` og `pass`.*"
   ]
  },
  {
   "cell_type": "code",
   "execution_count": null,
   "metadata": {},
   "outputs": [],
   "source": [
    "l = [i for i in range(1, 11)] # lager en liste med heltallene fra 1 til 10\n",
    "\n",
    "# Fjern partallene fra lista. \n",
    "for x in l:\n",
    "    if NotImplemented: # sjekk om tallet er partall\n",
    "        pass # \n",
    "\n",
    "print(f\"{l = }\") # skriver ut lista etter endringene"
   ]
  },
  {
   "cell_type": "markdown",
   "metadata": {},
   "source": [
    "`````{dropdown} Løsningsforslag\n",
    "````{tab} Metode 1: Slicing\n",
    "```python\n",
    "l = [i for i in range(1, 11)] # lager en liste med heltallene fra 1 til 10\n",
    "\n",
    "# Henter ut hvert andre element fra indeks 0 og oppgaver.\n",
    "l = l[::2]\n",
    "\n",
    "print(f\"{l = }\") # skriver ut lista etter endringene\n",
    "```\n",
    "````\n",
    "\n",
    "````{tab} Metode 2: pop\n",
    "```python\n",
    "l = [i for i in range(1, 11)] # lager en liste med heltallene fra 1 til 10\n",
    "\n",
    "# Fjern partallene fra lista.\n",
    "for x in l:\n",
    "    if x % 2 == 0: # sjekk om tallet er partall\n",
    "        index = l.index(x)\n",
    "        l.pop(index)\n",
    "\n",
    "print(f\"{l = }\") # skriver ut lista etter endringene\n",
    "```\n",
    "````\n",
    "\n",
    "````{tab} Metode 3: remove\n",
    "```python\n",
    "l = [i for i in range(1, 11)] # lager en liste med heltallene fra 1 til 10\n",
    "\n",
    "# Fjern partallene fra lista\n",
    "for x in l:\n",
    "    if x % 2 == 0: # sjekk om tallet er partall\n",
    "        l.remove(x)\n",
    "\n",
    "print(f\"{l = }\") # skriver ut lista etter endringene\n",
    "```\n",
    "````\n",
    "som gir utskriften\n",
    "```console\n",
    "l = [1, 3, 5, 7, 9]\n",
    "```\n",
    "`````"
   ]
  },
  {
   "cell_type": "markdown",
   "metadata": {},
   "source": []
  }
 ],
 "metadata": {
  "kernelspec": {
   "display_name": "Python 3",
   "language": "python",
   "name": "python3"
  },
  "language_info": {
   "codemirror_mode": {
    "name": "ipython",
    "version": 3
   },
   "file_extension": ".py",
   "mimetype": "text/x-python",
   "name": "python",
   "nbconvert_exporter": "python",
   "pygments_lexer": "ipython3",
   "version": "3.11.4"
  },
  "orig_nbformat": 4
 },
 "nbformat": 4,
 "nbformat_minor": 2
}
