{
 "cells": [
  {
   "cell_type": "markdown",
   "metadata": {},
   "source": [
    "# Pythonfunksjoner: mer enn matematiske funksjoner"
   ]
  },
  {
   "cell_type": "markdown",
   "metadata": {},
   "source": [
    "Så langt har vi sett at vi kan definere funksjoner i Python som likner veldig på funksjonene vi møter i matematikken.\n",
    "Her skal vi se at Pythonfunksjoner er et langt mer fleksibelt beist enn matematiske funksjoner, og brukes til å gjøre koder mer oversiktlige og gjenbrukbare. \n",
    "\n",
    "Det er vanlig å bryte opp et program i mange mindre funksjoner for å gjøre det mer oversiktlig, samt å lettere ha kontroll over hva som skjer. Hvis en større kode er delt opp i mindre biter, kan vi enklere finne feil også! \n",
    "\n",
    "\n",
    "## Læringsmål\n",
    "\n",
    "- Kunne definere og bruke funksjoner som løser oppgaver som er mer sammensatte enn matematiske funksjoner."
   ]
  },
  {
   "cell_type": "markdown",
   "metadata": {},
   "source": [
    "## Eksempler\n",
    "\n",
    "\n",
    "### Eksempel 1: Regne ut en sum av de $n$ første heltallene\n",
    "\n",
    "Tenk deg at vi har koden\n",
    "\n",
    "```python\n",
    "i = 1\n",
    "s = 0\n",
    "while i <= 10:\n",
    "    s = s + i\n",
    "    i = i + 1\n",
    "\n",
    "print(s)\n",
    "```\n",
    "\n",
    "Koden regner ut summen av de 10 første heltallene. Men hva om vi ønsket å regne ut summen av de første heltallene for noe annet. Vel da måtte vi gått inn å endres på betingelsen `i <= 10` og satt den til noe annet, for eksempel `i <= 20`, så vi kunne regnet ut summen av de 20 første heltallene. Her viser det seg at vi kan jo plassere hele denne kodeblokken inn i en funksjon, og sette `n` være argumentet til funksjonen, der vi lar `n` spille rollen som største heltall. Som følger:"
   ]
  },
  {
   "cell_type": "code",
   "execution_count": 7,
   "metadata": {},
   "outputs": [
    {
     "name": "stdout",
     "output_type": "stream",
     "text": [
      "sum_av_heltall(n=10) = 55\n",
      "sum_av_heltall(n=100) = 5050\n",
      "sum_av_heltall(n=1000) = 500500\n",
      "sum_av_heltall(n=10000) = 50005000\n"
     ]
    }
   ],
   "source": [
    "def sum_av_heltall(n):\n",
    "    i = 1\n",
    "    s = 0\n",
    "    while i <= n:\n",
    "        s = s + i\n",
    "        i = i + 1\n",
    "    return s\n",
    "\n",
    "\n",
    "print(f\"{sum_av_heltall(n=10) = }\")\n",
    "print(f\"{sum_av_heltall(n=100) = }\")\n",
    "print(f\"{sum_av_heltall(n=1000) = }\")\n",
    "print(f\"{sum_av_heltall(n=10000) = }\")"
   ]
  },
  {
   "cell_type": "markdown",
   "metadata": {},
   "source": [
    "### Eksempel 2: Er $n$ et primtall?\n",
    "\n",
    "Dersom $n$ er et primtall, er det kun delelig med seg selv og tallet 1. Vi kan sjekke om det tall $n$ er delelig med et tall $p$ ved å gjøre restdivisjon `n % p`. Dersom resten er 0, er $n$ delelig med $p$. Vi kan sjekke om $n$ er et primtall ved å sjekke om det er delelig med alle tallene fra 2 til $n-1$. Dersom det er delelig med et av disse tallene, er det ikke et primtall. Vi må også passe på at tallet er minst lik 2. Hvis ikke er det ikke et primtall.\n",
    "Et flytskjema for algoritmen er som følger:\n",
    "\n",
    "```{mermaid}\n",
    "flowchart TD\n",
    "\n",
    "    A[Velg n] --> B[Sjekk n] \n",
    "    B -- n < 2 --> C[Ikke primtall: returner `False`]\n",
    "    B -- n >= 2 --> D\n",
    "    D[Sett p = 2] --> E[while p < n]\n",
    "    E -- p < n --> F[Regn ut n % p]\n",
    "    F -- n % p == 0 --> C\n",
    "    F -- n % p != 0 --> G[Øk p med 1]\n",
    "    G --> E\n",
    "    E -- p >= n --> H[Primtall: returner `True`]\n",
    "\n",
    "\n",
    "\n",
    "```"
   ]
  },
  {
   "cell_type": "markdown",
   "metadata": {},
   "source": [
    "Vi kan fylle inn en funksjon `er_primtall` basert på flytskjemaet:"
   ]
  },
  {
   "cell_type": "code",
   "execution_count": 13,
   "metadata": {},
   "outputs": [
    {
     "name": "stdout",
     "output_type": "stream",
     "text": [
      "er_primtall(n=2) = True\n",
      "er_primtall(n=3) = True\n",
      "er_primtall(n=4) = False\n",
      "er_primtall(n=5) = True\n",
      "er_primtall(n=6) = False\n",
      "er_primtall(n=7) = True\n",
      "er_primtall(n=8) = False\n",
      "er_primtall(n=9) = False\n"
     ]
    }
   ],
   "source": [
    "def er_primtall(n):\n",
    "    if n < 2:\n",
    "        return False\n",
    "    \n",
    "    # Trenger ikke ha en `else`-blokk her siden den returnerer `False`\n",
    "    # dersom if-betingelsen er sann uansett og vil hoppe over resten av koden i funksjonen\n",
    "    p = 2\n",
    "    while p < n:\n",
    "        if n % p == 0:\n",
    "            return False\n",
    "        p = p + 1\n",
    "    return True\n",
    "\n",
    "\n",
    "print(f\"{er_primtall(n=2) = }\")\n",
    "print(f\"{er_primtall(n=3) = }\")\n",
    "print(f\"{er_primtall(n=4) = }\")\n",
    "print(f\"{er_primtall(n=5) = }\")\n",
    "print(f\"{er_primtall(n=6) = }\")\n",
    "print(f\"{er_primtall(n=7) = }\")\n",
    "print(f\"{er_primtall(n=8) = }\")\n",
    "print(f\"{er_primtall(n=9) = }\")"
   ]
  },
  {
   "cell_type": "markdown",
   "metadata": {},
   "source": [
    "ser ut til å fungere som den skal! "
   ]
  },
  {
   "cell_type": "markdown",
   "metadata": {},
   "source": [
    "## Oppgaver"
   ]
  },
  {
   "cell_type": "markdown",
   "metadata": {},
   "source": []
  }
 ],
 "metadata": {
  "kernelspec": {
   "display_name": "Python 3",
   "language": "python",
   "name": "python3"
  },
  "language_info": {
   "codemirror_mode": {
    "name": "ipython",
    "version": 3
   },
   "file_extension": ".py",
   "mimetype": "text/x-python",
   "name": "python",
   "nbconvert_exporter": "python",
   "pygments_lexer": "ipython3",
   "version": "3.11.4"
  },
  "orig_nbformat": 4
 },
 "nbformat": 4,
 "nbformat_minor": 2
}
