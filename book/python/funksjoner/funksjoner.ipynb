{
 "cells": [
  {
   "attachments": {},
   "cell_type": "markdown",
   "metadata": {},
   "source": [
    "# Funksjoner i Python\n",
    "\n",
    "Funksjoner i Python er en langt mer generell sak enn funksjoner i matematikken. Men likevel har de også mange likheter. En funksjon i Python er en oppskrift som gjør noe med en eller flere variabler. I matematikken er en funksjon også en oppskrift på hvordan man regner ut en $y$-verdi når man gir den en $x$-verdi. \n",
    "\n",
    "## Læringsmål\n",
    "- Kunne definere og bruke funksjoner i Python for matematiske funksjoner.\n",
    "- Kunne definere og bruke mer generelle funksjoner for å løse matematiske problemer."
   ]
  },
  {
   "attachments": {},
   "cell_type": "markdown",
   "metadata": {},
   "source": [
    "## Pythonfunksjoner som matematiske funksjoner\n",
    "\n",
    "Den generelle måten vi kan skrive en Pythonfunksjon for en matematisk funksjon $f$ i Python er:\n",
    "\n",
    "```python\n",
    "def f(x):\n",
    "    return funksjonsuttrykk\n",
    "```\n",
    "\n",
    "Vi kan bruke funksjonen `f` til å regne ut funksjonsverdien for et gitt en verdi for argumentet `x`. \n",
    "Det eneste vi må spesifisere er et funksjonsuttrykk (en formel med `x` i seg), så vil funksjonen ta seg av utregningen for oss.\n",
    "\n",
    "\n",
    "```{Admonition} Forklaring av skrivemåten til funksjoner\n",
    ":class: tip, dropdown\n",
    "\n",
    "Definisjonen av en funksjon i Python krever at vi bruker noen *nøkkelord* som forteller Python hva vi ønsker å gjøre.\n",
    "\n",
    "- `def` er et *nøkkelord* som forteller Python at vi skal definere en funksjon.\n",
    "- `return` er et *nøkkelord* som forteller Python at vi skal returnere en verdi. Denne verdien vil ofte være en funksjonsverdi.\n",
    "\n",
    "Samtidig må vi gi funksjonen et funksjonsnavn, som over er `f`, og et *argument* (en variabel), som over er `x`. \n",
    "Det går an å gi flere argumenter, men det kommer vi tilbake til senere.\n",
    "\n",
    "```"
   ]
  },
  {
   "attachments": {},
   "cell_type": "markdown",
   "metadata": {},
   "source": [
    "## Eksempler"
   ]
  },
  {
   "attachments": {},
   "cell_type": "markdown",
   "metadata": {},
   "source": [
    "### Eksempel 1\n",
    "La oss se hvordan man kan definere en Pythonfunksjon for \n",
    "\n",
    "$$\n",
    "f(x) = x^2 - 1.\n",
    "$$\n",
    "\n",
    "#### Hvordan definere funksjonsuttrykket?\n",
    "\n",
    "Dette kan vi oppnå ved å skrive"
   ]
  },
  {
   "cell_type": "code",
   "execution_count": 2,
   "metadata": {},
   "outputs": [],
   "source": [
    "def f(x):\n",
    "    return x**2 - 1"
   ]
  },
  {
   "attachments": {},
   "cell_type": "markdown",
   "metadata": {},
   "source": [
    "Her har vi gitt funksjonen navnet `f`, et argument `x` og funkjonsuttrykket er `x**2 - 1`."
   ]
  },
  {
   "attachments": {},
   "cell_type": "markdown",
   "metadata": {},
   "source": [
    "#### Hvordan regne ut funksjonsverdier?\n",
    "\n",
    "Når vi først har definert funksjonen, kan vi bruke den til å regne ut funksjonsverdier. Som eksempel, skal vi regne ut funksjonsverdien i $x = 2$. Dette kan vi gjøre på flere forskjellige måter:"
   ]
  },
  {
   "cell_type": "code",
   "execution_count": 3,
   "metadata": {},
   "outputs": [
    {
     "name": "stdout",
     "output_type": "stream",
     "text": [
      "y = 3\n"
     ]
    }
   ],
   "source": [
    "y = f(2) # Sender inn verdien til x uten å referere til navnet x\n",
    "\n",
    "print(f\"{y = }\")"
   ]
  },
  {
   "cell_type": "code",
   "execution_count": 4,
   "metadata": {},
   "outputs": [
    {
     "name": "stdout",
     "output_type": "stream",
     "text": [
      "y = 3\n"
     ]
    }
   ],
   "source": [
    "y = f(x=2) # Sender inn verdien til x ved å referere til navnet x\n",
    "\n",
    "print(f\"{y = }\")"
   ]
  },
  {
   "cell_type": "code",
   "execution_count": 5,
   "metadata": {},
   "outputs": [
    {
     "name": "stdout",
     "output_type": "stream",
     "text": [
      "y = 3\n"
     ]
    }
   ],
   "source": [
    "x = 2 # Definerer verdien til x\n",
    "y = f(x) # Sender så x inn i funksjonen, men den har nå verdien 2.\n",
    "\n",
    "print(f\"{y = }\")"
   ]
  },
  {
   "cell_type": "code",
   "execution_count": 8,
   "metadata": {},
   "outputs": [
    {
     "name": "stdout",
     "output_type": "stream",
     "text": [
      "f(2) = 3\n",
      "f(x=2) = 3\n"
     ]
    }
   ],
   "source": [
    "# Vi kan også bare mate utregningen rett inn i `print`-funksjonen\n",
    "# dersom vi bare er ute etter å printe ut svaret.\n",
    "print(f\"{f(2) = }\")\n",
    "print(f\"{f(x=2) = }\")"
   ]
  },
  {
   "attachments": {},
   "cell_type": "markdown",
   "metadata": {},
   "source": [
    "## Oppgaver: matematiske funksjoner"
   ]
  },
  {
   "attachments": {},
   "cell_type": "markdown",
   "metadata": {},
   "source": [
    "### Oppgave 1\n",
    "\n",
    "Lag en Pythonfunksjon for funksjonen\n",
    "\n",
    "$$\n",
    "g(x) = x^3 - 2x^2 + 4x - 1,\n",
    "$$\n",
    "\n",
    "og regn ut funksjonsverdien til $g$ i $x = 5$. \n",
    "\n",
    "````{admonition} Løsningsforslag\n",
    ":class: dropdown\n",
    "```python\n",
    "def g(x):\n",
    "    return x**3 - 2 * x**2 + 4*x - 1\n",
    "\n",
    "y = g(5)\n",
    "print(f\"{y = }\")\n",
    "```\n",
    "som gir utskriften\n",
    "```console\n",
    "y = 94\n",
    "```\n",
    "som betyr at $g(5) = 94$. \n",
    "````"
   ]
  },
  {
   "attachments": {},
   "cell_type": "markdown",
   "metadata": {},
   "source": [
    "### Oppgave 2\n",
    "\n",
    "Lag en Pythonfunksjon for funksjonen\n",
    "\n",
    "$$\n",
    "h(x) = \\frac{1}{x^2 + 1},\n",
    "$$\n",
    "\n",
    "og regn ut $h(-1)$ og $h(2)$. \n",
    "\n",
    "````{admonition} Løsningsforslag \n",
    ":class: dropdown\n",
    "\n",
    "```python\n",
    "def h(x):\n",
    "    return 1 / (x**2 + 1)\n",
    "\n",
    "print(f\"{h(-1) = }\")\n",
    "print(f\"{h(2) = }\")\n",
    "```\n",
    "som gir utskriften\n",
    "```console\n",
    "h(-1) = 0.5\n",
    "h(2) = 0.2\n",
    "```\n",
    "som betyr at\n",
    "$h(-1) = 0.5$ og $h(2) = 0.2$. \n",
    "````"
   ]
  },
  {
   "attachments": {},
   "cell_type": "markdown",
   "metadata": {},
   "source": [
    "### Oppgave 3\n",
    "\n",
    "Lag en Python funksjon for funksjonen\n",
    "\n",
    "$$\n",
    "r(x) = \\sqrt{x^2 + 19},\n",
    "$$\n",
    "\n",
    "og regn ut funksjonsverdien i $x = 9$. \n",
    "\n",
    "````{admonition} Kodehint\n",
    ":class: tip, dropdown\n",
    "For å regne ut kvadratrot i Python kan du enten **importere** `math`-biblioteket og og bruke funksjonen `math.sqrt` (`sqrt`=*square root*) som\n",
    "\n",
    "```python\n",
    "import math\n",
    "\n",
    "math.sqrt(9) # Regner ut kvadratroten av 9\n",
    "```\n",
    "\n",
    "eller du kan bruke potensreglene og opphøye tallet i `1/2` eller `0.5` siden\n",
    "\n",
    "$$\n",
    "\\sqrt{x} = x^{1/2} = x^{0.5}.\n",
    "$$\n",
    "\n",
    "Kvadratroten av 9 blir da\n",
    "\n",
    "```python\n",
    "9**(1/2) # Regner ut kvadratroten av 9\n",
    "```\n",
    "\n",
    "eller\n",
    "\n",
    "```python\n",
    "9**0.5 # Regner ut kvadratroten av 9\n",
    "```\n",
    "\n",
    "````\n",
    "\n",
    "````{admonition} Løsningsforslag\n",
    ":class: dropdown\n",
    "```python\n",
    "def r(x):\n",
    "    return (x**2 + 19)**0.5\n",
    "\n",
    "print(f\"{r(9) = }\")\n",
    "```\n",
    "\n",
    "eller \n",
    "\n",
    "```python\n",
    "import math\n",
    "\n",
    "def r(x):\n",
    "    return math.sqrt(x**2 + 19)\n",
    "\n",
    "print(f\"{r(9) = }\")\n",
    "```\n",
    "Begge gir utskriften\n",
    "```console\n",
    "r(9) = 10.0\n",
    "```\n",
    "````\n"
   ]
  },
  {
   "cell_type": "markdown",
   "metadata": {},
   "source": [
    "## Funksjoner i Python: så mye mer enn matematiske funksjoner\n",
    "\n",
    "Ofte løser vi et problem som lar seg uttrykke som en funksjon, men på en måte som ikke er en ren matematisk funksjon $f(x)$. <br>\n",
    "Her kommer begrepet om at en funksjon er en **oppskrift** som tar inn en eller flere argumenter og gjør noe inn i bildet.\n",
    "\n",
    "I stedet for å gjøre lange generelle betraktninger, går vi løs på noen eksempler med én gang!\n"
   ]
  },
  {
   "cell_type": "markdown",
   "metadata": {},
   "source": [
    "### Eksempel 2: Summen av de $n$ første heltallene\n",
    "Hvis du er her, bør du har sett eksempelene på hvordan vi kan regne ut summen av de 100 første heltallene ved bruk av enten en `while`-løkke eller en `for`-løkke. Hvis ikke, [gå tilbake og se på eksempel 2 her først!](../iterasjon/while_loops.ipynb). \n",
    "\n",
    "Oppsummert skrev vi da koden slik:\n",
    "\n",
    "```python\n",
    "heltall = 1\n",
    "sum_av_heltall = 0\n",
    "while heltall < 100:\n",
    "    sum_av_heltall = sum_av_heltall + heltall\n",
    "    heltall = heltall + 1\n",
    "\n",
    "```\n",
    "\n",
    "Men hva om vi ønsket å regne ut summen av de 10 første heltallene? eller de 2500 første heltallene? eller de 10 000 første heltallene??\n",
    "\n",
    "Utregningene er jo de samme hver gang. Det eneste som endrer seg er hvor mange heltall vi ønsker å plusse sammen. <br>\n",
    "Det kan vi bruke en Pythonfunksjon til å løse! \n",
    "\n",
    "**Prøv å tenke deg frem til hvordan det kan gjøres før du ser på kodeeksempelet under! Prøv så godt du kan å skrive koden før du ser.**\n",
    "\n",
    "````{admonition} Kodeeksempel: Funksjon for å regne ut summen av de $n$ første heltallene\n",
    ":class: tip, dropdown\n",
    "\n",
    "```python\n",
    "def sum_av_heltall(n):\n",
    "    i = 1           # variabel som holder styr på hvilket heltall vi er på. \n",
    "    s = 0           # variabel for sum av heltallene opp til og med `n`  \n",
    "    while i < n:\n",
    "        s = s + i   # øk summen med nåværende heltall `i`\n",
    "        i = i + 1   # øk heltallet `i` med 1, aka neste heltall.\n",
    "\n",
    "    return s        # returner summen\n",
    "\n",
    "\n",
    "# Regner ut summen for forskjellige antall heltall \n",
    "# for forskjellige verdier av `n` og skriver de ut.\n",
    "print(f\"{sum_av_heltall(n=10) = }\")                # de 10 første heltallene\n",
    "print(f\"{sum_av_heltall(n=2500) = }\")              # de 2500 første heltallene\n",
    "print(f\"{sum_av_heltall(n=10_000) = }\")            # de 10 000 første heltallene. 10000 = 10_000\n",
    "```\n",
    "som gir utskriften\n",
    "\n",
    "```console\n",
    "sum_av_heltall(n=10) = 45\n",
    "sum_av_heltall(n=2500) = 3123750\n",
    "sum_av_heltall(n=10_000) = 49995000\n",
    "```\n",
    "````"
   ]
  },
  {
   "cell_type": "markdown",
   "metadata": {},
   "source": [
    "### Eksempel 3: Summen av de $n$ første oddetallene\n",
    "\n",
    "Vi kan utvide funksjonen fra forrige eksempel slik at den også tar hensyn til hvor mange steg vi tar. <br>\n",
    "Hvis vi i stedet for å summere de $n$ første heltallene, ønsker å summere de $n$ første oddetallene, \n",
    "trenger vi å hoppe over annen hvert tall. Vi kan derfor *legge til* et argument i funksjonen som sier hvor lange steg vi skal ta mellom hvert fall. \n",
    "\n",
    "**Prøv å utvide funksjonen fra eksempel 1 (eventuelt din egen kode hvis du skrev en på egen hånd) slik at den også tar inn et argument `steglengde` som sier hvor lange steg vi skal ta mellom hvert fall.** <br>\n",
    "Under finner du en mulig løsning på eksemplet.\n",
    "\n",
    "\n",
    "````{admonition} Eksempel på løsning\n",
    ":class: dropdown, tip\n",
    "```python\n",
    "def sum_av_heltall(n, steglengde):\n",
    "    i = 1           # variabel som holder styr på hvilket heltall vi er på. \n",
    "    s = 0           # variabel for sum av heltallene opp til og med `n`  \n",
    "    while i < n:\n",
    "        s = s + i   # øk summen med nåværende heltall `i`\n",
    "        i = i + steglengde   # øk heltallet `i` med `steglengde`\n",
    "\n",
    "    return s        # returner summen\n",
    "```\n",
    "Deretter kan vi for eksempel regne ut summen av alle heltall under 100 med å sette `n = 100` og `steglengde = 2`:\n",
    "\n",
    "```python\n",
    "print(sum_av_heltall(n=100, steglengde=2))\n",
    "```\n",
    "som gir utskriften\n",
    "```console\n",
    "2500\n",
    "```\n",
    "````\n"
   ]
  },
  {
   "cell_type": "markdown",
   "metadata": {},
   "source": [
    "## Oppgaver: Generelle funksjoner\n",
    "\n",
    "### Oppgave 1\n",
    "Skriv et funksjon kalt `n_fakultet` som tar inn et naturlig tall `n` (et positivt heltall) og regner ut $n!$ ($n$-fakultet) som er definert ved\n",
    "\n",
    "$$\n",
    "n! = 1\\cdot 2\\cdot 3 \\ldots \\cdot (n - 1) \\cdot n\n",
    "$$\n",
    "\n",
    "\n",
    "\n",
    "````{admonition} Påminnelse: $n!$ ($n$-fakultet)\n",
    ":class: tip, dropdown\n",
    "$n!$ ($n$-fakultet) er produktet av alle heltall fra 1 opp til og med $n$. <br>\n",
    "Det er det vi mener med dette uttrykket:\n",
    "\n",
    "$$\n",
    "n! = 1\\cdot 2\\cdot 3 \\ldots \\cdot (n - 1) \\cdot n\n",
    "$$\n",
    "\n",
    "Et eksempel på en utregning av $n!$ er\n",
    "\n",
    "$$\n",
    "6! = 1 \\cdot 2 \\cdot 3 \\cdot 4 \\cdot 5 \\cdot 6 = 720\n",
    "$$\n",
    "\n",
    "der $n = 6$. \n",
    "````\n",
    "\n",
    "Bruk funksjonen din til å regne ut $15!$ (altså, 15-fakultet)\n",
    "\n",
    "````{admonition} Kodehint 1\n",
    ":class: dropdown, tip\n",
    "Når vi regnet ut summen av de $n$ første heltallene i eksempel 1, så satt vi startverdien til `s` som\n",
    "```python\n",
    "s = 0\n",
    "```\n",
    "Dette var fordi å plusse på 0 ikke endrer verdien til summen. <br>\n",
    "Hva bør du sette startverdien til når du skal regne ut et produkt av mange tall i stedet? \n",
    "````\n",
    "\n",
    "````{admonition} Kodehint 2\n",
    ":class: dropdown, tip\n",
    "Når vi regnet ut summen, så oppdaterte vi verdien til `s` med\n",
    "\n",
    "```python\n",
    "s = s + i\n",
    "```\n",
    "Hvordan bør du oppdatere verdien dersom du i stedet skal regne ut et produkt av mange tall?\n",
    "````\n",
    "\n",
    "````{admonition} Løsningsforslag\n",
    ":class: dropdown\n",
    "```python\n",
    "def n_fakultet(n):\n",
    "    p = 1\n",
    "    for i in range(1, n + 1):\n",
    "        p = p * i\n",
    "\n",
    "    return p\n",
    "```\n",
    "Og så kan vi regne ut $15!$ ved å skrive\n",
    "```python\n",
    "print(n_fakultet(n=15))\n",
    "```\n",
    "som gir utskriften\n",
    "```console\n",
    "1307674368000\n",
    "```\n",
    "så vi kan konkludere at \n",
    "\n",
    "$$\n",
    "15! = 1307674368000\n",
    "$$\n",
    "````"
   ]
  },
  {
   "cell_type": "markdown",
   "metadata": {},
   "source": []
  }
 ],
 "metadata": {
  "kernelspec": {
   "display_name": "Python 3",
   "language": "python",
   "name": "python3"
  },
  "language_info": {
   "codemirror_mode": {
    "name": "ipython",
    "version": 3
   },
   "file_extension": ".py",
   "mimetype": "text/x-python",
   "name": "python",
   "nbconvert_exporter": "python",
   "pygments_lexer": "ipython3",
   "version": "3.11.6"
  },
  "orig_nbformat": 4
 },
 "nbformat": 4,
 "nbformat_minor": 2
}
