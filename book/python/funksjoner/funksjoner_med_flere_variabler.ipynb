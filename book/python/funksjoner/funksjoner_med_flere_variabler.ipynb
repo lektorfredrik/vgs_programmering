{
 "cells": [
  {
   "attachments": {},
   "cell_type": "markdown",
   "metadata": {},
   "source": [
    "# Funksjoner med flere variabler"
   ]
  },
  {
   "attachments": {},
   "cell_type": "markdown",
   "metadata": {},
   "source": [
    "I matematikken i videregående skole møter vi bare funksjoner av én variabel. Likevel kan det være naturlig å tenke seg funksjoner som kan ha flere variabler. For eksempel:\n",
    "\n",
    "- En funksjon der det er en eller flere konstanter som kan variere fra gang til gang, for eksempel\n",
    "$$\n",
    "g(x) = ax + b.\n",
    "$$\n",
    "- Eller en andregradsfunksjon\n",
    "f(x) = ax^2 + bx + c.\n",
    "$$\n",
    "\n",
    "Python har en naturlig utvidelse for å lage funksjoner som støtter denne variasjonen. \n",
    "\n",
    "La oss ta disse eksemplene én etter én:"
   ]
  },
  {
   "attachments": {},
   "cell_type": "markdown",
   "metadata": {},
   "source": [
    "## Funksjoner med konstanter\n",
    "\n",
    "Anta vi ønsker å definere en funksjon for en lineær funksjon\n",
    "\n",
    "$$\n",
    "f(x) = ax + b,\n",
    "$$\n",
    "\n",
    "men at $a$ og $b$ muligens varierer fra gang til gang. Da kan vi definere en funksjon som tar inn $x$, $a$ og $b$ som argumenter:"
   ]
  },
  {
   "cell_type": "code",
   "execution_count": 1,
   "metadata": {},
   "outputs": [],
   "source": [
    "def f(x, a, b):\n",
    "    return a*x + b"
   ]
  },
  {
   "attachments": {},
   "cell_type": "markdown",
   "metadata": {},
   "source": [
    "Med denne funksjonen kan vi nå regne ut $f(x)$ for ulike verdier av $a$ og $b$.\n",
    "\n",
    "For eksempel, for den lineære funksjonen\n",
    "\n",
    "$$\n",
    "f(x) = 2x + 1,\n",
    "$$\n",
    "\n",
    "har vi at $a = 2$ og $b = 1$. Ønsker vi å finne funksjonsverdien i $x = 3$ kan vi da skrive følgende kode:"
   ]
  },
  {
   "cell_type": "code",
   "execution_count": 2,
   "metadata": {},
   "outputs": [
    {
     "name": "stdout",
     "output_type": "stream",
     "text": [
      "f(x=3, a=2, b=1) = 7\n"
     ]
    }
   ],
   "source": [
    "print(f\"{f(x=3, a=2, b=1) = }\")"
   ]
  },
  {
   "attachments": {},
   "cell_type": "markdown",
   "metadata": {},
   "source": [
    "Som et annet eksempel, la oss si vi ønsker å finne funksjonsverdien i samme punkt $x = 3$, men nå er stigningstallet $a = -1$ og konstantleddet er $b = 2$. Da får vi"
   ]
  },
  {
   "cell_type": "code",
   "execution_count": 3,
   "metadata": {},
   "outputs": [
    {
     "name": "stdout",
     "output_type": "stream",
     "text": [
      "f(x=3, a=-1, b=2) = -1\n"
     ]
    }
   ],
   "source": [
    "print(f\"{f(x=3, a=-1, b=2) = }\")"
   ]
  },
  {
   "attachments": {},
   "cell_type": "markdown",
   "metadata": {},
   "source": [
    "Fordelen her ligger i at koden blir veldig fleksibel fordi vi kan bare bytte verdiene til $a$ og $b$ for å regne ut funksjonsverdien til en helt annen lineær funksjon."
   ]
  },
  {
   "attachments": {},
   "cell_type": "markdown",
   "metadata": {},
   "source": [
    "## Øvingsoppgaver til funksjoner med konstanter"
   ]
  },
  {
   "attachments": {},
   "cell_type": "markdown",
   "metadata": {},
   "source": [
    "### Øvingsoppgave 1\n",
    "\n",
    "Skriv en Pythonfunksjon for en generell andregradsfunksjon \n",
    "\n",
    "$$\n",
    "f(x) = ax^2 + bx + c,\n",
    "$$\n",
    "\n",
    "og bruk denne til å regne ut funksjonsverdien til \n",
    "\n",
    "$$\n",
    "r(x) = 2x^2 + 3x + 1,\n",
    "$$\n",
    "\n",
    "i $x = 3$.\n",
    "\n",
    "*Du kan bruke kodeskallet under for å komme i gang. Du må fylle inn der det står `NotImplemented`.*"
   ]
  },
  {
   "cell_type": "code",
   "execution_count": 1,
   "metadata": {},
   "outputs": [
    {
     "name": "stdout",
     "output_type": "stream",
     "text": [
      "f(x=NotImplemented, a=NotImplemented, b=NotImplemented, c=NotImplemented) = NotImplemented\n"
     ]
    }
   ],
   "source": [
    "def f(x, a, b, c):\n",
    "    return NotImplemented\n",
    "\n",
    "print(f\"{f(x=NotImplemented, a=NotImplemented, b=NotImplemented, c=NotImplemented) = }\")"
   ]
  },
  {
   "attachments": {},
   "cell_type": "markdown",
   "metadata": {},
   "source": [
    "```{dropdown} Løsningsforslag\n",
    "def f(x, a, b, c):\n",
    "    return a * x**2 + b*x + c\n",
    "\n",
    "print(f\"{f(x=3, a=2, b=3, c=1) = }\")\n",
    "```"
   ]
  },
  {
   "attachments": {},
   "cell_type": "markdown",
   "metadata": {},
   "source": [
    "### Øvingsoppgave 2\n",
    "\n",
    "Skriv en Pythonfunksjon for en generell tredjegradsfunksjon\n",
    "\n",
    "$$\n",
    "g(x) = ax^3 + bx^2 + cx + d,\n",
    "$$\n",
    "\n",
    "og bruk denne til å regne ut funksjonsverdien til\n",
    "\n",
    "$$\n",
    "l(x) = 3x^3 + 2x^2 - x + 1,\n",
    "$$\n",
    "\n",
    "i $x = -1$. \n",
    "\n",
    "*Du kan bruke kodeskallet under for å komme i gang. Du må fylle inn der det står `NotImplemented`.*"
   ]
  },
  {
   "cell_type": "code",
   "execution_count": 3,
   "metadata": {},
   "outputs": [
    {
     "name": "stdout",
     "output_type": "stream",
     "text": [
      "g(NotImplemented) = NotImplemented\n"
     ]
    }
   ],
   "source": [
    "def g(NotImplemented):\n",
    "    return NotImplemented\n",
    "\n",
    "print(f\"{g(NotImplemented) = }\")"
   ]
  },
  {
   "attachments": {},
   "cell_type": "markdown",
   "metadata": {},
   "source": [
    "````{dropdown} Løsningsforslag\n",
    "\n",
    "```python\n",
    "def g(x, a, b, c, d):\n",
    "    return a*x**3 + b*x**2 + c*x + d\n",
    "\n",
    "print(f\"{g(x=-1, a=3, b=2, c=-1, d=1) = }\")\n",
    "```\n",
    "\n",
    "````"
   ]
  }
 ],
 "metadata": {
  "kernelspec": {
   "display_name": "Python 3",
   "language": "python",
   "name": "python3"
  },
  "language_info": {
   "codemirror_mode": {
    "name": "ipython",
    "version": 3
   },
   "file_extension": ".py",
   "mimetype": "text/x-python",
   "name": "python",
   "nbconvert_exporter": "python",
   "pygments_lexer": "ipython3",
   "version": "3.11.3"
  },
  "orig_nbformat": 4
 },
 "nbformat": 4,
 "nbformat_minor": 2
}
