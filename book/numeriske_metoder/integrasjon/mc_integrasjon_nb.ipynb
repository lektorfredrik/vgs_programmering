{
 "cells": [
  {
   "attachments": {},
   "cell_type": "markdown",
   "metadata": {},
   "source": [
    "# Monte Carlo Integrasjon (Matematikk S2)\n"
   ]
  },
  {
   "attachments": {},
   "cell_type": "markdown",
   "metadata": {},
   "source": [
    "## Bakgrunnsteori\n",
    "\n",
    "Vi skal nå se på en metode for å tilnærme integralet ved å bruke teorien for kontinuerlige stokastiske variabler.\n",
    "Vi ønsker å løse integralet\n",
    "\n",
    "$$\n",
    "I = \\int\\limits_a^b f(x) \\, dx. \n",
    "$$\n",
    "\n",
    "Vi tenker oss at $p(x)$ er en uniform sannsynlighetsfordeling på intervallet $[a, b]$, slik at\n",
    "\n",
    "$p(x) = 1/(b-a)$ for $x \\in [a, b]$, og $p(x) = 0$ ellers.\n",
    "\n",
    "Vi kan trikse litt med integralet slik at vi får\n",
    "\n",
    "$$\n",
    "I = \\int\\limits_a^b f(x) \\, dx = \\int\\limits_a^b \\frac{f(x)}{p(x)}p(x) \\, dx = (b-a)\\int\\limits_a^b f(x)p(x) \\, dx = (b-a)E[f(X)].\n",
    "$$\n",
    "\n",
    "Integralet kan altså skrives som forventningsverdien av $f(X)$. Vi kan tilnærme denne forventningsverdien ved å trekke $N$ tilfeldige tall av $X$ fra sannsynlighetsfordelingen $p(x)$, og regne ut gjennomsnittet av $f(X)$! Med andre ord\n",
    "\n",
    "$$\n",
    "I = \\int\\limits_a^b f(x) \\, dx \\approx \\frac{b-a}{N}\\sum\\limits_{i=1}^{N} f(x_i),\n",
    "$$\n",
    "\n",
    "der $x_1, x_2, ..., x_N$ er $N$ tilfeldige tall trukket fra $p(x)$."
   ]
  },
  {
   "attachments": {},
   "cell_type": "markdown",
   "metadata": {},
   "source": [
    "## Eksempler"
   ]
  },
  {
   "attachments": {},
   "cell_type": "markdown",
   "metadata": {},
   "source": [
    "### Eksempel 1: Tilnærming av $\\pi$\n",
    "\n",
    "Vi kan bruke Monte Carlo integrasjon til å tilnærme integralet\n",
    "\n",
    "$$\n",
    "I = \\int\\limits_0^1 \\frac{4}{1 + x^2} \\, dx.\n",
    "$$\n",
    "\n",
    "Dersom vi bruker en uniform fordeling \n",
    "\n",
    "$$\n",
    "p(x) = \n",
    "\\begin{cases}\n",
    "1 & \\text{for } x \\in [0, 1], \\\\\n",
    "0 & \\text{ellers},\n",
    "\\end{cases}\n",
    "$$\n",
    "\n",
    "så sier teorien at vi kan tilnærme integralet ved\n",
    "\n",
    "$$\n",
    "I = \\int\\limits_0^1 4\\sqrt{1 + x^2} \\, dx \\approx \\frac{1}{N}\\sum\\limits_{i=1}^{N} \\frac{4}{1 + x_i^2},\n",
    "$$\n",
    "\n",
    "der $x_i$ for $i = 1, 2, \\ldots, N$ er tilfeldige tall trukket fra den uniforme fordelingen $p(x)$.\n",
    "\n",
    "Dette kan vi programmere med følgende kode:"
   ]
  },
  {
   "cell_type": "code",
   "execution_count": 15,
   "metadata": {},
   "outputs": [
    {
     "name": "stdout",
     "output_type": "stream",
     "text": [
      "I = 3.141858\n"
     ]
    }
   ],
   "source": [
    "import numpy as np # trekke tilfeldige tall. \n",
    "def f(x):\n",
    "    return 4/(1 + x**2)\n",
    "\n",
    "I = 0\n",
    "N = 1_000_000\n",
    "for _ in range(N):\n",
    "    x = np.random.uniform(0, 1)\n",
    "    I += f(x)\n",
    "I /= N # Deler på N for å få gjennomsnittet.\n",
    "print(f\"{I = :.6f}\")\n",
    "\n",
    "\n"
   ]
  },
  {
   "attachments": {},
   "cell_type": "markdown",
   "metadata": {},
   "source": [
    "### Eksempel 2: Tilnærming av integralet av en normalfordeling\n",
    "\n",
    "Tenk deg at vi skal tilnærme integralet\n",
    "\n",
    "$$\n",
    "\\int_{-1}^1 \\frac{1}{\\sqrt{2\\pi}}e^{-x^2/2} \\, dx.\n",
    "$$\n",
    "\n",
    "Fra teorien om normalfordelinger, vet vi at dette skal være omtrent 68% (0.68 på desimalform) fordi integranden er en standardnormalfordeling ($\\mu = 0$ og $\\sigma = 1$), og vi integrerer derfor over et intervall som tilsvarer $\\mu \\pm \\sigma$. \n",
    "\n",
    "Her kan vi velge den uniforme fordelingen\n",
    "\n",
    "$$\n",
    "p(x) = \n",
    "\\begin{cases}\n",
    "\\frac{1}{2} & \\text{for } x \\in [-1, 1], \\\\\n",
    "0 & \\text{ellers}.\n",
    "\\end{cases}\n",
    "$$\n",
    "\n",
    "Anvender vi teorien for Monte Carlo integrasjon, får vi da at integralet kan tilnærmes med \n",
    "\n",
    "$$\n",
    "\\int_{-1}^1 \\frac{1}{\\sqrt{2\\pi}}e^{-x^2/2} \\, dx \\approx \\frac{2}{N}\\sum_{i=1}^N \\frac{1}{\\sqrt{2\\pi}}e^{-x_i^2/2},\n",
    "$$\n",
    "\n",
    "En Pythonkode som implementerer dette er som følger: "
   ]
  },
  {
   "cell_type": "code",
   "execution_count": 16,
   "metadata": {},
   "outputs": [
    {
     "name": "stdout",
     "output_type": "stream",
     "text": [
      "I = 0.682772\n"
     ]
    }
   ],
   "source": [
    "import numpy as np # importeres for exp(x), pi, og for å trekke tilfeldige tall.\n",
    "\n",
    "def f(x):\n",
    "    return 1 / np.sqrt(2 * np.pi) * np.exp(-x**2 / 2)\n",
    "\n",
    "I = 0\n",
    "N = 1_000_000\n",
    "for _ in range(N):\n",
    "    x = np.random.uniform(-1, 1)\n",
    "    I += f(x)\n",
    "\n",
    "I *= 2 # Ganger med 2 fordi b - a = 2 (størrelsen på intervallet)\n",
    "I /= N # Deler på N for å få gjennomsnittet.\n",
    "print(f\"{I = :.6f}\")"
   ]
  },
  {
   "attachments": {},
   "cell_type": "markdown",
   "metadata": {},
   "source": [
    "## Øvingsoppgaver"
   ]
  },
  {
   "attachments": {},
   "cell_type": "markdown",
   "metadata": {},
   "source": [
    "### Øvingsoppgave 1\n",
    "\n",
    "Bruk Monte Carlo integrasjon til å tilnærme verdien av integralet \n",
    "\n",
    "$$\n",
    "I = \\int\\limits_0^1 x^2 \\, dx.\n",
    "$$\n",
    "\n",
    "*Du kan ta utgangspunkt i kodeskallet under til å løse oppgaven. Du må fylle inn der det står `NotImplemented`.*"
   ]
  },
  {
   "cell_type": "code",
   "execution_count": null,
   "metadata": {},
   "outputs": [],
   "source": [
    "import numpy as np # trengs for å trekke tilfeldige tall med np.random.uniform\n",
    "def f(x):\n",
    "    \"\"\"Funksjonen som skal integreres (integranden).\"\"\"\n",
    "    return NotImplemented\n",
    "\n",
    "I = NotImplemented\n",
    "N = NotImplemented\n",
    "for _ in NotImplemented: # Hvis loop-variabelene er `_`, betyr det bare at vi ikke bruker den til noe.\n",
    "    x = NotImplemented\n",
    "    I = NotImplemented\n",
    "\n",
    "I *= NotImplemented # Hva er størrelsen på intervallet?\n",
    "I /= NotImplemented # Hvor mange punkter har vi brukt?\n",
    "\n",
    "print(f\"{I = :.6f}\")"
   ]
  },
  {
   "attachments": {},
   "cell_type": "markdown",
   "metadata": {},
   "source": [
    "````{dropdown} Løsningsforslag\n",
    "\n",
    "Her kan vi velge den uniforme fordelingen \n",
    "\n",
    "$$\n",
    "p(x) = \n",
    "\\begin{cases}\n",
    "\n",
    "1 & \\text{for } x \\in [0, 1], \\\\\n",
    "0 & \\text{ellers}.\n",
    "$$\n",
    "\n",
    "Da kan vi tilnærme integralet med\n",
    "\n",
    "$$\n",
    "I = \\int\\limits_0^1 x^2 \\, dx \\approx \\frac{1}{N}\\sum\\limits_{i=1}^{N} x_i^2,\n",
    "$$\n",
    "\n",
    "der $x_i$ er tilfeldige tall trukket fra den uniforme fordelingen $p(x)$.\n",
    "\n",
    "En Pythonkode som implementerer denne løsninger er:\n",
    "\n",
    "```python\n",
    "import numpy as np\n",
    "def f(x):\n",
    "    return x**2\n",
    "\n",
    "I = 0\n",
    "N = 1_000_000\n",
    "for _ in range(N):\n",
    "    x = np.random.uniform(0, 1)\n",
    "    I = I + f(x)\n",
    "\n",
    "I *= 1 \n",
    "I /= N \n",
    "\n",
    "print(f\"{I = :.6f}\")\n",
    "```\n",
    "\n",
    "\n",
    "````"
   ]
  }
 ],
 "metadata": {
  "kernelspec": {
   "display_name": "Python 3",
   "language": "python",
   "name": "python3"
  },
  "language_info": {
   "codemirror_mode": {
    "name": "ipython",
    "version": 3
   },
   "file_extension": ".py",
   "mimetype": "text/x-python",
   "name": "python",
   "nbconvert_exporter": "python",
   "pygments_lexer": "ipython3",
   "version": "3.11.4"
  },
  "orig_nbformat": 4
 },
 "nbformat": 4,
 "nbformat_minor": 2
}
