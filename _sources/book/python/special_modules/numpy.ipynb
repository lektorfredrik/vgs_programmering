{
 "cells": [
  {
   "attachments": {},
   "cell_type": "markdown",
   "metadata": {},
   "source": [
    "# Fast asf kode med `numpy`"
   ]
  },
  {
   "attachments": {},
   "cell_type": "markdown",
   "metadata": {},
   "source": [
    "`numpy` er et bibliotek for **num**erisk **py**thon. `numpy` sitt bidrag til oss proggere er \n",
    "\n",
    "- `numpy`-arrayet, som er en effektiv datatype for å lagre og manipulere store mengder data samtidig.\n",
    "- Innebygde funksjoner for alle de [elementære matematiske funksjonene](../funksjoner/element%C3%A6re_funksjoner.ipynb).\n",
    "- Innebygde funksjoner for å trekke tilfeldig tall fra mange sannsynlighetsfordelinger.\n",
    "- Funksjonalitet for å regne på mange tall samtidig, uten å bruke `for`-løkker."
   ]
  },
  {
   "attachments": {},
   "cell_type": "markdown",
   "metadata": {},
   "source": [
    "## `numpy`-array\n",
    "\n",
    "Det grunnleggende objektet i `numpy` er `numpy`-arrayet. Dette er en datatype som er spesiallaget for å lagre og manipulere store mengder data samtidig.\n",
    "Du kan tenke på et `numpy`-array som en [liste](../containers/lists.ipynb), men i motsetning til lister, så kan vi gjøre en operasjon på flere av elementene i et `numpy`-array samtidig. Dette gjør at `numpy`-arrays er mye raskere enn lister når vi skal gjøre operasjoner på mange elementer samtidig. Denne formen for programmering kalles for øvrig for **vektorisering**. \n"
   ]
  },
  {
   "cell_type": "markdown",
   "metadata": {},
   "source": [
    "### Hvordan Lage `numpy`-arrays\n",
    "\n",
    "Det er flere måter å lage `numpy`-arrays på."
   ]
  },
  {
   "cell_type": "markdown",
   "metadata": {},
   "source": [
    "#### Lage et `numpy`-array fra en liste\n",
    "\n",
    "Vi kan lage et `numpy`-array fra en liste ved å bruke funksjonen `np.array()`."
   ]
  },
  {
   "cell_type": "code",
   "execution_count": 3,
   "metadata": {},
   "outputs": [
    {
     "name": "stdout",
     "output_type": "stream",
     "text": [
      "[1 2 3]\n"
     ]
    }
   ],
   "source": [
    "import numpy as np\n",
    "\n",
    "min_liste = [1, 2, 3]\n",
    "mitt_array = np.array(min_liste)\n",
    "\n",
    "print(mitt_array)"
   ]
  },
  {
   "cell_type": "markdown",
   "metadata": {},
   "source": [
    "#### Lage et `numpy`-array fylt med nuller\n",
    "\n",
    "Ofte ønsker vi å lage et tomt array med en bestemt lengde som vi har tenkt til å fylle opp med verdier. Da kan vi bruke funksjonen `np.zeros()`."
   ]
  },
  {
   "cell_type": "code",
   "execution_count": 4,
   "metadata": {},
   "outputs": [
    {
     "name": "stdout",
     "output_type": "stream",
     "text": [
      "[0. 0. 0. 0. 0. 0. 0. 0. 0. 0.]\n"
     ]
    }
   ],
   "source": [
    "arr = np.zeros(shape=10) # lager et array med lengde 10 fylt med tallet 0\n",
    "print(arr)"
   ]
  },
  {
   "cell_type": "markdown",
   "metadata": {},
   "source": [
    "#### Lage et `numpy`-array med jevnt fordelte tall mellom to verdier\n",
    "\n",
    "I noen anvendelser, ønsker vi å lage et array der elementene er jevnt fordelt mellom to verdier. Da kan vi bruke funksjonen `numpy.linspace`. Denne funksjonen tar tre argumenter: \n",
    "- `start`: startverdien på intervallet \n",
    "- `stop`: sluttverdien på intervallet\n",
    "- `num`: antall elementer i arrayet.\n",
    "\n",
    "For eksempel kan vi lage et array med 10 jevnt fordelte tall mellom 0 og 1 slik:"
   ]
  },
  {
   "cell_type": "code",
   "execution_count": 5,
   "metadata": {},
   "outputs": [
    {
     "name": "stdout",
     "output_type": "stream",
     "text": [
      "[0.         0.11111111 0.22222222 0.33333333 0.44444444 0.55555556\n",
      " 0.66666667 0.77777778 0.88888889 1.        ]\n"
     ]
    }
   ],
   "source": [
    "arr = np.linspace(start=0, stop=1, num=10)\n",
    "print(arr)"
   ]
  },
  {
   "cell_type": "markdown",
   "metadata": {},
   "source": [
    "Strengt tatt, kan vi også bare skrive slik:"
   ]
  },
  {
   "cell_type": "code",
   "execution_count": 6,
   "metadata": {},
   "outputs": [
    {
     "name": "stdout",
     "output_type": "stream",
     "text": [
      "[0.         0.11111111 0.22222222 0.33333333 0.44444444 0.55555556\n",
      " 0.66666667 0.77777778 0.88888889 1.        ]\n"
     ]
    }
   ],
   "source": [
    "arr = np.linspace(0, 1, 10)\n",
    "print(arr)"
   ]
  },
  {
   "cell_type": "markdown",
   "metadata": {},
   "source": [
    "Vi trenger altså ikke å bruke nøkkelordene `start`, `stop` og `num` direkte, men hvis vi ikke gjør det må vi sende inn tallene i riktig rekkefølge. Fordelen med å bruke nøkkelordene, er at vi kan skrive dem i hvilken som helst rekkefølge. For eksempel gir dette akkurat samme resultat:"
   ]
  },
  {
   "cell_type": "code",
   "execution_count": 7,
   "metadata": {},
   "outputs": [
    {
     "name": "stdout",
     "output_type": "stream",
     "text": [
      "[0.         0.11111111 0.22222222 0.33333333 0.44444444 0.55555556\n",
      " 0.66666667 0.77777778 0.88888889 1.        ]\n"
     ]
    }
   ],
   "source": [
    "arr = np.linspace(stop=1, num=10, start=0)\n",
    "print(arr)"
   ]
  }
 ],
 "metadata": {
  "kernelspec": {
   "display_name": "Python 3",
   "language": "python",
   "name": "python3"
  },
  "language_info": {
   "codemirror_mode": {
    "name": "ipython",
    "version": 3
   },
   "file_extension": ".py",
   "mimetype": "text/x-python",
   "name": "python",
   "nbconvert_exporter": "python",
   "pygments_lexer": "ipython3",
   "version": "3.11.4"
  },
  "orig_nbformat": 4
 },
 "nbformat": 4,
 "nbformat_minor": 2
}
