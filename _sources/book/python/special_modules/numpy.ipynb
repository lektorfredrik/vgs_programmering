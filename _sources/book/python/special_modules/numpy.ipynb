{
 "cells": [
  {
   "attachments": {},
   "cell_type": "markdown",
   "metadata": {},
   "source": [
    "# Fast asf kode med `numpy`"
   ]
  },
  {
   "attachments": {},
   "cell_type": "markdown",
   "metadata": {},
   "source": [
    "`numpy` er et bibliotek for **num**erisk **py**thon. `numpy` sitt bidrag til oss proggere er \n",
    "\n",
    "-  `numpy`-arrayet, som er en effektiv datatype for å lagre og manipulere store mengder data samtidig. Du kan lese mer om `numpy`-arrays i detalj [her](../containers/numpy_arrays.ipynb).\n",
    "-  Innebygde funksjoner for alle de [elementære matematiske funksjonene](../funksjoner/element%C3%A6re_funksjoner_nb.ipynb)\n",
    "-  Innebygde funksjoner for å trekke tilfeldig tall fra mange sannsynlighetsfordelinger.\n"
   ]
  },
  {
   "attachments": {},
   "cell_type": "markdown",
   "metadata": {},
   "source": [
    "## `numpy`-array\n",
    "\n",
    "Det grunnleggende objektet i `numpy` er `numpy`-arrayet. Dette er en datatype som er spesiallaget for å lagre og manipulere store mengder data samtidig.\n",
    "Du kan tenke på et `numpy`-array som en [liste](../containers/lists.ipynb), men i motsetning til lister, så kan vi gjøre en operasjon på flere av elementene i et `numpy`-array samtidig. Dette gjør at `numpy`-arrays er mye raskere enn lister når vi skal gjøre operasjoner på mange elementer samtidig. Denne formen for programmering kalles for øvrig for **vektorisering**."
   ]
  }
 ],
 "metadata": {
  "language_info": {
   "name": "python"
  },
  "orig_nbformat": 4
 },
 "nbformat": 4,
 "nbformat_minor": 2
}
