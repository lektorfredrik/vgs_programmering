{
 "cells": [
  {
   "attachments": {},
   "cell_type": "markdown",
   "metadata": {},
   "source": [
    "# Fast asf kode med `numpy`"
   ]
  },
  {
   "attachments": {},
   "cell_type": "markdown",
   "metadata": {},
   "source": [
    "`numpy` er et bibliotek for **num**erisk **py**thon. `numpy` sitt bidrag til oss proggere er \n",
    "\n",
    "- `numpy`-arrayet, som er en effektiv datatype for å lagre og manipulere store mengder data samtidig.\n",
    "- Innebygde funksjoner for alle de [elementære matematiske funksjonene](../funksjoner/element%C3%A6re_funksjoner.ipynb).\n",
    "- Innebygde funksjoner for å trekke tilfeldig tall fra mange sannsynlighetsfordelinger.\n",
    "- Funksjonalitet for å regne på mange tall samtidig, uten å bruke `for`-løkker."
   ]
  },
  {
   "attachments": {},
   "cell_type": "markdown",
   "metadata": {},
   "source": [
    "## `numpy`-array\n",
    "\n",
    "Det grunnleggende objektet i `numpy` er `numpy`-arrayet. Dette er en datatype som er spesiallaget for å lagre og manipulere store mengder data samtidig.\n",
    "Du kan tenke på et `numpy`-array som en [liste](../containers/lists.ipynb), men i motsetning til lister, så kan vi gjøre en operasjon på flere av elementene i et `numpy`-array samtidig. Dette gjør at `numpy`-arrays er mye raskere enn lister når vi skal gjøre operasjoner på mange elementer samtidig. Denne formen for programmering kalles for øvrig for **vektorisering**. \n"
   ]
  },
  {
   "cell_type": "markdown",
   "metadata": {},
   "source": [
    "### Lage `numpy`-array\n",
    "\n",
    "Det er flere måter å lage `numpy`-arrays på."
   ]
  },
  {
   "cell_type": "markdown",
   "metadata": {},
   "source": [
    "#### Lage et `numpy`-array fra en liste\n",
    "\n",
    "Vi kan lage et `numpy`-array fra en liste ved å bruke funksjonen `np.array()`."
   ]
  },
  {
   "cell_type": "code",
   "execution_count": 1,
   "metadata": {},
   "outputs": [],
   "source": [
    "import numpy as np\n",
    "\n",
    "min_liste = [1, 2, 3]\n",
    "mitt_array = np.array(min_liste)"
   ]
  },
  {
   "cell_type": "markdown",
   "metadata": {},
   "source": [
    "#### Lage et `numpy`-array fylt med nuller\n",
    "\n",
    "Ofte ønsker vi å lage et tomt array med en bestemt lengde som vi har tenkt til å fylle opp med verdier. Da kan vi bruke funksjonen `np.zeros()`."
   ]
  },
  {
   "cell_type": "code",
   "execution_count": 5,
   "metadata": {},
   "outputs": [
    {
     "name": "stdout",
     "output_type": "stream",
     "text": [
      "[0. 0. 0. 0. 0. 0. 0. 0. 0. 0.]\n"
     ]
    }
   ],
   "source": [
    "arr = np.zeros(shape=10) # lager et array med lengde 10 fylt med tallet 0\n",
    "print(arr)"
   ]
  },
  {
   "cell_type": "markdown",
   "metadata": {},
   "source": []
  }
 ],
 "metadata": {
  "kernelspec": {
   "display_name": "Python 3",
   "language": "python",
   "name": "python3"
  },
  "language_info": {
   "codemirror_mode": {
    "name": "ipython",
    "version": 3
   },
   "file_extension": ".py",
   "mimetype": "text/x-python",
   "name": "python",
   "nbconvert_exporter": "python",
   "pygments_lexer": "ipython3",
   "version": "3.11.4"
  },
  "orig_nbformat": 4
 },
 "nbformat": 4,
 "nbformat_minor": 2
}
