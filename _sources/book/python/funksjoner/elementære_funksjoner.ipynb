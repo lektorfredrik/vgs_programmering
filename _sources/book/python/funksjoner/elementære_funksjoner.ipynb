{
 "cells": [
  {
   "attachments": {},
   "cell_type": "markdown",
   "metadata": {},
   "source": [
    "# Elementære (Matematiske) Funksjoner i Python\n",
    "\n",
    "Mange funksjoner kan uttrykkes ved hjelp av elementære funksjoner. Vi skal se på noen eksempler på hvordan vi kan skrive disse i Python. Men først oppgir vi en liste over de viktigste elementære funksjonene som dukker opp i matematikken så vi har en oversikt over dem.\n",
    "\n",
    "```{admonition}  Liste over elementære funksjoner\n",
    ":class: tip\n",
    "Elementære funksjoner i Python kan hentes fra to biblioteker. De to er:\n",
    "1. `math`-biblioteket. Det kan beregne funksjonsverdien for inputs med datatypene `int` og `float`.\n",
    "2. `numpy`-biblioteket. Det kan regne ut funksjonsverdien for inputs med datatypene `int`, `float` og `numpy.ndarray`.\n",
    "\n",
    "| Funksjon $f(x)$ | Innebygd i Python | `math` | `numpy` |\n",
    "| --- | --- | --- | --- |\n",
    "| $\\|x\\|$ | `abs(x)`| - | `numpy.abs(x)` |\n",
    "| $x^a$ | `x ** a` | - |`numpy.power(x, a)` |\n",
    "| $e^x$ | - |`math.exp(x)` | `numpy.exp(x)` |\n",
    "|$ a^x $ | `a ** x` | - |`numpy.power(a, x)` |\n",
    "| $\\ln(x)$ | - |`math.log(x)` | `numpy.log(x)` |\n",
    "| $\\log_a(x)$ | - |`math.log(x, a)` | `numpy.log(x, a)` |\n",
    "| $\\log_{10}(x)$ | - |`math.log10(x)` | `numpy.log10(x)` |\n",
    "| $\\sqrt{x}$ | `x ** 0.5` |`math.sqrt(x)` | `numpy.sqrt(x)` |\n",
    "| $\\sin(x)$ | - |`math.sin(x)` | `numpy.sin(x)` |\n",
    "| $\\cos(x)$ | - |`math.cos(x)` | `numpy.cos(x)` |\n",
    "| $\\tan(x)$ | - |`math.tan(x)` | `numpy.tan(x)` |\n",
    "\n",
    "\n",
    "```"
   ]
  },
  {
   "attachments": {},
   "cell_type": "markdown",
   "metadata": {},
   "source": [
    "## Eksempler på Pythonfunksjoner med elementære funksjoner med `math`-biblioteket"
   ]
  },
  {
   "attachments": {},
   "cell_type": "markdown",
   "metadata": {},
   "source": [
    "### Eksempel 1:\n",
    "\n",
    "La oss se på hvordan vi kan definere en Pythonfunksjon for\n",
    "\n",
    "$$\n",
    "f(x) = x^2 e^{-x} + \\sqrt{x}\n",
    "$$\n",
    "\n",
    "ved å bruke biblioteket `math`. "
   ]
  },
  {
   "cell_type": "code",
   "execution_count": 6,
   "metadata": {},
   "outputs": [],
   "source": [
    "import math\n",
    "def f(x):\n",
    "    return x**2 * math.exp(-x) + math.sqrt(x)"
   ]
  },
  {
   "attachments": {},
   "cell_type": "markdown",
   "metadata": {},
   "source": [
    "Vi kan her regne ut funksjonsverdien for ett enkelt tall, for eksempel $x = 5$:"
   ]
  },
  {
   "cell_type": "code",
   "execution_count": 12,
   "metadata": {},
   "outputs": [
    {
     "name": "stdout",
     "output_type": "stream",
     "text": [
      "f(x=5) = 1.4455923778137878\n"
     ]
    }
   ],
   "source": [
    "print(f\"{f(x=5) = }\")"
   ]
  },
  {
   "attachments": {},
   "cell_type": "markdown",
   "metadata": {},
   "source": [
    "### Eksempel 2:\n",
    "\n",
    "La oss se på hvordan vi kan definere en Pythonfunksjon for \n",
    "\n",
    "$$\n",
    "g(x) = e^{-x^2}\\ln (x)\n",
    "$$"
   ]
  },
  {
   "cell_type": "code",
   "execution_count": 15,
   "metadata": {},
   "outputs": [],
   "source": [
    "import math\n",
    "def g(x):\n",
    "    return math.exp(-x**2) * math.log(x)"
   ]
  },
  {
   "attachments": {},
   "cell_type": "markdown",
   "metadata": {},
   "source": [
    "Vi kan regne ut funksjonsverdien for ett enkelt tall, for eksempel $x = 2$:"
   ]
  },
  {
   "cell_type": "code",
   "execution_count": 16,
   "metadata": {},
   "outputs": [
    {
     "name": "stdout",
     "output_type": "stream",
     "text": [
      "g(x=2) = 0.012695433455880185\n"
     ]
    }
   ],
   "source": [
    "print(f\"{g(x=2) = }\")"
   ]
  },
  {
   "attachments": {},
   "cell_type": "markdown",
   "metadata": {},
   "source": [
    "### Eksempel 3: Funksjonsuttrykk med trigonometriske funksjoner (Matematikk R2)\n",
    "\n",
    "La oss se på hvordan vi kan definere en Pythonfunksjon for\n",
    "\n",
    "$$\n",
    "h(x) = x^2\\sin x + \\cos^2 x + \\frac{1}{1 + \\tan^2 x}\n",
    "$$"
   ]
  },
  {
   "cell_type": "code",
   "execution_count": 21,
   "metadata": {},
   "outputs": [],
   "source": [
    "import math\n",
    "def h(x):\n",
    "    return x**2 * math.sin(x) * math.cos(x)**2 + 1 / (1 + math.tan(x)**2)"
   ]
  },
  {
   "attachments": {},
   "cell_type": "markdown",
   "metadata": {},
   "source": [
    "Vi kan da regne ut funksjonsverdier, for eksempel i $x = \\pi / 4$ med\n",
    "\n",
    "```{admonition} Hvordan hente ut $\\pi$ i Python?\n",
    ":class: tip, dropdown\n",
    "\n",
    "Den matematiske konstanten $\\pi$ er tilgjengelig gjennom\n",
    "1. `math.pi` i `math`-biblioteket\n",
    "2. `numpy.pi` i `numpy`-biblioteket\n",
    "```\n",
    "\n"
   ]
  },
  {
   "cell_type": "code",
   "execution_count": 22,
   "metadata": {},
   "outputs": [
    {
     "name": "stdout",
     "output_type": "stream",
     "text": [
      "h(x=math.pi / 4) = 0.7180895062387151\n"
     ]
    }
   ],
   "source": [
    "print(f\"{h(x=math.pi / 4) = }\")"
   ]
  },
  {
   "attachments": {},
   "cell_type": "markdown",
   "metadata": {},
   "source": [
    "## Øvingsoppgaver"
   ]
  },
  {
   "attachments": {},
   "cell_type": "markdown",
   "metadata": {},
   "source": [
    "### Øvingsoppgave 1\n",
    "\n",
    "Lag en Pythonfunksjon for \n",
    "\n",
    "$$\n",
    "f(x) = \\sqrt{x^3} e^{-2x} + \\frac{1}{x}.\n",
    "$$\n",
    "\n",
    "Bruk funksjonen til å regne ut funksjonsverdien i $x = 1$.\n",
    "\n",
    "*Du finner et kodeskall under du kan ta utgangspunkt i. Du må fylle inn delene som er `NotImplemented`*."
   ]
  },
  {
   "cell_type": "code",
   "execution_count": 24,
   "metadata": {},
   "outputs": [],
   "source": [
    "import math\n",
    "def f(x):\n",
    "    return NotImplemented\n",
    "\n",
    "print(f\"{f(x=NotImplemented) = }\")"
   ]
  },
  {
   "attachments": {},
   "cell_type": "markdown",
   "metadata": {},
   "source": [
    "````{dropdown} Løsningsforslag\n",
    "\n",
    "```python\n",
    "import math\n",
    "def f(x):\n",
    "    return math.sqrt(x**3) * math.exp(-2*x) + 1/x\n",
    "\n",
    "print(f\"{f(x=1) = }\") \n",
    "```\n",
    "\n",
    "````"
   ]
  },
  {
   "attachments": {},
   "cell_type": "markdown",
   "metadata": {},
   "source": [
    "### Øvingsoppgave 2\n",
    "\n",
    "Lag en Pythonfunksjon for\n",
    "\n",
    "$$\n",
    "g(x) = x^2 e^{-x^2/2} - \\frac{\\ln x^2}{\\sqrt{1 + x^2}}\n",
    "$$\n",
    "\n",
    "og bruk funksjonen til å regne ut funksjonsverdien i $x = 5$."
   ]
  },
  {
   "cell_type": "code",
   "execution_count": 27,
   "metadata": {},
   "outputs": [
    {
     "name": "stdout",
     "output_type": "stream",
     "text": [
      "g(x=NotImplemented) = NotImplemented\n"
     ]
    }
   ],
   "source": [
    "def g(x):\n",
    "    return NotImplemented\n",
    "\n",
    "print(f\"{g(NotImplemented) = }\")"
   ]
  },
  {
   "attachments": {},
   "cell_type": "markdown",
   "metadata": {},
   "source": [
    "````{dropdown} Løsningsforslag\n",
    "\n",
    "```python\n",
    "import math\n",
    "def g(x):\n",
    "    return x**2 * math.exp(-x**2/2) - math.log(x**2) / math.sqrt(1 + x**2)\n",
    "\n",
    "print(f\"{g(x=5) = }\")\n",
    "```\n",
    "\n",
    "````"
   ]
  }
 ],
 "metadata": {
  "kernelspec": {
   "display_name": "Python 3",
   "language": "python",
   "name": "python3"
  },
  "language_info": {
   "codemirror_mode": {
    "name": "ipython",
    "version": 3
   },
   "file_extension": ".py",
   "mimetype": "text/x-python",
   "name": "python",
   "nbconvert_exporter": "python",
   "pygments_lexer": "ipython3",
   "version": "3.11.3"
  },
  "orig_nbformat": 4
 },
 "nbformat": 4,
 "nbformat_minor": 2
}
