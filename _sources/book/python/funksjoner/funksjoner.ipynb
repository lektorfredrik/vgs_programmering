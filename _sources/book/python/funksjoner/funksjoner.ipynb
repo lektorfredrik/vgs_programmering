{
 "cells": [
  {
   "attachments": {},
   "cell_type": "markdown",
   "metadata": {},
   "source": [
    "# Pythonfunksjoner"
   ]
  },
  {
   "attachments": {},
   "cell_type": "markdown",
   "metadata": {},
   "source": [
    "## Introduksjon\n",
    "\n",
    "En funksjon i Python har mange likheter med en funksjon i matematikken. Den generelle måten vi skriver funksjoner på er\n",
    "\n",
    "```python\n",
    "def funksjonsnavn(argument):\n",
    "    # Kodeblokk\n",
    "    return # returner funksjonsverdien\n",
    "```\n",
    "\n",
    "```{Admonition} Forklaring av skrivemåten til funksjoner\n",
    ":class: tip, dropdown\n",
    "\n",
    "Vi må gi en funksjon et `funksjonsnavn` slik at vi kan bruke den i koden vår. I tillegg må vi oppgi\n",
    "\n",
    "- `argument` som er en variabel som vi kan bruke inne i funksjonen. Det kan være mer enn ett argument også, men det skal vi se på senere.\n",
    "- `def` er et *nøkkelord* som forteller Python at vi skal definere en funksjon.\n",
    "- `return` er et *nøkkelord* som forteller Python at vi skal returnere en verdi. Denne verdien vil ofte være en funksjonsverdi.\n",
    "\n",
    "```"
   ]
  },
  {
   "attachments": {},
   "cell_type": "markdown",
   "metadata": {},
   "source": [
    "### Eksempel 1\n",
    "La oss se hvordan man kan definere en Pythonfunksjon for \n",
    "\n",
    "$$\n",
    "f(x) = x^2 - 1.\n",
    "$$\n",
    "\n",
    "Dette kan vi oppnå ved å skrive"
   ]
  },
  {
   "cell_type": "code",
   "execution_count": 2,
   "metadata": {},
   "outputs": [],
   "source": [
    "def f(x):\n",
    "    return x**2 - 1"
   ]
  },
  {
   "attachments": {},
   "cell_type": "markdown",
   "metadata": {},
   "source": [
    "Vi kan regne ut funksjonsverdier med et såkalt *funksjonskall*. Som eksempel, la oss regne ut funksjonsverdien i $x = 2$. Dette kan gjøres på flere måter. Vi viser tre måter her:"
   ]
  },
  {
   "cell_type": "code",
   "execution_count": 4,
   "metadata": {},
   "outputs": [
    {
     "name": "stdout",
     "output_type": "stream",
     "text": [
      "f(2) = 3\n"
     ]
    }
   ],
   "source": [
    "print(f\"{f(2) = }\") # Her sender vi inn at x = 2 uten å referere til navnet `x`."
   ]
  },
  {
   "cell_type": "code",
   "execution_count": 5,
   "metadata": {},
   "outputs": [
    {
     "name": "stdout",
     "output_type": "stream",
     "text": [
      "f(x=2) = 3\n"
     ]
    }
   ],
   "source": [
    "print(f\"{f(x=2) = }\") # Her sender vi inn at x = 2 ved å referere til navnet `x`. Er lettere å lese."
   ]
  },
  {
   "cell_type": "code",
   "execution_count": 6,
   "metadata": {},
   "outputs": [
    {
     "name": "stdout",
     "output_type": "stream",
     "text": [
      "f(x) = 3\n"
     ]
    }
   ],
   "source": [
    "x = 2\n",
    "print(f\"{f(x) = }\") # Her sender vi inn en variabel med navn x, der vi har satt x = 2."
   ]
  },
  {
   "attachments": {},
   "cell_type": "markdown",
   "metadata": {},
   "source": [
    "### Øvingsoppgave 1\n",
    "\n",
    "Lag en Pythonfunksjon for funksjonen\n",
    "\n",
    "$$\n",
    "g(x) = x^3 - 2x^2 + 4x - 1,\n",
    "$$\n",
    "\n",
    "og regn ut funksjonsverdien til $g$ i $x = 5$. \n",
    "\n",
    "*Du kan ta utgangspunkt i kodeskallet under og fylle inn der det står `NotImplemented`*."
   ]
  },
  {
   "cell_type": "code",
   "execution_count": 7,
   "metadata": {},
   "outputs": [
    {
     "name": "stdout",
     "output_type": "stream",
     "text": [
      "g(x=NotImplemented) = NotImplemented\n"
     ]
    }
   ],
   "source": [
    "def g(x):\n",
    "    return NotImplemented\n",
    "\n",
    "print(f\"{g(x=NotImplemented) = }\")"
   ]
  },
  {
   "attachments": {},
   "cell_type": "markdown",
   "metadata": {},
   "source": [
    "````{dropdown} Løsningsforslag\n",
    "```python\n",
    "def g(x):\n",
    "    return x**3 - 2 * x**2 + 4*x - 1\n",
    "\n",
    "print(f\"{g(x=5) = }\")\n",
    "```\n",
    "````"
   ]
  },
  {
   "attachments": {},
   "cell_type": "markdown",
   "metadata": {},
   "source": [
    "### Øvingsoppgave 2\n",
    "\n",
    "Lag en Pythonfunksjon for funksjonen\n",
    "\n",
    "$$\n",
    "h(x) = \\frac{1}{x^2 + 1},\n",
    "$$\n",
    "\n",
    "og regn ut funksjonsverdien til $h$ i $x = -1$."
   ]
  },
  {
   "cell_type": "code",
   "execution_count": 8,
   "metadata": {},
   "outputs": [
    {
     "name": "stdout",
     "output_type": "stream",
     "text": [
      "h(NotImplemented) = NotImplemented\n"
     ]
    }
   ],
   "source": [
    "def h(NotImplemented):\n",
    "    return NotImplemented\n",
    "\n",
    "\n",
    "print(f\"{h(NotImplemented) = }\")"
   ]
  },
  {
   "attachments": {},
   "cell_type": "markdown",
   "metadata": {},
   "source": [
    "````{dropdown} Løsningsforslag\n",
    "\n",
    "```python\n",
    "def h(x):\n",
    "    return 1 / (x**2 + 1)\n",
    "\n",
    "print(f\"{h(x=-1) = }\")\n",
    "```\n",
    "\n",
    "````"
   ]
  }
 ],
 "metadata": {
  "kernelspec": {
   "display_name": "Python 3",
   "language": "python",
   "name": "python3"
  },
  "language_info": {
   "codemirror_mode": {
    "name": "ipython",
    "version": 3
   },
   "file_extension": ".py",
   "mimetype": "text/x-python",
   "name": "python",
   "nbconvert_exporter": "python",
   "pygments_lexer": "ipython3",
   "version": "3.11.3"
  },
  "orig_nbformat": 4
 },
 "nbformat": 4,
 "nbformat_minor": 2
}
