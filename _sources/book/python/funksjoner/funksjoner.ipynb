{
 "cells": [
  {
   "attachments": {},
   "cell_type": "markdown",
   "metadata": {},
   "source": [
    "# Pythonfunksjoner\n",
    "\n",
    "Funksjoner i Python er en langt mer generell sak enn funksjoner i matematikken. Men likevel har de også mange likheter. En funksjon i Python er en oppskrift med instruksjoner, på samme måte som en funksjon i matematikken er et oppskrift på hvordan man regner ut en funksjonsverdi, gitt er verdi for argumentet $x$. Forskjellen er at funksjoner i Python kan inneholde instruksjoner som ikke har noe med matematikk å gjøre. Vi skal likevel starte med å tenke på Pythonfunksjoner som matematiske funksjoner, og så utvide dette til mer generelle funksjoner etterhvert."
   ]
  },
  {
   "attachments": {},
   "cell_type": "markdown",
   "metadata": {},
   "source": [
    "## Introduksjon: Python funksjoner for matematiske funksjoner\n",
    "\n",
    "Den generelle måten vi kan skrive en Pythonfunksjon for en matematisk funksjon $f$ i Python er:\n",
    "\n",
    "```python\n",
    "def f(x):\n",
    "    return # returner funksjonsuttrykket\n",
    "```\n",
    "\n",
    "Vi kan bruke funksjonen `f` til å regne ut funksjonsverdien for et gitt en verdi for argumentet `x`. \n",
    "Det eneste vi må spesifisere er et funksjonsuttrykk (en formel med `x` i seg), så vil funksjonen ta seg av utregningen for oss.\n",
    "\n",
    "\n",
    "```{Admonition} Forklaring av skrivemåten til funksjoner\n",
    ":class: tip, dropdown\n",
    "\n",
    "Definisjonen av en funksjon i Python krever at vi bruker noen *nøkkelord* som forteller Python hva vi ønsker å gjøre.\n",
    "\n",
    "- `def` er et *nøkkelord* som forteller Python at vi skal definere en funksjon.\n",
    "- `return` er et *nøkkelord* som forteller Python at vi skal returnere en verdi. Denne verdien vil ofte være en funksjonsverdi.\n",
    "\n",
    "Samtidig må vi gi funksjonen et funksjonsnavn, som over er `f`, og et argument, som over er `x`.\n",
    "Det går an å gi flere argumenter, men det kommer vi tilbake til senere.\n",
    "\n",
    "```"
   ]
  },
  {
   "attachments": {},
   "cell_type": "markdown",
   "metadata": {},
   "source": [
    "### Eksempel 1\n",
    "La oss se hvordan man kan definere en Pythonfunksjon for \n",
    "\n",
    "$$\n",
    "f(x) = x^2 - 1.\n",
    "$$\n",
    "\n",
    "#### Hvordan definere funksjonsuttrykket?\n",
    "\n",
    "Dette kan vi oppnå ved å skrive"
   ]
  },
  {
   "cell_type": "code",
   "execution_count": 2,
   "metadata": {},
   "outputs": [],
   "source": [
    "def f(x):\n",
    "    return x**2 - 1"
   ]
  },
  {
   "attachments": {},
   "cell_type": "markdown",
   "metadata": {},
   "source": [
    "Her har vi gitt funksjonen navnet `f`, et argument `x` og funkjonsuttrykket er `x**2 - 1`."
   ]
  },
  {
   "attachments": {},
   "cell_type": "markdown",
   "metadata": {},
   "source": [
    "#### Hvordan regne ut funksjonsverdier?\n",
    "\n",
    "Når vi først har definert funksjonen, kan vi bruke den til å regne ut funksjonsverdier. Som eksempel, skal vi regne ut funksjonsverdien i $x = 2$. Dette kan vi gjøre på flere forskjellige måter:"
   ]
  },
  {
   "cell_type": "code",
   "execution_count": 9,
   "metadata": {},
   "outputs": [
    {
     "name": "stdout",
     "output_type": "stream",
     "text": [
      "3\n"
     ]
    }
   ],
   "source": [
    "y = f(2) # Sender inn verdien til x uten å referere til navnet x\n",
    "print(y)"
   ]
  },
  {
   "cell_type": "code",
   "execution_count": 10,
   "metadata": {},
   "outputs": [
    {
     "name": "stdout",
     "output_type": "stream",
     "text": [
      "3\n"
     ]
    }
   ],
   "source": [
    "y = f(x=2) # Sender inn verdien til x ved å referere til navnet x\n",
    "print(y)"
   ]
  },
  {
   "cell_type": "code",
   "execution_count": 11,
   "metadata": {},
   "outputs": [
    {
     "name": "stdout",
     "output_type": "stream",
     "text": [
      "3\n"
     ]
    }
   ],
   "source": [
    "x = 2 # Definerer verdien til x\n",
    "y = f(x) # Sender så x inn i funksjonen, men den har nå verdien 2.\n",
    "print(y)"
   ]
  },
  {
   "cell_type": "code",
   "execution_count": 15,
   "metadata": {},
   "outputs": [
    {
     "name": "stdout",
     "output_type": "stream",
     "text": [
      " f(2) = 3\n",
      " f(x=2) = 3\n"
     ]
    }
   ],
   "source": [
    "# Enda penere formattering av utskriften (f-string-formattering, derfor `f` på starten), vi trenger ikke lagre verdien i en variabel `y` først!\n",
    "print(f\"{ f(2) = }\")\n",
    "print(f\"{ f(x=2) = }\")"
   ]
  },
  {
   "attachments": {},
   "cell_type": "markdown",
   "metadata": {},
   "source": [
    "### Øvingsoppgave 1\n",
    "\n",
    "Lag en Pythonfunksjon for funksjonen\n",
    "\n",
    "$$\n",
    "g(x) = x^3 - 2x^2 + 4x - 1,\n",
    "$$\n",
    "\n",
    "og regn ut funksjonsverdien til $g$ i $x = 5$. \n",
    "\n",
    "*Du kan ta utgangspunkt i kodeskallet under og fylle inn der det står `NotImplemented`*."
   ]
  },
  {
   "cell_type": "code",
   "execution_count": 7,
   "metadata": {},
   "outputs": [
    {
     "name": "stdout",
     "output_type": "stream",
     "text": [
      "g(x=NotImplemented) = NotImplemented\n"
     ]
    }
   ],
   "source": [
    "def g(x):\n",
    "    return NotImplemented\n",
    "\n",
    "print(f\"{g(x=NotImplemented) = }\")"
   ]
  },
  {
   "attachments": {},
   "cell_type": "markdown",
   "metadata": {},
   "source": [
    "````{dropdown} Løsningsforslag\n",
    "```python\n",
    "def g(x):\n",
    "    return x**3 - 2 * x**2 + 4*x - 1\n",
    "\n",
    "print(f\"{g(x=5) = }\")\n",
    "```\n",
    "````"
   ]
  },
  {
   "attachments": {},
   "cell_type": "markdown",
   "metadata": {},
   "source": [
    "### Øvingsoppgave 2\n",
    "\n",
    "Lag en Pythonfunksjon for funksjonen\n",
    "\n",
    "$$\n",
    "h(x) = \\frac{1}{x^2 + 1},\n",
    "$$\n",
    "\n",
    "og regn ut funksjonsverdien til $h$ i $x = -1$."
   ]
  },
  {
   "cell_type": "code",
   "execution_count": 8,
   "metadata": {},
   "outputs": [
    {
     "name": "stdout",
     "output_type": "stream",
     "text": [
      "h(NotImplemented) = NotImplemented\n"
     ]
    }
   ],
   "source": [
    "def h(NotImplemented):\n",
    "    return NotImplemented\n",
    "\n",
    "\n",
    "print(f\"{h(NotImplemented) = }\")"
   ]
  },
  {
   "attachments": {},
   "cell_type": "markdown",
   "metadata": {},
   "source": [
    "````{dropdown} Løsningsforslag\n",
    "\n",
    "```python\n",
    "def h(x):\n",
    "    return 1 / (x**2 + 1)\n",
    "\n",
    "print(f\"{h(x=-1) = }\")\n",
    "```\n",
    "\n",
    "````"
   ]
  }
 ],
 "metadata": {
  "kernelspec": {
   "display_name": "Python 3",
   "language": "python",
   "name": "python3"
  },
  "language_info": {
   "codemirror_mode": {
    "name": "ipython",
    "version": 3
   },
   "file_extension": ".py",
   "mimetype": "text/x-python",
   "name": "python",
   "nbconvert_exporter": "python",
   "pygments_lexer": "ipython3",
   "version": "3.11.3"
  },
  "orig_nbformat": 4
 },
 "nbformat": 4,
 "nbformat_minor": 2
}
