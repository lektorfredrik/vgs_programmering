{
 "cells": [
  {
   "attachments": {},
   "cell_type": "markdown",
   "metadata": {},
   "source": [
    "# Pythonfunksjoner slik proffene gjør det\n",
    "\n",
    "Å skrive funksjoner slik vi har introdusert det til nå, har noen svakheter:\n",
    "- Noen er tungvinte å bruke fordi vi må sende inn mange argumenter, men bare én av dem varierer fra gang til gang, mens de andre er de samme hver gang.\n",
    "- Noen funksjoner er ikke fleksible for gjenbruk eller tilpasning til nye behov, men er spesialisert for ett spesifikt problem.\n",
    "\n",
    "Vi skal se på en måte å skrive funksjoner på som løser disse problemene, og som er mer i tråd med hvordan profesjonelle programmerere skriver funksjoner. Blant annet er det vanlig å skrive funksjoner på denne måten i prosjekter drevet av Google DeepMind, en av de fremste forskningsgruppene innen utvikling av kunstig intelligens."
   ]
  },
  {
   "attachments": {},
   "cell_type": "markdown",
   "metadata": {},
   "source": [
    "## Funksjoner som *lager* funksjoner\n",
    "\n",
    "For å gjøre funksjoner enda mer slagkraftige, fleksible og brukervennlige, er det vanlig å bruker funksjoner som lager funksjoner. For å få en forståelse av hva dette vil si, skal vi se på noen eksempler som viser hvor nyttig denne programmeringsstilen er."
   ]
  },
  {
   "attachments": {},
   "cell_type": "markdown",
   "metadata": {},
   "source": [
    "### Eksempel 1: Andregradsfunksjoner\n",
    "\n",
    "Se for deg at vi ønsker å lage en Pythonfunksjon for andregradsfunksjonen\n",
    "\n",
    "$$\n",
    "f(x) = 2x^2 - 3x + 1.\n",
    "$$\n",
    "\n",
    "Den opplagt løsningen basert på det vi har gjort så langt er"
   ]
  },
  {
   "cell_type": "code",
   "execution_count": 23,
   "metadata": {},
   "outputs": [],
   "source": [
    "def f(x):\n",
    "    return 2 * x**2 - 3*x + 1"
   ]
  },
  {
   "attachments": {},
   "cell_type": "markdown",
   "metadata": {},
   "source": [
    "Men problemet med denne funksjonen er at den *kun* kan brukes for den spesifikke andregradsfunksjonen. En mer fleksibel løsning er å skrive en funksjon som lager en funksjon som er en andregradsfunksjon, men vi gir funksjonen muligheten til å variere koeffisientene $a$, $b$ og $c$ i en generell andregradsfunksjon \n",
    "\n",
    "$$\n",
    "f(x) = ax^2 + bx + c.\n",
    "$$\n",
    "\n",
    "Følgende kode vil oppnå dette:"
   ]
  },
  {
   "cell_type": "code",
   "execution_count": 24,
   "metadata": {},
   "outputs": [],
   "source": [
    "def lag_andregradsfunksjon(a, b, c):\n",
    "    def andregradsfunksjon(x):\n",
    "        return a * x**2 + b*x + c\n",
    "    return andregradsfunksjon"
   ]
  },
  {
   "attachments": {},
   "cell_type": "markdown",
   "metadata": {},
   "source": [
    "For å få samme funksjon som `f` slik vi definert `f` over, kan vi nå skrive"
   ]
  },
  {
   "cell_type": "code",
   "execution_count": 25,
   "metadata": {},
   "outputs": [],
   "source": [
    "f = lag_andregradsfunksjon(a=2, b=-3, c=1)"
   ]
  },
  {
   "attachments": {},
   "cell_type": "markdown",
   "metadata": {},
   "source": [
    "Nå har vi en funksjon `f` som kan gjøre akkurat det samme som den vi definerte manuelt med koeffisientene *hardkodet* (kodet inn direkte). Men nå kan vi lage alle mulige andregradsfunksjoner ved å endre på koeffisientene. For eksempel kan vi lage en funksjon `g` som er definert ved andregradsfunksjonen\n",
    "\n",
    "$$\n",
    "g(x) = -x^2 + 1,\n",
    "$$\n",
    "\n",
    "som betyr at $a = -1$, $b = 0$ og $c = 1$. Da lager vi funksjonen for `g` med "
   ]
  },
  {
   "cell_type": "code",
   "execution_count": 26,
   "metadata": {},
   "outputs": [],
   "source": [
    "g = lag_andregradsfunksjon(a=-1, b=0, c=1)"
   ]
  },
  {
   "attachments": {},
   "cell_type": "markdown",
   "metadata": {},
   "source": [
    "Vipps, så har vi et maskineri for å produsere alle mulige andregradsfunksjoner vi måtte ønske! Vi kan fint nå regne ut funksjonsverdiene i vilkårlige punkter både for $g$ og for $f$, som dette:"
   ]
  },
  {
   "cell_type": "code",
   "execution_count": 27,
   "metadata": {},
   "outputs": [
    {
     "name": "stdout",
     "output_type": "stream",
     "text": [
      "f(x=2) = 3\n",
      "f(x=-1) = 6\n",
      "g(x=2) = -3\n",
      "g(x=-1) = 0\n"
     ]
    }
   ],
   "source": [
    "# Evaluerer funksjonene i x = 2 og x = -1\n",
    "print(f\"{f(x=2) = }\")\n",
    "print(f\"{f(x=-1) = }\")\n",
    "\n",
    "print(f\"{g(x=2) = }\")\n",
    "print(f\"{g(x=-1) = }\")"
   ]
  },
  {
   "attachments": {},
   "cell_type": "markdown",
   "metadata": {},
   "source": [
    "### Eksempel 2: Lage en funksjon for den deriverte av en funksjon\n",
    "\n",
    "En munnfull, men tanken er slik. I seksjonen hvor vi ser på hvordan vi gjør [numerisk derivasjon](../../numeriske_metoder/derivasjon/intro.md), så skrev vi koden slik:\n",
    "\n",
    "```python\n",
    "def f(x):\n",
    "    return x**2 + 2*x + 1\n",
    "\n",
    "h = 1e-3 # steglengde\n",
    "x = 2 # punktet vi vil derivere i\n",
    "dfdx = (f(x + h) - f(x)) / h # f'(x)\n",
    "```\n",
    "\n",
    "Men vi er typisk vant til å tenke på den deriverte $f'(x)$ som en egen funksjon. Så hvorfor ikke lage en funksjon som lager en funksjon for den deriverte av en funksjon? Det kan vi gjøre slik:\n",
    "\n"
   ]
  },
  {
   "cell_type": "code",
   "execution_count": 28,
   "metadata": {},
   "outputs": [],
   "source": [
    "def lag_derivert(f, h):\n",
    "    def dfdx(x):\n",
    "        return (f(x + h) - f(x)) / h\n",
    "    return dfdx"
   ]
  },
  {
   "attachments": {},
   "cell_type": "markdown",
   "metadata": {},
   "source": [
    "Anta vi nå vil lage en funksjon for den deriverte til \n",
    "\n",
    "$$\n",
    "f(x) = x^2 + 2x - 1.\n",
    "$$"
   ]
  },
  {
   "attachments": {},
   "cell_type": "markdown",
   "metadata": {},
   "source": [
    "Da kan vi gjøre det slik:"
   ]
  },
  {
   "cell_type": "code",
   "execution_count": 29,
   "metadata": {},
   "outputs": [],
   "source": [
    "def f(x):\n",
    "    return x**2 + 2*x - 1\n",
    "\n",
    "dfdx = lag_derivert(f, h=1e-3)"
   ]
  },
  {
   "attachments": {},
   "cell_type": "markdown",
   "metadata": {},
   "source": [
    "eller enda bedre, vi lærer fra forrige eksempel og realiserer at her har vi et andregradspolynom. Så vi skriver i stedet"
   ]
  },
  {
   "cell_type": "code",
   "execution_count": 30,
   "metadata": {},
   "outputs": [],
   "source": [
    "f = lag_andregradsfunksjon(a=1, b=2, c=-1)\n",
    "dfdx = lag_derivert(f, h=1e-3)"
   ]
  },
  {
   "attachments": {},
   "cell_type": "markdown",
   "metadata": {},
   "source": [
    "På den måten kan vi nå regne ut den deriverte i vilkårlige punkter $x$, for eksempel:"
   ]
  },
  {
   "cell_type": "code",
   "execution_count": 31,
   "metadata": {},
   "outputs": [
    {
     "name": "stdout",
     "output_type": "stream",
     "text": [
      "dfdx(x=2) = 6.00\n",
      "dfdx(x=-1) = 0.00\n",
      "dfdx(x=0) = 2.00\n"
     ]
    }
   ],
   "source": [
    "# Printer ut med 2 desimalers presisjon\n",
    "print(f\"{dfdx(x=2) = :.2f}\")\n",
    "print(f\"{dfdx(x=-1) = :.2f}\")\n",
    "print(f\"{dfdx(x=0) = :.2f}\")"
   ]
  },
  {
   "attachments": {},
   "cell_type": "markdown",
   "metadata": {},
   "source": [
    "Men før vi ser på flere eksempler, er det på tide med noen relevante øvingsoppgaver:"
   ]
  },
  {
   "attachments": {},
   "cell_type": "markdown",
   "metadata": {},
   "source": [
    "### Øvingsoppgaver"
   ]
  },
  {
   "attachments": {},
   "cell_type": "markdown",
   "metadata": {},
   "source": [
    "#### Øvingsoppgave 1\n",
    "\n",
    "Lag en funksjon som *lager* en funksjon for en vilkårlig lineær funksjon\n",
    "\n",
    "$$\n",
    "f(x) = ax + b.\n",
    "$$\n",
    "\n",
    "Bruk funksjonen til å lage en funksjon for \n",
    "\n",
    "$$\n",
    "g(x) = 2x + 1,\n",
    "$$\n",
    "\n",
    "og prøv regn ut funksjonsverdien i $x = 3$.\n",
    "\n",
    "*Du kan benytte deg av kodeskallet under. Du må fylle inn der det står `NotImplemented`*."
   ]
  },
  {
   "cell_type": "code",
   "execution_count": null,
   "metadata": {},
   "outputs": [],
   "source": [
    "def lag_lineær_funksjon(a, b):\n",
    "    def lineær_funksjon(x):\n",
    "        return NotImplemented\n",
    "    return lineær_funksjon\n",
    "\n",
    "g = NotImplemented # Lag funksjonen for g her.\n",
    "\n",
    "print(f\"{g(NotImplemented) = }\") # Regn ut funksjonsverdien i x = 1 her."
   ]
  },
  {
   "attachments": {},
   "cell_type": "markdown",
   "metadata": {},
   "source": [
    "````{dropdown} Løsningsforslag\n",
    "\n",
    "```python\n",
    "def lag_lineær_funksjon(a, b):\n",
    "    def lineær_funksjon(x):\n",
    "        return a*x + b\n",
    "    return lineær_funksjon\n",
    "\n",
    "g = lag_lineær_funksjon(a=2, b=1)\n",
    "\n",
    "print(f\"{g(x=3) = }\")\n",
    "```\n",
    "\n",
    "````"
   ]
  },
  {
   "attachments": {},
   "cell_type": "markdown",
   "metadata": {},
   "source": [
    "#### Øvingsoppgave 2\n",
    "\n",
    "Lag en funksjon som *lager* en funksjon for en vilkårlig tredjegradsfunksjon på formen\n",
    "\n",
    "$$\n",
    "f(x) = ax^3 + bx^2 + cx + d.\n",
    "$$\n",
    "\n",
    "Bruk denne til å lage en funksjon for\n",
    "\n",
    "$$\n",
    "r(x) = x^3 - 2x^2 + 3x - 4,\n",
    "$$\n",
    "\n",
    "og regn ut funksjonsverdien i $x = -1$. \n",
    "\n",
    "*Du kan bruke kodeskallet under til å løse oppgaven. Du må fylle inn der det står `NotImplemented`*."
   ]
  },
  {
   "cell_type": "code",
   "execution_count": null,
   "metadata": {},
   "outputs": [],
   "source": [
    "def lag_tredjegradsfunksjon(a, b, c, d):\n",
    "    def tredjegradsfunksjon(x):\n",
    "        return NotImplemented\n",
    "    return tredjegradsfunksjon\n",
    "\n",
    "r = NotImplemented # Lag funksjonen for r her.\n",
    "\n",
    "print(f\"{r(NotImplemented) = }\")"
   ]
  },
  {
   "attachments": {},
   "cell_type": "markdown",
   "metadata": {},
   "source": [
    "````{dropdown} Løsningsforslag\n",
    "\n",
    "```python\n",
    "def lag_tredjegradsfunksjon(a, b, c, d):\n",
    "    def tredjegradsfunksjon(x):\n",
    "        return a * x**3 + b * x**2 + c*x + d\n",
    "    return tredjegradsfunksjon\n",
    "\n",
    "r = lag_tredjegradsfunksjon(a=1, b=-2, c=3, d=-4)\n",
    "\n",
    "print(f\"{r(x=-1) = }\")\n",
    "```\n",
    "\n",
    "````"
   ]
  }
 ],
 "metadata": {
  "kernelspec": {
   "display_name": "Python 3",
   "language": "python",
   "name": "python3"
  },
  "language_info": {
   "codemirror_mode": {
    "name": "ipython",
    "version": 3
   },
   "file_extension": ".py",
   "mimetype": "text/x-python",
   "name": "python",
   "nbconvert_exporter": "python",
   "pygments_lexer": "ipython3",
   "version": "3.11.4"
  },
  "orig_nbformat": 4
 },
 "nbformat": 4,
 "nbformat_minor": 2
}
