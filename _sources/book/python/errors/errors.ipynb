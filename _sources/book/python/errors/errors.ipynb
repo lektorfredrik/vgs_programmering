{
 "cells": [
  {
   "cell_type": "markdown",
   "metadata": {},
   "source": [
    "# Feilmeldinger i Python\n",
    "\n",
    "Å kunne lese og rette opp feilmeldinger en viktig ferdighet fordi det gjør deg i stand til å rette opp feil på egen hånd og å forstå hva som er galt med koden din. "
   ]
  },
  {
   "cell_type": "markdown",
   "metadata": {},
   "source": [
    "## Læringsmål\n",
    "\n",
    "* Lære å lese og rette opp feilmeldinger av typene\n",
    "    - `NameError`\n",
    "    - `SyntaxError`\n",
    "    - `IndentationError`\n",
    "    - `ValueError`\n",
    "    <!-- - `TypeError`\n",
    "    - `ValueError` -->\n"
   ]
  },
  {
   "cell_type": "markdown",
   "metadata": {},
   "source": [
    "## `NameError`"
   ]
  },
  {
   "cell_type": "markdown",
   "metadata": {},
   "source": [
    "\n",
    "Noen ganger kan vi skrive kode, og så får vi får vi en feilmelding som dette:\n",
    "\n",
    "```python\n",
    "NameError: name 'a' is not defined\n",
    "```"
   ]
  },
  {
   "cell_type": "markdown",
   "metadata": {},
   "source": [
    "Denne feilmeldingen skyldes rett og slett bare at variabelen ikke har blitt definert av oss. <br>\n",
    "I eksemplet over får vi at en variabel med navn `a` finnes ikke. <br>\n",
    "\n",
    "Men la oss se på noen praktiske eksempler så vi får en idé om hva vi skal gjøre når det går galt."
   ]
  },
  {
   "cell_type": "markdown",
   "metadata": {},
   "source": [
    "### Eksempel 1\n",
    "Under vises en kort kode med en feil."
   ]
  },
  {
   "cell_type": "code",
   "execution_count": 1,
   "metadata": {},
   "outputs": [
    {
     "ename": "NameError",
     "evalue": "name 'antall_melddinger' is not defined",
     "output_type": "error",
     "traceback": [
      "\u001b[0;31m---------------------------------------------------------------------------\u001b[0m",
      "\u001b[0;31mNameError\u001b[0m                                 Traceback (most recent call last)",
      "Cell \u001b[0;32mIn[1], line 3\u001b[0m\n\u001b[1;32m      1\u001b[0m antall_meldinger \u001b[38;5;241m=\u001b[39m \u001b[38;5;241m20\u001b[39m\n\u001b[0;32m----> 3\u001b[0m \u001b[38;5;28mprint\u001b[39m(\u001b[43mantall_melddinger\u001b[49m)\n",
      "\u001b[0;31mNameError\u001b[0m: name 'antall_melddinger' is not defined"
     ]
    }
   ],
   "source": [
    "antall_meldinger = 20\n",
    "\n",
    "print(antall_melddinger)"
   ]
  },
  {
   "cell_type": "markdown",
   "metadata": {},
   "source": [
    "Når koden ble kjørt ga den feilmeldingen over. <br>\n",
    "Den forteller oss at det er en `NameError` som har oppstått. <br>\n",
    "Den forteller oss også at det er variabelnavnet `antall_melddinger` som er problemet, for en variabel med dette navnet er ikke definert. <br>\n",
    "For å fikse koden, må vi rett og slett skrive det riktige variabelnavnet:"
   ]
  },
  {
   "cell_type": "code",
   "execution_count": 2,
   "metadata": {},
   "outputs": [
    {
     "name": "stdout",
     "output_type": "stream",
     "text": [
      "20\n"
     ]
    }
   ],
   "source": [
    "antall_meldinger = 20\n",
    "\n",
    "print(antall_meldinger)"
   ]
  },
  {
   "cell_type": "markdown",
   "metadata": {},
   "source": [
    "Da var alt good!"
   ]
  },
  {
   "cell_type": "markdown",
   "metadata": {},
   "source": [
    "## `SyntaxError`\n",
    "\n",
    "En `SyntaxError` er en feil der vi bryter reglene til Python med tanke på skrivemåte, eller da *syntaksen* som Python tillater. Her kommer noen eksempler. "
   ]
  },
  {
   "cell_type": "markdown",
   "metadata": {},
   "source": [
    "### Eksempel 1: Manglende kolon"
   ]
  },
  {
   "cell_type": "markdown",
   "metadata": {},
   "source": [
    "Under vises en `for`-løkke der vi har glemt å ta med et kolon på slutten av linja."
   ]
  },
  {
   "cell_type": "code",
   "execution_count": 3,
   "metadata": {},
   "outputs": [
    {
     "ename": "SyntaxError",
     "evalue": "expected ':' (859882524.py, line 1)",
     "output_type": "error",
     "traceback": [
      "\u001b[0;36m  Cell \u001b[0;32mIn[3], line 1\u001b[0;36m\u001b[0m\n\u001b[0;31m    for i in range(3)\u001b[0m\n\u001b[0m                     ^\u001b[0m\n\u001b[0;31mSyntaxError\u001b[0m\u001b[0;31m:\u001b[0m expected ':'\n"
     ]
    }
   ],
   "source": [
    "for i in range(3)\n",
    "    print(i)"
   ]
  },
  {
   "cell_type": "markdown",
   "metadata": {},
   "source": [
    "Feilmeldingen forteller oss at det er en `SyntaxError`, og at vi mangler et kolon på slutten av linja. <br>\n",
    "Slenger vi på det, er alt fikset:"
   ]
  },
  {
   "cell_type": "code",
   "execution_count": 4,
   "metadata": {},
   "outputs": [
    {
     "name": "stdout",
     "output_type": "stream",
     "text": [
      "0\n",
      "1\n",
      "2\n"
     ]
    }
   ],
   "source": [
    "for i in range(3):\n",
    "    print(i)"
   ]
  },
  {
   "cell_type": "markdown",
   "metadata": {},
   "source": [
    "### Eksempel 2: Åpne parenteser\n",
    "\n",
    "Noen ganger mangler vi parenteser i koden vår. Da kan vi møte på noe sånt som dette:"
   ]
  },
  {
   "cell_type": "code",
   "execution_count": 3,
   "metadata": {},
   "outputs": [
    {
     "ename": "SyntaxError",
     "evalue": "'(' was never closed (289506175.py, line 1)",
     "output_type": "error",
     "traceback": [
      "\u001b[0;36m  Cell \u001b[0;32mIn[3], line 1\u001b[0;36m\u001b[0m\n\u001b[0;31m    a = (2 + 3) / (4 * 5 - 1\u001b[0m\n\u001b[0m                  ^\u001b[0m\n\u001b[0;31mSyntaxError\u001b[0m\u001b[0;31m:\u001b[0m '(' was never closed\n"
     ]
    }
   ],
   "source": [
    "a = (2 + 3) / (4 * 5 - 1\n",
    "\n",
    "print(a)"
   ]
  },
  {
   "cell_type": "markdown",
   "metadata": {},
   "source": [
    "Her får vi igjen en `SyntaxError`, og vi blir fortalt at den ene parentesen ikke er lukket, som betyr at vi mangler en `)` i koden. <br>\n",
    "Setter vi inn en parentes der er alt i orden:"
   ]
  },
  {
   "cell_type": "code",
   "execution_count": 4,
   "metadata": {},
   "outputs": [
    {
     "name": "stdout",
     "output_type": "stream",
     "text": [
      "0.2631578947368421\n"
     ]
    }
   ],
   "source": [
    "a = (2 + 3) / (4 * 5 - 1)\n",
    "\n",
    "print(a)"
   ]
  },
  {
   "cell_type": "markdown",
   "metadata": {},
   "source": [
    "### Eksempel 3: Glemt gangetegn\n",
    "Du skal typisk skrive kode for å regne, som betyr at du sannsynligvis kommer til å møte på denne feilen et par ganger: <br>\n"
   ]
  },
  {
   "cell_type": "code",
   "execution_count": 5,
   "metadata": {},
   "outputs": [
    {
     "ename": "SyntaxError",
     "evalue": "invalid decimal literal (2565635359.py, line 2)",
     "output_type": "error",
     "traceback": [
      "\u001b[0;36m  Cell \u001b[0;32mIn[5], line 2\u001b[0;36m\u001b[0m\n\u001b[0;31m    y = x**2 + 2x + 1\u001b[0m\n\u001b[0m               ^\u001b[0m\n\u001b[0;31mSyntaxError\u001b[0m\u001b[0;31m:\u001b[0m invalid decimal literal\n"
     ]
    }
   ],
   "source": [
    "x = 2\n",
    "y = x**2 + 2x + 1\n",
    "\n",
    "print(y)"
   ]
  },
  {
   "cell_type": "markdown",
   "metadata": {},
   "source": [
    "Her kaster Python ut en `SyntaxError` og peker på leddet `2x`. Selve beskjeden `invalid decimal literal` betyr at Python ikke forstår hva vi mener med `2x`. <br>\n",
    "Her må vi selv forstå at vi mangler et gangetegn og at det egentlig burde stått `2*x`. Fikser vi dette, så er alt i orden: "
   ]
  },
  {
   "cell_type": "code",
   "execution_count": 6,
   "metadata": {},
   "outputs": [
    {
     "name": "stdout",
     "output_type": "stream",
     "text": [
      "9\n"
     ]
    }
   ],
   "source": [
    "x = 2\n",
    "y = x**2 + 2*x + 1\n",
    "\n",
    "print(y)"
   ]
  },
  {
   "cell_type": "markdown",
   "metadata": {},
   "source": [
    "Det finnes naturligvis flere feil som kan gjøres, men poenget du bør ta med deg er at `SyntaxError` handler om at du ikke følger reglene for hvordan kode skal skrives i Python. Da vet du i det minste *hva* du skal lete etter når du ser en slik feilmelding, selv om du kan ikke vet helt *hva* du har gjort feil. Feilmeldingen forteller heldigvis ofte *hva* du har gjort galt."
   ]
  },
  {
   "cell_type": "markdown",
   "metadata": {},
   "source": [
    "## `IndentationError`\n",
    "En annen vanlig feilmelding er kalt for `IndentationError` og handler om at man ikke har riktig innrykk i koden sin der Python forventer det. <br>\n",
    "Vi må for eksempel har innrykk når vi skriver `while`-løkker, `for`-løkker og `if`-`else`-tester."
   ]
  },
  {
   "cell_type": "markdown",
   "metadata": {},
   "source": [
    "### Eksempel: Manglende innrykk i en `while`-løkke"
   ]
  },
  {
   "cell_type": "markdown",
   "metadata": {},
   "source": [
    "Under vises et program der man har skrevet en `while`-løkke uten innrykk"
   ]
  },
  {
   "cell_type": "code",
   "execution_count": 16,
   "metadata": {},
   "outputs": [
    {
     "ename": "IndentationError",
     "evalue": "expected an indented block after 'while' statement on line 2 (2729101594.py, line 3)",
     "output_type": "error",
     "traceback": [
      "\u001b[0;36m  Cell \u001b[0;32mIn[16], line 3\u001b[0;36m\u001b[0m\n\u001b[0;31m    n = n + 1\u001b[0m\n\u001b[0m    ^\u001b[0m\n\u001b[0;31mIndentationError\u001b[0m\u001b[0;31m:\u001b[0m expected an indented block after 'while' statement on line 2\n"
     ]
    }
   ],
   "source": [
    "n = 0\n",
    "while n < 5:\n",
    "n = n + 1\n",
    "\n",
    "print(n)"
   ]
  },
  {
   "cell_type": "markdown",
   "metadata": {},
   "source": [
    "Feilmeldingen blir da en `IndentationError` der vi får vite at Python forventet minst ett innrykk etter `while`-nøkkelordet. <br>\n",
    "Vi kan fikse dette ved å legge til et innrykk:"
   ]
  },
  {
   "cell_type": "code",
   "execution_count": 15,
   "metadata": {},
   "outputs": [
    {
     "name": "stdout",
     "output_type": "stream",
     "text": [
      "5\n"
     ]
    }
   ],
   "source": [
    "n = 0\n",
    "while n < 5:\n",
    "    n = n + 1\n",
    "\n",
    "print(n)"
   ]
  },
  {
   "cell_type": "markdown",
   "metadata": {},
   "source": [
    "Da var alt i orden."
   ]
  },
  {
   "cell_type": "markdown",
   "metadata": {},
   "source": [
    "### Eksempel 2: forskjellig innrykk\n",
    "Vanligvis bruker vi \"tab\"-tasten ⇥ når vi lage innrykk. Det viser seg at Python ikke bryr seg om det, men heller at innrykkene må være konsekvente. <br>\n",
    "\n",
    "La oss se på en kode hvor vi ikke har samme innrykk i alle linjene i en `for`-løkke:"
   ]
  },
  {
   "cell_type": "code",
   "execution_count": 5,
   "metadata": {},
   "outputs": [
    {
     "ename": "IndentationError",
     "evalue": "unexpected indent (1439077743.py, line 3)",
     "output_type": "error",
     "traceback": [
      "\u001b[0;36m  Cell \u001b[0;32mIn[5], line 3\u001b[0;36m\u001b[0m\n\u001b[0;31m    print(i**2)\u001b[0m\n\u001b[0m    ^\u001b[0m\n\u001b[0;31mIndentationError\u001b[0m\u001b[0;31m:\u001b[0m unexpected indent\n"
     ]
    }
   ],
   "source": [
    "for i in range(3):\n",
    "    print(i)\n",
    "        print(i**2)"
   ]
  },
  {
   "cell_type": "markdown",
   "metadata": {},
   "source": [
    "For å fikse det, trenger vi bare å ha samme innrykk på begge linjer. <br>\n",
    "Ved å lage innrykk med å trykke på \"tab\"-tasten ⇥ kun én gang på begge linjer, er det i orden:"
   ]
  },
  {
   "cell_type": "code",
   "execution_count": 6,
   "metadata": {},
   "outputs": [
    {
     "name": "stdout",
     "output_type": "stream",
     "text": [
      "0\n",
      "0\n",
      "1\n",
      "1\n",
      "2\n",
      "4\n"
     ]
    }
   ],
   "source": [
    "for i in range(3):\n",
    "    print(i)\n",
    "    print(i**2)"
   ]
  },
  {
   "cell_type": "markdown",
   "metadata": {},
   "source": [
    "Men vi kunne også ha laget innrykk med å trykke på \"tab\"-tasten ⇥ to ganger på begge linjer, eller fire ganger, eller seks ganger, eller åtte ganger, osv. <br>\n",
    "For eksempel er dette også en gyldig løsning:"
   ]
  },
  {
   "cell_type": "code",
   "execution_count": 7,
   "metadata": {},
   "outputs": [
    {
     "name": "stdout",
     "output_type": "stream",
     "text": [
      "0\n",
      "0\n",
      "1\n",
      "1\n",
      "2\n",
      "4\n"
     ]
    }
   ],
   "source": [
    "for i in range(3):\n",
    "        print(i)\n",
    "        print(i**2)"
   ]
  },
  {
   "cell_type": "markdown",
   "metadata": {},
   "source": [
    "## `ValueError` \n",
    "En nokså vanlig feilmelding som kan oppstå kalles for en `ValueError`. Denne feilmeldingen oppstår når vi gir en funksjon en variabel med en verdi eller datatypen den ikke kan håndtere eller gjøre noe med. <br>\n",
    "\n",
    "\n",
    "### Eksempel: \"ulovlige\" matteoperasjoner\n",
    "\n",
    "Under vises et program der vi prøver å regne ut kvadratroten av et negativt tall. <br>\n",
    "\n"
   ]
  },
  {
   "cell_type": "code",
   "execution_count": 1,
   "metadata": {},
   "outputs": [
    {
     "ename": "ValueError",
     "evalue": "math domain error",
     "output_type": "error",
     "traceback": [
      "\u001b[0;31m---------------------------------------------------------------------------\u001b[0m",
      "\u001b[0;31mValueError\u001b[0m                                Traceback (most recent call last)",
      "Cell \u001b[0;32mIn[1], line 3\u001b[0m\n\u001b[1;32m      1\u001b[0m \u001b[38;5;28;01mimport\u001b[39;00m \u001b[38;5;21;01mmath\u001b[39;00m \u001b[38;5;66;03m# Henter mattebiblioteket i Python\u001b[39;00m\n\u001b[0;32m----> 3\u001b[0m y \u001b[38;5;241m=\u001b[39m \u001b[43mmath\u001b[49m\u001b[38;5;241;43m.\u001b[39;49m\u001b[43msqrt\u001b[49m\u001b[43m(\u001b[49m\u001b[38;5;241;43m-\u001b[39;49m\u001b[38;5;241;43m2\u001b[39;49m\u001b[43m)\u001b[49m \u001b[38;5;66;03m# Prøver å regne ut kvadratroten av -2\u001b[39;00m\n",
      "\u001b[0;31mValueError\u001b[0m: math domain error"
     ]
    }
   ],
   "source": [
    "import math # Henter mattebiblioteket i Python\n",
    "\n",
    "y = math.sqrt(-2) # Prøver å regne ut kvadratroten av -2"
   ]
  },
  {
   "cell_type": "markdown",
   "metadata": {},
   "source": [
    "Som vi ser, får vi en `ValueError` med konteksten \"math domain error\". <br>\n",
    "*Domain* er engelsk for *definisjonsmengde* for en funksjon. Beskjeden betyr at vi prøver å bruke en verdi som *ikke* er i definisjonsmengden til funksjonen vi bruker. "
   ]
  },
  {
   "cell_type": "markdown",
   "metadata": {},
   "source": [
    "## Oppgaver"
   ]
  },
  {
   "cell_type": "markdown",
   "metadata": {},
   "source": [
    "#### Oppgave 1\n",
    "\n",
    "Kopier koden under og kjør den. Finn feilen og rett den opp. \n",
    "\n",
    "```python\n",
    "For i in range(10):\n",
    "    print(i)\n",
    "```\n",
    "\n",
    "````{admonition} Løsningsforslag\n",
    ":class: dropdown\n",
    "Her er det nøkkelordet `for` som er skrevet med stor forbokstav, `For`. Dette er ikke tillat. Den riktige koden ville vært\n",
    "\n",
    "```python\n",
    "for i in range(10):\n",
    "    print(i)\n",
    "```\n",
    "\n",
    "````"
   ]
  },
  {
   "cell_type": "markdown",
   "metadata": {},
   "source": [
    "### Oppgave 2\n",
    "Kopier koden under og kjør den. Finn feilen og rett den opp.\n",
    "\n",
    "```python\n",
    "x = 2\n",
    "if x > 0\n",
    "    print(\"x er positiv\")\n",
    "else:\n",
    "    print(\"x er negativ\")\n",
    "```\n",
    "\n",
    "````{admonition} Løsningsforslag\n",
    ":class: dropdown\n",
    "Kjører man koden, får man en feilkode som gir `SyntaxError`:\n",
    "\n",
    "```console\n",
    "  Cell In[8], line 2\n",
    "    if x > 0\n",
    "            ^\n",
    "SyntaxError: expected ':'\n",
    "```\n",
    "Vi mangler et kolon `:` etter `if`-påstanden. Setter vi inn et `:` etter `if`-påstanden er alt i orden:\n",
    "\n",
    "```python\n",
    "x = 2\n",
    "if x > 0:\n",
    "    print(\"x er positiv\")\n",
    "else:\n",
    "    print(\"x er negativ\")\n",
    "```\n",
    "og vi får utskriften\n",
    "```console\n",
    "x er positiv\n",
    "```\n",
    "````\n"
   ]
  },
  {
   "cell_type": "markdown",
   "metadata": {},
   "source": [
    "### Oppgave 3\n",
    "Noen ganger kan du ha en kode som har flere feil. Da vil Python typisk gi deg beskjed om den første feilen den finner. <br>\n",
    "Når du har rettet opp den, vil den gi deg neste feilmelding. <br>\n",
    "\n",
    "Kopier koden under og kjør den. Finn feilene og rett dem opp.\n",
    "\n",
    "```python\n",
    "x = 1\n",
    "s = 0\n",
    "while x < 5:\n",
    "    s = s + 2x\n",
    "    x = X + 1\n",
    "```\n",
    "\n",
    "\n",
    "````{admonition} Løsningsforslag\n",
    ":class: dropdown\n",
    "Når vi kjører koden, får vi først en `SyntaxError` fordi vi mangler gangetegn mellom `2` og `x`. <br>\n",
    "Feilmeldingen kan se slik ut:\n",
    "```console\n",
    "  Cell In[10], line 4\n",
    "    s = s + 2x\n",
    "            ^\n",
    "SyntaxError: invalid decimal literal\n",
    "```\n",
    "Retter vi opp dette ved å erstatte `2x` med `2*x`, for å så kjøre koden igjen får vi en ny feilmelding. <br>\n",
    "Denne ganger er det en `NameError` fordi `X` ikke definert (stor bokstav). Kun `x` er definert (med liten bokstav). <br>\n",
    "\n",
    "Feilmeldingen kan se slik ut:\n",
    "```console\n",
    "---------------------------------------------------------------------------\n",
    "NameError                                 Traceback (most recent call last)\n",
    "Cell In[1], line 5\n",
    "      3 while x < 5:\n",
    "      4     s = s + 2*x\n",
    "----> 5     x = X + 1\n",
    "\n",
    "NameError: name 'X' is not defined\n",
    "```\n",
    "Her må vi bare erstatte `X` med `x`, så er koden fikset.\n",
    "```python\n",
    "x = 1\n",
    "s = 0\n",
    "while x < 5:\n",
    "    s = s + 2*x\n",
    "    x = x + 1\n",
    "```\n",
    "\n",
    "\n",
    "````"
   ]
  },
  {
   "cell_type": "markdown",
   "metadata": {},
   "source": [
    "### Oppgave 4\n",
    "\n",
    "Kopier koden under og kjør den. Finn feilen(e) og rett de(n) opp.\n",
    "\n",
    "```python\n",
    "Def f(x):\n",
    "    return 2x + 1\n",
    "\n",
    "s = 0\n",
    "for i in range(3):\n",
    "    s = s + f(i)\n",
    "        s = 2 * s \n",
    "\n",
    "print(s)\n",
    "```\n",
    "\n",
    "````{admonition} Løsningsforslag\n",
    ":class: dropdown\n",
    "Feilene i koden er\n",
    "\n",
    "* `Def` skal skrives med liten forbokstav, `def`. Dette gir en `SyntaxError`.\n",
    "* Vi mangler et i funksjonsuttrykket `0.5x + 1` mellom `0.5` og `x`. Dette gir `SyntaxError`. Det bør stå `0.5*x + 1`\n",
    "* Vi har forskjellig innrykk i `for`-løkka. Dette gir `IndentationError`. Det må være samme innrykk på alle linjene inne i `for`-løkka.\n",
    "\n",
    "Koden når disse feilene er fikset er: \n",
    "\n",
    "```python\n",
    "def f(x):\n",
    "    return 0.5*x + 1\n",
    "\n",
    "s = 0\n",
    "for i in range(3):\n",
    "    s = s + f(i)\n",
    "    s = 2 * s \n",
    "\n",
    "print(s)\n",
    "```\n",
    "````"
   ]
  }
 ],
 "metadata": {
  "kernelspec": {
   "display_name": "Python 3",
   "language": "python",
   "name": "python3"
  },
  "language_info": {
   "codemirror_mode": {
    "name": "ipython",
    "version": 3
   },
   "file_extension": ".py",
   "mimetype": "text/x-python",
   "name": "python",
   "nbconvert_exporter": "python",
   "pygments_lexer": "ipython3",
   "version": "3.11.6"
  },
  "orig_nbformat": 4
 },
 "nbformat": 4,
 "nbformat_minor": 2
}
