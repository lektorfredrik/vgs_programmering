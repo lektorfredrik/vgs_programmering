{
 "cells": [
  {
   "attachments": {},
   "cell_type": "markdown",
   "metadata": {},
   "source": [
    "# Variabler \n",
    "\n",
    "Den grunnleggende størrelsen i Python som du kommer til å bruke er *variabler*. En variabel har \n",
    "\n",
    "1. Et **variabelnavn**. Dette bestemmes av deg som skriver koden.\n",
    "2. En **verdi**. Denne kan settes av deg manuelt eller regnes ut som en del av programmet.\n",
    "3. En **datatype**. Datatypen bestemmer hva man kan bruke variabelen til.\n",
    "\n",
    "I tabell 1 ser du noen eksempler på variabler. \n",
    "\n",
    "**Tabell 1**: Eksempler på variabler og deres variabelnavn, verdi og datatype.\n",
    "| Variabelnavn | Verdi | Datatype |\n",
    "|---|---|---|\n",
    "| `i` | `1` | `int` |\n",
    "| `a` | `1.0` | `float` |\n",
    "| `s` | `\"1.0\"` | `str` |\n",
    "| `res1` | `-5.0` | `float`\n",
    "| `melding` | `\"Dette er en liten melding\"` | `str` |\n",
    "\n",
    "\n",
    "Det finnes mange forskjellige datatyper i Python. Men for nå holder det å kjenne til disse:\n",
    "\n",
    "1. `int` er *heltall*. \n",
    "2. `float` er *flyttall* og er de man brukes når man regner. Du kan tenke på det som desimaltall eller *reelle tall*.\n",
    "3. `str` er tekst.\n",
    "\n",
    "## Hvordan gi verdi til en variabel\n",
    "\n",
    "I Python kan vi gi variabler verdi med `=`-tegnet. Dette kalles en *tilordning*. Tar vi utgangspunkt i variablene i tabell 1, kan vi gi dem verdiene deres slik:\n"
   ]
  },
  {
   "cell_type": "code",
   "execution_count": 24,
   "metadata": {},
   "outputs": [],
   "source": [
    "i = 1\n",
    "a = 1.0\n",
    "s = \"1.0\"\n",
    "res1 = -5.0\n",
    "melding = \"Dette er en liten melding\""
   ]
  },
  {
   "attachments": {},
   "cell_type": "markdown",
   "metadata": {},
   "source": [
    "## Hvordan sjekke verdien til en variabel\n",
    " \n",
    "Vi kan sjekke verdien til en variabel ved å bruke `print`-funksjonen. Dette gjør vi ved å skrive `print(variabel)`. Da vil verdien til `variabel` skrives ut til skjerm. Vi kan gjøre dette med alle variablene i tabell 1, siden vi har definert dem og tilordnet dem verdier allerede."
   ]
  },
  {
   "cell_type": "code",
   "execution_count": 25,
   "metadata": {},
   "outputs": [
    {
     "name": "stdout",
     "output_type": "stream",
     "text": [
      "1\n",
      "1.0\n",
      "1.0\n",
      "-5.0\n",
      "Dette er en liten melding\n"
     ]
    }
   ],
   "source": [
    "print(i)\n",
    "print(a)\n",
    "print(s)\n",
    "print(res1)\n",
    "print(melding)"
   ]
  },
  {
   "attachments": {},
   "cell_type": "markdown",
   "metadata": {},
   "source": [
    "En penere måte å bruke `print`-funksjonen på er som følger"
   ]
  },
  {
   "cell_type": "code",
   "execution_count": 26,
   "metadata": {},
   "outputs": [
    {
     "name": "stdout",
     "output_type": "stream",
     "text": [
      "i = 1\n",
      "a = 1.0\n",
      "s = '1.0'\n",
      "res1 = -5.0\n",
      "melding = 'Dette er en liten melding'\n"
     ]
    }
   ],
   "source": [
    "print(f\"{i = }\")\n",
    "print(f\"{a = }\")\n",
    "print(f\"{s = }\")\n",
    "print(f\"{res1 = }\")\n",
    "print(f\"{melding = }\")"
   ]
  },
  {
   "attachments": {},
   "cell_type": "markdown",
   "metadata": {},
   "source": [
    "Da blir det hele langt mer leselig. "
   ]
  },
  {
   "attachments": {},
   "cell_type": "markdown",
   "metadata": {},
   "source": [
    "## Hvordan sjekke datatypen til en variabel\n",
    "\n",
    "Vi kan også hente ut datatypen med `type`-funksjonen. Typisk bruker vi den i kombinasjon med `print`-funksjonen så vi kan se hva datatypen er. Vi kan gjøre dette med variablene fra tabell 1:"
   ]
  },
  {
   "cell_type": "code",
   "execution_count": 27,
   "metadata": {},
   "outputs": [
    {
     "name": "stdout",
     "output_type": "stream",
     "text": [
      "<class 'int'>\n",
      "<class 'float'>\n",
      "<class 'str'>\n",
      "<class 'float'>\n",
      "<class 'str'>\n"
     ]
    }
   ],
   "source": [
    "print(type(i))\n",
    "print(type(a))\n",
    "print(type(s))\n",
    "print(type(res1))\n",
    "print(type(melding))"
   ]
  },
  {
   "attachments": {},
   "cell_type": "markdown",
   "metadata": {},
   "source": [
    "Eller igjen, med litt penere format på utskriften:"
   ]
  },
  {
   "cell_type": "code",
   "execution_count": 28,
   "metadata": {},
   "outputs": [
    {
     "name": "stdout",
     "output_type": "stream",
     "text": [
      "type(i) = <class 'int'>\n",
      "type(a) = <class 'float'>\n",
      "type(s) = <class 'str'>\n",
      "type(res1) = <class 'float'>\n",
      "type(melding) = <class 'str'>\n"
     ]
    }
   ],
   "source": [
    "print(f\"{type(i) = }\")\n",
    "print(f\"{type(a) = }\")\n",
    "print(f\"{type(s) = }\")\n",
    "print(f\"{type(res1) = }\")\n",
    "print(f\"{type(melding) = }\")"
   ]
  },
  {
   "attachments": {},
   "cell_type": "markdown",
   "metadata": {},
   "source": [
    "## Øvingsoppgaver: Verdi og datatype."
   ]
  },
  {
   "attachments": {},
   "cell_type": "markdown",
   "metadata": {},
   "source": [
    "### Øvelse 1: Skrive ut verdi og datatype\n",
    "\n",
    "Under er et lite program der noen variabler er definert. Bruk `print`-funksjonen og `type`-funksjonen til å skrive ut verdiene og datatypene til variabelene:"
   ]
  },
  {
   "cell_type": "code",
   "execution_count": 29,
   "metadata": {},
   "outputs": [],
   "source": [
    "b = 3\n",
    "c = -0.25\n",
    "beskjed = \"En kort melding uten noen meningsfull beskjed. Vær så god. Bare hyggelig.\""
   ]
  },
  {
   "attachments": {},
   "cell_type": "markdown",
   "metadata": {},
   "source": [
    "*Du kan ta utgangspunkt i kodesnutten under. Her må du fylle inn der det står `NotImplemented`.*"
   ]
  },
  {
   "cell_type": "code",
   "execution_count": null,
   "metadata": {},
   "outputs": [],
   "source": [
    "print(NotImplemented) # Skriv ut verdien til `b`\n",
    "print(type(NotImplemented)) # Skriv ut datatypen til `b`\n",
    "\n",
    "print(NotImplemented) # Skriv ut verdien til `c`\n",
    "print(type(NotImplemented)) # Skriv ut datatypen til `c`\n",
    "\n",
    "print(NotImplemented) # Skriv ut verdien til `beskjed`\n",
    "print(type(NotImplemented)) # Skriv ut datatypen til `beskjed`"
   ]
  },
  {
   "attachments": {},
   "cell_type": "markdown",
   "metadata": {},
   "source": [
    "````{dropdown} Løsningsforslag\n",
    "\n",
    "```python\n",
    "print(b) # Skriv ut verdien til `b`\n",
    "print(type(b)) # Skriv ut datatypen til `b`\n",
    "\n",
    "print(c) # Skriv ut verdien til `c`\n",
    "print(type(c)) # Skriv ut datatypen til `c`\n",
    "\n",
    "print(beskjed) # Skriv ut verdien til `beskjed`\n",
    "print(type(beskjed)) # Skriv ut datatypen til `beskjed`\n",
    "```\n",
    "\n",
    "````"
   ]
  },
  {
   "attachments": {},
   "cell_type": "markdown",
   "metadata": {},
   "source": [
    "### Øvelse 2: Sette riktig verdi og datatype.\n",
    "\n",
    "Under er en uferdig kode der to variabler ikke er implementert (derfor markert med `NotImplemented`). Sammen med den uferdige koden er det en notis som sier at\n",
    "\n",
    "- `a` skal ha verdien `10` og datatypen `int`.\n",
    "- `r` skal ha verdien `-0.5` og datatypen `float`.\n",
    "\n",
    "*Du må fullføre koden under. Fyll inn der det står `NotImplemented` og sjekk at du får riktig resultat.* "
   ]
  },
  {
   "cell_type": "code",
   "execution_count": null,
   "metadata": {},
   "outputs": [],
   "source": [
    "a = NotImplemented\n",
    "print(f\"{a = }\") # Skriver ut verdien til `a`\n",
    "print(f\"{type(a) = }\") # Skriver ut datatypen til `a`\n",
    "\n",
    "r = NotImplemented\n",
    "print(f\"{ NotImplemented }\") # Skriver ut verdien til `r`\n",
    "print(f\"{ NotImplemented }\") # Skriver ut datatypen til `r`\n"
   ]
  },
  {
   "attachments": {},
   "cell_type": "markdown",
   "metadata": {},
   "source": [
    "````{dropdown} Løsningsforslag\n",
    "\n",
    "```python\n",
    "a = 10\n",
    "print(f\"{a = }\") # Skriver ut verdien til `a`\n",
    "print(f\"{type(a) = }\") # Skriver ut datatypen til `a`\n",
    "\n",
    "r = -0.5\n",
    "print(f\"{r = }\") # Skriver ut verdien til `r`\n",
    "print(f\"{type(r) = }\") # Skriver ut datatypen til `r`\n",
    "```\n",
    "\n",
    "````"
   ]
  }
 ],
 "metadata": {
  "kernelspec": {
   "display_name": "Python 3",
   "language": "python",
   "name": "python3"
  },
  "language_info": {
   "codemirror_mode": {
    "name": "ipython",
    "version": 3
   },
   "file_extension": ".py",
   "mimetype": "text/x-python",
   "name": "python",
   "nbconvert_exporter": "python",
   "pygments_lexer": "ipython3",
   "version": "3.11.4"
  },
  "orig_nbformat": 4
 },
 "nbformat": 4,
 "nbformat_minor": 2
}
