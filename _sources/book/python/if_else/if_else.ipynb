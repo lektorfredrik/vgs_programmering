{
 "cells": [
  {
   "attachments": {},
   "cell_type": "markdown",
   "metadata": {},
   "source": [
    "# `if`-`else` tester"
   ]
  },
  {
   "attachments": {},
   "cell_type": "markdown",
   "metadata": {},
   "source": [
    "Et sentralt verktøy i programmering er `if`-`else` tester. De lar oss kjøre deler av programmet hvis en betingelse er oppfylt, og kjøre en annen hvis den ikke er det. "
   ]
  },
  {
   "attachments": {},
   "cell_type": "markdown",
   "metadata": {},
   "source": [
    "## Enkle `if`-`else` tester\n",
    "\n",
    "En *enkel* `if`-`else` test vil har formen\n",
    "\n",
    "```python\n",
    "if betingelse:\n",
    "    # Kjør denne koden hvis betingelse er True\n",
    "else:\n",
    "    # Kjør denne koden hvis betingelse er False\n",
    "```\n",
    "\n",
    "Vi kaller den første delen for `if`-*blokken* og den andre for `else`-*blokken*.\n",
    "\n",
    "La oss se på et eksempel:"
   ]
  },
  {
   "cell_type": "code",
   "execution_count": 2,
   "metadata": {},
   "outputs": [
    {
     "name": "stdout",
     "output_type": "stream",
     "text": [
      "a er større enn eller lik null.\n"
     ]
    }
   ],
   "source": [
    "a = 1\n",
    "if a >= 0:\n",
    "    print(\"a er større enn eller lik null.\")\n",
    "else:\n",
    "    print(\"a er negativ eller null.\")"
   ]
  },
  {
   "attachments": {},
   "cell_type": "markdown",
   "metadata": {},
   "source": [
    "Det vi kan lære av dette er at `a >= 0` er en *betingelse* som kan være `True` eller `False`. Hvis den er `True` kjører vi koden i den første blokken, hvis den er `False` kjører vi koden i den andre blokken. Her er `a = 1`, så `a >= 0` er `True`, og vi får utskriften `a er større enn eller lik null`.\n",
    "\n",
    "Vi kan printe ut betingelsen `a >= 0` for å se at den faktisk evalueres til `True`:"
   ]
  },
  {
   "cell_type": "code",
   "execution_count": 3,
   "metadata": {},
   "outputs": [
    {
     "name": "stdout",
     "output_type": "stream",
     "text": [
      "True\n"
     ]
    }
   ],
   "source": [
    "print(a >= 0)"
   ]
  },
  {
   "attachments": {},
   "cell_type": "markdown",
   "metadata": {},
   "source": [
    "### Underveisoppgave 1\n",
    "\n",
    "La oss si vi setter `a = -1`. Hva blir da utskriften? Hvorfor? \n",
    "\n",
    "````{dropdown} Løsningsforslag\n",
    "\n",
    "Når `a = -1`, vil betingelsen `a >= 0` være `False`. Dermed vil `else`-blokken av koden kjøres, og vi får utskriften `a er mindre enn null`.\n",
    "\n",
    "````"
   ]
  },
  {
   "attachments": {},
   "cell_type": "markdown",
   "metadata": {},
   "source": [
    "### Underveisoppgave 2\n",
    "\n",
    "Tenk deg at vi har koden\n",
    "\n",
    "```python\n",
    "bruttolønn = 4000\n",
    "skatt = 15 # Skatt i prosent\n",
    "vekstfaktor = 1 - skatt/100\n",
    "nettolønn = bruttolønn * vekstfaktor\n",
    "\n",
    "if nettolønn > 3000:\n",
    "    print(\"Du tjener mer enn 3000 kr i måneden\")\n",
    "else:\n",
    "    print(\"Du tjener mindre enn 3000 kr i måneden\")\n",
    "```\n",
    "\n",
    "Hva blir utskriften av denne koden?"
   ]
  },
  {
   "attachments": {},
   "cell_type": "markdown",
   "metadata": {},
   "source": [
    "````{dropdown} Løsningsforslag\n",
    "\n",
    "`nettolønn` vil være lik `3400`, som er større enn `3000`. Derfor vil utskriften være\n",
    "\n",
    "```console\n",
    "Du tjener mer enn 3000 kr i måneden\n",
    "```\n",
    "\n",
    "````"
   ]
  },
  {
   "attachments": {},
   "cell_type": "markdown",
   "metadata": {},
   "source": [
    "## Logiske operatorer\n",
    "\n",
    "**Logiske operatorer** er brukt for sammenligning av variabler. Vi kan tenke på dem som *sammenlikningsoperasjoner* der vi sjekker om en betingelse er oppfylt eller ikke. Resultatet av en slik sammenlikning er alltid enten at betingelsen er sann som gir `True`, eller at den er usann som gir `False`.\n",
    "\n",
    "I Python kan vi sette opp betingelser for på flere måter. I tabell 1 vises de vanligste logiske operatorer for to variabler `a` og `b`. \n",
    "\n",
    "**Tabell 1**: Tabellen viser de vanligste logiske operatorene. Som eksempel har vi satt `a = 1` og `b = -2` for å vise hva resultatet av operasjonen blir.\n",
    "| Operator | Eksempel | Betydning | Resultat |\n",
    "|----------|-----------|----------|----------|\n",
    "| `==` | `a == b` | Er `a` lik `b`? | `False` |\n",
    "| `!=` | `a != b` | Er `a` ulik `b`? | `True` |\n",
    "| `<` | `a < b` | Er `a` mindre enn `b`? | `False` |\n",
    "| `>` | `a > b` | Er `a` større enn `b`? | `True` |\n",
    "| `<=` | `a <= b` | Er `a` mindre enn eller lik `b`? | `False` |\n",
    "| `>=` | `a >= b` | Er `a` større enn eller lik `b`? | `True` |\n",
    "\n",
    "\n"
   ]
  },
  {
   "attachments": {},
   "cell_type": "markdown",
   "metadata": {},
   "source": [
    "### Underveisoppgave 3\n",
    "\n",
    "Hva blir resultatet av `1 != 2`?\n",
    "\n",
    "\n",
    "````{dropdown} Løsningsforslag\n",
    "\n",
    "Siden `1` er ulik `2`, så vil `1 != 2` være `True`.\n",
    "\n",
    "````"
   ]
  },
  {
   "attachments": {},
   "cell_type": "markdown",
   "metadata": {},
   "source": [
    "### Underveisoppgave 4\n",
    "\n",
    "La `r = -5` og `s = 10`. Hvilke(n) logisk(e) operator(er) kan settes mellom `r` og `s` slik at resultatet blir `False`? \n",
    "\n",
    "\n",
    "```{dropdown} Løsningsforslag\n",
    "\n",
    "Her er det flere muligheter. Noen eksempler er\n",
    "\n",
    "1. `r == s` gir `False` fordi `r` og `s` har ulik verdi.\n",
    "2. `r > s` gir `False` fordi `r` er mindre enn `s`.\n",
    "3. `r >= s` gir `False` fordi `r` er mindre enn `s`.\n",
    "\n",
    "\n",
    "```"
   ]
  },
  {
   "attachments": {},
   "cell_type": "markdown",
   "metadata": {},
   "source": [
    "### Underveisoppgave 5\n",
    "\n",
    "Lag en variabel med navn `res` med en verdi slik at følgende kodesnutt kjører `if`-blokken. Hva er en passende tekst å skrive ut til brukene i `if`-blokken?\n",
    "\n",
    "*Ta utgangspunkt i kodeskallet under. Du må fylle inn der det står `NotImplemented`.*"
   ]
  },
  {
   "cell_type": "code",
   "execution_count": null,
   "metadata": {},
   "outputs": [],
   "source": [
    "res = NotImplemented\n",
    "\n",
    "if res >= -2:\n",
    "    print(NotImplemented)\n",
    "else:\n",
    "    print(f\"{res} er mindre enn -2.\")"
   ]
  },
  {
   "attachments": {},
   "cell_type": "markdown",
   "metadata": {},
   "source": [
    "````{dropdown} Løsningsforslag\n",
    "\n",
    "I `if`-testen, så sjekker vi om `res` er større enn eller lik `-2`. \n",
    "Hvis vi ønsker at `if`-blokken skal kjøres, så må `res` være større enn eller lik `-2` fordi vi trenger at betingelsen skal bli `True`.\n",
    "Vi kan med andre ord sette `res` til en tilfeldig verdi som er større enn eller lik `-2`.\n",
    "\n",
    "Det vil si `res = -2` vil gi `True`, men det vil alle andre verdier som er større enn `-2` også. Så som et eksempel kan koden se slik ut:\n",
    "\n",
    "\n",
    "```python\n",
    "res = -1\n",
    "\n",
    "if res >= -2:\n",
    "    print(f\"{res} er større enn eller lik -2.\")\n",
    "else:\n",
    "    print(f\"{res} er mindre enn -2.\")\n",
    "```\n",
    "\n",
    "````"
   ]
  }
 ],
 "metadata": {
  "kernelspec": {
   "display_name": "Python 3",
   "language": "python",
   "name": "python3"
  },
  "language_info": {
   "codemirror_mode": {
    "name": "ipython",
    "version": 3
   },
   "file_extension": ".py",
   "mimetype": "text/x-python",
   "name": "python",
   "nbconvert_exporter": "python",
   "pygments_lexer": "ipython3",
   "version": "3.11.4"
  },
  "orig_nbformat": 4
 },
 "nbformat": 4,
 "nbformat_minor": 2
}
