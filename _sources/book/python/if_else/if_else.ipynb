{
 "cells": [
  {
   "attachments": {},
   "cell_type": "markdown",
   "metadata": {},
   "source": [
    "# `if`-`else` tester"
   ]
  },
  {
   "attachments": {},
   "cell_type": "markdown",
   "metadata": {},
   "source": [
    "Et sentralt verktøy i programmering er `if`-`else` tester. De lar oss kjøre deler av programmet hvis en betingelse er oppfylt, og kjøre en annen hvis den ikke er det. "
   ]
  },
  {
   "attachments": {},
   "cell_type": "markdown",
   "metadata": {},
   "source": [
    "## Enkle `if`-`else` tester\n",
    "\n",
    "En *enkel* `if`-`else` test vil har formen\n",
    "\n",
    "```{code-block}\n",
    ":linenos:\n",
    "if betingelse:\n",
    "    # Kjør denne koden hvis betingelse er True\n",
    "else:\n",
    "    # Kjør denne koden hvis betingelse er False\n",
    "```\n",
    "\n",
    "Vi kaller den første delen for `if`-*blokken* og den andre for `else`-*blokken*.\n",
    "\n",
    "\n",
    "Vi kan visualisere prosessen med et flytdiagram:\n"
   ]
  },
  {
   "cell_type": "markdown",
   "metadata": {},
   "source": [
    "```{mermaid}\n",
    "flowchart TD\n",
    "\n",
    "    A[Start] --> B[if-else test] --> C(Sjekk om betingelse er sann)\n",
    "    C -- Sann --> D[Utfør handling når betingelsen er sann]\n",
    "    C -- Usann --> E[Utfør handling når betingelsen er usann]\n",
    "    D --> F[Ferdig]\n",
    "    E --> F\n",
    "    \n",
    "```"
   ]
  },
  {
   "cell_type": "markdown",
   "metadata": {},
   "source": [
    "La oss se på et eksempel:"
   ]
  },
  {
   "cell_type": "code",
   "execution_count": 2,
   "metadata": {},
   "outputs": [
    {
     "name": "stdout",
     "output_type": "stream",
     "text": [
      "a er større enn eller lik null.\n"
     ]
    }
   ],
   "source": [
    "a = 1\n",
    "if a >= 0:\n",
    "    print(\"a er større enn eller lik null.\")\n",
    "else:\n",
    "    print(\"a er negativ eller null.\")"
   ]
  },
  {
   "attachments": {},
   "cell_type": "markdown",
   "metadata": {},
   "source": [
    "Det vi kan lære av dette er at `a >= 0` er en *betingelse* som kan være `True` eller `False`. Hvis den er `True` kjører vi koden i den første blokken, hvis den er `False` kjører vi koden i den andre blokken. Her er `a = 1`, så `a >= 0` er `True`, og vi får utskriften `a er større enn eller lik null`.\n",
    "\n",
    "Vi kan printe ut betingelsen `a >= 0` for å se at den faktisk evalueres til `True`:"
   ]
  },
  {
   "cell_type": "code",
   "execution_count": 3,
   "metadata": {},
   "outputs": [
    {
     "name": "stdout",
     "output_type": "stream",
     "text": [
      "True\n"
     ]
    }
   ],
   "source": [
    "print(a >= 0)"
   ]
  },
  {
   "attachments": {},
   "cell_type": "markdown",
   "metadata": {},
   "source": [
    "### Underveisoppgave 1\n",
    "\n",
    "La oss si vi setter `a = -1`. Hva blir da utskriften? Hvorfor? \n",
    "\n",
    "````{dropdown} Løsningsforslag\n",
    "\n",
    "Når `a = -1`, vil betingelsen `a >= 0` være `False`. Dermed vil `else`-blokken av koden kjøres, og vi får utskriften `a er mindre enn null`.\n",
    "\n",
    "````"
   ]
  },
  {
   "attachments": {},
   "cell_type": "markdown",
   "metadata": {},
   "source": [
    "## Betingelser i Python\n",
    "\n",
    "Python har innebygde måter å skrive betingelser. Dette lar oss sjekke om en betingelse er oppfylt eller ikke. Resultatet av en slik sammenlikning er alltid enten at betingelsen er sann som gir `True`, eller at den er usann som gir `False`.\n",
    "\n",
    "I Python kan vi sette opp betingelser for på flere måter. I tabell 1 vises de vanligste sammenlikningsoperatorene.\n",
    "\n",
    "**Tabell 1**: Tabellen viser de vanligste logiske operatorene. Som eksempel har vi satt `a = 1` og `b = -2` for å vise hva resultatet av operasjonen blir.\n",
    "| Operator | Eksempel | Betydning | Resultat |\n",
    "|----------|-----------|----------|----------|\n",
    "| `==` | `a == b` | Er `a` lik `b`? | `False` |\n",
    "| `!=` | `a != b` | Er `a` ulik `b`? | `True` |\n",
    "| `<` | `a < b` | Er `a` mindre enn `b`? | `False` |\n",
    "| `>` | `a > b` | Er `a` større enn `b`? | `True` |\n",
    "| `<=` | `a <= b` | Er `a` mindre enn eller lik `b`? | `False` |\n",
    "| `>=` | `a >= b` | Er `a` større enn eller lik `b`? | `True` |\n",
    "\n",
    "\n"
   ]
  },
  {
   "attachments": {},
   "cell_type": "markdown",
   "metadata": {},
   "source": [
    "### Underveisoppgave 2\n",
    "\n",
    "Hva blir resultatet av `1 != 2`?\n",
    "\n",
    "\n",
    "````{dropdown} Løsningsforslag\n",
    "\n",
    "Siden `1` er ulik `2`, så vil `1 != 2` være `True`.\n",
    "\n",
    "````"
   ]
  },
  {
   "attachments": {},
   "cell_type": "markdown",
   "metadata": {},
   "source": [
    "### Underveisoppgave 3\n",
    "\n",
    "La `r = -5` og `s = 10`. Finn en betingelse som kan settes på `r` og `s` slik at resultatet blir `False`? \n",
    "\n",
    "\n",
    "```{dropdown} Løsningsforslag\n",
    "\n",
    "Her er det flere muligheter. Noen eksempler er\n",
    "\n",
    "1. `r == s` gir `False` fordi `r` og `s` har ulik verdi.\n",
    "2. `r > s` gir `False` fordi `r` er mindre enn `s`.\n",
    "3. `r >= s` gir `False` fordi `r` er mindre enn `s`.\n",
    "4. `r + s != 5` gir `False` for `r + s` er lik `5`.\n",
    "\n",
    "\n",
    "```"
   ]
  },
  {
   "attachments": {},
   "cell_type": "markdown",
   "metadata": {},
   "source": [
    "### Underveisoppgave 4\n",
    "\n",
    "Lag en variabel med navn `res` med en verdi slik at følgende kodesnutt kjører `if`-blokken. Hva er en passende tekst å skrive ut til brukeren i `if`-blokken?\n",
    "\n",
    "*Ta utgangspunkt i kodeskallet under. Du må fylle inn der det står `NotImplemented`.*"
   ]
  },
  {
   "cell_type": "code",
   "execution_count": null,
   "metadata": {},
   "outputs": [],
   "source": [
    "res = NotImplemented\n",
    "\n",
    "if res >= -2:\n",
    "    print(NotImplemented)\n",
    "else:\n",
    "    print(f\"{res} er mindre enn -2.\")"
   ]
  },
  {
   "attachments": {},
   "cell_type": "markdown",
   "metadata": {},
   "source": [
    "````{dropdown} Løsningsforslag\n",
    "\n",
    "I `if`-testen, så sjekker vi om `res` er større enn eller lik `-2`. \n",
    "Hvis vi ønsker at `if`-blokken skal kjøres, så må `res` være større enn eller lik `-2` fordi vi trenger at betingelsen skal bli `True`.\n",
    "Vi kan med andre ord sette `res` til en tilfeldig verdi som er større enn eller lik `-2`.\n",
    "\n",
    "Det vil si `res = -2` vil gi `True`, men det vil alle andre verdier som er større enn `-2` også. Så som et eksempel kan koden se slik ut:\n",
    "\n",
    "\n",
    "```python\n",
    "res = -1\n",
    "\n",
    "if res >= -2:\n",
    "    print(f\"{res} er større enn eller lik -2.\")\n",
    "else:\n",
    "    print(f\"{res} er mindre enn -2.\")\n",
    "```\n",
    "\n",
    "````"
   ]
  },
  {
   "cell_type": "markdown",
   "metadata": {},
   "source": [
    "## `if`-`elif`-`else`-tester\n",
    "\n",
    "Ofte ønsker vi å skrive kode der hvilken del av koden vi kjører **ikke** bare er to-delt, men det finnes flere betingelser som gjør at andre deler av koden skal kjøres. Da kan vi bruke `if`-`elif`-`else`-tester.\n",
    "\n",
    "Den generelle strukturen til en `if`-`elif`-`else`-test er\n",
    "\n",
    "```{code-block} python\n",
    ":linenos:\n",
    ":emphasize-lines: 1,3,5\n",
    "\n",
    "if betingelse1: # Sjekk om betingelse 1 er sann\n",
    "    # Kjør kode hvis betingelse1 er sann\n",
    "elif betingelse2: # Hvis ikke betingelse1 er sann, sjekk om betingelse2 er sann\n",
    "    # Kjøre kode hvis betingelse2 er sann\n",
    "else: # Hvis ingen av betingelse1 og betingelse2 er sanne\n",
    "    # Kjør koden som står her\n",
    "```\n",
    "\n",
    "- På linje 1 sjekker vi om `betingelse1` er sann. Hvis den er det, så kjører vi koden som står i `if`-blokken.\n",
    "- På linje 3 sjekker vi om `betingelse2` er sann hvis `betingelse1` ikke var det. \n",
    "- På linje 5 kjører vi koden som står i `else`-blokken hvis verken `betingelse1` eller `betingelse2` er sanne.\n",
    "\n",
    "Flytdiagrammet under vises hvordan en `if`-`elif`-`else`-test fungerer.\n"
   ]
  },
  {
   "cell_type": "markdown",
   "metadata": {},
   "source": [
    "```{mermaid}\n",
    "flowchart TD\n",
    "\n",
    "    A[Start] --> B[if-elif-else test] --> C[Sjekk om if-betingelsen er sann]\n",
    "    C -- Sann --> D(if-blokk kjøres) --> G[Ferdig]\n",
    "    C -- Usann --> E[Sjekk om elif-betingelsen er sann]\n",
    "    E -- Sann --> F(elif-blokk kjøres) --> G[Ferdig]\n",
    "    E -- Usann --> H[else-blokk kjøres] --> G[Ferdig]\n",
    "```"
   ]
  },
  {
   "cell_type": "markdown",
   "metadata": {},
   "source": [
    "### Eksempel: moms på varer\n",
    "\n",
    "Når vi betaler for ulike tjeneser i Norge, er det ulike avgift som betales avhengig av varen.\n",
    "\n",
    "- For matvarer er det 15% moms.\n",
    "- For reiser er det 12% moms.\n",
    "- For generelle varer er det 25% moms.\n",
    "\n",
    "La oss se på et program som velger ut moms avhengig av hvilken vare det er:"
   ]
  },
  {
   "cell_type": "code",
   "execution_count": 5,
   "metadata": {},
   "outputs": [
    {
     "name": "stdout",
     "output_type": "stream",
     "text": [
      "moms = 12 prosent på varen din av type `reise`.\n"
     ]
    }
   ],
   "source": [
    "varetype = \"reise\"\n",
    "\n",
    "if varetype == \"mat\":\n",
    "    moms = 15 \n",
    "elif varetype == \"reise\":\n",
    "    moms = 12 \n",
    "else:\n",
    "    moms = 25\n",
    "\n",
    "print(f\"{moms = } prosent på varen din av type `{varetype}`.\")"
   ]
  },
  {
   "cell_type": "markdown",
   "metadata": {},
   "source": [
    "````{admonition} Gjennomgang av kodeeksempelet \n",
    ":class: tip, dropdown\n",
    "\n",
    "- På linje `1` setter vi `varetype = \"reise\"`.\n",
    "- På linje `3` sjekker programmet om `varetype` er lik `\"mat\"`. Siden den ikke var det, hopper vi over `if`-blokken av koden.\n",
    "- På linje `5` sjekker koden om `varetype` er lik `\"reise\"`. Det er den, så `elif`-blokken kjøres og vi setter `moms = 12`.\n",
    "- På linje `7` starter `else`-blokken. Men siden én av betingelsene var sann, så hopper vi over denne blokken.\n",
    "\n",
    "\n",
    "Med et flytdiagram, kan vi visualisere koden slik:\n",
    "\n",
    "\n",
    "```{mermaid} \n",
    "flowchart TD \n",
    "\n",
    "    A[Start: velg en varetype] --> B{if-elif-else-test}\n",
    "    B --> C[Sjekk om varetype er mat]\n",
    "    C -- Ja --> D[Sett moms til 15%]\n",
    "    C -- Nei --> E[Sjekk om varetype er reise]\n",
    "    E -- Ja --> F[Sett moms til 12%]\n",
    "    E -- Nei --> G[Sett moms til 25%]\n",
    "    D --> H[Skriv ut verdien]\n",
    "    F --> H[Skriv ut verdien]\n",
    "    G --> H[Skriv ut verdien]\n",
    "    H --> I[Ferdig]\n",
    "```\n",
    "\n",
    "\n",
    "\n",
    "````"
   ]
  },
  {
   "cell_type": "markdown",
   "metadata": {},
   "source": [
    "### Underveisoppgave 5\n",
    "\n",
    "Hva blir verdien til `y` i koden under?\n",
    "\n",
    "````{code-block} python\n",
    ":linenos:\n",
    "x = 2.5\n",
    "\n",
    "if x < 0:\n",
    "    y = 1\n",
    "elif x < 1:\n",
    "    y = 2\n",
    "else:\n",
    "    y = 3\n",
    "````\n",
    "\n",
    "\n",
    "```{dropdown} Løsningsforslag\n",
    "\n",
    "Her er `x` sin verdi `2.5`. Følger vi koden gjennom, så skjer følgende:\n",
    "- På linje 3 sjekker vi om `x` er mindre enn `0`. Det er den ikke, så vi går videre til `elif`-blokken.\n",
    "- På linje 5 sjekker vi om `x` er mindre enn `1`. Det er den heller ikke, så vi går videre til `else`-blokken.\n",
    "- Dermed setter vi `y = 3` på linje 7.\n",
    "\n",
    "Verdien til `y` blir derfor `3`.\n",
    "\n",
    "```"
   ]
  },
  {
   "cell_type": "code",
   "execution_count": 6,
   "metadata": {},
   "outputs": [
    {
     "name": "stdout",
     "output_type": "stream",
     "text": [
      "gevinst = 10 kr når terningen viser 5.\n"
     ]
    }
   ],
   "source": [
    "terningkast = 5 # Eksmepel på terningkast\n",
    "\n",
    "if 1 <= terningkast <= 3:\n",
    "    gevinst = 0\n",
    "elif 4 <= terningkast <= 5:\n",
    "    gevinst = 10\n",
    "else:\n",
    "    gevinst = 100\n",
    "\n",
    "print(f\"{gevinst = } kr når terningen viser {terningkast}.\")"
   ]
  },
  {
   "cell_type": "markdown",
   "metadata": {},
   "source": [
    "### Underveisoppgave 6\n",
    "\n",
    "Tenk deg at du har den uferdige koden\n",
    "\n",
    "```{code-block} python\n",
    ":linenos:\n",
    "x = 0.5\n",
    "\n",
    "if x <= 0:\n",
    "    print(\"x er mindre enn eller lik 0.\")\n",
    "elif NotImplemented:\n",
    "    print(\"x ligger mellom 0 og 1.\")\n",
    "else:\n",
    "    print(\"x er større enn eller lik 1.\")\n",
    "```\n",
    "\n",
    "Hvilken betingelse må du sette på linje `5` (der det står `NotImplemented`) for at `elif`-blokken skal kjøres, og at utskriften stemmer overens med betingelsen?"
   ]
  },
  {
   "cell_type": "markdown",
   "metadata": {},
   "source": [
    "````{dropdown} Løsningsforslag\n",
    "\n",
    "Vi ønsker at `elif`-blokken skal kjøres hvis `x` er større enn `0` og mindre enn `1`.\n",
    "Derfor er den riktig betingelsen `0 < x < 1` eller `x > 0 and x < 1`\n",
    "\n",
    "````"
   ]
  },
  {
   "cell_type": "markdown",
   "metadata": {},
   "source": [
    "````{admonition} Kan man legge til flere elif-blokker?\n",
    ":class: tip, dropdown\n",
    "\n",
    "Man kan legge til så mange `elif`-blokker man måtte ønske! \n",
    "\n",
    "```python\n",
    "if betingelse1:\n",
    "    # Gjør noe hvis betingelse 1 er sann\n",
    "elif betingelse2:\n",
    "    # gjør noe hvis betingelse 2 er sann\n",
    "elif betingelse3:\n",
    "    # gjør noe hvis betingelse 3 er sann\n",
    "\n",
    ".       .       .       .       .       .\n",
    ".       .       .       .       .       .\n",
    ".       .       .       .       .       .\n",
    "\n",
    "elif betingelseN:\n",
    "    # gjør noe hvis betingelse N er sann\n",
    "else:\n",
    "    # Gjør noe hvis ingen av betingelsene er sanne\n",
    "\n",
    "```\n",
    "````"
   ]
  },
  {
   "cell_type": "markdown",
   "metadata": {},
   "source": [
    "## Oppgaver"
   ]
  },
  {
   "cell_type": "markdown",
   "metadata": {},
   "source": [
    "### Oppgave 1\n",
    "\n",
    "Lag et program som spør brukeren om alderen deres. Hvis alderen er under 18, skal programmet skrive ut `Du er ikke myndig`. Hvis alderen er 18 eller over, skal programmet skrive ut `Du er myndig`.\n",
    "\n",
    "*Du kan ta utgangspunkt i kodeskallet under. Du må fylle inn der det står `NotImplemented`.*"
   ]
  },
  {
   "cell_type": "code",
   "execution_count": null,
   "metadata": {},
   "outputs": [],
   "source": [
    "alder = input(\"Hvor gammel er du? \")\n",
    "\n",
    "if NotImplemented:\n",
    "    NotImplemented\n",
    "else:\n",
    "    NotImplemented"
   ]
  },
  {
   "cell_type": "markdown",
   "metadata": {},
   "source": [
    "````{dropdown} Løsningsforslag\n",
    "\n",
    "To måter å løse dette på:\n",
    "\n",
    "1. \n",
    "```python\n",
    "alder = input(\"Hvor gammel er du? \")\n",
    "\n",
    "if alder < 18:\n",
    "    print(\"Du er ikke myndig.\")\n",
    "else:\n",
    "    print(\"Du er myndig.\")\n",
    "```\n",
    "\n",
    "2. \n",
    "```python\n",
    "alder = input(\"Hvor gammel er du? \")\n",
    "\n",
    "if alder >= 18:\n",
    "    print(\"Du er myndig.\")\n",
    "else:\n",
    "    print(\"Du er ikke myndig.\")\n",
    "```\n",
    "\n",
    "````"
   ]
  },
  {
   "cell_type": "markdown",
   "metadata": {},
   "source": [
    "### Oppgave 2\n",
    "\n"
   ]
  },
  {
   "cell_type": "markdown",
   "metadata": {},
   "source": []
  }
 ],
 "metadata": {
  "kernelspec": {
   "display_name": "Python 3",
   "language": "python",
   "name": "python3"
  },
  "language_info": {
   "codemirror_mode": {
    "name": "ipython",
    "version": 3
   },
   "file_extension": ".py",
   "mimetype": "text/x-python",
   "name": "python",
   "nbconvert_exporter": "python",
   "pygments_lexer": "ipython3",
   "version": "3.11.4"
  },
  "orig_nbformat": 4
 },
 "nbformat": 4,
 "nbformat_minor": 2
}
