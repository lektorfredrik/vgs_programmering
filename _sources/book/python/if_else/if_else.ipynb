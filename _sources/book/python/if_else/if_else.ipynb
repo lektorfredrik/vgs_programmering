{
 "cells": [
  {
   "attachments": {},
   "cell_type": "markdown",
   "metadata": {},
   "source": [
    "# `if`-`else` tester"
   ]
  },
  {
   "attachments": {},
   "cell_type": "markdown",
   "metadata": {},
   "source": [
    "Et sentralt verktøy i programmering er `if`-`else` tester. De lar oss kjøre deler av programmet hvis en betingelse er oppfylt, og kjøre en annen hvis den ikke er det. "
   ]
  },
  {
   "attachments": {},
   "cell_type": "markdown",
   "metadata": {},
   "source": [
    "## Enkle `if`-`else` tester\n",
    "\n",
    "En *enkel* `if`-`else` test vil har formen\n",
    "\n",
    "```python\n",
    "if betingelse is True:\n",
    "    # Kjør denne koden hvis betingelse er True\n",
    "else:\n",
    "    # Kjør denne koden hvis betingelse er False\n",
    "```\n",
    "\n",
    "La oss se på et eksempel:"
   ]
  },
  {
   "cell_type": "code",
   "execution_count": 1,
   "metadata": {},
   "outputs": [
    {
     "name": "stdout",
     "output_type": "stream",
     "text": [
      "a er større enn null\n"
     ]
    }
   ],
   "source": [
    "a = 1\n",
    "if a >= 0:\n",
    "    print(\"a er større enn null\")\n",
    "else:\n",
    "    print(\"a er mindre enn null\")"
   ]
  },
  {
   "attachments": {},
   "cell_type": "markdown",
   "metadata": {},
   "source": [
    "Det kan hende du reagerer på at det ikke står `if a >= 0 is True` i stedet for bare `if a >= 0`. Vel, vi kan skrive det:"
   ]
  },
  {
   "cell_type": "code",
   "execution_count": 6,
   "metadata": {},
   "outputs": [
    {
     "name": "stdout",
     "output_type": "stream",
     "text": [
      "a er mindre enn null\n"
     ]
    },
    {
     "name": "stderr",
     "output_type": "stream",
     "text": [
      "<>:1: SyntaxWarning: \"is\" with a literal. Did you mean \"==\"?\n",
      "<>:1: SyntaxWarning: \"is\" with a literal. Did you mean \"==\"?\n",
      "/var/folders/qn/k22_3xrj3yg85dktk2y1gm2h0000gn/T/ipykernel_20940/1849004886.py:1: SyntaxWarning: \"is\" with a literal. Did you mean \"==\"?\n",
      "  if a >= 0 is True:\n"
     ]
    }
   ],
   "source": [
    "if a >= 0 is True:\n",
    "    print(\"a er større enn null\")\n",
    "else:\n",
    "    print(\"a er mindre enn null\")"
   ]
  },
  {
   "attachments": {},
   "cell_type": "markdown",
   "metadata": {},
   "source": [
    "Men dette gir en `SyntaxWarning`, det vil si et varsel på at vi ikke følger riktig skrive måte. Dette skylder i bunn og grunn at hvis `a = 1`, så vil `a >= 0` evalueres til `True`. Sannheten er at hvis vi plasserer `a >= 0` i en parentes, så får vi ingen slik advarsel:"
   ]
  },
  {
   "cell_type": "code",
   "execution_count": 8,
   "metadata": {},
   "outputs": [
    {
     "name": "stdout",
     "output_type": "stream",
     "text": [
      "a er større enn null\n"
     ]
    }
   ],
   "source": [
    "if (a >= 0) is True:\n",
    "    print(\"a er større enn null\")\n",
    "else:\n",
    "    print(\"a er mindre enn null\")"
   ]
  },
  {
   "attachments": {},
   "cell_type": "markdown",
   "metadata": {},
   "source": [
    "Det vi kan lære av dette er at `a >= 0` evalueres til `True`. Derfor er det ikke nødvendig å skrive `if a >= 0 is True`, i stedet er det tilstrekkelig å skrive"
   ]
  },
  {
   "cell_type": "code",
   "execution_count": 9,
   "metadata": {},
   "outputs": [
    {
     "name": "stdout",
     "output_type": "stream",
     "text": [
      "a er større enn null\n"
     ]
    }
   ],
   "source": [
    "if a >= 0:\n",
    "    print(\"a er større enn null\")\n",
    "else:\n",
    "    print(\"a er mindre enn null\")"
   ]
  },
  {
   "attachments": {},
   "cell_type": "markdown",
   "metadata": {},
   "source": [
    "Konklusjonen er at en enklere måte å skrive det hele på, hvertfall når vi driver med matematiske betingelser som at $a \\geq 0$, så kan vi bare skrive\n",
    "\n",
    "```python\n",
    "if betingelse:\n",
    "    # Kjør denne koden hvis betingelse er True\n",
    "else:\n",
    "    # Kjør denne koden hvis betingelse er False\n",
    "```"
   ]
  },
  {
   "attachments": {},
   "cell_type": "markdown",
   "metadata": {},
   "source": [
    "La oss se på et eksempel der betingelsen evalueres til `False` i stedet."
   ]
  },
  {
   "cell_type": "code",
   "execution_count": 10,
   "metadata": {},
   "outputs": [
    {
     "name": "stdout",
     "output_type": "stream",
     "text": [
      "a er større enn null eller lik null\n"
     ]
    }
   ],
   "source": [
    "if a < 0:\n",
    "    print(\"a er mindre enn null\")\n",
    "else:\n",
    "    print(\"a er større enn null eller lik null\")"
   ]
  },
  {
   "attachments": {},
   "cell_type": "markdown",
   "metadata": {},
   "source": [
    "Her var betingelsen `a < 0` som ikke er sant siden `a = 1`. Med andre ord er betingelsen `False`, som er grunnen til at blokken som etterfølger `else` er den som kjøres. Vi kan bekrefte at `a < 0` faktisk er lik `False`:"
   ]
  },
  {
   "cell_type": "code",
   "execution_count": 11,
   "metadata": {},
   "outputs": [
    {
     "name": "stdout",
     "output_type": "stream",
     "text": [
      "False\n"
     ]
    }
   ],
   "source": [
    "print(a < 0)"
   ]
  },
  {
   "attachments": {},
   "cell_type": "markdown",
   "metadata": {},
   "source": [
    "### Underveisoppgave\n",
    "\n",
    "Tenk deg at vi har koden\n",
    "\n",
    "```python\n",
    "bruttolønn = 4000\n",
    "skatt = 15 # Skatt i prosent\n",
    "nettolønn = bruttolønn * (1 - skatt/100)\n",
    "\n",
    "if nettolønn > 3000:\n",
    "    print(\"Du tjener mer enn 3000 kr i måneden\")\n",
    "else:\n",
    "    print(\"Du tjener mindre enn 3000 kr i måneden\")\n",
    "```\n",
    "\n",
    "Hva blir utskriften av denne koden?"
   ]
  },
  {
   "attachments": {},
   "cell_type": "markdown",
   "metadata": {},
   "source": [
    "````{dropdown} Løsningsforslag\n",
    "\n",
    "`nettolønn` vil være lik `3400`, som er større enn `3000`. Derfor vil utskriften være\n",
    "\n",
    "```console\n",
    "Du tjener mer enn 3000 kr i måneden\n",
    "```\n",
    "\n",
    "````"
   ]
  }
 ],
 "metadata": {
  "kernelspec": {
   "display_name": "Python 3",
   "language": "python",
   "name": "python3"
  },
  "language_info": {
   "codemirror_mode": {
    "name": "ipython",
    "version": 3
   },
   "file_extension": ".py",
   "mimetype": "text/x-python",
   "name": "python",
   "nbconvert_exporter": "python",
   "pygments_lexer": "ipython3",
   "version": "3.11.4"
  },
  "orig_nbformat": 4
 },
 "nbformat": 4,
 "nbformat_minor": 2
}
