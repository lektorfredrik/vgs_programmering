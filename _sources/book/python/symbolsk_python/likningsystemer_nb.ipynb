{
 "cells": [
  {
   "attachments": {},
   "cell_type": "markdown",
   "metadata": {},
   "source": [
    "# Løse Likningssystemer med `sympy`\n",
    "\n",
    "Likningssystemer er flere likninger med flere ukjente. Vi skal se på hvordan vi kan løse slike likningssystemer med `sympy`."
   ]
  },
  {
   "attachments": {},
   "cell_type": "markdown",
   "metadata": {},
   "source": [
    "## Likningsystemer med to likninger og to ukjente\n",
    "\n",
    "Vi skal se på likningsystemer med to likninger og to ukjente, både lineære og ikke-lineære.\n",
    "\n",
    "### Lineære likningsystemer med to likninger og to ukjente\n",
    "\n",
    "Et lineært likningsystem med to likninger og to ukjente kan skrives på formen\n",
    "\n",
    "\\begin{align}\n",
    "    ax + by & = r, \\\\\n",
    "    cx + dy & = s. \\\\\n",
    "\\end{align}\n",
    "\n",
    "For å løse slike likninger, kan vi benytte oss av `sympy.solve` akkurat som med vanlig likninger, men da er vi nødt til å omforme begge to slik at vi får 0 på høyre side av likningene, som dette:\n",
    "\n",
    "\\begin{align}\n",
    "    ax + by - r & = 0, \\\\\n",
    "    cx + dy - s & = 0. \\\\\n",
    "\\end{align}\n",
    "\n",
    "Det vi skal sende inn som likninger til `sympy.solve` er venstre side av de to likningene. Vi kan gjøre dette på følgende måte:\n",
    "\n",
    "```python\n",
    "import sympy as sp\n",
    "x, y = sp.solve(\"x y\")\n",
    "sp.solve([a*x + b*y - r, c*x + d*y - s], [x, y])\n",
    "```\n",
    "\n",
    "*Merk at koden over ikke ville kjørt, fordi vi har ikke spesifisert hva `a`, `b`, `c`, `d`, `r` og `s` er.*\n",
    "\n",
    "```{admonition} Viktig egenskap ved lineære likningsystemer\n",
    ":class: tip\n",
    "\n",
    "Lineære likningssystemer kan *kun* komme i tre varianter:\n",
    "1. Nøyaktig én løsning\n",
    "2. Uendelig mange løsninger\n",
    "3. Ingen løsninger\n",
    "\n",
    "Vi skal derfor ta for disse tre eksemplene for å se hvordan disse håndteres av `sympy`\n",
    "```"
   ]
  },
  {
   "attachments": {},
   "cell_type": "markdown",
   "metadata": {},
   "source": [
    "#### Eksempel 1: Lineært likningsystem med nøyaktig én løsning\n",
    "\n",
    "Vi skal løse likningsystemet\n",
    "\n",
    "\\begin{align}\n",
    "    2x + 3y & = 5, \\\\\n",
    "    4x + 5y & = 6. \\\\\n",
    "\\end{align}\n",
    "\n",
    "Først må vi omforme likningene slik at vi får 0 på høyre side\n",
    "\n",
    "\\begin{align}\n",
    "    2x + 3y - 5 & = 0, \\\\\n",
    "    4x + 5y - 6 & = 0. \\\\\n",
    "\\end{align}\n",
    "\n",
    "Da kan vi løse likningsystemet med `sympy.solve`:\n"
   ]
  },
  {
   "cell_type": "code",
   "execution_count": 1,
   "metadata": {},
   "outputs": [
    {
     "name": "stdout",
     "output_type": "stream",
     "text": [
      "{x: -7/2, y: 4}\n"
     ]
    }
   ],
   "source": [
    "import sympy as sp\n",
    "x, y = sp.symbols('x y')\n",
    "løsninger = sp.solve([2*x + 3*y - 5, 4*x + 5*y - 6], [x, y])\n",
    "print(løsninger)"
   ]
  },
  {
   "attachments": {},
   "cell_type": "markdown",
   "metadata": {},
   "source": [
    "Så vi finner at løsningen av likningen er \n",
    "$$\n",
    "x = -\\frac{7}{2} \\wedge y = 4.\n",
    "$$"
   ]
  },
  {
   "attachments": {},
   "cell_type": "markdown",
   "metadata": {},
   "source": [
    "#### Eksempel 2: Lineært likningsystem med uendelig mange løsninger\n",
    "\n",
    "Et lineært likningssystem med uendelig mange løsninger med to likninger og to ukjente, vil være likninger der to av dem er et multippel av hverandre. For eksempel \n",
    "\n",
    "\\begin{align}\n",
    "    2x + 3y & = 5, \\\\\n",
    "    4x + 6y & = 10. \\\\\n",
    "\\end{align}\n",
    "\n",
    "Her er likning 2 bare 2 ganget med likning 1. Vi kan omforme likningene slik at vi får 0 på høyre side\n",
    "\n",
    "\\begin{align}\n",
    "    2x + 3y - 5 & = 0, \\\\\n",
    "    4x + 6y - 10 & = 0. \\\\\n",
    "\\end{align}\n",
    "\n",
    "Da kan vi løse likningsystemet med `sympy.solve`:"
   ]
  },
  {
   "cell_type": "code",
   "execution_count": 3,
   "metadata": {},
   "outputs": [
    {
     "name": "stdout",
     "output_type": "stream",
     "text": [
      "{x: 5/2 - 3*y/2}\n"
     ]
    }
   ],
   "source": [
    "import sympy as sp\n",
    "x, y = sp.symbols('x y')\n",
    "løsninger = sp.solve([2*x + 3*y - 5, 4*x + 6*y - 10], [x, y])\n",
    "print(løsninger)"
   ]
  },
  {
   "attachments": {},
   "cell_type": "markdown",
   "metadata": {},
   "source": [
    "Her får vi at løsningen er\n",
    "\n",
    "$$\n",
    "x = \\frac{5}{2} - \\frac{3y}{2},\n",
    "$$\n",
    "men det er ingen krav satt på verdien til $y$, så den kan være hva som helst. Vi kan derfor skrive løsningen som\n",
    "\n",
    "$$\n",
    "x = \\frac{5}{2} - \\frac{3y}{2} \\wedge y \\in \\mathbb{R}.\n",
    "$$"
   ]
  },
  {
   "attachments": {},
   "cell_type": "markdown",
   "metadata": {},
   "source": [
    "#### Eksempel 3: Lineært likningsystem uten løsning\n",
    "\n",
    "Et eksempel på en likning som ikke har noen løsning er\n",
    "\n",
    "\\begin{align}\n",
    "    x + y & = 3, \\\\\n",
    "    x + y & = 5. \\\\\n",
    "\\end{align}\n",
    "\n",
    "Vi kan omforme likningene slik at vi får 0 på høyre side\n",
    "\n",
    "\\begin{align}\n",
    "    x + y - 3 & = 0, \\\\\n",
    "    x + y - 5 & = 0. \\\\\n",
    "\\end{align}\n",
    "\n",
    "Da kan vi *forsøke* å løse likningsystemet med `sympy.solve`:"
   ]
  },
  {
   "cell_type": "code",
   "execution_count": 6,
   "metadata": {},
   "outputs": [
    {
     "name": "stdout",
     "output_type": "stream",
     "text": [
      "[]\n"
     ]
    }
   ],
   "source": [
    "import sympy as sp\n",
    "x, y = sp.symbols('x y')\n",
    "løsninger = sp.solve([x + y - 3, x + y - 5], [x, y])\n",
    "print(løsninger)"
   ]
  },
  {
   "attachments": {},
   "cell_type": "markdown",
   "metadata": {},
   "source": [
    "Det skrives ut en tom liste `[]`, som betyr at det ikke finnes noen løsning."
   ]
  },
  {
   "attachments": {},
   "cell_type": "markdown",
   "metadata": {},
   "source": [
    "### Ikke-lineære likningsystemer med to likninger og to ukjente"
   ]
  },
  {
   "attachments": {},
   "cell_type": "markdown",
   "metadata": {},
   "source": [
    "Ikke-lineære likningsystemer involverer likninger der minst én av de ukjente variabelene er opphøyd i en potens som er større enn 1, eller der de ukjente variabelene er multiplisert med hverandre, eller der hvor transcendentale funksjoner inngår. Eksempler på slike likninger er\n",
    "\n",
    "$$\n",
    "x^2 + 2y + 3 = 0,\n",
    "$$\n",
    "\n",
    "eller \n",
    "\n",
    "$$\n",
    "xy + 2x + 3y = 0,\n",
    "$$\n",
    "\n",
    "eller \n",
    "\n",
    "$$\n",
    "e^x + \\sin(y) = 0.\n",
    "$$\n",
    "\n",
    "Når vi har to likninger der minst én av likningene har en ikke-lineær form, kan det være vanskelig å finne en løsning på hva de to ukjente må være for å oppfylle begge likninger. I videregående skole er det typisk bare to de første som dukker opp, ofte sammen med en lineær likning. Vi skal se på hvordan vi kan løse slike likninger med `sympy`.\n"
   ]
  },
  {
   "attachments": {},
   "cell_type": "markdown",
   "metadata": {},
   "source": [
    "#### Eksempel 1: Ikke-lineært likningssystem med én av variablene opphøyd i en potens\n",
    "\n",
    "Vi skal løse likningsystemet\n",
    "\n",
    "\\begin{align}\n",
    "    x^2 - 2y & = -3, \\\\\n",
    "    x + y & = 1. \\\\\n",
    "\\end{align}\n",
    "\n",
    "Akkurat som med de lineære likningene, må vi få 0 på høyre side av likningene. Skriver vi om likningene i likningsystemet får vi\n",
    "\n",
    "\\begin{align}\n",
    "    x^2 - 2y + 3 & = 0, \\\\\n",
    "    x + y - 1 & = 0. \\\\\n",
    "\\end{align}\n",
    "\n",
    "Da kan vi løse likningsystemet med `sympy.solve`:"
   ]
  },
  {
   "cell_type": "code",
   "execution_count": 8,
   "metadata": {},
   "outputs": [
    {
     "name": "stdout",
     "output_type": "stream",
     "text": [
      "[(-1, 2)]\n"
     ]
    }
   ],
   "source": [
    "import sympy as sp\n",
    "x, y = sp.symbols(\"x y\")\n",
    "løsninger = sp.solve([x**2 - 2*y + 3, x + y - 1], [x, y])\n",
    "print(løsninger)"
   ]
  },
  {
   "attachments": {},
   "cell_type": "markdown",
   "metadata": {},
   "source": [
    "Som gir oss nøyaktig én løsning med $x = -1 \\wedge y = 2$."
   ]
  }
 ],
 "metadata": {
  "kernelspec": {
   "display_name": "Python 3",
   "language": "python",
   "name": "python3"
  },
  "language_info": {
   "codemirror_mode": {
    "name": "ipython",
    "version": 3
   },
   "file_extension": ".py",
   "mimetype": "text/x-python",
   "name": "python",
   "nbconvert_exporter": "python",
   "pygments_lexer": "ipython3",
   "version": "3.11.3"
  },
  "orig_nbformat": 4
 },
 "nbformat": 4,
 "nbformat_minor": 2
}
