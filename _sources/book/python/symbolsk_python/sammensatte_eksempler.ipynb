{
 "cells": [
  {
   "cell_type": "markdown",
   "metadata": {},
   "source": [
    "# Sammensatte eksempler med `sympy`\n",
    "Her skal vi se på noen eksempler på hvordan vi kan bruke `sympy` til å løse oppgaver med flere steg. Vi skal se på følgende eksempler:\n",
    "\n",
    "* Finn ekstremalpunkter til en funksjon.\n",
    "* Finn likningen til en tangent.\n",
    "* Finn skjæringspunkt mellom to grafer.\n",
    "\n"
   ]
  },
  {
   "cell_type": "markdown",
   "metadata": {},
   "source": [
    "## Eksempel 1: Ekstremalpunkter\n",
    "\n",
    "Vi skal finne ekstremalpunktene til funksjonen \n",
    "\n",
    "$$\n",
    "f(x) = \\frac{1}{3}x^3 - \\frac{1}{2}x^2 - 6x + 5\n",
    "$$\n",
    "\n",
    "Da må vi gjøre følgende:\n",
    "1. Definere funksjonen $f$\n",
    "2. Finne den deriverte $f'(x)$\n",
    "3. Løse likningen $f'(x) = 0$. Dette gir oss kandidatene til ekstremalpunktene.\n",
    "\n",
    "Dette kan vi gjøre med `sympy` på følgende måte:"
   ]
  },
  {
   "cell_type": "code",
   "execution_count": 7,
   "metadata": {},
   "outputs": [
    {
     "name": "stdout",
     "output_type": "stream",
     "text": [
      "1.0*x**2 - 1.0*x - 6\n",
      "[-2.00000000000000, 3.00000000000000]\n"
     ]
    }
   ],
   "source": [
    "import sympy\n",
    "from sympy.abc import x\n",
    "\n",
    "# 1. Definerer funksjonen f\n",
    "f = (1 / 3) * x**3 - (1 / 2) * x**2 - 6 * x + 5\n",
    "\n",
    "# 2. Finner den deriverte av f\n",
    "f_derivert = sympy.diff(f, x)\n",
    "\n",
    "# 3. Løser likningen f'(x) = 0\n",
    "ekstremalpunkter = sympy.solve(f_derivert, x)\n",
    "print(ekstremalpunkter)"
   ]
  },
  {
   "cell_type": "code",
   "execution_count": 6,
   "metadata": {},
   "outputs": [
    {
     "data": {
      "text/plain": [
       "[-2, 3]"
      ]
     },
     "execution_count": 6,
     "metadata": {},
     "output_type": "execute_result"
    }
   ],
   "source": [
    "sympy.solve(x**2 - x - 6)"
   ]
  },
  {
   "cell_type": "code",
   "execution_count": null,
   "metadata": {},
   "outputs": [],
   "source": []
  }
 ],
 "metadata": {
  "kernelspec": {
   "display_name": "Python 3",
   "language": "python",
   "name": "python3"
  },
  "language_info": {
   "codemirror_mode": {
    "name": "ipython",
    "version": 3
   },
   "file_extension": ".py",
   "mimetype": "text/x-python",
   "name": "python",
   "nbconvert_exporter": "python",
   "pygments_lexer": "ipython3",
   "version": "3.11.6"
  }
 },
 "nbformat": 4,
 "nbformat_minor": 2
}
