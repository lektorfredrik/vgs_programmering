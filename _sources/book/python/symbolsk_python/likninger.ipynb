{
 "cells": [
  {
   "attachments": {},
   "cell_type": "markdown",
   "metadata": {},
   "source": [
    "# Løse Likninger med `sympy`"
   ]
  },
  {
   "attachments": {},
   "cell_type": "markdown",
   "metadata": {},
   "source": [
    "Å løse likninger er en viktig del av matematikken. I dette notatet skal vi se på hvordan vi kan løse likninger med `sympy`."
   ]
  },
  {
   "attachments": {},
   "cell_type": "markdown",
   "metadata": {},
   "source": [
    "## Likninger med én ukjent\n",
    "\n",
    "For å løse likninger, bruker vi funksjonen `sympy.solve`. Denne funksjonen tar to argumenter,\n",
    "\n",
    "1. Venstesiden av likningen som skal løses. Det er antatt at likningen er på formen $f(x) = 0$, så vi skal bare sende inn hva $f(x)$ er.\n",
    "2. Den ukjente variabelen som skal løses for.\n",
    "\n",
    "Den generelle skrivemåten blir derfor\n",
    "\n",
    "```python\n",
    "import sympy # Må importere biblioteket\n",
    "from sympy.abc import x # Importerer en symbolsk variabel for `x`\n",
    "\n",
    "løsninger = sympy.solve(funksjonsuttrykk) # Løser likningen f(x) = 0 for x.\n",
    "```\n",
    "\n",
    "\n",
    "````{admonition} Andre måter å lage en symbolsk variabel på \n",
    ":class: tip\n",
    "\n",
    "Legg merke til at vi må importere både `sympy` som et bibliotek, samt `x` som en symbolsk variabel fra `sympy.abc`. \n",
    "Python vil ikke forstå hva vi prøver å løse hvis vi ikke importerer `x` som en symbolsk variabel fra `sympy.abc`, \n",
    "og vi vil bare få at `x` ikke er definert. \n",
    "\n",
    "Alternativt kan `x` hentes ut som en symbolsk variabel fra `sympy` på følgende måte:\n",
    "\n",
    "```python\n",
    "x = sympy.abc.x\n",
    "```\n",
    "\n",
    "````\n"
   ]
  },
  {
   "attachments": {},
   "cell_type": "markdown",
   "metadata": {},
   "source": [
    "### Eksempel 1: Løse en lineær likning\n",
    "\n",
    "La oss se på hvordan vi kan løse likningen\n",
    "\n",
    "$$\n",
    "2x - 1 = 0.\n",
    "$$\n",
    "\n",
    "Dette kan vi selvfølgelig gjøre for hånd, og da finner vi at $x = 1/2$. \n",
    "\n",
    "For å bruke `sympy` må vi identifisere hva $f(x)$ er for noe, og i dette tilfellet er det $f(x) = 2x - 1$. Vi kan derfor skrive"
   ]
  },
  {
   "cell_type": "code",
   "execution_count": 1,
   "metadata": {},
   "outputs": [
    {
     "name": "stdout",
     "output_type": "stream",
     "text": [
      "[1/2]\n"
     ]
    }
   ],
   "source": [
    "import sympy\n",
    "from sympy.abc import x # Lager en symbolsk variabel for x\n",
    "\n",
    "f = 2 * x - 1 # Lager en symbolsk funksjon f(x) = 2*x - 1\n",
    "løsninger = sympy.solve(f) # Løser likningen 2*x - 1 = 0.\n",
    "\n",
    "print(løsninger)"
   ]
  },
  {
   "cell_type": "markdown",
   "metadata": {},
   "source": [
    "som betyr at løsningen av likningen er $x = 1/2$."
   ]
  },
  {
   "cell_type": "markdown",
   "metadata": {},
   "source": [
    "````{admonition} Kommentar til koden\n",
    ":class: tip, dropdown\n",
    "\n",
    "I eksempelet her, og i de neste eksemplene som følger, har definert en symbolsk uttrykk for funksjonen `f` i likningen $f(x) = 0$.\n",
    "Man trenger strengt tatt ikke å gjøre dette, men kan i stedet bare skrive venstresiden av likningen direkte inn i `sympy.solve`:\n",
    "\n",
    "```python\n",
    "løsninger = sympy.solve(2 * x - 1)\n",
    "```\n",
    "\n",
    "Dette vil gi akkurat samme resultat.\n",
    "\n",
    "````"
   ]
  },
  {
   "attachments": {},
   "cell_type": "markdown",
   "metadata": {},
   "source": [
    "### Eksempel 2: Løse en andregradslikning\n",
    "\n",
    "La oss se på hvordan vi kan løse likningen\n",
    "\n",
    "$$\n",
    "x^2 + x - 2 = 0,\n",
    "$$\n",
    "\n",
    "ved å bruke `sympy`. Vi kan løse denne likningen for hånd ved å faktorisere venstresiden av likningen, og da finner vi at $x = -2$ eller $x = 1$.\n",
    "\n",
    "For å bruke `sympy.solve`, må vi identifiere hva $f(x)$ er her, og det er $f(x) = x^2 + x - 2$. Vi kan derfor skrive\n"
   ]
  },
  {
   "cell_type": "code",
   "execution_count": 43,
   "metadata": {},
   "outputs": [
    {
     "name": "stdout",
     "output_type": "stream",
     "text": [
      "[-2, 1]\n"
     ]
    }
   ],
   "source": [
    "import sympy\n",
    "from sympy.abc import x\n",
    "\n",
    "f = x**2 + x - 2 # Lager en symbolsk funksjon f(x) = x**2 + x - 2\n",
    "løsninger = sympy.solve(f) # Løser likningen x**2 + x - 2 = 0.\n",
    "\n",
    "print(løsninger)"
   ]
  },
  {
   "cell_type": "markdown",
   "metadata": {},
   "source": [
    "som betyr at løsningen av likningen er $x = -2 \\, \\vee \\,  x = 1$.\n"
   ]
  },
  {
   "attachments": {},
   "cell_type": "markdown",
   "metadata": {},
   "source": [
    "### Eksempel 3: Løse en tredjegradslikning\n",
    "\n",
    "La oss se på et eksempel der vi skal løse en tredjegradslikning. Vi skal løse likningen\n",
    "\n",
    "$$\n",
    "x^3 + 2x^2 = x - 2.\n",
    "$$\n",
    "\n",
    "Første steg er å flytte alt over på venstresiden, slik at vi får en likning på formen $f(x) = 0$. Da får vi\n",
    "\n",
    "$$\n",
    "x^3 - 2x^2 - x + 2 = 0,\n",
    "$$\n",
    "\n",
    "så vi kan sette $f(x) = x^3 - 2x^2 - x + 2$ i tråd med det vi har gjort tidligere. For å løse likningen skriver vi derfor koden:"
   ]
  },
  {
   "cell_type": "code",
   "execution_count": 42,
   "metadata": {},
   "outputs": [
    {
     "name": "stdout",
     "output_type": "stream",
     "text": [
      "[-1, 1, 2]\n"
     ]
    }
   ],
   "source": [
    "import sympy\n",
    "from sympy.abc import x # Importerer symbolet for `x`\n",
    "\n",
    "f = x**3 - 2 * x**2 - x + 2 # Lager en symbolsk funksjon f(x) = x**3 - 2*x**2 - x + 2\n",
    "løsninger = sympy.solve(f) # Løser likningen x**3 - 2*x**2 - x + 2 = 0.\n",
    "\n",
    "print(løsninger)"
   ]
  },
  {
   "cell_type": "markdown",
   "metadata": {},
   "source": [
    "som betyr at løsningen av likningen er $x = -1 \\, \\vee \\, x = 1 \\, \\vee \\, x = 2$."
   ]
  },
  {
   "cell_type": "markdown",
   "metadata": {},
   "source": [
    "#### Eksempel 4: Likning med brøk\n",
    "\n",
    "La oss se på et eksempel der vi skal løse en likning med brøk. Vi skal løse likningen\n",
    "\n",
    "$$\n",
    "\\frac{x^2 - x - 6}{x + 2} = 0.\n",
    "$$"
   ]
  },
  {
   "cell_type": "markdown",
   "metadata": {},
   "source": [
    "Vi kan løse likningen med `sympy` slik:"
   ]
  },
  {
   "cell_type": "code",
   "execution_count": 4,
   "metadata": {},
   "outputs": [
    {
     "name": "stdout",
     "output_type": "stream",
     "text": [
      "[3]\n"
     ]
    }
   ],
   "source": [
    "import sympy\n",
    "from sympy.abc import x\n",
    "\n",
    "f = (x**2 - x - 6) / (x + 2)\n",
    "løsninger = sympy.solve(f) # Løser likningen (x**2 - x - 6) / (x + 2) = 0\n",
    "\n",
    "print(løsninger)"
   ]
  },
  {
   "cell_type": "markdown",
   "metadata": {},
   "source": [
    "som betyr at den eneste gyldige løsningen av likningen er $x = 3$."
   ]
  },
  {
   "cell_type": "markdown",
   "metadata": {},
   "source": [
    "```{admonition} Hva mener du med den *eneste gyldige* løsningen her?\n",
    ":class: tip, dropdown\n",
    "\n",
    "Her viser det seg at $x^2 - x - 6 = (x - 3)(x + 2)$, som betyr at $x = -2$ er en rot i uttrykket i telleren. Men dette er også en rot i nevneren. Dette er derfor ikke en gyldig løsning av likningen, fordi vi da deler på null. \n",
    "\n",
    "Heldigvis, trenger vi ikke bekymre oss for dette. `sympy` sjekker løsningene for oss og fjerner alle som leder til at vi deler på 0. \n",
    "\n",
    "```"
   ]
  },
  {
   "attachments": {},
   "cell_type": "markdown",
   "metadata": {},
   "source": [
    "## Øvingsoppgaver\n",
    "Det er på tide å prøve seg på egenhånd. Det ligger *kodeskall* til hjelp som du kan ta utgangspunkt i, men det er lurt å prøve å skrive all koden selv. I tillegg er det løsningsforslag til alle som oppgavene som du kan ta en titt på etter du har prøvd deg på oppgavene. "
   ]
  },
  {
   "attachments": {},
   "cell_type": "markdown",
   "metadata": {},
   "source": [
    "### Oppgave 1\n",
    "\n",
    "\n",
    "Bruk `sympy` til å løse likningen\n",
    "\n",
    "$$\n",
    "3x - 2 = 0.\n",
    "$$\n"
   ]
  },
  {
   "cell_type": "markdown",
   "metadata": {},
   "source": [
    "````{admonition} Kodeskall\n",
    ":class: dropdown\n",
    "Du kan ta utgangspunkt i kodeskallet under. Du må endre der det står `NotImplemented`.\n",
    "```python\n",
    "import sympy\n",
    "from sympy.abc import x\n",
    "\n",
    "f = NotImplemented # Skriv venstre side av likningen f(x) = 0\n",
    "løsninger = NotImplemented # Løs likningen med sympy.solve\n",
    "\n",
    "print(løsninger)\n",
    "```\n",
    "````"
   ]
  },
  {
   "attachments": {},
   "cell_type": "markdown",
   "metadata": {},
   "source": [
    "````{admonition} Løsning\n",
    ":class: dropdown\n",
    "```python\n",
    "import sympy\n",
    "from sympy.abc import x\n",
    "\n",
    "f = 3 * x - 2\n",
    "løsninger = sympy.solve(3 * x - 2)\n",
    "\n",
    "print(løsninger)\n",
    "```\n",
    "\n",
    "som gir utskriften\n",
    "\n",
    "```console\n",
    "[2/3]\n",
    "```\n",
    "\n",
    "Det betyr at løsningen av likningen er $x = 2/3$\n",
    "\n",
    "````"
   ]
  },
  {
   "attachments": {},
   "cell_type": "markdown",
   "metadata": {},
   "source": [
    "### Oppgave 2\n",
    "\n",
    "Bruk `sympy` til å løse likningen\n",
    "\n",
    "$$\n",
    "x^2 - 3x + 2 = 0.\n",
    "$$\n"
   ]
  },
  {
   "cell_type": "markdown",
   "metadata": {},
   "source": [
    "````{admonition} Kodeskall\n",
    ":class: dropdown\n",
    "Du kan ta utgangspunkt i kodeskallet under. Du må endre der det står `NotImplemented`.\n",
    "```python\n",
    "import sympy\n",
    "from sympy.abc import x\n",
    "\n",
    "f = NotImplemented # Skriv venstre side av likningen f(x) = 0\n",
    "løsninger = NotImplemented # Løs likningen med sympy.solve\n",
    "\n",
    "print(løsninger)\n",
    "```\n",
    "````"
   ]
  },
  {
   "attachments": {},
   "cell_type": "markdown",
   "metadata": {},
   "source": [
    "````{admonition} Løsning\n",
    ":class: dropdown\n",
    "```python\n",
    "import sympy\n",
    "from sympy.abc import x\n",
    "\n",
    "f = x**2 - 3 * x + 2 \n",
    "løsninger = sympy.solve(f)\n",
    "\n",
    "print(løsninger)\n",
    "```\n",
    "\n",
    "som gir utskriften\n",
    "\n",
    "```console\n",
    "[1, 2]\n",
    "```\n",
    "\n",
    "som betyr at løsningene er $x = 1 \\, \\vee \\, x = 2$.\n",
    "\n",
    "````"
   ]
  },
  {
   "attachments": {},
   "cell_type": "markdown",
   "metadata": {},
   "source": [
    "### Oppgave 3 \n",
    "\n",
    "Bruk `sympy` til å løse likningen\n",
    "\n",
    "$$\n",
    "x^3 - 13x^2 + 52x - 60 = 0.\n",
    "$$\n"
   ]
  },
  {
   "cell_type": "markdown",
   "metadata": {},
   "source": [
    "````{admonition} Kodeskall\n",
    ":class: dropdown\n",
    "Du kan ta utgangspunkt i kodeskallet under. Du må endre der det står `NotImplemented`.\n",
    "```python\n",
    "import sympy\n",
    "from sympy.abc import x\n",
    "\n",
    "f = NotImplemented # Skriv venstre side av likningen f(x) = 0\n",
    "løsninger = NotImplemented # Løs likningen med sympy.solve\n",
    "\n",
    "print(løsninger)\n",
    "```\n",
    "````"
   ]
  },
  {
   "attachments": {},
   "cell_type": "markdown",
   "metadata": {},
   "source": [
    "````{admonition} Løsning\n",
    ":class: dropdown\n",
    "```python\n",
    "import sympy\n",
    "from sympy.abc import x\n",
    "\n",
    "f = x**3 - 13 * x**2 + 52 * x - 60\n",
    "løsninger = sympy.solve(f)\n",
    "\n",
    "print(løsninger)\n",
    "```\n",
    "\n",
    "som gir utskriften\n",
    "\n",
    "```console\n",
    "[2, 5, 6]\n",
    "```\n",
    "\n",
    "som betyr at løsningene er $x = 2 \\, \\vee \\, x = 5 \\, \\vee \\, x = 6$.\n",
    "\n",
    "\n",
    "````"
   ]
  },
  {
   "cell_type": "markdown",
   "metadata": {},
   "source": [
    "### Oppgave 4\n",
    "\n",
    "Bruk `sympy` til å løse likningen\n",
    "\n",
    "$$\n",
    "\\frac{x^2 + 2x - 3}{x - 1} = 0.\n",
    "$$ \n"
   ]
  },
  {
   "cell_type": "markdown",
   "metadata": {},
   "source": [
    "````{admonition} Kodeskall\n",
    ":class: dropdown\n",
    "Du kan ta utgangspunkt i kodeskallet under. Du må endre der det står `NotImplemented`.\n",
    "```python\n",
    "import sympy\n",
    "from sympy.abc import x\n",
    "\n",
    "f = NotImplemented # Skriv venstre side av likningen f(x) = 0\n",
    "løsninger = NotImplemented # Løs likningen med sympy.solve\n",
    "\n",
    "print(løsninger)\n",
    "```\n",
    "````"
   ]
  },
  {
   "cell_type": "markdown",
   "metadata": {},
   "source": [
    "\n",
    "````{admonition} Løsning\n",
    ":class: dropdown\n",
    "```python\n",
    "import sympy\n",
    "from sympy.abc import x\n",
    "\n",
    "f = (x**2 + 2 * x - 3) / (x - 1)\n",
    "løsninger = sympy.solve(f)\n",
    "\n",
    "print(løsninger)\n",
    "```\n",
    "\n",
    "som gir utskriften\n",
    "\n",
    "```console\n",
    "[-3]\n",
    "```\n",
    "\n",
    "som betyr at løsningen av likningen er $x = -3$. Her er $x = 1$ en rot i telleren og nevneren, som gjør at det ikke er en gyldig del av løsningen fordi vi ikke kan dele på null. `sympy` passer på å sjekke dette for oss slik at vi ikke trenger å tenke oss om!\n",
    "\n",
    "````"
   ]
  }
 ],
 "metadata": {
  "kernelspec": {
   "display_name": "Python 3",
   "language": "python",
   "name": "python3"
  },
  "language_info": {
   "codemirror_mode": {
    "name": "ipython",
    "version": 3
   },
   "file_extension": ".py",
   "mimetype": "text/x-python",
   "name": "python",
   "nbconvert_exporter": "python",
   "pygments_lexer": "ipython3",
   "version": "3.11.6"
  },
  "orig_nbformat": 4
 },
 "nbformat": 4,
 "nbformat_minor": 2
}
