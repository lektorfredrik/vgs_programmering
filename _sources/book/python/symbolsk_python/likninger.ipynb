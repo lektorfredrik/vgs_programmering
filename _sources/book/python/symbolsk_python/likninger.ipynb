{
 "cells": [
  {
   "attachments": {},
   "cell_type": "markdown",
   "metadata": {},
   "source": [
    "# Løse likninger med `sympy`"
   ]
  },
  {
   "attachments": {},
   "cell_type": "markdown",
   "metadata": {},
   "source": [
    "Å løse likninger er en viktig del av matematikken. I dette notatet skal vi se på hvordan vi kan løse likninger med `sympy`."
   ]
  },
  {
   "attachments": {},
   "cell_type": "markdown",
   "metadata": {},
   "source": [
    "## Likninger med én ukjent\n",
    "\n",
    "For å løse likninger, bruker vi funksjonen `solve`. Denne funksjonen tar to argumenter,\n",
    "\n",
    "1. Venstesiden av likningen som skal løses. Det er antatt at likningen er på formen $f(x) = 0$, så vi skal bare sende inn hva $f(x)$ er.\n",
    "2. Den ukjente variabelen som skal løses for.\n",
    "\n",
    "Den generelle skrivemåten blir derfor\n",
    "\n",
    "```python\n",
    "import sympy as sp # Må importere biblioteket\n",
    "\n",
    "x = np.Symbol(\"x\") # Definerer den ukjente variabelen, vanligvis kaller vi denne x når det bare er én ukjent.\n",
    "løsninger = np.solve(funksjonsuttrykk, x) # Løser likningen f(x) = 0 for x.\n",
    "```\n",
    "\n"
   ]
  },
  {
   "attachments": {},
   "cell_type": "markdown",
   "metadata": {},
   "source": [
    "### Eksempel 1: Løse en lineær likning\n",
    "\n",
    "La oss se på hvordan vi kan løse likningen\n",
    "\n",
    "$$\n",
    "2x - 1 = 0.\n",
    "$$\n",
    "\n",
    "Dette kan vi selvfølgelig gjøre for hånd, og da finner vi at $x = 1/2$. \n",
    "\n",
    "For å bruke `sympy` må vi identifisere hva $f(x)$ er for noe, og i dette tilfellet er det $f(x) = 2x - 1$. Vi kan derfor skrive"
   ]
  },
  {
   "cell_type": "code",
   "execution_count": 18,
   "metadata": {},
   "outputs": [
    {
     "name": "stdout",
     "output_type": "stream",
     "text": [
      "[1/2]\n"
     ]
    }
   ],
   "source": [
    "import sympy as sp\n",
    "\n",
    "x = sp.Symbol(\"x\") # Lager et symbol x for sympy.\n",
    "løsninger = sp.solve(2*x - 1, x) # Løser likningen 2*x - 1 = 0.\n",
    "\n",
    "print(løsninger)"
   ]
  },
  {
   "attachments": {},
   "cell_type": "markdown",
   "metadata": {},
   "source": [
    "### Eksempel 2: Løse en andregradslikning\n",
    "\n",
    "La oss se på hvordan vi kan løse likningen\n",
    "\n",
    "$$\n",
    "x^2 + x - 2 = 0,\n",
    "$$\n",
    "\n",
    "ved å bruke `sympy`. Vi kan løse denne likningen for hånd ved å faktorisere venstresiden av likningen, og da finner vi at $x = -2$ eller $x = 1$.\n",
    "\n",
    "For å bruke `sympy.solve`, må vi identifiere hva $f(x)$ er her, og det er $f(x) = x^2 + x - 2$. Vi kan derfor skrive\n"
   ]
  },
  {
   "cell_type": "code",
   "execution_count": 19,
   "metadata": {},
   "outputs": [
    {
     "name": "stdout",
     "output_type": "stream",
     "text": [
      "[-2, 1]\n"
     ]
    }
   ],
   "source": [
    "import sympy as sp\n",
    "\n",
    "x = sp.Symbol(\"x\") # Lager et symbol x for sympy.\n",
    "løsninger = sp.solve(x**2 + x - 2, x) # Løser likningen x**2 + x - 2 = 0.\n",
    "\n",
    "print(løsninger)"
   ]
  },
  {
   "attachments": {},
   "cell_type": "markdown",
   "metadata": {},
   "source": [
    "### Eksempel 3: Løse en tredjegradslikning\n",
    "\n",
    "La oss se på et eksempel der vi skal løse en tredjegradslikning. Vi skal løse likningen\n",
    "\n",
    "$$\n",
    "x^3 + 2x^2 = x - 2.\n",
    "$$\n",
    "\n",
    "Første steg er å flytte alt over på venstresiden, slik at vi får en likning på formen $f(x) = 0$. Da får vi\n",
    "\n",
    "$$\n",
    "x^3 - 2x^2 - x + 2 = 0,\n",
    "$$\n",
    "\n",
    "så vi kan sette $f(x) = x^3 - 2x^2 - x + 2$ i tråd med det vi har gjort tidligere. For å løse likningen skriver vi derfor koden:"
   ]
  },
  {
   "cell_type": "code",
   "execution_count": 22,
   "metadata": {},
   "outputs": [
    {
     "name": "stdout",
     "output_type": "stream",
     "text": [
      "[-1, 1, 2]\n"
     ]
    }
   ],
   "source": [
    "import sympy as sp\n",
    "\n",
    "x = sp.Symbol(\"x\") # Lager et symbol x for sympy.\n",
    "løsninger = sp.solve(x**3 - 2*x**2 - x + 2, x) # Løser likningen x**3 - 2*x**2 - x + 2 = 0.\n",
    "\n",
    "print(løsninger)"
   ]
  },
  {
   "attachments": {},
   "cell_type": "markdown",
   "metadata": {},
   "source": [
    "### Eksempel 4: Likning med transcendentale funksjoner\n",
    "\n",
    "La oss se på et eksempel der vi ønsker å finne nullpunktet til likningen\n",
    "\n",
    "$$\n",
    "e^x + 2x = 0.\n",
    "$$\n",
    "\n",
    "Her finnes det ingen analytisk løsning. Noen ganger uttrykkes svaret ved hjelp av spesielle funksjoner som vi ikke kjenner til i videregående skole. Som eksempel under:"
   ]
  },
  {
   "cell_type": "code",
   "execution_count": 23,
   "metadata": {},
   "outputs": [
    {
     "name": "stdout",
     "output_type": "stream",
     "text": [
      "[-LambertW(1/2)]\n"
     ]
    }
   ],
   "source": [
    "import sympy as sp\n",
    "\n",
    "x = sp.Symbol(\"x\") # Lager et symbol x for sympy.\n",
    "løsninger = sp.solve(sp.exp(x) + 2*x, x)  # Løser likningen exp(x) + 2*x = 0.\n",
    "\n",
    "print(løsninger)\n"
   ]
  },
  {
   "attachments": {},
   "cell_type": "markdown",
   "metadata": {},
   "source": [
    "Dette er riktig svar, men forteller oss ikke stort. Vi kan likevel få et tilnærmet svar ved å bruke `sympy` ved å legge inn en `float` i likningen. I stedet for at vi skriver likningen som `sp.exp(x) + 2*x`, skriver vi den som `sp.exp(x) + 2.0*x`. Da vil `sympy` behandle `2.0` som et flyttall, og ikke som et heltall. Gjør vi dette får vi:"
   ]
  },
  {
   "cell_type": "code",
   "execution_count": 24,
   "metadata": {},
   "outputs": [
    {
     "name": "stdout",
     "output_type": "stream",
     "text": [
      "[-0.351733711249196]\n"
     ]
    }
   ],
   "source": [
    "import sympy as sp\n",
    "\n",
    "x = sp.Symbol(\"x\") # Lager et symbol x for sympy.\n",
    "løsninger = sp.solve(sp.exp(x) + 2.0*x, x) # Løser likningen exp(x) + 2*x = 0.\n",
    "\n",
    "print(løsninger)"
   ]
  },
  {
   "attachments": {},
   "cell_type": "markdown",
   "metadata": {},
   "source": [
    "Nå fikk vi et tallsvar vi kan tolke! "
   ]
  },
  {
   "attachments": {},
   "cell_type": "markdown",
   "metadata": {},
   "source": [
    "## Øvingsoppgaver"
   ]
  },
  {
   "attachments": {},
   "cell_type": "markdown",
   "metadata": {},
   "source": [
    "### Oppgave 1\n",
    "\n",
    "\n",
    "Bruk `sympy` til å løse likningen\n",
    "\n",
    "$$\n",
    "3x - 2 = 0.\n",
    "$$\n",
    "\n",
    "*Under ligger et kodeskall du kan ta utgangspunkt i. Du må fylle inn der det står `NotImplemented`.*"
   ]
  },
  {
   "cell_type": "code",
   "execution_count": 27,
   "metadata": {},
   "outputs": [
    {
     "name": "stdout",
     "output_type": "stream",
     "text": [
      "NotImplemented\n"
     ]
    }
   ],
   "source": [
    "import sympy as sp\n",
    "\n",
    "x = sp.Symbol(\"x\") # Lager et symbol x for sympy.\n",
    "løsninger = NotImplemented \n",
    "\n",
    "print(løsninger)"
   ]
  },
  {
   "attachments": {},
   "cell_type": "markdown",
   "metadata": {},
   "source": [
    "````{dropdown} Løsningsforslag\n",
    "\n",
    "```python\n",
    "import sympy as sp\n",
    "\n",
    "x = sp.Symbol(\"x\") # Lager et symbol x for sympy.\n",
    "løsninger = sp.solve(3*x - 2, x) # Løser likningen 3*x - 2 = 0 for x.\n",
    "\n",
    "print(løsninger)\n",
    "```\n",
    "\n",
    "som gir utskriften\n",
    "\n",
    "```console\n",
    "[2/3]\n",
    "```\n",
    "\n",
    "Løsningen av likningen er altså $x = \\frac{3}{2}$\n",
    "\n",
    "````"
   ]
  },
  {
   "attachments": {},
   "cell_type": "markdown",
   "metadata": {},
   "source": [
    "### Oppgave 2\n",
    "\n",
    "Bruk `sympy` til å løse likningen\n",
    "\n",
    "$$\n",
    "x^2 - 3x + 2 = 0.\n",
    "$$\n",
    "\n",
    "*Under ligger et kodeskall du kan ta utgangspunkt i. Du må fylle inn der det står `NotImplemented`.*"
   ]
  },
  {
   "cell_type": "code",
   "execution_count": 28,
   "metadata": {},
   "outputs": [
    {
     "name": "stdout",
     "output_type": "stream",
     "text": [
      "NotImplemented\n"
     ]
    }
   ],
   "source": [
    "import sympy as sp\n",
    "\n",
    "x = NotImplemented # Lager et symbol x for sympy.\n",
    "løsninger = NotImplemented\n",
    "\n",
    "print(løsninger)"
   ]
  },
  {
   "attachments": {},
   "cell_type": "markdown",
   "metadata": {},
   "source": [
    "````{dropdown} Løsningsforslag\n",
    "\n",
    "```python\n",
    "import sympy as sp\n",
    "\n",
    "x = sp.Symbol(\"x\") # Lager et symbol x for sympy.\n",
    "løsninger = sp.solve(x**2 - 3*x + 2, x) # Løser likningen x**2 - 3*x + 2 = 0 for x.\n",
    "\n",
    "print(løsninger)\n",
    "```\n",
    "\n",
    "som gir utskriften\n",
    "\n",
    "```console\n",
    "[1, 2]\n",
    "```\n",
    "\n",
    "som betyr at løsningene er $x = 1$ eller $x = 2$.\n",
    "\n",
    "````"
   ]
  },
  {
   "attachments": {},
   "cell_type": "markdown",
   "metadata": {},
   "source": [
    "### Oppgave 3 \n",
    "\n",
    "Bruk `sympy` til å løse likningen\n",
    "\n",
    "$$\n",
    "x^3 - 13x^2 + 52x - 60 = 0.\n",
    "$$\n",
    "\n",
    "*Under ligger et kodeskall du kan ta utgangspunkt i. Du må fylle inn der det står `NotImplemented`.*"
   ]
  },
  {
   "cell_type": "code",
   "execution_count": 17,
   "metadata": {},
   "outputs": [
    {
     "name": "stdout",
     "output_type": "stream",
     "text": [
      "[2, 5, 6]\n"
     ]
    }
   ],
   "source": [
    "import sympy as sp\n",
    "\n",
    "x = NotImplemented # Lag et symbol for `x`\n",
    "løsninger = NotImplemented # Løs likningen\n",
    "\n",
    "print(løsninger)"
   ]
  },
  {
   "attachments": {},
   "cell_type": "markdown",
   "metadata": {},
   "source": [
    "````{dropdown} Løsningsforslag\n",
    "\n",
    "```python\n",
    "import sympy as sp\n",
    "\n",
    "x = sp.Symbol(\"x\") # Lager et symbol x for sympy.\n",
    "løsninger = sp.solve(x**3 - 13 * x**2 + 52*x - 60, x) # Løser likningen x^3 - 2x^2 + x - 6 = 0\n",
    "\n",
    "print(løsninger)\n",
    "```\n",
    "\n",
    "som gir utskriften\n",
    "\n",
    "```console\n",
    "[2, 5, 6]\n",
    "```\n",
    "\n",
    "som betyr at løsningene er $x = 2$ eller $x = 5$ eller $x = 6$.\n",
    "\n",
    "\n",
    "````"
   ]
  }
 ],
 "metadata": {
  "kernelspec": {
   "display_name": "Python 3",
   "language": "python",
   "name": "python3"
  },
  "language_info": {
   "codemirror_mode": {
    "name": "ipython",
    "version": 3
   },
   "file_extension": ".py",
   "mimetype": "text/x-python",
   "name": "python",
   "nbconvert_exporter": "python",
   "pygments_lexer": "ipython3",
   "version": "3.11.4"
  },
  "orig_nbformat": 4
 },
 "nbformat": 4,
 "nbformat_minor": 2
}
