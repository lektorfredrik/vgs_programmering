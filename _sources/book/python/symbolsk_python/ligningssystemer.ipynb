{
 "cells": [
  {
   "cell_type": "markdown",
   "metadata": {},
   "source": [
    "# Løse ligningssystemer med `sympy`\n",
    "\n",
    "Et ligningssystem er et system av én eller flere ligninger og én eller flere ukjente størrelser der kravet er at *alle* ligningene skal være oppfylt samtidig. Målet er å bestemme verdien til de ukjente størrelsene slik at dette kravet er oppfylt."
   ]
  },
  {
   "cell_type": "markdown",
   "metadata": {},
   "source": [
    "## Læringsmål\n",
    "* Kunne bruke `sympy` til å løse ligningssystemer bestående av flere ligninger og flere ukjente, og kunne tolke utskriften programmet gir. "
   ]
  },
  {
   "cell_type": "markdown",
   "metadata": {},
   "source": [
    "## Generell skrivemåte\n",
    "For å løse ligningssystemer med `sympy`, benytter vi oss av `sympy.solve`-funksjonen for å løse ligningssystemet. Denne funksjonen tar to argumenter, nemlig en `list`/`tuple` med ligninger og en `list`/`tuple` med ukjente størrelser. Det spiller ingen rolle hvilken av de to typene man bruker, men for å være konsekvent, skal vi bruke `list` her fordi det er en datatype du kommer til å bruke andre steder også.\n",
    "\n",
    "Skrivmåten er\n",
    "\n",
    "```python\n",
    "import sympy\n",
    "x1, x2, ..., xn = sympy.symbols('x1, x2, ..., xn') # `n` ukjente størrelser x1, x2, ..., xn\n",
    "\n",
    "ligninger = [ligning1, ligning2, ..., ligningm] # `m` ligninger\n",
    "ukjente = (x1, x2, ..., xn) # `n` ukjente størrelser x1, x2, ..., xn\n",
    "\n",
    "løsninger = sympy.solve(ligninger, ukjente)\n",
    "```\n",
    "\n",
    "Dette er helt klart fortsatt forvirrende og abstrakt, men meningen er at du skal kunne gå *opp igjen hit* og forstå hva dette betyr når du har sett noen eksempler! "
   ]
  },
  {
   "cell_type": "markdown",
   "metadata": {},
   "source": [
    "## Eksempler"
   ]
  },
  {
   "cell_type": "markdown",
   "metadata": {},
   "source": [
    "### Eksempel 1: lineært ligningssystem med to ligninger og to ukjente\n",
    "\n",
    "La oss se på ligningssystemet\n",
    "\n",
    "\\begin{align}\n",
    "x + y &= 2 \\\\\n",
    "2x - y &= 0\n",
    "\\end{align}\n",
    "\n",
    "Både ligning (1) og ligning (2) må være oppfylt samtidig. Med `sympy` trenger vi \n",
    "1. Lage et symbol for $x$ og et for $y$\n",
    "2. Lage ligning (1) og ligning (2).\n",
    "3. Bruke `sympy.solve` til å finne løsningene\n",
    "4. Tolke utskriften av løsningene. \n",
    "\n",
    "*Leggo*"
   ]
  },
  {
   "cell_type": "code",
   "execution_count": 1,
   "metadata": {},
   "outputs": [
    {
     "name": "stdout",
     "output_type": "stream",
     "text": [
      "løsninger = {x: 3, y: 2}\n"
     ]
    }
   ],
   "source": [
    "import sympy\n",
    "x, y = sympy.symbols(\"x, y\") # Lager symboler for `x` og `y`\n",
    "\n",
    "ligning_1 = sympy.Eq(x + y, 5) # Lager en likning med `x + y = 5`\n",
    "ligning_2 = sympy.Eq(x - y, 1) # Lager en likning med `x - y = 1`\n",
    "\n",
    "# Lager en liste med ligningene\n",
    "ligninger = [ligning_1, ligning_2]\n",
    "\n",
    "# Lager en liste med de ukjente\n",
    "ukjente = [x, y]\n",
    "\n",
    "# Løser ligningene\n",
    "løsninger = sympy.solve(ligninger, ukjente)\n",
    "\n",
    "# Skriver ut løsningene\n",
    "print(f\"{løsninger = }\")"
   ]
  },
  {
   "cell_type": "markdown",
   "metadata": {},
   "source": [
    "Som forteller oss at det er bare én løsning og denne løsningen er \n",
    "\n",
    "$$\n",
    "x = 3 \\, \\wedge \\, y = 2\n",
    "$$"
   ]
  },
  {
   "cell_type": "markdown",
   "metadata": {},
   "source": []
  },
  {
   "cell_type": "markdown",
   "metadata": {},
   "source": [
    "## Eksempel 2: ikke lineært ligningssystem med to ligninger og to ukjente\n",
    "\n",
    "La oss se på ligningssystemet\n",
    "\n",
    "\\begin{align}\n",
    "x^2 + y &= 2 \\\\\n",
    "2x - y &= 0\n",
    "\\end{align}\n",
    "\n",
    "Med `sympy` kan vi løse dette på akkurat samme måte som i eksempel 1:"
   ]
  },
  {
   "cell_type": "code",
   "execution_count": 5,
   "metadata": {},
   "outputs": [
    {
     "name": "stdout",
     "output_type": "stream",
     "text": [
      "løsninger = [(1/2, 7/4)]\n"
     ]
    }
   ],
   "source": [
    "import sympy\n",
    "x, y = sympy.symbols(\"x, y\") # Lager symboler for `x` og `y`\n",
    "\n",
    "ligning_1 = sympy.Eq(x**2 + y, 2) # Lager en likning med `x^2 + y = 2`\n",
    "ligning_2 = sympy.Eq(2*x - 1, 0)\n",
    "\n",
    "# Lager en liste med ligningene\n",
    "ligninger = [ligning_1, ligning_2]\n",
    "\n",
    "# Lager en liste med de ukjente\n",
    "ukjente = [x, y]\n",
    "\n",
    "# Løser ligningene\n",
    "løsninger = sympy.solve(ligninger, ukjente)\n",
    "\n",
    "# Skriver ut løsningene\n",
    "print(f\"{løsninger = }\")"
   ]
  },
  {
   "cell_type": "markdown",
   "metadata": {},
   "source": [
    "som betyr at løsningen av ligningssystemet svarer til koordinaten $(1/2, 7/4)$. Dette betyr at løsningen av ligningssystemet er\n",
    "\n",
    "$$\n",
    "x = \\frac{1}{2} \\, \\wedge \\, y = \\frac{7}{4}\n",
    "$$"
   ]
  },
  {
   "cell_type": "code",
   "execution_count": null,
   "metadata": {},
   "outputs": [],
   "source": []
  }
 ],
 "metadata": {
  "kernelspec": {
   "display_name": "Python 3",
   "language": "python",
   "name": "python3"
  },
  "language_info": {
   "codemirror_mode": {
    "name": "ipython",
    "version": 3
   },
   "file_extension": ".py",
   "mimetype": "text/x-python",
   "name": "python",
   "nbconvert_exporter": "python",
   "pygments_lexer": "ipython3",
   "version": "3.11.6"
  }
 },
 "nbformat": 4,
 "nbformat_minor": 2
}
