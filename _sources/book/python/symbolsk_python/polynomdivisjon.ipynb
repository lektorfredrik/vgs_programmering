{
 "cells": [
  {
   "cell_type": "markdown",
   "metadata": {},
   "source": [
    "# Polynomdivisjon med `sympy`\n",
    "\n",
    "Her skal du lære hvordan man kan bruke `sympy` til å utføre polynomdivisjon. \n",
    "\n",
    "````{admonition} Polynomdivisjon\n",
    ":class: tip\n",
    "\n",
    "Polynomdivisjon er en metode for å dele to polynomer. Gitt et polynom $p(x)$ av grad $n$ et polynom $q(x)$ av grad $m$, der $m\\leq n$, kan vi finne et polynom $k(x)$ kalt *kvotienten* og et polynom $r(x)$ kalt *resten* slik at\n",
    "\n",
    "$$\n",
    "\\frac{p(x)}{q(x)} = k(x) + \\frac{r(x)}{q(x)}\n",
    "$$\n",
    "\n",
    "eller sagt på en annen måte, polynomet $p(x)$ kan skrives som\n",
    "\n",
    "$$\n",
    "p(x) = k(x)q(x) + r(x)\n",
    "$$\n",
    "\n",
    "Den siste varianten er ofte den som står i lærebøker, og kalles for *Euklidisk polynomdivisjon*.\n",
    "````\n",
    "\n"
   ]
  },
  {
   "cell_type": "markdown",
   "metadata": {},
   "source": [
    "Polynomdivisjon kan utføres i `sympy` med funksjonen `div` fra `sympy.polys`. Denne funksjonen tar to polynom som argumenter, og returnerer en `tuple` med to elementer. Det første elementet er kvotienten, og det andre elementet er resten. \n"
   ]
  },
  {
   "cell_type": "markdown",
   "metadata": {},
   "source": [
    "## Eksempel 1\n",
    "La oss utføre polynomdivisjonen \n",
    "\n",
    "$$\n",
    "\n",
    "(x^3 - 4x^2 + 2) : (x - 6)\n",
    "\n",
    "$$\n",
    "\n",
    "med `sympy`. Vi starter med å importere `sympy` og definere polynomene $p(x)$ og $q(x)$, deretter bruker vi `sympy.div` til å utføre polynomdivisjonen.\n",
    "\n",
    "\n",
    "\n"
   ]
  },
  {
   "cell_type": "code",
   "execution_count": 1,
   "metadata": {},
   "outputs": [
    {
     "name": "stdout",
     "output_type": "stream",
     "text": [
      "kvotienten: k = x**2 + 2*x + 12\n",
      "resten: r = 74\n"
     ]
    }
   ],
   "source": [
    "import sympy\n",
    "from sympy.abc import x\n",
    "\n",
    "p = x**3 - 4 * x**2 + 2 # p(x) = x^3 - 4x^2 + 2\n",
    "q = x - 6 # q(x) = x - 6\n",
    "\n",
    "k, r = sympy.div(p, q) # k = k(x) og r = r(x)\n",
    "\n",
    "print(f\"kvotienten: {k = }\")\n",
    "print(f\"resten: {r = }\")"
   ]
  },
  {
   "cell_type": "markdown",
   "metadata": {},
   "source": [
    "Vi får altså at $k(x) = x^2 + 2x + 12$ og $r(x) = 74$. Det betyr da at\n",
    "\n",
    "$$\n",
    "(x^3 - 4x^2 + 2) : (x - 6) = k(x) + \\frac{r(x)}{x - 6} = x^2 + 2x + 12 + \\frac{74}{x - 6}\n",
    "$$"
   ]
  },
  {
   "cell_type": "markdown",
   "metadata": {},
   "source": [
    "## Øvingsoppgaver\n",
    "Her skal du bruke `sympy` til å utføre polynomdivisjon. Du vil finne frivillige *kodeskall* du kan ta utgangspunkt i om det er vanskelig å sette i gang, men det er lurt å prøve å skrive all koden selv. Det ligger også løsningsforslag, men bruk disse først når du har prøvd selv."
   ]
  },
  {
   "cell_type": "markdown",
   "metadata": {},
   "source": [
    "### Oppgave 1\n",
    "\n",
    "Bruk `sympy.div` til å utføre polynomdivisjonen\n",
    "\n",
    "$$\n",
    "(x^2 - 2x + 1) : (x - 1)\n",
    "$$\n",
    "\n",
    "````{admonition} Kodeskall\n",
    ":class: dropdown\n",
    "Du kan ta utgangspunkt i kodeksallet under. Du må endre alle steder det står `NotImplemented`.\n",
    "```python\n",
    "import sympy\n",
    "from sympy.abc import x\n",
    "\n",
    "p = NotImplemented\n",
    "q = NotImplemented\n",
    "\n",
    "k, r = NotImplemented\n",
    "\n",
    "print(f\"{k = }\")\n",
    "print(f\"{q = }\")\n",
    "```\n",
    "````\n",
    "\n",
    "\n",
    "````{admonition} Løsning\n",
    ":class: dropdown\n",
    "\n",
    "```python\n",
    "import sympy\n",
    "from sympy.abc import x\n",
    "\n",
    "p = x**2 - 2 * x + 1\n",
    "q = x - 1\n",
    "\n",
    "k, r = sympy.div(p, q)\n",
    "\n",
    "print(f\"{k = }\")\n",
    "print(f\"{r = }\")\n",
    "```\n",
    "som gir utskriften\n",
    "```console\n",
    "k = x - 1\n",
    "r = 0\n",
    "```\n",
    "Altså er resultatet\n",
    "\n",
    "$$\n",
    "(x^2 - 2x + 1) : (x - 1) = x - 1\n",
    "$$\n",
    "````"
   ]
  },
  {
   "cell_type": "markdown",
   "metadata": {},
   "source": [
    "### Oppgave 2\n",
    "\n",
    "Bruk `sympy` til å utføre polynomdivisjonen\n",
    "\n",
    "$$\n",
    "(x^2 - x - 6) : (x + 4)\n",
    "$$"
   ]
  },
  {
   "cell_type": "markdown",
   "metadata": {},
   "source": [
    "````{admonition} Kodeskall\n",
    ":class: dropdown\n",
    "Du kan ta utgangspunkt i kodeksallet under. Du må endre alle steder det står `NotImplemented`.\n",
    "```python\n",
    "import sympy \n",
    "from sympy.abc import x\n",
    "\n",
    "p = NotImplemented\n",
    "q = NotImplemented\n",
    "\n",
    "k, r = NotImplemented\n",
    "\n",
    "print(f\"{k = }\")\n",
    "print(f\"{r = }\")\n",
    "```\n",
    "````"
   ]
  },
  {
   "cell_type": "markdown",
   "metadata": {},
   "source": [
    "````{admonition} Løsning\n",
    ":class: dropdown\n",
    "```python\n",
    "import sympy\n",
    "from sympy.abc import x\n",
    "\n",
    "p = x**2 - x - 6\n",
    "q = x + 4\n",
    "\n",
    "k, r = sympy.div(p, q)\n",
    "\n",
    "print(f\"{k = }\")\n",
    "print(f\"{r = }\")\n",
    "```\n",
    "som gir\n",
    "```console\n",
    "k = x - 5\n",
    "r = 14\n",
    "```\n",
    "Altså er resultatet\n",
    "\n",
    "$$\n",
    "(x^2 - x - 6) : (x + 4) = x - 5 + \\frac{14}{x + 4}\n",
    "$$\n",
    "````"
   ]
  },
  {
   "cell_type": "markdown",
   "metadata": {},
   "source": [
    "### Oppgave 3\n",
    "\n",
    "Bruk `sympy` til å utføre polynomdivisjonen\n",
    "\n",
    "$$\n",
    "(x^3 - 2x^2 + 3x - 6) : (x - 3)\n",
    "$$"
   ]
  },
  {
   "cell_type": "markdown",
   "metadata": {},
   "source": [
    "````{admonition} Kodeskall\n",
    ":class: dropdown\n",
    "Du kan ta utgangspunkt i kodeksallet under. Du må endre alle steder det står `NotImplemented`.\n",
    "```python\n",
    "import sympy \n",
    "from sympy.abc import x\n",
    "\n",
    "p = NotImplemented\n",
    "q = NotImplemented\n",
    "\n",
    "k, r = NotImplemented\n",
    "\n",
    "print(f\"{k = }\")\n",
    "print(f\"{r = }\")\n",
    "```\n",
    "````"
   ]
  },
  {
   "cell_type": "markdown",
   "metadata": {},
   "source": [
    "````{admonition} Løsning\n",
    ":class: dropdown\n",
    "```python\n",
    "import sympy\n",
    "from sympy.abc import x\n",
    "\n",
    "p = x**3 - 2 * x**2 + 3 * x - 6\n",
    "q = x - 3\n",
    "\n",
    "k, r = sympy.div(p, q)\n",
    "\n",
    "print(f\"{k = }\")\n",
    "print(f\"{r = }\")\n",
    "```\n",
    "som gir utskriften\n",
    "```console\n",
    "k = x**2 + x + 6\n",
    "r = 12\n",
    "```\n",
    "som betyr at \n",
    "\n",
    "$$\n",
    "(x^3 - 2x^2 + 3x - 6) : (x - 3) = x^2 + x + 6 + \\frac{12}{x - 3}\n",
    "$$\n",
    "````"
   ]
  },
  {
   "cell_type": "markdown",
   "metadata": {},
   "source": [
    "### Oppgave 4\n",
    "Bruk `sympy` til å regne ut\n",
    "\n",
    "$$\n",
    "(x^4 - x^2 - 6) : (x^2 + 1)\n",
    "$$"
   ]
  },
  {
   "cell_type": "markdown",
   "metadata": {},
   "source": [
    "````{admonition} Kodeskall\n",
    ":class: dropdown\n",
    "Du kan ta utgangspunkt i kodeksallet under. Du må endre alle steder det står `NotImplemented`.\n",
    "```python\n",
    "import sympy \n",
    "from sympy.abc import x\n",
    "\n",
    "p = NotImplemented\n",
    "q = NotImplemented\n",
    "\n",
    "k, r = NotImplemented\n",
    "\n",
    "print(f\"{k = }\")\n",
    "print(f\"{r = }\")\n",
    "```\n",
    "````"
   ]
  },
  {
   "cell_type": "markdown",
   "metadata": {},
   "source": [
    "````{admonition} Løsning\n",
    ":class: dropdown\n",
    "```python\n",
    "import sympy\n",
    "from sympy.abc import x\n",
    "\n",
    "p = x**4 - x**2 - 6 # p(x) = x^4 - x^2 - 6\n",
    "q = x**2 + 1 # q(x) = x^2 + 1\n",
    "\n",
    "k, r = sympy.div(p, q) # k = k(x) og r = r(x)\n",
    "\n",
    "print(f\"{k = }\")\n",
    "print(f\"{r = }\")\n",
    "```\n",
    "som gir utskriften\n",
    "```console\n",
    "k = x**2 - 1\n",
    "r = -4\n",
    "```\n",
    "som betyr at\n",
    "\n",
    "$$\n",
    "(x^4 - x^2 - 6) : (x^2 + 1) = x^2 - 1 + \\frac{-4}{x^2 + 1}\n",
    "$$\n",
    "````"
   ]
  },
  {
   "cell_type": "markdown",
   "metadata": {},
   "source": [
    "### Oppgave 5\n",
    "Bruk `sympy` til å regne ut\n",
    "\n",
    "$$\n",
    "(x^3 - 3x^2 - 4x + 12) : (x^2 + 2x - 1)\n",
    "$$"
   ]
  },
  {
   "cell_type": "markdown",
   "metadata": {},
   "source": [
    "````{admonition} Kodeskall\n",
    ":class: dropdown\n",
    "Du kan ta utgangspunkt i kodeksallet under. Du må endre alle steder det står `NotImplemented`.\n",
    "```python\n",
    "import sympy \n",
    "from sympy.abc import x\n",
    "\n",
    "p = NotImplemented\n",
    "q = NotImplemented\n",
    "\n",
    "k, r = NotImplemented\n",
    "\n",
    "print(f\"{k = }\")\n",
    "print(f\"{r = }\")\n",
    "```\n",
    "````"
   ]
  },
  {
   "cell_type": "markdown",
   "metadata": {},
   "source": [
    "````{admonition} Løsning\n",
    ":class: dropdown\n",
    "```python\n",
    "import sympy\n",
    "from sympy.abc import x\n",
    "\n",
    "p = x**3 - 3 * x**2 - 4 * x + 12 # p(x) = x^3 - 3x^2 - 4x + 12\n",
    "q = x**2 + 2 * x - 1\n",
    "\n",
    "k, r = sympy.div(p, q) # k = k(x) og r = r(x)\n",
    "\n",
    "print(f\"{k = }\")\n",
    "print(f\"{r = }\")\n",
    "```\n",
    "som gir utskriften\n",
    "```console\n",
    "k = x - 5\n",
    "r = 7*x + 7\n",
    "```\n",
    "som betyr at\n",
    "$$\n",
    "(x^3 - 3x^2 - 4x + 12) : (x^2 + 2x - 1) = x - 5 + \\frac{7x + 7}{x^2 + 2x - 1}\n",
    "$$\n",
    "````"
   ]
  }
 ],
 "metadata": {
  "kernelspec": {
   "display_name": "Python 3",
   "language": "python",
   "name": "python3"
  },
  "language_info": {
   "codemirror_mode": {
    "name": "ipython",
    "version": 3
   },
   "file_extension": ".py",
   "mimetype": "text/x-python",
   "name": "python",
   "nbconvert_exporter": "python",
   "pygments_lexer": "ipython3",
   "version": "3.11.6"
  }
 },
 "nbformat": 4,
 "nbformat_minor": 2
}
