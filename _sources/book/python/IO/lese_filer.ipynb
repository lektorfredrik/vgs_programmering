{
 "cells": [
  {
   "attachments": {},
   "cell_type": "markdown",
   "metadata": {},
   "source": [
    "# Lese data fra filer"
   ]
  },
  {
   "attachments": {},
   "cell_type": "markdown",
   "metadata": {},
   "source": [
    "Programmering med Python er et viktig verktøy når det kommer til å analysere datasett. Dette medfører at vi må være i stand til å lese data fra filer slik at vi kan bruke dataen til å lage grafer eller regne på dataen får å hente ut mer informasjon."
   ]
  },
  {
   "attachments": {},
   "cell_type": "markdown",
   "metadata": {},
   "source": [
    "## Hvordan lese data fra en fil?\n",
    "\n",
    "Det er vanskelig å gi en *helt* generell beskrivelse av hvordan man skal lese inn datafiler. Men typisk vil en datafil lagres på en måte slik at den likner en tabell. Dette betyr at vi har en overskrift for hver kolonne, og at hver rad representerer en ny måling.\n",
    "\n",
    "Den typiske kodesyntaksen er\n",
    "\n",
    "```python\n",
    "with open(filnavn, \"r\") as infile:\n",
    "    for linje in infile:\n",
    "        # Gjør noe med linjen\n",
    "```\n",
    "\n",
    "```{admonition} Forklaring av syntaksen\n",
    "\n",
    "Her er sannsynligvis noen nye ting for deg. La oss gå gjennom dem en etter en.\n",
    "\n",
    "- `with` åpner en slags kodeblokk som automatisk rydder opp når vi er ferdig med delen. Da slipper vi å åpne og lukke filen manuelt.\n",
    "- `open` åpner filen.\n",
    "- `r` indikerer at vi skal *lese* filen. `r` står for *read*.\n",
    "- `infile` er standardnavn for en fil vi leser fra (det er fra engelsk og er en forkortelse for *input file*).\n",
    "- `for`-løkka går gjennom alle linjene i fila, slik at vi kan gjøre noe med hver linje.\n",
    "\n",
    "```"
   ]
  },
  {
   "attachments": {},
   "cell_type": "markdown",
   "metadata": {},
   "source": [
    "## Eksempler"
   ]
  },
  {
   "attachments": {},
   "cell_type": "markdown",
   "metadata": {},
   "source": [
    "### Eksempel 1\n",
    "\n",
    "Tenk deg at vi har en verditabell for funksjonen\n",
    "\n",
    "$$\n",
    "f(x) = x^2,\n",
    "$$\n",
    "\n",
    "som er gitt ved\n",
    "\n",
    "| $x$ | $f(x)$ |\n",
    "|-----|--------|\n",
    "| 0   | 0      | \n",
    "| 1   | 1      |\n",
    "| 2   | 4      |\n",
    "| 3   | 9      |\n",
    "| 4   | 16     |\n",
    "| 5   | 25     |\n",
    "\n",
    "Dette er også slik vi ser for oss at en datafil vil se ut. Vi har en overskrift for hver kolonne, og hver rad representerer en måling.\n",
    "\n",
    "\n",
    "Du kan laste ned filen med denne koden: "
   ]
  },
  {
   "cell_type": "code",
   "execution_count": 2,
   "metadata": {},
   "outputs": [
    {
     "name": "stderr",
     "output_type": "stream",
     "text": [
      "  % Total    % Received % Xferd  Average Speed   Time    Time     Time  Current\n",
      "                                 Dload  Upload   Total   Spent    Left  Speed\n",
      "100    40  100    40    0     0   1765      0 --:--:-- --:--:-- --:--:--  2105\n"
     ]
    },
    {
     "data": {
      "text/plain": [
       "0"
      ]
     },
     "execution_count": 2,
     "metadata": {},
     "output_type": "execute_result"
    }
   ],
   "source": [
    "import os\n",
    "\n",
    "url = \"https://raw.githubusercontent.com/reneaas/vgs_programmering/main/datasets/IO_data/x_2.txt\"\n",
    "os.system(\" \".join([\"curl\", url, \"-o\", \"x_2.txt\"]))"
   ]
  },
  {
   "attachments": {},
   "cell_type": "markdown",
   "metadata": {},
   "source": [
    "Når datafilen er lastet ned, kan vi lese den inn i Python med følgende kode:"
   ]
  },
  {
   "cell_type": "code",
   "execution_count": 8,
   "metadata": {},
   "outputs": [
    {
     "name": "stdout",
     "output_type": "stream",
     "text": [
      "x = [0.0, 1.0, 2.0, 3.0, 4.0, 5.0]\n",
      "y = [0.0, 1.0, 4.0, 9.0, 16.0, 25.0]\n"
     ]
    }
   ],
   "source": [
    "x = [] # x-verdier\n",
    "y = [] # Funksjonsverdiene f(x) = x^2\n",
    "\n",
    "with open(\"x_2.txt\", \"r\") as infile:\n",
    "    # Vi hopper over første linje fordi det bare er navnet på kolonnene.\n",
    "    første_linje = infile.readline() \n",
    "\n",
    "    # Leser inn resten av filen\n",
    "    for linje in infile:\n",
    "        verdier = linje.split()\n",
    "        x.append(float(verdier[0]))\n",
    "        y.append(float(verdier[1]))\n",
    "\n",
    "print(f\"{x = }\")\n",
    "print(f\"{y = }\")"
   ]
  },
  {
   "attachments": {},
   "cell_type": "markdown",
   "metadata": {},
   "source": [
    "### Eksempel 2\n",
    "\n",
    "Tenk deg at vi har en datafil med posisjonene til en kule over tid etter at vi har kastet den opp i lufta. Vi har målt posisjonen til kula hvert 0.1 sekund, og vi har lagret dataen i en fil som heter `posisjon.txt`. Dataen er gitt ved\n",
    "\n",
    "| $x$ | $y$ | $z$ |\n",
    "|-----|-----|-----|\n",
    "| 1   | 2   | 3   |\n",
    "| 4   | 5   | 6   |\n",
    "| 7   | 8   | 9   |\n"
   ]
  }
 ],
 "metadata": {
  "kernelspec": {
   "display_name": "Python 3",
   "language": "python",
   "name": "python3"
  },
  "language_info": {
   "codemirror_mode": {
    "name": "ipython",
    "version": 3
   },
   "file_extension": ".py",
   "mimetype": "text/x-python",
   "name": "python",
   "nbconvert_exporter": "python",
   "pygments_lexer": "ipython3",
   "version": "3.11.4"
  },
  "orig_nbformat": 4
 },
 "nbformat": 4,
 "nbformat_minor": 2
}
