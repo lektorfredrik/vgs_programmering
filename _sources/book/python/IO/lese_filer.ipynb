{
 "cells": [
  {
   "attachments": {},
   "cell_type": "markdown",
   "metadata": {},
   "source": [
    "# Lese data fra filer"
   ]
  },
  {
   "attachments": {},
   "cell_type": "markdown",
   "metadata": {},
   "source": [
    "Programmering med Python er et viktig verktøy når det kommer til å analysere datasett. Dette medfører at vi må være i stand til å lese data fra filer slik at vi kan bruke dataen til å lage grafer eller regne på dataen får å hente ut mer informasjon."
   ]
  },
  {
   "attachments": {},
   "cell_type": "markdown",
   "metadata": {},
   "source": [
    "## Hvordan lese data fra en fil?\n",
    "\n",
    "Det er vanskelig å gi en *helt* generell beskrivelse av hvordan man skal lese inn datafiler. Men typisk vil en datafil lagres på en måte slik at den likner en tabell. Dette betyr at vi har en overskrift for hver kolonne, og at hver rad representerer en ny måling.\n",
    "\n",
    "Den typiske kodesyntaksen er\n",
    "\n",
    "```python\n",
    "with open(filnavn, \"r\") as infile:\n",
    "    for linje in infile:\n",
    "        # Gjør noe med linjen\n",
    "```\n",
    "\n",
    "```{admonition} Forklaring av syntaksen\n",
    "\n",
    "Her er sannsynligvis noen nye ting for deg. La oss gå gjennom dem en etter en.\n",
    "\n",
    "- `with` åpner en slags kodeblokk som automatisk rydder opp når vi er ferdig med delen. Da slipper vi å åpne og lukke filen manuelt.\n",
    "- `open` åpner filen.\n",
    "- `r` indikerer at vi skal *lese* filen. `r` står for *read*.\n",
    "- `infile` er standardnavn for en fil vi leser fra (det er fra engelsk og er en forkortelse for *input file*).\n",
    "- `for`-løkka går gjennom alle linjene i fila, slik at vi kan gjøre noe med hver linje.\n",
    "\n",
    "```"
   ]
  },
  {
   "attachments": {},
   "cell_type": "markdown",
   "metadata": {},
   "source": [
    "## Eksempler"
   ]
  },
  {
   "attachments": {},
   "cell_type": "markdown",
   "metadata": {},
   "source": [
    "### Eksempel 1\n",
    "\n",
    "Tenk deg at vi har en verditabell for funksjonen\n",
    "\n",
    "$$\n",
    "f(x) = x^2,\n",
    "$$\n",
    "\n",
    "som er gitt ved\n",
    "\n",
    "| $x$ | $f(x)$ |\n",
    "|-----|--------|\n",
    "| 0   | 0      | \n",
    "| 1   | 1      |\n",
    "| 2   | 4      |\n",
    "| 3   | 9      |\n",
    "| 4   | 16     |\n",
    "| 5   | 25     |\n",
    "\n",
    "Dette er også slik vi ser for oss at en datafil vil se ut. Vi har en overskrift for hver kolonne, og hver rad representerer en måling.\n",
    "\n",
    "\n",
    "**Du kan laste ned filen med denne koden:** "
   ]
  },
  {
   "cell_type": "code",
   "execution_count": 22,
   "metadata": {},
   "outputs": [
    {
     "name": "stderr",
     "output_type": "stream",
     "text": [
      "  % Total    % Received % Xferd  Average Speed   Time    Time     Time  Current\n",
      "                                 Dload  Upload   Total   Spent    Left  Speed\n",
      "100    40  100    40    0     0   1261      0 --:--:-- --:--:-- --:--:--  1428\n"
     ]
    },
    {
     "data": {
      "text/plain": [
       "0"
      ]
     },
     "execution_count": 22,
     "metadata": {},
     "output_type": "execute_result"
    }
   ],
   "source": [
    "import os\n",
    "\n",
    "url = \"https://raw.githubusercontent.com/reneaas/vgs_programmering/main/datasets/IO_data/x_kvadrert.txt\"\n",
    "os.system(\" \".join([\"curl\", url, \"-o\", \"x_kvadrert.txt\"]))"
   ]
  },
  {
   "attachments": {},
   "cell_type": "markdown",
   "metadata": {},
   "source": [
    "Når datafilen er lastet ned, kan vi lese den inn i Python med følgende kode:"
   ]
  },
  {
   "cell_type": "code",
   "execution_count": 23,
   "metadata": {},
   "outputs": [
    {
     "name": "stdout",
     "output_type": "stream",
     "text": [
      "x = [0.0, 1.0, 2.0, 3.0, 4.0, 5.0]\n",
      "y = [0.0, 1.0, 4.0, 9.0, 16.0, 25.0]\n"
     ]
    }
   ],
   "source": [
    "x = [] # x-verdier\n",
    "y = [] # Funksjonsverdiene f(x) = x^2\n",
    "\n",
    "with open(\"x_kvadrert.txt\", \"r\") as infile:\n",
    "    # Vi hopper over første linje fordi det bare er navnet på kolonnene.\n",
    "    første_linje = infile.readline() \n",
    "\n",
    "    # Leser inn resten av filen\n",
    "    for linje in infile:\n",
    "        verdier = linje.split()\n",
    "        x.append(float(verdier[0]))\n",
    "        y.append(float(verdier[1]))\n",
    "\n",
    "print(f\"{x = }\")\n",
    "print(f\"{y = }\")"
   ]
  },
  {
   "attachments": {},
   "cell_type": "markdown",
   "metadata": {},
   "source": [
    "### Eksempel 2\n",
    "\n",
    "Tenk deg at vi har en datafil med posisjonene til en ball over tid etter at vi har kastet den opp i lufta. Vi har målt posisjonen til kula hvert 0.01 sekund, og vi har lagret dataen i en fil. De første linjene av datafilen ser slik ut:\n",
    "\n",
    "| $t$ | $x$ | $y$ |\n",
    "|-----|-----|-----|\n",
    "| 0.00 | 0.00 | 1.00 |\n",
    "| 0.01 | 0.05 | 1.15 |\n",
    "| 0.02 | 0.10 | 1.30 |\n",
    "\n",
    "Målet vårt er å lese filen og lage en graf av posisjonen til kula. \n",
    "\n",
    "\n",
    "**Last ned datafilen med følgende kode:**"
   ]
  },
  {
   "cell_type": "code",
   "execution_count": 24,
   "metadata": {},
   "outputs": [
    {
     "name": "stderr",
     "output_type": "stream",
     "text": [
      "  % Total    % Received % Xferd  Average Speed   Time    Time     Time  Current\n",
      "                                 Dload  Upload   Total   Spent    Left  Speed\n",
      "100  5289  100  5289    0     0   221k      0 --:--:-- --:--:-- --:--:--  258k\n"
     ]
    },
    {
     "data": {
      "text/plain": [
       "0"
      ]
     },
     "execution_count": 24,
     "metadata": {},
     "output_type": "execute_result"
    }
   ],
   "source": [
    "import os\n",
    "\n",
    "url = \"https://raw.githubusercontent.com/reneaas/vgs_programmering/main/datasets/IO_data/ball.txt\"\n",
    "os.system(\" \".join([\"curl\", url, \"-o\", \"ball.txt\"]))"
   ]
  },
  {
   "attachments": {},
   "cell_type": "markdown",
   "metadata": {},
   "source": [
    "Vi kan så lese datafilen med følgende kode:"
   ]
  },
  {
   "cell_type": "code",
   "execution_count": 25,
   "metadata": {},
   "outputs": [],
   "source": [
    "filnavn = \"ball.txt\"\n",
    "\n",
    "t = []\n",
    "x = []\n",
    "y = []\n",
    "\n",
    "with open(filnavn, \"r\") as infile:\n",
    "    første_linje = infile.readline()\n",
    "    for linje in infile:\n",
    "        verdier = linje.split()\n",
    "        t.append(float(verdier[0]))\n",
    "        x.append(float(verdier[1]))\n",
    "        y.append(float(verdier[2]))"
   ]
  },
  {
   "attachments": {},
   "cell_type": "markdown",
   "metadata": {},
   "source": [
    "Så kan vi visualisere posisjonen til ballen i $xy$-planet:"
   ]
  },
  {
   "cell_type": "code",
   "execution_count": 26,
   "metadata": {},
   "outputs": [
    {
     "data": {
      "image/png": "[encoded data removed]",
      "text/plain": [
       "<Figure size 640x480 with 1 Axes>"
      ]
     },
     "metadata": {},
     "output_type": "display_data"
    }
   ],
   "source": [
    "import matplotlib.pyplot as plt\n",
    "\n",
    "plt.plot(x, y)\n",
    "plt.grid(True)\n",
    "plt.xlabel(\"x [m]\")\n",
    "plt.ylabel(\"y [m]\")\n",
    "plt.show()"
   ]
  },
  {
   "attachments": {},
   "cell_type": "markdown",
   "metadata": {},
   "source": [
    "````{dropdown} Alternativ måte å lese med Numpy\n",
    "\n",
    "```python\n",
    "import numpy as np\n",
    "\n",
    "data = np.loadtxt(fname=\"ball.txt\", skiprows=1)\n",
    "\n",
    "t = data[:,0]\n",
    "x = data[:,1]\n",
    "y = data[:,2]\n",
    "```\n",
    "\n",
    "Koden er kortere enn når vi leser manuelt med Python. I praksis, er `np.loadtxt` en funksjon som ser omtrent slik ut:\n",
    "\n",
    "```python\n",
    "def loadtxt(filnavn):\n",
    "    with open(filnavn, \"r\") as infile:\n",
    "        infile.readline() # Hopp over første linje\n",
    "        data = []\n",
    "        for linje in infile:\n",
    "            linje = linje.split()\n",
    "            linje = [float(element) for element in linje]\n",
    "            data.append(linje)\n",
    "            \n",
    "    return data\n",
    "```\n",
    "\n",
    "Det ser frykelig komplisert ut, men det tar essensielt å plasserer verdiene i mindre lister. \n",
    "\n",
    "````"
   ]
  },
  {
   "attachments": {},
   "cell_type": "markdown",
   "metadata": {},
   "source": [
    "## Øvingsoppgaver"
   ]
  },
  {
   "attachments": {},
   "cell_type": "markdown",
   "metadata": {},
   "source": [
    "### Oppgave 1: $\\text{CO}_2$-målinger i atmosfæren\n",
    "\n",
    "\n",
    "I denne oppgaven skal du visualisere mengden $\\text{CO}_2$ i atmosfæren. Vi skal bruke data fra Mauna Loa-observatoriet på Hawaii. Målingene er gjort hver måned siden 1958.\n",
    "\n",
    "Last ned datafilen med denne koden:\n",
    "\n"
   ]
  },
  {
   "cell_type": "code",
   "execution_count": null,
   "metadata": {},
   "outputs": [],
   "source": [
    "import os\n",
    "\n",
    "url = \"https://raw.githubusercontent.com/reneaas/vgs_programmering/main/datasets/climate_data/co2_measurements.txt\"\n",
    "os.system(\" \".join([\"curl\", url, \"-o\", \"co2_measurements.txt\"]))"
   ]
  },
  {
   "attachments": {},
   "cell_type": "markdown",
   "metadata": {},
   "source": [
    "Filen har følgende struktur:\n",
    "\n",
    "1. De to første linjene er bare kommentarer, og kan ignoreres.\n",
    "2. De resterende linjene har kolonner med følgende informasjon:\n",
    "    - Kolonne 1: År (1958-2023)\n",
    "    - Kolonne 2: Måned (1-12)\n",
    "    - Kolonne 3: År målt i desimaltall (f.eks er 1958.0417 = januar 1958)\n",
    "    - Kolonne 4: $\\text{CO}_2$-mengde i atmosfæren (i ppm)\n",
    "    - Kolonne 5: *De-seasonalized* $\\text{CO}_2$-mengde i atmosfæren (i ppm). Dette handler mest om å trekke fra påvirkninger fra årstidene, og kan ignoreres.\n",
    "    \n",
    "De resterende kolonnene er uviktige, så vi kan ignorere deres betydning.\n",
    "\n",
    "Under ser du et utdrag av datafilen:"
   ]
  },
  {
   "cell_type": "code",
   "execution_count": 27,
   "metadata": {},
   "outputs": [
    {
     "name": "stdout",
     "output_type": "stream",
     "text": [
      "#            decimal       monthly    de-season  #days  st.dev  unc. of\n",
      "#             date         average     alized          of days  mon mean\n",
      " 1958    3   1958.2027      315.70      314.43     -1   -9.99   -0.99\n",
      " 1958    4   1958.2877      317.45      315.16     -1   -9.99   -0.99\n",
      " 1958    5   1958.3699      317.51      314.71     -1   -9.99   -0.99\n",
      " 1958    6   1958.4548      317.24      315.14     -1   -9.99   -0.99\n",
      " 1958    7   1958.5370      315.86      315.18     -1   -9.99   -0.99\n",
      " 1958    8   1958.6219      314.93      316.18     -1   -9.99   -0.99\n"
     ]
    },
    {
     "data": {
      "text/plain": [
       "0"
      ]
     },
     "execution_count": 27,
     "metadata": {},
     "output_type": "execute_result"
    }
   ],
   "source": [
    "os.system(\"cat co2_measurements.txt | head -n 8\")"
   ]
  },
  {
   "attachments": {},
   "cell_type": "markdown",
   "metadata": {},
   "source": [
    "**Oppgaven**:\n",
    "\n",
    "Skriv en pythonkode som leser inn dataen og henter ut følgende:\n",
    "- Årstallene i en liste `år`\n",
    "- Månedene i en liste `måned`\n",
    "- År målt i desimaltall i en liste `år_desimal`\n",
    "- $\\text{CO}_2$-mengden i en liste `co2`\n",
    "\n",
    "*Du kan ta utgangspunkt i kodeskallet under. Du må fylle inn der det står `NotImplemented`. Du må ha lastet ned filen med koden over for at koden under skal fungere.*"
   ]
  },
  {
   "cell_type": "code",
   "execution_count": null,
   "metadata": {},
   "outputs": [],
   "source": [
    "import matplotlib.pyplot as plt # Importerer plottebiblioteket\n",
    "\n",
    "filnavn = \"co2_measurements.txt\"\n",
    "\n",
    "år = []\n",
    "måned = []\n",
    "co2 = []\n",
    "år_desimal = []\n",
    "\n",
    "with open(filnavn, \"r\") as infile:\n",
    "    infile.readline() # Hopp over første linje\n",
    "    infile.readline() # Hopp over andre linje\n",
    "\n",
    "    for linje in infile:\n",
    "        verdier = NotImplemented\n",
    "\n",
    "        år.append(NotImplemented) \n",
    "        måned.append(NotImplemented)\n",
    "        år_desimal.append(NotImplemented)\n",
    "        co2.append(NotImplemented)\n",
    "\n",
    "\n",
    "# Plotter dataene\n",
    "plt.plot(år_desimal, co2)\n",
    "plt.xlabel(\"År\")\n",
    "plt.ylabel(\"$CO_2$-mengde [ppm]\")\n",
    "plt.grid(True)\n",
    "plt.show()"
   ]
  },
  {
   "attachments": {},
   "cell_type": "markdown",
   "metadata": {},
   "source": [
    "````{dropdown} Løsningsforslag\n",
    "\n",
    "```python\n",
    "import matplotlib.pyplot as plt\n",
    "\n",
    "filnavn = \"co2_measurements.txt\"\n",
    "\n",
    "år = []\n",
    "måned = []\n",
    "co2 = []\n",
    "år_desimal = []\n",
    "\n",
    "with open(filnavn, \"r\") as infile:\n",
    "    infile.readline() # Hopp over første linje\n",
    "    infile.readline() # Hopp over andre linje\n",
    "\n",
    "    for linje in infile:\n",
    "        verdier = linje.split()\n",
    "\n",
    "        år.append(float(verdier[0])) \n",
    "        måned.append(float(verdier[1]))\n",
    "        år_desimal.append(float(verdier[2]))\n",
    "        co2.append(float(verdier[3]))\n",
    "\n",
    "# Plotter dataene\n",
    "plt.plot(år_desimal, co2)\n",
    "plt.xlabel(\"År\")\n",
    "plt.ylabel(\"$CO_2$-mengde [ppm]\")\n",
    "plt.grid(True)\n",
    "plt.show()\n",
    "```\n",
    "\n",
    "```{figure} ./figurer/co2_målinger.png\n",
    "---\n",
    "name: co2_data\n",
    "---\n",
    "Målinger av $\\text{CO}_2$ i atmosfæren ved Mauna Loa-observatoriet på Hawaii. \n",
    "```\n",
    "\n",
    "\n",
    "````"
   ]
  },
  {
   "attachments": {},
   "cell_type": "markdown",
   "metadata": {},
   "source": [
    "### Oppgave 2: Globale temperaturavvik siden 1880\n",
    "\n",
    "I denne oppgaven skal vi se på temperaturavvikene på jorda siden 1880. Dataen er hentet fra [NASA](https://climate.nasa.gov/vital-signs/global-temperature/).\n",
    "\n",
    "Last ned datafilen med denne koden:"
   ]
  },
  {
   "cell_type": "code",
   "execution_count": 1,
   "metadata": {},
   "outputs": [
    {
     "name": "stderr",
     "output_type": "stream",
     "text": [
      "  % Total    % Received % Xferd  Average Speed   Time    Time     Time  Current\n",
      "                                 Dload  Upload   Total   Spent    Left  Speed\n",
      "100  3700  100  3700    0     0  15135      0 --:--:-- --:--:-- --:--:-- 15352\n"
     ]
    },
    {
     "data": {
      "text/plain": [
       "0"
      ]
     },
     "execution_count": 1,
     "metadata": {},
     "output_type": "execute_result"
    }
   ],
   "source": [
    "import os\n",
    "\n",
    "url = \"https://raw.githubusercontent.com/reneaas/vgs_programmering/main/datasets/climate_change/global_temperatures.txt\"\n",
    "\n",
    "os.system(\" \".join([\"curl\", url, \"-o\", \"global_temperatures.txt\"]))"
   ]
  },
  {
   "attachments": {},
   "cell_type": "markdown",
   "metadata": {},
   "source": [
    "De første linjene av datafilen ser slik ut:"
   ]
  },
  {
   "cell_type": "code",
   "execution_count": 2,
   "metadata": {},
   "outputs": [
    {
     "name": "stdout",
     "output_type": "stream",
     "text": [
      "Land-Ocean Temperature Index (C)\n",
      "--------------------------------\n",
      "\n",
      "Year No_Smoothing  Lowess(5)\n",
      "----------------------------\n",
      "1880     -0.17     -0.10\n",
      "1881     -0.09     -0.13\n",
      "1882     -0.11     -0.17\n",
      "1883     -0.18     -0.21\n",
      "1884     -0.29     -0.24\n"
     ]
    },
    {
     "data": {
      "text/plain": [
       "0"
      ]
     },
     "execution_count": 2,
     "metadata": {},
     "output_type": "execute_result"
    }
   ],
   "source": [
    "os.system(\"cat global_temperatures.txt | head -n 10\")"
   ]
  },
  {
   "attachments": {},
   "cell_type": "markdown",
   "metadata": {},
   "source": [
    "Hva betyr disse kolonnene?\n",
    "\n",
    "- Kolonne 1: År\n",
    "- Kolonne 2: Temperaturavvik fra gjennomsnittet i perioden 1951-1980 (i grader Celsius)\n",
    "- Kolonne 3: Temperaturavvik fra gjennomsnittet i perioden 1951-1980 ved *smoothing* (i grader Celsius). Du kan tenke på det som en glattet kurve som passer best med dataen i kolonne 2.\n"
   ]
  },
  {
   "attachments": {},
   "cell_type": "markdown",
   "metadata": {},
   "source": [
    "### Oppgave 2a: Les inn og visualiser dataen\n",
    "\n",
    "Skriv en pythonkode som leser inn dataen inn i lister og henter ut årene og temperaturavvikene (kolonne 2) i lister.\n",
    "\n",
    "*Du kan ta utgangspunkt i kodeskallet under. Du må fylle inn der det står `NotImplemented`.*"
   ]
  },
  {
   "cell_type": "code",
   "execution_count": 5,
   "metadata": {},
   "outputs": [
    {
     "name": "stdout",
     "output_type": "stream",
     "text": [
      "['1880', '-0.17', '-0.10']\n"
     ]
    }
   ],
   "source": [
    "import matplotlib.pyplot as plt\n",
    "\n",
    "filnavn = \"global_temperatures.txt\"\n",
    "\n",
    "år = []\n",
    "temperaturavvik = []\n",
    "n_hopp = NotImplemented # Hvor mange linjer skal hoppes over?\n",
    "\n",
    "with open(filnavn, \"r\") as infile:\n",
    "    for _ in range(n_hopp):\n",
    "        infile.readline()\n",
    "    \n",
    "    for linje in infile:\n",
    "        verdier = NotImplemented\n",
    "\n",
    "        år.append(NotImplemented)\n",
    "        temperaturavvik.append(NotImplemented)\n",
    "\n",
    "\n",
    "\n",
    "plt.plot(år, temperaturavvik)\n",
    "plt.xlabel(\"År\")\n",
    "plt.ylabel(\"Temperaturavvik [°C]\")\n",
    "plt.grid(True)\n",
    "plt.show()"
   ]
  },
  {
   "attachments": {},
   "cell_type": "markdown",
   "metadata": {},
   "source": [
    "````{dropdown} Løsningsforslag\n",
    "\n",
    "```python\n",
    "import matplotlib.pyplot as plt\n",
    "\n",
    "filnavn = \"global_temperatures.txt\"\n",
    "\n",
    "år = []\n",
    "temperaturavvik = []\n",
    "temperaturavvik_smooth = []\n",
    "n_hopp = 5 # Fem tommer linjer.\n",
    "\n",
    "with open(filnavn, \"r\") as infile:\n",
    "    for _ in range(n_hopp):\n",
    "        infile.readline()\n",
    "    \n",
    "    for linje in infile:\n",
    "        verdier = linje.split()\n",
    "\n",
    "        år.append(float(verdier[0]))\n",
    "        temperaturavvik.append(float(verdier[1]))\n",
    "        temperaturavvik_smooth.append(float(verdier[-1]))\n",
    "    \n",
    "# Visualiserer dataene\n",
    "plt.plot(år, temperaturavvik, color=\"purple\", alpha=0.5, label=\"Rådata\")\n",
    "plt.plot(år, temperaturavvik_smooth, color=\"red\", label=\"Glattet kurve\")\n",
    "plt.xlabel(\"År\")\n",
    "plt.ylabel(\"Temperaturavvik [°C]\")\n",
    "plt.grid(True)\n",
    "plt.legend()\n",
    "plt.savefig(\"figurer/global_temperaturavvik.pdf\")\n",
    "plt.show()\n",
    "```\n",
    "\n",
    "\n",
    "```{figure} ./figurer/global_temperaturavvik.pdf\n",
    "---\n",
    "name: global-temperaturavvik\n",
    "---\n",
    "\n",
    "Temperaturavvik på jorda siden 1880. Dataen er hentet fra [NASA](https://climate.nasa.gov/vital-signs/global-temperature/).\n",
    "```\n",
    "\n",
    "````"
   ]
  },
  {
   "cell_type": "code",
   "execution_count": 29,
   "metadata": {},
   "outputs": [
    {
     "data": {
      "image/png": "[encoded data removed]",
      "text/plain": [
       "<Figure size 640x480 with 1 Axes>"
      ]
     },
     "metadata": {},
     "output_type": "display_data"
    }
   ],
   "source": [
    "import matplotlib.pyplot as plt\n",
    "\n",
    "filnavn = \"global_temperatures.txt\"\n",
    "\n",
    "år = []\n",
    "temperaturavvik = []\n",
    "temperaturavvik_smooth = []\n",
    "n_hopp = 5 # Fem tommer linjer.\n",
    "\n",
    "with open(filnavn, \"r\") as infile:\n",
    "    for _ in range(n_hopp):\n",
    "        infile.readline()\n",
    "    \n",
    "    for linje in infile:\n",
    "        verdier = linje.split()\n",
    "\n",
    "        år.append(float(verdier[0]))\n",
    "        temperaturavvik.append(float(verdier[1]))\n",
    "        temperaturavvik_smooth.append(float(verdier[-1]))\n",
    "    \n",
    "# Visualiserer dataene\n",
    "plt.plot(år, temperaturavvik, color=\"purple\", alpha=0.5, label=\"Rådata\")\n",
    "plt.plot(år, temperaturavvik_smooth, color=\"red\", label=\"Glattet kurve\")\n",
    "plt.xlabel(\"År\")\n",
    "plt.ylabel(\"Temperaturavvik [°C]\")\n",
    "plt.grid(True)\n",
    "plt.legend()\n",
    "plt.savefig(\"figurer/global_temperaturavvik.pdf\")\n",
    "plt.show()"
   ]
  },
  {
   "attachments": {},
   "cell_type": "markdown",
   "metadata": {},
   "source": [
    "### Oppgave 2b: Finn de varmeste årene\n",
    "\n",
    "Skriv en pythonkode som finner de fem varmeste årene siden 1880.\n",
    "\n",
    "*Du kan ta utgangspunkt i kodeskallet under. Du må fylle inn der det står `NotImplemented`.*\n",
    "\n"
   ]
  },
  {
   "attachments": {},
   "cell_type": "markdown",
   "metadata": {},
   "source": [
    "````{dropdown} Kodehint 1\n",
    "\n",
    "Du kan hente ut indeksen til en verdi i en liste ved å bruke `index()`-metoden. For eksempel:\n",
    "\n",
    "```python\n",
    "indeks = min_liste.index(5)\n",
    "```\n",
    "\n",
    "vil hente ut den *laveste* indeksen som har den verdien i listen `min_liste`. For eksempel, hvis \n",
    "\n",
    "```python\n",
    "min_liste = [1, 5, 3, 5]\n",
    "```\n",
    "\n",
    "så vil \n",
    "\n",
    "```python\n",
    "index = min_liste.index(5)\n",
    "```\n",
    "\n",
    "sette `index` til `1`, siden det er den *laveste* indeksen som har verdien `5`.\n",
    "\n",
    "````"
   ]
  },
  {
   "attachments": {},
   "cell_type": "markdown",
   "metadata": {},
   "source": [
    "````{dropdown} Kodehint 2\n",
    "\n",
    "Du kan hente ut en høyeste verdien i en liste med `max()`-funksjonen. For eksempel, hvis vi har listen\n",
    "\n",
    "```python\n",
    "min_liste = [1, 5, 3, 5]\n",
    "```\n",
    "\n",
    "så vil \n",
    "\n",
    "```python\n",
    "max_verdi = max(min_liste)\n",
    "```\n",
    "\n",
    "vil sette `max_verdi` til `5` siden det er den største verdien i listen.\n",
    "\n",
    "````"
   ]
  },
  {
   "cell_type": "code",
   "execution_count": null,
   "metadata": {},
   "outputs": [],
   "source": [
    "max_temperaturavvik = []\n",
    "max_år = []\n",
    "\n",
    "while len(max_år) < NotImplemented: # Hvor mange maksverdier skal vi finne?\n",
    "    max_verdi = NotImplemented # Finn maksverdien\n",
    "    max_index = NotImplemented # Finn indeksen til maksverdien\n",
    "\n",
    "    max_temperaturavvik.append(NotImplemented) # Legg til maksverdien i listen\n",
    "    max_år.append(NotImplemented) # Legg til årstallet i listen\n",
    "\n",
    "    temperaturavvik.pop(NotImplemented) # Slett elementet fra listen"
   ]
  },
  {
   "attachments": {},
   "cell_type": "markdown",
   "metadata": {},
   "source": [
    "````{dropdown} Løsningsforslag\n",
    "\n",
    "```python\n",
    "max_temperaturavvik = []\n",
    "max_år = []\n",
    "\n",
    "while len(max_år) < 5:\n",
    "    max_index = temperaturavvik.index(max(temperaturavvik))\n",
    "\n",
    "    max_temperaturavvik.append(temperaturavvik[max_index])\n",
    "    max_år.append(år[max_index])\n",
    "    temperaturavvik.pop(max_index)\n",
    "\n",
    "print(f\"{max_år = }\")\n",
    "print(f\"{max_temperaturavvik = }\")\n",
    "```\n",
    "\n",
    "som gir utskriften\n",
    "\n",
    "```console\n",
    "max_år = [2016.0, 2019.0, 2018.0, 2016.0, 2015.0]\n",
    "max_temperaturavvik = [1.02, 1.02, 0.98, 0.92, 0.9]\n",
    "```\n",
    "Med andre ord, var årene 2016 og 2019 de varmeste årene noen siden 1880. Da var temperaturen 1.02 °C over gjennomsnittet fra perioden 1951-1980. \n",
    "\n",
    "````"
   ]
  },
  {
   "cell_type": "code",
   "execution_count": 30,
   "metadata": {},
   "outputs": [
    {
     "name": "stdout",
     "output_type": "stream",
     "text": [
      "max_år = [2016.0, 2019.0, 2018.0, 2016.0, 2015.0]\n",
      "max_temperaturavvik = [1.02, 1.02, 0.98, 0.92, 0.9]\n"
     ]
    }
   ],
   "source": [
    "max_temperaturavvik = []\n",
    "max_år = []\n",
    "\n",
    "while len(max_år) < 5:\n",
    "    max_index = temperaturavvik.index(max(temperaturavvik))\n",
    "\n",
    "    max_temperaturavvik.append(temperaturavvik[max_index])\n",
    "    max_år.append(år[max_index])\n",
    "    temperaturavvik.pop(max_index)\n",
    "\n",
    "print(f\"{max_år = }\")\n",
    "print(f\"{max_temperaturavvik = }\")"
   ]
  },
  {
   "cell_type": "code",
   "execution_count": null,
   "metadata": {},
   "outputs": [],
   "source": [
    "max_temperaturavvik = []\n",
    "max_år = []\n",
    "\n",
    "while len(max_år) < NotImplemented: # Hvor mange maksverdier skal vi finne?\n",
    "    max_verdi = NotImplemented # Finn maksverdien\n",
    "    max_index = NotImplemented # Finn indeksen til maksverdien\n",
    "\n",
    "    max_temperaturavvik.append(NotImplemented) # Legg til maksverdien i listen\n",
    "    max_år.append(NotImplemented) # Legg til årstallet i listen\n",
    "\n",
    "    temperaturavvik.pop(NotImplemented) # Slett elementet fra listen"
   ]
  },
  {
   "attachments": {},
   "cell_type": "markdown",
   "metadata": {},
   "source": []
  },
  {
   "cell_type": "code",
   "execution_count": 27,
   "metadata": {},
   "outputs": [
    {
     "name": "stdout",
     "output_type": "stream",
     "text": [
      "1\n"
     ]
    }
   ],
   "source": []
  },
  {
   "attachments": {},
   "cell_type": "markdown",
   "metadata": {},
   "source": [
    "min_liste = [1, 5, 3, 5]"
   ]
  }
 ],
 "metadata": {
  "kernelspec": {
   "display_name": "Python 3",
   "language": "python",
   "name": "python3"
  },
  "language_info": {
   "codemirror_mode": {
    "name": "ipython",
    "version": 3
   },
   "file_extension": ".py",
   "mimetype": "text/x-python",
   "name": "python",
   "nbconvert_exporter": "python",
   "pygments_lexer": "ipython3",
   "version": "3.11.4"
  },
  "orig_nbformat": 4
 },
 "nbformat": 4,
 "nbformat_minor": 2
}
