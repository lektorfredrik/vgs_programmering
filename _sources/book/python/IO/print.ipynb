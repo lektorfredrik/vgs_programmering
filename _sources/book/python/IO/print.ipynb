{
 "cells": [
  {
   "attachments": {},
   "cell_type": "markdown",
   "metadata": {},
   "source": [
    "# `print`-funksjonen for å skrive ut resultateter"
   ]
  },
  {
   "attachments": {},
   "cell_type": "markdown",
   "metadata": {},
   "source": [
    "I Python kan vi bruke en innebygd funksjonen kalt `print` for å skrive eller *printe* ut verdien til en variabel til skjermen. Ofte vil vi være interessert i å printe ut verdien på slutten av en beregning, men det er også et nyttig verktøy for å sjekke at koden vår gjør det vi tror den gjør underveis."
   ]
  },
  {
   "attachments": {},
   "cell_type": "markdown",
   "metadata": {},
   "source": [
    "## Printe med `print` uten formattering\n",
    "\n",
    "La oss tenke oss at vi har variabelene"
   ]
  },
  {
   "cell_type": "code",
   "execution_count": 18,
   "metadata": {},
   "outputs": [],
   "source": [
    "a = 1\n",
    "r = -1.0\n",
    "litta_melding = \"En liten oppmuntring til deg som lærer deg Python. Dette får du til!\""
   ]
  },
  {
   "attachments": {},
   "cell_type": "markdown",
   "metadata": {},
   "source": [
    "Vi kan skrive ut verdiene til variabelen ved å bruke `print`-funksjonen slik:"
   ]
  },
  {
   "cell_type": "code",
   "execution_count": 19,
   "metadata": {},
   "outputs": [
    {
     "name": "stdout",
     "output_type": "stream",
     "text": [
      "1\n"
     ]
    }
   ],
   "source": [
    "print(a)"
   ]
  },
  {
   "cell_type": "code",
   "execution_count": 20,
   "metadata": {},
   "outputs": [
    {
     "name": "stdout",
     "output_type": "stream",
     "text": [
      "-1.0\n"
     ]
    }
   ],
   "source": [
    "print(r)"
   ]
  },
  {
   "cell_type": "code",
   "execution_count": 21,
   "metadata": {},
   "outputs": [
    {
     "name": "stdout",
     "output_type": "stream",
     "text": [
      "En liten oppmuntring til deg som lærer deg Python. Dette får du til!\n"
     ]
    }
   ],
   "source": [
    "print(litta_melding)"
   ]
  },
  {
   "attachments": {},
   "cell_type": "markdown",
   "metadata": {},
   "source": [
    "## `print`-funksjonen med `f`-string formattering\n",
    "\n",
    "Vi kan også bruke `print`-funksjonen til å printe ut tekststrenger og variabler sammen. Dette gjør vi ved å bruke en `f`-string. Dette er rett og slett en tekststreng `\"...\"` der vi plasserer en `f` **før** strengen start. Det vil si, den vil se slik ut `f\"...\"`. I seg selv vil ikke dette gjøre noe spesielt, men det er først når vi plasserer en variabel inn i strengen med krøllparenteser rundt, som `f\"{varabel}\"` at noe spesielt vil skje. \n",
    "\n",
    "La oss se på noen eksempler:"
   ]
  },
  {
   "cell_type": "code",
   "execution_count": 22,
   "metadata": {},
   "outputs": [
    {
     "name": "stdout",
     "output_type": "stream",
     "text": [
      "1\n"
     ]
    }
   ],
   "source": [
    "print(f\"{a}\")"
   ]
  },
  {
   "cell_type": "code",
   "execution_count": 23,
   "metadata": {},
   "outputs": [
    {
     "name": "stdout",
     "output_type": "stream",
     "text": [
      "-1.0\n"
     ]
    }
   ],
   "source": [
    "print(f\"{r}\")"
   ]
  },
  {
   "cell_type": "code",
   "execution_count": 24,
   "metadata": {},
   "outputs": [
    {
     "name": "stdout",
     "output_type": "stream",
     "text": [
      "En liten oppmuntring til deg som lærer deg Python. Dette får du til!\n"
     ]
    }
   ],
   "source": [
    "print(f\"{litta_melding}\")"
   ]
  },
  {
   "attachments": {},
   "cell_type": "markdown",
   "metadata": {},
   "source": [
    "Så dette ga akkurat de samme resultatene som når vi bare brukte `print(variabel)` direkte. Men nytteverdien kommer når vi bruker `print(f\"{variabel = }\")`. Da vil vi nemlig får følgende utskrift:"
   ]
  },
  {
   "cell_type": "code",
   "execution_count": 25,
   "metadata": {},
   "outputs": [
    {
     "name": "stdout",
     "output_type": "stream",
     "text": [
      "a = 1\n"
     ]
    }
   ],
   "source": [
    "print(f\"{a = }\")"
   ]
  },
  {
   "cell_type": "code",
   "execution_count": 26,
   "metadata": {},
   "outputs": [
    {
     "name": "stdout",
     "output_type": "stream",
     "text": [
      "r = -1.0\n"
     ]
    }
   ],
   "source": [
    "print(f\"{r = }\")"
   ]
  },
  {
   "cell_type": "code",
   "execution_count": 27,
   "metadata": {},
   "outputs": [
    {
     "name": "stdout",
     "output_type": "stream",
     "text": [
      "litta_melding = 'En liten oppmuntring til deg som lærer deg Python. Dette får du til!'\n"
     ]
    }
   ],
   "source": [
    "print(f\"{litta_melding = }\")"
   ]
  },
  {
   "attachments": {},
   "cell_type": "markdown",
   "metadata": {},
   "source": [
    "Siden vi nå automatisk legger inn variabelnavnet og en likhet, kan vi like gjerne skrive det ut alt på samme tid:"
   ]
  },
  {
   "cell_type": "code",
   "execution_count": 28,
   "metadata": {},
   "outputs": [
    {
     "name": "stdout",
     "output_type": "stream",
     "text": [
      "a = 1\n",
      "r = -1.0\n",
      "litta_melding = 'En liten oppmuntring til deg som lærer deg Python. Dette får du til!'\n"
     ]
    }
   ],
   "source": [
    "print(f\"{a = }\")\n",
    "print(f\"{r = }\")\n",
    "print(f\"{litta_melding = }\")"
   ]
  },
  {
   "attachments": {},
   "cell_type": "markdown",
   "metadata": {},
   "source": [
    "Eller vi kan skrive de ut alle samme i samme `print`-kall:"
   ]
  },
  {
   "cell_type": "code",
   "execution_count": 29,
   "metadata": {},
   "outputs": [
    {
     "name": "stdout",
     "output_type": "stream",
     "text": [
      "a = 1 ; r = -1.0 ; litta_melding = 'En liten oppmuntring til deg som lærer deg Python. Dette får du til!'\n"
     ]
    }
   ],
   "source": [
    "print(f\"{a = } ; {r = } ; {litta_melding = }\")"
   ]
  },
  {
   "attachments": {},
   "cell_type": "markdown",
   "metadata": {},
   "source": [
    "Uansett hvordan vi velger å gjøre det, får vi en mye større evne til å formattere utskriften vår! "
   ]
  },
  {
   "attachments": {},
   "cell_type": "markdown",
   "metadata": {},
   "source": [
    "## Bruke `print` med `f`-string formattering for å printe ut med valgfritt antall desimaler"
   ]
  },
  {
   "attachments": {},
   "cell_type": "markdown",
   "metadata": {},
   "source": [
    "I mange tilfeller er det ikke ønskelig at vi printer ut verdien til en variabel etter en beregning med 16 desimaler. Ofte er vi mer interessert i de 2, 3 kanskje 4 første. Da kan man man for eksempel utvide `f`-strengen med\n",
    "\n",
    "```python\n",
    "print(f\"{variabel = :.4f}\")\n",
    "``` \n",
    "\n",
    "for å få 4 desimaler. Det er altså bare å legge til `:.4f` etter variabelnavnet eller likhetstegnet. Her er noen eksempler:"
   ]
  },
  {
   "cell_type": "code",
   "execution_count": 31,
   "metadata": {},
   "outputs": [],
   "source": [
    "a = 1.23456789"
   ]
  },
  {
   "cell_type": "code",
   "execution_count": 32,
   "metadata": {},
   "outputs": [
    {
     "name": "stdout",
     "output_type": "stream",
     "text": [
      "a = 1.23\n",
      "a = 1.2346\n",
      "a = 1.2345678900\n"
     ]
    }
   ],
   "source": [
    "print(f\"{a = :.2f}\") # 2 desimaler\n",
    "print(f\"{a = :.4f}\") # 4 desimaler\n",
    "print(f\"{a = :.10f}\") # 10 desimaler"
   ]
  },
  {
   "attachments": {},
   "cell_type": "markdown",
   "metadata": {},
   "source": [
    "## Legge til ekstra tekst med `f`-string formattering\n",
    "\n",
    "Vi kan også legge til ekstra tekst i `f`-strengen. Dette gjør vi ved å skrive teksten vi ønsker å legge til i `f`-strengen. La oss se på et eksempel:"
   ]
  },
  {
   "cell_type": "code",
   "execution_count": 33,
   "metadata": {},
   "outputs": [
    {
     "name": "stdout",
     "output_type": "stream",
     "text": [
      "a = 1 før vi gang med 3\n",
      "a = 3 etter vi gang med 3\n"
     ]
    }
   ],
   "source": [
    "a = 1\n",
    "print(f\"{a = } før vi gang med 3\")\n",
    "\n",
    "a = a * 3\n",
    "print(f\"{a = } etter vi gang med 3\")"
   ]
  },
  {
   "attachments": {},
   "cell_type": "markdown",
   "metadata": {},
   "source": [
    "## Øvingsoppgaver"
   ]
  },
  {
   "attachments": {},
   "cell_type": "markdown",
   "metadata": {},
   "source": [
    "### Oppgave 1\n",
    "\n",
    "Bruk `print`-funksjonen til å skrive ut verdien til variabelene under:"
   ]
  },
  {
   "cell_type": "code",
   "execution_count": 34,
   "metadata": {},
   "outputs": [],
   "source": [
    "c = 2.0\n",
    "d = 3 * 4\n",
    "melding = \"Til alle reisende. Plattform 3 er forsinket med 10 minutter.\""
   ]
  },
  {
   "attachments": {},
   "cell_type": "markdown",
   "metadata": {},
   "source": [
    "*Du kan bruke kodeskallet under. Du må fylle inn der det står `NotImplemented`.*"
   ]
  },
  {
   "cell_type": "code",
   "execution_count": null,
   "metadata": {},
   "outputs": [],
   "source": [
    "print(NotImplemented) # Print ut verden til `c`\n",
    "print(NotImplemented) # Print ut verden til `d`\n",
    "print(NotImplemented) # Print ut verden til `melding`"
   ]
  },
  {
   "attachments": {},
   "cell_type": "markdown",
   "metadata": {},
   "source": [
    "````{dropdown} Løsningsforslag\n",
    "\n",
    "```python\n",
    "print(c)\n",
    "print(d)\n",
    "print(melding)\n",
    "```\n",
    "\n",
    "som gir utskriften \n",
    "\n",
    "```console\n",
    "2.0\n",
    "12\n",
    "Til alle reisende. Plattform 3 er forsinket med 10 minutter.\n",
    "```\n",
    "\n",
    "````"
   ]
  },
  {
   "attachments": {},
   "cell_type": "markdown",
   "metadata": {},
   "source": [
    "### Oppgave 2\n",
    "\n",
    "Bruk `print`-funksjonen med `f`-string formattering til å printe ut variabelene"
   ]
  },
  {
   "cell_type": "code",
   "execution_count": 36,
   "metadata": {},
   "outputs": [],
   "source": [
    "melding_til_reisende = \"Nok en melding til de reisende. Plattform 3 er forsinket med 10 minutter. Vi beklager.\"\n",
    "antall_som_venter = 58"
   ]
  },
  {
   "attachments": {},
   "cell_type": "markdown",
   "metadata": {},
   "source": [
    "*Du kan bruke kodeskallet under for å løse oppgaven. Du må fylle inn der det står `NotImplemented`.*"
   ]
  },
  {
   "cell_type": "code",
   "execution_count": null,
   "metadata": {},
   "outputs": [],
   "source": [
    "print(f\"{NotImplemented}\") # Print ut verden til `melding_til_reisende`\n",
    "print(f\"{NotImplemented}\") # Print ut verden til `antall_som_venter`'"
   ]
  },
  {
   "attachments": {},
   "cell_type": "markdown",
   "metadata": {},
   "source": [
    "````{dropdown} Løsningsforslag\n",
    "\n",
    "```python\n",
    "print(f\"{melding_til_reisende = }\")\n",
    "print(f\"{antall_som_venter = }\")\n",
    "```\n",
    "som gir utskriften \n",
    "\n",
    "```console\n",
    "melding_til_reisende = 'Nok en melding til de reisende. Plattform 3 er forsinket med 10 minutter. Vi beklager.'\n",
    "antall_som_venter = 58\n",
    "```\n",
    "\n",
    "````"
   ]
  },
  {
   "attachments": {},
   "cell_type": "markdown",
   "metadata": {},
   "source": [
    "### Oppgave 3 \n",
    "\n",
    "Bruk `print`-funksjonen med `f`-string formattering til å printe ut variabelen `res` med 2 desimaler."
   ]
  },
  {
   "cell_type": "code",
   "execution_count": 38,
   "metadata": {},
   "outputs": [],
   "source": [
    "res = -20.3047473838"
   ]
  },
  {
   "attachments": {},
   "cell_type": "markdown",
   "metadata": {},
   "source": [
    "*Du kan bruke kodeskallet under til å løse oppgaven. Du må fylle inn der det står `NotImplemented`.*"
   ]
  },
  {
   "cell_type": "code",
   "execution_count": null,
   "metadata": {},
   "outputs": [],
   "source": [
    "print(NotImplemented)"
   ]
  },
  {
   "attachments": {},
   "cell_type": "markdown",
   "metadata": {},
   "source": [
    "````{dropdown} Løsningsforslag\n",
    "\n",
    "```python\n",
    "print(f\"{res = :.2f}\")\n",
    "```\n",
    "\n",
    "som gir utskriften\n",
    "\n",
    "```console\n",
    "res = -20.30\n",
    "```\n",
    "\n",
    "````"
   ]
  }
 ],
 "metadata": {
  "kernelspec": {
   "display_name": "Python 3",
   "language": "python",
   "name": "python3"
  },
  "language_info": {
   "codemirror_mode": {
    "name": "ipython",
    "version": 3
   },
   "file_extension": ".py",
   "mimetype": "text/x-python",
   "name": "python",
   "nbconvert_exporter": "python",
   "pygments_lexer": "ipython3",
   "version": "3.11.4"
  },
  "orig_nbformat": 4
 },
 "nbformat": 4,
 "nbformat_minor": 2
}
