{
 "cells": [
  {
   "cell_type": "markdown",
   "metadata": {},
   "source": [
    "# Level 1 🔥"
   ]
  },
  {
   "cell_type": "markdown",
   "metadata": {},
   "source": [
    "````{admonition} Integrasjon og arealer\n",
    ":class: tip \n",
    "\n",
    "Litt forenklet kan vi tenke på integralet \n",
    "\n",
    "$$\n",
    "\\int\\limits_{a}^{b} f(x) \\, dx\n",
    "$$\n",
    "\n",
    "som å finne arealet mellom grafen til $f$ og $x$-aksen over intervallet $[a, b]$.\n",
    "\n",
    "Figuren under viser grafen til \n",
    "\n",
    "$$\n",
    "f(x) = -4(x-3)(x^2 + 1), \\quad x \\in [0, 3].\n",
    "$$\n",
    "\n",
    "Området vi finner arealet av er fargelagt.\n",
    "\n",
    "```{figure} ./figs/areal.png\n",
    "---\n",
    "name: areal\n",
    "---\n",
    "```\n",
    "\n",
    "````"
   ]
  },
  {
   "cell_type": "markdown",
   "metadata": {},
   "source": [
    "## Oppgave 1 - Rektangelmetoden med venstretilnærming\n",
    "\n",
    "Den første tilnærmingen du skal se på er rektangelmetoden med *venstretilnærming* til integralet.\n",
    "\n",
    "````{admonition} Rektangelmetoden: venstretilnærming\n",
    ":class: tip\n",
    "Vi ønsker å finne en tilnærming til arealet mellom grafen til $f$ og $x$-aksen over intervallet $[a, b]$. En tilnærming er å lage seg mange rektangler som omtrent dekker området. Så summerer vi opp arealet av rektangler. Venstretilnærming refererer til en måte å regne ut høyden til rektanglene på.\n",
    "Strategien er som følger:\n",
    "1. Del opp intervallet $[a, b]$ i $n$ like store delintervaller. Dette gir $n$ rektangler!\n",
    "2. Regn ut høyden til vært rektangel ved å bruke funksjonsverdien $f(x)$ i venstre ende av hvert delintervall.\n",
    "3. Summer opp arealene til alle rektanglene for å finne en tilnærming til arealet mellom grafen og $x$-aksen.\n",
    "\n",
    "Metoden kalles for *venstretilnærming* fordi vi bruker venstre ende av hvert delintervall til å finne høyden til rektanglene. Figuren under illustrerer ideen bak metoden.\n",
    "\n",
    "```{figure} ./figs/areal_figurer.png\n",
    "---\n",
    "name: venstretilnærming\n",
    "---\n",
    "Venstretilnærming til integralet av $f(x) = -4(x-3)(x^2 + 1)$ over intervallet $[0, 3]$.\n",
    "\n",
    "```\n",
    "\n",
    "````\n",
    "\n"
   ]
  },
  {
   "cell_type": "markdown",
   "metadata": {},
   "source": [
    "La oss se på hvordan vi kan bruke venstretilnærming til å finne verdien av integralet\n",
    "\n",
    "$$\n",
    "\\int\\limits_{0}^{3} -4(x-3)(x^2 + 1) \\, dx.\n",
    "$$\n",
    "\n",
    "En kode som bruker venstretilnærming kan se slik ut:"
   ]
  },
  {
   "cell_type": "code",
   "execution_count": 3,
   "metadata": {},
   "outputs": [
    {
     "name": "stdout",
     "output_type": "stream",
     "text": [
      "integral = 48.00\n"
     ]
    }
   ],
   "source": [
    "def f(x):\n",
    "    return -4 * (x - 3) * (x**2 + 1)\n",
    "\n",
    "a = 0                                       # Nedre integrasjonsgrense i intervallet [a, b]\n",
    "b = 3                                       # Øvre integrasjonsgrense i intervallet [a, b]\n",
    "n = 3                                       # Antall delintervaller (antall rektangler)\n",
    "bredde = (b - a) / n                        # Bredden på hvert rektangel\n",
    "\n",
    "integral = 0                                # Oppretter en variabel som lagrer summen av arealene til rektanglene\n",
    "for i in range(n):                          # Går gjennom hvert rektangel\n",
    "    x = a + i * bredde                      # Regner ut x-verdien til venstre side av rektangelet\n",
    "    høyde = f(x)                            # Regner ut høyden til rektangelet\n",
    "    areal = høyde * bredde                  # Regner ut arealet av rektangelet\n",
    "    integral = integral + areal             # Legger til arealet av rektangelet til summen\n",
    "\n",
    "print(f\"{integral = :.2f}\")                 # Skriver ut verdien med 2 desimaler"
   ]
  },
  {
   "cell_type": "markdown",
   "metadata": {},
   "source": [
    "### Oppgave 1a 📝\n",
    "**Svar på disse spørsmålene før du kjører programmet**.\n",
    "1. Hvor mange rektangler er det programmet bruker?\n",
    "2. Hvordan regner programmet ut bredden til hvert rektangel?\n",
    "3. Hvordan finner programmet punktet som skal brukes til å regne ut høyden til hvert rektangel?\n",
    "4. Hvordan regner programmet ut høyden til hvert rektangel?\n",
    "5. Regn ut arealet som programmet gir for hånd og kjør deretter programmet og sammenlign svarene.\n"
   ]
  },
  {
   "cell_type": "markdown",
   "metadata": {},
   "source": [
    "### Oppgave 1b\n",
    "Endre programmet slik at det regner ut en god tilnærming til integralet. Prøv deg frem med ulike antall rektangler og sammenlign svarene."
   ]
  },
  {
   "cell_type": "markdown",
   "metadata": {},
   "source": [
    "## Oppgave 2 - Rektangelmetoden med høyretilnærming\n",
    "\n",
    "I denne oppgaven skal du lære om rektangelmetoden der man bruker en *høyretilnærming* til integralet.\n",
    "\n",
    "````{admonition} Rektangelmetoden: venstretilnærming\n",
    ":class: tip\n",
    "Vi ønsker å finne en tilnærming til arealet mellom grafen til $f$ og $x$-aksen over intervallet $[a, b]$. En tilnærming er å lage seg mange rektangler som omtrent dekker området. Så summerer vi opp arealet av rektangler. Høyretilnærming refererer til en måte å regne ut høyden til rektanglene på.\n",
    "Strategien er som følger:\n",
    "1. Del opp intervallet $[a, b]$ i $n$ like store delintervaller. Dette gir $n$ rektangler!\n",
    "2. Regn ut høyden til vært rektangel ved å bruke funksjonsverdien $f(x)$ i høyre ende av hvert delintervall.\n",
    "3. Summer opp arealene til alle rektanglene for å finne en tilnærming til arealet mellom grafen og $x$-aksen.\n",
    "\n",
    "Metoden kalles for *høyretilnærming* fordi vi bruker høyre ende av hvert delintervall til å finne høyden til rektanglene. Figuren under illustrerer ideen bak metoden.\n",
    "\n",
    "```{figure} ./figs/høyretilnærming.png\n",
    "---\n",
    "name: høyretilnærming\n",
    "---\n",
    "Høyretilnærming til integralet av $f(x) = -4(x-3)(x^2 + 1)$ over intervallet $[0, 3]$. Merk at det ser ut som vi mangler et rektangel fordi vi bruker høyre ende av hvert delintervall. Men $f(3) = 0$ som betyr at høyden til rektangelet blir 0. \n",
    "```\n",
    "\n",
    "````"
   ]
  },
  {
   "cell_type": "markdown",
   "metadata": {},
   "source": [
    "### Oppgave 3\n",
    "\n",
    "Her skal du lære om en midtpunktstilnærming til integralet. \n",
    "\n",
    "````{admonition} Rektangelmetoden: midtpunktstilnærming\n",
    ":class: tip\n",
    "Vi ønsker å finne en tilnærming til arealet mellom grafen til $f$ og $x$-aksen over intervallet $[a, b]$. En tilnærming er å lage seg mange rektangler som omtrent dekker området. Så summerer vi opp arealet av rektangler. Midtpunktstilnærming refererer til en måte å regne ut høyden til rektanglene på.\n",
    "Strategien er som følger:\n",
    "1. Del opp intervallet $[a, b]$ i $n$ like store delintervaller. Dette gir $n$ rektangler.\n",
    "2. Regn ut høyden til vært rektangel ved å bruke funksjonsverdien $f(x)$ i midten av hvert delintervall.\n",
    "3. Summer opp arealene til alle rektanglene for å finne en tilnærming til arealet mellom grafen og $x$-aksen.\n",
    "\n",
    "Metoden kalles for *midtpunktstilnærming* fordi vi bruker midtpunktet av hvert delintervall til å finne høyden til rektanglene. Figuren under illustrerer ideen bak metoden.\n",
    "\n",
    "```{figure} ./figs/midtpunktstilnærming.png\n",
    "---\n",
    "name: midtpunktstilnærming\n",
    "---\n",
    "Midtpunktstilnærming til integralet av $f(x) = -4(x-3)(x^2 + 1)$ over intervallet $[0, 3]$.\n",
    "```\n",
    "\n",
    "````"
   ]
  }
 ],
 "metadata": {
  "kernelspec": {
   "display_name": "base",
   "language": "python",
   "name": "python3"
  },
  "language_info": {
   "codemirror_mode": {
    "name": "ipython",
    "version": 3
   },
   "file_extension": ".py",
   "mimetype": "text/x-python",
   "name": "python",
   "nbconvert_exporter": "python",
   "pygments_lexer": "ipython3",
   "version": "3.11.8"
  }
 },
 "nbformat": 4,
 "nbformat_minor": 2
}
