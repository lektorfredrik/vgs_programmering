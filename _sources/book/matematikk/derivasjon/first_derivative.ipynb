{
 "cells": [
  {
   "attachments": {},
   "cell_type": "markdown",
   "metadata": {},
   "source": [
    "# Numerisk derivasjon av første orden (førstederiverte)\n",
    "\n",
    "Selv om man i prinsippet alltid kan finne en formel for den deriverte til en funksjon $f$, er det i blant\n",
    "bedre å bruke en mer robust og fleksibel måte regne ut en tilnærming til den deriverte. Dette kan vi gjøre med\n",
    "numerisk derivasjon."
   ]
  },
  {
   "attachments": {},
   "cell_type": "markdown",
   "metadata": {},
   "source": [
    "## Netwons kvotient (fremover)\n",
    "\n",
    "**Newtons kvotient** er en metode for numerisk derivasjon som vi kan motivere ut ifra definisjonen av den deriverte\n",
    "\n",
    "$$\n",
    "f'(x) = \\lim_{h \\to 0} \\frac{f(x+h) - f(x)}{h},\n",
    "$$ (eq:def_derivative)\n",
    "\n",
    "ved å redusere kravet om at $h \\to 0$ til at vi i stedet setter $h$ til et *lite tall*. Vi kan da tilnærme den deriverte som\n",
    "\n",
    "$$\n",
    "f'(x) \\approx \\frac{f(x+h) - f(x)}{h},\n",
    "$$ (eq:newton_forward)\n",
    "\n",
    "der $h \\ll 1$ (symbolet $\\ll$ betyr \"mye mindre enn\", forresten)."
   ]
  },
  {
   "attachments": {},
   "cell_type": "markdown",
   "metadata": {},
   "source": [
    "### Eksempel 1: Deriverte av et polynom\n",
    "\n",
    "La oss se på et eksempel der vi ønsker å finne den deriverte til\n",
    "\n",
    "\n",
    "La oss se på et eksempel der vi ønsker å finne den deriverte til \n",
    "\n",
    "$$\n",
    "f(x) = x^2 + 2x + 1,\n",
    "$$\n",
    "\n",
    "i $x = 1$. Vi kan løse dette for hånd ganske lett som\n",
    "\n",
    "$$\n",
    "f'(x) = 2x + 2 \\implies f'(1) = 4.\n",
    "$$\n",
    "\n",
    "Numerisk kan vi tilnærme denne deriverte slik:\n",
    "\n"
   ]
  },
  {
   "cell_type": "code",
   "execution_count": 1,
   "metadata": {},
   "outputs": [
    {
     "name": "stdout",
     "output_type": "stream",
     "text": [
      "f'(x) =  4.000999999999699\n"
     ]
    }
   ],
   "source": [
    "def f(x):\n",
    "    return x**2 + 2 * x + 1\n",
    "\n",
    "h = 1e-3 # En liten verdi for bredden på intervallet [x, x + h]\n",
    "x = 1.0\n",
    "dfdx = (f(x + h) - f(x)) / h\n",
    "\n",
    "print(\"f'(x) = \", dfdx)\n"
   ]
  },
  {
   "attachments": {},
   "cell_type": "markdown",
   "metadata": {},
   "source": [
    "som gir oss at $f'(1) \\approx 4$, akkurat som det eksakte svaret.\n",
    "\n",
    "```{admonition} Alternativ notasjon for den deriverte\n",
    ":class: tip\n",
    "\n",
    "Du la kanskje merke til at det står `dfdx` for den deriverte. Det er en logisk grunn til dette. I matematikken bruker vi ofte notasjonen\n",
    "\n",
    "$$\n",
    "\\frac{df}{dx} (x) = f'(x).\n",
    "$$\n",
    "\n",
    "Det er for øvrig svært vanlig å droppe argumentet $x$, og bare skrive \n",
    "\n",
    "$$\n",
    "\\frac{df}{dx} = f'(x).\n",
    "$$\n",
    "\n",
    "\n",
    "Faktisk kan vi tolke $df$ som en *veldig* liten endring i verdien til $f$ og $dx$ som en *veldig* liten endring i verdien til $x$.\n",
    "\n",
    "Med dette synspunkt kan vi tolke det som at \n",
    "\n",
    "$$\n",
    "\\frac{\\Delta f}{\\Delta x} \\to \\frac{df}{dx} \\quad text{når} \\quad h \\to 0,\n",
    "$$\n",
    "\n",
    "der $\\Delta f = f(x+h) - f(x)$ og $\\Delta x = h$, slik som i likning {eq}`eq:def_derivative`.\n",
    "\n",
    "```"
   ]
  },
  {
   "attachments": {},
   "cell_type": "markdown",
   "metadata": {},
   "source": [
    "### Eksempel 2: Deriverte av en eksponentialfunksjon\n",
    "\n",
    "La oss se på et annet eksempel der vi ønsker å finne en tilnærming den deriverte til\n",
    "\n",
    "$$\n",
    "g(x) = e^{2x},\n",
    "$$\n",
    "\n",
    "i $x = 0$. Vi kan løse dette med kjerneregelen der vi setter $u = 2x$ slik at\n",
    "\n",
    "$$\n",
    "g'(x) = g'(u(x))u'(x) = 2e^{2x} \\implies g'(0) = 2,\n",
    "$$\n",
    "\n",
    "```{admonition} Kjerneregelen er mer logisk med den alternative notasjonen\n",
    ":class: tip, dropdown\n",
    "\n",
    "Det tar litt tid å venne seg til den alterantive notasjonen, men den kan gjøre det lettere å forstå og holde styr på kjerner når man bruker kjerneregelene til å derivere sammensatte funksjoner.\n",
    "\n",
    "Hvis vi innfører kjernen $u = 2x$, kan vi skrive $g(u) = e^u$. Bruker vi den alternative notasjonen for den deriverte, kan vi skrive\n",
    "\n",
    "$$\n",
    "\\frac{dg}{dx} = \\frac{dg}{du} \\frac{du}{dx},\n",
    "$$\n",
    "\n",
    "der vi finner at $dg/du = e^u$ og $du/dx = 2$. Setter vi dette inn i likningen over, får vi\n",
    "\n",
    "$$\n",
    "\\frac{dg}{dx}(x) = e^u \\cdot 2 = 2e^{2x}.\n",
    "$$\n",
    "\n",
    "Og til slutt finner vi da at\n",
    "\n",
    "$$\n",
    "\\frac{dg}{dx}(0) = 2e^0 = 2.\n",
    "$$\n",
    "\n",
    "```\n",
    "\n"
   ]
  },
  {
   "attachments": {},
   "cell_type": "markdown",
   "metadata": {},
   "source": [
    "Vi kan bruke likning {eq}`eq:newton_forward` til å finne en tilnærming til den deriverte med følgende kodesnutt:"
   ]
  },
  {
   "cell_type": "code",
   "execution_count": 2,
   "metadata": {},
   "outputs": [
    {
     "name": "stdout",
     "output_type": "stream",
     "text": [
      "dgdx = 2.00\n"
     ]
    }
   ],
   "source": [
    "import math # trengs for eksponentialfunksjonen\n",
    "\n",
    "def g(x):\n",
    "    return math.exp(2 * x)\n",
    "\n",
    "h = 1e-3 # En liten verdi for bredden på intervallet [x, x + h]\n",
    "x = 0\n",
    "\n",
    "dgdx = (g(x + h) - g(x)) / h\n",
    "\n",
    "print(f\"{dgdx = :.2f}\")"
   ]
  },
  {
   "attachments": {},
   "cell_type": "markdown",
   "metadata": {},
   "source": [
    "Så vi ender opp med en tilnærming som stemmer overens med det eksakte svaret."
   ]
  },
  {
   "attachments": {},
   "cell_type": "markdown",
   "metadata": {},
   "source": [
    "## Newtons kvotient (bakover)\n",
    "\n",
    "Vi kan også tilnærme den deriverte av en funksjon ved å gå bakover i $x$-retning, slik at tilnærming til den deriverte blir\n",
    "\n",
    "$$\n",
    "f'(x) \\approx \\frac{f(x) - f(x - h)}{h},\n",
    "$$ (eq:newton_backward)\n",
    "\n",
    "La oss se på et eksempel:"
   ]
  },
  {
   "attachments": {},
   "cell_type": "markdown",
   "metadata": {},
   "source": [
    "### Eksempel 3: Newtons kvotient baklengs på en polynom\n",
    "\n",
    "Tenk deg at vi vil finne verdien til den deriverte av \n",
    "\n",
    "$$\n",
    "r(x) = 3x^2 - 2x + 5. \n",
    "$$\n",
    "\n",
    "i $x = 3$\n",
    "\n",
    "Den eksakte deriverte er \n",
    "\n",
    "$$\n",
    "r'(x) = 6x - 2 \\implies r'(3) = 16.\n",
    "$$\n",
    "\n",
    "Bruker vi tilnærmingen i likning {eq}`eq:newton_backward`, kan vi finne en tilnæmring med Pythonkode slik:"
   ]
  },
  {
   "cell_type": "code",
   "execution_count": 4,
   "metadata": {},
   "outputs": [
    {
     "name": "stdout",
     "output_type": "stream",
     "text": [
      "drdx = 16.00\n"
     ]
    }
   ],
   "source": [
    "def r(x):\n",
    "    return 3 * x**2 - 2 * x + 5\n",
    "\n",
    "h = 1e-3 # En liten verdi for bredden på intervallet [x, x + h]\n",
    "x = 3\n",
    "\n",
    "drdx = (r(x) - r(x - h)) / h\n",
    "\n",
    "print(f\"{drdx = :.2f}\")"
   ]
  },
  {
   "attachments": {},
   "cell_type": "markdown",
   "metadata": {},
   "source": [
    "som gir oss en tilnærming som samsvarer med det eksakte resultatet."
   ]
  },
  {
   "attachments": {},
   "cell_type": "markdown",
   "metadata": {},
   "source": [
    "### Eksempel 4: Regne ut den deriverte i flere punkter\n",
    "\n",
    "Tenk deg at vi har funksjonen\n",
    "\n",
    "$$\n",
    "p(x) = 2x^3 - 3x^2 + 4x - 1,\n",
    "$$\n",
    "\n",
    "og vi ønsker å finne verdien til den deriverte i flere punkter enn bare ett. Da er det naturlig å definere en funksjon for den deriverte slik at vi kan regne ut den deriverte flere ganger med forskjellige $x$-verdier.\n",
    "\n",
    "La oss bruke tilnærmingen i likning {eq}`eq:newton_backward` til å definere en funksjon for den deriverte:"
   ]
  },
  {
   "cell_type": "code",
   "execution_count": 5,
   "metadata": {},
   "outputs": [],
   "source": [
    "def p(x):\n",
    "    return 2 * x**3 - 2 * x**2 + 4 * x - 1\n",
    "\n",
    "def dpdx(p, x, h):\n",
    "    return (p(x) - p(x - h)) / h"
   ]
  },
  {
   "attachments": {},
   "cell_type": "markdown",
   "metadata": {},
   "source": [
    "Vi kan så bruke den til å regne ut den deriverte i flere punkter:"
   ]
  },
  {
   "cell_type": "code",
   "execution_count": 7,
   "metadata": {},
   "outputs": [
    {
     "name": "stdout",
     "output_type": "stream",
     "text": [
      "x = 0 ; dpdx(p, x, h) = 4.00\n",
      "x = 1 ; dpdx(p, x, h) = 6.00\n",
      "x = 2 ; dpdx(p, x, h) = 19.99\n",
      "x = 3 ; dpdx(p, x, h) = 45.98\n",
      "x = 4 ; dpdx(p, x, h) = 83.98\n"
     ]
    }
   ],
   "source": [
    "x = 0\n",
    "h = 1e-3\n",
    "for i in range(5):\n",
    "    print(f\"{x = } ; {dpdx(p, x, h) = :.2f}\")\n",
    "    x += 1"
   ]
  },
  {
   "attachments": {},
   "cell_type": "markdown",
   "metadata": {},
   "source": [
    "## Definere en funksjon for den deriverte som proffene\n",
    "\n",
    "Det er mer naturlig for oss å tenke på den deriverte av en funksjon som en egen matematisk funksjon på lik linje med en funksjon $f(x)$. Men i funksjonen i eksemplet over definerte vi en funksjon som tok tre argumenter: \n",
    "\n",
    "1. Funksjonen som skulle deriverer `p`\n",
    "2. Punktet der vi ønsker å finne den deriverte `x`\n",
    "3. Steglengden `h`\n",
    "\n",
    "Det finnes en alternativ måte å definere funksjonen på som gjør den enklere å bruke og oppfører seg mer som en matematisk funksjon som vi er vant til. \n",
    "Du kan [lese mer om denne måten å definere funksjoner på her](../../python/funksjoner/funksjoner_avansert.ipynb). For nå, kan vi se på hvordan vi kan gjøre det her."
   ]
  },
  {
   "attachments": {},
   "cell_type": "markdown",
   "metadata": {},
   "source": [
    "### Eksempel 5: Definere en funksjon for den deriverte som proffene\n",
    "\n",
    "Tenk deg at vi skal finne den deriverte til en funksjon\n",
    "\n",
    "$$\n",
    "f(x) = x^2 e^{-2x}.\n",
    "$$\n",
    "\n",
    "Da kan vi definere en funksjon for den deriverte med en funksjon som *lager* en funksjon for den deriverte:"
   ]
  },
  {
   "cell_type": "code",
   "execution_count": 34,
   "metadata": {},
   "outputs": [],
   "source": [
    "import math # trengs for eksponentialfunksjonen\n",
    "\n",
    "def f(x):\n",
    "    return x**2 * math.exp(-2 * x)\n",
    "\n",
    "\n",
    "def lag_derivert(f, h):\n",
    "    def dfdx(x):\n",
    "        return (f(x + h) - f(x)) / h\n",
    "    \n",
    "    return dfdx\n",
    "\n",
    "dfdx = lag_derivert(f=f, h=1e-3) # Lager den deriverte av f med h = 1e-3"
   ]
  },
  {
   "attachments": {},
   "cell_type": "markdown",
   "metadata": {},
   "source": [
    "Nå kan vi regne ut den deriverte av $f(x)$ i ulike verdien av $x$ ved å kun sende inn en verdi for $x$. Se her:"
   ]
  },
  {
   "cell_type": "code",
   "execution_count": 20,
   "metadata": {},
   "outputs": [
    {
     "name": "stdout",
     "output_type": "stream",
     "text": [
      "x = 0   ;   dfdx(x) = 0.00100\n",
      "x = 1   ;   dfdx(x) = -0.00014\n",
      "x = 2   ;   dfdx(x) = -0.07324\n",
      "x = 3   ;   dfdx(x) = -0.02973\n",
      "x = 4   ;   dfdx(x) = -0.00805\n"
     ]
    }
   ],
   "source": [
    "for x in range(5):\n",
    "    print(f\"{x = }   ;   {dfdx(x) = :.5f}\")"
   ]
  },
  {
   "attachments": {},
   "cell_type": "markdown",
   "metadata": {},
   "source": [
    "````{admonition} Funksjoner som *lager* funksjoner\n",
    ":class: tip, dropdown\n",
    "\n",
    "Det kan virke litt mystisk hva som foregår i funksjonen som *lagde* den en funksjon for den deriverte. Det den effektivt gjør, er å lage en funksjon som tar med seg verdien for `h` og hvilken funksjon `f` den skal bruke når den skal regne ut den deriverte. \n",
    "\n",
    "Når vi skriver \n",
    "\n",
    "```python\n",
    "dfdx = lag_derivert(f=f, h=1e-3)\n",
    "```\n",
    "\n",
    "ber vi om å få en versjon av `dfdx` der `f` er den funksjonen vi ønsker å deriverer og `h` er steglengden vi ønsker å bruke.\n",
    "\n",
    "Så kan vi bruke `dfdx` som en vanlig funksjon så mye vi måtte ønske.\n",
    "\n",
    "````"
   ]
  },
  {
   "attachments": {},
   "cell_type": "markdown",
   "metadata": {},
   "source": [
    "## Øvingsoppgaver"
   ]
  },
  {
   "attachments": {},
   "cell_type": "markdown",
   "metadata": {},
   "source": [
    "### Oppgave 1 \n",
    "\n",
    "Bruk tilnærmingen fra likning {eq}`eq:newton_forward` til å finne en tilnærming til den deriverte av funksjonen\n",
    "\n",
    "$$\n",
    "f(x) = x^3 - 2x,\n",
    "$$\n",
    "\n",
    "i $x = 1$. Bruk en steglengde på $h = 10^{-5}$.\n",
    "\n",
    "*Du kan ta utgangspunkt i kodeskallet under. Du må fylle inn der det står `NotImplemented`.*"
   ]
  },
  {
   "cell_type": "code",
   "execution_count": null,
   "metadata": {},
   "outputs": [],
   "source": [
    "def f(x):\n",
    "    return NotImplemented\n",
    "\n",
    "h = NotImplemented\n",
    "x = NotImplemented\n",
    "\n",
    "dfdx = NotImplemented\n",
    "\n",
    "\n",
    "print(f\"{dfdx = :.2f} i {x = }\")\n"
   ]
  },
  {
   "attachments": {},
   "cell_type": "markdown",
   "metadata": {},
   "source": [
    "````{dropdown} Løsningsforslag\n",
    "\n",
    "```python\n",
    "def f(x):\n",
    "    return x**3 - 2 * x\n",
    "\n",
    "h = 1e-5\n",
    "x = 1\n",
    "\n",
    "dfdx = (f(x + h) - f(x)) / h \n",
    "\n",
    "\n",
    "print(f\"{dfdx = :.2f} i {x = }\")\n",
    "```\n",
    "\n",
    "som gir utskriften\n",
    "\n",
    "```console\n",
    "dfdx = 1.00 i x = 1\n",
    "```\n",
    "\n",
    "som betyr at $f'(1) \\approx 1$.\n",
    "\n",
    "````"
   ]
  },
  {
   "attachments": {},
   "cell_type": "markdown",
   "metadata": {},
   "source": [
    "### Oppgave 2\n",
    "\n",
    "Bruk tilnærmingen fra likning {eq}`eq:newton_backward` til å finne en tilnærming til den deriverte av funksjonen\n",
    "\n",
    "$$\n",
    "g(x) = \\frac{x - 1}{x^2 + 1},\n",
    "$$\n",
    "\n",
    "i $x = 2$. Bruk en steglengde på $h = 10^{-4}$.\n",
    "\n",
    "*Du kan ta utgangspunkt i kodeskallet under. Du må fylle inn der det står `NotImplemented`.*"
   ]
  },
  {
   "cell_type": "code",
   "execution_count": null,
   "metadata": {},
   "outputs": [],
   "source": [
    "def g(x):\n",
    "    return NotImplemented\n",
    "\n",
    "h = NotImplemented\n",
    "x = NotImplemented\n",
    "\n",
    "dgdx = NotImplemented\n",
    "\n",
    "print(f\"{dgdx = :.2f} i {x = }\")"
   ]
  },
  {
   "attachments": {},
   "cell_type": "markdown",
   "metadata": {},
   "source": [
    "````{dropdown} Løsningsforslag\n",
    "\n",
    "```python\n",
    "def g(x):\n",
    "    return (x - 1) / (x**2 + 1)\n",
    "\n",
    "h = 1e-4\n",
    "x = 2\n",
    "\n",
    "dgdx = (g(x) - g(x - h)) / h\n",
    "\n",
    "print(f\"{dgdx = :.2f} i {x = }\")\n",
    "```\n",
    "\n",
    "som gir utskriften\n",
    "\n",
    "```console\n",
    "dgdx = 0.04 i x = 2\n",
    "```\n",
    "\n",
    "som betyr at $g'(2) \\approx 0.04$.\n",
    "\n",
    "````"
   ]
  },
  {
   "attachments": {},
   "cell_type": "markdown",
   "metadata": {},
   "source": [
    "### Oppgave 3\n",
    "\n",
    "En enda bedre tilnærming til den deriverte enn de to vi har sett på så langt er gitt ved \n",
    "\n",
    "$$\n",
    "f'(x) \\approx \\frac{f(x + h) - f(x - h)}{2h}. \n",
    "$$ (eq:newton_central)\n",
    "\n",
    "På sett og vis er dette en kombinasjon av tilnærmingene i likning {eq}`eq:newton_forward` og {eq}`eq:newton_backward`, som gir en mer nøyaktig tilnærming. Den kalles gjerne for en **sentraltilnærming**.\n",
    "\n",
    "Bruk denne tilnærmingen til å finne en tilnærming til den deriverte av funksjonen\n",
    "\n",
    "$$\n",
    "l(x) = \\frac{1}{x^2 + 1},\n",
    "$$\n",
    "\n",
    "i $x = 2$. Bruk en steglengde på $h = 0.1$. Sammenlign med tilnærmingene du får ved å bruke likning {eq}`eq:newton_forward` og likning {eq}`eq:newton_backward`.\n",
    "\n",
    "*Du kan bruke kodeskallet under som utgangspunkt. Du må fylle inn der det står `NotImplemented`.*\n"
   ]
  },
  {
   "cell_type": "code",
   "execution_count": null,
   "metadata": {},
   "outputs": [],
   "source": [
    "def l(x):\n",
    "    return NotImplemented\n",
    "\n",
    "h = NotImplemented\n",
    "x = NotImplemented\n",
    "\n",
    "dldx_fremover = NotImplemented # Fremovertilnærming\n",
    "\n",
    "dldx_bakover = NotImplemented # Bakovertilnærming\n",
    "\n",
    "dldx_sentral = NotImplemented # Sentraltilnærming\n",
    "\n",
    "print(f\"{dldx_fremover = :.4f} i {x = }\")\n",
    "print(f\"{dldx_bakover = :.4f} i {x = }\")\n",
    "print(f\"{dldx_sentral = :.4f} i {x = }\")"
   ]
  },
  {
   "attachments": {},
   "cell_type": "markdown",
   "metadata": {},
   "source": [
    "````{dropdown} Løsningsforslag\n",
    "\n",
    "```python\n",
    "def l(x):\n",
    "    return 1 / (x**2 + 1)\n",
    "\n",
    "h = 0.1\n",
    "x = 2\n",
    "\n",
    "dldx_fremover = (l(x + h) - l(x)) / h # Fremovertilnærming\n",
    "\n",
    "dldx_bakover = (l(x) - l(x - h)) / h # Bakovertilnærming\n",
    "\n",
    "dldx_sentral = (l(x + h) - l(x - h)) / (2 * h) # Sentraltilnærming\n",
    "\n",
    "print(f\"{dldx_fremover = :.5f} i {x = }\")\n",
    "print(f\"{dldx_bakover = :.5f} i {x = }\")\n",
    "print(f\"{dldx_sentral = :.5f} i {x = }\")\n",
    "```\n",
    "\n",
    "som gir utskriften\n",
    "\n",
    "```console\n",
    "dldx_fremover = -0.15157 i x = 2\n",
    "dldx_bakover = -0.16920 i x = 2\n",
    "dldx_sentral = -0.16038 i x = 2\n",
    "```\n",
    "\n",
    "Den eksakte løsningen er $l'(2) = -0.16$, så vi ser at sentraltilnærmingen gir en bedre tilnærming enn de to andre.\n",
    "\n",
    "\n",
    "````"
   ]
  },
  {
   "attachments": {},
   "cell_type": "markdown",
   "metadata": {},
   "source": [
    "### Oppgave 4\n",
    "\n",
    "Bruk metoden der man lager en funksjon som *lager* en funksjon til å regne ut en tilnærming til den deriverte til funksjonen\n",
    "\n",
    "$$\n",
    "k(x) = xe^{-x^2},\n",
    "$$\n",
    "\n",
    "i $x = -1$. Bruk en steglengde på $h = 10^{-5}$. Bruk likning {eq}`eq:newton_central`. \n",
    "\n",
    "*Du kan ta utgangspunkt i kodeskallet under. Du må fylle inn der det står `NotImplemented`.*\n",
    "\n"
   ]
  },
  {
   "cell_type": "code",
   "execution_count": null,
   "metadata": {},
   "outputs": [],
   "source": [
    "import math # trengs for eksponentialfunksjonen\n",
    "\n",
    "def k(x):\n",
    "    return NotImplemented\n",
    "\n",
    "def lag_k_derivert(k, h):\n",
    "    def dkdx(x):\n",
    "        return NotImplemented\n",
    "    \n",
    "    return dkdx\n",
    "\n",
    "dkdx = NotImplemented\n",
    "\n",
    "print(f\"{dkdx(x=NotImplemented) = :.4f}\")"
   ]
  },
  {
   "attachments": {},
   "cell_type": "markdown",
   "metadata": {},
   "source": [
    "````{dropdown} Løsningsforslag\n",
    "\n",
    "```python\n",
    "import math \n",
    "\n",
    "def k(x):\n",
    "    return x * math.exp(-x**2)\n",
    "\n",
    "def lag_k_derivert(k, h):\n",
    "    def dkdx(x):\n",
    "        return (k(x + h) - k(x - h)) / (2 * h)\n",
    "        \n",
    "    return dkdx\n",
    "\n",
    "dkdx = lag_k_derivert(k=k, h=1e-5)\n",
    "\n",
    "print(f\"{dkdx(x=-1) = :.4f}\")\n",
    "```\n",
    "\n",
    "som gir utskriften\n",
    "\n",
    "```console\n",
    "dkdx(x=-1) = -0.3679\n",
    "```\n",
    "\n",
    "som betyr at $k'(-1) \\approx -0.3679$ opptil fire desimaler.\n",
    "\n",
    "````"
   ]
  },
  {
   "attachments": {},
   "cell_type": "markdown",
   "metadata": {},
   "source": []
  }
 ],
 "metadata": {
  "kernelspec": {
   "display_name": "Python 3",
   "language": "python",
   "name": "python3"
  },
  "language_info": {
   "codemirror_mode": {
    "name": "ipython",
    "version": 3
   },
   "file_extension": ".py",
   "mimetype": "text/x-python",
   "name": "python",
   "nbconvert_exporter": "python",
   "pygments_lexer": "ipython3",
   "version": "3.11.4"
  },
  "orig_nbformat": 4
 },
 "nbformat": 4,
 "nbformat_minor": 2
}
