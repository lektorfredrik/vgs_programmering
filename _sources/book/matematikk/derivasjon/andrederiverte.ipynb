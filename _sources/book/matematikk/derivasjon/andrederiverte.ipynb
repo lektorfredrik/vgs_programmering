{
 "cells": [
  {
   "attachments": {},
   "cell_type": "markdown",
   "metadata": {},
   "source": [
    "# Numerisk derivasjon av andre orden (andrederiverte)\n",
    "\n",
    "I denne seksjonen skal vi se på hvordan vi kan tilnærme den andrederiverte til en funksjon $f$ i et punkt $x$ ved å bruke Newtons kvotient for den deriverte. Vi skal også se på hvordan vi kan bruke dette til å finne vendepunkter til en funksjon.\n",
    "\n",
    "## Formel for å estimere den andrederiverte\n",
    "\n",
    "En tilnærmingsformel for den andrederiverte til en funksjon $f$ er\n",
    "\n",
    "$$\n",
    "f''(x) \\approx \\frac{f(x + h) - 2f(x) + f(x - h)}{h^2}.\n",
    "$$ (andrederivert)\n",
    "\n",
    "Her er $h$ et lite tall, og vi kan få en bedre tilnærming jo mindre $h$ er. Vi kan også bruke denne formelen til å finne vendepunktene til en funksjon $f$ ved å løse likningen $f''(x) = 0$ numerisk, ved å bruke for eksempel [halveringsmetoden](../nullpunkter/halveringsmetoden.md) eller [Newton's metode](../nullpunkter/newtons_metode.md). "
   ]
  },
  {
   "attachments": {},
   "cell_type": "markdown",
   "metadata": {},
   "source": [
    "### Eksempel: Andrederiverte av et polynom\n",
    "\n",
    "Anta vi har polynomet \n",
    "\n",
    "$$\n",
    "f(x) = x^3 + 2x^2 - 5x + 1,\n",
    "$$\n",
    "\n",
    "og ønsker å finne verdien til den andrederiverte til funksjonen i $x = 1$ uten å måtte finne selve formelen. Da kan vi benytte oss av formelen i likning {eq}`andrederivert` til å finne en tilnærming. Vi kan for eksempel bruke $h = 0.001$ med følgende kode for å finne en tilnærming:"
   ]
  },
  {
   "cell_type": "code",
   "execution_count": 9,
   "metadata": {},
   "outputs": [
    {
     "name": "stdout",
     "output_type": "stream",
     "text": [
      "f''(1) = 10.00\n"
     ]
    }
   ],
   "source": [
    "def f(x):\n",
    "    return x**3 + 2 * x**2 - 5*x + 1\n",
    "\n",
    "h = 0.001\n",
    "x = 1\n",
    "d2f_dx2 = (f(x + h) - 2*f(x) + f(x - h)) / h**2\n",
    "print(f\"f''(1) = {d2f_dx2 :.2f}\")"
   ]
  },
  {
   "attachments": {},
   "cell_type": "markdown",
   "metadata": {},
   "source": [
    "Men vi ønsker ofte å finne den deriverte i mer enn ett punkt. Da kan det være fornuftig å lage en funksjon som regner ut den deriverte til en funksjon $f$, for å så bruke denne funksjonen flere ganger. Vi kan for eksempel lage en funksjon som tar inn en funksjon $f$, et punkt $x$ og et tall $h$, og returnerer en tilnærming til den deriverte til $f$ i punktet $x$:\n"
   ]
  },
  {
   "cell_type": "code",
   "execution_count": 12,
   "metadata": {},
   "outputs": [
    {
     "name": "stdout",
     "output_type": "stream",
     "text": [
      "f''(1) = 10.00\n"
     ]
    }
   ],
   "source": [
    "def df2_dx2(f, x, h):\n",
    "    return (f(x + h) - 2*f(x) + f(x - h)) / h**2\n",
    "\n",
    "print(f\"f''(1) = {df2_dx2(f=f, x=1, h=0.001) :.2f}\")"
   ]
  },
  {
   "attachments": {},
   "cell_type": "markdown",
   "metadata": {},
   "source": [
    "### Øvingsoppgave: Andrederiverte av et polynom\n",
    "\n",
    "Finn en tilnærming til den andrederiverte til polynomet\n",
    "\n",
    "$$\n",
    "g(x) = 2x^4 - 3x^3 + 4x^2 - 5x + 1,\n",
    "$$\n",
    "\n",
    "ved å bruke formelen i likning {eq}`andrederivert` med $h = 0.001$ i punktet $x = -1$. Sammenlign med den eksakte verdien.\n",
    "\n",
    "*Du kan ta utgangspunkt i kodeskallet under. Du må bare fylle inn der det står `NotImplemented`*. "
   ]
  },
  {
   "cell_type": "code",
   "execution_count": null,
   "metadata": {},
   "outputs": [],
   "source": [
    "def g(x):\n",
    "    return NotImplemented\n",
    "\n",
    "def d2f_dx2(f, x, h):\n",
    "    return NotImplemented\n",
    "\n",
    "print(f\"f''(-1) = {d2f_dx2(f=NotImplemented, x=NotImplemented, h=NotImplemented) :.2f}\")"
   ]
  },
  {
   "attachments": {},
   "cell_type": "markdown",
   "metadata": {},
   "source": [
    "````{dropdown} Løsningsforslag\n",
    "```python\n",
    "def g(x):\n",
    "    return 2 * x**4 - 3 * x**3 + 4 * x**2 - 5*x + 1\n",
    "\n",
    "def d2f_dx2(f, x, h):\n",
    "    return (f(x + h) - 2*f(x) + f(x - h)) / h**2\n",
    "```\n",
    "````"
   ]
  }
 ],
 "metadata": {
  "kernelspec": {
   "display_name": "Python 3",
   "language": "python",
   "name": "python3"
  },
  "language_info": {
   "codemirror_mode": {
    "name": "ipython",
    "version": 3
   },
   "file_extension": ".py",
   "mimetype": "text/x-python",
   "name": "python",
   "nbconvert_exporter": "python",
   "pygments_lexer": "ipython3",
   "version": "3.11.3"
  },
  "orig_nbformat": 4
 },
 "nbformat": 4,
 "nbformat_minor": 2
}
