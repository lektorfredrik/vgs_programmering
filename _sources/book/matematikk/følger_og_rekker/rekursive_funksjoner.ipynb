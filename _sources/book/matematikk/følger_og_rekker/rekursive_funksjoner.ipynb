{
 "cells": [
  {
   "attachments": {},
   "cell_type": "markdown",
   "metadata": {},
   "source": [
    "# Følger og rekker med rekursive funksjoner\n",
    "\n",
    "Her skal vi se på en litt effektiv anvendelse av [funksjoner](../../python/funksjoner/intro.md) til å regne ut det $n$-te leddet i en følge og summen av de $n$ første leddene i en rekke."
   ]
  },
  {
   "attachments": {},
   "cell_type": "markdown",
   "metadata": {},
   "source": [
    "## Hva er en rekursiv funksjon?\n",
    "\n",
    "En *rekursiv funksjon* er en funksjon som gjentar et funksjonskall, og det ved å kalle på seg *selv*, helt til et kriterium for å stoppe er møtt. Det er viktig at det finnes et slikt kriterium, ellers vil funksjonen kalle på seg selv i det uendelige. Det kan minne om en `while`-løkke, men det er en viktig forskjell: En rekursiv funksjon kaller på seg selv og gjentar en kodeblokk inni funksjonen, mens en `while`-løkke gjentar en kodeblokk.\n",
    "\n",
    "Vi kan anta at vi driver med følger og at vi derfor har en følge $a_n$ og en rekursiv formel som relaterer $a_n$ til $a_{n-1}$. I tillegg må vi kjenne til det første leddet i følgen, $a_1$. Da kan vi lage en rekursiv funksjon som regner ut $a_n$ ved følgende generelle oppskrift:\n",
    "\n",
    "```python\n",
    "def a(n):\n",
    "    if n == 1:\n",
    "        return a1\n",
    "    else:\n",
    "        return <rekursiv formel>\n",
    "```\n",
    "\n",
    "\n",
    "```{admonition} Hvordan fungerer den rekursive funksjonen stegvis? \n",
    ":class: tip, dropdown\n",
    "\n",
    "Tenk deg at vi ønsker å regne ut det tredje leddet $a_3$. Da vil funksjonskallet gjøre følgende:\n",
    "\n",
    "1. Vi kaller på `a(3)`.\n",
    "    - Siden `n` ikke er lik 1, går vi videre til neste steg. Vi kaller på `a(2)`\n",
    "        - Siden `n` ikke er lik 1, går vi videre til neste steg. Vi kaller på `a(1)`\n",
    "            - Siden `n` er lik 1, returnerer vi $a_1$.\n",
    "        - Funksjonskallet med `a(2)` får nå tilbake verdien `a(1)` som den bruker til å regne ut $a_2$.\n",
    "    - Funksjonskallet med `a(3)` får nå tilbake verdien `a(2)` som den bruker til å regne ut $a_3$.\n",
    "\n",
    "Så returneres verdien `a(3)` tilbake til det opprinnelige funksjonskallet, og vi får tilbake $a_3$.\n",
    "```"
   ]
  },
  {
   "attachments": {},
   "cell_type": "markdown",
   "metadata": {},
   "source": [
    "## Eksempler"
   ]
  },
  {
   "attachments": {},
   "cell_type": "markdown",
   "metadata": {},
   "source": [
    "### Eksempel 1: En aritmetisk følge\n",
    "\n",
    "Tenk deg en aritmetiske følgen\n",
    "\n",
    "$$\n",
    "\\{a_n\\} = 2, 5, 8, 11, 14, 17, \\ldots\n",
    "$$\n",
    "\n",
    "Det $n$-te leddet i følgen er relatert til det forrige leddet ved \n",
    "\n",
    "$$\n",
    "a_{n} = a_{n-1} + 3, \\quad n \\geq 2,\n",
    "$$\n",
    "\n",
    "der det første leddet er $a_1 = 2$. \n",
    "\n",
    "Vi kunne funnet ledd nr. 10 første leddene i rekken ved å bruke følgende `while`-løkke:"
   ]
  },
  {
   "cell_type": "code",
   "execution_count": 12,
   "metadata": {},
   "outputs": [
    {
     "name": "stdout",
     "output_type": "stream",
     "text": [
      "n = 10 ; a = 29\n"
     ]
    }
   ],
   "source": [
    "a = 2\n",
    "n = 1\n",
    "while n < 10:\n",
    "    a = a + 3\n",
    "    n = n + 1\n",
    "\n",
    "print(f\"{n = } ; {a = }\")"
   ]
  },
  {
   "attachments": {},
   "cell_type": "markdown",
   "metadata": {},
   "source": [
    "En funksjon som bruker rekursjon til å finne det $n$-te leddet i en aritmetisk følge ser slik ut:"
   ]
  },
  {
   "cell_type": "code",
   "execution_count": 13,
   "metadata": {},
   "outputs": [
    {
     "name": "stdout",
     "output_type": "stream",
     "text": [
      "a(10) = 29\n"
     ]
    }
   ],
   "source": [
    "def a(n):\n",
    "    if n == 1:\n",
    "        return 2 # Det første leddet. Stopper funksjonskall når n = 1.\n",
    "    else:\n",
    "        return a(n - 1) + 3 # a_n = a_{n-1} + 3\n",
    "    \n",
    "print(f\"{a(10) = }\")"
   ]
  },
  {
   "attachments": {},
   "cell_type": "markdown",
   "metadata": {},
   "source": [
    "### Eksempel 2: En geometrisk følge\n",
    "\n",
    "Tenk deg en geometrisk følge\n",
    "\n",
    "$$\n",
    "\\{b_n\\} = 2, 6, 18, 54, 162, 486, \\ldots,\n",
    "$$\n",
    "\n",
    "her er det $n$-te leddet relatert til det forrige leddet ved\n",
    "\n",
    "$$\n",
    "b_n = 3b_{n-1}, \\quad n \\geq 2,\n",
    "$$\n",
    "\n",
    "med $b_1 = 2$, som det første leddet.\n",
    "\n",
    "Igjen kunne vi funnet ledd nr. 10 ved å bruke en `while`-løkke:"
   ]
  },
  {
   "cell_type": "code",
   "execution_count": 14,
   "metadata": {},
   "outputs": [
    {
     "name": "stdout",
     "output_type": "stream",
     "text": [
      "n = 10 ; b = 39366\n"
     ]
    }
   ],
   "source": [
    "b = 2\n",
    "n = 1\n",
    "while n < 10:\n",
    "    b = 3 * b\n",
    "    n = n + 1\n",
    "\n",
    "print(f\"{n = } ; {b = }\")"
   ]
  },
  {
   "attachments": {},
   "cell_type": "markdown",
   "metadata": {},
   "source": [
    "Men vi kan også bruke en rekursiv funksjon slik:"
   ]
  },
  {
   "cell_type": "code",
   "execution_count": 15,
   "metadata": {},
   "outputs": [
    {
     "name": "stdout",
     "output_type": "stream",
     "text": [
      "b(10) = 39366\n"
     ]
    }
   ],
   "source": [
    "def b(n):\n",
    "    if n == 1:\n",
    "        return 2 # Det første leddet. Stopper funksjonskall når n = 1.\n",
    "    else:\n",
    "        return 3 * b(n - 1)\n",
    "    \n",
    "print(f\"{b(10) = }\")"
   ]
  },
  {
   "attachments": {},
   "cell_type": "markdown",
   "metadata": {},
   "source": [
    "## Øvingsoppgaver"
   ]
  },
  {
   "attachments": {},
   "cell_type": "markdown",
   "metadata": {},
   "source": [
    "### Oppgave 1\n",
    "\n",
    "En aritmetisk følge er gitt ved startverdi $a_1 = 3$ og differanse $d = 4$. Skriv en rekursiv funksjon som regner ut det $n$-te leddet i følgen.\n",
    "\n",
    "Bruk funksjonen til å regne ut det 30. leddet i følgen.\n",
    "\n",
    "*Du kan bruke kodeskallet under. Du må fylle inn der det står `NotImplemented`.*"
   ]
  },
  {
   "cell_type": "code",
   "execution_count": null,
   "metadata": {},
   "outputs": [],
   "source": [
    "def a(n):\n",
    "    if NotImplemented: # Fyll inn betingelse for å stoppe funksjonskall\n",
    "        return NotImplemented # Første ledd i følgen\n",
    "    else:\n",
    "        return NotImplemented # Rekursjonsformel her\n",
    "    \n",
    "print(f\"{a(n=NotImplemented) = }\")"
   ]
  },
  {
   "attachments": {},
   "cell_type": "markdown",
   "metadata": {},
   "source": [
    "````{dropdown} Løsningsforslag\n",
    "\n",
    "```python\n",
    "def a(n):\n",
    "    if n == 1: \n",
    "        return 3 \n",
    "    else:\n",
    "        return a(n - 1) + 4 \n",
    "    \n",
    "print(f\"{a(n=15) = }\")\n",
    "```\n",
    "\n",
    "som gir utskriften\n",
    "\n",
    "```console\n",
    "a(n=15) = 59\n",
    "```\n",
    "\n",
    "som betyr at $a_{15} = 59$.\n",
    "\n",
    "````"
   ]
  },
  {
   "attachments": {},
   "cell_type": "markdown",
   "metadata": {},
   "source": [
    "### Oppgave 2\n",
    "\n",
    "En geometrisk følge er gitt ved startverdi $b_1 = 2048$ og kvotient $k = 1/2$. Skriv en rekursiv funksjon som regner ut det $n$-te leddet i følgen.\n",
    "\n",
    "Bruk funksjonen til å regne ut verdien til $b_{20}$.\n",
    "\n",
    "*Du kan bruke kodeskallet under. Du må fylle inn der det står `NotImplemented`.*"
   ]
  },
  {
   "cell_type": "code",
   "execution_count": null,
   "metadata": {},
   "outputs": [],
   "source": [
    "def b(n):\n",
    "    if NotImplemented: # Fyll inn betingelse for å stoppe funksjonskall\n",
    "        return NotImplemented # Første ledd i følgen\n",
    "    else:\n",
    "        return NotImplemented # Rekursjonsformel her\n",
    "\n",
    "print(f\"{b(n=NotImplemented) = }\")"
   ]
  },
  {
   "attachments": {},
   "cell_type": "markdown",
   "metadata": {},
   "source": [
    "````{dropdown} Løsningsforslag\n",
    "\n",
    "```python\n",
    "def b(n):\n",
    "    if n == 1: # Fyll inn betingelse for å stoppe funksjonskall\n",
    "        return 2048 # Første ledd i følgen\n",
    "    else:\n",
    "        return b(n - 1) * 0.5 # Rekursjonsformel her\n",
    "\n",
    "print(f\"{b(n=20) = }\")\n",
    "```\n",
    "\n",
    "som gir utskriften \n",
    "\n",
    "```console\n",
    "b(n=20) = 0.00390625\n",
    "```\n",
    "\n",
    "````"
   ]
  },
  {
   "attachments": {},
   "cell_type": "markdown",
   "metadata": {},
   "source": [
    "### Oppgave 3\n",
    "\n",
    "Fibonacci-følgen starter med tallene $\\{F_n\\} = 1, 1, 2, 3, 5, 8, 13, 21, \\ldots,$ der hvert tall er summen av de to foregående tallene i følgen. Rekursjonsformelen for følgen er\n",
    "\n",
    "$$\n",
    "F_n = F_{n-1} + F_{n-2}, \\quad n \\geq 3,\n",
    "$$\n",
    "\n",
    "der $a_1 = a_2 = 1$.\n",
    "\n",
    "Lag en rekursiv funksjon som regner ut det $n$-te tallet i Fibonacci-følgen. Bruk denne til å regne ut den 20. Fibonacci-tallet.\n",
    " \n",
    "*Du kan bruke kodeskallet under. Du må fylle inn der det står `NotImplemented`.*"
   ]
  },
  {
   "cell_type": "code",
   "execution_count": null,
   "metadata": {},
   "outputs": [],
   "source": [
    "def F(n):\n",
    "    if NotImplemented: # Kriterium for å stoppe funksjonskall\n",
    "        return NotImplemented # Verdi ved stopp\n",
    "    else:\n",
    "        return NotImplemented # Rekursjonsformel\n",
    "    \n",
    "print(f\"{NotImplemented = }\")"
   ]
  },
  {
   "attachments": {},
   "cell_type": "markdown",
   "metadata": {},
   "source": [
    "````{dropdown} Løsningsforslag\n",
    "\n",
    "```python\n",
    "def F(n):\n",
    "    if n == 1 or n == 2: # Kriterium for å stoppe funksjonskall\n",
    "        return 1 # Verdi ved stopp\n",
    "    else:\n",
    "        return F(n - 1) + F(n - 2) # Rekursjonsformel\n",
    "    \n",
    "print(f\"{F(n=20) = }\")\n",
    "```\n",
    "\n",
    "som gir utskriften\n",
    "\n",
    "```console\n",
    "F(n=20) = 6765\n",
    "```\n",
    "\n",
    "som betyr at $F_{20} = 6765$.\n",
    "\n",
    "````"
   ]
  },
  {
   "attachments": {},
   "cell_type": "markdown",
   "metadata": {},
   "source": [
    "### Oppgave 4\n",
    "\n",
    "En følge er gitt ved rekursjonsformelen\n",
    "\n",
    "$$\n",
    "c_n = 2c_{n-1} - 3c_{n-2}, \\quad n \\geq 3,\n",
    "$$\n",
    "\n",
    "der $c_1 = 1$ og $c_2 = 2$.\n",
    "\n",
    "#### Oppgave a\n",
    "\n",
    "Skriv en rekursiv funksjon som regner ut det $n$-te leddet i følgen. \n",
    "\n",
    "*Du kan ta utgangspunkt i kodeskallet under. Du må fylle inn der det står `NotImplemented`.*\n"
   ]
  },
  {
   "cell_type": "code",
   "execution_count": 42,
   "metadata": {},
   "outputs": [],
   "source": [
    "def c(n):\n",
    "    if NotImplemented: # Kriterium for å stoppe funksjonskall\n",
    "        return NotImplemented # Verdi ved stopp\n",
    "    elif NotImplemented: # Kriterium for å stoppe funksjonskall\n",
    "        return NotImplemented # Verdi ved stopp\n",
    "    else:\n",
    "        return NotImplemented # Rekursjonsformel"
   ]
  },
  {
   "attachments": {},
   "cell_type": "markdown",
   "metadata": {},
   "source": [
    "#### Oppgave b\n",
    "\n",
    "Bruk funksjonen du lagde i [oppgave a](#oppgave-a) til å regne ut summen av de 10 første leddene rekka\n",
    "\n",
    "$$\n",
    "S_{10} = \\sum_{n=1}^{10} c_n.\n",
    "$$\n",
    "\n",
    "*Du kan bruke kodeskallet under. Du må fylle inn der det står `NotImplemented`.*\n",
    "\n",
    "\n",
    "\n",
    "````{admonition} En raskere kode med *cache*\n",
    ":class: tip, dropdown\n",
    "\n",
    "Her kan du få bruk for et nyttig verktøy som heter *cache*. Det er en innebygd funksjon i Python som gjør at du kan lagre resultatet av funksjonskall som allerede er gjort. Når man bruker rekursjon, gjør man samme funksjonskall fryktelig mange ganger hvis man kaller på samme funksjon flere ganger for høyere og høyere verdi av `n`. Følgende endring av koden vil gjøre den vesentlig raskere:\n",
    "\n",
    "```python\n",
    "from functools import cache\n",
    "\n",
    "@cache\n",
    "def c(n):\n",
    "    # Kode til funksjonen her.\n",
    "```\n",
    "\n",
    "Altså \n",
    "\n",
    "1. Importere `cache` fra `functools`.\n",
    "2. Sett `@cache` rett over funksjonsdefinisjonen.\n",
    "\n",
    "````\n",
    "\n"
   ]
  },
  {
   "cell_type": "code",
   "execution_count": null,
   "metadata": {},
   "outputs": [],
   "source": [
    "S = NotImplemented\n",
    "n = NotImplemented\n",
    "while NotImplemented:\n",
    "    S = NotImplemented\n",
    "    n = NotImplemented\n",
    "\n",
    "print(f\"{S = }\")"
   ]
  },
  {
   "attachments": {},
   "cell_type": "markdown",
   "metadata": {},
   "source": [
    "````{dropdown} Løsningsforslag\n",
    "\n",
    "```python\n",
    "S = 0\n",
    "n = 1\n",
    "while n < 10:\n",
    "    S += c(n)\n",
    "    n += 1\n",
    "\n",
    "print(f\"{S = }\")\n",
    "```\n",
    "\n",
    "som gir utskriften\n",
    "\n",
    "```console\n",
    "S = 121\n",
    "```\n",
    "\n",
    "\n",
    "````"
   ]
  }
 ],
 "metadata": {
  "kernelspec": {
   "display_name": "Python 3",
   "language": "python",
   "name": "python3"
  },
  "language_info": {
   "codemirror_mode": {
    "name": "ipython",
    "version": 3
   },
   "file_extension": ".py",
   "mimetype": "text/x-python",
   "name": "python",
   "nbconvert_exporter": "python",
   "pygments_lexer": "ipython3",
   "version": "3.11.4"
  },
  "orig_nbformat": 4
 },
 "nbformat": 4,
 "nbformat_minor": 2
}
