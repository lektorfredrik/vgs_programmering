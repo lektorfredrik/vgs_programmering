{
 "cells": [
  {
   "attachments": {},
   "cell_type": "markdown",
   "metadata": {},
   "source": [
    "# Newtons metode\n",
    "\n",
    "**Newtons metode** er en effektiv måte å finne nullpunktene til en funksjon $f$ dersom vi også kjenner til den deriverte $f'$. Algoritmen er basert på å finne nullpunktet til tangenten til funksjonen $f$ i et punkt $x_0$. Vi kan finne nullpunktet til tangenten ved å bruke nullpunktet til funksjonen $f'$, som vi kjenner til. Dette gir oss et nytt punkt $x_1$. Vi kan så gjenta prosessen, og finne nullpunktet til tangenten til $f$ i $x_1$. Dette gir oss et nytt punkt $x_2$. Vi kan fortsette slik til vi har en tilstrekkelig god tilnærming til nullpunktet. {numref}`newtonsmetode_fig` viser en animasjon av prosessen.\n"
   ]
  },
  {
   "attachments": {},
   "cell_type": "markdown",
   "metadata": {},
   "source": [
    "\n",
    "```{figure} ./figurer/NewtonIteration_Ani.gif\n",
    "---\n",
    "name: newtonsmetode_fig\n",
    "---\n",
    "Animasjonen viser fem steg i Newtons metode der man finner en tilnærming til nullpunktet til en funksjon $f$ vist i blå. Av Ralf Pfeifer, CC BY-SA 3.0, [Wikimedia Commons](https://commons.wikimedia.org/w/index.php?curid=2268473).\n",
    "```"
   ]
  },
  {
   "attachments": {},
   "cell_type": "markdown",
   "metadata": {},
   "source": [
    "Vi kan formelt komme frem til en algoritme som følger. La $x_0$ være et vilkårlig startpunkt.\n",
    "Bruker vi ettpunktsformelen for en tangent som tangerer funksjonen vår i punktet $x_0$, får vi likningen\n",
    "\n",
    "$$\n",
    "y = f(x_0) + f'(x_0)(x - x_0).\n",
    "$$\n",
    "\n",
    "Ideen er å finne en tilnærming til nullpunktet til $f$ ved å finne nullpunktet til tangenten i stedet. Nullpunktet til tangenten er gitt ved løsningen av likningen\n",
    "\n",
    "$$\n",
    "f(x_0) + f'(x_0)(x_1 - x_0) = 0,\n",
    "$$\n",
    "\n",
    "som gir\n",
    "\n",
    "$$\n",
    "x_1 = x_0 - \\frac{f(x_0)}{f'(x_0)}.\n",
    "$$\n",
    "\n",
    "Denne formelen kan vi repetere igjen og igjen, slik at vi kommer nærmere og nærmere et nullpunktet til $f$. Mer generelt kan vi finne et nytt estimat på nullpunktet med $x_{i+1}$ ved å bruke funksjonsverdien $f(x_i)$ og den deriverte $f'(x_i)$ i punktet $x_i$ ved formelen\n",
    "\n",
    "$$\n",
    "x_{i + 1} = x_i - \\frac{f(x_i)}{f'(x_i)}.\n",
    "$$\n",
    "\n",
    "Med denne formelen er vi klare til å formalisere algoritmen i en pseudokode. Algoritmen for Newtons metode er vist i {prf:ref}`algo-newtonsmetode`."
   ]
  },
  {
   "attachments": {},
   "cell_type": "markdown",
   "metadata": {},
   "source": [
    "```{prf:algorithm} Newtons metode\n",
    ":label: algo-newtonsmetode\n",
    "\n",
    "__Input__: En funksjon $f(x)$, den deriverte $f'(x)$, et startpunkt $x_0$ og en toleranse $\\epsilon$.\n",
    "\n",
    "__Output__: Et tilnærmet nullpunkt $x$.\n",
    "\n",
    "- Regn ut $x_1 = x_0 - \\frac{f(x_0)}{f'(x_0)}$.\n",
    "- While $|f(x_i)| > \\epsilon$:\n",
    "    - Regn ut $x_{i + 1} = x_i - \\frac{f(x_i)}{f'(x_i)}$.\n",
    "- Returner $x_{i + 1}$.\n",
    "```"
   ]
  },
  {
   "attachments": {},
   "cell_type": "markdown",
   "metadata": {},
   "source": [
    "```{admonition} Svakheter med Newtons metode\n",
    ":class: warning, dropdown\n",
    "\n",
    "1. Newtons metode bruker tangenten til en funksjon. Hvis en funksjon har asymptoter, kan algoritmen feile eller gi feil svar fordi den aldri konvergerer mot et sant nullpunkt. Dette er en svakhet med Newtons metode, og vi må derfor være forsiktige med å bruke den, og dette er også hvorfor man noen ganger får \"?\" som løsning når man bruker NLØS i CAS i Geogebra.\n",
    "2. Netwons metode, akkurat som halveringsmetoden, gir oss bare ett nullpunkt. Vi må derfor bruke den flere ganger hvis vi har en funksjon med flere nullpunkter.\n",
    "```"
   ]
  },
  {
   "attachments": {},
   "cell_type": "markdown",
   "metadata": {},
   "source": [
    "## Eksempler"
   ]
  },
  {
   "attachments": {},
   "cell_type": "markdown",
   "metadata": {},
   "source": [
    "### Eksempel 1\n",
    "\n",
    "Vi skal finne et nullpunkt til funksjonen \n",
    "\n",
    "$$\n",
    "f(x) = x^2 - 1. \n",
    "$$\n",
    "\n",
    "Etter {prf:ref}`algo-newtonsmetode` trenger vi å kunne regne ut den deriverte til $f$, samt et stardpunkt $x_0$. Vi kan velge $x_0 = 10$ og regne ut den deriverte til $f$ ved å bruke regelen for den deriverte av en potensfunksjon. Vi får da at\n",
    "\n",
    "$$\n",
    "f'(x) = 2x.\n",
    "$$\n",
    "\n",
    "En Pythonkode som implementerer {prf:ref}`algo-newtonsmetode` med denne funksjonen er da"
   ]
  },
  {
   "cell_type": "code",
   "execution_count": 8,
   "metadata": {},
   "outputs": [
    {
     "name": "stdout",
     "output_type": "stream",
     "text": [
      "Nullpunktet er 1.00 og ble funnet etter 7 iterasjoner.\n"
     ]
    }
   ],
   "source": [
    "def f(x):\n",
    "    return x**2 - 1\n",
    "\n",
    "def dfdx(x):\n",
    "    return 2*x\n",
    "\n",
    "x0 = 10 # Startverdi\n",
    "tol = 1e-8 # toleranse\n",
    "max_iter = 100_000 # maks antall iterasjoner\n",
    "\n",
    "x = x0\n",
    "num_iter = 0 # antall iterasjon så langt.\n",
    "\n",
    "while abs(f(x)) > tol and num_iter < max_iter:\n",
    "    x = x - f(x)/dfdx(x)\n",
    "    num_iter += 1\n",
    "\n",
    "print(f\"Nullpunktet er {x:.2f} og ble funnet etter {num_iter} iterasjoner.\")"
   ]
  },
  {
   "attachments": {},
   "cell_type": "markdown",
   "metadata": {},
   "source": [
    "### Eksempel 2\n",
    "\n",
    "I eksempel 1 fant vi et eksakt uttrykk for den deriverte $f'(x)$, men vi trenger strengt tatt bare å tilnærme den med numerisk derivasjon. Vi vil fortsatt ende opp med en svært god tilnærming til nullpunktet til $f(x)$. La oss benytte oss av dette i et nytt eksempel. Vi skal finne et nullpunkt til funksjonen\n",
    "\n",
    "$$\n",
    "f(x) = x^2 - 2x + 1,\n",
    "$$\n",
    "\n",
    "der vi bruker en tilnærming til den deriverte $f'(x)$ gitt ved\n",
    "\n",
    "$$\n",
    "f'(x) \\approx \\frac{f(x + h) - f(x)}{h},\n",
    "$$\n",
    "\n",
    "der $h$ er et lite tall. For å gjøre det konkret, kan vi sette $h = 10^{-5}$. \n",
    "\n",
    "Følger vi {prf:ref}`algo-newtonsmetode` får vi følgende Pythonkode:"
   ]
  },
  {
   "cell_type": "code",
   "execution_count": 9,
   "metadata": {},
   "outputs": [
    {
     "name": "stdout",
     "output_type": "stream",
     "text": [
      "Nullpunktet er 1.00 og ble funnet etter 17 iterasjoner.\n"
     ]
    }
   ],
   "source": [
    "def f(x):\n",
    "    return x**2 - 2*x + 1\n",
    "\n",
    "def dfdx(x):\n",
    "    h = 1e-5\n",
    "    return (f(x+h) - f(x))/h\n",
    "\n",
    "x0 = 10 # Startverdi\n",
    "tol = 1e-8 # toleranse\n",
    "max_iter = 100_000 # maks antall iterasjoner\n",
    "\n",
    "x = x0\n",
    "num_iter = 0 # antall iterasjon så langt.\n",
    "\n",
    "while abs(f(x)) > tol and num_iter < max_iter:\n",
    "    x = x - f(x)/dfdx(x)\n",
    "    num_iter += 1\n",
    "\n",
    "print(f\"Nullpunktet er {x:.2f} og ble funnet etter {num_iter} iterasjoner.\")"
   ]
  },
  {
   "attachments": {},
   "cell_type": "markdown",
   "metadata": {},
   "source": [
    "som er riktig fordi $x^2 - 2x + 1 = (x-1)^2$, som betyr at det er det eneste nullpunktet til funksjonen. *Poeng: vi kan bruke Newtons metode ved å tilnærme den deriverte i stedet for å kjenne den eksakt og fortsatt få en god tilnærming til nullpunktet.*"
   ]
  },
  {
   "attachments": {},
   "cell_type": "markdown",
   "metadata": {},
   "source": [
    "## Oppgaver"
   ]
  },
  {
   "attachments": {},
   "cell_type": "markdown",
   "metadata": {},
   "source": [
    "### Oppgave 1\n",
    "\n",
    "Finn et av nullpunktene til funksjonen\n",
    "\n",
    "$$\n",
    "f(x) = x^3 - 2x^2 - 5x + 6,\n",
    "$$\n",
    "\n",
    "ved å bruke Newtons metode. Bruk et startpunkt $x_0 = 2$ og en toleranse $\\epsilon = 10^{-8}$.\n",
    "\n",
    "*Du kan ta utgangspunkt i kodeskallet under. Du må fylle inn der det står `NotImplemented`.*"
   ]
  },
  {
   "cell_type": "code",
   "execution_count": null,
   "metadata": {},
   "outputs": [],
   "source": [
    "def f(x):\n",
    "    \"\"\"Regner ut funksjonsverdien til\n",
    "    f(x) = x^3 - 2x^2 - 5x + 6\n",
    "    \"\"\"\n",
    "    return NotImplemented\n",
    "\n",
    "def dfdx(x):\n",
    "    \"\"\"Regner ut f'(x).\"\"\"\n",
    "    return NotImplemented\n",
    "\n",
    "\n",
    "tol = NotImplemented # Toleranse.\n",
    "x0 = NotImplemented # Startverdi.\n",
    "max_iter = NotImplemented # Maks antall iterasjoner.\n",
    "\n",
    "x = x0\n",
    "num_iter = 0 # antall iterasjoner så langt\n",
    "while NotImplemented: # Sett en betingelse for når løkken skal stoppe.\n",
    "    x = NotImplemented\n",
    "    num_iter += 1\n",
    "\n",
    "print(f\"Nullpunkt: {x:.2f}\")"
   ]
  },
  {
   "attachments": {},
   "cell_type": "markdown",
   "metadata": {},
   "source": [
    "````{dropdown} Løsningsforslag\n",
    "\n",
    "```python\n",
    "def f(x):\n",
    "    \"\"\"Regner ut funksjonsverdien til\n",
    "    f(x) = x^3 - 2x^2 - 5x + 6\n",
    "    \"\"\"\n",
    "    return x**3 - 2 * x**2 - 5*x + 6\n",
    "\n",
    "def dfdx(x):\n",
    "    \"\"\"Regner ut f'(x).\"\"\"\n",
    "    h = 1e-5\n",
    "    return (\n",
    "        f(x + h) - f(x)\n",
    "    ) / h\n",
    "\n",
    "\n",
    "tol = 1e-8 # Toleranse.\n",
    "x0 = 2 # Startverdi.\n",
    "max_iter = 1_000_000 # Maks antall iterasjoner.\n",
    "\n",
    "\n",
    "x = x0\n",
    "num_iter = 0\n",
    "while abs(f(x)) > tol and num_iter <= max_iter: # Sett en betingelse for når løkken skal stoppe.\n",
    "    x = x - f(x) / dfdx(x)\n",
    "    num_iter += 1\n",
    "\n",
    "print(f\"Nullpunkt: {x:.2f}\")\n",
    "```\n",
    "\n",
    "som gir utskriften\n",
    "\n",
    "```console\n",
    "Nullpunkt: -2.00\n",
    "```\n",
    "\n",
    "````"
   ]
  }
 ],
 "metadata": {
  "kernelspec": {
   "display_name": "Python 3",
   "language": "python",
   "name": "python3"
  },
  "language_info": {
   "codemirror_mode": {
    "name": "ipython",
    "version": 3
   },
   "file_extension": ".py",
   "mimetype": "text/x-python",
   "name": "python",
   "nbconvert_exporter": "python",
   "pygments_lexer": "ipython3",
   "version": "3.11.4"
  },
  "orig_nbformat": 4
 },
 "nbformat": 4,
 "nbformat_minor": 2
}
