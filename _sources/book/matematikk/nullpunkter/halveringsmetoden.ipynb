{
 "cells": [
  {
   "attachments": {},
   "cell_type": "markdown",
   "metadata": {},
   "source": [
    "# Halveringsmetoden"
   ]
  },
  {
   "attachments": {},
   "cell_type": "markdown",
   "metadata": {},
   "source": [
    "En systematisk måte å finne nullpunkter til vilkårlige funksjoner $f(x)$ på, er å bruke **halveringsmetoden**. \n",
    "Algoritmen tar utgangspunkt i at vi velger oss et intervall $[a, b]$ der vi vet at nullpunktet ligger. Hvordan kan vi vite at nullpunktet ligger der? Funksjonsverdien må ha forskjellig fortegn i endepunktet. Det vil si $f(a) < 0$ og $f(b) > 0$, eller motsatt. Dette kan vi sjekke ved å regne ut funksjonsverdien i endepunktene, og gange de sammen. Hvis produktet er negativt, vet vi at funksjonsverdiene har forskjellig fortegn. Ideen er vi så regne ut midtpunktet på intervallet, for å deretter velge ut et nytt intervall som er halvparten så stort. Vi gjør dette ved å velge den halvdelen av intervallet som vi *vet* nullpunktet ligger i:\n",
    "\n",
    "1. Regn ut midtpunktet $c = (a + b) / 2$.\n",
    "2. Hvis $f(a) \\cdot f(c) < 0$, sett $b = c$. Så midtpunktet blir høyre endepunkt på det nye intervallet.\n",
    "3. Hvis ikke, sett $a = c$. Midtpunktet blir da venstre endepunkt på det nye intervallet.\n",
    "\n",
    "Dette repeteres til en har en tilstrekkelig god tilnærming til nullpunktet. Det vil si at vi stopper når $|f(c)| < \\epsilon$, der $\\epsilon$ er en toleranseverdi som ofte settes til $\\epsilon \\approx 10^{-8}$. {prf:ref}`algo-halveringsmetoden` viser pseudokode for algoritmen.\n",
    "\n",
    "{numref}`bisection` viser en animasjon av halveringsmetoden.\n",
    "\n",
    "\n",
    "\n",
    "```{figure} ./figurer/Bisection_ani.gif\n",
    "---\n",
    "name: bisection\n",
    "---\n",
    "\n",
    "Animasjon av halveringsmetoden. Hentet fra [Wikimedia Commons](https://upload.wikimedia.org/wikipedia/commons/d/d9/Bisection_anime.gif)\n",
    "```\n",
    "\n",
    "\n",
    "\n",
    "```{prf:algorithm} Halveringsmetoden\n",
    ":label: algo-halveringsmetoden\n",
    "\n",
    "__Input__: En funksjon $f(x)$, et intervall $[a, b]$ der vi vet at nullpunktet ligger, og en toleranse $\\epsilon$.\n",
    "\n",
    "__Output__: Et tilnærming til et nullpunkt til $f$.\n",
    "\n",
    "- Sjekk at $f(a) \\cdot f(b) < 0$. Hvis ikke, avslutt algoritmen.\n",
    "- Regn ut midtpunktet $c = (a + b) / 2$.\n",
    "- While $|f(c)| > \\epsilon$:\n",
    "    - Hvis $f(a) \\cdot f(c) < 0$, sett $b = c$.\n",
    "    - Hvis ikke, sett $a = c$.\n",
    "    - Regn ut midtpunktet $c = (a + b) / 2$.\n",
    "- Returner $c$.\n",
    "```"
   ]
  },
  {
   "attachments": {},
   "cell_type": "markdown",
   "metadata": {},
   "source": [
    "## Eksempler"
   ]
  },
  {
   "attachments": {},
   "cell_type": "markdown",
   "metadata": {},
   "source": [
    "### Eksempel 1: Finne nullpunktene til en andregradsfunksjon med halveringsmetoden \n",
    "\n",
    "Vi skal finne nullpunktene til funksjonen\n",
    "\n",
    "$$\n",
    "f(x) = x^2 - 1.\n",
    "$$\n",
    "\n",
    "Nullpunktene til denne funksjonen er $x = \\pm 1$, så vi vet at vi må ende opp der. For å finne ett av de numerisk med halveringsmetoden, må vi i følge {prf:ref}`algo-halveringsmetoden` velge oss ut:\n",
    "\n",
    "1. En funksjon $f$. \n",
    "2. Et intervall $[a,b]$ der vi vet at $f$ har et nullpunkt, så $f$ *må* endre fortegn på intervallet.\n",
    "3. En toleranse $\\epsilon$.\n",
    "\n",
    "Vi kan for eksempel velge oss ut intervallet $[a, b] = [-2, 0]$. Da har vi $f(-2) = 3$ og $f(0) = -1$, så $f$ endrer fortegn på intervallet.\n",
    "Toleransen kan vi bare sette til $\\epsilon = 10^{-8}$. \n",
    "\n",
    "Følger vi {prf:ref}`algo-halveringsmetoden` får vi følgende kode:"
   ]
  },
  {
   "cell_type": "code",
   "execution_count": 2,
   "metadata": {},
   "outputs": [
    {
     "name": "stdout",
     "output_type": "stream",
     "text": [
      "c = -1.0\n"
     ]
    }
   ],
   "source": [
    "def f(x):\n",
    "    return x**2 - 1 \n",
    "\n",
    "a = 0\n",
    "b = -2\n",
    "toleranse = 1e-8\n",
    "\n",
    "c = 0.5 * (a + b)\n",
    "while abs(f(c)) > toleranse:\n",
    "    if f(a) * f(c) < 0:\n",
    "        b = c\n",
    "    else:\n",
    "        a = c\n",
    "    c = 0.5 * (a + b)\n",
    "\n",
    "print(f\"{c = }\")"
   ]
  },
  {
   "attachments": {},
   "cell_type": "markdown",
   "metadata": {},
   "source": [
    "```{admonition} Svakheter med halveringsmetoden\n",
    ":class: warning, dropdown\n",
    "\n",
    "1. Halveringsmetoden er en *iterativ* algoritme. Det vil si at den gjentar en prosess flere ganger. I praksis betyr dette at vi må velge et maksimalt antall iterasjoner. Hvis vi ikke gjør det, kan algoritmen potensielt kjøre i all evighet. Dette er en svakhet ved halveringsmetoden, og vi må derfor være forsiktige med å bruke den. \n",
    "2. Halveringsmetoden klarer bare å finne ett nullpunkt av gangen. Har en funksjon flere nullpunkter, må vi derfor bruke den flere ganger. \n",
    "3. Algoritmen krever også at vi har litt kjennskap til funksjonen vi skal finne nullpunktet til. Vi må vite at nullpunktet ligger i et intervall $[a, b]$. Dette kan være vanskelig å vite på forhånd, og må alltid sjekkes.\n",
    "```"
   ]
  },
  {
   "attachments": {},
   "cell_type": "markdown",
   "metadata": {},
   "source": [
    "## Øvingsoppgaver"
   ]
  },
  {
   "attachments": {},
   "cell_type": "markdown",
   "metadata": {},
   "source": [
    "### Oppgave 1 \n",
    "\n",
    "Bruk halveringsmetoden til å finne et nullpunkt til funksjonen\n",
    "\n",
    "$$\n",
    "f(x) = x^3 - 2x^2 - 5.\n",
    "$$\n",
    "\n",
    "*Du kan ta utgangspunkt i kodeskallet under. Du må fylle inn der det står `NotImplemented`.*"
   ]
  },
  {
   "cell_type": "code",
   "execution_count": null,
   "metadata": {},
   "outputs": [],
   "source": [
    "def f(x):\n",
    "    return NotImplemented\n",
    "\n",
    "a = NotImplemented\n",
    "b = NotImplemented\n",
    "toleranse = NotImplemented\n",
    "c = NotImplemented\n",
    "\n",
    "while NotImplemented:\n",
    "    if NotImplemented:\n",
    "        b = NotImplemented\n",
    "    else:\n",
    "        a = NotImplemented\n",
    "    c = NotImplemented\n",
    "\n",
    "print(f\"{c = }\")"
   ]
  },
  {
   "attachments": {},
   "cell_type": "markdown",
   "metadata": {},
   "source": [
    "````{dropdown} Løsningsforslag\n",
    "\n",
    "```python\n",
    "def f(x):\n",
    "    return x**3 - 2 * x**2 - 5\n",
    "\n",
    "a = 0\n",
    "b = 100\n",
    "toleranse = 1e-8\n",
    "c = 0.5 * (a + b)\n",
    "\n",
    "while abs(f(c)) > toleranse:\n",
    "    if f(a) * f(c) < 0:\n",
    "        b = c\n",
    "    else:\n",
    "        a = c\n",
    "    c = 0.5 * (a + b)\n",
    "\n",
    "print(f\"{c = :.4f}\")\n",
    "```\n",
    "\n",
    "som gir utskriften\n",
    "\n",
    "```console\n",
    "c = 2.6906\n",
    "```\n",
    "\n",
    "som betyr at en tilnærming til nullpunktet til $f$ er $x \\approx 2.6906$.\n",
    "\n",
    "````"
   ]
  },
  {
   "attachments": {},
   "cell_type": "markdown",
   "metadata": {},
   "source": [
    "### Oppgave 2 \n",
    "\n",
    "Bruk halveringsmetoden til å finne en tilnærming til ett nullpunkt til funksjonen\n",
    "\n",
    "$$\n",
    "f(x) = e^x - 10.\n",
    "$$\n",
    "\n",
    "*Du kan ta utgangspunkt i kodeskallet under. Du må fylle inn der det står `NotImplemented`.*\n",
    "\n"
   ]
  },
  {
   "cell_type": "code",
   "execution_count": null,
   "metadata": {},
   "outputs": [],
   "source": [
    "import numpy as np\n",
    "\n",
    "def f(x):\n",
    "    return NotImplemented\n",
    "\n",
    "a = NotImplemented\n",
    "b = NotImplemented\n",
    "toleranse = NotImplemented\n",
    "c = NotImplemented\n",
    "\n",
    "while NotImplemented:\n",
    "    if NotImplemented:\n",
    "        b = NotImplemented\n",
    "    else:\n",
    "        a = NotImplemented\n",
    "    c = NotImplemented\n",
    "\n",
    "print(f\"{c = :.4f}\")"
   ]
  },
  {
   "attachments": {},
   "cell_type": "markdown",
   "metadata": {},
   "source": [
    "````{dropdown} Løsningsforslag\n",
    "\n",
    "```python\n",
    "import numpy as np\n",
    "\n",
    "def f(x):\n",
    "    return np.exp(x) - 10\n",
    "\n",
    "a = -10\n",
    "b = 10\n",
    "toleranse = 1e-8\n",
    "c = 0.5 * (a + b)\n",
    "\n",
    "while abs(f(c)) > toleranse:\n",
    "    if f(a) * f(c) < 0:\n",
    "        b = c\n",
    "    else:\n",
    "        a = c\n",
    "    c = 0.5 * (a + b)\n",
    "\n",
    "print(f\"{c = :.4f}\")\n",
    "```\n",
    "\n",
    "som gir utskriften\n",
    "\n",
    "```console\n",
    "c = 2.3026\n",
    "```\n",
    "\n",
    "som betyr at $x \\approx 2.3026$ er en tilnærming til ett av nullpunktene til $f$.\n",
    "\n",
    "````"
   ]
  }
 ],
 "metadata": {
  "kernelspec": {
   "display_name": "Python 3",
   "language": "python",
   "name": "python3"
  },
  "language_info": {
   "codemirror_mode": {
    "name": "ipython",
    "version": 3
   },
   "file_extension": ".py",
   "mimetype": "text/x-python",
   "name": "python",
   "nbconvert_exporter": "python",
   "pygments_lexer": "ipython3",
   "version": "3.11.4"
  },
  "orig_nbformat": 4
 },
 "nbformat": 4,
 "nbformat_minor": 2
}
