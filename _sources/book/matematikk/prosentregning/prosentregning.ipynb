{
 "cells": [
  {
   "cell_type": "markdown",
   "metadata": {},
   "source": [
    "# Prosentregning\n",
    "\n",
    "## Bakgrunnsteori\n",
    "\n",
    "### Prosent\n",
    "\n",
    "Prosent er en måte å uttrykke hvor mye en størrelse er målt i hundredeler. Prosent skrives med symbolet $\\%$ og betyr $1 / 100$. I praksis kan vi si at\n",
    "\n",
    "$$\n",
    "\\% = \\frac{1}{100} = 0.01\n",
    "$$\n",
    "\n",
    "#### Metode 1: "
   ]
  },
  {
   "cell_type": "code",
   "execution_count": null,
   "metadata": {},
   "outputs": [],
   "source": []
  }
 ],
 "metadata": {
  "language_info": {
   "name": "python"
  },
  "orig_nbformat": 4
 },
 "nbformat": 4,
 "nbformat_minor": 2
}
