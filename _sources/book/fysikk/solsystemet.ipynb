{
 "cells": [
  {
   "attachments": {},
   "cell_type": "markdown",
   "metadata": {},
   "source": [
    "# Prosjekt: Simulering av Solsystemet\n",
    "\n",
    "I dette prosjektet skal du skrive en Pythonkode som regner ut banene til planetene i solsystemet vårt basert på data hentet ut fra [NASA JPL Horizons System](https://ssd.jpl.nasa.gov/horizons/app.html#/). \n"
   ]
  },
  {
   "attachments": {},
   "cell_type": "markdown",
   "metadata": {},
   "source": [
    "## Datasettet\n",
    "\n",
    "### Hvordan laste ned datasettet?\n",
    "```python\n",
    "import os\n",
    "url = \"https://raw.githubusercontent.com/reneaas/vgs_programmering/main/datasets/solar_system/solsystem_data.json\"\n",
    "os.system(\" \".join([\"curl\", url, \"-o\", \"solsystem_data.json\"]))\n",
    "```\n",
    "\n",
    "### Hvordan loade datasettet?\n",
    "\n",
    "```python\n",
    "import json\n",
    "with open(\"solsystem_data.json\", \"r\") as infile:\n",
    "    data = json.load(infile)\n",
    "```\n"
   ]
  },
  {
   "attachments": {},
   "cell_type": "markdown",
   "metadata": {},
   "source": [
    "## Bakgrunnsteori"
   ]
  },
  {
   "attachments": {},
   "cell_type": "markdown",
   "metadata": {},
   "source": [
    "\n",
    "### En mer generell gravitasjonslov\n",
    "\n",
    "I fysikk 2 lærer man at gravitasjonsloven kan skrives som\n",
    "\n",
    "$$\n",
    "F = -\\gamma \\frac{m_1 m_2}{r^2},\n",
    "$$\n",
    "\n",
    "der $r$ er avstanden mellom de to legemene, $m_1$ og $m_2$ er massene til objektene og $\\gamma$ er gravitasjonskonstanten. Skal man håndtere solsystemet, må man ta hensyn til at de har interaksjoner mellom hverandre. Da får vi nytte for en mer generell form av gravitasjonsloven:\n",
    "\n",
    "$$\n",
    "\\vec{F}_{i} = -\\gamma m_i\\sum_{j \\neq i} m_j \\frac{\\vec{r}_i - \\vec{r}_j}{|\\vec{r}_i - \\vec{r}_j|^3}, \n",
    "$$\n",
    "\n",
    "der $\\vec{r}_i$ er posisjonen til legeme $i$, $m_i$ er massen til legeme $i$ og $\\gamma$ er gravitasjonskonstanten. Tilsvarende er $\\vec{r}_j$ og $m_j$ posisjonen og massen til legeme $j$. Størrelsen $\\vec{F}_i$ er kraften som virker på legeme $i$ fra alle andre legemer i systemet. I tilfellet her kunne for eksempel $i$ vært jorden, og da vil $\\vec{F}_i$ være kraften som virker på jorden fra solen og de andre plantene i solsystemet. "
   ]
  },
  {
   "attachments": {},
   "cell_type": "markdown",
   "metadata": {},
   "source": [
    "### Newtons 2.lov\n",
    "\n",
    "Når vi ønsker å finne bevegelsen til et legeme over tid, er Newtons 2.lov vår *go-to* lov. Kjenner vi alle kreftene på legeme, kan vi finne bevegelsen til legemet over tid. Newtons 2.lov kan oppsummeres som\n",
    "\n",
    "\n",
    "$$\n",
    "\\sum_{n} \\vec{F}_n = m\\vec{a},\n",
    "$$\n",
    "\n",
    "I dette tilfellet, er summen av kreftene den totale gravitasjonskraften som virker på legemet. For legemet $i$ kan vi skrive dette som\n",
    "\n",
    "$$\n",
    "m_i\\vec{a}_i = -\\gamma m_i\\sum_{j \\neq i} m_j \\frac{\\vec{r}_i - \\vec{r}_j}{|\\vec{r}_i - \\vec{r}_j|^3}, \n",
    "$$\n",
    "\n",
    "som gir\n",
    "\n",
    "$$\n",
    "\\vec{a}_i = -\\gamma \\sum_{j \\neq i} m_j \\frac{\\vec{r}_i - \\vec{r}_j}{|\\vec{r}_i - \\vec{r}_j|^3}.\n",
    "$$\n",
    "\n"
   ]
  },
  {
   "cell_type": "markdown",
   "metadata": {},
   "source": [
    "### Verlet algoritmen\n",
    "\n",
    "Solsystemet er et system der energien er bevart. Du har kanskje sett Euler-Comer før, men her skal vi bruke en annen numerisk metode som også bevarer energi, en såkalt *symplektisk* integrator. En slik metode vil holde energien konstant i gjennomsnitt over tid. I praksis vil vi observere at verdien til energien svinger frem og tilbake om startverdien. Euler-Cromer svinger i mye større grad enn den metoden vi skal bruke.\n",
    "\n",
    "Vi skal benytte oss av en annen symplektisk metode som kallet for *velocity Verlet*-algoritmen. Anta at\n",
    "\n",
    "$$\n",
    "\\vec{a}_i(t) = \\vec{f}(\\vec{r}_1(t), \\vec{r}_2(t), \\ldots, \\vec{r}_{n}(t)),\n",
    "$$\n",
    "\n",
    "gir oss akselerasjon ved tidspunkt $t$, og $\\vec{r}_1(t), \\vec{r}_2(t), \\ldots, \\vec{r}_n(t)$ er posisjonene til planetene ved tidspunkt $t$. Da kan vi regne ut neste posisjon og hastighet til planet $i$ (med en steglengde $h$ tid):\n",
    "\n",
    "$$\n",
    "\\begin{align*}\n",
    "\\vec{r}_i(t + h) & \\approx \\vec{r}_i(t) + \\vec{r}_i(t) h + \\frac{1}{2}\\vec{a}_i(t) h^2, \\\\\n",
    "\\vec{v}_i(t + h) & \\approx \\vec{v}_i(t) + \\frac{1}{2}\\left[\\vec{a}_i(t) + \\vec{a}_i(t + h)\\right]h\n",
    "\\end{align*}\n",
    "$$\n",
    "\n",
    "```{admonition} Typisk fallgruve\n",
    ":class: tip, dropdown\n",
    "\n",
    "En typisk fallgruve her er at man bruke algoritmen direkte på én planet av gangen, men siden akselerasjonen til hver planet er avhengig av posisjonen til alle de andre, må bare gjøre *steg 1* av algoritmen på **alle** planetene før man gjøre steg to på **alle** planetene. Med andre ord\n",
    "\n",
    "1. Oppdater posisjonen til **alle** planetene først (inkludert solen). \n",
    "2. Deretter oppdater hastigheten til **alle** planetene (inkludert solen). \n",
    "```"
   ]
  },
  {
   "cell_type": "markdown",
   "metadata": {},
   "source": [
    "## Oppgaver"
   ]
  },
  {
   "cell_type": "markdown",
   "metadata": {},
   "source": [
    "### Oppgave 1: Last inn datasettet\n",
    "\n",
    "Last inn datasettet med følgende kode:\n",
    "\n",
    "```python\n",
    "import requests\n",
    "import json\n",
    "url = \"https://raw.githubusercontent.com/reneaas/vgs_programmering/main/datasets/solar_system/solsystem_data.json\"\n",
    "r = requests.get(url, allow_redirects=True)\n",
    "\n",
    "with open(fname, \"w\") as outfile:\n",
    "    json.dump(solsystem_data, outfile, indent=4)\n",
    "\n",
    "import os\n",
    "url = \"https://raw.githubusercontent.com/reneaas/vgs_programmering/main/datasets/solar_system/solsystem_data.json\"\n",
    "os.system(\" \".join([\"curl\", url, \"-o\", \"solsystem_data.json\"]))\n",
    "\n",
    "\n",
    "with open(fname, \"w\") as outfile:\n",
    "    json.dump(solsystem_data, outfile, indent=4)\n",
    "```\n",
    "\n",
    "### Hvordan loade datasettet?\n",
    "\n",
    "```python\n",
    "import json\n",
    "with open(\"solsystem_data.json\", \"r\") as infile:\n",
    "    data = json.load(infile)\n",
    "```"
   ]
  },
  {
   "cell_type": "markdown",
   "metadata": {},
   "source": []
  }
 ],
 "metadata": {
  "language_info": {
   "name": "python"
  },
  "orig_nbformat": 4
 },
 "nbformat": 4,
 "nbformat_minor": 2
}
