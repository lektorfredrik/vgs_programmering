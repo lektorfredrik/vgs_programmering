{
 "cells": [
  {
   "attachments": {},
   "cell_type": "markdown",
   "metadata": {},
   "source": [
    "# Prosjekt: Simulering av Solsystemet\n",
    "\n",
    "I dette prosjektet skal du skrive en Pythonkode som regner ut banene til planetene i solsystemet vårt basert på data hentet ut fra [NASA JPL Horizons System](https://ssd.jpl.nasa.gov/horizons/app.html#/). \n"
   ]
  },
  {
   "attachments": {},
   "cell_type": "markdown",
   "metadata": {},
   "source": [
    "## Datasettet\n",
    "\n",
    "### Hvordan laste ned datasettet?\n",
    "```python\n",
    "import os\n",
    "url = \"https://raw.githubusercontent.com/reneaas/vgs_programmering/main/datasets/solar_system/solsystem_data.json\"\n",
    "os.system(\" \".join([\"curl\", \"-o\", url, \"solsystem_data.json\"]))\n",
    "```\n",
    "\n",
    "### Hvordan loade datasettet?\n",
    "\n",
    "```python\n",
    "import json\n",
    "with open(\"solsystem_data.json\", \"r\") as infile:\n",
    "    data = json.load(infile)\n",
    "```\n"
   ]
  },
  {
   "attachments": {},
   "cell_type": "markdown",
   "metadata": {},
   "source": [
    "## Bakgrunnsteori"
   ]
  },
  {
   "attachments": {},
   "cell_type": "markdown",
   "metadata": {},
   "source": [
    "\n",
    "### En mer generell gravitasjonslov\n",
    "\n",
    "I fysikk 2 lærer man at gravitasjonsloven kan skrives som\n",
    "\n",
    "$$\n",
    "F = -\\gamma \\frac{m_1 m_2}{r^2},\n",
    "$$\n",
    "\n",
    "der $r$ er avstanden mellom de to legemene, $m_1$ og $m_2$ er massene til objektene og $\\gamma$ er gravitasjonskonstanten. Skal man håndtere solsystemet, må man ta hensyn til at de har interaksjoner mellom hverandre. Da får vi nytte for en mer generell form av gravitasjonsloven:\n",
    "\n",
    "$$\n",
    "\\vec{F}_{i} = -\\gamma m_i\\sum_{j \\neq i} m_j \\frac{\\vec{r}_i - \\vec{r}_j}{|\\vec{r}_i - \\vec{r}_j|^3}, \n",
    "$$\n",
    "\n",
    "der $\\vec{r}_i$ er posisjonen til legeme $i$, $m_i$ er massen til legeme $i$ og $\\gamma$ er gravitasjonskonstanten. Tilsvarende er $\\vec{r}_j$ og $m_j$ posisjonen og massen til legeme $j$. Størrelsen $\\vec{F}_i$ er kraften som virker på legeme $i$ fra alle andre legemer i systemet. I tilfellet her kunne for eksempel $i$ vært jorden, og da vil $\\vec{F}_i$ være kraften som virker på jorden fra solen og de andre plantene i solsystemet. "
   ]
  },
  {
   "attachments": {},
   "cell_type": "markdown",
   "metadata": {},
   "source": [
    "### Newtons 2.lov\n",
    "\n",
    "Når vi ønsker å finne bevegelsen til et legeme over tid, er Newtons 2.lov vår *go-to* lov. Kjenner vi alle kreftene på legeme, kan vi finne bevegelsen til legemet over tid. Newtons 2.lov kan oppsummeres som\n",
    "\n",
    "\n",
    "$$\n",
    "\\sum_{n} \\vec{F}_n = m\\vec{a},\n",
    "$$\n",
    "\n",
    "I dette tilfellet, er summen av kreftene den totale gravitasjonskraften som virker på legemet. For legemet $i$ kan vi skrive dette som\n",
    "\n",
    "$$\n",
    "m_i\\vec{a}_i = -\\gamma m_i\\sum_{j \\neq i} m_j \\frac{\\vec{r}_i - \\vec{r}_j}{|\\vec{r}_i - \\vec{r}_j|^3}, \n",
    "$$\n",
    "\n",
    "som gir\n",
    "\n",
    "$$\n",
    "\\vec{a}_i = -\\gamma \\sum_{j \\neq i} m_j \\frac{\\vec{r}_i - \\vec{r}_j}{|\\vec{r}_i - \\vec{r}_j|^3}.\n",
    "$$\n",
    "\n"
   ]
  }
 ],
 "metadata": {
  "language_info": {
   "name": "python"
  },
  "orig_nbformat": 4
 },
 "nbformat": 4,
 "nbformat_minor": 2
}
