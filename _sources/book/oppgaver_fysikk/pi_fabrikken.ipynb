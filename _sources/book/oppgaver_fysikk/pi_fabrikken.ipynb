{
 "cells": [
  {
   "attachments": {},
   "cell_type": "markdown",
   "metadata": {},
   "source": [
    "# Elastiske kollisjoner som en $\\pi$-fabrikk"
   ]
  },
  {
   "attachments": {},
   "cell_type": "markdown",
   "metadata": {},
   "source": [
    "Det finnes en underlig sammenheng mellom elastiske kollisjoner og siffer i tallet $\\pi$. \n",
    "\n",
    "Scenario er som følger: Vi har en uendelig tung vegg. Vi plasserer en lett kloss med masse $m$ foran veggen. Så dytter vi en tyngere kloss med masse $M$ (så $m > M$), og så teller vi total antall kollisjoner som klossene har med hverandre og veggen. Hvor mange kollisjoner blir det? \n",
    "\n",
    "Så lenge $M = 100^p m$ for $p = 1, 2, 3, ... $, så kan vi hente ut de $p + 1$ første siffrene i $\\pi$.\n",
    "\n",
    "Din oppgave er å skrive en kode som simulerer denne prosessen og genererer de første siffrene i $\\pi$."
   ]
  },
  {
   "attachments": {},
   "cell_type": "markdown",
   "metadata": {},
   "source": [
    "## Bakgrunnsteori\n",
    "\n",
    "Anta vi plasserer en vegg med uendelig masse i origo ($x = 0$). Så plasserer vi den lette klossen med masse $m$ ved en posisjon $x = x_0$ og den tyngre klossen med masse $M$ ved $X = X_0$, der $X_0 > x_0$. \n",
    "\n",
    "Anta at kloss $m$ har hastighet $v$ og kloss $M$ har hastighet $V$ før en kollisjon. Etter kollisjonen vil kloss $m$ ha hastighet $v'$ og kloss $M$ vil ha hastighet $V'$, gitt ved følgende uttrykk:\n",
    "\n",
    "$$\n",
    "v' = \\frac{m - M}{m + M} v + \\frac{2M}{m + M} V,\n",
    "$$\n",
    "\n",
    "og\n",
    "\n",
    "$$\n",
    "V' = \\frac{2m}{m + M} v + \\frac{M - m}{m + M} V.\n",
    "$$\n",
    "\n",
    "Vi kan bruke disse uttrykkene til å simulere kollisjonene.\n",
    "\n",
    "Videre, dersom kloss $m$ treffer veggen, så vil den reflekteres, men ha uendret hastighet slik at $v' = -v$."
   ]
  },
  {
   "attachments": {},
   "cell_type": "markdown",
   "metadata": {},
   "source": [
    "## Oppgave 0 (frivillig, men lærerik)\n",
    "\n",
    "Utled formlene for $v'$ og $V'$ ved å ta utgangspunkt i at det er en *elastisk kollisjon* slik at både bevegelsesmengde og kinetisk energi er bevart for totalsystemet."
   ]
  },
  {
   "attachments": {},
   "cell_type": "markdown",
   "metadata": {},
   "source": [
    "## Oppgave 1\n",
    "\n",
    "Skriv en funksjon som tar inn hastighetene $v$ og $V$, og massene $m$ og $M$, og returnerer de nye hastighetene $v'$ og $V'$ etter kollisjonen.\n",
    "\n",
    "*Under er et kodeskall for funksjonen. Du må fylle inn alle steder det står* `NotImplemented`."
   ]
  },
  {
   "cell_type": "code",
   "execution_count": 3,
   "metadata": {},
   "outputs": [],
   "source": [
    "def kollisjon(v, V, m, M):\n",
    "    \"\"\"Tar inn hastighetene v og V til to legemer med massene m og M,\n",
    "    og returnerer hastighetene v_neste og V_neste etter kollisjonen.\n",
    "    \"\"\"\n",
    "    v_neste = NotImplemented\n",
    "    V_neste = NotImplemented\n",
    "    return v_neste, V_neste\n"
   ]
  },
  {
   "cell_type": "code",
   "execution_count": null,
   "metadata": {},
   "outputs": [],
   "source": [
    "def test_kollisjon():\n",
    "    \"\"\"Tester kollisjonsfunksjonen for tilfelle der v = 0, V = -1, m = 1, M = 1.\n",
    "    Da skal v_neste = -1 og V_neste = 0. Gir en feilmelding hvis dette ikke stemmer.\n",
    "    \"\"\"\n",
    "    v = 0\n",
    "    V = -1\n",
    "    m = 1\n",
    "    M = 1\n",
    "    v_neste, V_neste = kollisjon(v, V, m, M)\n",
    "    assert v_neste == -1 and V_neste == 0, \"Feil i kollisjon(v, V, m, M). Testen feilet for v = 0, V = -1, m = 1, M = 1.\"\n",
    "test_kollisjon()"
   ]
  },
  {
   "attachments": {},
   "cell_type": "markdown",
   "metadata": {},
   "source": [
    "## Oppgave 2\n",
    "\n",
    "Skriv en funksjon som simulerer flere kollisjoner mellom både klossene, og kloss og vegg over tid. Funksjonen skal returnere antall kollisjoner totalt, det vil si antall kollisjoner mellom de to klossene, og antall kollisjoner mellom kloss $m$ og veggen.\n",
    "\n",
    "*Under er et kodeskall for funksjonen. Du må fylle inn alle steder det står* `NotImplemented`\n"
   ]
  },
  {
   "cell_type": "code",
   "execution_count": null,
   "metadata": {},
   "outputs": [],
   "source": [
    "def simuler_kollisjoner(v, V, m, M, dt=0.001, max_tid=10):\n",
    "    \"\"\"Simulerer kollisjoner mellom en kloss med masse m og en kloss med masse M,\n",
    "    der klossene har hastighetene v og V ved start. \n",
    "\n",
    "    Argumenter:\n",
    "        v: Hastighet til liten kloss ved start.\n",
    "        V: Hastighet til stor kloss ved start.\n",
    "        m: Masse til liten kloss.\n",
    "        M: Masse til stor kloss.\n",
    "        dt: Tidssteg for simuleringen.\n",
    "        max_tid: Maksimal tid som skal gå mellom to kollisjoner.\n",
    "    \n",
    "    Returnerer:\n",
    "        antall_kollisjoner: Antall kollisjoner som har skjedd i løpet av simuleringen.\n",
    "    \"\"\"\n",
    "    x = 0.5 # startposisjon til liten kloss\n",
    "    X = 1 # startposisjon til stor kloss.\n",
    "    antall_kollisjoner = 0\n",
    "    t = 0 # tid siden sist kollisjon\n",
    "    while t < max_tid: # Stopp kjøring hvis det går mer enn `max_tid` sekunder siden den siste kollisjonen inntreffer.\n",
    "        \n",
    "        # Sjekk om liten kloss treffer veggen og oppdater hastighet hvis den gjør det.\n",
    "        if NotImplemented: # Finn en betingelse som er sann når klossen treffer veggen.\n",
    "            v = NotImplemented # Oppdater hastigheten til liten kloss.\n",
    "            antall_kollisjoner = NotImplemented # Øk antall_kollisjoner med 1.\n",
    "            t = NotImplemented # Sett tiden siden sist kollisjon til 0.\n",
    "\n",
    "\n",
    "        # Sjekk om liten kloss og stor kloss kolliderer og oppdater hastighetene hvis de gjør det.\n",
    "        if NotImplemented: # Finn en betingelse som er sann når klossene kolliderer.\n",
    "            # Sjekk om klossene kolliderer. Hvis de gjør det, oppdater hastighetene og øk antall_kollisjoner med 1.\n",
    "            v, V = NotImplemented\n",
    "            antall_kollisjoner = NotImplemented # Øk antall_kollisjoner med 1.\n",
    "            t = NotImplemented # Sett tiden siden sist kollisjon til 0.\n",
    "        \n",
    "        x = NotImplemented # Oppdater posisjon til liten kloss.\n",
    "        X = NotImplemented # Oppdater posisjonen til stor kloss.\n",
    "        t = NotImplemented # Oppdater tiden siden sist kollisjon.\n",
    "\n",
    "    return antall_kollisjoner"
   ]
  },
  {
   "cell_type": "code",
   "execution_count": null,
   "metadata": {},
   "outputs": [],
   "source": [
    "def test_simuler_kollisjoner():\n",
    "    \n",
    "\n",
    "antall_kollisjoner = "
   ]
  }
 ],
 "metadata": {
  "kernelspec": {
   "display_name": "Python 3",
   "language": "python",
   "name": "python3"
  },
  "language_info": {
   "codemirror_mode": {
    "name": "ipython",
    "version": 3
   },
   "file_extension": ".py",
   "mimetype": "text/x-python",
   "name": "python",
   "nbconvert_exporter": "python",
   "pygments_lexer": "ipython3",
   "version": "3.11.3"
  },
  "orig_nbformat": 4
 },
 "nbformat": 4,
 "nbformat_minor": 2
}
