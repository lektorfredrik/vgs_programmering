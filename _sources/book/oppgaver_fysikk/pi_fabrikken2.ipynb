{
 "cells": [
  {
   "cell_type": "markdown",
   "id": "b9ce444f",
   "metadata": {},
   "source": [
    "# Test med markdown\n",
    "\n",
    "\n",
    "## Oppgave 1:\n",
    "\n",
    "````{dropdown} Løsning\n",
    "```{code-cell} ipython3\n",
    "def kollisjon(v, V, m, M):\n",
    "    \"\"\"Tar inn hastighetene v og V til to legemer med massene m og M,\n",
    "    og returnerer hastighetene v_neste og V_neste etter kollisjonen.\n",
    "    \"\"\"\n",
    "    v_neste = (m - M) / (m + M) * v + 2 * M / (m + M) * V\n",
    "    V_neste = 2 * m / (m + M) * v + (M - m) / (m + M) * V\n",
    "    return v_neste, V_neste\n",
    "```\n",
    "````\n",
    "\n",
    "\n",
    "## Oppgave 2:\n",
    "\n",
    "````{dropdown} Løsning\n",
    "```{code-cell} ipython3\n",
    "def kollisjon(v, V, m, M):\n",
    "    \"\"\"Tar inn hastighetene v og V til to legemer med massene m og M,\n",
    "    og returnerer hastighetene v_neste og V_neste etter kollisjonen.\n",
    "    \"\"\"\n",
    "    v_neste = (m - M) / (m + M) * v + 2 * M / (m + M) * V\n",
    "    V_neste = 2 * m / (m + M) * v + (M - m) / (m + M) * V\n",
    "    return v_neste, V_neste\n",
    "```\n",
    "````\n",
    "\n",
    "\n",
    "## Oppgave 3: \n",
    "\n",
    "`````{tab-set}\n",
    "````{tab-item} Din kode\n",
    "```{code-cell} ipython3\n",
    "def kollisjon(v, V, m, M):\n",
    "    \"\"\"Tar inn hastighetene v og V til to legemer med massene m og M,\n",
    "    og returnerer hastighetene v_neste og V_neste etter kollisjonen.\n",
    "    \"\"\"\n",
    "    v_neste = NotImplemented\n",
    "    V_neste = NotImplemented\n",
    "    return v_neste, V_neste\n",
    "```\n",
    "````\n",
    "\n",
    "````{tab-item} Løsningsforslag\n",
    "\n",
    "```python\n",
    "def kollisjon(v, V, m, M):\n",
    "    \"\"\"Tar inn hastighetene v og V til to legemer med massene m og M,\n",
    "    og returnerer hastighetene v_neste og V_neste etter kollisjonen.\n",
    "    \"\"\"\n",
    "    v_neste = (m - M) / (m + M) * v + 2 * M / (m + M) * V\n",
    "    V_neste = 2 * m / (m + M) * v + (M - m) / (m + M) * V\n",
    "    return v_neste, V_neste\n",
    "```\n",
    "````\n",
    "`````\n",
    "\n",
    "#### Oppgave 4\n",
    "\n",
    "Enda en test:"
   ]
  },
  {
   "cell_type": "code",
   "execution_count": null,
   "id": "75e91a27",
   "metadata": {},
   "outputs": [],
   "source": [
    "def kollisjon(v, V, m, M):\n",
    "    \"\"\"Tar inn hastighetene v og V til to legemer med massene m og M,\n",
    "    og returnerer hastighetene v_neste og V_neste etter kollisjonen.\n",
    "    \"\"\"\n",
    "    v_neste = (m - M) / (m + M) * v + 2 * M / (m + M) * V\n",
    "    V_neste = 2 * m / (m + M) * v + (M - m) / (m + M) * V\n",
    "    return v_neste, V_neste"
   ]
  }
 ],
 "metadata": {
  "jupytext": {
   "text_representation": {
    "extension": ".md",
    "format_name": "myst",
    "format_version": 0.13,
    "jupytext_version": "1.14.5"
   }
  },
  "kernelspec": {
   "display_name": "Python 3",
   "language": "python",
   "name": "python3"
  },
  "source_map": [
   12,
   81
  ]
 },
 "nbformat": 4,
 "nbformat_minor": 5
}