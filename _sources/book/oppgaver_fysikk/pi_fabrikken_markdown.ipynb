{
 "cells": [
  {
   "cell_type": "markdown",
   "id": "e901fc6d",
   "metadata": {},
   "source": [
    "# Elastiske kollisjoner som en $\\pi$-fabrikk"
   ]
  },
  {
   "cell_type": "markdown",
   "id": "48f288d2",
   "metadata": {},
   "source": [
    "Det finnes en underlig sammenheng mellom elastiske kollisjoner og siffer i tallet $\\pi$. \n",
    "\n",
    "Scenario er som følger: Vi har en uendelig tung vegg. Vi plasserer en lett kloss med masse $m$ foran veggen. Så dytter vi en tyngere kloss med masse $M$ (så $M > m$), og så teller vi total antall kollisjoner som klossene har med hverandre og veggen. Hvor mange kollisjoner blir det? \n",
    "\n",
    "Så lenge $M = 100^p m$ for $p = 0, 1, 2, 3, ... $, så kan vi hente ut de $p + 1$ første siffrene i $\\pi$.\n",
    "\n",
    "Din oppgave er å skrive en kode som simulerer denne prosessen og genererer de første siffrene i $\\pi$."
   ]
  },
  {
   "cell_type": "markdown",
   "id": "911403e6",
   "metadata": {},
   "source": [
    "## Bakgrunnsteori\n",
    "\n",
    "Anta vi plasserer en vegg med uendelig masse i origo ($x = 0$). Så plasserer vi den lette klossen med masse $m$ ved en posisjon $x = x_0$ og den tyngre klossen med masse $M$ ved $X = X_0$, der $X_0 > x_0$. \n",
    "\n",
    "Anta at kloss $m$ har hastighet $v$ og kloss $M$ har hastighet $V$ før en kollisjon. Etter kollisjonen vil kloss $m$ ha hastighet $v'$ og kloss $M$ vil ha hastighet $V'$, gitt ved følgende uttrykk:\n",
    "\n",
    "$$\n",
    "v' = \\frac{m - M}{m + M} v + \\frac{2M}{m + M} V,\n",
    "$$\n",
    "\n",
    "og\n",
    "\n",
    "$$\n",
    "V' = \\frac{2m}{m + M} v + \\frac{M - m}{m + M} V.\n",
    "$$\n",
    "\n",
    "Vi kan bruke disse uttrykkene til å simulere kollisjonene.\n",
    "\n",
    "Videre, dersom kloss $m$ treffer veggen, så vil den reflekteres, men ha uendret hastighet slik at $v' = -v$."
   ]
  },
  {
   "cell_type": "markdown",
   "id": "983b6dd2",
   "metadata": {},
   "source": [
    "## Oppgave 0 (frivillig, men lærerik)\n",
    "\n",
    "Utled formlene for $v'$ og $V'$ ved å ta utgangspunkt i at det er en *elastisk kollisjon* slik at både bevegelsesmengde og kinetisk energi er bevart for totalsystemet."
   ]
  },
  {
   "cell_type": "markdown",
   "id": "78c3d8c6",
   "metadata": {},
   "source": [
    "## Oppgave 1\n",
    "\n",
    "Skriv en funksjon som tar inn hastighetene $v$ og $V$, og massene $m$ og $M$, og returnerer de nye hastighetene $v'$ og $V'$ etter kollisjonen.\n",
    "\n",
    "*Under er et kodeskall for funksjonen. Du må fylle inn alle steder det står* `NotImplemented`."
   ]
  },
  {
   "cell_type": "code",
   "execution_count": null,
   "id": "298be988",
   "metadata": {},
   "outputs": [],
   "source": [
    "def kollisjon(v, V, m, M):\n",
    "    \"\"\"Tar inn hastighetene v og V til to legemer med massene m og M,\n",
    "    og returnerer hastighetene v_neste og V_neste etter kollisjonen.\n",
    "    \"\"\"\n",
    "    v_neste = NotImplemented\n",
    "    V_neste = NotImplemented\n",
    "    return v_neste, V_neste"
   ]
  },
  {
   "cell_type": "markdown",
   "id": "fc103c99",
   "metadata": {},
   "source": [
    "````{dropdown} Løsningsforslag:\n",
    "    \n",
    "```python\n",
    "def kollisjon(v, V, m, M):\n",
    "    v_neste = (m - M) / (m + M) * v + 2*M / (m + M) * V\n",
    "    V_neste = 2*m / (m + M) + (M - m) / (m + M) * V\n",
    "    return v_neste, V_neste\n",
    "```\n",
    "````\n",
    "\n",
    "\n",
    "Du kan kjøre testkoden under for å sjekke at funksjonen din gjør det den skal."
   ]
  },
  {
   "cell_type": "code",
   "execution_count": null,
   "id": "e78e19f0",
   "metadata": {},
   "outputs": [],
   "source": [
    "def test_kollisjon():\n",
    "    \"\"\"Tester kollisjonsfunksjonen for tilfelle der v = 0, V = -1, m = 1, M = 1.\n",
    "    Da skal v_neste = -1 og V_neste = 0. Gir en feilmelding hvis dette ikke stemmer.\n",
    "    \"\"\"\n",
    "    v = 0\n",
    "    V = -1\n",
    "    m = 1\n",
    "    M = 1\n",
    "    v_neste, V_neste = kollisjon(v, V, m, M)\n",
    "    assert v_neste == -1 and V_neste == 0, \"Feil i kollisjon(v, V, m, M). Testen feilet for v = 0, V = -1, m = 1, M = 1.\"\n",
    "\n",
    "    v = 1\n",
    "    V = 0\n",
    "    m = 1\n",
    "    M = 1\n",
    "    v_neste, V_neste = kollisjon(v, V, m, M)\n",
    "    assert v_neste == 0 and V_neste == 1, \"Feil i kollisjon(v, V, m, M). Testen feilet for v = 1, V = 0, m = 1, M = 1.\"\n",
    "test_kollisjon()"
   ]
  },
  {
   "cell_type": "markdown",
   "id": "6fea4f7a",
   "metadata": {},
   "source": [
    "## Oppgave 2\n",
    "\n",
    "Skriv en funksjon som simulerer flere kollisjoner mellom både klossene, og kloss og vegg over tid. Funksjonen skal returnere antall kollisjoner totalt, det vil si antall kollisjoner mellom de to klossene, og antall kollisjoner mellom kloss $m$ og veggen.\n",
    "\n",
    "*Under er et kodeskall for funksjonen. Du må fylle inn alle steder det står* `NotImplemented`"
   ]
  },
  {
   "cell_type": "code",
   "execution_count": null,
   "id": "77dfc1a1",
   "metadata": {},
   "outputs": [],
   "source": [
    "def simuler_kollisjoner(v, V, m, M, dt=0.001):\n",
    "    \"\"\"Simulerer kollisjoner mellom en kloss med masse m og en kloss med masse M,\n",
    "    der klossene har hastighetene v og V ved start. \n",
    "\n",
    "    Argumenter:\n",
    "        v: Hastighet til liten kloss ved start.\n",
    "        V: Hastighet til stor kloss ved start.\n",
    "        m: Masse til liten kloss.\n",
    "        M: Masse til stor kloss.\n",
    "        dt: Tidssteg for simuleringen. Default: 0.001\n",
    "    \n",
    "    Returnerer:\n",
    "        antall_kollisjoner: Antall kollisjoner som har skjedd i løpet av simuleringen.\n",
    "    \"\"\"\n",
    "    x = 0.5 # startposisjon til liten kloss\n",
    "    X = 1 # startposisjon til stor kloss.\n",
    "    antall_kollisjoner = 0\n",
    "\n",
    "    while True: # Kjører helt til vi manuelt bryter ut av løkken med `break`.\n",
    "        # Sjekk om liten kloss treffer veggen og oppdater hastighet hvis den gjør det.\n",
    "        if NotImplemented: # Finn en betingelse for når den lille klossen treffer veggen.\n",
    "            v = NotImplemented # Klossen reflekterer av veggen!\n",
    "            antall_kollisjoner = NotImplemented\n",
    "\n",
    "\n",
    "        # Sjekk om liten kloss og stor kloss kolliderer og oppdater hastighetene hvis de gjør det.\n",
    "        elif NotImplemented: # Finn en betingelse for når klossene kolliderer.\n",
    "            v, V = NotImplemented\n",
    "            antall_kollisjoner = NotImplemented\n",
    "\n",
    "        if NotImplemented: # Finn en betingelse for når klossene aldri lenger vil kollidere.\n",
    "            break\n",
    "        \n",
    "        x = NotImplemented # Oppdater posisjon til liten kloss.\n",
    "        X = NotImplemented # Oppdater posisjon til stor kloss.\n",
    "\n",
    "\n",
    "    return antall_kollisjoner"
   ]
  },
  {
   "cell_type": "markdown",
   "id": "8dab455e",
   "metadata": {},
   "source": [
    "````{dropdown} Løsningsforlag:\n",
    "\n",
    "```python\n",
    "\n",
    "def simuler_kollisjoner(v, V, m, M, dt=0.001):\n",
    "    \"\"\"Simulerer kollisjoner mellom en kloss med masse m og en kloss med masse M,\n",
    "    der klossene har hastighetene v og V ved start. \n",
    "\n",
    "    Argumenter:\n",
    "        v: Hastighet til liten kloss ved start.\n",
    "        V: Hastighet til stor kloss ved start.\n",
    "        m: Masse til liten kloss.\n",
    "        M: Masse til stor kloss.\n",
    "        dt: Tidssteg for simuleringen. Default: 0.001\n",
    "    \n",
    "    Returnerer:\n",
    "        antall_kollisjoner: Antall kollisjoner som har skjedd i løpet av simuleringen.\n",
    "    \"\"\"\n",
    "    x = 0.5 # startposisjon til liten kloss\n",
    "    X = 1 # startposisjon til stor kloss.\n",
    "    antall_kollisjoner = 0\n",
    "\n",
    "    while True: # Kjører helt til vi manuelt bryter ut av løkken med `break`.\n",
    "        # Sjekk om liten kloss treffer veggen og oppdater hastighet hvis den gjør det.\n",
    "        if x < 0: # når x < 0, har den lille klossen gått inn i veggen, så vi må snu den rundt! \n",
    "            v = -v # Klossen reflekterer av veggen!\n",
    "            antall_kollisjoner += 1\n",
    "\n",
    "\n",
    "        # Sjekk om liten kloss og stor kloss kolliderer og oppdater hastighetene hvis de gjør det.\n",
    "        elif X < x: # Dersom X < x, har stor kloss passert gjennom liten kloss. Dette er en kollisjon!\n",
    "            v, V = kollisjon(v, V, m, M)\n",
    "            antall_kollisjoner += 1\n",
    "\n",
    "        if v >= 0 and V >= 0 and V >= v: # Klossene kan aldri lenger treffe hverandre. Vi avslutter simuleringen.\n",
    "            break\n",
    "        \n",
    "        x = x + v * dt # Oppdater posisjon til liten kloss. x = x + v * dt\n",
    "        X = X + V * dt # Oppdater posisjonen til stor kloss.\n",
    "\n",
    "\n",
    "    return antall_kollisjoner\n",
    "\n",
    "```\n",
    "\n",
    "````\n",
    "\n",
    "Du kan kjøre kodecellen under for å sjekke at koden din fungerer som den skal!"
   ]
  },
  {
   "cell_type": "code",
   "execution_count": null,
   "id": "677c10af",
   "metadata": {},
   "outputs": [],
   "source": [
    "def test_simuler_kollisjoner():\n",
    "    antall_kollisjoner = simuler_kollisjoner(v=0, V=-1, m=1, M=1, dt=0.001, max_tid=10)\n",
    "    if antall_kollisjoner != 3:\n",
    "        raise ValueError(\n",
    "        f\"\"\"\n",
    "        Feil i simuler_kollisjoner(v, V, m, M, dt, max_tid). Testen feilet for v = 0, V = -1, m = 1, M = 1.\n",
    "        Antall kollisjoner skulle vært 3, men koden din returnerte {antall_kollisjoner}\n",
    "        \"\"\"\n",
    "        )\n",
    "\n",
    "    antall_kollisjoner = simuler_kollisjoner(v=0, V=-1, m=1, M=100, dt=0.001, max_tid=10)\n",
    "    if antall_kollisjoner != 31:\n",
    "        raise ValueError(f\"Antall kollisjoner skulle vært 31 når m=1 og M=100. Koden din returnerte {antall_kollisjoner}.\")\n",
    "    \n",
    "    antall_kollisjoner = simuler_kollisjoner(v=0, V=-1, m=1, M=100**2, dt=0.001, max_tid=10)\n",
    "    if antall_kollisjoner != 314:\n",
    "        raise ValueError(f\"Antall kollisjoner skulle vært 314 når m=1 og M=100**2. Koden din returnerte {antall_kollisjoner}.\")\n",
    "        \n",
    "    print(\"Funksjonen din fungerer som den skal.\")\n",
    "test_simuler_kollisjoner()"
   ]
  }
 ],
 "metadata": {
  "jupytext": {
   "text_representation": {
    "extension": ".md",
    "format_name": "myst",
    "format_version": 0.13,
    "jupytext_version": "1.14.5"
   }
  },
  "kernelspec": {
   "display_name": "Python 3",
   "language": "python",
   "name": "python3"
  },
  "source_map": [
   12,
   16,
   26,
   48,
   54,
   62,
   70,
   85,
   104,
   112,
   151,
   202
  ]
 },
 "nbformat": 4,
 "nbformat_minor": 5
}