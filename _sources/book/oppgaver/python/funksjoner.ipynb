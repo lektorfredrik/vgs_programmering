{
 "cells": [
  {
   "attachments": {},
   "cell_type": "markdown",
   "metadata": {},
   "source": [
    "# Lage Funksjoner med Python\n",
    "\n"
   ]
  },
  {
   "attachments": {},
   "cell_type": "markdown",
   "metadata": {},
   "source": [
    "## Oppgaver\n"
   ]
  },
  {
   "attachments": {},
   "cell_type": "markdown",
   "metadata": {},
   "source": [
    "### Oppgave 1\n",
    "\n",
    "Lag en python funksjon for funksjonen\n",
    "\n",
    "$$\n",
    "f(x) = 2x + 3.\n",
    "$$\n",
    "\n",
    "*Du kan ta utgangspunkt i kodeskallet under. Du må fylle inn delene der det står `NotImplemented`*"
   ]
  },
  {
   "cell_type": "code",
   "execution_count": null,
   "metadata": {},
   "outputs": [],
   "source": [
    "def f(x):\n",
    "    return NotImplemented"
   ]
  },
  {
   "cell_type": "code",
   "execution_count": null,
   "metadata": {},
   "outputs": [],
   "source": [
    "def test_f():\n",
    "    x = 2\n",
    "    forventet_verdi = 7\n",
    "    if f(x) != forventet_verdi:\n",
    "        raise ValueError(\"Det er noe galt med funksjonen f(x). Den skal returnere 7 når x=2.\")\n",
    "test_f()"
   ]
  },
  {
   "attachments": {},
   "cell_type": "markdown",
   "metadata": {},
   "source": [
    "### Oppgave 2\n",
    "\n",
    "Lag en Python funksjon for funksjonen\n",
    "\n",
    "$$\n",
    "g(x) = x^2 - 2x + 1.\n",
    "$$\n",
    "\n",
    "*Du kan ta utgangspunkt i kodeskallet under. Du må fylle inn delene der det står `NotImplemented`*"
   ]
  },
  {
   "cell_type": "code",
   "execution_count": null,
   "metadata": {},
   "outputs": [],
   "source": [
    "def g(x):\n",
    "    return NotImplemented"
   ]
  },
  {
   "cell_type": "code",
   "execution_count": null,
   "metadata": {},
   "outputs": [],
   "source": [
    "def test_g():\n",
    "    x = 1\n",
    "    forventet_verdi = 2\n",
    "    if g(x) != forventet_verdi:\n",
    "        raise ValueError(\"Det er noe galt med funksjonen g(x). Den skal returnere 2 når x=1.\")\n",
    "test_g()"
   ]
  },
  {
   "attachments": {},
   "cell_type": "markdown",
   "metadata": {},
   "source": [
    "### Oppgave 3\n",
    "\n",
    "Lag en Python funksjon for funksjonen\n",
    "\n",
    "$$\n",
    "h(x) = \\frac{e^x - 1}{x + 1}.\n",
    "$$\n",
    "\n",
    "\n",
    "*Du kan ta utgangspunkt i kodeskallet under. Du må fylle inn delene der det står `NotImplemented`*"
   ]
  },
  {
   "cell_type": "code",
   "execution_count": null,
   "metadata": {},
   "outputs": [],
   "source": [
    "import math # Trengs for å bruke eksponentialfunksjonen.\n",
    "\n",
    "def h(NotImplemented):\n",
    "    return NotImplemented"
   ]
  },
  {
   "cell_type": "code",
   "execution_count": null,
   "metadata": {},
   "outputs": [],
   "source": [
    "def test_h():\n",
    "    x = 0\n",
    "    forventet_verdi = 0\n",
    "    if h(x) != forventet_verdi:\n",
    "        raise ValueError(\"Det er noe galt med funksjonen h(x). Den skal returnere 0 når x=0.\")\n",
    "test_h()"
   ]
  }
 ],
 "metadata": {
  "language_info": {
   "name": "python"
  },
  "orig_nbformat": 4
 },
 "nbformat": 4,
 "nbformat_minor": 2
}
