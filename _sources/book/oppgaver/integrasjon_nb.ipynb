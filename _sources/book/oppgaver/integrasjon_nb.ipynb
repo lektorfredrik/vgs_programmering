{
 "cells": [
  {
   "attachments": {},
   "cell_type": "markdown",
   "metadata": {},
   "source": [
    "# Oppgaver: Numerisk Integrasjon"
   ]
  },
  {
   "attachments": {},
   "cell_type": "markdown",
   "metadata": {},
   "source": [
    "## Oppgave 1\n",
    "\n",
    "Bruk trapesmetoden til å regne ut en tilnærming til integralet\n",
    "\n",
    "$$\n",
    "I = \\int\\limits_0^1 \\frac{4}{1+x^2} \\, dx\n",
    "$$"
   ]
  },
  {
   "cell_type": "code",
   "execution_count": null,
   "metadata": {},
   "outputs": [],
   "source": [
    "def f(x):\n",
    "    return NotImplemented\n",
    "\n",
    "\n",
    "def trapesmetoden(f, a, b, n):\n",
    "    return NotImplemented\n",
    "\n",
    "\n",
    "integral = trapesmetoden(f=f, a=0, b=1, n=10000) # Eksempel på funksjonskall når koden er ferdig."
   ]
  },
  {
   "attachments": {},
   "cell_type": "markdown",
   "metadata": {},
   "source": [
    "## Oppgave 2\n",
    "\n",
    "Bruk midtpunktsmetoden til å regne ut en tilnærming til integralet\n",
    "\n",
    "$$\n",
    "I = \\int\\limits_0^\\infty e^{-x} \\, dx\n",
    "$$\n",
    "\n",
    "*Du kan ikke faktisk bruke $\\infty$ som øvre grense i Python. I stedet er det tilstrekkelig å sette den øvre grensen på integralet til et stort tall, for eksempel 1000.*"
   ]
  },
  {
   "cell_type": "code",
   "execution_count": null,
   "metadata": {},
   "outputs": [],
   "source": [
    "def f(x):\n",
    "    return NotImplemented\n",
    "\n",
    "def midtpunktsmetoden(f, a, b, n):\n",
    "    return NotImplemented\n",
    "\n",
    "integral = midtpunktsmetoden(f=f, a=0, b=1000, n=10000) # eksempel på funksjonskall\n"
   ]
  }
 ],
 "metadata": {
  "language_info": {
   "name": "python"
  },
  "orig_nbformat": 4
 },
 "nbformat": 4,
 "nbformat_minor": 2
}
