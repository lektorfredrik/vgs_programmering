{
 "cells": [
  {
   "attachments": {},
   "cell_type": "markdown",
   "metadata": {},
   "source": [
    "# Trapesmetoden\n",
    "En av de enkleste metodene for å finne tilnærmede verdier til bestemte integraler er **trapesmetoden**. Vi tenker oss at vi har en funksjon $f$ og skal regne ut integralet\n",
    "\n",
    "$$\n",
    "I = \\int\\limits_a^b f(x) \\, dx.\n",
    "$$\n",
    "\n",
    "Tanken bak metoden er \n",
    "1. Vi deler opp intervallet $[a, b]$ i $n$ like store delintervaller, slik at vi får delintervallene $[x_0, x_1]$, $[x_1, x_2]$, ..., $[x_{n-1}, x_n]$.\n",
    "2. Vi kaller lengden til hvert delintervall for $h$. Da er $h = \\frac{b - a}{n}$. Vi kaller også $x_0 = a$ og $x_n = b$. \n",
    "3. Vi regner ut arealet av trapesene som er avgrenset av grafen til $f$ og de to linjene $x = x_i$ og $x = x_{i+1}$ for hvert delintervall. Vi kaller disse arealene for $S_i$.\n",
    "\n",
    "Se {numref}`trapesmetoden` for en illustrasjon av trapesmetoden. Her spiller $h = x_{i+1} - x_i$ rollen som \"høyden\" i hvert trapes, mens $f(x_i)$ og $f(x_{i+1})$ spiller rollen som \"sidelengdene\".\n",
    "\n",
    "Tilnærmingen til integralet blir da\n",
    "\n",
    "$$\n",
    "\\int\\limits_a^b f(x) \\, dx \\approx \\sum\\limits_{i=0}^{n-1} S_i = \\sum\\limits_{i=0}^{n-1} \\frac{f(x_i) + f(x_{i+1})}{2}h.\n",
    "$$\n",
    "\n",
    "Denne formelen kan vi skrive om litt smartere, så vi ikke regner ut $f(x_i)$ og $f(x_{i+1})$ to ganger. I oppgavene skal du vise at uttrykket kan skrives om til:\n",
    "\n",
    "$$\n",
    "\\int\\limits_a^b f(x) \\, dx \\approx h \\frac{f(a) + f(b)}{2} + h\\sum_{i=1}^{n-2} f(x_i).\n",
    "$$\n",
    "\n",
    "Hovedresultatet vårt blir altså\n",
    "\n",
    "```{prf:theorem} Trapesmetoden\n",
    ":nonumber:\n",
    "\n",
    "Integralet $\\int\\limits_a^b f(x) \\, dx$ kan tilnærmes med\n",
    "\n",
    "$$\n",
    "\\int\\limits_a^b f(x) \\, dx \\approx h \\frac{f(a) + f(b)}{2} + h\\sum_{i=1}^{n-2} f(x_i).\n",
    "$$\n",
    "\n",
    "der $a$ og $b$ er start- og sluttpunktene til intervallet vi integrerer over, og $h = \\frac{b - a}{n}$ er bredden på hvert intervall kalt steglengden.\n",
    "\n",
    "```\n",
    "\n",
    "\n",
    "Vi kan oppsummere med en algoritme:\n",
    "\n",
    "```{prf:algorithm} Trapesmetoden\n",
    ":label: trapesmetoden\n",
    "__Input__: $f$, $a$, $b$, $n$\n",
    "\n",
    "__Output__: Tilnærming til integralet $\\int\\limits_a^b f(x) \\, dx$\n",
    "\n",
    "\n",
    "1. Sett $h = \\frac{b - a}{n}$.\n",
    "2. Sett $I = 0$.\n",
    "3. For $i = 1,2,\\ldots, n-1$:\n",
    "    1. Sett $x = a + ih$.\n",
    "    2. Sett $I = I + f(x)$.\n",
    "4. Sett $I = h \\frac{f(a) + f(b)}{2} + hI$.\n",
    "5. Returner $I$.\n",
    "```\n",
    "\n",
    "\n",
    "```{figure} ./figurer/Integration_num_trapezes_notation.svg\n",
    "---\n",
    "name: trapesmetoden\n",
    "---\n",
    "Figuren viser en graf av en funksjon $f$ og trapesene som er avgrenset av grafen til $f$ og de to linjene $x = x_i$ og $x = x_{i+1}$ for hvert delintervall. Figuren er hentet fra [Wikimedia Commons](https://en.wikipedia.org/wiki/Trapezoidal_rule#/media/File:Integration_num_trapezes_notation.svg).\n",
    "```\n",
    "\n",
    "\n",
    "````{admonition} Repetisjon: Arealet av et trapes\n",
    ":class: tip, dropdown\n",
    "\n",
    "Påminnelse om hva arealet av et trapes er gitt ved. Det finner vi med formelen\n",
    "$\n",
    "A = \\frac{a + b}{2}h\n",
    "$\n",
    "der $h$ er høyden til trapeset, og $a$ og $b$ er sidelengdene. I {numref}`trapes` ser du et trapes med høyde $h$ og sidelengder $a$ og $b$ for referanse.\n",
    "\n",
    "```{figure} ./figurer/Trapezoid.svg\n",
    "---\n",
    "name: trapes\n",
    "---\n",
    "Figuren viser et trapes med høyde $h$ og sidelengder $a$ og $b$. Figuren er hentet fra [Wikimedia Commons](https://en.wikipedia.org/wiki/Trapezoid#/media/File:Trapezoid.svg).\n",
    "\n",
    "```\n",
    "````"
   ]
  },
  {
   "attachments": {},
   "cell_type": "markdown",
   "metadata": {},
   "source": [
    "## Eksempler"
   ]
  },
  {
   "attachments": {},
   "cell_type": "markdown",
   "metadata": {},
   "source": [
    "### Eksempel 1\n",
    "\n",
    "Vi skal regne ut en tilnærming til integralet\n",
    "\n",
    "$$\n",
    "I = \\int\\limits_0^2 x^2 \\, dx,\n",
    "$$\n",
    "\n",
    "ved å bruke trapesmetoden. Følger vi {prf:ref}`trapesmetoden` slavisk, kan vi skrive en Pythonkode på følgende form:"
   ]
  },
  {
   "cell_type": "code",
   "execution_count": 16,
   "metadata": {},
   "outputs": [
    {
     "name": "stdout",
     "output_type": "stream",
     "text": [
      "I = 2.6667\n"
     ]
    }
   ],
   "source": [
    "def f(x):\n",
    "    return x**2\n",
    "\n",
    "a = 0\n",
    "b = 2\n",
    "N = 1000\n",
    "h = (b-a)/N\n",
    "I = 0\n",
    "\n",
    "for i in range(N):\n",
    "    x = a + i*h\n",
    "    I += f(x)\n",
    "\n",
    "I += 0.5 * (f(a)+f(b))\n",
    "I *= h\n",
    "\n",
    "print(f\"{I = :.4f}\")"
   ]
  },
  {
   "attachments": {},
   "cell_type": "markdown",
   "metadata": {},
   "source": [
    "### Eksempel 2\n",
    "\n",
    "Vi skal regne ut en tilnærming til integralet\n",
    "\n",
    "$$\n",
    "\\int_0^1 \\frac{4}{1 + x^2} \\, dx,\n",
    "$$\n",
    "\n",
    "ved å bruke trapesmetoden. Følger vi {prf:ref}`trapesmetoden` igjen, kan vi koden slik:\n"
   ]
  },
  {
   "cell_type": "code",
   "execution_count": 18,
   "metadata": {},
   "outputs": [
    {
     "name": "stdout",
     "output_type": "stream",
     "text": [
      "I = 3.1456\n"
     ]
    }
   ],
   "source": [
    "def f(x):\n",
    "    return 4/(1+x**2)\n",
    "\n",
    "a = 0\n",
    "b = 1\n",
    "N = 1000\n",
    "h = (b-a)/N\n",
    "I = 0\n",
    "\n",
    "for i in range(N):\n",
    "    x = a + i*h\n",
    "    I += f(x)\n",
    "\n",
    "I += 0.5 * (f(a)+f(b))\n",
    "I *= h\n",
    "\n",
    "print(f\"{I = :.4f}\")"
   ]
  },
  {
   "attachments": {},
   "cell_type": "markdown",
   "metadata": {},
   "source": [
    "## Øvingsoppgaver"
   ]
  },
  {
   "attachments": {},
   "cell_type": "markdown",
   "metadata": {},
   "source": [
    "### Oppgave 0 \n",
    "\n",
    "Vis at vi kan skrive formelen for tilnærmingen til integralet som\n",
    "\n",
    "$$\n",
    "\\int_a^b f(x) \\, dx \\approx h \\frac{f(a) + f(b)}{2} + h\\sum_{i=1}^{n-2} f(x_i),\n",
    "$$\n",
    "\n",
    "ved å starte fra summen\n",
    "\n",
    "$$\n",
    "\\int\\limits_a^b f(x) \\, dx \\approx \\sum\\limits_{i=0}^{n-1} \\frac{f(x_i) + f(x_{i+1})}{2}h.\n",
    "$$"
   ]
  },
  {
   "attachments": {},
   "cell_type": "markdown",
   "metadata": {},
   "source": [
    "````{dropdown} Løsningsforslag\n",
    "\n",
    "Vi starter fra summen\n",
    "\n",
    "\\begin{align}\n",
    "\\int\\limits_a^b f(x) \\, dx & \\approx \\sum_{i=0}^{n - 1}\\frac{f(x_i) + f(x_{i+1})}{2}h \\\\\n",
    "& = \\frac{h}{2}\\left(f(x_0) + f(x_1) + f(x_1) + f(x_2) + \\ldots + f(x_{n-3}) + f(x_{n-2}) + f(x_{n-2}) + f(x_{n-1}) \\right) \\\\\n",
    "& = \\frac{h}{2}\\left(f(x_0) + 2f(x_1) + 2f(x_2) + \\ldots + 2f(x_{n-3}) + 2f(x_{n-2}) + f(x_{n-1}) \\right) \\\\\n",
    "& = h\\frac{f(x_0) + f(x_{n-1})}{2} + h\\left(f(x_1) + f(x_2) + \\ldots + f(x_{n-3}) + f(x_{n-2}) \\right) \\\\\n",
    "& = h\\frac{f(a) + f(b)}{2} + h\\sum_{i=1}^{n-2} f(x_i),\n",
    "\\end{align}\n",
    "\n",
    "der vi i siste overgang brukte at $x_0 = a$ og $x_{n-1} = b$.\n",
    "\n",
    "````"
   ]
  },
  {
   "attachments": {},
   "cell_type": "markdown",
   "metadata": {},
   "source": [
    "### Oppgave 1"
   ]
  },
  {
   "attachments": {},
   "cell_type": "markdown",
   "metadata": {},
   "source": [
    "Bruk {prf:ref}`trapesmetoden` til å tilnærme integralet\n",
    "\n",
    "$$\n",
    "I = \\int\\limits_0^1 e^{-x^2} \\, dx.\n",
    "$$\n",
    "\n",
    "*Du kan ta utgangspunkt i kodeskallet under. Du må fylle inn der det står `NotImplemented`. Det kan hende du må legge til noen linjer med kode.*"
   ]
  },
  {
   "cell_type": "code",
   "execution_count": null,
   "metadata": {},
   "outputs": [],
   "source": [
    "import math # Trengs for å bruke eksponentialfunksjonen\n",
    "def f(x):\n",
    "    return NotImplemented\n",
    "\n",
    "a = NotImplemented\n",
    "b = NotImplemented\n",
    "N = NotImplemented\n",
    "h = NotImplemented\n",
    "I = 0\n",
    "\n",
    "for i in NotImplemented:\n",
    "    x = NotImplemented\n",
    "    I = NotImplemented\n",
    "\n",
    "I = NotImplemented\n",
    "print(f\"{I =:.4f}\")"
   ]
  },
  {
   "attachments": {},
   "cell_type": "markdown",
   "metadata": {},
   "source": [
    "````{dropdown}\n",
    "\n",
    "\n",
    "```python\n",
    "import math # Trengs for å bruke eksponentialfunksjonen\n",
    "def f(x):\n",
    "    return math.exp(-x**2)\n",
    "\n",
    "a = 0\n",
    "b = 1\n",
    "N = 10_000\n",
    "h = (b-a)/N\n",
    "I = 0\n",
    "\n",
    "for i in range(1, N-1):\n",
    "    x = a + i*h\n",
    "    I = I + f(x)\n",
    "\n",
    "I += 0.5*(f(a) + f(b))\n",
    "I *= h\n",
    "\n",
    "print(f\"{I =:.4f}\")\n",
    "```\n",
    "\n",
    "som gir utskriften \n",
    "\n",
    "```console \n",
    "I =0.7468\n",
    "```\n",
    "\n",
    "````"
   ]
  }
 ],
 "metadata": {
  "kernelspec": {
   "display_name": "Python 3",
   "language": "python",
   "name": "python3"
  },
  "language_info": {
   "codemirror_mode": {
    "name": "ipython",
    "version": 3
   },
   "file_extension": ".py",
   "mimetype": "text/x-python",
   "name": "python",
   "nbconvert_exporter": "python",
   "pygments_lexer": "ipython3",
   "version": "3.11.4"
  },
  "orig_nbformat": 4
 },
 "nbformat": 4,
 "nbformat_minor": 2
}
