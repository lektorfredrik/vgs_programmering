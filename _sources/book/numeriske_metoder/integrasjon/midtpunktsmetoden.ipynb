{
 "cells": [
  {
   "attachments": {},
   "cell_type": "markdown",
   "metadata": {},
   "source": [
    "# Midtpunktsmetoden\n",
    "\n",
    "I denne seksjonen skal vi se på en annen måte å tilnærme verdien til et integral på formen\n",
    "\n",
    "$$\n",
    "I = \\int\\limits_a^b f(x) \\, dx,\n",
    "$$\n",
    "\n",
    "men metode som kalles for **midtpunktsmetoden**. Midtpunktsmetoden er en metode for å tilnærme integralet med arealet av rektangler der man bruker funksjonsverdien i midtpunktet på hvert intervall som høydene til rektanglene. \n",
    "\n",
    "```{admonition} Midtpunktsmetoden vs. trapesmetoden\n",
    ":class: tip, dropdown\n",
    "\n",
    "Midtpunktsmetoden har mange likheter med trapesmetoden. Forskjellen ligger i hvordan selve arealet regnes ut. I midtpunktsmetoden regner vi ut arealet av rektangler, mens vi i trapesmetoden regner ut arealet av trapeser. Det som gjør midtpunktsmetoden god, er måten man velger ut høyden i rektanglene. Generelt sett, er midtpunktsmetoden mer nøyaktig enn trapesmetoden!\n",
    "```\n",
    "\n",
    "Ingrediensene i midtpunktsmetoden er:\n",
    "\n",
    "1. Del opp intervallet $[a, b]$ i $n$ delintervaller $[x_0, x_1]$, $[x_1, x_2]$, ..., $[x_{n-1}, x_n]$ med bredde $h = (b - a) / n$.\n",
    "2. Regn ut $f$ i midtpunktet til hvert delintervall. Vi kaller disse verdiene for $f(x_{i+1/2})$, der $x_{i + 1/2} = a + (i + 1/2)h$.\n",
    "3. Regn ut arealet av rektangel $i$ med høyde $f(x_{i+1/2})$ og bredde $h$. Vi kaller disse arealene for $S_i$.\n",
    "4. Summer opp arealene som en tilnærming til integralet $I$.\n",
    "\n",
    "Tilnærmingen til integralet blir da\n",
    "\n",
    "$$\n",
    "I = \\int\\limits_a^b f(x) \\, dx \\approx \\sum\\limits_{i=0}^{n-1} S_i = \\sum\\limits_{i=0}^{n-1} f(x_{i+1/2})h = h\\sum_{i=1}^{n-1} f(x_{i+1/2}).\n",
    "$$\n",
    "\n",
    "Hovedresultatet vårt er derfor\n",
    "\n",
    "```{prf:theorem} Midtpunktsmetoden\n",
    ":label: theorem-midtpunktsmetoden\n",
    "\n",
    "En tilnærming til integralet $I = \\int\\limits_a^b f(x) \\, dx$ med midtpunktsmetoden er\n",
    "er gitt ved\n",
    "\n",
    "$$\n",
    "\\int\\limits_a^b f(x) \\, dx \\approx h\\sum_{i=1}^{n-1} f(x_{i+1/2}),\n",
    "$$\n",
    "\n",
    "der $n$ er antall delintervaller og $h = (b - a) / n$ er bredden på hvert intervall kalt steglengden.\n",
    "```\n",
    "\n",
    "\n",
    "En algoritme for midtpunksmetoden er gitt ved {prf:ref}`algo-midtpunktsmetoden`.\n",
    "\n",
    "```{prf:algorithm} Midtpunktsmetoden\n",
    ":label: algo-midtpunktsmetoden\n",
    "\n",
    "**Input**: $a$, $b$, $n$, $f$.\n",
    "\n",
    "**Output**: Tilnærmingen til integralet $I$.\n",
    "\n",
    "1. Regn ut $h = (b - a) / n$.\n",
    "2. Sett $I = 0$.\n",
    "3. For $i = 0, 1, 2, ..., n-1$:\n",
    "    1. $x_{i+1/2} = a + (i + 1/2)h$.\n",
    "    2. $S = f(x_{i+1/2})$.\n",
    "    3. $I = I + f(x_{i + 1/2})$\n",
    "4. $I = I \\cdot h$\n",
    "5. Returner $I$.\n",
    "```"
   ]
  },
  {
   "attachments": {},
   "cell_type": "markdown",
   "metadata": {},
   "source": [
    "## Eksempler"
   ]
  },
  {
   "attachments": {},
   "cell_type": "markdown",
   "metadata": {},
   "source": [
    "### Eksempel 1\n",
    "\n",
    "Vi skal tilnærme integralet\n",
    "\n",
    "$$\n",
    "I = \\int\\limits_0^1 x^3 \\, dx \n",
    "$$\n",
    "\n",
    "med midtpunktsmetoden. Følger vi {prf:ref}`algo-midtpunktsmetoden`, kan vi skrive koden slik:"
   ]
  },
  {
   "cell_type": "code",
   "execution_count": 4,
   "metadata": {},
   "outputs": [
    {
     "name": "stdout",
     "output_type": "stream",
     "text": [
      "I = 0.24999999875000015\n"
     ]
    }
   ],
   "source": [
    "def f(x):\n",
    "    return x**3\n",
    "\n",
    "a = 0\n",
    "b = 1\n",
    "N = 10_000 # antall delintervaller\n",
    "h = (b-a)/N # steglengde\n",
    "I = 0 # integral\n",
    "for i in range(N):\n",
    "    x = a + (i+0.5)*h # midtpunktet i delintervallet\n",
    "    I += f(x) # legger til bidraget fra delintervallet, men venter med å gange inn h\n",
    "\n",
    "I *= h # ganger med steglengden på hvert intervall for å få arealer\n",
    "\n",
    "print(f\"{I = }\")"
   ]
  },
  {
   "attachments": {},
   "cell_type": "markdown",
   "metadata": {},
   "source": [
    "### Eksempel 2:\n",
    "\n",
    "Vi skal tilnærme integralet\n",
    "\n",
    "$$\n",
    "I = \\int\\limits_{-1}^1 e^{-x^2} \\, dx\n",
    "$$\n",
    "\n",
    "ved å bruke midtpunktsmetoden. Her også følger vi bare {prf:ref}`algo-midtpunktsmetoden`:"
   ]
  },
  {
   "cell_type": "code",
   "execution_count": 7,
   "metadata": {},
   "outputs": [
    {
     "name": "stdout",
     "output_type": "stream",
     "text": [
      "I = 1.493648268077381\n"
     ]
    }
   ],
   "source": [
    "import math\n",
    "def f(x):\n",
    "    return math.exp(-x**2)\n",
    "\n",
    "a = -1\n",
    "b = 1\n",
    "N = 10_000 # antall delintervaller\n",
    "h = (b-a)/N # steglengde\n",
    "I = 0 # integral\n",
    "for i in range(N):\n",
    "    x = a + (i+0.5)*h # midtpunktet i delintervallet\n",
    "    I += f(x)\n",
    "\n",
    "I *= h # ganger med steglengden på hvert intervall for å få arealer\n",
    "\n",
    "print(f\"{I = }\")"
   ]
  },
  {
   "attachments": {},
   "cell_type": "markdown",
   "metadata": {},
   "source": [
    "## Øvingsoppgaver"
   ]
  },
  {
   "attachments": {},
   "cell_type": "markdown",
   "metadata": {},
   "source": [
    "### Oppgave 1\n",
    "\n",
    "Bruk {prf:ref}`algo-midtpunktsmetoden` til å tilnærme integralet\n",
    "\n",
    "$$\n",
    "I = \\int\\limits_0^1 x^2 e^{-x} \\, dx.\n",
    "$$\n",
    "\n",
    "*Du kan bruke kodeskallet under. Du må fylle inn der det står `NotImplemented`*."
   ]
  },
  {
   "cell_type": "code",
   "execution_count": null,
   "metadata": {},
   "outputs": [],
   "source": [
    "import math # Trengs for eksponentialfunksjonen!\n",
    "def f(x):\n",
    "    return NotImplemented\n",
    "\n",
    "a = NotImplemented # Venstre endepunkt på [a, b]\n",
    "b = NotImplemented # Høyre endepunkt på [a, b]\n",
    "N = NotImplemented # Antall delintervaller\n",
    "h = NotImplemented # Steglengde\n",
    "\n",
    "I = 0 # Integral\n",
    "for i in NotImplemented:\n",
    "    x = NotImplemented # Midtpunktet i delintervallet\n",
    "    I += NotImplemented\n",
    "\n",
    "I *= NotImplemented # Gange steglengden med summen av bidragene fra delintervallene\n",
    "\n",
    "print(f\"{I = }\")"
   ]
  },
  {
   "attachments": {},
   "cell_type": "markdown",
   "metadata": {},
   "source": [
    "````{dropdown} Løsningsforslag\n",
    "\n",
    "En Pythonkode som implementerer midtpunktsmetoden for å tilnærme integralet er gitt ved:\n",
    "```python\n",
    "import math # Trengs for eksponentialfunksjonen!\n",
    "def f(x):\n",
    "    return x**2 * math.exp(-x)\n",
    "\n",
    "a = 0\n",
    "b = 1\n",
    "N = 10_000\n",
    "h = (b-a)/N\n",
    "\n",
    "I = 0 # Integral\n",
    "for i in range(N):\n",
    "    x = a + (i + 0.5)*h \n",
    "    I += f(x)\n",
    "\n",
    "I *= h \n",
    "\n",
    "print(f\"{I = }\")\n",
    "```\n",
    "\n",
    "som gir resultatet\n",
    "\n",
    "```console\n",
    "I = 0.16060279398950608\n",
    "```\n",
    "\n",
    "````"
   ]
  },
  {
   "attachments": {},
   "cell_type": "markdown",
   "metadata": {},
   "source": [
    "### Oppgave 2"
   ]
  },
  {
   "attachments": {},
   "cell_type": "markdown",
   "metadata": {},
   "source": [
    "Bruk {prf:ref}`algo-midtpunktsmetoden` til å tilnærme integralet\n",
    "\n",
    "$$\n",
    "I = \\int_0^1 \\frac{4}{1 + x^2} \\, dx.\n",
    "$$\n",
    "\n",
    "*Du kan bruke kodeskallet under til å løse oppgaven. Du må fylle inn der det står `NotImplemented`. Det kan være du må legge til linjer med kode også.*"
   ]
  },
  {
   "cell_type": "code",
   "execution_count": null,
   "metadata": {},
   "outputs": [],
   "source": [
    "def f(x):\n",
    "    return NotImplemented\n",
    "\n",
    "a = NotImplemented # Venstre endepunkt på [a, b]\n",
    "b = NotImplemented # Høyre endepunkt på [a, b]\n",
    "N = NotImplemented # Antall delintervaller\n",
    "h = NotImplemented # Steglengde\n",
    "for i in NotImplemented:\n",
    "    x = NotImplemented # Midtpunktet i delintervallet\n",
    "    I = NotImplemented\n",
    "\n",
    "print(f\"{I = }\")"
   ]
  },
  {
   "attachments": {},
   "cell_type": "markdown",
   "metadata": {},
   "source": [
    "````{dropdown} Løsningsforslag\n",
    "\n",
    "En Pythonkode som implementerer midtpunktsmetoden for å tilnærme integralet er gitt ved:\n",
    "```python\n",
    "def f(x):\n",
    "    return 4/(1+x**2)\n",
    "\n",
    "a = 0 # Venstre endepunkt på [a, b]\n",
    "b = 1 # Høyre endepunkt på [a, b]\n",
    "N = 10_000 # Antall delintervaller\n",
    "h = (b-a)/N # Steglengde\n",
    "for i in range(N):\n",
    "    x = a + (i + 0.5)*h # Midtpunktet i delintervallet\n",
    "    I = I + f(x)\n",
    "\n",
    "I = I*h\n",
    "print(f\"{I =:.5f}\")\n",
    "```\n",
    "\n",
    "som gir utskriften\n",
    "\n",
    "```console\n",
    "I = 3.14191\n",
    "```\n",
    "\n",
    "som er et tilnærming til det eksakte svaret på $I = \\pi$.\n",
    "\n",
    "````"
   ]
  }
 ],
 "metadata": {
  "kernelspec": {
   "display_name": "Python 3",
   "language": "python",
   "name": "python3"
  },
  "language_info": {
   "codemirror_mode": {
    "name": "ipython",
    "version": 3
   },
   "file_extension": ".py",
   "mimetype": "text/x-python",
   "name": "python",
   "nbconvert_exporter": "python",
   "pygments_lexer": "ipython3",
   "version": "3.11.4"
  },
  "orig_nbformat": 4
 },
 "nbformat": 4,
 "nbformat_minor": 2
}
