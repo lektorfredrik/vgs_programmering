{
 "cells": [
  {
   "attachments": {},
   "cell_type": "markdown",
   "metadata": {},
   "source": [
    "# Praktiske Anvendelser av Rekker"
   ]
  },
  {
   "attachments": {},
   "cell_type": "markdown",
   "metadata": {},
   "source": [
    "Når du lærer om teorien om rekker i matematikk R2 og S2, er praktiske anvendelser en sentral del av teorien. I denne seksjonen skal vi se på hvordan vi kan løse praktiske problemer ved hjelp av programmering av rekkene.\n",
    "\n",
    "Vi skal se på:\n",
    "1. Medikamenter i blodet\n",
    "2. Annuitetslån\n",
    "\n"
   ]
  },
  {
   "attachments": {},
   "cell_type": "markdown",
   "metadata": {},
   "source": [
    "## Medikamenter i blodet\n",
    "\n",
    "En typisk problemstilling handler om at man regelmessig tar en dose $M_0$ av et medikament som brytes ned i kroppen med en fast nedbrytningsrate. Vi kan i praksis finne en formel for dette å evaluere denne formelen for å finne ut hvor mye medikament som er i blodet til enhver tid."
   ]
  },
  {
   "attachments": {},
   "cell_type": "markdown",
   "metadata": {},
   "source": [
    "### Eksempel 1\n",
    "\n",
    "Tenk deg at du tar en dose $M_0 = 400 \\ \\text{mg}$ med Paracet én gang i døgnet. Per time brytes det ned 29 % av virkestoffet i blodplasma. Hva er den største mengden virkestoff du har i kroppen over lang tid? \n",
    "\n",
    "Virkestoffet brytes ned med 29 % per time, som gir en vekstfaktor $V = 1 - 0.29 = 0.71$ per time. En dose vil da ha en vekstfaktor på $V^24$ per døgn (fordi det 24 timer i døgnet). En strategi for å regne ut virkestoffet i kroppen over tid vises i {prf:ref}`paracet_daglig_dose`.\n",
    "\n",
    "```{prf:algorithm} Nedbrytning av virkestoff per døgn\n",
    ":nonumber:\n",
    ":label: paracet_daglig_dose\n",
    "\n",
    "__Input__: Daglig dose $M_0$, nedbrytning i prosent per time $r$, antall døgn $n$.\n",
    "\n",
    "__Output__: Mengde virkestoff i kroppen $M$ etter $n$ døgn.\n",
    "\n",
    "\n",
    "1. Sett $M = M_0$\n",
    "2. Sett $V = 1 - r/100$ \n",
    "2. Sett $k = V^24$ \n",
    "3. For $i = 1, 2, \\ldots, n$:\n",
    "    1. Sett $M = k \\cdot M$ *nedbrytning av virkestoff*\n",
    "    2. Sett $M = M + M_0#  *ny dose*    \n",
    "4. Returner $M$\n",
    "\n",
    "```\n",
    "\n",
    "Vi kan implementere algoritmen med en Pythonkode slik:"
   ]
  },
  {
   "cell_type": "code",
   "execution_count": 7,
   "metadata": {},
   "outputs": [
    {
     "name": "stdout",
     "output_type": "stream",
     "text": [
      "M = 400.11 mg.\n"
     ]
    }
   ],
   "source": [
    "M_0 = 400 # daglig dose i mg.\n",
    "r = 29 # Nedbrytning i prosent per time.\n",
    "vekstfaktor = 1 - r/100 # vekstfaktor per time\n",
    "k = vekstfaktor**24 # vekstfaktor per døgn\n",
    "n = 100 # Antall døgn\n",
    "\n",
    "M = M_0 # startdose ved første døgn\n",
    "for _ in range(n):\n",
    "    M = M * k # nedbrytning av stoffet over ett døgn\n",
    "    M = M + M_0 # Ny dose legges til virkestoffet i kroppen\n",
    "\n",
    "print(f\"{M = :.2f} mg.\") # skriver ut med 2 desimaler"
   ]
  },
  {
   "attachments": {},
   "cell_type": "markdown",
   "metadata": {},
   "source": [
    "### Eksempel 2: En dose av paracet hver 6.time\n",
    "\n",
    "Et mer realistisk eksempel er at man tar to tabletter med paracet hver 6.time som tilsvarer 1000 mg. Nedbrytningen per time er på 29% av dosen. \n",
    "Hva er den største mengden virkestoff du har i kroppen over lang tid?\n",
    "\n",
    "Vi kan modifisere algoritmen litt for å løse dette problemet, som vises i {prf:ref}`paracet_6t`.\n",
    "\n",
    "```{prf:algorithm} Nedbrytning av Paracet ved inntak hver 6.time.\n",
    ":nonumber:\n",
    ":label: paracet_6t\n",
    "\n",
    "__Input__: Dose $M_0$ hver 6.time, nedbrytning i prosent per time $r$, antall døgn $n$.\n",
    "\n",
    "__Output__: Mengde virkestoff i kroppen $M$ etter $n$ døgn.\n",
    "\n",
    "\n",
    "1. Sett $M = M_0$\n",
    "2. Sett $V = 1 - r/100$ \n",
    "3. Sett $k = V^6$ *nedbrytning per 6.time* \n",
    "4. Sett $M = M_0$ *først dose*\n",
    "5. Sett $M_\\text{max} = M$ *Høyeste dose så langt*. \n",
    "6. For $i = 1, 2, \\ldots, n$:\n",
    "    1. Sett $M = k \\cdot M$ *nedbrytning av virkestoff*\n",
    "    2. Sett $M = M + M_0#  *ny dose*    \n",
    "    3. If $M > M_\\text{max}$: *Hvis dosen er nå høyere enn forrige maksdose*\n",
    "        - Sett $M_\\text{max} = M$ *Sett ny maksdose*\n",
    "7. Returner $M_\\text{max}$\n",
    "```\n",
    "\n",
    "Vi kan regne ut dette med følgende kode:"
   ]
  },
  {
   "cell_type": "code",
   "execution_count": 8,
   "metadata": {},
   "outputs": [
    {
     "name": "stdout",
     "output_type": "stream",
     "text": [
      "M_max = 1146.92 mg.\n"
     ]
    }
   ],
   "source": [
    "M0 = 1000 # mg dose per 6.time\n",
    "r = 29 # Nedbrytning i prosent per time.\n",
    "vekstfaktor = 1 - r/100 # vekstfaktor per time\n",
    "k = vekstfaktor**6 # vekstfaktor per 6.time\n",
    "n = 100 # Antall 6.timer\n",
    "\n",
    "M = M0 # startdose ved første 6.time\n",
    "M_max = M \n",
    "for _ in range(n):\n",
    "    M = M * k # nedbrytning av stoffet over ett 6.time\n",
    "    M = M + M0 # Ny dose legges til virkestoffet i kroppen\n",
    "    M_max = max(M, M_max) # henter ut den største verdien av `M` og `M_max`.\n",
    "\n",
    "print(f\"{M_max = :.2f} mg.\") # skriver ut med 2 desimaler"
   ]
  }
 ],
 "metadata": {
  "kernelspec": {
   "display_name": "Python 3",
   "language": "python",
   "name": "python3"
  },
  "language_info": {
   "codemirror_mode": {
    "name": "ipython",
    "version": 3
   },
   "file_extension": ".py",
   "mimetype": "text/x-python",
   "name": "python",
   "nbconvert_exporter": "python",
   "pygments_lexer": "ipython3",
   "version": "3.11.4"
  },
  "orig_nbformat": 4
 },
 "nbformat": 4,
 "nbformat_minor": 2
}
