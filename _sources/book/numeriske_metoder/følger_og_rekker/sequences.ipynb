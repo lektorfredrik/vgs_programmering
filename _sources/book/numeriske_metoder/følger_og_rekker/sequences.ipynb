{
 "cells": [
  {
   "attachments": {},
   "cell_type": "markdown",
   "metadata": {},
   "source": [
    "# Følger og Rekker\n",
    "\n",
    "I matematikken dukker det ofte opp følger. Enten i form av en sekvens med tall eller som ledd i en rekke. Her skal vi se på hvordan vi kan bruke Python til å programmere følger og rekker uten å bruke spesielle summeformler. \n",
    "\n",
    "Kort fortalt er en følge en liste med tall $a_1, a_2, \\ldots, a_n$ og en rekke kan defineres som summen av tallfølgen:\n",
    "\n",
    "$$\n",
    "S = a_1 + a_2 + \\ldots + a_n = \\sum_{i=1}^n a_i,\n",
    "$$\n",
    "\n",
    "der rekken kan ha endelig eller uendelig mange ledd. For at du skal kunne følge temaet her, er du nødt til å vite hva [`for`- og `while`-løkker er](../iterasjon/intro.md)."
   ]
  },
  {
   "attachments": {},
   "cell_type": "markdown",
   "metadata": {},
   "source": [
    "## Eksempler \n",
    "\n",
    "Det er naturlig å gå gjennom dette temaet med eksempler og se på forskjellige strategier vi kan bruke til å programmere en følge. \n",
    "\n",
    "### Eksempel 1: Eksplitt formel for det $n$-te leddet rekka\n",
    "\n",
    "Tenk deg at vi har en aritmetisk rekke på formen\n",
    "\n",
    "$$\n",
    "S = 1 + 3 + 5 + 7 + \\ldots + 99. \n",
    "$$\n",
    "\n",
    "Så lenge vi kan finne en formel for det $n$-te leddet $a_n$ i rekken, kan vi bruke en `for`- eller `while`-løkke til å summere alle leddene. Her er formelen\n",
    "\n",
    "$$\n",
    "a_n = 2n - 1, \\quad n = 1, 2, ...,\n",
    "$$\n",
    "\n",
    "Her har kan vi velge mellom de to løkkene:\n",
    "1. `for`-løkke: Krever at vi *vet* hvor mange ledd det er i rekka.\n",
    "2. `while`-løkke: Krever bare at vi *vet* når vi skal stoppe.\n",
    "\n",
    "Her er det derfor lettest å velge en `while`-løkke, fordi vi trenger bare å stoppe når $a_n > 99$, men vi trenger ikke vite hvilken $n$ det samsvarer med på forhånd. Det kan Python sjekke for oss automatisk. \n",
    "\n",
    "En kode som regner ut summen av rekka er derfor"
   ]
  },
  {
   "cell_type": "code",
   "execution_count": 23,
   "metadata": {},
   "outputs": [
    {
     "name": "stdout",
     "output_type": "stream",
     "text": [
      "s = 2500\n"
     ]
    }
   ],
   "source": [
    "s = 0 # Initialiserer summen\n",
    "n = 1 # Initialiserer n\n",
    "while 2*n - 1 <= 99: # Så lenge 2*n - 1 er mindre eller lik 99\n",
    "    an = 2*n - 1\n",
    "    s = s + an # \n",
    "    n = n + 1 # Øk n med 1\n",
    "    \n",
    "print(f\"{s = }\")"
   ]
  },
  {
   "attachments": {},
   "cell_type": "markdown",
   "metadata": {},
   "source": [
    "````{admonition} Kommentar til koden\n",
    ":class: tip, dropdown\n",
    "\n",
    "Det kan være naturlig å definere en funksjon `a(n)` som regner ut verdien til det `n`-te leddet \n",
    "\n",
    "```python\n",
    "def a(n):\n",
    "    return 2*n - 1\n",
    "```\n",
    "\n",
    "slik at koden blir litt justert:\n",
    "\n",
    "```python\n",
    "s = 0 # Initialiserer summen\n",
    "n = 1 # Initialiserer n\n",
    "while a(n) <= 99: # Så lenge a(n) er mindre eller lik 99\n",
    "    s = s + a(n) # \n",
    "    n = n + 1 # Øk n med 1\n",
    "    \n",
    "print(f\"{s = }\")\n",
    "```\n",
    "\n",
    "````"
   ]
  },
  {
   "attachments": {},
   "cell_type": "markdown",
   "metadata": {},
   "source": [
    "### Eksempel 2: Implisitt formel for det $n$-te leddet.\n",
    "\n",
    "La oss ta for oss en annen rekke som er gitt ved\n",
    "\n",
    "$$\n",
    "S = 1 + \\frac{1}{2} + \\frac{1}{4} + \\frac{1}{8} + \\ldots + \\frac{1}{2048}\n",
    "$$\n",
    "\n",
    "Her kan vi konkludere at det $n$-te leddet kan defineres av en rekursiv formel ved\n",
    "\n",
    "$$\n",
    "a_n = \\frac{1}{2}a_{n-1}, \\qquad n = 2, 3, 4, \\ldots.\n",
    "$$\n",
    "\n",
    "Vi vet ikke hvor mange ledd det er i rekka er heller, så vi kan benytte oss av en `while`-løkke og stoppe når $a_n < 1/2048$. \n",
    "\n"
   ]
  },
  {
   "cell_type": "code",
   "execution_count": 24,
   "metadata": {},
   "outputs": [
    {
     "name": "stdout",
     "output_type": "stream",
     "text": [
      "s = 1.9995\n"
     ]
    }
   ],
   "source": [
    "s = 0\n",
    "n = 1 \n",
    "a = 1 # Først ledd i summen\n",
    "while a >= 1/2048:\n",
    "    s += a # Samme som s = s + a\n",
    "    a /= 2 # Samme som a = a / 2\n",
    "    n += 1 # Samme som n = n + 1\n",
    "\n",
    "print(f\"{s = :.4f}\") # Printer ut med 4 desimaler"
   ]
  },
  {
   "attachments": {},
   "cell_type": "markdown",
   "metadata": {},
   "source": [
    "## Øvingsoppgaver"
   ]
  },
  {
   "attachments": {},
   "cell_type": "markdown",
   "metadata": {},
   "source": [
    "### Oppgave 1\n",
    "\n",
    "Finn summen av rekka \n",
    "\n",
    "$$\n",
    "S = 3 + 9 + 27 + 81 + \\ldots + 59049,\n",
    "$$\n",
    "\n",
    "med en Pythonkode. \n",
    "\n",
    "*Du kan ta utgangspunkt i kodeskallet under. Du må fylle inn der det står `NotImplemented`*."
   ]
  },
  {
   "cell_type": "code",
   "execution_count": null,
   "metadata": {},
   "outputs": [],
   "source": [
    "s = NotImplemented # Lagrer summen\n",
    "n = NotImplemented # Hvilket ledd man er på\n",
    "a = NotImplemented # Verdien til første ledd.\n",
    "while a <= NotImplemented:\n",
    "    s = NotImplemented\n",
    "    a = NotImplemented\n",
    "    n = NotImplemented\n",
    "\n",
    "print(f\"Summen av rekka er {s = }.\")"
   ]
  },
  {
   "attachments": {},
   "cell_type": "markdown",
   "metadata": {},
   "source": [
    "````{dropdown} Løsningsforslag\n",
    "\n",
    "Her vil en implisitt formel for det $n$-te leddet være\n",
    "\n",
    "$$\n",
    "a_n = 3a_{n-1}, \\qquad n = 2, 3, 4, \\ldots,\n",
    "$$\n",
    "med $a_1 = 3$. Vi kan bruke en `while`-løkke som legger sammen leddene helt til $a_n > 59049$.\n",
    "En Pythonkode for dette blir\n",
    "\n",
    "```python\n",
    "s = 0 # Lagrer summen\n",
    "n = 1 # Hvilket ledd man er på\n",
    "a = 3 # Verdien til første ledd.\n",
    "while a <= 59049:\n",
    "    s += a\n",
    "    a *= 3\n",
    "    n += 1\n",
    "\n",
    "print(f\"Summen av rekka er {s = }.\")\n",
    "```\n",
    "som gir utskriften\n",
    "\n",
    "```console\n",
    "Summen av rekka er s = 88572.\n",
    "```\n",
    "\n",
    "````"
   ]
  },
  {
   "attachments": {},
   "cell_type": "markdown",
   "metadata": {},
   "source": [
    "### Oppgave 2\n",
    "\n",
    "Skriv en Pythonkode som regner ut summen av en rekke \n",
    "\n",
    "$$\n",
    "S = a_1 + a_2 + \\ldots + a_{20},\n",
    "$$\n",
    "\n",
    "der $a_1 = 1$ og \n",
    "\n",
    "$$\n",
    "a_n = 2a_{n-1} - 2n, \\qquad n = 2, 3, 4, \\ldots.\n",
    "$$\n",
    "\n",
    "*Du kan ta utgangspunkt i kodeskaller under. Du må fylle inn der det står `NotImplemented`*."
   ]
  },
  {
   "cell_type": "code",
   "execution_count": null,
   "metadata": {},
   "outputs": [],
   "source": [
    "s = NotImplemented # Lagrer summen\n",
    "n = NotImplemented # Leddnummer\n",
    "a = NotImplemented # Første ledd\n",
    "while NotImplemented: # Sett en betingelse for når while-løkka skal stoppe.\n",
    "    s = NotImplemented\n",
    "    a = NotImplemented \n",
    "    n = NotImplemented\n",
    "\n",
    "print(f\"Summen av rekka er {s = }.\")"
   ]
  },
  {
   "attachments": {},
   "cell_type": "markdown",
   "metadata": {},
   "source": [
    "````{dropdown} Løsningsforslag\n",
    "\n",
    "```python\n",
    "s = 0\n",
    "n = 1\n",
    "a = 1\n",
    "while n <= 20:\n",
    "    s += a\n",
    "    a = 2 * a - 2 * n\n",
    "    n += 1\n",
    "\n",
    "print(f\"Summen av rekka er {s = }.\")\n",
    "```\n",
    "\n",
    "som gir utskriften\n",
    "\n",
    "```console\n",
    "Summen av rekka er s = -3145265.\n",
    "```\n",
    "\n",
    "````"
   ]
  },
  {
   "attachments": {},
   "cell_type": "markdown",
   "metadata": {},
   "source": [
    "### Oppgave 3\n",
    "\n",
    "Skriv en Pythonkode som regner ut summen av en rekke\n",
    "\n",
    "$$\n",
    "S = 16 + 4 + 1 + \\frac{1}{4} + \\frac{1}{16} + \\ldots \n",
    "$$\n",
    "\n",
    "Her har du en uendelig rekke. Problemet er vi ikke faktisk kan summere uendelig mange ledd med Python. Men vi kan summere mange nok ledd til at vi er fornøyde. I praksis kan vi stoppe å legge til ledd når $a_n < 10^{-8}$ for eksempel. Å legge til flere ledd etter dette vil ha en veldig liten påvirkning på verdien av summen og vi kan i praksis ofte konkludere hva summen av den uendelig rekka er basert på det du får fra koden.\n",
    "\n",
    "\n",
    "*Du kan ta utgangspunkt i kodeskaller under. Du må fylle inn der det står `NotImplemented`*."
   ]
  },
  {
   "cell_type": "code",
   "execution_count": null,
   "metadata": {},
   "outputs": [],
   "source": [
    "s = NotImplemented # Lagrer summen\n",
    "n = NotImplemented # Leddnummer\n",
    "a = NotImplemented # Første ledd\n",
    "while NotImplemented: # Sett en betingelse for når while-løkka skal stoppe.\n",
    "    s = NotImplemented\n",
    "    a = NotImplemented\n",
    "    n = NotImplemented\n",
    "\n",
    "print(f\"Summen av rekka er {s = }.\")"
   ]
  },
  {
   "attachments": {},
   "cell_type": "markdown",
   "metadata": {},
   "source": [
    "````{dropdown} Løsningsforslag\n",
    "\n",
    "Her kan vi observere at det $n$-te leddet kan bestemmes rekursivt ved\n",
    "\n",
    "$$\n",
    "a_n = \\frac{1}{4}a_{n-1}, \\qquad n = 2, 3, 4, \\ldots,\n",
    "$$\n",
    "\n",
    "med $a_1 = 16$. Vi kan bruke en `while`-løkke som legger sammen leddene helt til $a_n < 10^{-8}$. Da blir koden slik:\n",
    "\n",
    "```python\n",
    "s = 0 # Lagrer summen\n",
    "n = 1 # Leddnummer\n",
    "a = 16 # Første ledd\n",
    "while a >= 1e-8: # Sett en betingelse for når while-løkka skal stoppe.\n",
    "    s += a\n",
    "    a /= 4\n",
    "    n += 1\n",
    "\n",
    "print(f\"Summen av rekka {s = }.\")\n",
    "```\n",
    "\n",
    "som gir utskriften\n",
    "\n",
    "```console\n",
    "Summen av rekka s = 21.33333332836628.\n",
    "```\n",
    "\n",
    "som betyr at $S \\to 21.3333\\ldots$ når $n \\to \\infty$. \n",
    "\n",
    "Summen kan derfor uttrykkes som \n",
    "\n",
    "$$\n",
    "S = 21 + 0.33333... = 21 + \\frac{1}{3} = \\frac{64}{3},\n",
    "$$\n",
    "\n",
    "som er også verdien vi får med å bruke formelen for en uendelig geometrisk rekke med $a_1 = 16$ og $k = 1/4$:\n",
    "\n",
    "$$\n",
    "S = \\frac{a_1}{1 - k} = \\frac{16}{1 - 1/4} = \\frac{16}{3/4} = \\frac{64}{3}.\n",
    "$$\n",
    "\n",
    "\n",
    "````"
   ]
  }
 ],
 "metadata": {
  "kernelspec": {
   "display_name": "Python 3",
   "language": "python",
   "name": "python3"
  },
  "language_info": {
   "codemirror_mode": {
    "name": "ipython",
    "version": 3
   },
   "file_extension": ".py",
   "mimetype": "text/x-python",
   "name": "python",
   "nbconvert_exporter": "python",
   "pygments_lexer": "ipython3",
   "version": "3.11.4"
  },
  "orig_nbformat": 4
 },
 "nbformat": 4,
 "nbformat_minor": 2
}
