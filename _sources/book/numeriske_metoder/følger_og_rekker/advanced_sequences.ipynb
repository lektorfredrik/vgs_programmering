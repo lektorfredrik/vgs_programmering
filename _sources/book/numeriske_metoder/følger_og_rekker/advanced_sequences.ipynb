{
 "cells": [
  {
   "attachments": {},
   "cell_type": "markdown",
   "metadata": {},
   "source": [
    "# Praktiske Anvendelser av Rekker "
   ]
  }
 ],
 "metadata": {
  "language_info": {
   "name": "python"
  },
  "orig_nbformat": 4
 },
 "nbformat": 4,
 "nbformat_minor": 2
}
