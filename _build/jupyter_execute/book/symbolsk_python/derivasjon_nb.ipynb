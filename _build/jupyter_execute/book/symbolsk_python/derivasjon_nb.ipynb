{
 "cells": [
  {
   "attachments": {},
   "cell_type": "markdown",
   "metadata": {},
   "source": [
    "# Symbolsk Derivasjon med `sympy`\n",
    "\n",
    "Å derivere funksjoner er i prinsippet en enkel sak der man kan følge en oppskrift slavisk å ende opp med riktig derivert til slutt. Men noen funksjoner kan være kompliserte nok til at det kan være tidkrevende å regne ut den deriverte, eller lett å gjøre feil. Her skal vi se på noen eksempler på hvordan man kan finne uttrykket for den deriverte til en funksjon $f$ ved å bruke `sympy.diff` til å derivere symbolsk.\n",
    "\n",
    "## Eksempel 1: Derivasjon av et polynom\n",
    "\n",
    "La oss tenke oss at vi ønsker å finne den deriverte til polynomet\n",
    "\n",
    "$$\n",
    "f(x) = x^3 + 4x^2 + 3x - 1.\n",
    "$$\n",
    "\n",
    "Følger vi derivasjonsregelen $(x^n)' = nx^{n-1}$ får vi \n",
    "\n",
    "$$\n",
    "f'(x) = 3x^2 + 8x + 3.\n",
    "$$\n",
    "\n",
    "Med sympy kan vi oppnå det samme med koden "
   ]
  },
  {
   "cell_type": "code",
   "execution_count": 1,
   "metadata": {},
   "outputs": [
    {
     "name": "stdout",
     "output_type": "stream",
     "text": [
      "   2          \n",
      "3⋅x  + 8⋅x + 3\n"
     ]
    }
   ],
   "source": [
    "import sympy as sp\n",
    "x = sp.symbols(\"x\")\n",
    "f = x**3 + 4 * x**2 + 3*x - 1 # Funksjonen vi skal derivere.\n",
    "dfdx = sp.diff(f, x) # Deriverte av f med hensyn på x.\n",
    "sp.pprint(dfdx)"
   ]
  },
  {
   "attachments": {},
   "cell_type": "markdown",
   "metadata": {},
   "source": [
    "som gir oss akkurat det samme uttrykket for den deriverte!"
   ]
  },
  {
   "attachments": {},
   "cell_type": "markdown",
   "metadata": {},
   "source": [
    "## Eksempel 2: Derivasjon av sammensatte funksjoner\n",
    "\n",
    "Funksjoner der man må benytte seg av produktregel, brøkregel, kjerneregel eller en kombinasjon av disse kan være tungvinte å derivere for hånd. Som eksempel, la oss se på den deriverte av\n",
    "\n",
    "$$\n",
    "f(x) = e^{(x^2 + 1)^2}.\n",
    "$$\n",
    "\n",
    "Dette uttrykket er et mareritt å derivere for hånd. Hvis vi skal være forsiktige å sørge for at vi får dette rett, bør vi definere \n",
    "\n",
    "- En kjerne $u(x) = x^2 + 1$.\n",
    "- En annen kjerne $v(u) = u^2$.\n",
    "\n",
    "Den deriverte blir da\n",
    "\n",
    "$$\n",
    "f'(x) = e^{(x^2 + 1)^2}v'(u)u'(x) = e^{(x^2 + 1)^2} \\cdot 2u(x) \\cdot 2x = 4x(x^2 + 1)e^{(x^2 + 1)^2}.\n",
    "$$\n",
    "\n",
    "Dette kan være mye å holde styr på. Med `sympy` kan vi gjøre det enkelt med koden:"
   ]
  },
  {
   "cell_type": "code",
   "execution_count": 2,
   "metadata": {},
   "outputs": [
    {
     "name": "stdout",
     "output_type": "stream",
     "text": [
      "              ⎛        2⎞\n",
      "              ⎜⎛ 2    ⎞ ⎟\n",
      "    ⎛ 2    ⎞  ⎝⎝x  + 1⎠ ⎠\n",
      "4⋅x⋅⎝x  + 1⎠⋅ℯ           \n"
     ]
    }
   ],
   "source": [
    "import sympy as sp\n",
    "x = sp.symbols(\"x\")\n",
    "f = sp.exp((x**2 + 1)**2) #funksjonen vi skal derivere\n",
    "dfdx = sp.diff(f, x) #deriverte av f med hensyn på x\n",
    "sp.pprint(dfdx)"
   ]
  },
  {
   "attachments": {},
   "cell_type": "markdown",
   "metadata": {},
   "source": [
    "Igjen, får vi akkurat det samme uttrykket uten å måtte bruke et snev av hjernekraft på å holde styr på kjerne 1 og kjerne 2 når vi deriverer!"
   ]
  },
  {
   "attachments": {},
   "cell_type": "markdown",
   "metadata": {},
   "source": [
    "## Eksempel 3: Derivasjon av sammensatte funksjoner 2\n",
    "\n",
    "La oss se på et siste eksempel der vi skal derivere en sammensatt funksjon. Denne gangen skal vi derivere\n",
    "\n",
    "$$\n",
    "f(x) = \\frac{xe^{x^2} - 1}{x}.\n",
    "$$\n",
    "\n",
    "For å derivere denne funksjonen må man både bruke produktregel og brøkregel. La oss minne oss på disse reglene:\n",
    "\n",
    "1. Produktregel: $(uv)' = u'v + uv'$,\n",
    "2. Brøkregel: $\\left(\\frac{u}{v}\\right)' = \\frac{u'v - uv'}{v^2}$."
   ]
  },
  {
   "attachments": {},
   "cell_type": "markdown",
   "metadata": {},
   "source": [
    "La oss i lys av dette definere $g = xe^{x^2} - 1$ og $h = x$. Da blir den deriverte av $f$ gitt ved \n",
    "\n",
    "$$\n",
    "f'(x) = \\frac{g'h - gh'}{h^2} = \\frac{(e^{x^2} + 2x^2e^{x^2})x - (xe^{x^2} - 1)}{x^2} = \\frac{2x^2e^{x^2} + 1}{x^2} = 2xe^{x^2} + \\frac{1}{x^2}.\n",
    "$$\n",
    "\n",
    "Nok et mareritt av en derivasjonsoperasjon kunne vært unngått om vi bare hadde brukt `sympy` fra starten av:"
   ]
  },
  {
   "cell_type": "code",
   "execution_count": 10,
   "metadata": {},
   "outputs": [
    {
     "name": "stdout",
     "output_type": "stream",
     "text": [
      "      ⎛ 2⎞    ⎛ 2⎞      ⎛ 2⎞    \n",
      "   2  ⎝x ⎠    ⎝x ⎠      ⎝x ⎠    \n",
      "2⋅x ⋅ℯ     + ℯ       x⋅ℯ     - 1\n",
      "────────────────── - ───────────\n",
      "        x                  2    \n",
      "                          x     \n"
     ]
    }
   ],
   "source": [
    "import sympy as sp\n",
    "x = sp.symbols(\"x\")\n",
    "f = (x * sp.exp(x**2) - 1) / x #funksjonen vi skal derivere\n",
    "dfdx = sp.diff(f, x) #deriverte av f med hensyn på x\n",
    "sp.pprint(dfdx)"
   ]
  },
  {
   "attachments": {},
   "cell_type": "markdown",
   "metadata": {},
   "source": [
    "Det kan være en smule vanskelig å se at dette faktisk er det samme uttrykket, men vi kan benytte oss av `sp.simplify` funksjonen som gir oss det enkleste uttrykket for den deriverte:"
   ]
  },
  {
   "cell_type": "code",
   "execution_count": 11,
   "metadata": {},
   "outputs": [
    {
     "name": "stdout",
     "output_type": "stream",
     "text": [
      "     ⎛ 2⎞     \n",
      "     ⎝x ⎠   1 \n",
      "2⋅x⋅ℯ     + ──\n",
      "             2\n",
      "            x \n"
     ]
    }
   ],
   "source": [
    "dfdx = sp.simplify(dfdx)\n",
    "sp.pprint(dfdx)"
   ]
  },
  {
   "attachments": {},
   "cell_type": "markdown",
   "metadata": {},
   "source": [
    "som samsvarer med det vi fikk for hånd."
   ]
  },
  {
   "cell_type": "code",
   "execution_count": null,
   "metadata": {},
   "outputs": [],
   "source": []
  }
 ],
 "metadata": {
  "kernelspec": {
   "display_name": "Python 3",
   "language": "python",
   "name": "python3"
  },
  "language_info": {
   "codemirror_mode": {
    "name": "ipython",
    "version": 3
   },
   "file_extension": ".py",
   "mimetype": "text/x-python",
   "name": "python",
   "nbconvert_exporter": "python",
   "pygments_lexer": "ipython3",
   "version": "3.11.3"
  }
 },
 "nbformat": 4,
 "nbformat_minor": 2
}