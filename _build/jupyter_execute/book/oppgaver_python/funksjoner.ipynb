{
 "cells": [
  {
   "attachments": {},
   "cell_type": "markdown",
   "metadata": {},
   "source": [
    "# Lage Funksjoner med Python\n",
    "\n",
    "Se på teorien om [Python funksjoner](../funksjoner/introduksjon.md) og [elementære funksjoner i python](../funksjoner/element%C3%A6re_fn.md) hvis du trenger bakgrunnstoff til å løse oppgavene.\n"
   ]
  },
  {
   "attachments": {},
   "cell_type": "markdown",
   "metadata": {},
   "source": [
    "## Oppgaver\n"
   ]
  },
  {
   "attachments": {},
   "cell_type": "markdown",
   "metadata": {},
   "source": [
    "### Oppgave 1\n",
    "\n",
    "Lag en python funksjon for funksjonen\n",
    "\n",
    "$$\n",
    "f(x) = 2x + 3.\n",
    "$$\n",
    "\n",
    "*Du kan ta utgangspunkt i kodeskallet under. Du må fylle inn delene der det står `NotImplemented`*"
   ]
  },
  {
   "cell_type": "code",
   "execution_count": 1,
   "metadata": {},
   "outputs": [],
   "source": [
    "def f(x):\n",
    "    return NotImplemented"
   ]
  },
  {
   "cell_type": "code",
   "execution_count": 2,
   "metadata": {},
   "outputs": [
    {
     "ename": "ValueError",
     "evalue": "Det er noe galt med funksjonen f(x). Den skal returnere 7 når x=2.",
     "output_type": "error",
     "traceback": [
      "\u001b[0;31m---------------------------------------------------------------------------\u001b[0m",
      "\u001b[0;31mValueError\u001b[0m                                Traceback (most recent call last)",
      "Cell \u001b[0;32mIn[2], line 6\u001b[0m\n\u001b[1;32m      4\u001b[0m     \u001b[38;5;28;01mif\u001b[39;00m f(x) \u001b[38;5;241m!=\u001b[39m forventet_verdi:\n\u001b[1;32m      5\u001b[0m         \u001b[38;5;28;01mraise\u001b[39;00m \u001b[38;5;167;01mValueError\u001b[39;00m(\u001b[38;5;124m\"\u001b[39m\u001b[38;5;124mDet er noe galt med funksjonen f(x). Den skal returnere 7 når x=2.\u001b[39m\u001b[38;5;124m\"\u001b[39m)\n\u001b[0;32m----> 6\u001b[0m \u001b[43mtest_f\u001b[49m\u001b[43m(\u001b[49m\u001b[43m)\u001b[49m\n",
      "Cell \u001b[0;32mIn[2], line 5\u001b[0m, in \u001b[0;36mtest_f\u001b[0;34m()\u001b[0m\n\u001b[1;32m      3\u001b[0m forventet_verdi \u001b[38;5;241m=\u001b[39m \u001b[38;5;241m7\u001b[39m\n\u001b[1;32m      4\u001b[0m \u001b[38;5;28;01mif\u001b[39;00m f(x) \u001b[38;5;241m!=\u001b[39m forventet_verdi:\n\u001b[0;32m----> 5\u001b[0m     \u001b[38;5;28;01mraise\u001b[39;00m \u001b[38;5;167;01mValueError\u001b[39;00m(\u001b[38;5;124m\"\u001b[39m\u001b[38;5;124mDet er noe galt med funksjonen f(x). Den skal returnere 7 når x=2.\u001b[39m\u001b[38;5;124m\"\u001b[39m)\n",
      "\u001b[0;31mValueError\u001b[0m: Det er noe galt med funksjonen f(x). Den skal returnere 7 når x=2."
     ]
    }
   ],
   "source": [
    "def test_f():\n",
    "    x = 2\n",
    "    forventet_verdi = 7\n",
    "    if f(x) != forventet_verdi:\n",
    "        raise ValueError(\"Det er noe galt med funksjonen f(x). Den skal returnere 7 når x=2.\")\n",
    "test_f()"
   ]
  },
  {
   "attachments": {},
   "cell_type": "markdown",
   "metadata": {},
   "source": [
    "### Oppgave 2\n",
    "\n",
    "Lag en Python funksjon for funksjonen\n",
    "\n",
    "$$\n",
    "g(x) = x^2 - 2x + 1.\n",
    "$$\n",
    "\n",
    "*Du kan ta utgangspunkt i kodeskallet under. Du må fylle inn delene der det står `NotImplemented`*"
   ]
  },
  {
   "cell_type": "code",
   "execution_count": null,
   "metadata": {},
   "outputs": [],
   "source": [
    "def g(x):\n",
    "    return NotImplemented"
   ]
  },
  {
   "cell_type": "code",
   "execution_count": null,
   "metadata": {},
   "outputs": [],
   "source": [
    "def test_g():\n",
    "    x = 1\n",
    "    forventet_verdi = 2\n",
    "    if g(x) != forventet_verdi:\n",
    "        raise ValueError(\"Det er noe galt med funksjonen g(x). Den skal returnere 2 når x=1.\")\n",
    "test_g()"
   ]
  },
  {
   "attachments": {},
   "cell_type": "markdown",
   "metadata": {},
   "source": [
    "### Oppgave 3\n",
    "\n",
    "Lag en Python funksjon for funksjonen\n",
    "\n",
    "$$\n",
    "h(x) = \\frac{e^x - 1}{x + 1}.\n",
    "$$\n",
    "\n",
    "\n",
    "*Du kan ta utgangspunkt i kodeskallet under. Du må fylle inn delene der det står `NotImplemented`*"
   ]
  },
  {
   "cell_type": "code",
   "execution_count": null,
   "metadata": {},
   "outputs": [],
   "source": [
    "import math # Trengs for å bruke eksponentialfunksjonen.\n",
    "\n",
    "def h(NotImplemented):\n",
    "    return NotImplemented"
   ]
  },
  {
   "cell_type": "code",
   "execution_count": null,
   "metadata": {},
   "outputs": [],
   "source": [
    "def test_h():\n",
    "    x = 0\n",
    "    forventet_verdi = 0\n",
    "    if h(x) != forventet_verdi:\n",
    "        raise ValueError(\"Det er noe galt med funksjonen h(x). Den skal returnere 0 når x=0.\")\n",
    "test_h()"
   ]
  }
 ],
 "metadata": {
  "language_info": {
   "codemirror_mode": {
    "name": "ipython",
    "version": 3
   },
   "file_extension": ".py",
   "mimetype": "text/x-python",
   "name": "python",
   "nbconvert_exporter": "python",
   "pygments_lexer": "ipython3",
   "version": "3.11.3"
  }
 },
 "nbformat": 4,
 "nbformat_minor": 2
}