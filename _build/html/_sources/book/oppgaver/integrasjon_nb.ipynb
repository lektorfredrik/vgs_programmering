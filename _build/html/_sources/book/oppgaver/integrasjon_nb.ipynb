{
 "cells": [
  {
   "attachments": {},
   "cell_type": "markdown",
   "metadata": {},
   "source": [
    "# Oppgaver: Numerisk Integrasjon"
   ]
  },
  {
   "attachments": {},
   "cell_type": "markdown",
   "metadata": {},
   "source": [
    "## Oppgave 1\n",
    "\n",
    "Bruk trapesmetoden til å regne ut en tilnærming til integralet\n",
    "\n",
    "$$\n",
    "I = \\int\\limits_0^1 \\frac{4}{1+x^2} dx\n",
    "$$"
   ]
  },
  {
   "cell_type": "code",
   "execution_count": null,
   "metadata": {},
   "outputs": [],
   "source": [
    "def f(x):\n",
    "    return NotImplemented\n",
    "\n",
    "\n",
    "def trapesmetoden(f, a, b, n):\n",
    "    return NotImplemented"
   ]
  }
 ],
 "metadata": {
  "language_info": {
   "name": "python"
  },
  "orig_nbformat": 4
 },
 "nbformat": 4,
 "nbformat_minor": 2
}
