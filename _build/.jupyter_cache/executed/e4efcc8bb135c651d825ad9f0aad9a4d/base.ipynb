{
 "cells": [
  {
   "cell_type": "code",
   "execution_count": 1,
   "metadata": {},
   "outputs": [],
   "source": [
    "def f(x):\n",
    "    \"\"\"Funksjonen som skal integreres.\"\"\"\n",
    "    return NotImplemented\n",
    "\n",
    "\n",
    "def trapesmetoden(f, a, b, n):\n",
    "    return NotImplemented\n",
    "\n",
    "\n",
    "integral = trapesmetoden(f=f, a=0, b=1, n=10000) # Eksempel på funksjonskall når koden er ferdig."
   ]
  },
  {
   "cell_type": "code",
   "execution_count": 2,
   "metadata": {},
   "outputs": [],
   "source": [
    "import math\n",
    "def f(x):\n",
    "    \"\"\"Funksjonen som skal integreres.\"\"\"\n",
    "    return NotImplemented\n",
    "\n",
    "def midtpunktsmetoden(f, a, b, n):\n",
    "    return NotImplemented\n",
    "\n",
    "integral = midtpunktsmetoden(f=f, a=0, b=1000, n=10000) # eksempel på funksjonskall\n"
   ]
  },
  {
   "cell_type": "code",
   "execution_count": 3,
   "metadata": {},
   "outputs": [],
   "source": [
    "import math\n",
    "def f(x):\n",
    "    \"\"\"Funksjonen som skal integreres\"\"\"\n",
    "    return NotImplemented\n",
    "\n",
    "def midtpunktsmetoden(f, a, b, n):\n",
    "    return NotImplemented\n",
    "\n",
    "integral = midtpunktsmetoden(f=f, a=0, b=1, n=10000) # eksempel på funksjonskall"
   ]
  },
  {
   "cell_type": "code",
   "execution_count": 4,
   "metadata": {},
   "outputs": [],
   "source": [
    "import math\n",
    "def cos_squared(x):\n",
    "    \"\"\"Returnerer funksjonsverdien til cos^2(x)\"\"\"\n",
    "    return NotImplemented\n",
    "\n",
    "def sin_squared(x):\n",
    "    \"\"\"Returnerer funksjonsverdien til sin^2(x)\"\"\"\n",
    "    return NotImplemented\n",
    "\n",
    "def midtpunktsmetoden(f, a, b, n):\n",
    "    return NotImplemented\n",
    "\n",
    "I1 = midtpunktsmetoden(f=cos_squared, a=0, b=2 * math.pi, n=10000) # eksempel på funksjonskall\n",
    "I2 = midtpunktsmetoden(f=sin_squared, a=0, b=2 * math.pi, n=10000) # eksempel på funksjonskall"
   ]
  },
  {
   "cell_type": "code",
   "execution_count": 5,
   "metadata": {},
   "outputs": [],
   "source": [
    "\n",
    "import math\n",
    "import random\n",
    "def f(x):\n",
    "    \"\"\"Funksjonen som skal integreres.\n",
    "    \n",
    "    f(x) = 2 / sqrt(1 - x^2).\n",
    "\n",
    "    \"\"\"\n",
    "    return NotImplemented\n",
    "\n",
    "\n",
    "def monte_carlo_integrasjon(f, a, b, n):\n",
    "    return NotImplemented\n",
    "\n",
    "\n",
    "I = monte_carlo_integrasjon(f=f, a=0, b=1, n=100000) # eksempel på funksjonskall"
   ]
  }
 ],
 "metadata": {
  "language_info": {
   "codemirror_mode": {
    "name": "ipython",
    "version": 3
   },
   "file_extension": ".py",
   "mimetype": "text/x-python",
   "name": "python",
   "nbconvert_exporter": "python",
   "pygments_lexer": "ipython3",
   "version": "3.11.3"
  }
 },
 "nbformat": 4,
 "nbformat_minor": 2
}