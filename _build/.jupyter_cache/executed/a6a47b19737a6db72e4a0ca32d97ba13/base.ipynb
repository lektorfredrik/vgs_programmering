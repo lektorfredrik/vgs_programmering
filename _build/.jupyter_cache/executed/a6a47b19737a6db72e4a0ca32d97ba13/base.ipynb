{
 "cells": [
  {
   "cell_type": "code",
   "execution_count": 1,
   "metadata": {},
   "outputs": [],
   "source": [
    "def kollisjon(v, V, m, M):\n",
    "    \"\"\"Tar inn hastighetene v og V til to legemer med massene m og M,\n",
    "    og returnerer hastighetene v_neste og V_neste etter kollisjonen.\n",
    "    \"\"\"\n",
    "    v_neste = (m - M) / (m + M) * v + 2 * M / (m + M) * V\n",
    "    V_neste = 2 * m / (m + M) * v + (M - m) / (m + M) * V\n",
    "    return v_neste, V_neste\n"
   ]
  },
  {
   "cell_type": "code",
   "execution_count": 2,
   "metadata": {},
   "outputs": [],
   "source": [
    "def test_kollisjon():\n",
    "    \"\"\"Tester kollisjonsfunksjonen for tilfelle der v = 0, V = -1, m = 1, M = 1.\n",
    "    Da skal v_neste = -1 og V_neste = 0. Gir en feilmelding hvis dette ikke stemmer.\n",
    "    \"\"\"\n",
    "    v = 0\n",
    "    V = -1\n",
    "    m = 1\n",
    "    M = 1\n",
    "    v_neste, V_neste = kollisjon(v, V, m, M)\n",
    "    assert v_neste == -1 and V_neste == 0, \"Feil i kollisjon(v, V, m, M). Testen feilet for v = 0, V = -1, m = 1, M = 1.\"\n",
    "\n",
    "    v = 1\n",
    "    V = 0\n",
    "    m = 1\n",
    "    M = 1\n",
    "    v_neste, V_neste = kollisjon(v, V, m, M)\n",
    "    assert v_neste == 0 and V_neste == 1, \"Feil i kollisjon(v, V, m, M). Testen feilet for v = 1, V = 0, m = 1, M = 1.\"\n",
    "test_kollisjon()"
   ]
  },
  {
   "cell_type": "code",
   "execution_count": 3,
   "metadata": {},
   "outputs": [],
   "source": [
    "def simuler_kollisjoner(v, V, m, M, dt=0.001):\n",
    "    \"\"\"Simulerer kollisjoner mellom en kloss med masse m og en kloss med masse M,\n",
    "    der klossene har hastighetene v og V ved start. \n",
    "\n",
    "    Argumenter:\n",
    "        v: Hastighet til liten kloss ved start.\n",
    "        V: Hastighet til stor kloss ved start.\n",
    "        m: Masse til liten kloss.\n",
    "        M: Masse til stor kloss.\n",
    "        dt: Tidssteg for simuleringen. Default: 0.001\n",
    "    \n",
    "    Returnerer:\n",
    "        antall_kollisjoner: Antall kollisjoner som har skjedd i løpet av simuleringen.\n",
    "    \"\"\"\n",
    "    x = 0.5 # startposisjon til liten kloss\n",
    "    X = 1 # startposisjon til stor kloss.\n",
    "    antall_kollisjoner = 0\n",
    "\n",
    "    while True: # Kjører helt til vi manuelt bryter ut av løkken med `break`.\n",
    "        # Sjekk om liten kloss treffer veggen og oppdater hastighet hvis den gjør det.\n",
    "        if x < 0: # når x < 0, har den lille klossen gått inn i veggen, så vi må snu den rundt! \n",
    "            v = -v # Klossen reflekterer av veggen!\n",
    "            antall_kollisjoner += 1\n",
    "\n",
    "\n",
    "        # Sjekk om liten kloss og stor kloss kolliderer og oppdater hastighetene hvis de gjør det.\n",
    "        elif X < x: # Dersom X < x, har stor kloss passert gjennom liten kloss. Dette er en kollisjon!\n",
    "            v, V = kollisjon(v, V, m, M)\n",
    "            antall_kollisjoner += 1\n",
    "\n",
    "        if v >= 0 and V >= 0 and V >= v: # Klossene kan aldri lenger treffe hverandre. Vi avslutter simuleringen.\n",
    "            break\n",
    "        \n",
    "        x = x + v * dt # Oppdater posisjon til liten kloss. x = x + v * dt\n",
    "        X = X + V * dt # Oppdater posisjonen til stor kloss.\n",
    "\n",
    "\n",
    "    return antall_kollisjoner"
   ]
  },
  {
   "cell_type": "code",
   "execution_count": 4,
   "metadata": {},
   "outputs": [],
   "source": [
    "def test_simuler_kollisjoner():\n",
    "    antall_kollisjoner = simuler_kollisjoner(v=0, V=-1, m=1, M=1, dt=0.001)\n",
    "    if antall_kollisjoner != 3:\n",
    "        raise ValueError(\n",
    "        f\"\"\"\n",
    "        Feil i simuler_kollisjoner(v, V, m, M, dt, max_tid). Testen feilet for v = 0, V = -1, m = 1, M = 1.\n",
    "        Antall kollisjoner skulle vært 3, men koden din returnerte {antall_kollisjoner}\n",
    "        \"\"\"\n",
    "        )\n",
    "\n",
    "    antall_kollisjoner = simuler_kollisjoner(v=0, V=-1, m=1, M=100, dt=0.001)\n",
    "    if antall_kollisjoner != 31:\n",
    "        raise ValueError(f\"Antall kollisjoner skulle vært 31 når m=1 og M=100. Koden din returnerte {antall_kollisjoner}.\")\n",
    "    \n",
    "    antall_kollisjoner = simuler_kollisjoner(v=0, V=-1, m=1, M=100**2, dt=0.001)\n",
    "    if antall_kollisjoner != 314:\n",
    "        raise ValueError(f\"Antall kollisjoner skulle vært 314 når m=1 og M=100**2. Koden din returnerte {antall_kollisjoner}.\")\n",
    "        \n",
    "    \n",
    "test_simuler_kollisjoner()"
   ]
  },
  {
   "cell_type": "code",
   "execution_count": 5,
   "metadata": {},
   "outputs": [
    {
     "name": "stdout",
     "output_type": "stream",
     "text": [
      "p = 0 ; antall_kollisjoner = 3\n",
      "p = 1 ; antall_kollisjoner = 31\n",
      "p = 2 ; antall_kollisjoner = 314\n",
      "p = 3 ; antall_kollisjoner = 3141\n",
      "p = 4 ; antall_kollisjoner = 31415\n",
      "p = 5 ; antall_kollisjoner = 314159\n"
     ]
    },
    {
     "name": "stdout",
     "output_type": "stream",
     "text": [
      "p = 6 ; antall_kollisjoner = 3141592\n"
     ]
    },
    {
     "name": "stdout",
     "output_type": "stream",
     "text": [
      "p = 7 ; antall_kollisjoner = 31415926\n"
     ]
    }
   ],
   "source": [
    "# p + 1 siffer av pi for p = 0, 1, 2, ..., 7:\n",
    "for p in range(8):\n",
    "    antall_kollisjoner = simuler_kollisjoner(v=0, V=-1, m=1, M=100**p, dt=0.001)\n",
    "    print(f\"{p = } ; {antall_kollisjoner = }\")"
   ]
  }
 ],
 "metadata": {
  "kernelspec": {
   "display_name": "Python 3",
   "language": "python",
   "name": "python3"
  },
  "language_info": {
   "codemirror_mode": {
    "name": "ipython",
    "version": 3
   },
   "file_extension": ".py",
   "mimetype": "text/x-python",
   "name": "python",
   "nbconvert_exporter": "python",
   "pygments_lexer": "ipython3",
   "version": "3.11.3"
  }
 },
 "nbformat": 4,
 "nbformat_minor": 2
}