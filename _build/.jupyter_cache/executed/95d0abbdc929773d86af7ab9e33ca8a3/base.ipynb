{
 "cells": [
  {
   "cell_type": "code",
   "execution_count": 1,
   "metadata": {},
   "outputs": [
    {
     "name": "stdout",
     "output_type": "stream",
     "text": [
      "   2          \n",
      "3⋅x  + 8⋅x + 3\n"
     ]
    }
   ],
   "source": [
    "import sympy as sp\n",
    "x = sp.symbols(\"x\")\n",
    "f = x**3 + 4 * x**2 + 3*x - 1 # Funksjonen vi skal derivere.\n",
    "dfdx = sp.diff(f, x) # Deriverte av f med hensyn på x.\n",
    "sp.pprint(dfdx)"
   ]
  },
  {
   "cell_type": "code",
   "execution_count": 2,
   "metadata": {},
   "outputs": [
    {
     "name": "stdout",
     "output_type": "stream",
     "text": [
      "              ⎛        2⎞\n",
      "              ⎜⎛ 2    ⎞ ⎟\n",
      "    ⎛ 2    ⎞  ⎝⎝x  + 1⎠ ⎠\n",
      "4⋅x⋅⎝x  + 1⎠⋅ℯ           \n"
     ]
    }
   ],
   "source": [
    "import sympy as sp\n",
    "x = sp.symbols(\"x\")\n",
    "f = sp.exp((x**2 + 1)**2) #funksjonen vi skal derivere\n",
    "dfdx = sp.diff(f, x) #deriverte av f med hensyn på x\n",
    "sp.pprint(dfdx)"
   ]
  },
  {
   "cell_type": "code",
   "execution_count": 3,
   "metadata": {},
   "outputs": [
    {
     "name": "stdout",
     "output_type": "stream",
     "text": [
      "      ⎛ 2⎞    ⎛ 2⎞      ⎛ 2⎞    \n",
      "   2  ⎝x ⎠    ⎝x ⎠      ⎝x ⎠    \n",
      "2⋅x ⋅ℯ     + ℯ       x⋅ℯ     - 1\n",
      "────────────────── - ───────────\n",
      "        x                  2    \n",
      "                          x     \n"
     ]
    }
   ],
   "source": [
    "import sympy as sp\n",
    "x = sp.symbols(\"x\")\n",
    "f = (x * sp.exp(x**2) - 1) / x #funksjonen vi skal derivere\n",
    "dfdx = sp.diff(f, x) #deriverte av f med hensyn på x\n",
    "sp.pprint(dfdx)"
   ]
  },
  {
   "cell_type": "code",
   "execution_count": 4,
   "metadata": {},
   "outputs": [
    {
     "name": "stdout",
     "output_type": "stream",
     "text": [
      "     ⎛ 2⎞     \n",
      "     ⎝x ⎠   1 \n",
      "2⋅x⋅ℯ     + ──\n",
      "             2\n",
      "            x \n"
     ]
    }
   ],
   "source": [
    "dfdx = sp.simplify(dfdx)\n",
    "sp.pprint(dfdx)"
   ]
  }
 ],
 "metadata": {
  "kernelspec": {
   "display_name": "Python 3",
   "language": "python",
   "name": "python3"
  },
  "language_info": {
   "codemirror_mode": {
    "name": "ipython",
    "version": 3
   },
   "file_extension": ".py",
   "mimetype": "text/x-python",
   "name": "python",
   "nbconvert_exporter": "python",
   "pygments_lexer": "ipython3",
   "version": "3.11.3"
  }
 },
 "nbformat": 4,
 "nbformat_minor": 2
}