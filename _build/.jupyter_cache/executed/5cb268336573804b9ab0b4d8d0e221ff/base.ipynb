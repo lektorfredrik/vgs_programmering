{
 "cells": [
  {
   "cell_type": "code",
   "execution_count": 1,
   "metadata": {},
   "outputs": [
    {
     "name": "stdout",
     "output_type": "stream",
     "text": [
      "Requirement already satisfied: sympy in /opt/homebrew/lib/python3.11/site-packages (1.11.1)\r\n",
      "Requirement already satisfied: mpmath>=0.19 in /opt/homebrew/lib/python3.11/site-packages (from sympy) (1.3.0)\r\n"
     ]
    },
    {
     "name": "stdout",
     "output_type": "stream",
     "text": [
      "Note: you may need to restart the kernel to use updated packages.\n"
     ]
    }
   ],
   "source": [
    "%pip install sympy # kjør denne kodecellen for å installere sympy først!"
   ]
  },
  {
   "cell_type": "code",
   "execution_count": 2,
   "metadata": {},
   "outputs": [
    {
     "name": "stdout",
     "output_type": "stream",
     "text": [
      " 3\n",
      "x \n",
      "──\n",
      "3 \n"
     ]
    }
   ],
   "source": [
    "import sympy as sp\n",
    "x = sp.symbols(\"x\")\n",
    "f = x**2 # Funksjonen vi skal integrere.\n",
    "I = sp.integrate(f, x)\n",
    "sp.pprint(I) # pprint skriver ut løsningen med mattenotasjon."
   ]
  },
  {
   "cell_type": "code",
   "execution_count": 3,
   "metadata": {},
   "outputs": [
    {
     "name": "stdout",
     "output_type": "stream",
     "text": [
      "⎛   2          ⎞  -x\n",
      "⎝- x  - 2⋅x - 2⎠⋅ℯ  \n"
     ]
    }
   ],
   "source": [
    "import sympy as sp\n",
    "x = sp.symbols(\"x\")\n",
    "f = x**2 * sp.exp(-x) # Funksjonen vi skal integrere\n",
    "I = sp.integrate(f, x)\n",
    "sp.pprint(I)"
   ]
  },
  {
   "cell_type": "code",
   "execution_count": 4,
   "metadata": {},
   "outputs": [
    {
     "name": "stdout",
     "output_type": "stream",
     "text": [
      "8/3\n"
     ]
    }
   ],
   "source": [
    "import sympy as sp\n",
    "x = sp.symbols(\"x\")\n",
    "f = x**2 # Funksjonen vi skal integrere\n",
    "I = sp.integrate(f, (x, 0, 2))\n",
    "sp.pprint(I)"
   ]
  },
  {
   "cell_type": "code",
   "execution_count": 5,
   "metadata": {},
   "outputs": [
    {
     "name": "stdout",
     "output_type": "stream",
     "text": [
      "1\n"
     ]
    }
   ],
   "source": [
    "import sympy as sp\n",
    "x = sp.symbols(\"x\")\n",
    "f = sp.exp(-x) # Funksjonen vi skal integrere\n",
    "I = sp.integrate(f, (x, 0, sp.oo))\n",
    "sp.pprint(I)"
   ]
  },
  {
   "cell_type": "code",
   "execution_count": 6,
   "metadata": {},
   "outputs": [
    {
     "name": "stdout",
     "output_type": "stream",
     "text": [
      "a   b    \n",
      "─ + ─ + c\n",
      "3   2    \n"
     ]
    }
   ],
   "source": [
    "import sympy as sp\n",
    "x, a, b, c = sp.symbols(\"x a b c\")\n",
    "f = a*x**2 + b*x + c # Funksjonen vi skal integrere\n",
    "I = sp.integrate(f, (x, 0, 1)) # Integrerer med hensyn på x fra 0 til 1.\n",
    "sp.pprint(I)"
   ]
  },
  {
   "cell_type": "code",
   "execution_count": 7,
   "metadata": {},
   "outputs": [
    {
     "name": "stdout",
     "output_type": "stream",
     "text": [
      "⎧    1                      π\n",
      "⎪    ─       for │arg(a)│ < ─\n",
      "⎪    a                      2\n",
      "⎪                            \n",
      "⎪∞                           \n",
      "⎨⌠                           \n",
      "⎪⎮  -a⋅x                     \n",
      "⎪⎮ ℯ     dx     otherwise    \n",
      "⎪⌡                           \n",
      "⎪0                           \n",
      "⎩                            \n"
     ]
    }
   ],
   "source": [
    "import sympy as sp\n",
    "x, a = sp.symbols(\"x a\")\n",
    "f = sp.exp(-a * x) # Funksjonen vi skal integrere\n",
    "I = sp.integrate(f, (x, 0, sp.oo))\n",
    "sp.pprint(I)"
   ]
  }
 ],
 "metadata": {
  "kernelspec": {
   "display_name": "Python 3",
   "language": "python",
   "name": "python3"
  },
  "language_info": {
   "codemirror_mode": {
    "name": "ipython",
    "version": 3
   },
   "file_extension": ".py",
   "mimetype": "text/x-python",
   "name": "python",
   "nbconvert_exporter": "python",
   "pygments_lexer": "ipython3",
   "version": "3.11.3"
  }
 },
 "nbformat": 4,
 "nbformat_minor": 2
}